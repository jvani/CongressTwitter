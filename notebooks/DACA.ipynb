{
 "cells": [
  {
   "cell_type": "markdown",
   "metadata": {},
   "source": [
    "# Setup\n",
    "## Imports"
   ]
  },
  {
   "cell_type": "code",
   "execution_count": 1,
   "metadata": {
    "collapsed": false
   },
   "outputs": [
    {
     "data": {
      "text/html": [
       "<script>requirejs.config({paths: { 'plotly': ['https://cdn.plot.ly/plotly-latest.min']},});if(!window.Plotly) {{require(['plotly'],function(plotly) {window.Plotly=plotly;});}}</script>"
      ],
      "text/vnd.plotly.v1+html": [
       "<script>requirejs.config({paths: { 'plotly': ['https://cdn.plot.ly/plotly-latest.min']},});if(!window.Plotly) {{require(['plotly'],function(plotly) {window.Plotly=plotly;});}}</script>"
      ]
     },
     "metadata": {},
     "output_type": "display_data"
    }
   ],
   "source": [
    "from __future__ import print_function\n",
    "\n",
    "import os\n",
    "import json\n",
    "import numpy as np\n",
    "import pandas as pd\n",
    "import plotly.tools as tls\n",
    "import plotly.graph_objs as go\n",
    "import matplotlib.pyplot as plt\n",
    "from matplotlib import cm\n",
    "from matplotlib import colors\n",
    "from itertools import chain\n",
    "from IPython.display import clear_output\n",
    "from plotly.offline import download_plotlyjs, init_notebook_mode, plot, iplot\n",
    "init_notebook_mode(connected=True)\n",
    "%matplotlib inline\n",
    "\n",
    "plt.style.use(\"ggplot\")"
   ]
  },
  {
   "cell_type": "markdown",
   "metadata": {},
   "source": [
    "## DACA\n",
    "### Pull DACA related tweets."
   ]
  },
  {
   "cell_type": "code",
   "execution_count": 2,
   "metadata": {
    "collapsed": true
   },
   "outputs": [],
   "source": [
    "# -- List data files.\n",
    "fnames = os.listdir(\"../data\")\n",
    "# -- List of words that will identify DACA related tweets.\n",
    "daca_words = [\"daca\", \"dreamers\"]"
   ]
  },
  {
   "cell_type": "code",
   "execution_count": 3,
   "metadata": {
    "collapsed": false
   },
   "outputs": [
    {
     "name": "stdout",
     "output_type": "stream",
     "text": [
      "DACA: RepHastingsFL (532/532)                                 \n"
     ]
    }
   ],
   "source": [
    "daca_sentiment = []\n",
    "# -- For each representative...\n",
    "for ii, fname in enumerate(fnames):\n",
    "    # -- Print Status\n",
    "    print(\"DACA: {} ({}/{})                                 \" \\\n",
    "          .format(fname[:-5], ii+1, len(fnames)))\n",
    "    clear_output(wait=True)\n",
    "    # -- Load data file.\n",
    "    rep = json.load(open(os.path.join(\"..\", \"data\", fname), \"r\"))\n",
    "    # -- If there are more than 100 tweets.\n",
    "    if len(rep[\"tweets\"]) > 100:\n",
    "        daca_sent = []\n",
    "        # -- Parse tweets that mention DACA or dreamers.\n",
    "        for tweet in rep[\"tweets\"]:\n",
    "            if any(word in tweet[\"full_text\"].lower() for word in daca_words):\n",
    "                daca_sent.append(tweet[\"analysis\"][\"sentiment\"][\"compound\"])\n",
    "        if rep[\"twitter_account\"] == \"realDonaldTrump\":\n",
    "            name = \"Donald Trump\"\n",
    "        elif rep[\"twitter_account\"] == \"mike_pence\":\n",
    "            name = \"Mike Pence\"\n",
    "        else:\n",
    "            name = rep[\"first_name\"] + \" \" + rep[\"last_name\"]\n",
    "        # -- Append representative data.\n",
    "        daca_sentiment.append([\n",
    "                name,\n",
    "                rep[\"twitter_account\"],\n",
    "                rep.get(\"party\", \"NA\"),\n",
    "                rep.get(\"state\", \"NA\"),\n",
    "                len(rep[\"tweets\"]),\n",
    "                daca_sent])"
   ]
  },
  {
   "cell_type": "markdown",
   "metadata": {},
   "source": [
    "### Create plotting attributes"
   ]
  },
  {
   "cell_type": "code",
   "execution_count": 4,
   "metadata": {
    "collapsed": false
   },
   "outputs": [],
   "source": [
    "# -- Text format for plotly.\n",
    "text = (\"<b>{} ({}-{})</b><br><i>@{}</i><br>\" +\n",
    "        \"<b>{:.2f}% ({} / {})</b>\")\n",
    "# -- Colors for plotly.\n",
    "dcolor = \"rgb({},{},{})\".format(*cm.get_cmap(\"Blues\")(0.6))\n",
    "rcolor = \"rgb({},{},{})\".format(*cm.get_cmap(\"Reds\")(0.6))\n",
    "ecolor = \"rgb({},{},{})\".format(255, 165, 0)\n",
    "icolor = \"rgb({},{},{})\".format(*cm.get_cmap(\"gist_gray_r\")(0.6))"
   ]
  },
  {
   "cell_type": "code",
   "execution_count": 5,
   "metadata": {
    "collapsed": false
   },
   "outputs": [
    {
     "data": {
      "text/html": [
       "<div>\n",
       "<style>\n",
       "    .dataframe thead tr:only-child th {\n",
       "        text-align: right;\n",
       "    }\n",
       "\n",
       "    .dataframe thead th {\n",
       "        text-align: left;\n",
       "    }\n",
       "\n",
       "    .dataframe tbody tr th {\n",
       "        vertical-align: top;\n",
       "    }\n",
       "</style>\n",
       "<table border=\"1\" class=\"dataframe\">\n",
       "  <thead>\n",
       "    <tr style=\"text-align: right;\">\n",
       "      <th></th>\n",
       "      <th>full_name</th>\n",
       "      <th>twitter_account</th>\n",
       "      <th>party</th>\n",
       "      <th>state</th>\n",
       "      <th>ntweets</th>\n",
       "      <th>daca_sent</th>\n",
       "      <th>ndaca_tweets</th>\n",
       "      <th>ndaca_percent</th>\n",
       "      <th>colors</th>\n",
       "      <th>xx</th>\n",
       "      <th>yy</th>\n",
       "      <th>text</th>\n",
       "    </tr>\n",
       "  </thead>\n",
       "  <tbody>\n",
       "    <tr>\n",
       "      <th>0</th>\n",
       "      <td>Richard Durbin</td>\n",
       "      <td>SenatorDurbin</td>\n",
       "      <td>D</td>\n",
       "      <td>IL</td>\n",
       "      <td>3247</td>\n",
       "      <td>[-0.6124, 0.0772, -0.128, 0.8298, 0.4939, 0.0,...</td>\n",
       "      <td>408</td>\n",
       "      <td>12.565445</td>\n",
       "      <td>rgb(0.290980392157,0.594509803922,0.789019607843)</td>\n",
       "      <td>0</td>\n",
       "      <td>0</td>\n",
       "      <td>&lt;b&gt;Richard Durbin (D-IL)&lt;/b&gt;&lt;br&gt;&lt;i&gt;@SenatorDur...</td>\n",
       "    </tr>\n",
       "  </tbody>\n",
       "</table>\n",
       "</div>"
      ],
      "text/plain": [
       "        full_name twitter_account party state  ntweets  \\\n",
       "0  Richard Durbin   SenatorDurbin     D    IL     3247   \n",
       "\n",
       "                                           daca_sent  ndaca_tweets  \\\n",
       "0  [-0.6124, 0.0772, -0.128, 0.8298, 0.4939, 0.0,...           408   \n",
       "\n",
       "   ndaca_percent                                             colors  xx  yy  \\\n",
       "0      12.565445  rgb(0.290980392157,0.594509803922,0.789019607843)   0   0   \n",
       "\n",
       "                                                text  \n",
       "0  <b>Richard Durbin (D-IL)</b><br><i>@SenatorDur...  "
      ]
     },
     "execution_count": 5,
     "metadata": {},
     "output_type": "execute_result"
    }
   ],
   "source": [
    "# -- Columns names for daca_sentiment.\n",
    "cols = [\"full_name\", \"twitter_account\", \"party\", \"state\", \"ntweets\", \"daca_sent\"]\n",
    "df = pd.DataFrame(daca_sentiment, columns=cols)\n",
    "# -- Count of daca tweets.\n",
    "df[\"ndaca_tweets\"] = [len(ll) for ll in df.daca_sent]\n",
    "# -- Count of daca tweets per 100.\n",
    "df[\"ndaca_percent\"] = 100. * df.ndaca_tweets / df.ntweets\n",
    "# -- Sort values by daca tweet prop. and party.\n",
    "df.sort_values([\"ndaca_percent\", \"full_name\"], \n",
    "               ascending=[False, True], inplace=True)\n",
    "df.reset_index(inplace=True, drop=True)\n",
    "# -- Set empty values.\n",
    "xx = []\n",
    "yy = []\n",
    "cc = []\n",
    "txt = []\n",
    "ry = 0\n",
    "rx = 0\n",
    "# -- For each representative in df.\n",
    "for idx, rep in df.iterrows():\n",
    "    # -- Create plotly text.\n",
    "    txt.append(text.format(rep.full_name.encode('utf-8'), rep.party, rep.state,\n",
    "                           rep.twitter_account, rep.ndaca_percent,\n",
    "                           rep.ndaca_tweets, rep.ntweets))\n",
    "    # -- Add color based on party affiliation.\n",
    "    if rep[\"party\"] == \"D\":\n",
    "        color = dcolor\n",
    "    elif rep[\"party\"] == \"R\":\n",
    "        color = rcolor\n",
    "    elif rep[\"party\"] == \"NA\":\n",
    "        color = ecolor\n",
    "    elif rep[\"party\"] == \"I\":\n",
    "        color = icolor\n",
    "    cc.append(color)\n",
    "    # -- Save xx yy for plotly plot.\n",
    "    xx.append(rx)\n",
    "    yy.append(ry)\n",
    "    rx += 1\n",
    "    if ((idx + 1) % 20) == 0:\n",
    "        rx = 0\n",
    "        ry -= 1\n",
    "# -- Create columns in df.\n",
    "df[\"colors\"] = cc\n",
    "df[\"xx\"] = xx\n",
    "df[\"yy\"] = yy\n",
    "df[\"text\"] = txt\n",
    "df.head(1)"
   ]
  },
  {
   "cell_type": "markdown",
   "metadata": {},
   "source": [
    "### Plotly figure"
   ]
  },
  {
   "cell_type": "code",
   "execution_count": 8,
   "metadata": {
    "collapsed": false,
    "scrolled": false
   },
   "outputs": [
    {
     "data": {
      "application/vnd.plotly.v1+json": {
       "data": [
        {
         "hoverinfo": "text",
         "marker": {
          "color": [
           "rgb(0.290980392157,0.594509803922,0.789019607843)",
           "rgb(0.290980392157,0.594509803922,0.789019607843)",
           "rgb(0.290980392157,0.594509803922,0.789019607843)",
           "rgb(0.290980392157,0.594509803922,0.789019607843)",
           "rgb(0.290980392157,0.594509803922,0.789019607843)",
           "rgb(0.290980392157,0.594509803922,0.789019607843)",
           "rgb(0.290980392157,0.594509803922,0.789019607843)",
           "rgb(0.290980392157,0.594509803922,0.789019607843)",
           "rgb(0.290980392157,0.594509803922,0.789019607843)",
           "rgb(0.290980392157,0.594509803922,0.789019607843)",
           "rgb(0.290980392157,0.594509803922,0.789019607843)",
           "rgb(0.290980392157,0.594509803922,0.789019607843)",
           "rgb(0.290980392157,0.594509803922,0.789019607843)",
           "rgb(0.290980392157,0.594509803922,0.789019607843)",
           "rgb(0.290980392157,0.594509803922,0.789019607843)",
           "rgb(0.290980392157,0.594509803922,0.789019607843)",
           "rgb(0.290980392157,0.594509803922,0.789019607843)",
           "rgb(0.290980392157,0.594509803922,0.789019607843)",
           "rgb(0.290980392157,0.594509803922,0.789019607843)",
           "rgb(0.290980392157,0.594509803922,0.789019607843)",
           "rgb(0.290980392157,0.594509803922,0.789019607843)",
           "rgb(0.290980392157,0.594509803922,0.789019607843)",
           "rgb(0.290980392157,0.594509803922,0.789019607843)",
           "rgb(0.290980392157,0.594509803922,0.789019607843)",
           "rgb(0.290980392157,0.594509803922,0.789019607843)",
           "rgb(0.290980392157,0.594509803922,0.789019607843)",
           "rgb(0.290980392157,0.594509803922,0.789019607843)",
           "rgb(0.290980392157,0.594509803922,0.789019607843)",
           "rgb(0.290980392157,0.594509803922,0.789019607843)",
           "rgb(0.290980392157,0.594509803922,0.789019607843)",
           "rgb(0.290980392157,0.594509803922,0.789019607843)",
           "rgb(0.290980392157,0.594509803922,0.789019607843)",
           "rgb(0.290980392157,0.594509803922,0.789019607843)",
           "rgb(0.290980392157,0.594509803922,0.789019607843)",
           "rgb(0.290980392157,0.594509803922,0.789019607843)",
           "rgb(0.290980392157,0.594509803922,0.789019607843)",
           "rgb(0.290980392157,0.594509803922,0.789019607843)",
           "rgb(0.290980392157,0.594509803922,0.789019607843)",
           "rgb(0.290980392157,0.594509803922,0.789019607843)",
           "rgb(0.290980392157,0.594509803922,0.789019607843)",
           "rgb(0.290980392157,0.594509803922,0.789019607843)",
           "rgb(0.290980392157,0.594509803922,0.789019607843)",
           "rgb(0.290980392157,0.594509803922,0.789019607843)",
           "rgb(0.290980392157,0.594509803922,0.789019607843)",
           "rgb(0.290980392157,0.594509803922,0.789019607843)",
           "rgb(0.290980392157,0.594509803922,0.789019607843)",
           "rgb(0.290980392157,0.594509803922,0.789019607843)",
           "rgb(0.290980392157,0.594509803922,0.789019607843)",
           "rgb(0.290980392157,0.594509803922,0.789019607843)",
           "rgb(0.290980392157,0.594509803922,0.789019607843)",
           "rgb(0.290980392157,0.594509803922,0.789019607843)",
           "rgb(0.290980392157,0.594509803922,0.789019607843)",
           "rgb(0.290980392157,0.594509803922,0.789019607843)",
           "rgb(0.290980392157,0.594509803922,0.789019607843)",
           "rgb(0.290980392157,0.594509803922,0.789019607843)",
           "rgb(0.290980392157,0.594509803922,0.789019607843)",
           "rgb(0.290980392157,0.594509803922,0.789019607843)",
           "rgb(0.290980392157,0.594509803922,0.789019607843)",
           "rgb(0.290980392157,0.594509803922,0.789019607843)",
           "rgb(0.290980392157,0.594509803922,0.789019607843)",
           "rgb(0.290980392157,0.594509803922,0.789019607843)",
           "rgb(0.290980392157,0.594509803922,0.789019607843)",
           "rgb(0.290980392157,0.594509803922,0.789019607843)",
           "rgb(0.290980392157,0.594509803922,0.789019607843)",
           "rgb(0.290980392157,0.594509803922,0.789019607843)",
           "rgb(0.290980392157,0.594509803922,0.789019607843)",
           "rgb(0.290980392157,0.594509803922,0.789019607843)",
           "rgb(0.290980392157,0.594509803922,0.789019607843)",
           "rgb(0.290980392157,0.594509803922,0.789019607843)",
           "rgb(0.290980392157,0.594509803922,0.789019607843)",
           "rgb(0.290980392157,0.594509803922,0.789019607843)",
           "rgb(0.290980392157,0.594509803922,0.789019607843)",
           "rgb(0.290980392157,0.594509803922,0.789019607843)",
           "rgb(0.290980392157,0.594509803922,0.789019607843)",
           "rgb(0.290980392157,0.594509803922,0.789019607843)",
           "rgb(0.290980392157,0.594509803922,0.789019607843)",
           "rgb(0.290980392157,0.594509803922,0.789019607843)",
           "rgb(0.290980392157,0.594509803922,0.789019607843)",
           "rgb(0.290980392157,0.594509803922,0.789019607843)",
           "rgb(0.290980392157,0.594509803922,0.789019607843)",
           "rgb(0.290980392157,0.594509803922,0.789019607843)",
           "rgb(0.290980392157,0.594509803922,0.789019607843)",
           "rgb(0.290980392157,0.594509803922,0.789019607843)",
           "rgb(0.290980392157,0.594509803922,0.789019607843)",
           "rgb(0.290980392157,0.594509803922,0.789019607843)",
           "rgb(0.290980392157,0.594509803922,0.789019607843)",
           "rgb(0.290980392157,0.594509803922,0.789019607843)",
           "rgb(0.290980392157,0.594509803922,0.789019607843)",
           "rgb(0.290980392157,0.594509803922,0.789019607843)",
           "rgb(0.290980392157,0.594509803922,0.789019607843)",
           "rgb(0.290980392157,0.594509803922,0.789019607843)",
           "rgb(0.290980392157,0.594509803922,0.789019607843)",
           "rgb(0.290980392157,0.594509803922,0.789019607843)",
           "rgb(0.290980392157,0.594509803922,0.789019607843)",
           "rgb(0.290980392157,0.594509803922,0.789019607843)",
           "rgb(0.290980392157,0.594509803922,0.789019607843)",
           "rgb(0.290980392157,0.594509803922,0.789019607843)",
           "rgb(0.290980392157,0.594509803922,0.789019607843)",
           "rgb(0.290980392157,0.594509803922,0.789019607843)",
           "rgb(0.290980392157,0.594509803922,0.789019607843)",
           "rgb(0.290980392157,0.594509803922,0.789019607843)",
           "rgb(0.290980392157,0.594509803922,0.789019607843)",
           "rgb(0.290980392157,0.594509803922,0.789019607843)",
           "rgb(0.290980392157,0.594509803922,0.789019607843)",
           "rgb(0.290980392157,0.594509803922,0.789019607843)",
           "rgb(0.290980392157,0.594509803922,0.789019607843)",
           "rgb(0.290980392157,0.594509803922,0.789019607843)",
           "rgb(0.290980392157,0.594509803922,0.789019607843)",
           "rgb(0.290980392157,0.594509803922,0.789019607843)",
           "rgb(0.290980392157,0.594509803922,0.789019607843)",
           "rgb(0.290980392157,0.594509803922,0.789019607843)",
           "rgb(0.290980392157,0.594509803922,0.789019607843)",
           "rgb(0.290980392157,0.594509803922,0.789019607843)",
           "rgb(0.290980392157,0.594509803922,0.789019607843)",
           "rgb(0.290980392157,0.594509803922,0.789019607843)",
           "rgb(0.290980392157,0.594509803922,0.789019607843)",
           "rgb(0.290980392157,0.594509803922,0.789019607843)",
           "rgb(0.290980392157,0.594509803922,0.789019607843)",
           "rgb(0.290980392157,0.594509803922,0.789019607843)",
           "rgb(0.290980392157,0.594509803922,0.789019607843)",
           "rgb(0.290980392157,0.594509803922,0.789019607843)",
           "rgb(0.290980392157,0.594509803922,0.789019607843)",
           "rgb(0.290980392157,0.594509803922,0.789019607843)",
           "rgb(0.290980392157,0.594509803922,0.789019607843)",
           "rgb(0.290980392157,0.594509803922,0.789019607843)",
           "rgb(0.290980392157,0.594509803922,0.789019607843)",
           "rgb(0.290980392157,0.594509803922,0.789019607843)",
           "rgb(0.290980392157,0.594509803922,0.789019607843)",
           "rgb(0.290980392157,0.594509803922,0.789019607843)",
           "rgb(0.290980392157,0.594509803922,0.789019607843)",
           "rgb(0.290980392157,0.594509803922,0.789019607843)",
           "rgb(0.290980392157,0.594509803922,0.789019607843)",
           "rgb(0.290980392157,0.594509803922,0.789019607843)",
           "rgb(0.290980392157,0.594509803922,0.789019607843)",
           "rgb(0.290980392157,0.594509803922,0.789019607843)",
           "rgb(0.290980392157,0.594509803922,0.789019607843)",
           "rgb(0.290980392157,0.594509803922,0.789019607843)",
           "rgb(0.290980392157,0.594509803922,0.789019607843)",
           "rgb(0.290980392157,0.594509803922,0.789019607843)",
           "rgb(0.290980392157,0.594509803922,0.789019607843)",
           "rgb(0.290980392157,0.594509803922,0.789019607843)",
           "rgb(0.290980392157,0.594509803922,0.789019607843)",
           "rgb(0.290980392157,0.594509803922,0.789019607843)",
           "rgb(0.290980392157,0.594509803922,0.789019607843)",
           "rgb(0.290980392157,0.594509803922,0.789019607843)",
           "rgb(0.290980392157,0.594509803922,0.789019607843)",
           "rgb(0.290980392157,0.594509803922,0.789019607843)",
           "rgb(0.290980392157,0.594509803922,0.789019607843)",
           "rgb(0.290980392157,0.594509803922,0.789019607843)",
           "rgb(0.290980392157,0.594509803922,0.789019607843)",
           "rgb(0.290980392157,0.594509803922,0.789019607843)",
           "rgb(0.290980392157,0.594509803922,0.789019607843)",
           "rgb(0.290980392157,0.594509803922,0.789019607843)",
           "rgb(0.290980392157,0.594509803922,0.789019607843)",
           "rgb(0.290980392157,0.594509803922,0.789019607843)",
           "rgb(0.290980392157,0.594509803922,0.789019607843)",
           "rgb(0.290980392157,0.594509803922,0.789019607843)",
           "rgb(0.290980392157,0.594509803922,0.789019607843)",
           "rgb(0.290980392157,0.594509803922,0.789019607843)",
           "rgb(0.290980392157,0.594509803922,0.789019607843)",
           "rgb(0.290980392157,0.594509803922,0.789019607843)",
           "rgb(0.290980392157,0.594509803922,0.789019607843)",
           "rgb(0.290980392157,0.594509803922,0.789019607843)",
           "rgb(0.290980392157,0.594509803922,0.789019607843)",
           "rgb(0.290980392157,0.594509803922,0.789019607843)",
           "rgb(0.290980392157,0.594509803922,0.789019607843)",
           "rgb(0.290980392157,0.594509803922,0.789019607843)",
           "rgb(0.290980392157,0.594509803922,0.789019607843)",
           "rgb(0.290980392157,0.594509803922,0.789019607843)",
           "rgb(0.290980392157,0.594509803922,0.789019607843)",
           "rgb(0.290980392157,0.594509803922,0.789019607843)",
           "rgb(0.290980392157,0.594509803922,0.789019607843)",
           "rgb(0.290980392157,0.594509803922,0.789019607843)",
           "rgb(0.290980392157,0.594509803922,0.789019607843)",
           "rgb(0.290980392157,0.594509803922,0.789019607843)",
           "rgb(0.290980392157,0.594509803922,0.789019607843)",
           "rgb(0.290980392157,0.594509803922,0.789019607843)",
           "rgb(0.290980392157,0.594509803922,0.789019607843)",
           "rgb(0.290980392157,0.594509803922,0.789019607843)",
           "rgb(0.290980392157,0.594509803922,0.789019607843)",
           "rgb(0.290980392157,0.594509803922,0.789019607843)",
           "rgb(0.290980392157,0.594509803922,0.789019607843)",
           "rgb(0.290980392157,0.594509803922,0.789019607843)",
           "rgb(0.290980392157,0.594509803922,0.789019607843)",
           "rgb(0.290980392157,0.594509803922,0.789019607843)",
           "rgb(0.290980392157,0.594509803922,0.789019607843)",
           "rgb(0.290980392157,0.594509803922,0.789019607843)",
           "rgb(0.290980392157,0.594509803922,0.789019607843)",
           "rgb(0.290980392157,0.594509803922,0.789019607843)",
           "rgb(0.290980392157,0.594509803922,0.789019607843)",
           "rgb(0.290980392157,0.594509803922,0.789019607843)",
           "rgb(0.290980392157,0.594509803922,0.789019607843)",
           "rgb(0.290980392157,0.594509803922,0.789019607843)",
           "rgb(0.290980392157,0.594509803922,0.789019607843)",
           "rgb(0.290980392157,0.594509803922,0.789019607843)",
           "rgb(0.290980392157,0.594509803922,0.789019607843)",
           "rgb(0.290980392157,0.594509803922,0.789019607843)",
           "rgb(0.290980392157,0.594509803922,0.789019607843)",
           "rgb(0.290980392157,0.594509803922,0.789019607843)",
           "rgb(0.290980392157,0.594509803922,0.789019607843)",
           "rgb(0.290980392157,0.594509803922,0.789019607843)",
           "rgb(0.290980392157,0.594509803922,0.789019607843)",
           "rgb(0.290980392157,0.594509803922,0.789019607843)",
           "rgb(0.290980392157,0.594509803922,0.789019607843)",
           "rgb(0.290980392157,0.594509803922,0.789019607843)",
           "rgb(0.290980392157,0.594509803922,0.789019607843)",
           "rgb(0.290980392157,0.594509803922,0.789019607843)",
           "rgb(0.290980392157,0.594509803922,0.789019607843)",
           "rgb(0.290980392157,0.594509803922,0.789019607843)",
           "rgb(0.290980392157,0.594509803922,0.789019607843)",
           "rgb(0.290980392157,0.594509803922,0.789019607843)",
           "rgb(0.290980392157,0.594509803922,0.789019607843)",
           "rgb(0.290980392157,0.594509803922,0.789019607843)",
           "rgb(0.290980392157,0.594509803922,0.789019607843)",
           "rgb(0.290980392157,0.594509803922,0.789019607843)",
           "rgb(0.290980392157,0.594509803922,0.789019607843)",
           "rgb(0.290980392157,0.594509803922,0.789019607843)",
           "rgb(0.290980392157,0.594509803922,0.789019607843)",
           "rgb(0.290980392157,0.594509803922,0.789019607843)",
           "rgb(0.290980392157,0.594509803922,0.789019607843)",
           "rgb(0.290980392157,0.594509803922,0.789019607843)",
           "rgb(0.290980392157,0.594509803922,0.789019607843)",
           "rgb(0.290980392157,0.594509803922,0.789019607843)",
           "rgb(0.290980392157,0.594509803922,0.789019607843)",
           "rgb(0.290980392157,0.594509803922,0.789019607843)",
           "rgb(0.290980392157,0.594509803922,0.789019607843)",
           "rgb(0.290980392157,0.594509803922,0.789019607843)",
           "rgb(0.290980392157,0.594509803922,0.789019607843)",
           "rgb(0.290980392157,0.594509803922,0.789019607843)",
           "rgb(0.290980392157,0.594509803922,0.789019607843)",
           "rgb(0.290980392157,0.594509803922,0.789019607843)",
           "rgb(0.290980392157,0.594509803922,0.789019607843)",
           "rgb(0.290980392157,0.594509803922,0.789019607843)",
           "rgb(0.290980392157,0.594509803922,0.789019607843)",
           "rgb(0.290980392157,0.594509803922,0.789019607843)",
           "rgb(0.290980392157,0.594509803922,0.789019607843)",
           "rgb(0.290980392157,0.594509803922,0.789019607843)"
          ],
          "size": 1
         },
         "mode": "markers",
         "text": [
          "<b>Richard Durbin (D-IL)</b><br><i>@SenatorDurbin</i><br><b>12.57% (408 / 3247)</b>",
          "<b>Jimmy Gomez (D-CA)</b><br><i>@RepJimmyGomez</i><br><b>10.17% (66 / 649)</b>",
          "<b>Adriano Espaillat (D-NY)</b><br><i>@RepEspaillat</i><br><b>9.82% (314 / 3197)</b>",
          "<b>Catherine Cortez Masto (D-NV)</b><br><i>@sencortezmasto</i><br><b>9.53% (227 / 2382)</b>",
          "<b>J. Correa (D-CA)</b><br><i>@RepLouCorrea</i><br><b>8.30% (20 / 241)</b>",
          "<b>Vicente Gonzalez (D-TX)</b><br><i>@RepGonzalez</i><br><b>7.57% (29 / 383)</b>",
          "<b>Nanette Barragán (D-CA)</b><br><i>@RepBarragan</i><br><b>7.15% (121 / 1693)</b>",
          "<b>Steny Hoyer (D-MD)</b><br><i>@WhipHoyer</i><br><b>7.11% (229 / 3220)</b>",
          "<b>Robert Menendez (D-NJ)</b><br><i>@SenatorMenendez</i><br><b>6.51% (211 / 3241)</b>",
          "<b>Pramila Jayapal (D-WA)</b><br><i>@RepJayapal</i><br><b>6.51% (209 / 3212)</b>",
          "<b>Ruben Kihuen (D-NV)</b><br><i>@RepKihuen</i><br><b>6.02% (141 / 2343)</b>",
          "<b>Juan Vargas (D-CA)</b><br><i>@RepJuanVargas</i><br><b>5.33% (90 / 1690)</b>",
          "<b>Lucille Roybal-Allard (D-CA)</b><br><i>@RepRoybalAllard</i><br><b>4.97% (159 / 3200)</b>",
          "<b>Jacky Rosen (D-NV)</b><br><i>@RepJackyRosen</i><br><b>4.88% (73 / 1495)</b>",
          "<b>Martin Heinrich (D-NM)</b><br><i>@MartinHeinrich</i><br><b>4.75% (153 / 3218)</b>",
          "<b>Ruben Gallego (D-AZ)</b><br><i>@RepRubenGallego</i><br><b>4.17% (133 / 3187)</b>",
          "<b>Darren Soto (D-FL)</b><br><i>@RepDarrenSoto</i><br><b>4.07% (47 / 1155)</b>",
          "<b>Joaquín Castro (D-TX)</b><br><i>@JoaquinCastrotx</i><br><b>4.05% (130 / 3208)</b>",
          "<b>Pete Aguilar (D-CA)</b><br><i>@reppeteaguilar</i><br><b>3.81% (47 / 1235)</b>",
          "<b>Joseph Crowley (D-NY)</b><br><i>@RepJoeCrowley</i><br><b>3.80% (122 / 3211)</b>",
          "<b>Kamala Harris (D-CA)</b><br><i>@SenKamalaHarris</i><br><b>3.80% (64 / 1685)</b>",
          "<b>Salud Carbajal (D-CA)</b><br><i>@RepCarbajal</i><br><b>3.59% (22 / 612)</b>",
          "<b>Nancy Pelosi (D-CA)</b><br><i>@NancyPelosi</i><br><b>3.58% (116 / 3239)</b>",
          "<b>Jimmy Panetta (D-CA)</b><br><i>@RepJimmyPanetta</i><br><b>3.58% (33 / 923)</b>",
          "<b>Nydia Velázquez (D-NY)</b><br><i>@NydiaVelazquez</i><br><b>3.46% (112 / 3241)</b>",
          "<b>Dianne Feinstein (D-CA)</b><br><i>@SenFeinstein</i><br><b>3.39% (110 / 3241)</b>",
          "<b>Michelle Lujan Grisham (D-NM)</b><br><i>@RepLujanGrisham</i><br><b>3.31% (107 / 3236)</b>",
          "<b>Raúl Grijalva (D-AZ)</b><br><i>@RepraulGrijalva</i><br><b>3.30% (107 / 3241)</b>",
          "<b>Donald Beyer (D-VA)</b><br><i>@repdonbeyer</i><br><b>3.23% (104 / 3220)</b>",
          "<b>Grace Napolitano (D-CA)</b><br><i>@GraceNapolitano</i><br><b>3.03% (58 / 1914)</b>",
          "<b>Zoe Lofgren (D-CA)</b><br><i>@RepZoeLofgren</i><br><b>2.90% (59 / 2035)</b>",
          "<b>Judy Chu (D-CA)</b><br><i>@RepJudyChu</i><br><b>2.78% (89 / 3202)</b>",
          "<b>Charles Schumer (D-NY)</b><br><i>@SenSchumer</i><br><b>2.64% (85 / 3223)</b>",
          "<b>Dina Titus (D-NV)</b><br><i>@RepDinaTitus</i><br><b>2.63% (84 / 3198)</b>",
          "<b>Ro Khanna (D-CA)</b><br><i>@RepRoKhanna</i><br><b>2.58% (76 / 2950)</b>",
          "<b>Lloyd Doggett (D-TX)</b><br><i>@RepLloydDoggett</i><br><b>2.56% (82 / 3209)</b>",
          "<b>Anthony Brown (D-MD)</b><br><i>@RepAnthonyBrown</i><br><b>2.37% (24 / 1011)</b>",
          "<b>Dwight Evans (D-PA)</b><br><i>@RepDwightEvans</i><br><b>2.32% (75 / 3235)</b>",
          "<b>Gene Green (D-TX)</b><br><i>@RepGeneGreen</i><br><b>2.32% (51 / 2202)</b>",
          "<b>Marc Veasey (D-TX)</b><br><i>@RepVeasey</i><br><b>2.28% (63 / 2761)</b>",
          "<b>Richard Blumenthal (D-CT)</b><br><i>@SenBlumenthal</i><br><b>2.19% (71 / 3237)</b>",
          "<b>Keith Ellison (D-MN)</b><br><i>@KeithEllison</i><br><b>2.18% (70 / 3218)</b>",
          "<b>Raja Krishnamoorthi (D-IL)</b><br><i>@congressmanraja</i><br><b>2.16% (43 / 1991)</b>",
          "<b>Lisa Blunt Rochester (D-DE)</b><br><i>@RepBRochester</i><br><b>2.15% (7 / 326)</b>",
          "<b>Patty Murray (D-WA)</b><br><i>@PattyMurray</i><br><b>2.12% (68 / 3205)</b>",
          "<b>Mike Quigley (D-IL)</b><br><i>@RepMikeQuigley</i><br><b>2.07% (67 / 3231)</b>",
          "<b>Ben Luján (D-NM)</b><br><i>@RepBenRayLujan</i><br><b>2.07% (33 / 1595)</b>",
          "<b>Thomas Suozzi (D-NY)</b><br><i>@RepTomSuozzi</i><br><b>2.01% (8 / 399)</b>",
          "<b>Norma Torres (D-CA)</b><br><i>@NormaJTorres</i><br><b>1.94% (62 / 3203)</b>",
          "<b>Michael Bennet (D-CO)</b><br><i>@SenBennetCo</i><br><b>1.91% (48 / 2507)</b>",
          "<b>Maria Cantwell (D-WA)</b><br><i>@SenatorCantwell</i><br><b>1.85% (60 / 3240)</b>",
          "<b>Jeff Merkley (D-OR)</b><br><i>@SenJeffMerkley</i><br><b>1.84% (59 / 3212)</b>",
          "<b>Jim Costa (D-CA)</b><br><i>@RepJimCosta</i><br><b>1.83% (29 / 1582)</b>",
          "<b>Hank Johnson (D-GA)</b><br><i>@RepHankJohnson</i><br><b>1.81% (58 / 3200)</b>",
          "<b>Scott Peters (D-CA)</b><br><i>@RepScottPeters</i><br><b>1.81% (58 / 3203)</b>",
          "<b>Linda Sánchez (D-CA)</b><br><i>@RepLindaSanchez</i><br><b>1.79% (45 / 2512)</b>",
          "<b>Patrick Leahy (D-VT)</b><br><i>@SenatorLeahy</i><br><b>1.77% (57 / 3213)</b>",
          "<b>Alma Adams (D-NC)</b><br><i>@RepAdams</i><br><b>1.74% (56 / 3219)</b>",
          "<b>A. McEachin (D-VA)</b><br><i>@RepMcEachin</i><br><b>1.67% (24 / 1441)</b>",
          "<b>Bennie Thompson (D-MS)</b><br><i>@BennieGThompson</i><br><b>1.67% (20 / 1201)</b>",
          "<b>Diana DeGette (D-CO)</b><br><i>@RepDianaDeGette</i><br><b>1.65% (53 / 3208)</b>",
          "<b>Yvette Clarke (D-NY)</b><br><i>@RepYvetteClarke</i><br><b>1.61% (52 / 3228)</b>",
          "<b>Tim Walz (D-MN)</b><br><i>@RepTimWalz</i><br><b>1.58% (48 / 3043)</b>",
          "<b>Tom Udall (D-NM)</b><br><i>@SenatorTomUdall</i><br><b>1.55% (50 / 3234)</b>",
          "<b>Carolyn Maloney (D-NY)</b><br><i>@RepMaloney</i><br><b>1.54% (50 / 3238)</b>",
          "<b>Bonnie Watson Coleman (D-NJ)</b><br><i>@RepBonnie</i><br><b>1.52% (49 / 3214)</b>",
          "<b>Jamie Raskin (D-MD)</b><br><i>@repraskin</i><br><b>1.46% (47 / 3215)</b>",
          "<b>Tammy Duckworth (D-IL)</b><br><i>@SenDuckworth</i><br><b>1.45% (47 / 3232)</b>",
          "<b>Val Demings (D-FL)</b><br><i>@RepValDemings</i><br><b>1.44% (18 / 1246)</b>",
          "<b>Colleen Hanabusa (D-HI)</b><br><i>@RepHanabusa</i><br><b>1.41% (23 / 1632)</b>",
          "<b>Mazie Hirono (D-HI)</b><br><i>@MazieHirono</i><br><b>1.39% (45 / 3229)</b>",
          "<b>Adam Smith (D-WA)</b><br><i>@RepAdamSmith</i><br><b>1.39% (35 / 2512)</b>",
          "<b>Frank Pallone (D-NJ)</b><br><i>@FrankPallone</i><br><b>1.37% (44 / 3206)</b>",
          "<b>Bill Foster (D-IL)</b><br><i>@RepBillFoster</i><br><b>1.34% (34 / 2544)</b>",
          "<b>Jan Schakowsky (D-IL)</b><br><i>@JanSchakowsky</i><br><b>1.33% (43 / 3244)</b>",
          "<b>Brad Schneider (D-IL)</b><br><i>@repschneider</i><br><b>1.20% (29 / 2413)</b>",
          "<b>Ted Lieu (D-CA)</b><br><i>@RepTedLieu</i><br><b>1.19% (38 / 3190)</b>",
          "<b>Al Green (D-TX)</b><br><i>@RepAlGreen</i><br><b>1.16% (17 / 1463)</b>",
          "<b>Frederica Wilson (D-FL)</b><br><i>@RepWilson</i><br><b>1.15% (37 / 3213)</b>",
          "<b>Benjamin Cardin (D-MD)</b><br><i>@SenatorCardin</i><br><b>1.14% (37 / 3236)</b>",
          "<b>Thomas Carper (D-DE)</b><br><i>@SenatorCarper</i><br><b>1.14% (37 / 3244)</b>",
          "<b>Sheldon Whitehouse (D-RI)</b><br><i>@SenWhitehouse</i><br><b>1.14% (37 / 3246)</b>",
          "<b>Ron Wyden (D-OR)</b><br><i>@RonWyden</i><br><b>1.11% (36 / 3238)</b>",
          "<b>Tony Cárdenas (D-CA)</b><br><i>@RepCardenas</i><br><b>1.09% (35 / 3200)</b>",
          "<b>Beto O'Rourke (D-TX)</b><br><i>@RepBetoORourke</i><br><b>1.09% (35 / 3201)</b>",
          "<b>Kirsten Gillibrand (D-NY)</b><br><i>@SenGillibrand</i><br><b>1.09% (35 / 3215)</b>",
          "<b>Edward Markey (D-MA)</b><br><i>@SenMarkey</i><br><b>1.08% (35 / 3227)</b>",
          "<b>Alan Lowenthal (D-CA)</b><br><i>@RepLowenthal</i><br><b>1.07% (32 / 2980)</b>",
          "<b>Mark Pocan (D-WI)</b><br><i>@RepMarkPocan</i><br><b>1.02% (33 / 3220)</b>",
          "<b>John Conyers (D-MI)</b><br><i>@RepJohnConyers</i><br><b>1.00% (32 / 3200)</b>",
          "<b>Dan Kildee (D-MI)</b><br><i>@RepDanKildee</i><br><b>0.99% (32 / 3218)</b>",
          "<b>Alcee Hastings (D-FL)</b><br><i>@RepHastingsFL</i><br><b>0.97% (9 / 927)</b>",
          "<b>Paul Tonko (D-NY)</b><br><i>@RepPaulTonko</i><br><b>0.97% (31 / 3196)</b>",
          "<b>Sheila Jackson Lee (D-TX)</b><br><i>@JacksonLeeTX18</i><br><b>0.96% (31 / 3224)</b>",
          "<b>Cory Booker (D-NJ)</b><br><i>@CoryBooker</i><br><b>0.96% (31 / 3233)</b>",
          "<b>Katherine Clark (D-MA)</b><br><i>@RepKClark</i><br><b>0.94% (30 / 3208)</b>",
          "<b>Gerald Connolly (D-VA)</b><br><i>@GerryConnolly</i><br><b>0.93% (30 / 3222)</b>",
          "<b>Mark Takano (D-CA)</b><br><i>@RepMarkTakano</i><br><b>0.93% (22 / 2367)</b>",
          "<b>Brenda Lawrence (D-MI)</b><br><i>@RepLawrence</i><br><b>0.87% (28 / 3213)</b>",
          "<b>Mark Warner (D-VA)</b><br><i>@MarkWarner</i><br><b>0.87% (28 / 3227)</b>",
          "<b>Josh Gottheimer (D-NJ)</b><br><i>@RepJoshG</i><br><b>0.85% (9 / 1055)</b>",
          "<b>Doris Matsui (D-CA)</b><br><i>@DorisMatsui</i><br><b>0.85% (22 / 2582)</b>",
          "<b>Tom O'Halleran (D-AZ)</b><br><i>@repohalleran</i><br><b>0.84% (12 / 1423)</b>",
          "<b>Chris Van Hollen (D-MD)</b><br><i>@ChrisVanHollen</i><br><b>0.84% (27 / 3233)</b>",
          "<b>Suzanne Bonamici (D-OR)</b><br><i>@RepBonamici</i><br><b>0.83% (21 / 2538)</b>",
          "<b>David Cicilline (D-RI)</b><br><i>@RepCicilline</i><br><b>0.81% (26 / 3200)</b>",
          "<b>Filemon Vela (D-TX)</b><br><i>@RepFilemonVela</i><br><b>0.81% (10 / 1237)</b>",
          "<b>Jim McGovern (D-MA)</b><br><i>@RepMcGovern</i><br><b>0.81% (26 / 3219)</b>",
          "<b>Lois Frankel (D-FL)</b><br><i>@RepLoisFrankel</i><br><b>0.80% (26 / 3249)</b>",
          "<b>David Price (D-NC)</b><br><i>@RepDavidEPrice</i><br><b>0.79% (25 / 3162)</b>",
          "<b>Julia Brownley (D-CA)</b><br><i>@JuliaBrownley26</i><br><b>0.78% (20 / 2558)</b>",
          "<b>Christopher Murphy (D-CT)</b><br><i>@ChrisMurphyCT</i><br><b>0.77% (25 / 3249)</b>",
          "<b>Elizabeth Warren (D-MA)</b><br><i>@SenWarren</i><br><b>0.75% (21 / 2796)</b>",
          "<b>Ed Perlmutter (D-CO)</b><br><i>@RepPerlmutter</i><br><b>0.75% (24 / 3200)</b>",
          "<b>José Serrano (D-NY)</b><br><i>@RepJoseSerrano</i><br><b>0.75% (24 / 3210)</b>",
          "<b>Emanuel Cleaver (D-MO)</b><br><i>@RepCleaver</i><br><b>0.74% (24 / 3230)</b>",
          "<b>Suzan DelBene (D-WA)</b><br><i>@RepDelBene</i><br><b>0.74% (24 / 3237)</b>",
          "<b>Michael Capuano (D-MA)</b><br><i>@RepMikeCapuano</i><br><b>0.74% (2 / 270)</b>",
          "<b>Stephanie Murphy (D-FL)</b><br><i>@RepStephMurphy</i><br><b>0.72% (8 / 1110)</b>",
          "<b>G. Butterfield (D-NC)</b><br><i>@GKButterfield</i><br><b>0.71% (23 / 3217)</b>",
          "<b>Barbara Lee (D-CA)</b><br><i>@RepBarbaraLee</i><br><b>0.71% (23 / 3232)</b>",
          "<b>Eric Swalwell (D-CA)</b><br><i>@RepSwalwell</i><br><b>0.71% (23 / 3244)</b>",
          "<b>Al Franken (D-MN)</b><br><i>@SenFranken</i><br><b>0.68% (22 / 3220)</b>",
          "<b>Louise Slaughter (D-NY)</b><br><i>@LouiseSlaughter</i><br><b>0.68% (22 / 3223)</b>",
          "<b>Nita Lowey (D-NY)</b><br><i>@NitaLowey</i><br><b>0.68% (18 / 2662)</b>",
          "<b>Raul Ruiz (D-CA)</b><br><i>@CongressmanRuiz</i><br><b>0.66% (6 / 913)</b>",
          "<b>Rick Larsen (D-WA)</b><br><i>@RepRickLarsen</i><br><b>0.65% (21 / 3217)</b>",
          "<b>Grace Meng (D-NY)</b><br><i>@RepGraceMeng</i><br><b>0.65% (21 / 3228)</b>",
          "<b>Daniel Lipinski (D-IL)</b><br><i>@RepLipinski</i><br><b>0.65% (13 / 2008)</b>",
          "<b>Eliot Engel (D-NY)</b><br><i>@RepEliotEngel</i><br><b>0.65% (21 / 3246)</b>",
          "<b>Anna Eshoo (D-CA)</b><br><i>@RepAnnaEshoo</i><br><b>0.63% (12 / 1907)</b>",
          "<b>Donald Payne (D-NJ)</b><br><i>@RepDonaldPayne</i><br><b>0.62% (20 / 3209)</b>",
          "<b>Jared Polis (D-CO)</b><br><i>@JaredPolis</i><br><b>0.62% (20 / 3243)</b>",
          "<b>Charlie Crist (D-FL)</b><br><i>@repcharliecrist</i><br><b>0.61% (8 / 1301)</b>",
          "<b>Bill Nelson (D-FL)</b><br><i>@SenBillNelson</i><br><b>0.60% (5 / 829)</b>",
          "<b>Eddie Johnson (D-TX)</b><br><i>@RepEBJ</i><br><b>0.59% (19 / 3196)</b>",
          "<b>Tammy Baldwin (D-WI)</b><br><i>@SenatorBaldwin</i><br><b>0.59% (19 / 3198)</b>",
          "<b>Gwen Moore (D-WI)</b><br><i>@RepGwenMoore</i><br><b>0.59% (19 / 3200)</b>",
          "<b>Ted Deutch (D-FL)</b><br><i>@RepTedDeutch</i><br><b>0.59% (19 / 3216)</b>",
          "<b>Robert Scott (D-VA)</b><br><i>@BobbyScott</i><br><b>0.56% (18 / 3227)</b>",
          "<b>Jared Huffman (D-CA)</b><br><i>@RepHuffman</i><br><b>0.56% (11 / 1977)</b>",
          "<b>Adam Schiff (D-CA)</b><br><i>@RepAdamSchiff</i><br><b>0.56% (18 / 3239)</b>",
          "<b>Susan Davis (D-CA)</b><br><i>@RepSusanDavis</i><br><b>0.56% (10 / 1801)</b>",
          "<b>Denny Heck (D-WA)</b><br><i>@RepDennyHeck</i><br><b>0.55% (17 / 3103)</b>",
          "<b>John Garamendi (D-CA)</b><br><i>@RepGaramendi</i><br><b>0.53% (17 / 3198)</b>",
          "<b>Kurt Schrader (D-OR)</b><br><i>@RepSchrader</i><br><b>0.53% (11 / 2074)</b>",
          "<b>Bob Casey (D-PA)</b><br><i>@SenBobCasey</i><br><b>0.53% (17 / 3212)</b>",
          "<b>Jerrold Nadler (D-NY)</b><br><i>@RepJerryNadler</i><br><b>0.53% (17 / 3238)</b>",
          "<b>Chellie Pingree (D-ME)</b><br><i>@ChelliePingree</i><br><b>0.52% (17 / 3249)</b>",
          "<b>Peter Welch (D-VT)</b><br><i>@PeterWelch</i><br><b>0.52% (9 / 1724)</b>",
          "<b>Jim Cooper (D-TN)</b><br><i>@RepJimCooper</i><br><b>0.52% (13 / 2495)</b>",
          "<b>Brad Sherman (D-CA)</b><br><i>@BradSherman</i><br><b>0.52% (7 / 1347)</b>",
          "<b>Al Lawson (D-FL)</b><br><i>@RepAlLawsonJr</i><br><b>0.52% (2 / 388)</b>",
          "<b>Mark DeSaulnier (D-CA)</b><br><i>@RepDeSaulnier</i><br><b>0.51% (9 / 1751)</b>",
          "<b>Elizabeth Esty (D-CT)</b><br><i>@RepEsty</i><br><b>0.50% (16 / 3209)</b>",
          "<b>John Yarmuth (D-KY)</b><br><i>@RepJohnYarmuth</i><br><b>0.50% (15 / 3013)</b>",
          "<b>Albio Sires (D-NJ)</b><br><i>@RepSires</i><br><b>0.47% (11 / 2332)</b>",
          "<b>Karen Bass (D-CA)</b><br><i>@RepKarenBass</i><br><b>0.47% (15 / 3193)</b>",
          "<b>Marcia Fudge (D-OH)</b><br><i>@RepMarciaFudge</i><br><b>0.47% (15 / 3204)</b>",
          "<b>Mike Thompson (D-CA)</b><br><i>@RepThompson</i><br><b>0.47% (15 / 3213)</b>",
          "<b>Jim Himes (D-CT)</b><br><i>@JAHimes</i><br><b>0.47% (15 / 3217)</b>",
          "<b>Joe Courtney (D-CT)</b><br><i>@RepJoeCourtney</i><br><b>0.47% (15 / 3224)</b>",
          "<b>Debbie Wasserman Schultz (D-FL)</b><br><i>@RepDWStweets</i><br><b>0.45% (14 / 3127)</b>",
          "<b>Betty McCollum (D-MN)</b><br><i>@BettyMcCollum04</i><br><b>0.44% (14 / 3214)</b>",
          "<b>André Carson (D-IN)</b><br><i>@RepAndreCarson</i><br><b>0.43% (14 / 3237)</b>",
          "<b>Bill Pascrell (D-NJ)</b><br><i>@BillPascrell</i><br><b>0.42% (11 / 2649)</b>",
          "<b>Tulsi Gabbard (D-HI)</b><br><i>@TulsiPress</i><br><b>0.41% (13 / 3173)</b>",
          "<b>Niki Tsongas (D-MA)</b><br><i>@NikiInTheHouse</i><br><b>0.40% (13 / 3215)</b>",
          "<b>Kathy Castor (D-FL)</b><br><i>@USRepKCastor</i><br><b>0.37% (12 / 3202)</b>",
          "<b>Joseph Kennedy (D-MA)</b><br><i>@RepJoeKennedy</i><br><b>0.37% (12 / 3212)</b>",
          "<b>Tim Ryan (D-OH)</b><br><i>@RepTimRyan</i><br><b>0.37% (12 / 3218)</b>",
          "<b>Margaret Hassan (D-NH)</b><br><i>@Senatorhassan</i><br><b>0.37% (12 / 3230)</b>",
          "<b>Terri Sewell (D-AL)</b><br><i>@RepTerriSewell</i><br><b>0.37% (12 / 3239)</b>",
          "<b>Bobby Rush (D-IL)</b><br><i>@RepBobbyRush</i><br><b>0.37% (4 / 1090)</b>",
          "<b>Cedric Richmond (D-LA)</b><br><i>@RepRichmond</i><br><b>0.36% (8 / 2229)</b>",
          "<b>Sander Levin (D-MI)</b><br><i>@RepSandyLevin</i><br><b>0.36% (11 / 3065)</b>",
          "<b>Jeanne Shaheen (D-NH)</b><br><i>@SenatorShaheen</i><br><b>0.34% (11 / 3207)</b>",
          "<b>Rosa DeLauro (D-CT)</b><br><i>@RosaDeLauro</i><br><b>0.34% (11 / 3208)</b>",
          "<b>Sean Maloney (D-NY)</b><br><i>@RepSeanMaloney</i><br><b>0.34% (11 / 3216)</b>",
          "<b>Elijah Cummings (D-MD)</b><br><i>@RepCummings</i><br><b>0.34% (11 / 3233)</b>",
          "<b>Jim Langevin (D-RI)</b><br><i>@JimLangevin</i><br><b>0.34% (11 / 3248)</b>",
          "<b>C.A. Dutch Ruppersberger (D-MD)</b><br><i>@Call_Me_Dutch</i><br><b>0.32% (9 / 2775)</b>",
          "<b>Bill Keating (D-MA)</b><br><i>@USRepKeating</i><br><b>0.32% (4 / 1237)</b>",
          "<b>Robin Kelly (D-IL)</b><br><i>@RepRobinKelly</i><br><b>0.32% (9 / 2791)</b>",
          "<b>Jerry McNerney (D-CA)</b><br><i>@RepMcNerney</i><br><b>0.32% (6 / 1876)</b>",
          "<b>Debbie Dingell (D-MI)</b><br><i>@RepDebDingell</i><br><b>0.31% (6 / 1937)</b>",
          "<b>Henry Cuellar (D-TX)</b><br><i>@RepCuellar</i><br><b>0.31% (10 / 3232)</b>",
          "<b>John Larson (D-CT)</b><br><i>@RepJohnLarson</i><br><b>0.30% (8 / 2635)</b>",
          "<b>Robert Brady (D-PA)</b><br><i>@RepBrady</i><br><b>0.28% (2 / 710)</b>",
          "<b>Kathleen Rice (D-NY)</b><br><i>@RepKathleenRice</i><br><b>0.27% (6 / 2218)</b>",
          "<b>Hakeem Jeffries (D-NY)</b><br><i>@RepJeffries</i><br><b>0.27% (7 / 2594)</b>",
          "<b>Eleanor Norton (D-DC)</b><br><i>@EleanorNorton</i><br><b>0.25% (8 / 3206)</b>",
          "<b>Ann Kuster (D-NH)</b><br><i>@RepAnnieKuster</i><br><b>0.25% (8 / 3222)</b>",
          "<b>Jackie Speier (D-CA)</b><br><i>@RepSpeier</i><br><b>0.25% (8 / 3244)</b>",
          "<b>Steve Cohen (D-TN)</b><br><i>@RepCohen</i><br><b>0.22% (7 / 3232)</b>",
          "<b>Donald Norcross (D-NJ)</b><br><i>@DonaldNorcross</i><br><b>0.22% (7 / 3234)</b>",
          "<b>Kyrsten Sinema (D-AZ)</b><br><i>@RepSinema</i><br><b>0.22% (7 / 3241)</b>",
          "<b>James Clyburn (D-SC)</b><br><i>@Clyburn</i><br><b>0.21% (4 / 1947)</b>",
          "<b>Jack Reed (D-RI)</b><br><i>@SenJackReed</i><br><b>0.19% (6 / 3202)</b>",
          "<b>Derek Kilmer (D-WA)</b><br><i>@RepDerekKilmer</i><br><b>0.17% (3 / 1765)</b>",
          "<b>Danny Davis (D-IL)</b><br><i>@RepDannyDavis</i><br><b>0.17% (2 / 1196)</b>",
          "<b>John Lewis (D-GA)</b><br><i>@RepJohnLewis</i><br><b>0.16% (3 / 1819)</b>",
          "<b>Brendan Boyle (D-PA)</b><br><i>@RepBrendanBoyle</i><br><b>0.16% (5 / 3200)</b>",
          "<b>Sherrod Brown (D-OH)</b><br><i>@SenSherrodBrown</i><br><b>0.16% (5 / 3204)</b>",
          "<b>Seth Moulton (D-MA)</b><br><i>@teammoulton</i><br><b>0.15% (5 / 3231)</b>",
          "<b>Stacey Plaskett (D-VI)</b><br><i>@staceyplaskett</i><br><b>0.14% (1 / 727)</b>",
          "<b>Debbie Stabenow (D-MI)</b><br><i>@SenStabenow</i><br><b>0.13% (4 / 3177)</b>",
          "<b>Joyce Beatty (D-OH)</b><br><i>@RepBeatty</i><br><b>0.12% (4 / 3202)</b>",
          "<b>Marcy Kaptur (D-OH)</b><br><i>@RepMarcyKaptur</i><br><b>0.12% (4 / 3219)</b>",
          "<b>Ami Bera (D-CA)</b><br><i>@RepBera</i><br><b>0.10% (3 / 2928)</b>",
          "<b>Mike Doyle (D-PA)</b><br><i>@USRepMikeDoyle</i><br><b>0.10% (1 / 1022)</b>",
          "<b>Heidi Heitkamp (D-ND)</b><br><i>@SenatorHeitkamp</i><br><b>0.09% (3 / 3230)</b>",
          "<b>Brian Higgins (D-NY)</b><br><i>@RepBrianHiggins</i><br><b>0.09% (3 / 3246)</b>",
          "<b>Peter DeFazio (D-OR)</b><br><i>@RepPeterDeFazio</i><br><b>0.09% (1 / 1090)</b>",
          "<b>Carol Shea-Porter (D-NH)</b><br><i>@repsheaporter</i><br><b>0.09% (1 / 1156)</b>",
          "<b>Ron Kind (D-WI)</b><br><i>@RepRonKind</i><br><b>0.09% (1 / 1174)</b>",
          "<b>Richard Neal (D-MA)</b><br><i>@RepRichardNeal</i><br><b>0.08% (1 / 1235)</b>",
          "<b>David Scott (D-GA)</b><br><i>@RepDavidScott</i><br><b>0.08% (2 / 2624)</b>",
          "<b>Brian Schatz (D-HI)</b><br><i>@SenBrianSchatz</i><br><b>0.07% (1 / 1377)</b>",
          "<b>Gary Peters (D-MI)</b><br><i>@SenGaryPeters</i><br><b>0.06% (2 / 3202)</b>",
          "<b>Claire McCaskill (D-MO)</b><br><i>@McCaskillOffice</i><br><b>0.06% (2 / 3241)</b>",
          "<b>Joe Donnelly (D-IN)</b><br><i>@SenDonnelly</i><br><b>0.06% (2 / 3244)</b>",
          "<b>Peter Visclosky (D-IN)</b><br><i>@RepVisclosky</i><br><b>0.06% (1 / 1767)</b>",
          "<b>Matt Cartwright (D-PA)</b><br><i>@RepCartwright</i><br><b>0.05% (1 / 1894)</b>",
          "<b>Cheri Bustos (D-IL)</b><br><i>@RepCheri</i><br><b>0.03% (1 / 3006)</b>",
          "<b>John Delaney (D-MD)</b><br><i>@RepJohnDelaney</i><br><b>0.03% (1 / 3212)</b>",
          "<b>Christopher Coons (D-DE)</b><br><i>@SenCoonsOffice</i><br><b>0.00% (0 / 2190)</b>",
          "<b>Dave Loebsack (D-IA)</b><br><i>@DaveLoebsack</i><br><b>0.00% (0 / 900)</b>",
          "<b>Earl Blumenauer (D-OR)</b><br><i>@BlumenauerMedia</i><br><b>0.00% (0 / 352)</b>",
          "<b>Joe Manchin (D-WV)</b><br><i>@Sen_JoeManchin</i><br><b>0.00% (0 / 3209)</b>",
          "<b>John Sarbanes (D-MD)</b><br><i>@RepSarbanes</i><br><b>0.00% (0 / 1080)</b>",
          "<b>Jon Tester (D-MT)</b><br><i>@SenatorTester</i><br><b>0.00% (0 / 3201)</b>",
          "<b>Maxine Waters (D-CA)</b><br><i>@MaxineWaters</i><br><b>0.00% (0 / 263)</b>",
          "<b>Rick Nolan (D-MN)</b><br><i>@USRepRickNolan</i><br><b>0.00% (0 / 2533)</b>",
          "<b>Sanford Bishop (D-GA)</b><br><i>@SanfordBishop</i><br><b>0.00% (0 / 1704)</b>",
          "<b>Stephen Lynch (D-MA)</b><br><i>@RepStephenLynch</i><br><b>0.00% (0 / 3154)</b>",
          "<b>Tina Smith (D-MN)</b><br><i>@SenTinaSmith</i><br><b>0.00% (0 / 120)</b>"
         ],
         "type": "scatter",
         "x": [
          0,
          1,
          2,
          3,
          4,
          5,
          6,
          7,
          8,
          9,
          10,
          11,
          12,
          13,
          14,
          16,
          17,
          18,
          19,
          0,
          1,
          2,
          3,
          4,
          6,
          7,
          8,
          9,
          10,
          11,
          12,
          13,
          14,
          15,
          16,
          17,
          19,
          0,
          1,
          3,
          4,
          5,
          6,
          7,
          8,
          9,
          10,
          11,
          12,
          13,
          15,
          16,
          17,
          18,
          19,
          0,
          1,
          2,
          3,
          4,
          5,
          6,
          7,
          8,
          9,
          10,
          11,
          12,
          13,
          14,
          15,
          16,
          17,
          18,
          19,
          1,
          2,
          3,
          4,
          5,
          6,
          7,
          8,
          9,
          10,
          12,
          13,
          14,
          15,
          16,
          18,
          0,
          1,
          3,
          4,
          6,
          7,
          8,
          9,
          10,
          11,
          12,
          13,
          14,
          16,
          18,
          19,
          0,
          1,
          2,
          3,
          5,
          6,
          7,
          8,
          9,
          10,
          11,
          12,
          13,
          15,
          16,
          19,
          0,
          2,
          3,
          4,
          5,
          6,
          7,
          8,
          9,
          10,
          11,
          13,
          15,
          16,
          17,
          19,
          1,
          2,
          3,
          4,
          5,
          6,
          7,
          8,
          9,
          10,
          11,
          12,
          13,
          14,
          15,
          16,
          17,
          19,
          0,
          1,
          2,
          3,
          4,
          7,
          9,
          10,
          11,
          13,
          14,
          16,
          18,
          19,
          0,
          1,
          3,
          4,
          5,
          6,
          7,
          8,
          9,
          11,
          12,
          13,
          14,
          15,
          16,
          17,
          19,
          2,
          7,
          8,
          9,
          10,
          11,
          13,
          14,
          16,
          0,
          4,
          8,
          9,
          11,
          12,
          13,
          15,
          2,
          6,
          8,
          11,
          0,
          2,
          13,
          16,
          17,
          0,
          4,
          8,
          10,
          13,
          3,
          17,
          19,
          2,
          3,
          18,
          12,
          1,
          9,
          18,
          19,
          9,
          11,
          8,
          10,
          17,
          0,
          12
         ],
         "y": [
          0,
          0,
          0,
          0,
          0,
          0,
          0,
          0,
          0,
          0,
          0,
          0,
          0,
          0,
          0,
          0,
          0,
          0,
          0,
          -1,
          -1,
          -1,
          -1,
          -1,
          -1,
          -1,
          -1,
          -1,
          -1,
          -1,
          -1,
          -1,
          -1,
          -1,
          -1,
          -1,
          -1,
          -2,
          -2,
          -2,
          -2,
          -2,
          -2,
          -2,
          -2,
          -2,
          -2,
          -2,
          -2,
          -2,
          -2,
          -2,
          -2,
          -2,
          -2,
          -3,
          -3,
          -3,
          -3,
          -3,
          -3,
          -3,
          -3,
          -3,
          -3,
          -3,
          -3,
          -3,
          -3,
          -3,
          -3,
          -3,
          -3,
          -3,
          -3,
          -4,
          -4,
          -4,
          -4,
          -4,
          -4,
          -4,
          -4,
          -4,
          -4,
          -4,
          -4,
          -4,
          -4,
          -4,
          -4,
          -5,
          -5,
          -5,
          -5,
          -5,
          -5,
          -5,
          -5,
          -5,
          -5,
          -5,
          -5,
          -5,
          -5,
          -5,
          -5,
          -6,
          -6,
          -6,
          -6,
          -6,
          -6,
          -6,
          -6,
          -6,
          -6,
          -6,
          -6,
          -6,
          -6,
          -6,
          -6,
          -7,
          -7,
          -7,
          -7,
          -7,
          -7,
          -7,
          -7,
          -7,
          -7,
          -7,
          -7,
          -7,
          -7,
          -7,
          -7,
          -8,
          -8,
          -8,
          -8,
          -8,
          -8,
          -8,
          -8,
          -8,
          -8,
          -8,
          -8,
          -8,
          -8,
          -8,
          -8,
          -8,
          -8,
          -9,
          -9,
          -9,
          -9,
          -9,
          -9,
          -9,
          -9,
          -9,
          -9,
          -9,
          -9,
          -9,
          -9,
          -10,
          -10,
          -10,
          -10,
          -10,
          -10,
          -10,
          -10,
          -10,
          -10,
          -10,
          -10,
          -10,
          -10,
          -10,
          -10,
          -10,
          -11,
          -11,
          -11,
          -11,
          -11,
          -11,
          -11,
          -11,
          -11,
          -12,
          -12,
          -12,
          -12,
          -12,
          -12,
          -12,
          -12,
          -13,
          -13,
          -13,
          -13,
          -14,
          -14,
          -14,
          -14,
          -14,
          -15,
          -15,
          -15,
          -15,
          -15,
          -16,
          -16,
          -16,
          -17,
          -17,
          -17,
          -18,
          -20,
          -20,
          -20,
          -21,
          -22,
          -22,
          -23,
          -24,
          -24,
          -25,
          -25
         ]
        },
        {
         "hoverinfo": "text",
         "marker": {
          "color": [
           "rgb(0.946666666667,0.268235294118,0.196078431373)",
           "rgb(0.946666666667,0.268235294118,0.196078431373)",
           "rgb(0.946666666667,0.268235294118,0.196078431373)",
           "rgb(0.946666666667,0.268235294118,0.196078431373)",
           "rgb(0.946666666667,0.268235294118,0.196078431373)",
           "rgb(0.946666666667,0.268235294118,0.196078431373)",
           "rgb(0.946666666667,0.268235294118,0.196078431373)",
           "rgb(0.946666666667,0.268235294118,0.196078431373)",
           "rgb(0.946666666667,0.268235294118,0.196078431373)",
           "rgb(0.946666666667,0.268235294118,0.196078431373)",
           "rgb(0.946666666667,0.268235294118,0.196078431373)",
           "rgb(0.946666666667,0.268235294118,0.196078431373)",
           "rgb(0.946666666667,0.268235294118,0.196078431373)",
           "rgb(0.946666666667,0.268235294118,0.196078431373)",
           "rgb(0.946666666667,0.268235294118,0.196078431373)",
           "rgb(0.946666666667,0.268235294118,0.196078431373)",
           "rgb(0.946666666667,0.268235294118,0.196078431373)",
           "rgb(0.946666666667,0.268235294118,0.196078431373)",
           "rgb(0.946666666667,0.268235294118,0.196078431373)",
           "rgb(0.946666666667,0.268235294118,0.196078431373)",
           "rgb(0.946666666667,0.268235294118,0.196078431373)",
           "rgb(0.946666666667,0.268235294118,0.196078431373)",
           "rgb(0.946666666667,0.268235294118,0.196078431373)",
           "rgb(0.946666666667,0.268235294118,0.196078431373)",
           "rgb(0.946666666667,0.268235294118,0.196078431373)",
           "rgb(0.946666666667,0.268235294118,0.196078431373)",
           "rgb(0.946666666667,0.268235294118,0.196078431373)",
           "rgb(0.946666666667,0.268235294118,0.196078431373)",
           "rgb(0.946666666667,0.268235294118,0.196078431373)",
           "rgb(0.946666666667,0.268235294118,0.196078431373)",
           "rgb(0.946666666667,0.268235294118,0.196078431373)",
           "rgb(0.946666666667,0.268235294118,0.196078431373)",
           "rgb(0.946666666667,0.268235294118,0.196078431373)",
           "rgb(0.946666666667,0.268235294118,0.196078431373)",
           "rgb(0.946666666667,0.268235294118,0.196078431373)",
           "rgb(0.946666666667,0.268235294118,0.196078431373)",
           "rgb(0.946666666667,0.268235294118,0.196078431373)",
           "rgb(0.946666666667,0.268235294118,0.196078431373)",
           "rgb(0.946666666667,0.268235294118,0.196078431373)",
           "rgb(0.946666666667,0.268235294118,0.196078431373)",
           "rgb(0.946666666667,0.268235294118,0.196078431373)",
           "rgb(0.946666666667,0.268235294118,0.196078431373)",
           "rgb(0.946666666667,0.268235294118,0.196078431373)",
           "rgb(0.946666666667,0.268235294118,0.196078431373)",
           "rgb(0.946666666667,0.268235294118,0.196078431373)",
           "rgb(0.946666666667,0.268235294118,0.196078431373)",
           "rgb(0.946666666667,0.268235294118,0.196078431373)",
           "rgb(0.946666666667,0.268235294118,0.196078431373)",
           "rgb(0.946666666667,0.268235294118,0.196078431373)",
           "rgb(0.946666666667,0.268235294118,0.196078431373)",
           "rgb(0.946666666667,0.268235294118,0.196078431373)",
           "rgb(0.946666666667,0.268235294118,0.196078431373)",
           "rgb(0.946666666667,0.268235294118,0.196078431373)",
           "rgb(0.946666666667,0.268235294118,0.196078431373)",
           "rgb(0.946666666667,0.268235294118,0.196078431373)",
           "rgb(0.946666666667,0.268235294118,0.196078431373)",
           "rgb(0.946666666667,0.268235294118,0.196078431373)",
           "rgb(0.946666666667,0.268235294118,0.196078431373)",
           "rgb(0.946666666667,0.268235294118,0.196078431373)",
           "rgb(0.946666666667,0.268235294118,0.196078431373)",
           "rgb(0.946666666667,0.268235294118,0.196078431373)",
           "rgb(0.946666666667,0.268235294118,0.196078431373)",
           "rgb(0.946666666667,0.268235294118,0.196078431373)",
           "rgb(0.946666666667,0.268235294118,0.196078431373)",
           "rgb(0.946666666667,0.268235294118,0.196078431373)",
           "rgb(0.946666666667,0.268235294118,0.196078431373)",
           "rgb(0.946666666667,0.268235294118,0.196078431373)",
           "rgb(0.946666666667,0.268235294118,0.196078431373)",
           "rgb(0.946666666667,0.268235294118,0.196078431373)",
           "rgb(0.946666666667,0.268235294118,0.196078431373)",
           "rgb(0.946666666667,0.268235294118,0.196078431373)",
           "rgb(0.946666666667,0.268235294118,0.196078431373)",
           "rgb(0.946666666667,0.268235294118,0.196078431373)",
           "rgb(0.946666666667,0.268235294118,0.196078431373)",
           "rgb(0.946666666667,0.268235294118,0.196078431373)",
           "rgb(0.946666666667,0.268235294118,0.196078431373)",
           "rgb(0.946666666667,0.268235294118,0.196078431373)",
           "rgb(0.946666666667,0.268235294118,0.196078431373)",
           "rgb(0.946666666667,0.268235294118,0.196078431373)",
           "rgb(0.946666666667,0.268235294118,0.196078431373)",
           "rgb(0.946666666667,0.268235294118,0.196078431373)",
           "rgb(0.946666666667,0.268235294118,0.196078431373)",
           "rgb(0.946666666667,0.268235294118,0.196078431373)",
           "rgb(0.946666666667,0.268235294118,0.196078431373)",
           "rgb(0.946666666667,0.268235294118,0.196078431373)",
           "rgb(0.946666666667,0.268235294118,0.196078431373)",
           "rgb(0.946666666667,0.268235294118,0.196078431373)",
           "rgb(0.946666666667,0.268235294118,0.196078431373)",
           "rgb(0.946666666667,0.268235294118,0.196078431373)",
           "rgb(0.946666666667,0.268235294118,0.196078431373)",
           "rgb(0.946666666667,0.268235294118,0.196078431373)",
           "rgb(0.946666666667,0.268235294118,0.196078431373)",
           "rgb(0.946666666667,0.268235294118,0.196078431373)",
           "rgb(0.946666666667,0.268235294118,0.196078431373)",
           "rgb(0.946666666667,0.268235294118,0.196078431373)",
           "rgb(0.946666666667,0.268235294118,0.196078431373)",
           "rgb(0.946666666667,0.268235294118,0.196078431373)",
           "rgb(0.946666666667,0.268235294118,0.196078431373)",
           "rgb(0.946666666667,0.268235294118,0.196078431373)",
           "rgb(0.946666666667,0.268235294118,0.196078431373)",
           "rgb(0.946666666667,0.268235294118,0.196078431373)",
           "rgb(0.946666666667,0.268235294118,0.196078431373)",
           "rgb(0.946666666667,0.268235294118,0.196078431373)",
           "rgb(0.946666666667,0.268235294118,0.196078431373)",
           "rgb(0.946666666667,0.268235294118,0.196078431373)",
           "rgb(0.946666666667,0.268235294118,0.196078431373)",
           "rgb(0.946666666667,0.268235294118,0.196078431373)",
           "rgb(0.946666666667,0.268235294118,0.196078431373)",
           "rgb(0.946666666667,0.268235294118,0.196078431373)",
           "rgb(0.946666666667,0.268235294118,0.196078431373)",
           "rgb(0.946666666667,0.268235294118,0.196078431373)",
           "rgb(0.946666666667,0.268235294118,0.196078431373)",
           "rgb(0.946666666667,0.268235294118,0.196078431373)",
           "rgb(0.946666666667,0.268235294118,0.196078431373)",
           "rgb(0.946666666667,0.268235294118,0.196078431373)",
           "rgb(0.946666666667,0.268235294118,0.196078431373)",
           "rgb(0.946666666667,0.268235294118,0.196078431373)",
           "rgb(0.946666666667,0.268235294118,0.196078431373)",
           "rgb(0.946666666667,0.268235294118,0.196078431373)",
           "rgb(0.946666666667,0.268235294118,0.196078431373)",
           "rgb(0.946666666667,0.268235294118,0.196078431373)",
           "rgb(0.946666666667,0.268235294118,0.196078431373)",
           "rgb(0.946666666667,0.268235294118,0.196078431373)",
           "rgb(0.946666666667,0.268235294118,0.196078431373)",
           "rgb(0.946666666667,0.268235294118,0.196078431373)",
           "rgb(0.946666666667,0.268235294118,0.196078431373)",
           "rgb(0.946666666667,0.268235294118,0.196078431373)",
           "rgb(0.946666666667,0.268235294118,0.196078431373)",
           "rgb(0.946666666667,0.268235294118,0.196078431373)",
           "rgb(0.946666666667,0.268235294118,0.196078431373)",
           "rgb(0.946666666667,0.268235294118,0.196078431373)",
           "rgb(0.946666666667,0.268235294118,0.196078431373)",
           "rgb(0.946666666667,0.268235294118,0.196078431373)",
           "rgb(0.946666666667,0.268235294118,0.196078431373)",
           "rgb(0.946666666667,0.268235294118,0.196078431373)",
           "rgb(0.946666666667,0.268235294118,0.196078431373)",
           "rgb(0.946666666667,0.268235294118,0.196078431373)",
           "rgb(0.946666666667,0.268235294118,0.196078431373)",
           "rgb(0.946666666667,0.268235294118,0.196078431373)",
           "rgb(0.946666666667,0.268235294118,0.196078431373)",
           "rgb(0.946666666667,0.268235294118,0.196078431373)",
           "rgb(0.946666666667,0.268235294118,0.196078431373)",
           "rgb(0.946666666667,0.268235294118,0.196078431373)",
           "rgb(0.946666666667,0.268235294118,0.196078431373)",
           "rgb(0.946666666667,0.268235294118,0.196078431373)",
           "rgb(0.946666666667,0.268235294118,0.196078431373)",
           "rgb(0.946666666667,0.268235294118,0.196078431373)",
           "rgb(0.946666666667,0.268235294118,0.196078431373)",
           "rgb(0.946666666667,0.268235294118,0.196078431373)",
           "rgb(0.946666666667,0.268235294118,0.196078431373)",
           "rgb(0.946666666667,0.268235294118,0.196078431373)",
           "rgb(0.946666666667,0.268235294118,0.196078431373)",
           "rgb(0.946666666667,0.268235294118,0.196078431373)",
           "rgb(0.946666666667,0.268235294118,0.196078431373)",
           "rgb(0.946666666667,0.268235294118,0.196078431373)",
           "rgb(0.946666666667,0.268235294118,0.196078431373)",
           "rgb(0.946666666667,0.268235294118,0.196078431373)",
           "rgb(0.946666666667,0.268235294118,0.196078431373)",
           "rgb(0.946666666667,0.268235294118,0.196078431373)",
           "rgb(0.946666666667,0.268235294118,0.196078431373)",
           "rgb(0.946666666667,0.268235294118,0.196078431373)",
           "rgb(0.946666666667,0.268235294118,0.196078431373)",
           "rgb(0.946666666667,0.268235294118,0.196078431373)",
           "rgb(0.946666666667,0.268235294118,0.196078431373)",
           "rgb(0.946666666667,0.268235294118,0.196078431373)",
           "rgb(0.946666666667,0.268235294118,0.196078431373)",
           "rgb(0.946666666667,0.268235294118,0.196078431373)",
           "rgb(0.946666666667,0.268235294118,0.196078431373)",
           "rgb(0.946666666667,0.268235294118,0.196078431373)",
           "rgb(0.946666666667,0.268235294118,0.196078431373)",
           "rgb(0.946666666667,0.268235294118,0.196078431373)",
           "rgb(0.946666666667,0.268235294118,0.196078431373)",
           "rgb(0.946666666667,0.268235294118,0.196078431373)",
           "rgb(0.946666666667,0.268235294118,0.196078431373)",
           "rgb(0.946666666667,0.268235294118,0.196078431373)",
           "rgb(0.946666666667,0.268235294118,0.196078431373)",
           "rgb(0.946666666667,0.268235294118,0.196078431373)",
           "rgb(0.946666666667,0.268235294118,0.196078431373)",
           "rgb(0.946666666667,0.268235294118,0.196078431373)",
           "rgb(0.946666666667,0.268235294118,0.196078431373)",
           "rgb(0.946666666667,0.268235294118,0.196078431373)",
           "rgb(0.946666666667,0.268235294118,0.196078431373)",
           "rgb(0.946666666667,0.268235294118,0.196078431373)",
           "rgb(0.946666666667,0.268235294118,0.196078431373)",
           "rgb(0.946666666667,0.268235294118,0.196078431373)",
           "rgb(0.946666666667,0.268235294118,0.196078431373)",
           "rgb(0.946666666667,0.268235294118,0.196078431373)",
           "rgb(0.946666666667,0.268235294118,0.196078431373)",
           "rgb(0.946666666667,0.268235294118,0.196078431373)",
           "rgb(0.946666666667,0.268235294118,0.196078431373)",
           "rgb(0.946666666667,0.268235294118,0.196078431373)",
           "rgb(0.946666666667,0.268235294118,0.196078431373)",
           "rgb(0.946666666667,0.268235294118,0.196078431373)",
           "rgb(0.946666666667,0.268235294118,0.196078431373)",
           "rgb(0.946666666667,0.268235294118,0.196078431373)",
           "rgb(0.946666666667,0.268235294118,0.196078431373)",
           "rgb(0.946666666667,0.268235294118,0.196078431373)",
           "rgb(0.946666666667,0.268235294118,0.196078431373)",
           "rgb(0.946666666667,0.268235294118,0.196078431373)",
           "rgb(0.946666666667,0.268235294118,0.196078431373)",
           "rgb(0.946666666667,0.268235294118,0.196078431373)",
           "rgb(0.946666666667,0.268235294118,0.196078431373)",
           "rgb(0.946666666667,0.268235294118,0.196078431373)",
           "rgb(0.946666666667,0.268235294118,0.196078431373)",
           "rgb(0.946666666667,0.268235294118,0.196078431373)",
           "rgb(0.946666666667,0.268235294118,0.196078431373)",
           "rgb(0.946666666667,0.268235294118,0.196078431373)",
           "rgb(0.946666666667,0.268235294118,0.196078431373)",
           "rgb(0.946666666667,0.268235294118,0.196078431373)",
           "rgb(0.946666666667,0.268235294118,0.196078431373)",
           "rgb(0.946666666667,0.268235294118,0.196078431373)",
           "rgb(0.946666666667,0.268235294118,0.196078431373)",
           "rgb(0.946666666667,0.268235294118,0.196078431373)",
           "rgb(0.946666666667,0.268235294118,0.196078431373)",
           "rgb(0.946666666667,0.268235294118,0.196078431373)",
           "rgb(0.946666666667,0.268235294118,0.196078431373)",
           "rgb(0.946666666667,0.268235294118,0.196078431373)",
           "rgb(0.946666666667,0.268235294118,0.196078431373)",
           "rgb(0.946666666667,0.268235294118,0.196078431373)",
           "rgb(0.946666666667,0.268235294118,0.196078431373)",
           "rgb(0.946666666667,0.268235294118,0.196078431373)",
           "rgb(0.946666666667,0.268235294118,0.196078431373)",
           "rgb(0.946666666667,0.268235294118,0.196078431373)",
           "rgb(0.946666666667,0.268235294118,0.196078431373)",
           "rgb(0.946666666667,0.268235294118,0.196078431373)",
           "rgb(0.946666666667,0.268235294118,0.196078431373)",
           "rgb(0.946666666667,0.268235294118,0.196078431373)",
           "rgb(0.946666666667,0.268235294118,0.196078431373)",
           "rgb(0.946666666667,0.268235294118,0.196078431373)",
           "rgb(0.946666666667,0.268235294118,0.196078431373)",
           "rgb(0.946666666667,0.268235294118,0.196078431373)",
           "rgb(0.946666666667,0.268235294118,0.196078431373)",
           "rgb(0.946666666667,0.268235294118,0.196078431373)",
           "rgb(0.946666666667,0.268235294118,0.196078431373)",
           "rgb(0.946666666667,0.268235294118,0.196078431373)",
           "rgb(0.946666666667,0.268235294118,0.196078431373)",
           "rgb(0.946666666667,0.268235294118,0.196078431373)",
           "rgb(0.946666666667,0.268235294118,0.196078431373)",
           "rgb(0.946666666667,0.268235294118,0.196078431373)",
           "rgb(0.946666666667,0.268235294118,0.196078431373)",
           "rgb(0.946666666667,0.268235294118,0.196078431373)",
           "rgb(0.946666666667,0.268235294118,0.196078431373)",
           "rgb(0.946666666667,0.268235294118,0.196078431373)",
           "rgb(0.946666666667,0.268235294118,0.196078431373)",
           "rgb(0.946666666667,0.268235294118,0.196078431373)",
           "rgb(0.946666666667,0.268235294118,0.196078431373)",
           "rgb(0.946666666667,0.268235294118,0.196078431373)",
           "rgb(0.946666666667,0.268235294118,0.196078431373)",
           "rgb(0.946666666667,0.268235294118,0.196078431373)",
           "rgb(0.946666666667,0.268235294118,0.196078431373)",
           "rgb(0.946666666667,0.268235294118,0.196078431373)",
           "rgb(0.946666666667,0.268235294118,0.196078431373)",
           "rgb(0.946666666667,0.268235294118,0.196078431373)",
           "rgb(0.946666666667,0.268235294118,0.196078431373)",
           "rgb(0.946666666667,0.268235294118,0.196078431373)",
           "rgb(0.946666666667,0.268235294118,0.196078431373)",
           "rgb(0.946666666667,0.268235294118,0.196078431373)",
           "rgb(0.946666666667,0.268235294118,0.196078431373)",
           "rgb(0.946666666667,0.268235294118,0.196078431373)",
           "rgb(0.946666666667,0.268235294118,0.196078431373)",
           "rgb(0.946666666667,0.268235294118,0.196078431373)",
           "rgb(0.946666666667,0.268235294118,0.196078431373)",
           "rgb(0.946666666667,0.268235294118,0.196078431373)",
           "rgb(0.946666666667,0.268235294118,0.196078431373)",
           "rgb(0.946666666667,0.268235294118,0.196078431373)",
           "rgb(0.946666666667,0.268235294118,0.196078431373)",
           "rgb(0.946666666667,0.268235294118,0.196078431373)",
           "rgb(0.946666666667,0.268235294118,0.196078431373)",
           "rgb(0.946666666667,0.268235294118,0.196078431373)",
           "rgb(0.946666666667,0.268235294118,0.196078431373)",
           "rgb(0.946666666667,0.268235294118,0.196078431373)",
           "rgb(0.946666666667,0.268235294118,0.196078431373)",
           "rgb(0.946666666667,0.268235294118,0.196078431373)",
           "rgb(0.946666666667,0.268235294118,0.196078431373)",
           "rgb(0.946666666667,0.268235294118,0.196078431373)",
           "rgb(0.946666666667,0.268235294118,0.196078431373)",
           "rgb(0.946666666667,0.268235294118,0.196078431373)",
           "rgb(0.946666666667,0.268235294118,0.196078431373)",
           "rgb(0.946666666667,0.268235294118,0.196078431373)",
           "rgb(0.946666666667,0.268235294118,0.196078431373)",
           "rgb(0.946666666667,0.268235294118,0.196078431373)",
           "rgb(0.946666666667,0.268235294118,0.196078431373)"
          ],
          "size": 1
         },
         "mode": "markers",
         "text": [
          "<b>Ileana Ros-Lehtinen (R-FL)</b><br><i>@RosLehtinen</i><br><b>4.39% (141 / 3214)</b>",
          "<b>Dan Newhouse (R-WA)</b><br><i>@RepNewhouse</i><br><b>3.56% (38 / 1068)</b>",
          "<b>Marsha Blackburn (R-TN)</b><br><i>@MarshaBlackburn</i><br><b>2.45% (79 / 3226)</b>",
          "<b>Carlos Curbelo (R-FL)</b><br><i>@RepCurbelo</i><br><b>2.31% (68 / 2947)</b>",
          "<b>David Valadao (R-CA)</b><br><i>@RepDavidValadao</i><br><b>1.87% (17 / 909)</b>",
          "<b>Steve King (R-IA)</b><br><i>@SteveKingIA</i><br><b>1.24% (26 / 2098)</b>",
          "<b>John Cornyn (R-TX)</b><br><i>@JohnCornyn</i><br><b>1.09% (35 / 3215)</b>",
          "<b>Mia Love (R-UT)</b><br><i>@repmialove</i><br><b>1.00% (11 / 1103)</b>",
          "<b>Tom Cotton (R-AR)</b><br><i>@SenTomCotton</i><br><b>0.99% (32 / 3224)</b>",
          "<b>Orrin Hatch (R-UT)</b><br><i>@SenOrrinHatch</i><br><b>0.96% (31 / 3224)</b>",
          "<b>Thom Tillis (R-NC)</b><br><i>@senthomtillis</i><br><b>0.95% (29 / 3038)</b>",
          "<b>Mike Coffman (R-CO)</b><br><i>@RepMikeCoffman</i><br><b>0.81% (25 / 3069)</b>",
          "<b>Mario Diaz-Balart (R-FL)</b><br><i>@MarioDB</i><br><b>0.78% (25 / 3211)</b>",
          "<b>Andy Biggs (R-AZ)</b><br><i>@RepAndyBiggsAZ</i><br><b>0.70% (15 / 2143)</b>",
          "<b>Jeff Flake (R-AZ)</b><br><i>@JeffFlake</i><br><b>0.70% (17 / 2440)</b>",
          "<b>Jeffrey Denham (R-CA)</b><br><i>@RepJeffDenham</i><br><b>0.68% (18 / 2644)</b>",
          "<b>Lou Barletta (R-PA)</b><br><i>@RepLouBarletta</i><br><b>0.61% (15 / 2472)</b>",
          "<b>John Faso (R-NY)</b><br><i>@RepJohnFaso</i><br><b>0.60% (3 / 500)</b>",
          "<b>James Lankford (R-OK)</b><br><i>@SenatorLankford</i><br><b>0.59% (19 / 3211)</b>",
          "<b>Duncan Hunter (R-CA)</b><br><i>@Rep_Hunter</i><br><b>0.57% (2 / 349)</b>",
          "<b>Steve Russell (R-OK)</b><br><i>@RepRussell</i><br><b>0.48% (2 / 419)</b>",
          "<b>Don Bacon (R-NE)</b><br><i>@RepDonBacon</i><br><b>0.45% (10 / 2211)</b>",
          "<b>Alex Mooney (R-WV)</b><br><i>@RepAlexMooney</i><br><b>0.45% (6 / 1332)</b>",
          "<b>Paul Gosar (R-AZ)</b><br><i>@RepGosar</i><br><b>0.44% (14 / 3187)</b>",
          "<b>Warren Davidson (R-OH)</b><br><i>@WarrenDavidson</i><br><b>0.41% (5 / 1215)</b>",
          "<b>Louie Gohmert (R-TX)</b><br><i>@RepLouieGohmert</i><br><b>0.40% (13 / 3220)</b>",
          "<b>Martha McSally (R-AZ)</b><br><i>@RepMcSally</i><br><b>0.37% (9 / 2408)</b>",
          "<b>Susan Brooks (R-IN)</b><br><i>@SusanWBrooks</i><br><b>0.37% (12 / 3240)</b>",
          "<b>Jody Hice (R-GA)</b><br><i>@congressmanhice</i><br><b>0.34% (6 / 1771)</b>",
          "<b>Erik Paulsen (R-MN)</b><br><i>@RepErikPaulsen</i><br><b>0.31% (10 / 3236)</b>",
          "<b>Lloyd Smucker (R-PA)</b><br><i>@RepSmucker</i><br><b>0.30% (8 / 2696)</b>",
          "<b>Francis Rooney (R-FL)</b><br><i>@RepRooney</i><br><b>0.29% (2 / 687)</b>",
          "<b>Tom MacArthur (R-NJ)</b><br><i>@RepTomMacArthur</i><br><b>0.28% (5 / 1784)</b>",
          "<b>Fred Upton (R-MI)</b><br><i>@RepFredUpton</i><br><b>0.28% (9 / 3221)</b>",
          "<b>Jim Banks (R-IN)</b><br><i>@RepJimBanks</i><br><b>0.28% (4 / 1438)</b>",
          "<b>Tom McClintock (R-CA)</b><br><i>@RepMcClintock</i><br><b>0.27% (1 / 365)</b>",
          "<b>Dave Reichert (R-WA)</b><br><i>@DaveReichert</i><br><b>0.22% (7 / 3197)</b>",
          "<b>Will Hurd (R-TX)</b><br><i>@hurdonthehill</i><br><b>0.22% (7 / 3238)</b>",
          "<b>Bill Flores (R-TX)</b><br><i>@RepBillFlores</i><br><b>0.22% (7 / 3242)</b>",
          "<b>David Perdue (R-GA)</b><br><i>@sendavidperdue</i><br><b>0.21% (6 / 2825)</b>",
          "<b>Matt Gaetz (R-FL)</b><br><i>@RepMattGaetz</i><br><b>0.21% (2 / 961)</b>",
          "<b>Mo Brooks (R-AL)</b><br><i>@RepMoBrooks</i><br><b>0.20% (3 / 1467)</b>",
          "<b>Barry Loudermilk (R-GA)</b><br><i>@RepLoudermilk</i><br><b>0.20% (3 / 1514)</b>",
          "<b>Jodey Arrington (R-TX)</b><br><i>@RepArrington</i><br><b>0.20% (1 / 505)</b>",
          "<b>Robert Pittenger (R-NC)</b><br><i>@RepPittenger</i><br><b>0.19% (6 / 3218)</b>",
          "<b>Sean Duffy (R-WI)</b><br><i>@RepSeanDuffy</i><br><b>0.19% (6 / 3230)</b>",
          "<b>Steve Pearce (R-NM)</b><br><i>@RepStevePearce</i><br><b>0.18% (6 / 3250)</b>",
          "<b>Jack Bergman (R-MI)</b><br><i>@RepJackBergman</i><br><b>0.17% (1 / 599)</b>",
          "<b>Tom Graves (R-GA)</b><br><i>@RepTomGraves</i><br><b>0.15% (5 / 3228)</b>",
          "<b>Bruce Poliquin (R-ME)</b><br><i>@RepPoliquin</i><br><b>0.15% (2 / 1293)</b>",
          "<b>Robert Goodlatte (R-VA)</b><br><i>@RepGoodlatte</i><br><b>0.15% (5 / 3233)</b>",
          "<b>Jason Lewis (R-MN)</b><br><i>@RepJasonLewis</i><br><b>0.15% (1 / 656)</b>",
          "<b>Raúl Labrador (R-ID)</b><br><i>@Raul_Labrador</i><br><b>0.15% (3 / 2014)</b>",
          "<b>Jaime Herrera Beutler (R-WA)</b><br><i>@HerreraBeutler</i><br><b>0.15% (1 / 674)</b>",
          "<b>Mike Kelly (R-PA)</b><br><i>@MikeKellyPA</i><br><b>0.14% (3 / 2070)</b>",
          "<b>Steve Knight (R-CA)</b><br><i>@SteveKnight25</i><br><b>0.13% (1 / 750)</b>",
          "<b>Paul Cook (R-CA)</b><br><i>@RepPaulCook</i><br><b>0.13% (2 / 1519)</b>",
          "<b>Roger Williams (R-TX)</b><br><i>@RepRWilliams</i><br><b>0.13% (4 / 3076)</b>",
          "<b>Adam Kinzinger (R-IL)</b><br><i>@RepKinzinger</i><br><b>0.12% (4 / 3200)</b>",
          "<b>Charles Grassley (R-IA)</b><br><i>@ChuckGrassley</i><br><b>0.12% (4 / 3206)</b>",
          "<b>Glenn Thompson (R-PA)</b><br><i>@CongressmanGT</i><br><b>0.12% (4 / 3217)</b>",
          "<b>Mitch McConnell (R-KY)</b><br><i>@McConnellPress</i><br><b>0.12% (4 / 3219)</b>",
          "<b>Mike Lee (R-UT)</b><br><i>@SenMikeLee</i><br><b>0.12% (4 / 3229)</b>",
          "<b>Darrell Issa (R-CA)</b><br><i>@DarrellIssa</i><br><b>0.12% (4 / 3230)</b>",
          "<b>Frank LoBiondo (R-NJ)</b><br><i>@RepLoBiondo</i><br><b>0.12% (4 / 3240)</b>",
          "<b>Kevin Yoder (R-KS)</b><br><i>@RepKevinYoder</i><br><b>0.12% (4 / 3248)</b>",
          "<b>Leonard Lance (R-NJ)</b><br><i>@RepLanceNJ7</i><br><b>0.12% (2 / 1638)</b>",
          "<b>Ted Yoho (R-FL)</b><br><i>@RepTedYoho</i><br><b>0.11% (1 / 911)</b>",
          "<b>Trey Gowdy (R-SC)</b><br><i>@TGowdySC</i><br><b>0.11% (2 / 1829)</b>",
          "<b>Rod Blum (R-IA)</b><br><i>@RepRodBlum</i><br><b>0.10% (2 / 2043)</b>",
          "<b>Mike Rounds (R-SD)</b><br><i>@SenatorRounds</i><br><b>0.10% (2 / 2051)</b>",
          "<b>Ron Johnson (R-WI)</b><br><i>@SenRonJohnson</i><br><b>0.09% (3 / 3196)</b>",
          "<b>Rodney Davis (R-IL)</b><br><i>@RodneyDavis</i><br><b>0.09% (3 / 3202)</b>",
          "<b>Martha Roby (R-AL)</b><br><i>@RepMarthaRoby</i><br><b>0.09% (3 / 3212)</b>",
          "<b>Mimi Walters (R-CA)</b><br><i>@RepMimiWalters</i><br><b>0.09% (3 / 3212)</b>",
          "<b>John McCain (R-AZ)</b><br><i>@SenJohnMcCain</i><br><b>0.09% (3 / 3217)</b>",
          "<b>Rob Portman (R-OH)</b><br><i>@SenRobPortman</i><br><b>0.09% (3 / 3217)</b>",
          "<b>Bradley Byrne (R-AL)</b><br><i>@RepByrne</i><br><b>0.09% (3 / 3221)</b>",
          "<b>Jeffrey Duncan (R-SC)</b><br><i>@RepJeffDuncan</i><br><b>0.09% (3 / 3223)</b>",
          "<b>Michael Burgess (R-TX)</b><br><i>@MichaelCBurgess</i><br><b>0.09% (3 / 3225)</b>",
          "<b>Mark Meadows (R-NC)</b><br><i>@RepMarkMeadows</i><br><b>0.09% (3 / 3233)</b>",
          "<b>Sam Johnson (R-TX)</b><br><i>@SamsPressShop</i><br><b>0.09% (1 / 1078)</b>",
          "<b>Rick Allen (R-GA)</b><br><i>@reprickallen</i><br><b>0.09% (1 / 1125)</b>",
          "<b>Claudia Tenney (R-NY)</b><br><i>@RepTenney</i><br><b>0.09% (1 / 1142)</b>",
          "<b>Mark Amodei (R-NV)</b><br><i>@MarkAmodeiNV2</i><br><b>0.09% (1 / 1166)</b>",
          "<b>Mike Bost (R-IL)</b><br><i>@RepBost</i><br><b>0.09% (1 / 1169)</b>",
          "<b>Lee Zeldin (R-NY)</b><br><i>@RepLeeZeldin</i><br><b>0.09% (1 / 1172)</b>",
          "<b>Jim Jordan (R-OH)</b><br><i>@Jim_Jordan</i><br><b>0.08% (2 / 2362)</b>",
          "<b>Ryan Zinke (R-MT)</b><br><i>@RepRyanZinke</i><br><b>0.08% (1 / 1196)</b>",
          "<b>Buddy Carter (R-GA)</b><br><i>@RepBuddyCarter</i><br><b>0.08% (1 / 1211)</b>",
          "<b>Bill Posey (R-FL)</b><br><i>@CongBillPosey</i><br><b>0.08% (1 / 1250)</b>",
          "<b>Robert Aderholt (R-AL)</b><br><i>@Robert_Aderholt</i><br><b>0.07% (1 / 1348)</b>",
          "<b>Barbara Comstock (R-VA)</b><br><i>@RepComstock</i><br><b>0.07% (2 / 2704)</b>",
          "<b>Mark Walker (R-NC)</b><br><i>@RepMarkWalker</i><br><b>0.07% (2 / 2788)</b>",
          "<b>Bob Gibbs (R-OH)</b><br><i>@RepBobGibbs</i><br><b>0.07% (2 / 2893)</b>",
          "<b>Don Young (R-AK)</b><br><i>@RepDonYoung</i><br><b>0.07% (1 / 1448)</b>",
          "<b>Steve Stivers (R-OH)</b><br><i>@RepSteveStivers</i><br><b>0.07% (2 / 2900)</b>",
          "<b>David Brat (R-VA)</b><br><i>@RepDaveBrat</i><br><b>0.07% (1 / 1457)</b>",
          "<b>Michael McCaul (R-TX)</b><br><i>@RepMcCaul</i><br><b>0.07% (2 / 3027)</b>",
          "<b>Daniel Donovan (R-NY)</b><br><i>@RepDanDonovan</i><br><b>0.06% (1 / 1546)</b>",
          "<b>Robert Wittman (R-VA)</b><br><i>@RobWittman</i><br><b>0.06% (2 / 3169)</b>",
          "<b>Joe Wilson (R-SC)</b><br><i>@RepJoeWilson</i><br><b>0.06% (1 / 1598)</b>",
          "<b>Patrick McHenry (R-NC)</b><br><i>@PatrickMcHenry</i><br><b>0.06% (2 / 3212)</b>",
          "<b>Roger Wicker (R-MS)</b><br><i>@SenatorWicker</i><br><b>0.06% (2 / 3212)</b>",
          "<b>Todd Rokita (R-IN)</b><br><i>@ToddRokita</i><br><b>0.06% (2 / 3216)</b>",
          "<b>Tom Price (R-GA)</b><br><i>@RepTomPrice</i><br><b>0.06% (2 / 3219)</b>",
          "<b>Lamar Smith (R-TX)</b><br><i>@LamarSmithTX21</i><br><b>0.06% (2 / 3220)</b>",
          "<b>Rick Crawford (R-AR)</b><br><i>@RepRickCrawford</i><br><b>0.06% (2 / 3220)</b>",
          "<b>Cory Gardner (R-CO)</b><br><i>@SenCoryGardner</i><br><b>0.06% (2 / 3223)</b>",
          "<b>Larry Bucshon (R-IN)</b><br><i>@RepLarryBucshon</i><br><b>0.06% (2 / 3227)</b>",
          "<b>Johnny Isakson (R-GA)</b><br><i>@SenatorIsakson</i><br><b>0.06% (2 / 3230)</b>",
          "<b>Vicky Hartzler (R-MO)</b><br><i>@RepHartzler</i><br><b>0.06% (2 / 3231)</b>",
          "<b>Bruce Westerman (R-AR)</b><br><i>@RepWesterman</i><br><b>0.06% (2 / 3237)</b>",
          "<b>Bill Shuster (R-PA)</b><br><i>@RepBillShuster</i><br><b>0.06% (2 / 3238)</b>",
          "<b>Steve Womack (R-AR)</b><br><i>@Rep_SteveWomack</i><br><b>0.06% (2 / 3240)</b>",
          "<b>Doug Lamborn (R-CO)</b><br><i>@RepDLamborn</i><br><b>0.06% (2 / 3244)</b>",
          "<b>Blaine Luetkemeyer (R-MO)</b><br><i>@RepBlainePress</i><br><b>0.06% (1 / 1628)</b>",
          "<b>Joni Ernst (R-IA)</b><br><i>@SenJoniErnst</i><br><b>0.06% (1 / 1696)</b>",
          "<b>Luke Messer (R-IN)</b><br><i>@RepLukeMesser</i><br><b>0.05% (1 / 1931)</b>",
          "<b>Joe Barton (R-TX)</b><br><i>@RepJoeBarton</i><br><b>0.05% (1 / 2078)</b>",
          "<b>Tom Reed (R-NY)</b><br><i>@RepTomReed</i><br><b>0.04% (1 / 2246)</b>",
          "<b>Ron DeSantis (R-FL)</b><br><i>@RepDeSantis</i><br><b>0.04% (1 / 2282)</b>",
          "<b>Randy Weber (R-TX)</b><br><i>@TXRandy14</i><br><b>0.04% (1 / 2324)</b>",
          "<b>Steven Palazzo (R-MS)</b><br><i>@CongPalazzo</i><br><b>0.04% (1 / 2355)</b>",
          "<b>Peter King (R-NY)</b><br><i>@RepPeteKing</i><br><b>0.04% (1 / 2410)</b>",
          "<b>Charlie Dent (R-PA)</b><br><i>@RepCharlieDent</i><br><b>0.04% (1 / 2471)</b>",
          "<b>Scott Tipton (R-CO)</b><br><i>@RepTipton</i><br><b>0.04% (1 / 2523)</b>",
          "<b>Andy Harris (R-MD)</b><br><i>@RepAndyHarrisMD</i><br><b>0.04% (1 / 2756)</b>",
          "<b>Jeff Fortenberry (R-NE)</b><br><i>@JeffFortenberry</i><br><b>0.04% (1 / 2786)</b>",
          "<b>Chris Stewart (R-UT)</b><br><i>@RepChrisStewart</i><br><b>0.04% (1 / 2798)</b>",
          "<b>Garret Graves (R-LA)</b><br><i>@RepGarretGraves</i><br><b>0.04% (1 / 2799)</b>",
          "<b>Tom Marino (R-PA)</b><br><i>@RepTomMarino</i><br><b>0.03% (1 / 2893)</b>",
          "<b>Gregg Harper (R-MS)</b><br><i>@GreggHarper</i><br><b>0.03% (1 / 3123)</b>",
          "<b>Doug Collins (R-GA)</b><br><i>@RepDougCollins</i><br><b>0.03% (1 / 3159)</b>",
          "<b>Diane Black (R-TN)</b><br><i>@RepDianeBlack</i><br><b>0.03% (1 / 3188)</b>",
          "<b>Michael Crapo (R-ID)</b><br><i>@MikeCrapo</i><br><b>0.03% (1 / 3200)</b>",
          "<b>Michael Enzi (R-WY)</b><br><i>@SenatorEnzi</i><br><b>0.03% (1 / 3200)</b>",
          "<b>James Inhofe (R-OK)</b><br><i>@InhofePress</i><br><b>0.03% (1 / 3202)</b>",
          "<b>Cathy McMorris Rodgers (R-WA)</b><br><i>@CathyMcMorris</i><br><b>0.03% (1 / 3203)</b>",
          "<b>Kevin McCarthy (R-CA)</b><br><i>@GOPLeader</i><br><b>0.03% (1 / 3203)</b>",
          "<b>Deb Fischer (R-NE)</b><br><i>@SenatorFischer</i><br><b>0.03% (1 / 3209)</b>",
          "<b>Lisa Murkowski (R-AK)</b><br><i>@LisaMurkowski</i><br><b>0.03% (1 / 3211)</b>",
          "<b>Paul Ryan (R-WI)</b><br><i>@SpeakerRyan</i><br><b>0.03% (1 / 3211)</b>",
          "<b>John Boozman (R-AR)</b><br><i>@JohnBoozman</i><br><b>0.03% (1 / 3212)</b>",
          "<b>John Carter (R-TX)</b><br><i>@JudgeCarter</i><br><b>0.03% (1 / 3214)</b>",
          "<b>Kenny Marchant (R-TX)</b><br><i>@RepKenMarchant</i><br><b>0.03% (1 / 3214)</b>",
          "<b>David Young (R-IA)</b><br><i>@RepDavidYoung</i><br><b>0.03% (1 / 3217)</b>",
          "<b>Patrick Toomey (R-PA)</b><br><i>@SenToomey</i><br><b>0.03% (1 / 3217)</b>",
          "<b>Jim Renacci (R-OH)</b><br><i>@RepJimRenacci</i><br><b>0.03% (1 / 3219)</b>",
          "<b>John Shimkus (R-IL)</b><br><i>@RepShimkus</i><br><b>0.03% (1 / 3221)</b>",
          "<b>Keith Rothfus (R-PA)</b><br><i>@KeithRothfus</i><br><b>0.03% (1 / 3224)</b>",
          "<b>Mike Rogers (R-AL)</b><br><i>@RepMikeRogersAL</i><br><b>0.03% (1 / 3224)</b>",
          "<b>Billy Long (R-MO)</b><br><i>@USRepLong</i><br><b>0.03% (1 / 3232)</b>",
          "<b>Roy Blunt (R-MO)</b><br><i>@RoyBlunt</i><br><b>0.03% (1 / 3232)</b>",
          "<b>Bob Corker (R-TN)</b><br><i>@SenBobCorker</i><br><b>0.03% (1 / 3234)</b>",
          "<b>Bill Johnson (R-OH)</b><br><i>@RepBillJohnson</i><br><b>0.03% (1 / 3238)</b>",
          "<b>Blake Farenthold (R-TX)</b><br><i>@Farenthold</i><br><b>0.03% (1 / 3247)</b>",
          "<b>Scott DesJarlais (R-TN)</b><br><i>@DesJarlaisTN04</i><br><b>0.03% (1 / 3248)</b>",
          "<b>A. Ferguson (R-GA)</b><br><i>@RepDrewFerguson</i><br><b>0.00% (0 / 838)</b>",
          "<b>Adrian Smith (R-NE)</b><br><i>@RepAdrianSmith</i><br><b>0.00% (0 / 2856)</b>",
          "<b>Amata Radewagen (R-AS)</b><br><i>@RepAmata</i><br><b>0.00% (0 / 309)</b>",
          "<b>Andy Barr (R-KY)</b><br><i>@RepAndyBarr</i><br><b>0.00% (0 / 2808)</b>",
          "<b>Ann Wagner (R-MO)</b><br><i>@RepAnnWagner</i><br><b>0.00% (0 / 2862)</b>",
          "<b>Austin Scott (R-GA)</b><br><i>@AustinScottGA08</i><br><b>0.00% (0 / 2261)</b>",
          "<b>Ben Sasse (R-NE)</b><br><i>@SenSasse</i><br><b>0.00% (0 / 846)</b>",
          "<b>Bill Huizenga (R-MI)</b><br><i>@RepHuizenga</i><br><b>0.00% (0 / 3239)</b>",
          "<b>Brad Wenstrup (R-OH)</b><br><i>@RepBradWenstrup</i><br><b>0.00% (0 / 3191)</b>",
          "<b>Brett Guthrie (R-KY)</b><br><i>@RepGuthrie</i><br><b>0.00% (0 / 741)</b>",
          "<b>Brian Babin (R-TX)</b><br><i>@RepBrianBabin</i><br><b>0.00% (0 / 2274)</b>",
          "<b>Brian Fitzpatrick (R-PA)</b><br><i>@repbrianfitz</i><br><b>0.00% (0 / 624)</b>",
          "<b>Brian Mast (R-FL)</b><br><i>@repbrianmast</i><br><b>0.00% (0 / 629)</b>",
          "<b>Chris Collins (R-NY)</b><br><i>@RepChrisCollins</i><br><b>0.00% (0 / 3238)</b>",
          "<b>Christopher Smith (R-NJ)</b><br><i>@RepChrisSmith</i><br><b>0.00% (0 / 1042)</b>",
          "<b>Chuck Fleischmann (R-TN)</b><br><i>@RepChuck</i><br><b>0.00% (0 / 1753)</b>",
          "<b>Clay Higgins (R-LA)</b><br><i>@RepClayHiggins</i><br><b>0.00% (0 / 475)</b>",
          "<b>Dan Sullivan (R-AK)</b><br><i>@SenDanSullivan</i><br><b>0.00% (0 / 1827)</b>",
          "<b>Daniel Webster (R-FL)</b><br><i>@RepWebster</i><br><b>0.00% (0 / 3078)</b>",
          "<b>Darin LaHood (R-IL)</b><br><i>@RepLaHood</i><br><b>0.00% (0 / 899)</b>",
          "<b>Dave Joyce (R-OH)</b><br><i>@RepDaveJoyce</i><br><b>0.00% (0 / 3200)</b>",
          "<b>Dave Trott (R-MI)</b><br><i>@repdavetrott</i><br><b>0.00% (0 / 419)</b>",
          "<b>David Kustoff (R-TN)</b><br><i>@repdavidkustoff</i><br><b>0.00% (0 / 445)</b>",
          "<b>David McKinley (R-WV)</b><br><i>@RepMcKinley</i><br><b>0.00% (0 / 3223)</b>",
          "<b>David Rouzer (R-NC)</b><br><i>@RepDavidRouzer</i><br><b>0.00% (0 / 585)</b>",
          "<b>David Schweikert (R-AZ)</b><br><i>@RepDavid</i><br><b>0.00% (0 / 3224)</b>",
          "<b>Dean Heller (R-NV)</b><br><i>@SenDeanHeller</i><br><b>0.00% (0 / 3204)</b>",
          "<b>Dennis Ross (R-FL)</b><br><i>@RepDennisRoss</i><br><b>0.00% (0 / 3219)</b>",
          "<b>Doug LaMalfa (R-CA)</b><br><i>@RepLaMalfa</i><br><b>0.00% (0 / 398)</b>",
          "<b>Edward Royce (R-CA)</b><br><i>@RepEdRoyce</i><br><b>0.00% (0 / 3194)</b>",
          "<b>Elise Stefanik (R-NY)</b><br><i>@RepStefanik</i><br><b>0.00% (0 / 2889)</b>",
          "<b>Evan Jenkins (R-WV)</b><br><i>@RepEvanJenkins</i><br><b>0.00% (0 / 2357)</b>",
          "<b>F. Sensenbrenner (R-WI)</b><br><i>@JimPressOffice</i><br><b>0.00% (0 / 1177)</b>",
          "<b>Frank Lucas (R-OK)</b><br><i>@RepFrankLucas</i><br><b>0.00% (0 / 650)</b>",
          "<b>French Hill (R-AR)</b><br><i>@RepFrenchHill</i><br><b>0.00% (0 / 1516)</b>",
          "<b>Gary Palmer (R-AL)</b><br><i>@USRepGaryPalmer</i><br><b>0.00% (0 / 1749)</b>",
          "<b>George Holding (R-NC)</b><br><i>@RepHolding</i><br><b>0.00% (0 / 680)</b>",
          "<b>Glenn Grothman (R-WI)</b><br><i>@RepGrothman</i><br><b>0.00% (0 / 1021)</b>",
          "<b>Greg Walden (R-OR)</b><br><i>@RepGregWalden</i><br><b>0.00% (0 / 2087)</b>",
          "<b>Gus Bilirakis (R-FL)</b><br><i>@RepGusBilirakis</i><br><b>0.00% (0 / 3226)</b>",
          "<b>Harold Rogers (R-KY)</b><br><i>@RepHalRogers</i><br><b>0.00% (0 / 3212)</b>",
          "<b>Jackie Walorski (R-IN)</b><br><i>@RepWalorski</i><br><b>0.00% (0 / 3234)</b>",
          "<b>Jason Chaffetz (R-UT)</b><br><i>@JasonInTheHouse</i><br><b>0.00% (0 / 3244)</b>",
          "<b>Jason Smith (R-MO)</b><br><i>@RepJasonSmith</i><br><b>0.00% (0 / 2669)</b>",
          "<b>Jeb Hensarling (R-TX)</b><br><i>@RepHensarling</i><br><b>0.00% (0 / 934)</b>",
          "<b>Jenniffer González-Colón (R-PR)</b><br><i>@repjenniffer</i><br><b>0.00% (0 / 2149)</b>",
          "<b>Jerry Moran (R-KS)</b><br><i>@JerryMoran</i><br><b>0.00% (0 / 3237)</b>",
          "<b>Jim Bridenstine (R-OK)</b><br><i>@RepJBridenstine</i><br><b>0.00% (0 / 1434)</b>",
          "<b>Jim Risch (R-ID)</b><br><i>@SenatorRisch</i><br><b>0.00% (0 / 998)</b>",
          "<b>John Barrasso (R-WY)</b><br><i>@SenJohnBarrasso</i><br><b>0.00% (0 / 3231)</b>",
          "<b>John Culberson (R-TX)</b><br><i>@CongCulberson</i><br><b>0.00% (0 / 2535)</b>",
          "<b>John Duncan (R-TN)</b><br><i>@RepJohnDuncanJr</i><br><b>0.00% (0 / 662)</b>",
          "<b>John Hoeven (R-ND)</b><br><i>@SenJohnHoeven</i><br><b>0.00% (0 / 2376)</b>",
          "<b>John Katko (R-NY)</b><br><i>@RepJohnKatko</i><br><b>0.00% (0 / 547)</b>",
          "<b>John Kennedy (R-LA)</b><br><i>@SenJohnKennedy</i><br><b>0.00% (0 / 679)</b>",
          "<b>John Moolenaar (R-MI)</b><br><i>@RepMoolenaar</i><br><b>0.00% (0 / 702)</b>",
          "<b>John Ratcliffe (R-TX)</b><br><i>@RepRatcliffe</i><br><b>0.00% (0 / 1909)</b>",
          "<b>John Rutherford (R-FL)</b><br><i>@RepRutherfordFL</i><br><b>0.00% (0 / 495)</b>",
          "<b>John Thune (R-SD)</b><br><i>@SenJohnThune</i><br><b>0.00% (0 / 3238)</b>",
          "<b>K. Conaway (R-TX)</b><br><i>@ConawayTX11</i><br><b>0.00% (0 / 742)</b>",
          "<b>Karen Handel (R-GA)</b><br><i>@RepKHandel</i><br><b>0.00% (0 / 102)</b>",
          "<b>Kay Granger (R-TX)</b><br><i>@RepKayGranger</i><br><b>0.00% (0 / 1489)</b>",
          "<b>Ken Buck (R-CO)</b><br><i>@RepKenBuck</i><br><b>0.00% (0 / 1174)</b>",
          "<b>Ken Calvert (R-CA)</b><br><i>@KenCalvert</i><br><b>0.00% (0 / 3204)</b>",
          "<b>Kevin Brady (R-TX)</b><br><i>@RepKevinBrady</i><br><b>0.00% (0 / 3222)</b>",
          "<b>Kevin Cramer (R-ND)</b><br><i>@RepKevinCramer</i><br><b>0.00% (0 / 2616)</b>",
          "<b>Kristi Noem (R-SD)</b><br><i>@RepKristiNoem</i><br><b>0.00% (0 / 3222)</b>",
          "<b>Lamar Alexander (R-TN)</b><br><i>@SenAlexander</i><br><b>0.00% (0 / 3245)</b>",
          "<b>Lindsey Graham (R-SC)</b><br><i>@GrahamBlog</i><br><b>0.00% (0 / 3248)</b>",
          "<b>Liz Cheney (R-WY)</b><br><i>@RepLizCheney</i><br><b>0.00% (0 / 177)</b>",
          "<b>Luther Strange (R-AL)</b><br><i>@SenatorStrange</i><br><b>0.00% (0 / 485)</b>",
          "<b>Lynn Jenkins (R-KS)</b><br><i>@RepLynnJenkins</i><br><b>0.00% (0 / 3242)</b>",
          "<b>Marco Rubio (R-FL)</b><br><i>@SenRubioPress</i><br><b>0.00% (0 / 3226)</b>",
          "<b>Mark Sanford (R-SC)</b><br><i>@RepSanfordSC</i><br><b>0.00% (0 / 2183)</b>",
          "<b>Markwayne Mullin (R-OK)</b><br><i>@RepMullin</i><br><b>0.00% (0 / 2242)</b>",
          "<b>Michael Turner (R-OH)</b><br><i>@RepMikeTurner</i><br><b>0.00% (0 / 2319)</b>",
          "<b>Mike Bishop (R-MI)</b><br><i>@RepMikeBishop</i><br><b>0.00% (0 / 1610)</b>",
          "<b>Mike Gallagher (R-WI)</b><br><i>@RepGallagher</i><br><b>0.00% (0 / 1113)</b>",
          "<b>Mike Johnson (R-LA)</b><br><i>@RepMikeJohnson</i><br><b>0.00% (0 / 599)</b>",
          "<b>Mike Simpson (R-ID)</b><br><i>@CongMikeSimpson</i><br><b>0.00% (0 / 488)</b>",
          "<b>Morgan Griffith (R-VA)</b><br><i>@RepMGriffith</i><br><b>0.00% (0 / 1072)</b>",
          "<b>Neal Dunn (R-FL)</b><br><i>@drnealdunnfl2</i><br><b>0.00% (0 / 647)</b>",
          "<b>Pat Meehan (R-PA)</b><br><i>@RepMeehan</i><br><b>0.00% (0 / 3220)</b>",
          "<b>Pat Roberts (R-KS)</b><br><i>@SenPatRoberts</i><br><b>0.00% (0 / 3233)</b>",
          "<b>Paul Mitchell (R-MI)</b><br><i>@RepPaulMitchell</i><br><b>0.00% (0 / 619)</b>",
          "<b>Pete Olson (R-TX)</b><br><i>@RepPeteOlson</i><br><b>0.00% (0 / 3218)</b>",
          "<b>Pete Sessions (R-TX)</b><br><i>@PeteSessions</i><br><b>0.00% (0 / 3205)</b>",
          "<b>Peter Roskam (R-IL)</b><br><i>@PeterRoskam</i><br><b>0.00% (0 / 3194)</b>",
          "<b>Phil Roe (R-TN)</b><br><i>@DrPhilRoe</i><br><b>0.00% (0 / 2772)</b>",
          "<b>Ralph Abraham (R-LA)</b><br><i>@RepAbraham</i><br><b>0.00% (0 / 441)</b>",
          "<b>Ralph Norman (R-SC)</b><br><i>@RepRalphNorman</i><br><b>0.00% (0 / 312)</b>",
          "<b>Randy Hultgren (R-IL)</b><br><i>@RepHultgren</i><br><b>0.00% (0 / 3210)</b>",
          "<b>Richard Burr (R-NC)</b><br><i>@SenatorBurr</i><br><b>0.00% (0 / 3225)</b>",
          "<b>Richard Hudson (R-NC)</b><br><i>@RepRichHudson</i><br><b>0.00% (0 / 3205)</b>",
          "<b>Richard Shelby (R-AL)</b><br><i>@SenShelby</i><br><b>0.00% (0 / 1559)</b>",
          "<b>Rob Woodall (R-GA)</b><br><i>@RepRobWoodall</i><br><b>0.00% (0 / 644)</b>",
          "<b>Robert Latta (R-OH)</b><br><i>@BobLatta</i><br><b>0.00% (0 / 3229)</b>",
          "<b>Rodney Frelinghuysen (R-NJ)</b><br><i>@USRepRodney</i><br><b>0.00% (0 / 1118)</b>",
          "<b>Ron Estes (R-KS)</b><br><i>@RepRonEstes</i><br><b>0.00% (0 / 126)</b>",
          "<b>Ryan Costello (R-PA)</b><br><i>@RepRyanCostello</i><br><b>0.00% (0 / 1459)</b>",
          "<b>Sam Graves (R-MO)</b><br><i>@RepSamGraves</i><br><b>0.00% (0 / 3199)</b>",
          "<b>Scott Perry (R-PA)</b><br><i>@RepScottPerry</i><br><b>0.00% (0 / 2974)</b>",
          "<b>Shelley Capito (R-WV)</b><br><i>@SenCapito</i><br><b>0.00% (0 / 3211)</b>",
          "<b>Steve Daines (R-MT)</b><br><i>@SteveDaines</i><br><b>0.00% (0 / 3204)</b>",
          "<b>Steve Scalise (R-LA)</b><br><i>@SteveScalise</i><br><b>0.00% (0 / 3202)</b>",
          "<b>Steven Chabot (R-OH)</b><br><i>@RepSteveChabot</i><br><b>0.00% (0 / 3145)</b>",
          "<b>Susan Collins (R-ME)</b><br><i>@SenatorCollins</i><br><b>0.00% (0 / 2437)</b>",
          "<b>Ted Budd (R-NC)</b><br><i>@RepTedBudd</i><br><b>0.00% (0 / 511)</b>",
          "<b>Ted Cruz (R-TX)</b><br><i>@SenTedCruz</i><br><b>0.00% (0 / 3233)</b>",
          "<b>Ted Poe (R-TX)</b><br><i>@JudgeTedPoe</i><br><b>0.00% (0 / 3221)</b>",
          "<b>Thad Cochran (R-MS)</b><br><i>@SenThadCochran</i><br><b>0.00% (0 / 2026)</b>",
          "<b>Thomas Massie (R-KY)</b><br><i>@RepThomasMassie</i><br><b>0.00% (0 / 2460)</b>",
          "<b>Tim Scott (R-SC)</b><br><i>@SenatorTimScott</i><br><b>0.00% (0 / 3241)</b>",
          "<b>Tim Walberg (R-MI)</b><br><i>@RepWalberg</i><br><b>0.00% (0 / 3209)</b>",
          "<b>Tom Cole (R-OK)</b><br><i>@TomColeOK04</i><br><b>0.00% (0 / 1149)</b>",
          "<b>Tom Emmer (R-MN)</b><br><i>@RepTomEmmer</i><br><b>0.00% (0 / 3244)</b>",
          "<b>Tom Rice (R-SC)</b><br><i>@RepTomRice</i><br><b>0.00% (0 / 1060)</b>",
          "<b>Tom Rooney (R-FL)</b><br><i>@TomRooney</i><br><b>0.00% (0 / 2803)</b>",
          "<b>Trent Kelly (R-MS)</b><br><i>@reptrentkelly</i><br><b>0.00% (0 / 839)</b>",
          "<b>Trey Hollingsworth (R-IN)</b><br><i>@reptrey</i><br><b>0.00% (0 / 178)</b>",
          "<b>Vern Buchanan (R-FL)</b><br><i>@VernBuchanan</i><br><b>0.00% (0 / 2369)</b>",
          "<b>Virginia Foxx (R-NC)</b><br><i>@VirginiaFoxx</i><br><b>0.00% (0 / 3214)</b>",
          "<b>Walter Jones (R-NC)</b><br><i>@RepWalterJones</i><br><b>0.00% (0 / 2133)</b>",
          "<b>William Thornberry (R-TX)</b><br><i>@MacTXPress</i><br><b>0.00% (0 / 1055)</b>"
         ],
         "type": "scatter",
         "x": [
          15,
          5,
          18,
          2,
          14,
          0,
          11,
          17,
          19,
          2,
          5,
          17,
          4,
          17,
          18,
          1,
          12,
          14,
          18,
          0,
          18,
          5,
          6,
          8,
          12,
          15,
          17,
          2,
          10,
          18,
          0,
          1,
          3,
          4,
          5,
          6,
          12,
          15,
          17,
          18,
          19,
          1,
          2,
          3,
          5,
          6,
          7,
          10,
          14,
          16,
          17,
          18,
          19,
          0,
          1,
          3,
          4,
          5,
          7,
          9,
          10,
          12,
          13,
          14,
          15,
          16,
          17,
          18,
          19,
          1,
          3,
          4,
          5,
          6,
          7,
          8,
          9,
          10,
          11,
          12,
          14,
          15,
          18,
          19,
          1,
          2,
          3,
          5,
          6,
          7,
          9,
          11,
          12,
          14,
          15,
          16,
          17,
          18,
          19,
          0,
          1,
          2,
          4,
          5,
          6,
          7,
          8,
          9,
          10,
          11,
          12,
          13,
          14,
          15,
          16,
          18,
          0,
          1,
          4,
          5,
          6,
          7,
          8,
          9,
          10,
          11,
          12,
          13,
          14,
          15,
          16,
          17,
          19,
          0,
          2,
          3,
          4,
          5,
          6,
          7,
          8,
          9,
          10,
          11,
          13,
          14,
          15,
          16,
          17,
          18,
          19,
          0,
          1,
          2,
          3,
          4,
          5,
          6,
          7,
          8,
          9,
          10,
          11,
          12,
          13,
          14,
          15,
          16,
          17,
          18,
          19,
          0,
          2,
          3,
          4,
          5,
          6,
          7,
          8,
          10,
          11,
          12,
          13,
          14,
          15,
          16,
          17,
          19,
          0,
          1,
          2,
          3,
          4,
          5,
          6,
          7,
          8,
          9,
          10,
          11,
          12,
          13,
          14,
          15,
          16,
          17,
          18,
          0,
          1,
          2,
          3,
          4,
          5,
          6,
          7,
          8,
          10,
          12,
          13,
          14,
          15,
          16,
          17,
          18,
          19,
          0,
          1,
          2,
          3,
          4,
          5,
          6,
          7,
          9,
          10,
          11,
          12,
          14,
          15,
          16,
          17,
          18,
          19,
          0,
          1,
          2,
          3,
          4,
          5,
          6,
          7,
          8,
          9,
          11,
          12,
          13,
          14,
          15,
          16,
          18,
          19,
          1,
          2,
          3,
          4,
          5,
          6,
          7,
          8,
          9,
          10,
          11,
          13,
          14,
          15,
          16,
          17,
          18,
          19,
          0,
          1,
          2
         ],
         "y": [
          0,
          -1,
          -1,
          -2,
          -2,
          -4,
          -4,
          -4,
          -4,
          -5,
          -5,
          -5,
          -6,
          -6,
          -6,
          -7,
          -7,
          -7,
          -7,
          -8,
          -8,
          -9,
          -9,
          -9,
          -9,
          -9,
          -9,
          -10,
          -10,
          -10,
          -11,
          -11,
          -11,
          -11,
          -11,
          -11,
          -11,
          -11,
          -11,
          -11,
          -11,
          -12,
          -12,
          -12,
          -12,
          -12,
          -12,
          -12,
          -12,
          -12,
          -12,
          -12,
          -12,
          -13,
          -13,
          -13,
          -13,
          -13,
          -13,
          -13,
          -13,
          -13,
          -13,
          -13,
          -13,
          -13,
          -13,
          -13,
          -13,
          -14,
          -14,
          -14,
          -14,
          -14,
          -14,
          -14,
          -14,
          -14,
          -14,
          -14,
          -14,
          -14,
          -14,
          -14,
          -15,
          -15,
          -15,
          -15,
          -15,
          -15,
          -15,
          -15,
          -15,
          -15,
          -15,
          -15,
          -15,
          -15,
          -15,
          -16,
          -16,
          -16,
          -16,
          -16,
          -16,
          -16,
          -16,
          -16,
          -16,
          -16,
          -16,
          -16,
          -16,
          -16,
          -16,
          -16,
          -17,
          -17,
          -17,
          -17,
          -17,
          -17,
          -17,
          -17,
          -17,
          -17,
          -17,
          -17,
          -17,
          -17,
          -17,
          -17,
          -17,
          -18,
          -18,
          -18,
          -18,
          -18,
          -18,
          -18,
          -18,
          -18,
          -18,
          -18,
          -18,
          -18,
          -18,
          -18,
          -18,
          -18,
          -18,
          -19,
          -19,
          -19,
          -19,
          -19,
          -19,
          -19,
          -19,
          -19,
          -19,
          -19,
          -19,
          -19,
          -19,
          -19,
          -19,
          -19,
          -19,
          -19,
          -19,
          -20,
          -20,
          -20,
          -20,
          -20,
          -20,
          -20,
          -20,
          -20,
          -20,
          -20,
          -20,
          -20,
          -20,
          -20,
          -20,
          -20,
          -21,
          -21,
          -21,
          -21,
          -21,
          -21,
          -21,
          -21,
          -21,
          -21,
          -21,
          -21,
          -21,
          -21,
          -21,
          -21,
          -21,
          -21,
          -21,
          -22,
          -22,
          -22,
          -22,
          -22,
          -22,
          -22,
          -22,
          -22,
          -22,
          -22,
          -22,
          -22,
          -22,
          -22,
          -22,
          -22,
          -22,
          -23,
          -23,
          -23,
          -23,
          -23,
          -23,
          -23,
          -23,
          -23,
          -23,
          -23,
          -23,
          -23,
          -23,
          -23,
          -23,
          -23,
          -23,
          -24,
          -24,
          -24,
          -24,
          -24,
          -24,
          -24,
          -24,
          -24,
          -24,
          -24,
          -24,
          -24,
          -24,
          -24,
          -24,
          -24,
          -24,
          -25,
          -25,
          -25,
          -25,
          -25,
          -25,
          -25,
          -25,
          -25,
          -25,
          -25,
          -25,
          -25,
          -25,
          -25,
          -25,
          -25,
          -25,
          -26,
          -26,
          -26
         ]
        },
        {
         "hoverinfo": "text",
         "marker": {
          "color": [
           "rgb(255,165,0)",
           "rgb(255,165,0)"
          ],
          "size": 1
         },
         "mode": "markers",
         "text": [
          "<b>Donald Trump (NA-NA)</b><br><i>@realDonaldTrump</i><br><b>0.71% (23 / 3227)</b>",
          "<b>Mike Pence (NA-NA)</b><br><i>@mike_pence</i><br><b>0.00% (0 / 3235)</b>"
         ],
         "type": "scatter",
         "x": [
          14,
          13
         ],
         "y": [
          -6,
          -23
         ]
        },
        {
         "hoverinfo": "text",
         "marker": {
          "color": [
           "rgb(0.4,0.4,0.4)",
           "rgb(0.4,0.4,0.4)"
          ],
          "size": 1
         },
         "mode": "markers",
         "text": [
          "<b>Bernard Sanders (I-VT)</b><br><i>@SenSanders</i><br><b>0.83% (27 / 3242)</b>",
          "<b>Angus King (I-ME)</b><br><i>@SenAngusKing</i><br><b>0.03% (1 / 3177)</b>"
         ],
         "type": "scatter",
         "x": [
          15,
          1
         ],
         "y": [
          -5,
          -18
         ]
        }
       ],
       "layout": {
        "annotations": [
         {
          "align": "center",
          "font": {
           "color": "rgb(255, 255, 255)",
           "family": "arial"
          },
          "showarrow": false,
          "text": "<b>13</b>",
          "x": 0,
          "xref": "x",
          "y": 0,
          "yref": "y"
         },
         {
          "align": "center",
          "font": {
           "color": "rgb(255, 255, 255)",
           "family": "arial"
          },
          "showarrow": false,
          "text": "<b>10</b>",
          "x": 1,
          "xref": "x",
          "y": 0,
          "yref": "y"
         },
         {
          "align": "center",
          "font": {
           "color": "rgb(255, 255, 255)",
           "family": "arial"
          },
          "showarrow": false,
          "text": "<b>10</b>",
          "x": 2,
          "xref": "x",
          "y": 0,
          "yref": "y"
         },
         {
          "align": "center",
          "font": {
           "color": "rgb(255, 255, 255)",
           "family": "arial"
          },
          "showarrow": false,
          "text": "<b>10</b>",
          "x": 3,
          "xref": "x",
          "y": 0,
          "yref": "y"
         },
         {
          "align": "center",
          "font": {
           "color": "rgb(255, 255, 255)",
           "family": "arial"
          },
          "showarrow": false,
          "text": "<b>8</b>",
          "x": 4,
          "xref": "x",
          "y": 0,
          "yref": "y"
         },
         {
          "align": "center",
          "font": {
           "color": "rgb(255, 255, 255)",
           "family": "arial"
          },
          "showarrow": false,
          "text": "<b>8</b>",
          "x": 5,
          "xref": "x",
          "y": 0,
          "yref": "y"
         },
         {
          "align": "center",
          "font": {
           "color": "rgb(255, 255, 255)",
           "family": "arial"
          },
          "showarrow": false,
          "text": "<b>7</b>",
          "x": 6,
          "xref": "x",
          "y": 0,
          "yref": "y"
         },
         {
          "align": "center",
          "font": {
           "color": "rgb(255, 255, 255)",
           "family": "arial"
          },
          "showarrow": false,
          "text": "<b>7</b>",
          "x": 7,
          "xref": "x",
          "y": 0,
          "yref": "y"
         },
         {
          "align": "center",
          "font": {
           "color": "rgb(255, 255, 255)",
           "family": "arial"
          },
          "showarrow": false,
          "text": "<b>7</b>",
          "x": 8,
          "xref": "x",
          "y": 0,
          "yref": "y"
         },
         {
          "align": "center",
          "font": {
           "color": "rgb(255, 255, 255)",
           "family": "arial"
          },
          "showarrow": false,
          "text": "<b>7</b>",
          "x": 9,
          "xref": "x",
          "y": 0,
          "yref": "y"
         },
         {
          "align": "center",
          "font": {
           "color": "rgb(255, 255, 255)",
           "family": "arial"
          },
          "showarrow": false,
          "text": "<b>6</b>",
          "x": 10,
          "xref": "x",
          "y": 0,
          "yref": "y"
         },
         {
          "align": "center",
          "font": {
           "color": "rgb(255, 255, 255)",
           "family": "arial"
          },
          "showarrow": false,
          "text": "<b>5</b>",
          "x": 11,
          "xref": "x",
          "y": 0,
          "yref": "y"
         },
         {
          "align": "center",
          "font": {
           "color": "rgb(255, 255, 255)",
           "family": "arial"
          },
          "showarrow": false,
          "text": "<b>5</b>",
          "x": 12,
          "xref": "x",
          "y": 0,
          "yref": "y"
         },
         {
          "align": "center",
          "font": {
           "color": "rgb(255, 255, 255)",
           "family": "arial"
          },
          "showarrow": false,
          "text": "<b>5</b>",
          "x": 13,
          "xref": "x",
          "y": 0,
          "yref": "y"
         },
         {
          "align": "center",
          "font": {
           "color": "rgb(255, 255, 255)",
           "family": "arial"
          },
          "showarrow": false,
          "text": "<b>5</b>",
          "x": 14,
          "xref": "x",
          "y": 0,
          "yref": "y"
         },
         {
          "align": "center",
          "font": {
           "color": "rgb(255, 255, 255)",
           "family": "arial"
          },
          "showarrow": false,
          "text": "<b>4</b>",
          "x": 15,
          "xref": "x",
          "y": 0,
          "yref": "y"
         },
         {
          "align": "center",
          "font": {
           "color": "rgb(255, 255, 255)",
           "family": "arial"
          },
          "showarrow": false,
          "text": "<b>4</b>",
          "x": 16,
          "xref": "x",
          "y": 0,
          "yref": "y"
         },
         {
          "align": "center",
          "font": {
           "color": "rgb(255, 255, 255)",
           "family": "arial"
          },
          "showarrow": false,
          "text": "<b>4</b>",
          "x": 17,
          "xref": "x",
          "y": 0,
          "yref": "y"
         },
         {
          "align": "center",
          "font": {
           "color": "rgb(255, 255, 255)",
           "family": "arial"
          },
          "showarrow": false,
          "text": "<b>4</b>",
          "x": 18,
          "xref": "x",
          "y": 0,
          "yref": "y"
         },
         {
          "align": "center",
          "font": {
           "color": "rgb(255, 255, 255)",
           "family": "arial"
          },
          "showarrow": false,
          "text": "<b>4</b>",
          "x": 19,
          "xref": "x",
          "y": 0,
          "yref": "y"
         },
         {
          "align": "center",
          "font": {
           "color": "rgb(255, 255, 255)",
           "family": "arial"
          },
          "showarrow": false,
          "text": "<b>4</b>",
          "x": 0,
          "xref": "x",
          "y": -1,
          "yref": "y"
         },
         {
          "align": "center",
          "font": {
           "color": "rgb(255, 255, 255)",
           "family": "arial"
          },
          "showarrow": false,
          "text": "<b>4</b>",
          "x": 1,
          "xref": "x",
          "y": -1,
          "yref": "y"
         },
         {
          "align": "center",
          "font": {
           "color": "rgb(255, 255, 255)",
           "family": "arial"
          },
          "showarrow": false,
          "text": "<b>4</b>",
          "x": 2,
          "xref": "x",
          "y": -1,
          "yref": "y"
         },
         {
          "align": "center",
          "font": {
           "color": "rgb(255, 255, 255)",
           "family": "arial"
          },
          "showarrow": false,
          "text": "<b>4</b>",
          "x": 3,
          "xref": "x",
          "y": -1,
          "yref": "y"
         },
         {
          "align": "center",
          "font": {
           "color": "rgb(255, 255, 255)",
           "family": "arial"
          },
          "showarrow": false,
          "text": "<b>4</b>",
          "x": 4,
          "xref": "x",
          "y": -1,
          "yref": "y"
         },
         {
          "align": "center",
          "font": {
           "color": "rgb(255, 255, 255)",
           "family": "arial"
          },
          "showarrow": false,
          "text": "<b>4</b>",
          "x": 5,
          "xref": "x",
          "y": -1,
          "yref": "y"
         },
         {
          "align": "center",
          "font": {
           "color": "rgb(255, 255, 255)",
           "family": "arial"
          },
          "showarrow": false,
          "text": "<b>3</b>",
          "x": 6,
          "xref": "x",
          "y": -1,
          "yref": "y"
         },
         {
          "align": "center",
          "font": {
           "color": "rgb(255, 255, 255)",
           "family": "arial"
          },
          "showarrow": false,
          "text": "<b>3</b>",
          "x": 7,
          "xref": "x",
          "y": -1,
          "yref": "y"
         },
         {
          "align": "center",
          "font": {
           "color": "rgb(255, 255, 255)",
           "family": "arial"
          },
          "showarrow": false,
          "text": "<b>3</b>",
          "x": 8,
          "xref": "x",
          "y": -1,
          "yref": "y"
         },
         {
          "align": "center",
          "font": {
           "color": "rgb(255, 255, 255)",
           "family": "arial"
          },
          "showarrow": false,
          "text": "<b>3</b>",
          "x": 9,
          "xref": "x",
          "y": -1,
          "yref": "y"
         },
         {
          "align": "center",
          "font": {
           "color": "rgb(255, 255, 255)",
           "family": "arial"
          },
          "showarrow": false,
          "text": "<b>3</b>",
          "x": 10,
          "xref": "x",
          "y": -1,
          "yref": "y"
         },
         {
          "align": "center",
          "font": {
           "color": "rgb(255, 255, 255)",
           "family": "arial"
          },
          "showarrow": false,
          "text": "<b>3</b>",
          "x": 11,
          "xref": "x",
          "y": -1,
          "yref": "y"
         },
         {
          "align": "center",
          "font": {
           "color": "rgb(255, 255, 255)",
           "family": "arial"
          },
          "showarrow": false,
          "text": "<b>3</b>",
          "x": 12,
          "xref": "x",
          "y": -1,
          "yref": "y"
         },
         {
          "align": "center",
          "font": {
           "color": "rgb(255, 255, 255)",
           "family": "arial"
          },
          "showarrow": false,
          "text": "<b>3</b>",
          "x": 13,
          "xref": "x",
          "y": -1,
          "yref": "y"
         },
         {
          "align": "center",
          "font": {
           "color": "rgb(255, 255, 255)",
           "family": "arial"
          },
          "showarrow": false,
          "text": "<b>3</b>",
          "x": 14,
          "xref": "x",
          "y": -1,
          "yref": "y"
         },
         {
          "align": "center",
          "font": {
           "color": "rgb(255, 255, 255)",
           "family": "arial"
          },
          "showarrow": false,
          "text": "<b>3</b>",
          "x": 15,
          "xref": "x",
          "y": -1,
          "yref": "y"
         },
         {
          "align": "center",
          "font": {
           "color": "rgb(255, 255, 255)",
           "family": "arial"
          },
          "showarrow": false,
          "text": "<b>3</b>",
          "x": 16,
          "xref": "x",
          "y": -1,
          "yref": "y"
         },
         {
          "align": "center",
          "font": {
           "color": "rgb(255, 255, 255)",
           "family": "arial"
          },
          "showarrow": false,
          "text": "<b>3</b>",
          "x": 17,
          "xref": "x",
          "y": -1,
          "yref": "y"
         },
         {
          "align": "center",
          "font": {
           "color": "rgb(255, 255, 255)",
           "family": "arial"
          },
          "showarrow": false,
          "text": "<b>2</b>",
          "x": 18,
          "xref": "x",
          "y": -1,
          "yref": "y"
         },
         {
          "align": "center",
          "font": {
           "color": "rgb(255, 255, 255)",
           "family": "arial"
          },
          "showarrow": false,
          "text": "<b>2</b>",
          "x": 19,
          "xref": "x",
          "y": -1,
          "yref": "y"
         },
         {
          "align": "center",
          "font": {
           "color": "rgb(255, 255, 255)",
           "family": "arial"
          },
          "showarrow": false,
          "text": "<b>2</b>",
          "x": 0,
          "xref": "x",
          "y": -2,
          "yref": "y"
         },
         {
          "align": "center",
          "font": {
           "color": "rgb(255, 255, 255)",
           "family": "arial"
          },
          "showarrow": false,
          "text": "<b>2</b>",
          "x": 1,
          "xref": "x",
          "y": -2,
          "yref": "y"
         },
         {
          "align": "center",
          "font": {
           "color": "rgb(255, 255, 255)",
           "family": "arial"
          },
          "showarrow": false,
          "text": "<b>2</b>",
          "x": 2,
          "xref": "x",
          "y": -2,
          "yref": "y"
         },
         {
          "align": "center",
          "font": {
           "color": "rgb(255, 255, 255)",
           "family": "arial"
          },
          "showarrow": false,
          "text": "<b>2</b>",
          "x": 3,
          "xref": "x",
          "y": -2,
          "yref": "y"
         },
         {
          "align": "center",
          "font": {
           "color": "rgb(255, 255, 255)",
           "family": "arial"
          },
          "showarrow": false,
          "text": "<b>2</b>",
          "x": 4,
          "xref": "x",
          "y": -2,
          "yref": "y"
         },
         {
          "align": "center",
          "font": {
           "color": "rgb(255, 255, 255)",
           "family": "arial"
          },
          "showarrow": false,
          "text": "<b>2</b>",
          "x": 5,
          "xref": "x",
          "y": -2,
          "yref": "y"
         },
         {
          "align": "center",
          "font": {
           "color": "rgb(255, 255, 255)",
           "family": "arial"
          },
          "showarrow": false,
          "text": "<b>2</b>",
          "x": 6,
          "xref": "x",
          "y": -2,
          "yref": "y"
         },
         {
          "align": "center",
          "font": {
           "color": "rgb(255, 255, 255)",
           "family": "arial"
          },
          "showarrow": false,
          "text": "<b>2</b>",
          "x": 7,
          "xref": "x",
          "y": -2,
          "yref": "y"
         },
         {
          "align": "center",
          "font": {
           "color": "rgb(255, 255, 255)",
           "family": "arial"
          },
          "showarrow": false,
          "text": "<b>2</b>",
          "x": 8,
          "xref": "x",
          "y": -2,
          "yref": "y"
         },
         {
          "align": "center",
          "font": {
           "color": "rgb(255, 255, 255)",
           "family": "arial"
          },
          "showarrow": false,
          "text": "<b>2</b>",
          "x": 9,
          "xref": "x",
          "y": -2,
          "yref": "y"
         },
         {
          "align": "center",
          "font": {
           "color": "rgb(255, 255, 255)",
           "family": "arial"
          },
          "showarrow": false,
          "text": "<b>2</b>",
          "x": 10,
          "xref": "x",
          "y": -2,
          "yref": "y"
         },
         {
          "align": "center",
          "font": {
           "color": "rgb(255, 255, 255)",
           "family": "arial"
          },
          "showarrow": false,
          "text": "<b>2</b>",
          "x": 11,
          "xref": "x",
          "y": -2,
          "yref": "y"
         },
         {
          "align": "center",
          "font": {
           "color": "rgb(255, 255, 255)",
           "family": "arial"
          },
          "showarrow": false,
          "text": "<b>2</b>",
          "x": 12,
          "xref": "x",
          "y": -2,
          "yref": "y"
         },
         {
          "align": "center",
          "font": {
           "color": "rgb(255, 255, 255)",
           "family": "arial"
          },
          "showarrow": false,
          "text": "<b>2</b>",
          "x": 13,
          "xref": "x",
          "y": -2,
          "yref": "y"
         },
         {
          "align": "center",
          "font": {
           "color": "rgb(255, 255, 255)",
           "family": "arial"
          },
          "showarrow": false,
          "text": "<b>2</b>",
          "x": 14,
          "xref": "x",
          "y": -2,
          "yref": "y"
         },
         {
          "align": "center",
          "font": {
           "color": "rgb(255, 255, 255)",
           "family": "arial"
          },
          "showarrow": false,
          "text": "<b>2</b>",
          "x": 15,
          "xref": "x",
          "y": -2,
          "yref": "y"
         },
         {
          "align": "center",
          "font": {
           "color": "rgb(255, 255, 255)",
           "family": "arial"
          },
          "showarrow": false,
          "text": "<b>2</b>",
          "x": 16,
          "xref": "x",
          "y": -2,
          "yref": "y"
         },
         {
          "align": "center",
          "font": {
           "color": "rgb(255, 255, 255)",
           "family": "arial"
          },
          "showarrow": false,
          "text": "<b>2</b>",
          "x": 17,
          "xref": "x",
          "y": -2,
          "yref": "y"
         },
         {
          "align": "center",
          "font": {
           "color": "rgb(255, 255, 255)",
           "family": "arial"
          },
          "showarrow": false,
          "text": "<b>2</b>",
          "x": 18,
          "xref": "x",
          "y": -2,
          "yref": "y"
         },
         {
          "align": "center",
          "font": {
           "color": "rgb(255, 255, 255)",
           "family": "arial"
          },
          "showarrow": false,
          "text": "<b>2</b>",
          "x": 19,
          "xref": "x",
          "y": -2,
          "yref": "y"
         },
         {
          "align": "center",
          "font": {
           "color": "rgb(255, 255, 255)",
           "family": "arial"
          },
          "showarrow": false,
          "text": "<b>2</b>",
          "x": 0,
          "xref": "x",
          "y": -3,
          "yref": "y"
         },
         {
          "align": "center",
          "font": {
           "color": "rgb(255, 255, 255)",
           "family": "arial"
          },
          "showarrow": false,
          "text": "<b>2</b>",
          "x": 1,
          "xref": "x",
          "y": -3,
          "yref": "y"
         },
         {
          "align": "center",
          "font": {
           "color": "rgb(255, 255, 255)",
           "family": "arial"
          },
          "showarrow": false,
          "text": "<b>2</b>",
          "x": 2,
          "xref": "x",
          "y": -3,
          "yref": "y"
         },
         {
          "align": "center",
          "font": {
           "color": "rgb(255, 255, 255)",
           "family": "arial"
          },
          "showarrow": false,
          "text": "<b>2</b>",
          "x": 3,
          "xref": "x",
          "y": -3,
          "yref": "y"
         },
         {
          "align": "center",
          "font": {
           "color": "rgb(255, 255, 255)",
           "family": "arial"
          },
          "showarrow": false,
          "text": "<b>2</b>",
          "x": 4,
          "xref": "x",
          "y": -3,
          "yref": "y"
         },
         {
          "align": "center",
          "font": {
           "color": "rgb(255, 255, 255)",
           "family": "arial"
          },
          "showarrow": false,
          "text": "<b>2</b>",
          "x": 5,
          "xref": "x",
          "y": -3,
          "yref": "y"
         },
         {
          "align": "center",
          "font": {
           "color": "rgb(255, 255, 255)",
           "family": "arial"
          },
          "showarrow": false,
          "text": "<b>2</b>",
          "x": 6,
          "xref": "x",
          "y": -3,
          "yref": "y"
         },
         {
          "align": "center",
          "font": {
           "color": "rgb(255, 255, 255)",
           "family": "arial"
          },
          "showarrow": false,
          "text": "<b>2</b>",
          "x": 7,
          "xref": "x",
          "y": -3,
          "yref": "y"
         },
         {
          "align": "center",
          "font": {
           "color": "rgb(255, 255, 255)",
           "family": "arial"
          },
          "showarrow": false,
          "text": "<b>2</b>",
          "x": 8,
          "xref": "x",
          "y": -3,
          "yref": "y"
         },
         {
          "align": "center",
          "font": {
           "color": "rgb(255, 255, 255)",
           "family": "arial"
          },
          "showarrow": false,
          "text": "<b>2</b>",
          "x": 9,
          "xref": "x",
          "y": -3,
          "yref": "y"
         },
         {
          "align": "center",
          "font": {
           "color": "rgb(255, 255, 255)",
           "family": "arial"
          },
          "showarrow": false,
          "text": "<b>2</b>",
          "x": 10,
          "xref": "x",
          "y": -3,
          "yref": "y"
         },
         {
          "align": "center",
          "font": {
           "color": "rgb(255, 255, 255)",
           "family": "arial"
          },
          "showarrow": false,
          "text": "<b>1</b>",
          "x": 11,
          "xref": "x",
          "y": -3,
          "yref": "y"
         },
         {
          "align": "center",
          "font": {
           "color": "rgb(255, 255, 255)",
           "family": "arial"
          },
          "showarrow": false,
          "text": "<b>1</b>",
          "x": 12,
          "xref": "x",
          "y": -3,
          "yref": "y"
         },
         {
          "align": "center",
          "font": {
           "color": "rgb(255, 255, 255)",
           "family": "arial"
          },
          "showarrow": false,
          "text": "<b>1</b>",
          "x": 13,
          "xref": "x",
          "y": -3,
          "yref": "y"
         },
         {
          "align": "center",
          "font": {
           "color": "rgb(255, 255, 255)",
           "family": "arial"
          },
          "showarrow": false,
          "text": "<b>1</b>",
          "x": 14,
          "xref": "x",
          "y": -3,
          "yref": "y"
         },
         {
          "align": "center",
          "font": {
           "color": "rgb(255, 255, 255)",
           "family": "arial"
          },
          "showarrow": false,
          "text": "<b>1</b>",
          "x": 15,
          "xref": "x",
          "y": -3,
          "yref": "y"
         },
         {
          "align": "center",
          "font": {
           "color": "rgb(255, 255, 255)",
           "family": "arial"
          },
          "showarrow": false,
          "text": "<b>1</b>",
          "x": 16,
          "xref": "x",
          "y": -3,
          "yref": "y"
         },
         {
          "align": "center",
          "font": {
           "color": "rgb(255, 255, 255)",
           "family": "arial"
          },
          "showarrow": false,
          "text": "<b>1</b>",
          "x": 17,
          "xref": "x",
          "y": -3,
          "yref": "y"
         },
         {
          "align": "center",
          "font": {
           "color": "rgb(255, 255, 255)",
           "family": "arial"
          },
          "showarrow": false,
          "text": "<b>1</b>",
          "x": 18,
          "xref": "x",
          "y": -3,
          "yref": "y"
         },
         {
          "align": "center",
          "font": {
           "color": "rgb(255, 255, 255)",
           "family": "arial"
          },
          "showarrow": false,
          "text": "<b>1</b>",
          "x": 19,
          "xref": "x",
          "y": -3,
          "yref": "y"
         },
         {
          "align": "center",
          "font": {
           "color": "rgb(255, 255, 255)",
           "family": "arial"
          },
          "showarrow": false,
          "text": "<b>1</b>",
          "x": 0,
          "xref": "x",
          "y": -4,
          "yref": "y"
         },
         {
          "align": "center",
          "font": {
           "color": "rgb(255, 255, 255)",
           "family": "arial"
          },
          "showarrow": false,
          "text": "<b>1</b>",
          "x": 1,
          "xref": "x",
          "y": -4,
          "yref": "y"
         },
         {
          "align": "center",
          "font": {
           "color": "rgb(255, 255, 255)",
           "family": "arial"
          },
          "showarrow": false,
          "text": "<b>1</b>",
          "x": 2,
          "xref": "x",
          "y": -4,
          "yref": "y"
         },
         {
          "align": "center",
          "font": {
           "color": "rgb(255, 255, 255)",
           "family": "arial"
          },
          "showarrow": false,
          "text": "<b>1</b>",
          "x": 3,
          "xref": "x",
          "y": -4,
          "yref": "y"
         },
         {
          "align": "center",
          "font": {
           "color": "rgb(255, 255, 255)",
           "family": "arial"
          },
          "showarrow": false,
          "text": "<b>1</b>",
          "x": 4,
          "xref": "x",
          "y": -4,
          "yref": "y"
         },
         {
          "align": "center",
          "font": {
           "color": "rgb(255, 255, 255)",
           "family": "arial"
          },
          "showarrow": false,
          "text": "<b>1</b>",
          "x": 5,
          "xref": "x",
          "y": -4,
          "yref": "y"
         },
         {
          "align": "center",
          "font": {
           "color": "rgb(255, 255, 255)",
           "family": "arial"
          },
          "showarrow": false,
          "text": "<b>1</b>",
          "x": 6,
          "xref": "x",
          "y": -4,
          "yref": "y"
         },
         {
          "align": "center",
          "font": {
           "color": "rgb(255, 255, 255)",
           "family": "arial"
          },
          "showarrow": false,
          "text": "<b>1</b>",
          "x": 7,
          "xref": "x",
          "y": -4,
          "yref": "y"
         },
         {
          "align": "center",
          "font": {
           "color": "rgb(255, 255, 255)",
           "family": "arial"
          },
          "showarrow": false,
          "text": "<b>1</b>",
          "x": 8,
          "xref": "x",
          "y": -4,
          "yref": "y"
         },
         {
          "align": "center",
          "font": {
           "color": "rgb(255, 255, 255)",
           "family": "arial"
          },
          "showarrow": false,
          "text": "<b>1</b>",
          "x": 9,
          "xref": "x",
          "y": -4,
          "yref": "y"
         },
         {
          "align": "center",
          "font": {
           "color": "rgb(255, 255, 255)",
           "family": "arial"
          },
          "showarrow": false,
          "text": "<b>1</b>",
          "x": 10,
          "xref": "x",
          "y": -4,
          "yref": "y"
         },
         {
          "align": "center",
          "font": {
           "color": "rgb(255, 255, 255)",
           "family": "arial"
          },
          "showarrow": false,
          "text": "<b>1</b>",
          "x": 11,
          "xref": "x",
          "y": -4,
          "yref": "y"
         },
         {
          "align": "center",
          "font": {
           "color": "rgb(255, 255, 255)",
           "family": "arial"
          },
          "showarrow": false,
          "text": "<b>1</b>",
          "x": 12,
          "xref": "x",
          "y": -4,
          "yref": "y"
         },
         {
          "align": "center",
          "font": {
           "color": "rgb(255, 255, 255)",
           "family": "arial"
          },
          "showarrow": false,
          "text": "<b>1</b>",
          "x": 13,
          "xref": "x",
          "y": -4,
          "yref": "y"
         },
         {
          "align": "center",
          "font": {
           "color": "rgb(255, 255, 255)",
           "family": "arial"
          },
          "showarrow": false,
          "text": "<b>1</b>",
          "x": 14,
          "xref": "x",
          "y": -4,
          "yref": "y"
         },
         {
          "align": "center",
          "font": {
           "color": "rgb(255, 255, 255)",
           "family": "arial"
          },
          "showarrow": false,
          "text": "<b>1</b>",
          "x": 15,
          "xref": "x",
          "y": -4,
          "yref": "y"
         },
         {
          "align": "center",
          "font": {
           "color": "rgb(255, 255, 255)",
           "family": "arial"
          },
          "showarrow": false,
          "text": "<b>1</b>",
          "x": 16,
          "xref": "x",
          "y": -4,
          "yref": "y"
         },
         {
          "align": "center",
          "font": {
           "color": "rgb(255, 255, 255)",
           "family": "arial"
          },
          "showarrow": false,
          "text": "<b>1</b>",
          "x": 17,
          "xref": "x",
          "y": -4,
          "yref": "y"
         },
         {
          "align": "center",
          "font": {
           "color": "rgb(255, 255, 255)",
           "family": "arial"
          },
          "showarrow": false,
          "text": "<b>1</b>",
          "x": 18,
          "xref": "x",
          "y": -4,
          "yref": "y"
         },
         {
          "align": "center",
          "font": {
           "color": "rgb(255, 255, 255)",
           "family": "arial"
          },
          "showarrow": false,
          "text": "<b>1</b>",
          "x": 19,
          "xref": "x",
          "y": -4,
          "yref": "y"
         },
         {
          "align": "center",
          "font": {
           "color": "rgb(255, 255, 255)",
           "family": "arial"
          },
          "showarrow": false,
          "text": "<b>1</b>",
          "x": 0,
          "xref": "x",
          "y": -5,
          "yref": "y"
         },
         {
          "align": "center",
          "font": {
           "color": "rgb(255, 255, 255)",
           "family": "arial"
          },
          "showarrow": false,
          "text": "<b>1</b>",
          "x": 1,
          "xref": "x",
          "y": -5,
          "yref": "y"
         },
         {
          "align": "center",
          "font": {
           "color": "rgb(255, 255, 255)",
           "family": "arial"
          },
          "showarrow": false,
          "text": "<b>1</b>",
          "x": 2,
          "xref": "x",
          "y": -5,
          "yref": "y"
         },
         {
          "align": "center",
          "font": {
           "color": "rgb(255, 255, 255)",
           "family": "arial"
          },
          "showarrow": false,
          "text": "<b>1</b>",
          "x": 3,
          "xref": "x",
          "y": -5,
          "yref": "y"
         },
         {
          "align": "center",
          "font": {
           "color": "rgb(255, 255, 255)",
           "family": "arial"
          },
          "showarrow": false,
          "text": "<b>1</b>",
          "x": 4,
          "xref": "x",
          "y": -5,
          "yref": "y"
         },
         {
          "align": "center",
          "font": {
           "color": "rgb(255, 255, 255)",
           "family": "arial"
          },
          "showarrow": false,
          "text": "<b>1</b>",
          "x": 5,
          "xref": "x",
          "y": -5,
          "yref": "y"
         },
         {
          "align": "center",
          "font": {
           "color": "rgb(255, 255, 255)",
           "family": "arial"
          },
          "showarrow": false,
          "text": "<b>.9</b>",
          "x": 6,
          "xref": "x",
          "y": -5,
          "yref": "y"
         },
         {
          "align": "center",
          "font": {
           "color": "rgb(255, 255, 255)",
           "family": "arial"
          },
          "showarrow": false,
          "text": "<b>.9</b>",
          "x": 7,
          "xref": "x",
          "y": -5,
          "yref": "y"
         },
         {
          "align": "center",
          "font": {
           "color": "rgb(255, 255, 255)",
           "family": "arial"
          },
          "showarrow": false,
          "text": "<b>.9</b>",
          "x": 8,
          "xref": "x",
          "y": -5,
          "yref": "y"
         },
         {
          "align": "center",
          "font": {
           "color": "rgb(255, 255, 255)",
           "family": "arial"
          },
          "showarrow": false,
          "text": "<b>.9</b>",
          "x": 9,
          "xref": "x",
          "y": -5,
          "yref": "y"
         },
         {
          "align": "center",
          "font": {
           "color": "rgb(255, 255, 255)",
           "family": "arial"
          },
          "showarrow": false,
          "text": "<b>.9</b>",
          "x": 10,
          "xref": "x",
          "y": -5,
          "yref": "y"
         },
         {
          "align": "center",
          "font": {
           "color": "rgb(255, 255, 255)",
           "family": "arial"
          },
          "showarrow": false,
          "text": "<b>.9</b>",
          "x": 11,
          "xref": "x",
          "y": -5,
          "yref": "y"
         },
         {
          "align": "center",
          "font": {
           "color": "rgb(255, 255, 255)",
           "family": "arial"
          },
          "showarrow": false,
          "text": "<b>.9</b>",
          "x": 12,
          "xref": "x",
          "y": -5,
          "yref": "y"
         },
         {
          "align": "center",
          "font": {
           "color": "rgb(255, 255, 255)",
           "family": "arial"
          },
          "showarrow": false,
          "text": "<b>.8</b>",
          "x": 13,
          "xref": "x",
          "y": -5,
          "yref": "y"
         },
         {
          "align": "center",
          "font": {
           "color": "rgb(255, 255, 255)",
           "family": "arial"
          },
          "showarrow": false,
          "text": "<b>.8</b>",
          "x": 14,
          "xref": "x",
          "y": -5,
          "yref": "y"
         },
         {
          "align": "center",
          "font": {
           "color": "rgb(255, 255, 255)",
           "family": "arial"
          },
          "showarrow": false,
          "text": "<b>.8</b>",
          "x": 15,
          "xref": "x",
          "y": -5,
          "yref": "y"
         },
         {
          "align": "center",
          "font": {
           "color": "rgb(255, 255, 255)",
           "family": "arial"
          },
          "showarrow": false,
          "text": "<b>.8</b>",
          "x": 16,
          "xref": "x",
          "y": -5,
          "yref": "y"
         },
         {
          "align": "center",
          "font": {
           "color": "rgb(255, 255, 255)",
           "family": "arial"
          },
          "showarrow": false,
          "text": "<b>.8</b>",
          "x": 17,
          "xref": "x",
          "y": -5,
          "yref": "y"
         },
         {
          "align": "center",
          "font": {
           "color": "rgb(255, 255, 255)",
           "family": "arial"
          },
          "showarrow": false,
          "text": "<b>.8</b>",
          "x": 18,
          "xref": "x",
          "y": -5,
          "yref": "y"
         },
         {
          "align": "center",
          "font": {
           "color": "rgb(255, 255, 255)",
           "family": "arial"
          },
          "showarrow": false,
          "text": "<b>.8</b>",
          "x": 19,
          "xref": "x",
          "y": -5,
          "yref": "y"
         },
         {
          "align": "center",
          "font": {
           "color": "rgb(255, 255, 255)",
           "family": "arial"
          },
          "showarrow": false,
          "text": "<b>.8</b>",
          "x": 0,
          "xref": "x",
          "y": -6,
          "yref": "y"
         },
         {
          "align": "center",
          "font": {
           "color": "rgb(255, 255, 255)",
           "family": "arial"
          },
          "showarrow": false,
          "text": "<b>.8</b>",
          "x": 1,
          "xref": "x",
          "y": -6,
          "yref": "y"
         },
         {
          "align": "center",
          "font": {
           "color": "rgb(255, 255, 255)",
           "family": "arial"
          },
          "showarrow": false,
          "text": "<b>.8</b>",
          "x": 2,
          "xref": "x",
          "y": -6,
          "yref": "y"
         },
         {
          "align": "center",
          "font": {
           "color": "rgb(255, 255, 255)",
           "family": "arial"
          },
          "showarrow": false,
          "text": "<b>.8</b>",
          "x": 3,
          "xref": "x",
          "y": -6,
          "yref": "y"
         },
         {
          "align": "center",
          "font": {
           "color": "rgb(255, 255, 255)",
           "family": "arial"
          },
          "showarrow": false,
          "text": "<b>.8</b>",
          "x": 4,
          "xref": "x",
          "y": -6,
          "yref": "y"
         },
         {
          "align": "center",
          "font": {
           "color": "rgb(255, 255, 255)",
           "family": "arial"
          },
          "showarrow": false,
          "text": "<b>.8</b>",
          "x": 5,
          "xref": "x",
          "y": -6,
          "yref": "y"
         },
         {
          "align": "center",
          "font": {
           "color": "rgb(255, 255, 255)",
           "family": "arial"
          },
          "showarrow": false,
          "text": "<b>.8</b>",
          "x": 6,
          "xref": "x",
          "y": -6,
          "yref": "y"
         },
         {
          "align": "center",
          "font": {
           "color": "rgb(255, 255, 255)",
           "family": "arial"
          },
          "showarrow": false,
          "text": "<b>.8</b>",
          "x": 7,
          "xref": "x",
          "y": -6,
          "yref": "y"
         },
         {
          "align": "center",
          "font": {
           "color": "rgb(255, 255, 255)",
           "family": "arial"
          },
          "showarrow": false,
          "text": "<b>.7</b>",
          "x": 8,
          "xref": "x",
          "y": -6,
          "yref": "y"
         },
         {
          "align": "center",
          "font": {
           "color": "rgb(255, 255, 255)",
           "family": "arial"
          },
          "showarrow": false,
          "text": "<b>.7</b>",
          "x": 9,
          "xref": "x",
          "y": -6,
          "yref": "y"
         },
         {
          "align": "center",
          "font": {
           "color": "rgb(255, 255, 255)",
           "family": "arial"
          },
          "showarrow": false,
          "text": "<b>.7</b>",
          "x": 10,
          "xref": "x",
          "y": -6,
          "yref": "y"
         },
         {
          "align": "center",
          "font": {
           "color": "rgb(255, 255, 255)",
           "family": "arial"
          },
          "showarrow": false,
          "text": "<b>.7</b>",
          "x": 11,
          "xref": "x",
          "y": -6,
          "yref": "y"
         },
         {
          "align": "center",
          "font": {
           "color": "rgb(255, 255, 255)",
           "family": "arial"
          },
          "showarrow": false,
          "text": "<b>.7</b>",
          "x": 12,
          "xref": "x",
          "y": -6,
          "yref": "y"
         },
         {
          "align": "center",
          "font": {
           "color": "rgb(255, 255, 255)",
           "family": "arial"
          },
          "showarrow": false,
          "text": "<b>.7</b>",
          "x": 13,
          "xref": "x",
          "y": -6,
          "yref": "y"
         },
         {
          "align": "center",
          "font": {
           "color": "rgb(255, 255, 255)",
           "family": "arial"
          },
          "showarrow": false,
          "text": "<b>.7</b>",
          "x": 14,
          "xref": "x",
          "y": -6,
          "yref": "y"
         },
         {
          "align": "center",
          "font": {
           "color": "rgb(255, 255, 255)",
           "family": "arial"
          },
          "showarrow": false,
          "text": "<b>.7</b>",
          "x": 15,
          "xref": "x",
          "y": -6,
          "yref": "y"
         },
         {
          "align": "center",
          "font": {
           "color": "rgb(255, 255, 255)",
           "family": "arial"
          },
          "showarrow": false,
          "text": "<b>.7</b>",
          "x": 16,
          "xref": "x",
          "y": -6,
          "yref": "y"
         },
         {
          "align": "center",
          "font": {
           "color": "rgb(255, 255, 255)",
           "family": "arial"
          },
          "showarrow": false,
          "text": "<b>.7</b>",
          "x": 17,
          "xref": "x",
          "y": -6,
          "yref": "y"
         },
         {
          "align": "center",
          "font": {
           "color": "rgb(255, 255, 255)",
           "family": "arial"
          },
          "showarrow": false,
          "text": "<b>.7</b>",
          "x": 18,
          "xref": "x",
          "y": -6,
          "yref": "y"
         },
         {
          "align": "center",
          "font": {
           "color": "rgb(255, 255, 255)",
           "family": "arial"
          },
          "showarrow": false,
          "text": "<b>.7</b>",
          "x": 19,
          "xref": "x",
          "y": -6,
          "yref": "y"
         },
         {
          "align": "center",
          "font": {
           "color": "rgb(255, 255, 255)",
           "family": "arial"
          },
          "showarrow": false,
          "text": "<b>.7</b>",
          "x": 0,
          "xref": "x",
          "y": -7,
          "yref": "y"
         },
         {
          "align": "center",
          "font": {
           "color": "rgb(255, 255, 255)",
           "family": "arial"
          },
          "showarrow": false,
          "text": "<b>.7</b>",
          "x": 1,
          "xref": "x",
          "y": -7,
          "yref": "y"
         },
         {
          "align": "center",
          "font": {
           "color": "rgb(255, 255, 255)",
           "family": "arial"
          },
          "showarrow": false,
          "text": "<b>.7</b>",
          "x": 2,
          "xref": "x",
          "y": -7,
          "yref": "y"
         },
         {
          "align": "center",
          "font": {
           "color": "rgb(255, 255, 255)",
           "family": "arial"
          },
          "showarrow": false,
          "text": "<b>.7</b>",
          "x": 3,
          "xref": "x",
          "y": -7,
          "yref": "y"
         },
         {
          "align": "center",
          "font": {
           "color": "rgb(255, 255, 255)",
           "family": "arial"
          },
          "showarrow": false,
          "text": "<b>.7</b>",
          "x": 4,
          "xref": "x",
          "y": -7,
          "yref": "y"
         },
         {
          "align": "center",
          "font": {
           "color": "rgb(255, 255, 255)",
           "family": "arial"
          },
          "showarrow": false,
          "text": "<b>.7</b>",
          "x": 5,
          "xref": "x",
          "y": -7,
          "yref": "y"
         },
         {
          "align": "center",
          "font": {
           "color": "rgb(255, 255, 255)",
           "family": "arial"
          },
          "showarrow": false,
          "text": "<b>.6</b>",
          "x": 6,
          "xref": "x",
          "y": -7,
          "yref": "y"
         },
         {
          "align": "center",
          "font": {
           "color": "rgb(255, 255, 255)",
           "family": "arial"
          },
          "showarrow": false,
          "text": "<b>.6</b>",
          "x": 7,
          "xref": "x",
          "y": -7,
          "yref": "y"
         },
         {
          "align": "center",
          "font": {
           "color": "rgb(255, 255, 255)",
           "family": "arial"
          },
          "showarrow": false,
          "text": "<b>.6</b>",
          "x": 8,
          "xref": "x",
          "y": -7,
          "yref": "y"
         },
         {
          "align": "center",
          "font": {
           "color": "rgb(255, 255, 255)",
           "family": "arial"
          },
          "showarrow": false,
          "text": "<b>.6</b>",
          "x": 9,
          "xref": "x",
          "y": -7,
          "yref": "y"
         },
         {
          "align": "center",
          "font": {
           "color": "rgb(255, 255, 255)",
           "family": "arial"
          },
          "showarrow": false,
          "text": "<b>.6</b>",
          "x": 10,
          "xref": "x",
          "y": -7,
          "yref": "y"
         },
         {
          "align": "center",
          "font": {
           "color": "rgb(255, 255, 255)",
           "family": "arial"
          },
          "showarrow": false,
          "text": "<b>.6</b>",
          "x": 11,
          "xref": "x",
          "y": -7,
          "yref": "y"
         },
         {
          "align": "center",
          "font": {
           "color": "rgb(255, 255, 255)",
           "family": "arial"
          },
          "showarrow": false,
          "text": "<b>.6</b>",
          "x": 12,
          "xref": "x",
          "y": -7,
          "yref": "y"
         },
         {
          "align": "center",
          "font": {
           "color": "rgb(255, 255, 255)",
           "family": "arial"
          },
          "showarrow": false,
          "text": "<b>.6</b>",
          "x": 13,
          "xref": "x",
          "y": -7,
          "yref": "y"
         },
         {
          "align": "center",
          "font": {
           "color": "rgb(255, 255, 255)",
           "family": "arial"
          },
          "showarrow": false,
          "text": "<b>.6</b>",
          "x": 14,
          "xref": "x",
          "y": -7,
          "yref": "y"
         },
         {
          "align": "center",
          "font": {
           "color": "rgb(255, 255, 255)",
           "family": "arial"
          },
          "showarrow": false,
          "text": "<b>.6</b>",
          "x": 15,
          "xref": "x",
          "y": -7,
          "yref": "y"
         },
         {
          "align": "center",
          "font": {
           "color": "rgb(255, 255, 255)",
           "family": "arial"
          },
          "showarrow": false,
          "text": "<b>.6</b>",
          "x": 16,
          "xref": "x",
          "y": -7,
          "yref": "y"
         },
         {
          "align": "center",
          "font": {
           "color": "rgb(255, 255, 255)",
           "family": "arial"
          },
          "showarrow": false,
          "text": "<b>.6</b>",
          "x": 17,
          "xref": "x",
          "y": -7,
          "yref": "y"
         },
         {
          "align": "center",
          "font": {
           "color": "rgb(255, 255, 255)",
           "family": "arial"
          },
          "showarrow": false,
          "text": "<b>.6</b>",
          "x": 18,
          "xref": "x",
          "y": -7,
          "yref": "y"
         },
         {
          "align": "center",
          "font": {
           "color": "rgb(255, 255, 255)",
           "family": "arial"
          },
          "showarrow": false,
          "text": "<b>.6</b>",
          "x": 19,
          "xref": "x",
          "y": -7,
          "yref": "y"
         },
         {
          "align": "center",
          "font": {
           "color": "rgb(255, 255, 255)",
           "family": "arial"
          },
          "showarrow": false,
          "text": "<b>.6</b>",
          "x": 0,
          "xref": "x",
          "y": -8,
          "yref": "y"
         },
         {
          "align": "center",
          "font": {
           "color": "rgb(255, 255, 255)",
           "family": "arial"
          },
          "showarrow": false,
          "text": "<b>.6</b>",
          "x": 1,
          "xref": "x",
          "y": -8,
          "yref": "y"
         },
         {
          "align": "center",
          "font": {
           "color": "rgb(255, 255, 255)",
           "family": "arial"
          },
          "showarrow": false,
          "text": "<b>.6</b>",
          "x": 2,
          "xref": "x",
          "y": -8,
          "yref": "y"
         },
         {
          "align": "center",
          "font": {
           "color": "rgb(255, 255, 255)",
           "family": "arial"
          },
          "showarrow": false,
          "text": "<b>.6</b>",
          "x": 3,
          "xref": "x",
          "y": -8,
          "yref": "y"
         },
         {
          "align": "center",
          "font": {
           "color": "rgb(255, 255, 255)",
           "family": "arial"
          },
          "showarrow": false,
          "text": "<b>.6</b>",
          "x": 4,
          "xref": "x",
          "y": -8,
          "yref": "y"
         },
         {
          "align": "center",
          "font": {
           "color": "rgb(255, 255, 255)",
           "family": "arial"
          },
          "showarrow": false,
          "text": "<b>.5</b>",
          "x": 5,
          "xref": "x",
          "y": -8,
          "yref": "y"
         },
         {
          "align": "center",
          "font": {
           "color": "rgb(255, 255, 255)",
           "family": "arial"
          },
          "showarrow": false,
          "text": "<b>.5</b>",
          "x": 6,
          "xref": "x",
          "y": -8,
          "yref": "y"
         },
         {
          "align": "center",
          "font": {
           "color": "rgb(255, 255, 255)",
           "family": "arial"
          },
          "showarrow": false,
          "text": "<b>.5</b>",
          "x": 7,
          "xref": "x",
          "y": -8,
          "yref": "y"
         },
         {
          "align": "center",
          "font": {
           "color": "rgb(255, 255, 255)",
           "family": "arial"
          },
          "showarrow": false,
          "text": "<b>.5</b>",
          "x": 8,
          "xref": "x",
          "y": -8,
          "yref": "y"
         },
         {
          "align": "center",
          "font": {
           "color": "rgb(255, 255, 255)",
           "family": "arial"
          },
          "showarrow": false,
          "text": "<b>.5</b>",
          "x": 9,
          "xref": "x",
          "y": -8,
          "yref": "y"
         },
         {
          "align": "center",
          "font": {
           "color": "rgb(255, 255, 255)",
           "family": "arial"
          },
          "showarrow": false,
          "text": "<b>.5</b>",
          "x": 10,
          "xref": "x",
          "y": -8,
          "yref": "y"
         },
         {
          "align": "center",
          "font": {
           "color": "rgb(255, 255, 255)",
           "family": "arial"
          },
          "showarrow": false,
          "text": "<b>.5</b>",
          "x": 11,
          "xref": "x",
          "y": -8,
          "yref": "y"
         },
         {
          "align": "center",
          "font": {
           "color": "rgb(255, 255, 255)",
           "family": "arial"
          },
          "showarrow": false,
          "text": "<b>.5</b>",
          "x": 12,
          "xref": "x",
          "y": -8,
          "yref": "y"
         },
         {
          "align": "center",
          "font": {
           "color": "rgb(255, 255, 255)",
           "family": "arial"
          },
          "showarrow": false,
          "text": "<b>.5</b>",
          "x": 13,
          "xref": "x",
          "y": -8,
          "yref": "y"
         },
         {
          "align": "center",
          "font": {
           "color": "rgb(255, 255, 255)",
           "family": "arial"
          },
          "showarrow": false,
          "text": "<b>.5</b>",
          "x": 14,
          "xref": "x",
          "y": -8,
          "yref": "y"
         },
         {
          "align": "center",
          "font": {
           "color": "rgb(255, 255, 255)",
           "family": "arial"
          },
          "showarrow": false,
          "text": "<b>.5</b>",
          "x": 15,
          "xref": "x",
          "y": -8,
          "yref": "y"
         },
         {
          "align": "center",
          "font": {
           "color": "rgb(255, 255, 255)",
           "family": "arial"
          },
          "showarrow": false,
          "text": "<b>.5</b>",
          "x": 16,
          "xref": "x",
          "y": -8,
          "yref": "y"
         },
         {
          "align": "center",
          "font": {
           "color": "rgb(255, 255, 255)",
           "family": "arial"
          },
          "showarrow": false,
          "text": "<b>.5</b>",
          "x": 17,
          "xref": "x",
          "y": -8,
          "yref": "y"
         },
         {
          "align": "center",
          "font": {
           "color": "rgb(255, 255, 255)",
           "family": "arial"
          },
          "showarrow": false,
          "text": "<b>.5</b>",
          "x": 18,
          "xref": "x",
          "y": -8,
          "yref": "y"
         },
         {
          "align": "center",
          "font": {
           "color": "rgb(255, 255, 255)",
           "family": "arial"
          },
          "showarrow": false,
          "text": "<b>.5</b>",
          "x": 19,
          "xref": "x",
          "y": -8,
          "yref": "y"
         },
         {
          "align": "center",
          "font": {
           "color": "rgb(255, 255, 255)",
           "family": "arial"
          },
          "showarrow": false,
          "text": "<b>.5</b>",
          "x": 0,
          "xref": "x",
          "y": -9,
          "yref": "y"
         },
         {
          "align": "center",
          "font": {
           "color": "rgb(255, 255, 255)",
           "family": "arial"
          },
          "showarrow": false,
          "text": "<b>.5</b>",
          "x": 1,
          "xref": "x",
          "y": -9,
          "yref": "y"
         },
         {
          "align": "center",
          "font": {
           "color": "rgb(255, 255, 255)",
           "family": "arial"
          },
          "showarrow": false,
          "text": "<b>.5</b>",
          "x": 2,
          "xref": "x",
          "y": -9,
          "yref": "y"
         },
         {
          "align": "center",
          "font": {
           "color": "rgb(255, 255, 255)",
           "family": "arial"
          },
          "showarrow": false,
          "text": "<b>.5</b>",
          "x": 3,
          "xref": "x",
          "y": -9,
          "yref": "y"
         },
         {
          "align": "center",
          "font": {
           "color": "rgb(255, 255, 255)",
           "family": "arial"
          },
          "showarrow": false,
          "text": "<b>.5</b>",
          "x": 4,
          "xref": "x",
          "y": -9,
          "yref": "y"
         },
         {
          "align": "center",
          "font": {
           "color": "rgb(255, 255, 255)",
           "family": "arial"
          },
          "showarrow": false,
          "text": "<b>.5</b>",
          "x": 5,
          "xref": "x",
          "y": -9,
          "yref": "y"
         },
         {
          "align": "center",
          "font": {
           "color": "rgb(255, 255, 255)",
           "family": "arial"
          },
          "showarrow": false,
          "text": "<b>.5</b>",
          "x": 6,
          "xref": "x",
          "y": -9,
          "yref": "y"
         },
         {
          "align": "center",
          "font": {
           "color": "rgb(255, 255, 255)",
           "family": "arial"
          },
          "showarrow": false,
          "text": "<b>.4</b>",
          "x": 7,
          "xref": "x",
          "y": -9,
          "yref": "y"
         },
         {
          "align": "center",
          "font": {
           "color": "rgb(255, 255, 255)",
           "family": "arial"
          },
          "showarrow": false,
          "text": "<b>.4</b>",
          "x": 8,
          "xref": "x",
          "y": -9,
          "yref": "y"
         },
         {
          "align": "center",
          "font": {
           "color": "rgb(255, 255, 255)",
           "family": "arial"
          },
          "showarrow": false,
          "text": "<b>.4</b>",
          "x": 9,
          "xref": "x",
          "y": -9,
          "yref": "y"
         },
         {
          "align": "center",
          "font": {
           "color": "rgb(255, 255, 255)",
           "family": "arial"
          },
          "showarrow": false,
          "text": "<b>.4</b>",
          "x": 10,
          "xref": "x",
          "y": -9,
          "yref": "y"
         },
         {
          "align": "center",
          "font": {
           "color": "rgb(255, 255, 255)",
           "family": "arial"
          },
          "showarrow": false,
          "text": "<b>.4</b>",
          "x": 11,
          "xref": "x",
          "y": -9,
          "yref": "y"
         },
         {
          "align": "center",
          "font": {
           "color": "rgb(255, 255, 255)",
           "family": "arial"
          },
          "showarrow": false,
          "text": "<b>.4</b>",
          "x": 12,
          "xref": "x",
          "y": -9,
          "yref": "y"
         },
         {
          "align": "center",
          "font": {
           "color": "rgb(255, 255, 255)",
           "family": "arial"
          },
          "showarrow": false,
          "text": "<b>.4</b>",
          "x": 13,
          "xref": "x",
          "y": -9,
          "yref": "y"
         },
         {
          "align": "center",
          "font": {
           "color": "rgb(255, 255, 255)",
           "family": "arial"
          },
          "showarrow": false,
          "text": "<b>.4</b>",
          "x": 14,
          "xref": "x",
          "y": -9,
          "yref": "y"
         },
         {
          "align": "center",
          "font": {
           "color": "rgb(255, 255, 255)",
           "family": "arial"
          },
          "showarrow": false,
          "text": "<b>.4</b>",
          "x": 15,
          "xref": "x",
          "y": -9,
          "yref": "y"
         },
         {
          "align": "center",
          "font": {
           "color": "rgb(255, 255, 255)",
           "family": "arial"
          },
          "showarrow": false,
          "text": "<b>.4</b>",
          "x": 16,
          "xref": "x",
          "y": -9,
          "yref": "y"
         },
         {
          "align": "center",
          "font": {
           "color": "rgb(255, 255, 255)",
           "family": "arial"
          },
          "showarrow": false,
          "text": "<b>.4</b>",
          "x": 17,
          "xref": "x",
          "y": -9,
          "yref": "y"
         },
         {
          "align": "center",
          "font": {
           "color": "rgb(255, 255, 255)",
           "family": "arial"
          },
          "showarrow": false,
          "text": "<b>.4</b>",
          "x": 18,
          "xref": "x",
          "y": -9,
          "yref": "y"
         },
         {
          "align": "center",
          "font": {
           "color": "rgb(255, 255, 255)",
           "family": "arial"
          },
          "showarrow": false,
          "text": "<b>.4</b>",
          "x": 19,
          "xref": "x",
          "y": -9,
          "yref": "y"
         },
         {
          "align": "center",
          "font": {
           "color": "rgb(255, 255, 255)",
           "family": "arial"
          },
          "showarrow": false,
          "text": "<b>.4</b>",
          "x": 0,
          "xref": "x",
          "y": -10,
          "yref": "y"
         },
         {
          "align": "center",
          "font": {
           "color": "rgb(255, 255, 255)",
           "family": "arial"
          },
          "showarrow": false,
          "text": "<b>.4</b>",
          "x": 1,
          "xref": "x",
          "y": -10,
          "yref": "y"
         },
         {
          "align": "center",
          "font": {
           "color": "rgb(255, 255, 255)",
           "family": "arial"
          },
          "showarrow": false,
          "text": "<b>.4</b>",
          "x": 2,
          "xref": "x",
          "y": -10,
          "yref": "y"
         },
         {
          "align": "center",
          "font": {
           "color": "rgb(255, 255, 255)",
           "family": "arial"
          },
          "showarrow": false,
          "text": "<b>.4</b>",
          "x": 3,
          "xref": "x",
          "y": -10,
          "yref": "y"
         },
         {
          "align": "center",
          "font": {
           "color": "rgb(255, 255, 255)",
           "family": "arial"
          },
          "showarrow": false,
          "text": "<b>.4</b>",
          "x": 4,
          "xref": "x",
          "y": -10,
          "yref": "y"
         },
         {
          "align": "center",
          "font": {
           "color": "rgb(255, 255, 255)",
           "family": "arial"
          },
          "showarrow": false,
          "text": "<b>.4</b>",
          "x": 5,
          "xref": "x",
          "y": -10,
          "yref": "y"
         },
         {
          "align": "center",
          "font": {
           "color": "rgb(255, 255, 255)",
           "family": "arial"
          },
          "showarrow": false,
          "text": "<b>.3</b>",
          "x": 6,
          "xref": "x",
          "y": -10,
          "yref": "y"
         },
         {
          "align": "center",
          "font": {
           "color": "rgb(255, 255, 255)",
           "family": "arial"
          },
          "showarrow": false,
          "text": "<b>.3</b>",
          "x": 7,
          "xref": "x",
          "y": -10,
          "yref": "y"
         },
         {
          "align": "center",
          "font": {
           "color": "rgb(255, 255, 255)",
           "family": "arial"
          },
          "showarrow": false,
          "text": "<b>.3</b>",
          "x": 8,
          "xref": "x",
          "y": -10,
          "yref": "y"
         },
         {
          "align": "center",
          "font": {
           "color": "rgb(255, 255, 255)",
           "family": "arial"
          },
          "showarrow": false,
          "text": "<b>.3</b>",
          "x": 9,
          "xref": "x",
          "y": -10,
          "yref": "y"
         },
         {
          "align": "center",
          "font": {
           "color": "rgb(255, 255, 255)",
           "family": "arial"
          },
          "showarrow": false,
          "text": "<b>.3</b>",
          "x": 10,
          "xref": "x",
          "y": -10,
          "yref": "y"
         },
         {
          "align": "center",
          "font": {
           "color": "rgb(255, 255, 255)",
           "family": "arial"
          },
          "showarrow": false,
          "text": "<b>.3</b>",
          "x": 11,
          "xref": "x",
          "y": -10,
          "yref": "y"
         },
         {
          "align": "center",
          "font": {
           "color": "rgb(255, 255, 255)",
           "family": "arial"
          },
          "showarrow": false,
          "text": "<b>.3</b>",
          "x": 12,
          "xref": "x",
          "y": -10,
          "yref": "y"
         },
         {
          "align": "center",
          "font": {
           "color": "rgb(255, 255, 255)",
           "family": "arial"
          },
          "showarrow": false,
          "text": "<b>.3</b>",
          "x": 13,
          "xref": "x",
          "y": -10,
          "yref": "y"
         },
         {
          "align": "center",
          "font": {
           "color": "rgb(255, 255, 255)",
           "family": "arial"
          },
          "showarrow": false,
          "text": "<b>.3</b>",
          "x": 14,
          "xref": "x",
          "y": -10,
          "yref": "y"
         },
         {
          "align": "center",
          "font": {
           "color": "rgb(255, 255, 255)",
           "family": "arial"
          },
          "showarrow": false,
          "text": "<b>.3</b>",
          "x": 15,
          "xref": "x",
          "y": -10,
          "yref": "y"
         },
         {
          "align": "center",
          "font": {
           "color": "rgb(255, 255, 255)",
           "family": "arial"
          },
          "showarrow": false,
          "text": "<b>.3</b>",
          "x": 16,
          "xref": "x",
          "y": -10,
          "yref": "y"
         },
         {
          "align": "center",
          "font": {
           "color": "rgb(255, 255, 255)",
           "family": "arial"
          },
          "showarrow": false,
          "text": "<b>.3</b>",
          "x": 17,
          "xref": "x",
          "y": -10,
          "yref": "y"
         },
         {
          "align": "center",
          "font": {
           "color": "rgb(255, 255, 255)",
           "family": "arial"
          },
          "showarrow": false,
          "text": "<b>.3</b>",
          "x": 18,
          "xref": "x",
          "y": -10,
          "yref": "y"
         },
         {
          "align": "center",
          "font": {
           "color": "rgb(255, 255, 255)",
           "family": "arial"
          },
          "showarrow": false,
          "text": "<b>.3</b>",
          "x": 19,
          "xref": "x",
          "y": -10,
          "yref": "y"
         },
         {
          "align": "center",
          "font": {
           "color": "rgb(255, 255, 255)",
           "family": "arial"
          },
          "showarrow": false,
          "text": "<b>.3</b>",
          "x": 0,
          "xref": "x",
          "y": -11,
          "yref": "y"
         },
         {
          "align": "center",
          "font": {
           "color": "rgb(255, 255, 255)",
           "family": "arial"
          },
          "showarrow": false,
          "text": "<b>.3</b>",
          "x": 1,
          "xref": "x",
          "y": -11,
          "yref": "y"
         },
         {
          "align": "center",
          "font": {
           "color": "rgb(255, 255, 255)",
           "family": "arial"
          },
          "showarrow": false,
          "text": "<b>.3</b>",
          "x": 2,
          "xref": "x",
          "y": -11,
          "yref": "y"
         },
         {
          "align": "center",
          "font": {
           "color": "rgb(255, 255, 255)",
           "family": "arial"
          },
          "showarrow": false,
          "text": "<b>.3</b>",
          "x": 3,
          "xref": "x",
          "y": -11,
          "yref": "y"
         },
         {
          "align": "center",
          "font": {
           "color": "rgb(255, 255, 255)",
           "family": "arial"
          },
          "showarrow": false,
          "text": "<b>.3</b>",
          "x": 4,
          "xref": "x",
          "y": -11,
          "yref": "y"
         },
         {
          "align": "center",
          "font": {
           "color": "rgb(255, 255, 255)",
           "family": "arial"
          },
          "showarrow": false,
          "text": "<b>.3</b>",
          "x": 5,
          "xref": "x",
          "y": -11,
          "yref": "y"
         },
         {
          "align": "center",
          "font": {
           "color": "rgb(255, 255, 255)",
           "family": "arial"
          },
          "showarrow": false,
          "text": "<b>.3</b>",
          "x": 6,
          "xref": "x",
          "y": -11,
          "yref": "y"
         },
         {
          "align": "center",
          "font": {
           "color": "rgb(255, 255, 255)",
           "family": "arial"
          },
          "showarrow": false,
          "text": "<b>.3</b>",
          "x": 7,
          "xref": "x",
          "y": -11,
          "yref": "y"
         },
         {
          "align": "center",
          "font": {
           "color": "rgb(255, 255, 255)",
           "family": "arial"
          },
          "showarrow": false,
          "text": "<b>.3</b>",
          "x": 8,
          "xref": "x",
          "y": -11,
          "yref": "y"
         },
         {
          "align": "center",
          "font": {
           "color": "rgb(255, 255, 255)",
           "family": "arial"
          },
          "showarrow": false,
          "text": "<b>.2</b>",
          "x": 9,
          "xref": "x",
          "y": -11,
          "yref": "y"
         },
         {
          "align": "center",
          "font": {
           "color": "rgb(255, 255, 255)",
           "family": "arial"
          },
          "showarrow": false,
          "text": "<b>.2</b>",
          "x": 10,
          "xref": "x",
          "y": -11,
          "yref": "y"
         },
         {
          "align": "center",
          "font": {
           "color": "rgb(255, 255, 255)",
           "family": "arial"
          },
          "showarrow": false,
          "text": "<b>.2</b>",
          "x": 11,
          "xref": "x",
          "y": -11,
          "yref": "y"
         },
         {
          "align": "center",
          "font": {
           "color": "rgb(255, 255, 255)",
           "family": "arial"
          },
          "showarrow": false,
          "text": "<b>.2</b>",
          "x": 12,
          "xref": "x",
          "y": -11,
          "yref": "y"
         },
         {
          "align": "center",
          "font": {
           "color": "rgb(255, 255, 255)",
           "family": "arial"
          },
          "showarrow": false,
          "text": "<b>.2</b>",
          "x": 13,
          "xref": "x",
          "y": -11,
          "yref": "y"
         },
         {
          "align": "center",
          "font": {
           "color": "rgb(255, 255, 255)",
           "family": "arial"
          },
          "showarrow": false,
          "text": "<b>.2</b>",
          "x": 14,
          "xref": "x",
          "y": -11,
          "yref": "y"
         },
         {
          "align": "center",
          "font": {
           "color": "rgb(255, 255, 255)",
           "family": "arial"
          },
          "showarrow": false,
          "text": "<b>.2</b>",
          "x": 15,
          "xref": "x",
          "y": -11,
          "yref": "y"
         },
         {
          "align": "center",
          "font": {
           "color": "rgb(255, 255, 255)",
           "family": "arial"
          },
          "showarrow": false,
          "text": "<b>.2</b>",
          "x": 16,
          "xref": "x",
          "y": -11,
          "yref": "y"
         },
         {
          "align": "center",
          "font": {
           "color": "rgb(255, 255, 255)",
           "family": "arial"
          },
          "showarrow": false,
          "text": "<b>.2</b>",
          "x": 17,
          "xref": "x",
          "y": -11,
          "yref": "y"
         },
         {
          "align": "center",
          "font": {
           "color": "rgb(255, 255, 255)",
           "family": "arial"
          },
          "showarrow": false,
          "text": "<b>.2</b>",
          "x": 18,
          "xref": "x",
          "y": -11,
          "yref": "y"
         },
         {
          "align": "center",
          "font": {
           "color": "rgb(255, 255, 255)",
           "family": "arial"
          },
          "showarrow": false,
          "text": "<b>.2</b>",
          "x": 19,
          "xref": "x",
          "y": -11,
          "yref": "y"
         },
         {
          "align": "center",
          "font": {
           "color": "rgb(255, 255, 255)",
           "family": "arial"
          },
          "showarrow": false,
          "text": "<b>.2</b>",
          "x": 0,
          "xref": "x",
          "y": -12,
          "yref": "y"
         },
         {
          "align": "center",
          "font": {
           "color": "rgb(255, 255, 255)",
           "family": "arial"
          },
          "showarrow": false,
          "text": "<b>.2</b>",
          "x": 1,
          "xref": "x",
          "y": -12,
          "yref": "y"
         },
         {
          "align": "center",
          "font": {
           "color": "rgb(255, 255, 255)",
           "family": "arial"
          },
          "showarrow": false,
          "text": "<b>.2</b>",
          "x": 2,
          "xref": "x",
          "y": -12,
          "yref": "y"
         },
         {
          "align": "center",
          "font": {
           "color": "rgb(255, 255, 255)",
           "family": "arial"
          },
          "showarrow": false,
          "text": "<b>.2</b>",
          "x": 3,
          "xref": "x",
          "y": -12,
          "yref": "y"
         },
         {
          "align": "center",
          "font": {
           "color": "rgb(255, 255, 255)",
           "family": "arial"
          },
          "showarrow": false,
          "text": "<b>.2</b>",
          "x": 4,
          "xref": "x",
          "y": -12,
          "yref": "y"
         },
         {
          "align": "center",
          "font": {
           "color": "rgb(255, 255, 255)",
           "family": "arial"
          },
          "showarrow": false,
          "text": "<b>.2</b>",
          "x": 5,
          "xref": "x",
          "y": -12,
          "yref": "y"
         },
         {
          "align": "center",
          "font": {
           "color": "rgb(255, 255, 255)",
           "family": "arial"
          },
          "showarrow": false,
          "text": "<b>.2</b>",
          "x": 6,
          "xref": "x",
          "y": -12,
          "yref": "y"
         },
         {
          "align": "center",
          "font": {
           "color": "rgb(255, 255, 255)",
           "family": "arial"
          },
          "showarrow": false,
          "text": "<b>.2</b>",
          "x": 7,
          "xref": "x",
          "y": -12,
          "yref": "y"
         },
         {
          "align": "center",
          "font": {
           "color": "rgb(255, 255, 255)",
           "family": "arial"
          },
          "showarrow": false,
          "text": "<b>.2</b>",
          "x": 8,
          "xref": "x",
          "y": -12,
          "yref": "y"
         },
         {
          "align": "center",
          "font": {
           "color": "rgb(255, 255, 255)",
           "family": "arial"
          },
          "showarrow": false,
          "text": "<b>.2</b>",
          "x": 9,
          "xref": "x",
          "y": -12,
          "yref": "y"
         },
         {
          "align": "center",
          "font": {
           "color": "rgb(255, 255, 255)",
           "family": "arial"
          },
          "showarrow": false,
          "text": "<b>.2</b>",
          "x": 10,
          "xref": "x",
          "y": -12,
          "yref": "y"
         },
         {
          "align": "center",
          "font": {
           "color": "rgb(255, 255, 255)",
           "family": "arial"
          },
          "showarrow": false,
          "text": "<b>.2</b>",
          "x": 11,
          "xref": "x",
          "y": -12,
          "yref": "y"
         },
         {
          "align": "center",
          "font": {
           "color": "rgb(255, 255, 255)",
           "family": "arial"
          },
          "showarrow": false,
          "text": "<b>.2</b>",
          "x": 12,
          "xref": "x",
          "y": -12,
          "yref": "y"
         },
         {
          "align": "center",
          "font": {
           "color": "rgb(255, 255, 255)",
           "family": "arial"
          },
          "showarrow": false,
          "text": "<b>.2</b>",
          "x": 13,
          "xref": "x",
          "y": -12,
          "yref": "y"
         },
         {
          "align": "center",
          "font": {
           "color": "rgb(255, 255, 255)",
           "family": "arial"
          },
          "showarrow": false,
          "text": "<b>.2</b>",
          "x": 14,
          "xref": "x",
          "y": -12,
          "yref": "y"
         },
         {
          "align": "center",
          "font": {
           "color": "rgb(255, 255, 255)",
           "family": "arial"
          },
          "showarrow": false,
          "text": "<b>.2</b>",
          "x": 15,
          "xref": "x",
          "y": -12,
          "yref": "y"
         },
         {
          "align": "center",
          "font": {
           "color": "rgb(255, 255, 255)",
           "family": "arial"
          },
          "showarrow": false,
          "text": "<b>.2</b>",
          "x": 16,
          "xref": "x",
          "y": -12,
          "yref": "y"
         },
         {
          "align": "center",
          "font": {
           "color": "rgb(255, 255, 255)",
           "family": "arial"
          },
          "showarrow": false,
          "text": "<b>.2</b>",
          "x": 17,
          "xref": "x",
          "y": -12,
          "yref": "y"
         },
         {
          "align": "center",
          "font": {
           "color": "rgb(255, 255, 255)",
           "family": "arial"
          },
          "showarrow": false,
          "text": "<b>.2</b>",
          "x": 18,
          "xref": "x",
          "y": -12,
          "yref": "y"
         },
         {
          "align": "center",
          "font": {
           "color": "rgb(255, 255, 255)",
           "family": "arial"
          },
          "showarrow": false,
          "text": "<b>.1</b>",
          "x": 19,
          "xref": "x",
          "y": -12,
          "yref": "y"
         },
         {
          "align": "center",
          "font": {
           "color": "rgb(255, 255, 255)",
           "family": "arial"
          },
          "showarrow": false,
          "text": "<b>.1</b>",
          "x": 0,
          "xref": "x",
          "y": -13,
          "yref": "y"
         },
         {
          "align": "center",
          "font": {
           "color": "rgb(255, 255, 255)",
           "family": "arial"
          },
          "showarrow": false,
          "text": "<b>.1</b>",
          "x": 1,
          "xref": "x",
          "y": -13,
          "yref": "y"
         },
         {
          "align": "center",
          "font": {
           "color": "rgb(255, 255, 255)",
           "family": "arial"
          },
          "showarrow": false,
          "text": "<b>.1</b>",
          "x": 2,
          "xref": "x",
          "y": -13,
          "yref": "y"
         },
         {
          "align": "center",
          "font": {
           "color": "rgb(255, 255, 255)",
           "family": "arial"
          },
          "showarrow": false,
          "text": "<b>.1</b>",
          "x": 3,
          "xref": "x",
          "y": -13,
          "yref": "y"
         },
         {
          "align": "center",
          "font": {
           "color": "rgb(255, 255, 255)",
           "family": "arial"
          },
          "showarrow": false,
          "text": "<b>.1</b>",
          "x": 4,
          "xref": "x",
          "y": -13,
          "yref": "y"
         },
         {
          "align": "center",
          "font": {
           "color": "rgb(255, 255, 255)",
           "family": "arial"
          },
          "showarrow": false,
          "text": "<b>.1</b>",
          "x": 5,
          "xref": "x",
          "y": -13,
          "yref": "y"
         },
         {
          "align": "center",
          "font": {
           "color": "rgb(255, 255, 255)",
           "family": "arial"
          },
          "showarrow": false,
          "text": "<b>.1</b>",
          "x": 6,
          "xref": "x",
          "y": -13,
          "yref": "y"
         },
         {
          "align": "center",
          "font": {
           "color": "rgb(255, 255, 255)",
           "family": "arial"
          },
          "showarrow": false,
          "text": "<b>.1</b>",
          "x": 7,
          "xref": "x",
          "y": -13,
          "yref": "y"
         },
         {
          "align": "center",
          "font": {
           "color": "rgb(255, 255, 255)",
           "family": "arial"
          },
          "showarrow": false,
          "text": "<b>.1</b>",
          "x": 8,
          "xref": "x",
          "y": -13,
          "yref": "y"
         },
         {
          "align": "center",
          "font": {
           "color": "rgb(255, 255, 255)",
           "family": "arial"
          },
          "showarrow": false,
          "text": "<b>.1</b>",
          "x": 9,
          "xref": "x",
          "y": -13,
          "yref": "y"
         },
         {
          "align": "center",
          "font": {
           "color": "rgb(255, 255, 255)",
           "family": "arial"
          },
          "showarrow": false,
          "text": "<b>.1</b>",
          "x": 10,
          "xref": "x",
          "y": -13,
          "yref": "y"
         },
         {
          "align": "center",
          "font": {
           "color": "rgb(255, 255, 255)",
           "family": "arial"
          },
          "showarrow": false,
          "text": "<b>.1</b>",
          "x": 11,
          "xref": "x",
          "y": -13,
          "yref": "y"
         },
         {
          "align": "center",
          "font": {
           "color": "rgb(255, 255, 255)",
           "family": "arial"
          },
          "showarrow": false,
          "text": "<b>.1</b>",
          "x": 12,
          "xref": "x",
          "y": -13,
          "yref": "y"
         },
         {
          "align": "center",
          "font": {
           "color": "rgb(255, 255, 255)",
           "family": "arial"
          },
          "showarrow": false,
          "text": "<b>.1</b>",
          "x": 13,
          "xref": "x",
          "y": -13,
          "yref": "y"
         },
         {
          "align": "center",
          "font": {
           "color": "rgb(255, 255, 255)",
           "family": "arial"
          },
          "showarrow": false,
          "text": "<b>.1</b>",
          "x": 14,
          "xref": "x",
          "y": -13,
          "yref": "y"
         },
         {
          "align": "center",
          "font": {
           "color": "rgb(255, 255, 255)",
           "family": "arial"
          },
          "showarrow": false,
          "text": "<b>.1</b>",
          "x": 15,
          "xref": "x",
          "y": -13,
          "yref": "y"
         },
         {
          "align": "center",
          "font": {
           "color": "rgb(255, 255, 255)",
           "family": "arial"
          },
          "showarrow": false,
          "text": "<b>.1</b>",
          "x": 16,
          "xref": "x",
          "y": -13,
          "yref": "y"
         },
         {
          "align": "center",
          "font": {
           "color": "rgb(255, 255, 255)",
           "family": "arial"
          },
          "showarrow": false,
          "text": "<b>.1</b>",
          "x": 17,
          "xref": "x",
          "y": -13,
          "yref": "y"
         },
         {
          "align": "center",
          "font": {
           "color": "rgb(255, 255, 255)",
           "family": "arial"
          },
          "showarrow": false,
          "text": "<b>.1</b>",
          "x": 18,
          "xref": "x",
          "y": -13,
          "yref": "y"
         },
         {
          "align": "center",
          "font": {
           "color": "rgb(255, 255, 255)",
           "family": "arial"
          },
          "showarrow": false,
          "text": "<b>.1</b>",
          "x": 19,
          "xref": "x",
          "y": -13,
          "yref": "y"
         },
         {
          "align": "center",
          "font": {
           "color": "rgb(255, 255, 255)",
           "family": "arial"
          },
          "showarrow": false,
          "text": "<b>.1</b>",
          "x": 0,
          "xref": "x",
          "y": -14,
          "yref": "y"
         },
         {
          "align": "center",
          "font": {
           "color": "rgb(255, 255, 255)",
           "family": "arial"
          },
          "showarrow": false,
          "text": "<b>.1</b>",
          "x": 1,
          "xref": "x",
          "y": -14,
          "yref": "y"
         },
         {
          "align": "center",
          "font": {
           "color": "rgb(255, 255, 255)",
           "family": "arial"
          },
          "showarrow": false,
          "text": "<b>.1</b>",
          "x": 2,
          "xref": "x",
          "y": -14,
          "yref": "y"
         },
         {
          "align": "center",
          "font": {
           "color": "rgb(255, 255, 255)",
           "family": "arial"
          },
          "showarrow": false,
          "text": "<b>.1</b>",
          "x": 3,
          "xref": "x",
          "y": -14,
          "yref": "y"
         },
         {
          "align": "center",
          "font": {
           "color": "rgb(255, 255, 255)",
           "family": "arial"
          },
          "showarrow": false,
          "text": "<b>.1</b>",
          "x": 4,
          "xref": "x",
          "y": -14,
          "yref": "y"
         },
         {
          "align": "center",
          "font": {
           "color": "rgb(255, 255, 255)",
           "family": "arial"
          },
          "showarrow": false,
          "text": "<b>.1</b>",
          "x": 5,
          "xref": "x",
          "y": -14,
          "yref": "y"
         },
         {
          "align": "center",
          "font": {
           "color": "rgb(255, 255, 255)",
           "family": "arial"
          },
          "showarrow": false,
          "text": "<b>.1</b>",
          "x": 6,
          "xref": "x",
          "y": -14,
          "yref": "y"
         },
         {
          "align": "center",
          "font": {
           "color": "rgb(255, 255, 255)",
           "family": "arial"
          },
          "showarrow": false,
          "text": "<b>.1</b>",
          "x": 7,
          "xref": "x",
          "y": -14,
          "yref": "y"
         },
         {
          "align": "center",
          "font": {
           "color": "rgb(255, 255, 255)",
           "family": "arial"
          },
          "showarrow": false,
          "text": "<b>.1</b>",
          "x": 8,
          "xref": "x",
          "y": -14,
          "yref": "y"
         },
         {
          "align": "center",
          "font": {
           "color": "rgb(255, 255, 255)",
           "family": "arial"
          },
          "showarrow": false,
          "text": "<b>.1</b>",
          "x": 9,
          "xref": "x",
          "y": -14,
          "yref": "y"
         },
         {
          "align": "center",
          "font": {
           "color": "rgb(255, 255, 255)",
           "family": "arial"
          },
          "showarrow": false,
          "text": "<b>.1</b>",
          "x": 10,
          "xref": "x",
          "y": -14,
          "yref": "y"
         },
         {
          "align": "center",
          "font": {
           "color": "rgb(255, 255, 255)",
           "family": "arial"
          },
          "showarrow": false,
          "text": "<b>.1</b>",
          "x": 11,
          "xref": "x",
          "y": -14,
          "yref": "y"
         },
         {
          "align": "center",
          "font": {
           "color": "rgb(255, 255, 255)",
           "family": "arial"
          },
          "showarrow": false,
          "text": "<b>.1</b>",
          "x": 12,
          "xref": "x",
          "y": -14,
          "yref": "y"
         },
         {
          "align": "center",
          "font": {
           "color": "rgb(255, 255, 255)",
           "family": "arial"
          },
          "showarrow": false,
          "text": "<b>.1</b>",
          "x": 13,
          "xref": "x",
          "y": -14,
          "yref": "y"
         },
         {
          "align": "center",
          "font": {
           "color": "rgb(255, 255, 255)",
           "family": "arial"
          },
          "showarrow": false,
          "text": "<b>.1</b>",
          "x": 14,
          "xref": "x",
          "y": -14,
          "yref": "y"
         },
         {
          "align": "center",
          "font": {
           "color": "rgb(255, 255, 255)",
           "family": "arial"
          },
          "showarrow": false,
          "text": "<b>.1</b>",
          "x": 15,
          "xref": "x",
          "y": -14,
          "yref": "y"
         },
         {
          "align": "center",
          "font": {
           "color": "rgb(255, 255, 255)",
           "family": "arial"
          },
          "showarrow": false,
          "text": "<b>.1</b>",
          "x": 16,
          "xref": "x",
          "y": -14,
          "yref": "y"
         },
         {
          "align": "center",
          "font": {
           "color": "rgb(255, 255, 255)",
           "family": "arial"
          },
          "showarrow": false,
          "text": "<b>.1</b>",
          "x": 17,
          "xref": "x",
          "y": -14,
          "yref": "y"
         },
         {
          "align": "center",
          "font": {
           "color": "rgb(255, 255, 255)",
           "family": "arial"
          },
          "showarrow": false,
          "text": "<b>.1</b>",
          "x": 18,
          "xref": "x",
          "y": -14,
          "yref": "y"
         },
         {
          "align": "center",
          "font": {
           "color": "rgb(255, 255, 255)",
           "family": "arial"
          },
          "showarrow": false,
          "text": "<b>.1</b>",
          "x": 19,
          "xref": "x",
          "y": -14,
          "yref": "y"
         },
         {
          "align": "center",
          "font": {
           "color": "rgb(255, 255, 255)",
           "family": "arial"
          },
          "showarrow": false,
          "text": "<b>.1</b>",
          "x": 0,
          "xref": "x",
          "y": -15,
          "yref": "y"
         },
         {
          "align": "center",
          "font": {
           "color": "rgb(255, 255, 255)",
           "family": "arial"
          },
          "showarrow": false,
          "text": "<b>.1</b>",
          "x": 1,
          "xref": "x",
          "y": -15,
          "yref": "y"
         },
         {
          "align": "center",
          "font": {
           "color": "rgb(255, 255, 255)",
           "family": "arial"
          },
          "showarrow": false,
          "text": "<b>.1</b>",
          "x": 2,
          "xref": "x",
          "y": -15,
          "yref": "y"
         },
         {
          "align": "center",
          "font": {
           "color": "rgb(255, 255, 255)",
           "family": "arial"
          },
          "showarrow": false,
          "text": "<b>.1</b>",
          "x": 3,
          "xref": "x",
          "y": -15,
          "yref": "y"
         },
         {
          "align": "center",
          "font": {
           "color": "rgb(255, 255, 255)",
           "family": "arial"
          },
          "showarrow": false,
          "text": "<b>.1</b>",
          "x": 4,
          "xref": "x",
          "y": -15,
          "yref": "y"
         },
         {
          "align": "center",
          "font": {
           "color": "rgb(255, 255, 255)",
           "family": "arial"
          },
          "showarrow": false,
          "text": "<b>.1</b>",
          "x": 5,
          "xref": "x",
          "y": -15,
          "yref": "y"
         },
         {
          "align": "center",
          "font": {
           "color": "rgb(255, 255, 255)",
           "family": "arial"
          },
          "showarrow": false,
          "text": "<b>.1</b>",
          "x": 6,
          "xref": "x",
          "y": -15,
          "yref": "y"
         },
         {
          "align": "center",
          "font": {
           "color": "rgb(255, 255, 255)",
           "family": "arial"
          },
          "showarrow": false,
          "text": "<b>.1</b>",
          "x": 7,
          "xref": "x",
          "y": -15,
          "yref": "y"
         },
         {
          "align": "center",
          "font": {
           "color": "rgb(255, 255, 255)",
           "family": "arial"
          },
          "showarrow": false,
          "text": "<b>.1</b>",
          "x": 8,
          "xref": "x",
          "y": -15,
          "yref": "y"
         },
         {
          "align": "center",
          "font": {
           "color": "rgb(255, 255, 255)",
           "family": "arial"
          },
          "showarrow": false,
          "text": "<b>.1</b>",
          "x": 9,
          "xref": "x",
          "y": -15,
          "yref": "y"
         },
         {
          "align": "center",
          "font": {
           "color": "rgb(255, 255, 255)",
           "family": "arial"
          },
          "showarrow": false,
          "text": "<b>.1</b>",
          "x": 10,
          "xref": "x",
          "y": -15,
          "yref": "y"
         },
         {
          "align": "center",
          "font": {
           "color": "rgb(255, 255, 255)",
           "family": "arial"
          },
          "showarrow": false,
          "text": "<b>.1</b>",
          "x": 11,
          "xref": "x",
          "y": -15,
          "yref": "y"
         },
         {
          "align": "center",
          "font": {
           "color": "rgb(255, 255, 255)",
           "family": "arial"
          },
          "showarrow": false,
          "text": "<b>.1</b>",
          "x": 12,
          "xref": "x",
          "y": -15,
          "yref": "y"
         },
         {
          "align": "center",
          "font": {
           "color": "rgb(255, 255, 255)",
           "family": "arial"
          },
          "showarrow": false,
          "text": "<b>.1</b>",
          "x": 13,
          "xref": "x",
          "y": -15,
          "yref": "y"
         },
         {
          "align": "center",
          "font": {
           "color": "rgb(255, 255, 255)",
           "family": "arial"
          },
          "showarrow": false,
          "text": "<b>.1</b>",
          "x": 14,
          "xref": "x",
          "y": -15,
          "yref": "y"
         },
         {
          "align": "center",
          "font": {
           "color": "rgb(255, 255, 255)",
           "family": "arial"
          },
          "showarrow": false,
          "text": "<b>.1</b>",
          "x": 15,
          "xref": "x",
          "y": -15,
          "yref": "y"
         },
         {
          "align": "center",
          "font": {
           "color": "rgb(255, 255, 255)",
           "family": "arial"
          },
          "showarrow": false,
          "text": "<b>.1</b>",
          "x": 16,
          "xref": "x",
          "y": -15,
          "yref": "y"
         },
         {
          "align": "center",
          "font": {
           "color": "rgb(255, 255, 255)",
           "family": "arial"
          },
          "showarrow": false,
          "text": "<b>.1</b>",
          "x": 17,
          "xref": "x",
          "y": -15,
          "yref": "y"
         },
         {
          "align": "center",
          "font": {
           "color": "rgb(255, 255, 255)",
           "family": "arial"
          },
          "showarrow": false,
          "text": "<b>.1</b>",
          "x": 18,
          "xref": "x",
          "y": -15,
          "yref": "y"
         },
         {
          "align": "center",
          "font": {
           "color": "rgb(255, 255, 255)",
           "family": "arial"
          },
          "showarrow": false,
          "text": "<b>.1</b>",
          "x": 19,
          "xref": "x",
          "y": -15,
          "yref": "y"
         },
         {
          "align": "center",
          "font": {
           "color": "rgb(255, 255, 255)",
           "family": "arial"
          },
          "showarrow": false,
          "text": "<b>.1</b>",
          "x": 0,
          "xref": "x",
          "y": -16,
          "yref": "y"
         },
         {
          "align": "center",
          "font": {
           "color": "rgb(255, 255, 255)",
           "family": "arial"
          },
          "showarrow": false,
          "text": "<b>.1</b>",
          "x": 1,
          "xref": "x",
          "y": -16,
          "yref": "y"
         },
         {
          "align": "center",
          "font": {
           "color": "rgb(255, 255, 255)",
           "family": "arial"
          },
          "showarrow": false,
          "text": "<b>.1</b>",
          "x": 2,
          "xref": "x",
          "y": -16,
          "yref": "y"
         },
         {
          "align": "center",
          "font": {
           "color": "rgb(255, 255, 255)",
           "family": "arial"
          },
          "showarrow": false,
          "text": "<b>.1</b>",
          "x": 3,
          "xref": "x",
          "y": -16,
          "yref": "y"
         },
         {
          "align": "center",
          "font": {
           "color": "rgb(255, 255, 255)",
           "family": "arial"
          },
          "showarrow": false,
          "text": "<b>.1</b>",
          "x": 4,
          "xref": "x",
          "y": -16,
          "yref": "y"
         },
         {
          "align": "center",
          "font": {
           "color": "rgb(255, 255, 255)",
           "family": "arial"
          },
          "showarrow": false,
          "text": "<b>.1</b>",
          "x": 5,
          "xref": "x",
          "y": -16,
          "yref": "y"
         },
         {
          "align": "center",
          "font": {
           "color": "rgb(255, 255, 255)",
           "family": "arial"
          },
          "showarrow": false,
          "text": "<b>.1</b>",
          "x": 6,
          "xref": "x",
          "y": -16,
          "yref": "y"
         },
         {
          "align": "center",
          "font": {
           "color": "rgb(255, 255, 255)",
           "family": "arial"
          },
          "showarrow": false,
          "text": "<b>.1</b>",
          "x": 7,
          "xref": "x",
          "y": -16,
          "yref": "y"
         },
         {
          "align": "center",
          "font": {
           "color": "rgb(255, 255, 255)",
           "family": "arial"
          },
          "showarrow": false,
          "text": "<b>.1</b>",
          "x": 8,
          "xref": "x",
          "y": -16,
          "yref": "y"
         },
         {
          "align": "center",
          "font": {
           "color": "rgb(255, 255, 255)",
           "family": "arial"
          },
          "showarrow": false,
          "text": "<b>.1</b>",
          "x": 9,
          "xref": "x",
          "y": -16,
          "yref": "y"
         },
         {
          "align": "center",
          "font": {
           "color": "rgb(255, 255, 255)",
           "family": "arial"
          },
          "showarrow": false,
          "text": "<b>.1</b>",
          "x": 10,
          "xref": "x",
          "y": -16,
          "yref": "y"
         },
         {
          "align": "center",
          "font": {
           "color": "rgb(255, 255, 255)",
           "family": "arial"
          },
          "showarrow": false,
          "text": "<b>.1</b>",
          "x": 11,
          "xref": "x",
          "y": -16,
          "yref": "y"
         },
         {
          "align": "center",
          "font": {
           "color": "rgb(255, 255, 255)",
           "family": "arial"
          },
          "showarrow": false,
          "text": "<b>.1</b>",
          "x": 12,
          "xref": "x",
          "y": -16,
          "yref": "y"
         },
         {
          "align": "center",
          "font": {
           "color": "rgb(255, 255, 255)",
           "family": "arial"
          },
          "showarrow": false,
          "text": "<b>.1</b>",
          "x": 13,
          "xref": "x",
          "y": -16,
          "yref": "y"
         },
         {
          "align": "center",
          "font": {
           "color": "rgb(255, 255, 255)",
           "family": "arial"
          },
          "showarrow": false,
          "text": "<b>.1</b>",
          "x": 14,
          "xref": "x",
          "y": -16,
          "yref": "y"
         },
         {
          "align": "center",
          "font": {
           "color": "rgb(255, 255, 255)",
           "family": "arial"
          },
          "showarrow": false,
          "text": "<b>.1</b>",
          "x": 15,
          "xref": "x",
          "y": -16,
          "yref": "y"
         },
         {
          "align": "center",
          "font": {
           "color": "rgb(255, 255, 255)",
           "family": "arial"
          },
          "showarrow": false,
          "text": "<b>.1</b>",
          "x": 16,
          "xref": "x",
          "y": -16,
          "yref": "y"
         },
         {
          "align": "center",
          "font": {
           "color": "rgb(255, 255, 255)",
           "family": "arial"
          },
          "showarrow": false,
          "text": "<b>.1</b>",
          "x": 17,
          "xref": "x",
          "y": -16,
          "yref": "y"
         },
         {
          "align": "center",
          "font": {
           "color": "rgb(255, 255, 255)",
           "family": "arial"
          },
          "showarrow": false,
          "text": "<b>.1</b>",
          "x": 18,
          "xref": "x",
          "y": -16,
          "yref": "y"
         },
         {
          "align": "center",
          "font": {
           "color": "rgb(255, 255, 255)",
           "family": "arial"
          },
          "showarrow": false,
          "text": "<b>.1</b>",
          "x": 19,
          "xref": "x",
          "y": -16,
          "yref": "y"
         },
         {
          "align": "center",
          "font": {
           "color": "rgb(255, 255, 255)",
           "family": "arial"
          },
          "showarrow": false,
          "text": "<b>.1</b>",
          "x": 0,
          "xref": "x",
          "y": -17,
          "yref": "y"
         },
         {
          "align": "center",
          "font": {
           "color": "rgb(255, 255, 255)",
           "family": "arial"
          },
          "showarrow": false,
          "text": "<b>.1</b>",
          "x": 1,
          "xref": "x",
          "y": -17,
          "yref": "y"
         },
         {
          "align": "center",
          "font": {
           "color": "rgb(255, 255, 255)",
           "family": "arial"
          },
          "showarrow": false,
          "text": "<b>.1</b>",
          "x": 2,
          "xref": "x",
          "y": -17,
          "yref": "y"
         },
         {
          "align": "center",
          "font": {
           "color": "rgb(255, 255, 255)",
           "family": "arial"
          },
          "showarrow": false,
          "text": "<b>.1</b>",
          "x": 3,
          "xref": "x",
          "y": -17,
          "yref": "y"
         },
         {
          "align": "center",
          "font": {
           "color": "rgb(255, 255, 255)",
           "family": "arial"
          },
          "showarrow": false,
          "text": "<b>.1</b>",
          "x": 4,
          "xref": "x",
          "y": -17,
          "yref": "y"
         },
         {
          "align": "center",
          "font": {
           "color": "rgb(255, 255, 255)",
           "family": "arial"
          },
          "showarrow": false,
          "text": "<b>.0</b>",
          "x": 5,
          "xref": "x",
          "y": -17,
          "yref": "y"
         },
         {
          "align": "center",
          "font": {
           "color": "rgb(255, 255, 255)",
           "family": "arial"
          },
          "showarrow": false,
          "text": "<b>.0</b>",
          "x": 6,
          "xref": "x",
          "y": -17,
          "yref": "y"
         },
         {
          "align": "center",
          "font": {
           "color": "rgb(255, 255, 255)",
           "family": "arial"
          },
          "showarrow": false,
          "text": "<b>.0</b>",
          "x": 7,
          "xref": "x",
          "y": -17,
          "yref": "y"
         },
         {
          "align": "center",
          "font": {
           "color": "rgb(255, 255, 255)",
           "family": "arial"
          },
          "showarrow": false,
          "text": "<b>.0</b>",
          "x": 8,
          "xref": "x",
          "y": -17,
          "yref": "y"
         },
         {
          "align": "center",
          "font": {
           "color": "rgb(255, 255, 255)",
           "family": "arial"
          },
          "showarrow": false,
          "text": "<b>.0</b>",
          "x": 9,
          "xref": "x",
          "y": -17,
          "yref": "y"
         },
         {
          "align": "center",
          "font": {
           "color": "rgb(255, 255, 255)",
           "family": "arial"
          },
          "showarrow": false,
          "text": "<b>.0</b>",
          "x": 10,
          "xref": "x",
          "y": -17,
          "yref": "y"
         },
         {
          "align": "center",
          "font": {
           "color": "rgb(255, 255, 255)",
           "family": "arial"
          },
          "showarrow": false,
          "text": "<b>.0</b>",
          "x": 11,
          "xref": "x",
          "y": -17,
          "yref": "y"
         },
         {
          "align": "center",
          "font": {
           "color": "rgb(255, 255, 255)",
           "family": "arial"
          },
          "showarrow": false,
          "text": "<b>.0</b>",
          "x": 12,
          "xref": "x",
          "y": -17,
          "yref": "y"
         },
         {
          "align": "center",
          "font": {
           "color": "rgb(255, 255, 255)",
           "family": "arial"
          },
          "showarrow": false,
          "text": "<b>.0</b>",
          "x": 13,
          "xref": "x",
          "y": -17,
          "yref": "y"
         },
         {
          "align": "center",
          "font": {
           "color": "rgb(255, 255, 255)",
           "family": "arial"
          },
          "showarrow": false,
          "text": "<b>.0</b>",
          "x": 14,
          "xref": "x",
          "y": -17,
          "yref": "y"
         },
         {
          "align": "center",
          "font": {
           "color": "rgb(255, 255, 255)",
           "family": "arial"
          },
          "showarrow": false,
          "text": "<b>.0</b>",
          "x": 15,
          "xref": "x",
          "y": -17,
          "yref": "y"
         },
         {
          "align": "center",
          "font": {
           "color": "rgb(255, 255, 255)",
           "family": "arial"
          },
          "showarrow": false,
          "text": "<b>.0</b>",
          "x": 16,
          "xref": "x",
          "y": -17,
          "yref": "y"
         },
         {
          "align": "center",
          "font": {
           "color": "rgb(255, 255, 255)",
           "family": "arial"
          },
          "showarrow": false,
          "text": "<b>.0</b>",
          "x": 17,
          "xref": "x",
          "y": -17,
          "yref": "y"
         },
         {
          "align": "center",
          "font": {
           "color": "rgb(255, 255, 255)",
           "family": "arial"
          },
          "showarrow": false,
          "text": "<b>.0</b>",
          "x": 18,
          "xref": "x",
          "y": -17,
          "yref": "y"
         },
         {
          "align": "center",
          "font": {
           "color": "rgb(255, 255, 255)",
           "family": "arial"
          },
          "showarrow": false,
          "text": "<b>.0</b>",
          "x": 19,
          "xref": "x",
          "y": -17,
          "yref": "y"
         },
         {
          "align": "center",
          "font": {
           "color": "rgb(255, 255, 255)",
           "family": "arial"
          },
          "showarrow": false,
          "text": "<b>.0</b>",
          "x": 0,
          "xref": "x",
          "y": -18,
          "yref": "y"
         },
         {
          "align": "center",
          "font": {
           "color": "rgb(255, 255, 255)",
           "family": "arial"
          },
          "showarrow": false,
          "text": "<b>.0</b>",
          "x": 1,
          "xref": "x",
          "y": -18,
          "yref": "y"
         },
         {
          "align": "center",
          "font": {
           "color": "rgb(255, 255, 255)",
           "family": "arial"
          },
          "showarrow": false,
          "text": "<b>.0</b>",
          "x": 2,
          "xref": "x",
          "y": -18,
          "yref": "y"
         },
         {
          "align": "center",
          "font": {
           "color": "rgb(255, 255, 255)",
           "family": "arial"
          },
          "showarrow": false,
          "text": "<b>.0</b>",
          "x": 3,
          "xref": "x",
          "y": -18,
          "yref": "y"
         },
         {
          "align": "center",
          "font": {
           "color": "rgb(255, 255, 255)",
           "family": "arial"
          },
          "showarrow": false,
          "text": "<b>.0</b>",
          "x": 4,
          "xref": "x",
          "y": -18,
          "yref": "y"
         },
         {
          "align": "center",
          "font": {
           "color": "rgb(255, 255, 255)",
           "family": "arial"
          },
          "showarrow": false,
          "text": "<b>.0</b>",
          "x": 5,
          "xref": "x",
          "y": -18,
          "yref": "y"
         },
         {
          "align": "center",
          "font": {
           "color": "rgb(255, 255, 255)",
           "family": "arial"
          },
          "showarrow": false,
          "text": "<b>.0</b>",
          "x": 6,
          "xref": "x",
          "y": -18,
          "yref": "y"
         },
         {
          "align": "center",
          "font": {
           "color": "rgb(255, 255, 255)",
           "family": "arial"
          },
          "showarrow": false,
          "text": "<b>.0</b>",
          "x": 7,
          "xref": "x",
          "y": -18,
          "yref": "y"
         },
         {
          "align": "center",
          "font": {
           "color": "rgb(255, 255, 255)",
           "family": "arial"
          },
          "showarrow": false,
          "text": "<b>.0</b>",
          "x": 8,
          "xref": "x",
          "y": -18,
          "yref": "y"
         },
         {
          "align": "center",
          "font": {
           "color": "rgb(255, 255, 255)",
           "family": "arial"
          },
          "showarrow": false,
          "text": "<b>.0</b>",
          "x": 9,
          "xref": "x",
          "y": -18,
          "yref": "y"
         },
         {
          "align": "center",
          "font": {
           "color": "rgb(255, 255, 255)",
           "family": "arial"
          },
          "showarrow": false,
          "text": "<b>.0</b>",
          "x": 10,
          "xref": "x",
          "y": -18,
          "yref": "y"
         },
         {
          "align": "center",
          "font": {
           "color": "rgb(255, 255, 255)",
           "family": "arial"
          },
          "showarrow": false,
          "text": "<b>.0</b>",
          "x": 11,
          "xref": "x",
          "y": -18,
          "yref": "y"
         },
         {
          "align": "center",
          "font": {
           "color": "rgb(255, 255, 255)",
           "family": "arial"
          },
          "showarrow": false,
          "text": "<b>.0</b>",
          "x": 12,
          "xref": "x",
          "y": -18,
          "yref": "y"
         },
         {
          "align": "center",
          "font": {
           "color": "rgb(255, 255, 255)",
           "family": "arial"
          },
          "showarrow": false,
          "text": "<b>.0</b>",
          "x": 13,
          "xref": "x",
          "y": -18,
          "yref": "y"
         },
         {
          "align": "center",
          "font": {
           "color": "rgb(255, 255, 255)",
           "family": "arial"
          },
          "showarrow": false,
          "text": "<b>.0</b>",
          "x": 14,
          "xref": "x",
          "y": -18,
          "yref": "y"
         },
         {
          "align": "center",
          "font": {
           "color": "rgb(255, 255, 255)",
           "family": "arial"
          },
          "showarrow": false,
          "text": "<b>.0</b>",
          "x": 15,
          "xref": "x",
          "y": -18,
          "yref": "y"
         },
         {
          "align": "center",
          "font": {
           "color": "rgb(255, 255, 255)",
           "family": "arial"
          },
          "showarrow": false,
          "text": "<b>.0</b>",
          "x": 16,
          "xref": "x",
          "y": -18,
          "yref": "y"
         },
         {
          "align": "center",
          "font": {
           "color": "rgb(255, 255, 255)",
           "family": "arial"
          },
          "showarrow": false,
          "text": "<b>.0</b>",
          "x": 17,
          "xref": "x",
          "y": -18,
          "yref": "y"
         },
         {
          "align": "center",
          "font": {
           "color": "rgb(255, 255, 255)",
           "family": "arial"
          },
          "showarrow": false,
          "text": "<b>.0</b>",
          "x": 18,
          "xref": "x",
          "y": -18,
          "yref": "y"
         },
         {
          "align": "center",
          "font": {
           "color": "rgb(255, 255, 255)",
           "family": "arial"
          },
          "showarrow": false,
          "text": "<b>.0</b>",
          "x": 19,
          "xref": "x",
          "y": -18,
          "yref": "y"
         },
         {
          "align": "center",
          "font": {
           "color": "rgb(255, 255, 255)",
           "family": "arial"
          },
          "showarrow": false,
          "text": "<b>.0</b>",
          "x": 0,
          "xref": "x",
          "y": -19,
          "yref": "y"
         },
         {
          "align": "center",
          "font": {
           "color": "rgb(255, 255, 255)",
           "family": "arial"
          },
          "showarrow": false,
          "text": "<b>.0</b>",
          "x": 1,
          "xref": "x",
          "y": -19,
          "yref": "y"
         },
         {
          "align": "center",
          "font": {
           "color": "rgb(255, 255, 255)",
           "family": "arial"
          },
          "showarrow": false,
          "text": "<b>.0</b>",
          "x": 2,
          "xref": "x",
          "y": -19,
          "yref": "y"
         },
         {
          "align": "center",
          "font": {
           "color": "rgb(255, 255, 255)",
           "family": "arial"
          },
          "showarrow": false,
          "text": "<b>.0</b>",
          "x": 3,
          "xref": "x",
          "y": -19,
          "yref": "y"
         },
         {
          "align": "center",
          "font": {
           "color": "rgb(255, 255, 255)",
           "family": "arial"
          },
          "showarrow": false,
          "text": "<b>.0</b>",
          "x": 4,
          "xref": "x",
          "y": -19,
          "yref": "y"
         },
         {
          "align": "center",
          "font": {
           "color": "rgb(255, 255, 255)",
           "family": "arial"
          },
          "showarrow": false,
          "text": "<b>.0</b>",
          "x": 5,
          "xref": "x",
          "y": -19,
          "yref": "y"
         },
         {
          "align": "center",
          "font": {
           "color": "rgb(255, 255, 255)",
           "family": "arial"
          },
          "showarrow": false,
          "text": "<b>.0</b>",
          "x": 6,
          "xref": "x",
          "y": -19,
          "yref": "y"
         },
         {
          "align": "center",
          "font": {
           "color": "rgb(255, 255, 255)",
           "family": "arial"
          },
          "showarrow": false,
          "text": "<b>0</b>",
          "x": 7,
          "xref": "x",
          "y": -19,
          "yref": "y"
         },
         {
          "align": "center",
          "font": {
           "color": "rgb(255, 255, 255)",
           "family": "arial"
          },
          "showarrow": false,
          "text": "<b>0</b>",
          "x": 8,
          "xref": "x",
          "y": -19,
          "yref": "y"
         },
         {
          "align": "center",
          "font": {
           "color": "rgb(255, 255, 255)",
           "family": "arial"
          },
          "showarrow": false,
          "text": "<b>0</b>",
          "x": 9,
          "xref": "x",
          "y": -19,
          "yref": "y"
         },
         {
          "align": "center",
          "font": {
           "color": "rgb(255, 255, 255)",
           "family": "arial"
          },
          "showarrow": false,
          "text": "<b>0</b>",
          "x": 10,
          "xref": "x",
          "y": -19,
          "yref": "y"
         },
         {
          "align": "center",
          "font": {
           "color": "rgb(255, 255, 255)",
           "family": "arial"
          },
          "showarrow": false,
          "text": "<b>0</b>",
          "x": 11,
          "xref": "x",
          "y": -19,
          "yref": "y"
         },
         {
          "align": "center",
          "font": {
           "color": "rgb(255, 255, 255)",
           "family": "arial"
          },
          "showarrow": false,
          "text": "<b>0</b>",
          "x": 12,
          "xref": "x",
          "y": -19,
          "yref": "y"
         },
         {
          "align": "center",
          "font": {
           "color": "rgb(255, 255, 255)",
           "family": "arial"
          },
          "showarrow": false,
          "text": "<b>0</b>",
          "x": 13,
          "xref": "x",
          "y": -19,
          "yref": "y"
         },
         {
          "align": "center",
          "font": {
           "color": "rgb(255, 255, 255)",
           "family": "arial"
          },
          "showarrow": false,
          "text": "<b>0</b>",
          "x": 14,
          "xref": "x",
          "y": -19,
          "yref": "y"
         },
         {
          "align": "center",
          "font": {
           "color": "rgb(255, 255, 255)",
           "family": "arial"
          },
          "showarrow": false,
          "text": "<b>0</b>",
          "x": 15,
          "xref": "x",
          "y": -19,
          "yref": "y"
         },
         {
          "align": "center",
          "font": {
           "color": "rgb(255, 255, 255)",
           "family": "arial"
          },
          "showarrow": false,
          "text": "<b>0</b>",
          "x": 16,
          "xref": "x",
          "y": -19,
          "yref": "y"
         },
         {
          "align": "center",
          "font": {
           "color": "rgb(255, 255, 255)",
           "family": "arial"
          },
          "showarrow": false,
          "text": "<b>0</b>",
          "x": 17,
          "xref": "x",
          "y": -19,
          "yref": "y"
         },
         {
          "align": "center",
          "font": {
           "color": "rgb(255, 255, 255)",
           "family": "arial"
          },
          "showarrow": false,
          "text": "<b>0</b>",
          "x": 18,
          "xref": "x",
          "y": -19,
          "yref": "y"
         },
         {
          "align": "center",
          "font": {
           "color": "rgb(255, 255, 255)",
           "family": "arial"
          },
          "showarrow": false,
          "text": "<b>0</b>",
          "x": 19,
          "xref": "x",
          "y": -19,
          "yref": "y"
         },
         {
          "align": "center",
          "font": {
           "color": "rgb(255, 255, 255)",
           "family": "arial"
          },
          "showarrow": false,
          "text": "<b>0</b>",
          "x": 0,
          "xref": "x",
          "y": -20,
          "yref": "y"
         },
         {
          "align": "center",
          "font": {
           "color": "rgb(255, 255, 255)",
           "family": "arial"
          },
          "showarrow": false,
          "text": "<b>0</b>",
          "x": 1,
          "xref": "x",
          "y": -20,
          "yref": "y"
         },
         {
          "align": "center",
          "font": {
           "color": "rgb(255, 255, 255)",
           "family": "arial"
          },
          "showarrow": false,
          "text": "<b>0</b>",
          "x": 2,
          "xref": "x",
          "y": -20,
          "yref": "y"
         },
         {
          "align": "center",
          "font": {
           "color": "rgb(255, 255, 255)",
           "family": "arial"
          },
          "showarrow": false,
          "text": "<b>0</b>",
          "x": 3,
          "xref": "x",
          "y": -20,
          "yref": "y"
         },
         {
          "align": "center",
          "font": {
           "color": "rgb(255, 255, 255)",
           "family": "arial"
          },
          "showarrow": false,
          "text": "<b>0</b>",
          "x": 4,
          "xref": "x",
          "y": -20,
          "yref": "y"
         },
         {
          "align": "center",
          "font": {
           "color": "rgb(255, 255, 255)",
           "family": "arial"
          },
          "showarrow": false,
          "text": "<b>0</b>",
          "x": 5,
          "xref": "x",
          "y": -20,
          "yref": "y"
         },
         {
          "align": "center",
          "font": {
           "color": "rgb(255, 255, 255)",
           "family": "arial"
          },
          "showarrow": false,
          "text": "<b>0</b>",
          "x": 6,
          "xref": "x",
          "y": -20,
          "yref": "y"
         },
         {
          "align": "center",
          "font": {
           "color": "rgb(255, 255, 255)",
           "family": "arial"
          },
          "showarrow": false,
          "text": "<b>0</b>",
          "x": 7,
          "xref": "x",
          "y": -20,
          "yref": "y"
         },
         {
          "align": "center",
          "font": {
           "color": "rgb(255, 255, 255)",
           "family": "arial"
          },
          "showarrow": false,
          "text": "<b>0</b>",
          "x": 8,
          "xref": "x",
          "y": -20,
          "yref": "y"
         },
         {
          "align": "center",
          "font": {
           "color": "rgb(255, 255, 255)",
           "family": "arial"
          },
          "showarrow": false,
          "text": "<b>0</b>",
          "x": 9,
          "xref": "x",
          "y": -20,
          "yref": "y"
         },
         {
          "align": "center",
          "font": {
           "color": "rgb(255, 255, 255)",
           "family": "arial"
          },
          "showarrow": false,
          "text": "<b>0</b>",
          "x": 10,
          "xref": "x",
          "y": -20,
          "yref": "y"
         },
         {
          "align": "center",
          "font": {
           "color": "rgb(255, 255, 255)",
           "family": "arial"
          },
          "showarrow": false,
          "text": "<b>0</b>",
          "x": 11,
          "xref": "x",
          "y": -20,
          "yref": "y"
         },
         {
          "align": "center",
          "font": {
           "color": "rgb(255, 255, 255)",
           "family": "arial"
          },
          "showarrow": false,
          "text": "<b>0</b>",
          "x": 12,
          "xref": "x",
          "y": -20,
          "yref": "y"
         },
         {
          "align": "center",
          "font": {
           "color": "rgb(255, 255, 255)",
           "family": "arial"
          },
          "showarrow": false,
          "text": "<b>0</b>",
          "x": 13,
          "xref": "x",
          "y": -20,
          "yref": "y"
         },
         {
          "align": "center",
          "font": {
           "color": "rgb(255, 255, 255)",
           "family": "arial"
          },
          "showarrow": false,
          "text": "<b>0</b>",
          "x": 14,
          "xref": "x",
          "y": -20,
          "yref": "y"
         },
         {
          "align": "center",
          "font": {
           "color": "rgb(255, 255, 255)",
           "family": "arial"
          },
          "showarrow": false,
          "text": "<b>0</b>",
          "x": 15,
          "xref": "x",
          "y": -20,
          "yref": "y"
         },
         {
          "align": "center",
          "font": {
           "color": "rgb(255, 255, 255)",
           "family": "arial"
          },
          "showarrow": false,
          "text": "<b>0</b>",
          "x": 16,
          "xref": "x",
          "y": -20,
          "yref": "y"
         },
         {
          "align": "center",
          "font": {
           "color": "rgb(255, 255, 255)",
           "family": "arial"
          },
          "showarrow": false,
          "text": "<b>0</b>",
          "x": 17,
          "xref": "x",
          "y": -20,
          "yref": "y"
         },
         {
          "align": "center",
          "font": {
           "color": "rgb(255, 255, 255)",
           "family": "arial"
          },
          "showarrow": false,
          "text": "<b>0</b>",
          "x": 18,
          "xref": "x",
          "y": -20,
          "yref": "y"
         },
         {
          "align": "center",
          "font": {
           "color": "rgb(255, 255, 255)",
           "family": "arial"
          },
          "showarrow": false,
          "text": "<b>0</b>",
          "x": 19,
          "xref": "x",
          "y": -20,
          "yref": "y"
         },
         {
          "align": "center",
          "font": {
           "color": "rgb(255, 255, 255)",
           "family": "arial"
          },
          "showarrow": false,
          "text": "<b>0</b>",
          "x": 0,
          "xref": "x",
          "y": -21,
          "yref": "y"
         },
         {
          "align": "center",
          "font": {
           "color": "rgb(255, 255, 255)",
           "family": "arial"
          },
          "showarrow": false,
          "text": "<b>0</b>",
          "x": 1,
          "xref": "x",
          "y": -21,
          "yref": "y"
         },
         {
          "align": "center",
          "font": {
           "color": "rgb(255, 255, 255)",
           "family": "arial"
          },
          "showarrow": false,
          "text": "<b>0</b>",
          "x": 2,
          "xref": "x",
          "y": -21,
          "yref": "y"
         },
         {
          "align": "center",
          "font": {
           "color": "rgb(255, 255, 255)",
           "family": "arial"
          },
          "showarrow": false,
          "text": "<b>0</b>",
          "x": 3,
          "xref": "x",
          "y": -21,
          "yref": "y"
         },
         {
          "align": "center",
          "font": {
           "color": "rgb(255, 255, 255)",
           "family": "arial"
          },
          "showarrow": false,
          "text": "<b>0</b>",
          "x": 4,
          "xref": "x",
          "y": -21,
          "yref": "y"
         },
         {
          "align": "center",
          "font": {
           "color": "rgb(255, 255, 255)",
           "family": "arial"
          },
          "showarrow": false,
          "text": "<b>0</b>",
          "x": 5,
          "xref": "x",
          "y": -21,
          "yref": "y"
         },
         {
          "align": "center",
          "font": {
           "color": "rgb(255, 255, 255)",
           "family": "arial"
          },
          "showarrow": false,
          "text": "<b>0</b>",
          "x": 6,
          "xref": "x",
          "y": -21,
          "yref": "y"
         },
         {
          "align": "center",
          "font": {
           "color": "rgb(255, 255, 255)",
           "family": "arial"
          },
          "showarrow": false,
          "text": "<b>0</b>",
          "x": 7,
          "xref": "x",
          "y": -21,
          "yref": "y"
         },
         {
          "align": "center",
          "font": {
           "color": "rgb(255, 255, 255)",
           "family": "arial"
          },
          "showarrow": false,
          "text": "<b>0</b>",
          "x": 8,
          "xref": "x",
          "y": -21,
          "yref": "y"
         },
         {
          "align": "center",
          "font": {
           "color": "rgb(255, 255, 255)",
           "family": "arial"
          },
          "showarrow": false,
          "text": "<b>0</b>",
          "x": 9,
          "xref": "x",
          "y": -21,
          "yref": "y"
         },
         {
          "align": "center",
          "font": {
           "color": "rgb(255, 255, 255)",
           "family": "arial"
          },
          "showarrow": false,
          "text": "<b>0</b>",
          "x": 10,
          "xref": "x",
          "y": -21,
          "yref": "y"
         },
         {
          "align": "center",
          "font": {
           "color": "rgb(255, 255, 255)",
           "family": "arial"
          },
          "showarrow": false,
          "text": "<b>0</b>",
          "x": 11,
          "xref": "x",
          "y": -21,
          "yref": "y"
         },
         {
          "align": "center",
          "font": {
           "color": "rgb(255, 255, 255)",
           "family": "arial"
          },
          "showarrow": false,
          "text": "<b>0</b>",
          "x": 12,
          "xref": "x",
          "y": -21,
          "yref": "y"
         },
         {
          "align": "center",
          "font": {
           "color": "rgb(255, 255, 255)",
           "family": "arial"
          },
          "showarrow": false,
          "text": "<b>0</b>",
          "x": 13,
          "xref": "x",
          "y": -21,
          "yref": "y"
         },
         {
          "align": "center",
          "font": {
           "color": "rgb(255, 255, 255)",
           "family": "arial"
          },
          "showarrow": false,
          "text": "<b>0</b>",
          "x": 14,
          "xref": "x",
          "y": -21,
          "yref": "y"
         },
         {
          "align": "center",
          "font": {
           "color": "rgb(255, 255, 255)",
           "family": "arial"
          },
          "showarrow": false,
          "text": "<b>0</b>",
          "x": 15,
          "xref": "x",
          "y": -21,
          "yref": "y"
         },
         {
          "align": "center",
          "font": {
           "color": "rgb(255, 255, 255)",
           "family": "arial"
          },
          "showarrow": false,
          "text": "<b>0</b>",
          "x": 16,
          "xref": "x",
          "y": -21,
          "yref": "y"
         },
         {
          "align": "center",
          "font": {
           "color": "rgb(255, 255, 255)",
           "family": "arial"
          },
          "showarrow": false,
          "text": "<b>0</b>",
          "x": 17,
          "xref": "x",
          "y": -21,
          "yref": "y"
         },
         {
          "align": "center",
          "font": {
           "color": "rgb(255, 255, 255)",
           "family": "arial"
          },
          "showarrow": false,
          "text": "<b>0</b>",
          "x": 18,
          "xref": "x",
          "y": -21,
          "yref": "y"
         },
         {
          "align": "center",
          "font": {
           "color": "rgb(255, 255, 255)",
           "family": "arial"
          },
          "showarrow": false,
          "text": "<b>0</b>",
          "x": 19,
          "xref": "x",
          "y": -21,
          "yref": "y"
         },
         {
          "align": "center",
          "font": {
           "color": "rgb(255, 255, 255)",
           "family": "arial"
          },
          "showarrow": false,
          "text": "<b>0</b>",
          "x": 0,
          "xref": "x",
          "y": -22,
          "yref": "y"
         },
         {
          "align": "center",
          "font": {
           "color": "rgb(255, 255, 255)",
           "family": "arial"
          },
          "showarrow": false,
          "text": "<b>0</b>",
          "x": 1,
          "xref": "x",
          "y": -22,
          "yref": "y"
         },
         {
          "align": "center",
          "font": {
           "color": "rgb(255, 255, 255)",
           "family": "arial"
          },
          "showarrow": false,
          "text": "<b>0</b>",
          "x": 2,
          "xref": "x",
          "y": -22,
          "yref": "y"
         },
         {
          "align": "center",
          "font": {
           "color": "rgb(255, 255, 255)",
           "family": "arial"
          },
          "showarrow": false,
          "text": "<b>0</b>",
          "x": 3,
          "xref": "x",
          "y": -22,
          "yref": "y"
         },
         {
          "align": "center",
          "font": {
           "color": "rgb(255, 255, 255)",
           "family": "arial"
          },
          "showarrow": false,
          "text": "<b>0</b>",
          "x": 4,
          "xref": "x",
          "y": -22,
          "yref": "y"
         },
         {
          "align": "center",
          "font": {
           "color": "rgb(255, 255, 255)",
           "family": "arial"
          },
          "showarrow": false,
          "text": "<b>0</b>",
          "x": 5,
          "xref": "x",
          "y": -22,
          "yref": "y"
         },
         {
          "align": "center",
          "font": {
           "color": "rgb(255, 255, 255)",
           "family": "arial"
          },
          "showarrow": false,
          "text": "<b>0</b>",
          "x": 6,
          "xref": "x",
          "y": -22,
          "yref": "y"
         },
         {
          "align": "center",
          "font": {
           "color": "rgb(255, 255, 255)",
           "family": "arial"
          },
          "showarrow": false,
          "text": "<b>0</b>",
          "x": 7,
          "xref": "x",
          "y": -22,
          "yref": "y"
         },
         {
          "align": "center",
          "font": {
           "color": "rgb(255, 255, 255)",
           "family": "arial"
          },
          "showarrow": false,
          "text": "<b>0</b>",
          "x": 8,
          "xref": "x",
          "y": -22,
          "yref": "y"
         },
         {
          "align": "center",
          "font": {
           "color": "rgb(255, 255, 255)",
           "family": "arial"
          },
          "showarrow": false,
          "text": "<b>0</b>",
          "x": 9,
          "xref": "x",
          "y": -22,
          "yref": "y"
         },
         {
          "align": "center",
          "font": {
           "color": "rgb(255, 255, 255)",
           "family": "arial"
          },
          "showarrow": false,
          "text": "<b>0</b>",
          "x": 10,
          "xref": "x",
          "y": -22,
          "yref": "y"
         },
         {
          "align": "center",
          "font": {
           "color": "rgb(255, 255, 255)",
           "family": "arial"
          },
          "showarrow": false,
          "text": "<b>0</b>",
          "x": 11,
          "xref": "x",
          "y": -22,
          "yref": "y"
         },
         {
          "align": "center",
          "font": {
           "color": "rgb(255, 255, 255)",
           "family": "arial"
          },
          "showarrow": false,
          "text": "<b>0</b>",
          "x": 12,
          "xref": "x",
          "y": -22,
          "yref": "y"
         },
         {
          "align": "center",
          "font": {
           "color": "rgb(255, 255, 255)",
           "family": "arial"
          },
          "showarrow": false,
          "text": "<b>0</b>",
          "x": 13,
          "xref": "x",
          "y": -22,
          "yref": "y"
         },
         {
          "align": "center",
          "font": {
           "color": "rgb(255, 255, 255)",
           "family": "arial"
          },
          "showarrow": false,
          "text": "<b>0</b>",
          "x": 14,
          "xref": "x",
          "y": -22,
          "yref": "y"
         },
         {
          "align": "center",
          "font": {
           "color": "rgb(255, 255, 255)",
           "family": "arial"
          },
          "showarrow": false,
          "text": "<b>0</b>",
          "x": 15,
          "xref": "x",
          "y": -22,
          "yref": "y"
         },
         {
          "align": "center",
          "font": {
           "color": "rgb(255, 255, 255)",
           "family": "arial"
          },
          "showarrow": false,
          "text": "<b>0</b>",
          "x": 16,
          "xref": "x",
          "y": -22,
          "yref": "y"
         },
         {
          "align": "center",
          "font": {
           "color": "rgb(255, 255, 255)",
           "family": "arial"
          },
          "showarrow": false,
          "text": "<b>0</b>",
          "x": 17,
          "xref": "x",
          "y": -22,
          "yref": "y"
         },
         {
          "align": "center",
          "font": {
           "color": "rgb(255, 255, 255)",
           "family": "arial"
          },
          "showarrow": false,
          "text": "<b>0</b>",
          "x": 18,
          "xref": "x",
          "y": -22,
          "yref": "y"
         },
         {
          "align": "center",
          "font": {
           "color": "rgb(255, 255, 255)",
           "family": "arial"
          },
          "showarrow": false,
          "text": "<b>0</b>",
          "x": 19,
          "xref": "x",
          "y": -22,
          "yref": "y"
         },
         {
          "align": "center",
          "font": {
           "color": "rgb(255, 255, 255)",
           "family": "arial"
          },
          "showarrow": false,
          "text": "<b>0</b>",
          "x": 0,
          "xref": "x",
          "y": -23,
          "yref": "y"
         },
         {
          "align": "center",
          "font": {
           "color": "rgb(255, 255, 255)",
           "family": "arial"
          },
          "showarrow": false,
          "text": "<b>0</b>",
          "x": 1,
          "xref": "x",
          "y": -23,
          "yref": "y"
         },
         {
          "align": "center",
          "font": {
           "color": "rgb(255, 255, 255)",
           "family": "arial"
          },
          "showarrow": false,
          "text": "<b>0</b>",
          "x": 2,
          "xref": "x",
          "y": -23,
          "yref": "y"
         },
         {
          "align": "center",
          "font": {
           "color": "rgb(255, 255, 255)",
           "family": "arial"
          },
          "showarrow": false,
          "text": "<b>0</b>",
          "x": 3,
          "xref": "x",
          "y": -23,
          "yref": "y"
         },
         {
          "align": "center",
          "font": {
           "color": "rgb(255, 255, 255)",
           "family": "arial"
          },
          "showarrow": false,
          "text": "<b>0</b>",
          "x": 4,
          "xref": "x",
          "y": -23,
          "yref": "y"
         },
         {
          "align": "center",
          "font": {
           "color": "rgb(255, 255, 255)",
           "family": "arial"
          },
          "showarrow": false,
          "text": "<b>0</b>",
          "x": 5,
          "xref": "x",
          "y": -23,
          "yref": "y"
         },
         {
          "align": "center",
          "font": {
           "color": "rgb(255, 255, 255)",
           "family": "arial"
          },
          "showarrow": false,
          "text": "<b>0</b>",
          "x": 6,
          "xref": "x",
          "y": -23,
          "yref": "y"
         },
         {
          "align": "center",
          "font": {
           "color": "rgb(255, 255, 255)",
           "family": "arial"
          },
          "showarrow": false,
          "text": "<b>0</b>",
          "x": 7,
          "xref": "x",
          "y": -23,
          "yref": "y"
         },
         {
          "align": "center",
          "font": {
           "color": "rgb(255, 255, 255)",
           "family": "arial"
          },
          "showarrow": false,
          "text": "<b>0</b>",
          "x": 8,
          "xref": "x",
          "y": -23,
          "yref": "y"
         },
         {
          "align": "center",
          "font": {
           "color": "rgb(255, 255, 255)",
           "family": "arial"
          },
          "showarrow": false,
          "text": "<b>0</b>",
          "x": 9,
          "xref": "x",
          "y": -23,
          "yref": "y"
         },
         {
          "align": "center",
          "font": {
           "color": "rgb(255, 255, 255)",
           "family": "arial"
          },
          "showarrow": false,
          "text": "<b>0</b>",
          "x": 10,
          "xref": "x",
          "y": -23,
          "yref": "y"
         },
         {
          "align": "center",
          "font": {
           "color": "rgb(255, 255, 255)",
           "family": "arial"
          },
          "showarrow": false,
          "text": "<b>0</b>",
          "x": 11,
          "xref": "x",
          "y": -23,
          "yref": "y"
         },
         {
          "align": "center",
          "font": {
           "color": "rgb(255, 255, 255)",
           "family": "arial"
          },
          "showarrow": false,
          "text": "<b>0</b>",
          "x": 12,
          "xref": "x",
          "y": -23,
          "yref": "y"
         },
         {
          "align": "center",
          "font": {
           "color": "rgb(255, 255, 255)",
           "family": "arial"
          },
          "showarrow": false,
          "text": "<b>0</b>",
          "x": 13,
          "xref": "x",
          "y": -23,
          "yref": "y"
         },
         {
          "align": "center",
          "font": {
           "color": "rgb(255, 255, 255)",
           "family": "arial"
          },
          "showarrow": false,
          "text": "<b>0</b>",
          "x": 14,
          "xref": "x",
          "y": -23,
          "yref": "y"
         },
         {
          "align": "center",
          "font": {
           "color": "rgb(255, 255, 255)",
           "family": "arial"
          },
          "showarrow": false,
          "text": "<b>0</b>",
          "x": 15,
          "xref": "x",
          "y": -23,
          "yref": "y"
         },
         {
          "align": "center",
          "font": {
           "color": "rgb(255, 255, 255)",
           "family": "arial"
          },
          "showarrow": false,
          "text": "<b>0</b>",
          "x": 16,
          "xref": "x",
          "y": -23,
          "yref": "y"
         },
         {
          "align": "center",
          "font": {
           "color": "rgb(255, 255, 255)",
           "family": "arial"
          },
          "showarrow": false,
          "text": "<b>0</b>",
          "x": 17,
          "xref": "x",
          "y": -23,
          "yref": "y"
         },
         {
          "align": "center",
          "font": {
           "color": "rgb(255, 255, 255)",
           "family": "arial"
          },
          "showarrow": false,
          "text": "<b>0</b>",
          "x": 18,
          "xref": "x",
          "y": -23,
          "yref": "y"
         },
         {
          "align": "center",
          "font": {
           "color": "rgb(255, 255, 255)",
           "family": "arial"
          },
          "showarrow": false,
          "text": "<b>0</b>",
          "x": 19,
          "xref": "x",
          "y": -23,
          "yref": "y"
         },
         {
          "align": "center",
          "font": {
           "color": "rgb(255, 255, 255)",
           "family": "arial"
          },
          "showarrow": false,
          "text": "<b>0</b>",
          "x": 0,
          "xref": "x",
          "y": -24,
          "yref": "y"
         },
         {
          "align": "center",
          "font": {
           "color": "rgb(255, 255, 255)",
           "family": "arial"
          },
          "showarrow": false,
          "text": "<b>0</b>",
          "x": 1,
          "xref": "x",
          "y": -24,
          "yref": "y"
         },
         {
          "align": "center",
          "font": {
           "color": "rgb(255, 255, 255)",
           "family": "arial"
          },
          "showarrow": false,
          "text": "<b>0</b>",
          "x": 2,
          "xref": "x",
          "y": -24,
          "yref": "y"
         },
         {
          "align": "center",
          "font": {
           "color": "rgb(255, 255, 255)",
           "family": "arial"
          },
          "showarrow": false,
          "text": "<b>0</b>",
          "x": 3,
          "xref": "x",
          "y": -24,
          "yref": "y"
         },
         {
          "align": "center",
          "font": {
           "color": "rgb(255, 255, 255)",
           "family": "arial"
          },
          "showarrow": false,
          "text": "<b>0</b>",
          "x": 4,
          "xref": "x",
          "y": -24,
          "yref": "y"
         },
         {
          "align": "center",
          "font": {
           "color": "rgb(255, 255, 255)",
           "family": "arial"
          },
          "showarrow": false,
          "text": "<b>0</b>",
          "x": 5,
          "xref": "x",
          "y": -24,
          "yref": "y"
         },
         {
          "align": "center",
          "font": {
           "color": "rgb(255, 255, 255)",
           "family": "arial"
          },
          "showarrow": false,
          "text": "<b>0</b>",
          "x": 6,
          "xref": "x",
          "y": -24,
          "yref": "y"
         },
         {
          "align": "center",
          "font": {
           "color": "rgb(255, 255, 255)",
           "family": "arial"
          },
          "showarrow": false,
          "text": "<b>0</b>",
          "x": 7,
          "xref": "x",
          "y": -24,
          "yref": "y"
         },
         {
          "align": "center",
          "font": {
           "color": "rgb(255, 255, 255)",
           "family": "arial"
          },
          "showarrow": false,
          "text": "<b>0</b>",
          "x": 8,
          "xref": "x",
          "y": -24,
          "yref": "y"
         },
         {
          "align": "center",
          "font": {
           "color": "rgb(255, 255, 255)",
           "family": "arial"
          },
          "showarrow": false,
          "text": "<b>0</b>",
          "x": 9,
          "xref": "x",
          "y": -24,
          "yref": "y"
         },
         {
          "align": "center",
          "font": {
           "color": "rgb(255, 255, 255)",
           "family": "arial"
          },
          "showarrow": false,
          "text": "<b>0</b>",
          "x": 10,
          "xref": "x",
          "y": -24,
          "yref": "y"
         },
         {
          "align": "center",
          "font": {
           "color": "rgb(255, 255, 255)",
           "family": "arial"
          },
          "showarrow": false,
          "text": "<b>0</b>",
          "x": 11,
          "xref": "x",
          "y": -24,
          "yref": "y"
         },
         {
          "align": "center",
          "font": {
           "color": "rgb(255, 255, 255)",
           "family": "arial"
          },
          "showarrow": false,
          "text": "<b>0</b>",
          "x": 12,
          "xref": "x",
          "y": -24,
          "yref": "y"
         },
         {
          "align": "center",
          "font": {
           "color": "rgb(255, 255, 255)",
           "family": "arial"
          },
          "showarrow": false,
          "text": "<b>0</b>",
          "x": 13,
          "xref": "x",
          "y": -24,
          "yref": "y"
         },
         {
          "align": "center",
          "font": {
           "color": "rgb(255, 255, 255)",
           "family": "arial"
          },
          "showarrow": false,
          "text": "<b>0</b>",
          "x": 14,
          "xref": "x",
          "y": -24,
          "yref": "y"
         },
         {
          "align": "center",
          "font": {
           "color": "rgb(255, 255, 255)",
           "family": "arial"
          },
          "showarrow": false,
          "text": "<b>0</b>",
          "x": 15,
          "xref": "x",
          "y": -24,
          "yref": "y"
         },
         {
          "align": "center",
          "font": {
           "color": "rgb(255, 255, 255)",
           "family": "arial"
          },
          "showarrow": false,
          "text": "<b>0</b>",
          "x": 16,
          "xref": "x",
          "y": -24,
          "yref": "y"
         },
         {
          "align": "center",
          "font": {
           "color": "rgb(255, 255, 255)",
           "family": "arial"
          },
          "showarrow": false,
          "text": "<b>0</b>",
          "x": 17,
          "xref": "x",
          "y": -24,
          "yref": "y"
         },
         {
          "align": "center",
          "font": {
           "color": "rgb(255, 255, 255)",
           "family": "arial"
          },
          "showarrow": false,
          "text": "<b>0</b>",
          "x": 18,
          "xref": "x",
          "y": -24,
          "yref": "y"
         },
         {
          "align": "center",
          "font": {
           "color": "rgb(255, 255, 255)",
           "family": "arial"
          },
          "showarrow": false,
          "text": "<b>0</b>",
          "x": 19,
          "xref": "x",
          "y": -24,
          "yref": "y"
         },
         {
          "align": "center",
          "font": {
           "color": "rgb(255, 255, 255)",
           "family": "arial"
          },
          "showarrow": false,
          "text": "<b>0</b>",
          "x": 0,
          "xref": "x",
          "y": -25,
          "yref": "y"
         },
         {
          "align": "center",
          "font": {
           "color": "rgb(255, 255, 255)",
           "family": "arial"
          },
          "showarrow": false,
          "text": "<b>0</b>",
          "x": 1,
          "xref": "x",
          "y": -25,
          "yref": "y"
         },
         {
          "align": "center",
          "font": {
           "color": "rgb(255, 255, 255)",
           "family": "arial"
          },
          "showarrow": false,
          "text": "<b>0</b>",
          "x": 2,
          "xref": "x",
          "y": -25,
          "yref": "y"
         },
         {
          "align": "center",
          "font": {
           "color": "rgb(255, 255, 255)",
           "family": "arial"
          },
          "showarrow": false,
          "text": "<b>0</b>",
          "x": 3,
          "xref": "x",
          "y": -25,
          "yref": "y"
         },
         {
          "align": "center",
          "font": {
           "color": "rgb(255, 255, 255)",
           "family": "arial"
          },
          "showarrow": false,
          "text": "<b>0</b>",
          "x": 4,
          "xref": "x",
          "y": -25,
          "yref": "y"
         },
         {
          "align": "center",
          "font": {
           "color": "rgb(255, 255, 255)",
           "family": "arial"
          },
          "showarrow": false,
          "text": "<b>0</b>",
          "x": 5,
          "xref": "x",
          "y": -25,
          "yref": "y"
         },
         {
          "align": "center",
          "font": {
           "color": "rgb(255, 255, 255)",
           "family": "arial"
          },
          "showarrow": false,
          "text": "<b>0</b>",
          "x": 6,
          "xref": "x",
          "y": -25,
          "yref": "y"
         },
         {
          "align": "center",
          "font": {
           "color": "rgb(255, 255, 255)",
           "family": "arial"
          },
          "showarrow": false,
          "text": "<b>0</b>",
          "x": 7,
          "xref": "x",
          "y": -25,
          "yref": "y"
         },
         {
          "align": "center",
          "font": {
           "color": "rgb(255, 255, 255)",
           "family": "arial"
          },
          "showarrow": false,
          "text": "<b>0</b>",
          "x": 8,
          "xref": "x",
          "y": -25,
          "yref": "y"
         },
         {
          "align": "center",
          "font": {
           "color": "rgb(255, 255, 255)",
           "family": "arial"
          },
          "showarrow": false,
          "text": "<b>0</b>",
          "x": 9,
          "xref": "x",
          "y": -25,
          "yref": "y"
         },
         {
          "align": "center",
          "font": {
           "color": "rgb(255, 255, 255)",
           "family": "arial"
          },
          "showarrow": false,
          "text": "<b>0</b>",
          "x": 10,
          "xref": "x",
          "y": -25,
          "yref": "y"
         },
         {
          "align": "center",
          "font": {
           "color": "rgb(255, 255, 255)",
           "family": "arial"
          },
          "showarrow": false,
          "text": "<b>0</b>",
          "x": 11,
          "xref": "x",
          "y": -25,
          "yref": "y"
         },
         {
          "align": "center",
          "font": {
           "color": "rgb(255, 255, 255)",
           "family": "arial"
          },
          "showarrow": false,
          "text": "<b>0</b>",
          "x": 12,
          "xref": "x",
          "y": -25,
          "yref": "y"
         },
         {
          "align": "center",
          "font": {
           "color": "rgb(255, 255, 255)",
           "family": "arial"
          },
          "showarrow": false,
          "text": "<b>0</b>",
          "x": 13,
          "xref": "x",
          "y": -25,
          "yref": "y"
         },
         {
          "align": "center",
          "font": {
           "color": "rgb(255, 255, 255)",
           "family": "arial"
          },
          "showarrow": false,
          "text": "<b>0</b>",
          "x": 14,
          "xref": "x",
          "y": -25,
          "yref": "y"
         },
         {
          "align": "center",
          "font": {
           "color": "rgb(255, 255, 255)",
           "family": "arial"
          },
          "showarrow": false,
          "text": "<b>0</b>",
          "x": 15,
          "xref": "x",
          "y": -25,
          "yref": "y"
         },
         {
          "align": "center",
          "font": {
           "color": "rgb(255, 255, 255)",
           "family": "arial"
          },
          "showarrow": false,
          "text": "<b>0</b>",
          "x": 16,
          "xref": "x",
          "y": -25,
          "yref": "y"
         },
         {
          "align": "center",
          "font": {
           "color": "rgb(255, 255, 255)",
           "family": "arial"
          },
          "showarrow": false,
          "text": "<b>0</b>",
          "x": 17,
          "xref": "x",
          "y": -25,
          "yref": "y"
         },
         {
          "align": "center",
          "font": {
           "color": "rgb(255, 255, 255)",
           "family": "arial"
          },
          "showarrow": false,
          "text": "<b>0</b>",
          "x": 18,
          "xref": "x",
          "y": -25,
          "yref": "y"
         },
         {
          "align": "center",
          "font": {
           "color": "rgb(255, 255, 255)",
           "family": "arial"
          },
          "showarrow": false,
          "text": "<b>0</b>",
          "x": 19,
          "xref": "x",
          "y": -25,
          "yref": "y"
         },
         {
          "align": "center",
          "font": {
           "color": "rgb(255, 255, 255)",
           "family": "arial"
          },
          "showarrow": false,
          "text": "<b>0</b>",
          "x": 0,
          "xref": "x",
          "y": -26,
          "yref": "y"
         },
         {
          "align": "center",
          "font": {
           "color": "rgb(255, 255, 255)",
           "family": "arial"
          },
          "showarrow": false,
          "text": "<b>0</b>",
          "x": 1,
          "xref": "x",
          "y": -26,
          "yref": "y"
         },
         {
          "align": "center",
          "font": {
           "color": "rgb(255, 255, 255)",
           "family": "arial"
          },
          "showarrow": false,
          "text": "<b>0</b>",
          "x": 2,
          "xref": "x",
          "y": -26,
          "yref": "y"
         },
         {
          "font": {
           "color": "rgb(160, 160, 160)",
           "family": "arial",
           "size": 14
          },
          "showarrow": false,
          "text": "<i>← Lower</i>",
          "textangle": -90,
          "x": -0.75,
          "xref": "x",
          "y": -25.5,
          "yref": "y"
         },
         {
          "font": {
           "color": "rgb(160, 160, 160)",
           "family": "arial",
           "size": 14
          },
          "showarrow": false,
          "text": "<i>Higher →</i>",
          "textangle": -90,
          "x": -0.75,
          "xref": "x",
          "y": -0.5,
          "yref": "y"
         },
         {
          "font": {
           "color": "rgb(102, 102, 102)",
           "family": "arial",
           "size": 32
          },
          "showarrow": false,
          "text": "<b>Percent of Congress Members'<br>Tweets That Relate to DACA</b>",
          "x": 9.5,
          "xref": "x",
          "y": 2.5,
          "yref": "y"
         },
         {
          "align": "right",
          "font": {
           "color": "rgb(160, 160, 160)",
           "family": "arial",
           "size": 12
          },
          "showarrow": false,
          "text": "<i>Tweets collected alphabetically by username on 2018/01/15 - 2018/01/17.<br>Tweets relate to DACA if they include 'daca' or 'dreamers'.</i>",
          "x": 19.5,
          "xanchor": "right",
          "xref": "x",
          "y": -26,
          "yanchor": "center",
          "yref": "y"
         }
        ],
        "height": 1300,
        "hovermode": "closest",
        "shapes": [
         {
          "fillcolor": "rgb(0.290980392157,0.594509803922,0.789019607843)",
          "line": {
           "width": 0
          },
          "type": "rect",
          "x0": -0.4,
          "x1": 0.4,
          "y0": -0.4,
          "y1": 0.4
         },
         {
          "fillcolor": "rgb(0.290980392157,0.594509803922,0.789019607843)",
          "line": {
           "width": 0
          },
          "type": "rect",
          "x0": 0.6,
          "x1": 1.4,
          "y0": -0.4,
          "y1": 0.4
         },
         {
          "fillcolor": "rgb(0.290980392157,0.594509803922,0.789019607843)",
          "line": {
           "width": 0
          },
          "type": "rect",
          "x0": 1.6,
          "x1": 2.4,
          "y0": -0.4,
          "y1": 0.4
         },
         {
          "fillcolor": "rgb(0.290980392157,0.594509803922,0.789019607843)",
          "line": {
           "width": 0
          },
          "type": "rect",
          "x0": 2.6,
          "x1": 3.4,
          "y0": -0.4,
          "y1": 0.4
         },
         {
          "fillcolor": "rgb(0.290980392157,0.594509803922,0.789019607843)",
          "line": {
           "width": 0
          },
          "type": "rect",
          "x0": 3.6,
          "x1": 4.4,
          "y0": -0.4,
          "y1": 0.4
         },
         {
          "fillcolor": "rgb(0.290980392157,0.594509803922,0.789019607843)",
          "line": {
           "width": 0
          },
          "type": "rect",
          "x0": 4.6,
          "x1": 5.4,
          "y0": -0.4,
          "y1": 0.4
         },
         {
          "fillcolor": "rgb(0.290980392157,0.594509803922,0.789019607843)",
          "line": {
           "width": 0
          },
          "type": "rect",
          "x0": 5.6,
          "x1": 6.4,
          "y0": -0.4,
          "y1": 0.4
         },
         {
          "fillcolor": "rgb(0.290980392157,0.594509803922,0.789019607843)",
          "line": {
           "width": 0
          },
          "type": "rect",
          "x0": 6.6,
          "x1": 7.4,
          "y0": -0.4,
          "y1": 0.4
         },
         {
          "fillcolor": "rgb(0.290980392157,0.594509803922,0.789019607843)",
          "line": {
           "width": 0
          },
          "type": "rect",
          "x0": 7.6,
          "x1": 8.4,
          "y0": -0.4,
          "y1": 0.4
         },
         {
          "fillcolor": "rgb(0.290980392157,0.594509803922,0.789019607843)",
          "line": {
           "width": 0
          },
          "type": "rect",
          "x0": 8.6,
          "x1": 9.4,
          "y0": -0.4,
          "y1": 0.4
         },
         {
          "fillcolor": "rgb(0.290980392157,0.594509803922,0.789019607843)",
          "line": {
           "width": 0
          },
          "type": "rect",
          "x0": 9.6,
          "x1": 10.4,
          "y0": -0.4,
          "y1": 0.4
         },
         {
          "fillcolor": "rgb(0.290980392157,0.594509803922,0.789019607843)",
          "line": {
           "width": 0
          },
          "type": "rect",
          "x0": 10.6,
          "x1": 11.4,
          "y0": -0.4,
          "y1": 0.4
         },
         {
          "fillcolor": "rgb(0.290980392157,0.594509803922,0.789019607843)",
          "line": {
           "width": 0
          },
          "type": "rect",
          "x0": 11.6,
          "x1": 12.4,
          "y0": -0.4,
          "y1": 0.4
         },
         {
          "fillcolor": "rgb(0.290980392157,0.594509803922,0.789019607843)",
          "line": {
           "width": 0
          },
          "type": "rect",
          "x0": 12.6,
          "x1": 13.4,
          "y0": -0.4,
          "y1": 0.4
         },
         {
          "fillcolor": "rgb(0.290980392157,0.594509803922,0.789019607843)",
          "line": {
           "width": 0
          },
          "type": "rect",
          "x0": 13.6,
          "x1": 14.4,
          "y0": -0.4,
          "y1": 0.4
         },
         {
          "fillcolor": "rgb(0.946666666667,0.268235294118,0.196078431373)",
          "line": {
           "width": 0
          },
          "type": "rect",
          "x0": 14.6,
          "x1": 15.4,
          "y0": -0.4,
          "y1": 0.4
         },
         {
          "fillcolor": "rgb(0.290980392157,0.594509803922,0.789019607843)",
          "line": {
           "width": 0
          },
          "type": "rect",
          "x0": 15.6,
          "x1": 16.4,
          "y0": -0.4,
          "y1": 0.4
         },
         {
          "fillcolor": "rgb(0.290980392157,0.594509803922,0.789019607843)",
          "line": {
           "width": 0
          },
          "type": "rect",
          "x0": 16.6,
          "x1": 17.4,
          "y0": -0.4,
          "y1": 0.4
         },
         {
          "fillcolor": "rgb(0.290980392157,0.594509803922,0.789019607843)",
          "line": {
           "width": 0
          },
          "type": "rect",
          "x0": 17.6,
          "x1": 18.4,
          "y0": -0.4,
          "y1": 0.4
         },
         {
          "fillcolor": "rgb(0.290980392157,0.594509803922,0.789019607843)",
          "line": {
           "width": 0
          },
          "type": "rect",
          "x0": 18.6,
          "x1": 19.4,
          "y0": -0.4,
          "y1": 0.4
         },
         {
          "fillcolor": "rgb(0.290980392157,0.594509803922,0.789019607843)",
          "line": {
           "width": 0
          },
          "type": "rect",
          "x0": -0.4,
          "x1": 0.4,
          "y0": -1.4,
          "y1": -0.6
         },
         {
          "fillcolor": "rgb(0.290980392157,0.594509803922,0.789019607843)",
          "line": {
           "width": 0
          },
          "type": "rect",
          "x0": 0.6,
          "x1": 1.4,
          "y0": -1.4,
          "y1": -0.6
         },
         {
          "fillcolor": "rgb(0.290980392157,0.594509803922,0.789019607843)",
          "line": {
           "width": 0
          },
          "type": "rect",
          "x0": 1.6,
          "x1": 2.4,
          "y0": -1.4,
          "y1": -0.6
         },
         {
          "fillcolor": "rgb(0.290980392157,0.594509803922,0.789019607843)",
          "line": {
           "width": 0
          },
          "type": "rect",
          "x0": 2.6,
          "x1": 3.4,
          "y0": -1.4,
          "y1": -0.6
         },
         {
          "fillcolor": "rgb(0.290980392157,0.594509803922,0.789019607843)",
          "line": {
           "width": 0
          },
          "type": "rect",
          "x0": 3.6,
          "x1": 4.4,
          "y0": -1.4,
          "y1": -0.6
         },
         {
          "fillcolor": "rgb(0.946666666667,0.268235294118,0.196078431373)",
          "line": {
           "width": 0
          },
          "type": "rect",
          "x0": 4.6,
          "x1": 5.4,
          "y0": -1.4,
          "y1": -0.6
         },
         {
          "fillcolor": "rgb(0.290980392157,0.594509803922,0.789019607843)",
          "line": {
           "width": 0
          },
          "type": "rect",
          "x0": 5.6,
          "x1": 6.4,
          "y0": -1.4,
          "y1": -0.6
         },
         {
          "fillcolor": "rgb(0.290980392157,0.594509803922,0.789019607843)",
          "line": {
           "width": 0
          },
          "type": "rect",
          "x0": 6.6,
          "x1": 7.4,
          "y0": -1.4,
          "y1": -0.6
         },
         {
          "fillcolor": "rgb(0.290980392157,0.594509803922,0.789019607843)",
          "line": {
           "width": 0
          },
          "type": "rect",
          "x0": 7.6,
          "x1": 8.4,
          "y0": -1.4,
          "y1": -0.6
         },
         {
          "fillcolor": "rgb(0.290980392157,0.594509803922,0.789019607843)",
          "line": {
           "width": 0
          },
          "type": "rect",
          "x0": 8.6,
          "x1": 9.4,
          "y0": -1.4,
          "y1": -0.6
         },
         {
          "fillcolor": "rgb(0.290980392157,0.594509803922,0.789019607843)",
          "line": {
           "width": 0
          },
          "type": "rect",
          "x0": 9.6,
          "x1": 10.4,
          "y0": -1.4,
          "y1": -0.6
         },
         {
          "fillcolor": "rgb(0.290980392157,0.594509803922,0.789019607843)",
          "line": {
           "width": 0
          },
          "type": "rect",
          "x0": 10.6,
          "x1": 11.4,
          "y0": -1.4,
          "y1": -0.6
         },
         {
          "fillcolor": "rgb(0.290980392157,0.594509803922,0.789019607843)",
          "line": {
           "width": 0
          },
          "type": "rect",
          "x0": 11.6,
          "x1": 12.4,
          "y0": -1.4,
          "y1": -0.6
         },
         {
          "fillcolor": "rgb(0.290980392157,0.594509803922,0.789019607843)",
          "line": {
           "width": 0
          },
          "type": "rect",
          "x0": 12.6,
          "x1": 13.4,
          "y0": -1.4,
          "y1": -0.6
         },
         {
          "fillcolor": "rgb(0.290980392157,0.594509803922,0.789019607843)",
          "line": {
           "width": 0
          },
          "type": "rect",
          "x0": 13.6,
          "x1": 14.4,
          "y0": -1.4,
          "y1": -0.6
         },
         {
          "fillcolor": "rgb(0.290980392157,0.594509803922,0.789019607843)",
          "line": {
           "width": 0
          },
          "type": "rect",
          "x0": 14.6,
          "x1": 15.4,
          "y0": -1.4,
          "y1": -0.6
         },
         {
          "fillcolor": "rgb(0.290980392157,0.594509803922,0.789019607843)",
          "line": {
           "width": 0
          },
          "type": "rect",
          "x0": 15.6,
          "x1": 16.4,
          "y0": -1.4,
          "y1": -0.6
         },
         {
          "fillcolor": "rgb(0.290980392157,0.594509803922,0.789019607843)",
          "line": {
           "width": 0
          },
          "type": "rect",
          "x0": 16.6,
          "x1": 17.4,
          "y0": -1.4,
          "y1": -0.6
         },
         {
          "fillcolor": "rgb(0.946666666667,0.268235294118,0.196078431373)",
          "line": {
           "width": 0
          },
          "type": "rect",
          "x0": 17.6,
          "x1": 18.4,
          "y0": -1.4,
          "y1": -0.6
         },
         {
          "fillcolor": "rgb(0.290980392157,0.594509803922,0.789019607843)",
          "line": {
           "width": 0
          },
          "type": "rect",
          "x0": 18.6,
          "x1": 19.4,
          "y0": -1.4,
          "y1": -0.6
         },
         {
          "fillcolor": "rgb(0.290980392157,0.594509803922,0.789019607843)",
          "line": {
           "width": 0
          },
          "type": "rect",
          "x0": -0.4,
          "x1": 0.4,
          "y0": -2.4,
          "y1": -1.6
         },
         {
          "fillcolor": "rgb(0.290980392157,0.594509803922,0.789019607843)",
          "line": {
           "width": 0
          },
          "type": "rect",
          "x0": 0.6,
          "x1": 1.4,
          "y0": -2.4,
          "y1": -1.6
         },
         {
          "fillcolor": "rgb(0.946666666667,0.268235294118,0.196078431373)",
          "line": {
           "width": 0
          },
          "type": "rect",
          "x0": 1.6,
          "x1": 2.4,
          "y0": -2.4,
          "y1": -1.6
         },
         {
          "fillcolor": "rgb(0.290980392157,0.594509803922,0.789019607843)",
          "line": {
           "width": 0
          },
          "type": "rect",
          "x0": 2.6,
          "x1": 3.4,
          "y0": -2.4,
          "y1": -1.6
         },
         {
          "fillcolor": "rgb(0.290980392157,0.594509803922,0.789019607843)",
          "line": {
           "width": 0
          },
          "type": "rect",
          "x0": 3.6,
          "x1": 4.4,
          "y0": -2.4,
          "y1": -1.6
         },
         {
          "fillcolor": "rgb(0.290980392157,0.594509803922,0.789019607843)",
          "line": {
           "width": 0
          },
          "type": "rect",
          "x0": 4.6,
          "x1": 5.4,
          "y0": -2.4,
          "y1": -1.6
         },
         {
          "fillcolor": "rgb(0.290980392157,0.594509803922,0.789019607843)",
          "line": {
           "width": 0
          },
          "type": "rect",
          "x0": 5.6,
          "x1": 6.4,
          "y0": -2.4,
          "y1": -1.6
         },
         {
          "fillcolor": "rgb(0.290980392157,0.594509803922,0.789019607843)",
          "line": {
           "width": 0
          },
          "type": "rect",
          "x0": 6.6,
          "x1": 7.4,
          "y0": -2.4,
          "y1": -1.6
         },
         {
          "fillcolor": "rgb(0.290980392157,0.594509803922,0.789019607843)",
          "line": {
           "width": 0
          },
          "type": "rect",
          "x0": 7.6,
          "x1": 8.4,
          "y0": -2.4,
          "y1": -1.6
         },
         {
          "fillcolor": "rgb(0.290980392157,0.594509803922,0.789019607843)",
          "line": {
           "width": 0
          },
          "type": "rect",
          "x0": 8.6,
          "x1": 9.4,
          "y0": -2.4,
          "y1": -1.6
         },
         {
          "fillcolor": "rgb(0.290980392157,0.594509803922,0.789019607843)",
          "line": {
           "width": 0
          },
          "type": "rect",
          "x0": 9.6,
          "x1": 10.4,
          "y0": -2.4,
          "y1": -1.6
         },
         {
          "fillcolor": "rgb(0.290980392157,0.594509803922,0.789019607843)",
          "line": {
           "width": 0
          },
          "type": "rect",
          "x0": 10.6,
          "x1": 11.4,
          "y0": -2.4,
          "y1": -1.6
         },
         {
          "fillcolor": "rgb(0.290980392157,0.594509803922,0.789019607843)",
          "line": {
           "width": 0
          },
          "type": "rect",
          "x0": 11.6,
          "x1": 12.4,
          "y0": -2.4,
          "y1": -1.6
         },
         {
          "fillcolor": "rgb(0.290980392157,0.594509803922,0.789019607843)",
          "line": {
           "width": 0
          },
          "type": "rect",
          "x0": 12.6,
          "x1": 13.4,
          "y0": -2.4,
          "y1": -1.6
         },
         {
          "fillcolor": "rgb(0.946666666667,0.268235294118,0.196078431373)",
          "line": {
           "width": 0
          },
          "type": "rect",
          "x0": 13.6,
          "x1": 14.4,
          "y0": -2.4,
          "y1": -1.6
         },
         {
          "fillcolor": "rgb(0.290980392157,0.594509803922,0.789019607843)",
          "line": {
           "width": 0
          },
          "type": "rect",
          "x0": 14.6,
          "x1": 15.4,
          "y0": -2.4,
          "y1": -1.6
         },
         {
          "fillcolor": "rgb(0.290980392157,0.594509803922,0.789019607843)",
          "line": {
           "width": 0
          },
          "type": "rect",
          "x0": 15.6,
          "x1": 16.4,
          "y0": -2.4,
          "y1": -1.6
         },
         {
          "fillcolor": "rgb(0.290980392157,0.594509803922,0.789019607843)",
          "line": {
           "width": 0
          },
          "type": "rect",
          "x0": 16.6,
          "x1": 17.4,
          "y0": -2.4,
          "y1": -1.6
         },
         {
          "fillcolor": "rgb(0.290980392157,0.594509803922,0.789019607843)",
          "line": {
           "width": 0
          },
          "type": "rect",
          "x0": 17.6,
          "x1": 18.4,
          "y0": -2.4,
          "y1": -1.6
         },
         {
          "fillcolor": "rgb(0.290980392157,0.594509803922,0.789019607843)",
          "line": {
           "width": 0
          },
          "type": "rect",
          "x0": 18.6,
          "x1": 19.4,
          "y0": -2.4,
          "y1": -1.6
         },
         {
          "fillcolor": "rgb(0.290980392157,0.594509803922,0.789019607843)",
          "line": {
           "width": 0
          },
          "type": "rect",
          "x0": -0.4,
          "x1": 0.4,
          "y0": -3.4,
          "y1": -2.6
         },
         {
          "fillcolor": "rgb(0.290980392157,0.594509803922,0.789019607843)",
          "line": {
           "width": 0
          },
          "type": "rect",
          "x0": 0.6,
          "x1": 1.4,
          "y0": -3.4,
          "y1": -2.6
         },
         {
          "fillcolor": "rgb(0.290980392157,0.594509803922,0.789019607843)",
          "line": {
           "width": 0
          },
          "type": "rect",
          "x0": 1.6,
          "x1": 2.4,
          "y0": -3.4,
          "y1": -2.6
         },
         {
          "fillcolor": "rgb(0.290980392157,0.594509803922,0.789019607843)",
          "line": {
           "width": 0
          },
          "type": "rect",
          "x0": 2.6,
          "x1": 3.4,
          "y0": -3.4,
          "y1": -2.6
         },
         {
          "fillcolor": "rgb(0.290980392157,0.594509803922,0.789019607843)",
          "line": {
           "width": 0
          },
          "type": "rect",
          "x0": 3.6,
          "x1": 4.4,
          "y0": -3.4,
          "y1": -2.6
         },
         {
          "fillcolor": "rgb(0.290980392157,0.594509803922,0.789019607843)",
          "line": {
           "width": 0
          },
          "type": "rect",
          "x0": 4.6,
          "x1": 5.4,
          "y0": -3.4,
          "y1": -2.6
         },
         {
          "fillcolor": "rgb(0.290980392157,0.594509803922,0.789019607843)",
          "line": {
           "width": 0
          },
          "type": "rect",
          "x0": 5.6,
          "x1": 6.4,
          "y0": -3.4,
          "y1": -2.6
         },
         {
          "fillcolor": "rgb(0.290980392157,0.594509803922,0.789019607843)",
          "line": {
           "width": 0
          },
          "type": "rect",
          "x0": 6.6,
          "x1": 7.4,
          "y0": -3.4,
          "y1": -2.6
         },
         {
          "fillcolor": "rgb(0.290980392157,0.594509803922,0.789019607843)",
          "line": {
           "width": 0
          },
          "type": "rect",
          "x0": 7.6,
          "x1": 8.4,
          "y0": -3.4,
          "y1": -2.6
         },
         {
          "fillcolor": "rgb(0.290980392157,0.594509803922,0.789019607843)",
          "line": {
           "width": 0
          },
          "type": "rect",
          "x0": 8.6,
          "x1": 9.4,
          "y0": -3.4,
          "y1": -2.6
         },
         {
          "fillcolor": "rgb(0.290980392157,0.594509803922,0.789019607843)",
          "line": {
           "width": 0
          },
          "type": "rect",
          "x0": 9.6,
          "x1": 10.4,
          "y0": -3.4,
          "y1": -2.6
         },
         {
          "fillcolor": "rgb(0.290980392157,0.594509803922,0.789019607843)",
          "line": {
           "width": 0
          },
          "type": "rect",
          "x0": 10.6,
          "x1": 11.4,
          "y0": -3.4,
          "y1": -2.6
         },
         {
          "fillcolor": "rgb(0.290980392157,0.594509803922,0.789019607843)",
          "line": {
           "width": 0
          },
          "type": "rect",
          "x0": 11.6,
          "x1": 12.4,
          "y0": -3.4,
          "y1": -2.6
         },
         {
          "fillcolor": "rgb(0.290980392157,0.594509803922,0.789019607843)",
          "line": {
           "width": 0
          },
          "type": "rect",
          "x0": 12.6,
          "x1": 13.4,
          "y0": -3.4,
          "y1": -2.6
         },
         {
          "fillcolor": "rgb(0.290980392157,0.594509803922,0.789019607843)",
          "line": {
           "width": 0
          },
          "type": "rect",
          "x0": 13.6,
          "x1": 14.4,
          "y0": -3.4,
          "y1": -2.6
         },
         {
          "fillcolor": "rgb(0.290980392157,0.594509803922,0.789019607843)",
          "line": {
           "width": 0
          },
          "type": "rect",
          "x0": 14.6,
          "x1": 15.4,
          "y0": -3.4,
          "y1": -2.6
         },
         {
          "fillcolor": "rgb(0.290980392157,0.594509803922,0.789019607843)",
          "line": {
           "width": 0
          },
          "type": "rect",
          "x0": 15.6,
          "x1": 16.4,
          "y0": -3.4,
          "y1": -2.6
         },
         {
          "fillcolor": "rgb(0.290980392157,0.594509803922,0.789019607843)",
          "line": {
           "width": 0
          },
          "type": "rect",
          "x0": 16.6,
          "x1": 17.4,
          "y0": -3.4,
          "y1": -2.6
         },
         {
          "fillcolor": "rgb(0.290980392157,0.594509803922,0.789019607843)",
          "line": {
           "width": 0
          },
          "type": "rect",
          "x0": 17.6,
          "x1": 18.4,
          "y0": -3.4,
          "y1": -2.6
         },
         {
          "fillcolor": "rgb(0.290980392157,0.594509803922,0.789019607843)",
          "line": {
           "width": 0
          },
          "type": "rect",
          "x0": 18.6,
          "x1": 19.4,
          "y0": -3.4,
          "y1": -2.6
         },
         {
          "fillcolor": "rgb(0.946666666667,0.268235294118,0.196078431373)",
          "line": {
           "width": 0
          },
          "type": "rect",
          "x0": -0.4,
          "x1": 0.4,
          "y0": -4.4,
          "y1": -3.6
         },
         {
          "fillcolor": "rgb(0.290980392157,0.594509803922,0.789019607843)",
          "line": {
           "width": 0
          },
          "type": "rect",
          "x0": 0.6,
          "x1": 1.4,
          "y0": -4.4,
          "y1": -3.6
         },
         {
          "fillcolor": "rgb(0.290980392157,0.594509803922,0.789019607843)",
          "line": {
           "width": 0
          },
          "type": "rect",
          "x0": 1.6,
          "x1": 2.4,
          "y0": -4.4,
          "y1": -3.6
         },
         {
          "fillcolor": "rgb(0.290980392157,0.594509803922,0.789019607843)",
          "line": {
           "width": 0
          },
          "type": "rect",
          "x0": 2.6,
          "x1": 3.4,
          "y0": -4.4,
          "y1": -3.6
         },
         {
          "fillcolor": "rgb(0.290980392157,0.594509803922,0.789019607843)",
          "line": {
           "width": 0
          },
          "type": "rect",
          "x0": 3.6,
          "x1": 4.4,
          "y0": -4.4,
          "y1": -3.6
         },
         {
          "fillcolor": "rgb(0.290980392157,0.594509803922,0.789019607843)",
          "line": {
           "width": 0
          },
          "type": "rect",
          "x0": 4.6,
          "x1": 5.4,
          "y0": -4.4,
          "y1": -3.6
         },
         {
          "fillcolor": "rgb(0.290980392157,0.594509803922,0.789019607843)",
          "line": {
           "width": 0
          },
          "type": "rect",
          "x0": 5.6,
          "x1": 6.4,
          "y0": -4.4,
          "y1": -3.6
         },
         {
          "fillcolor": "rgb(0.290980392157,0.594509803922,0.789019607843)",
          "line": {
           "width": 0
          },
          "type": "rect",
          "x0": 6.6,
          "x1": 7.4,
          "y0": -4.4,
          "y1": -3.6
         },
         {
          "fillcolor": "rgb(0.290980392157,0.594509803922,0.789019607843)",
          "line": {
           "width": 0
          },
          "type": "rect",
          "x0": 7.6,
          "x1": 8.4,
          "y0": -4.4,
          "y1": -3.6
         },
         {
          "fillcolor": "rgb(0.290980392157,0.594509803922,0.789019607843)",
          "line": {
           "width": 0
          },
          "type": "rect",
          "x0": 8.6,
          "x1": 9.4,
          "y0": -4.4,
          "y1": -3.6
         },
         {
          "fillcolor": "rgb(0.290980392157,0.594509803922,0.789019607843)",
          "line": {
           "width": 0
          },
          "type": "rect",
          "x0": 9.6,
          "x1": 10.4,
          "y0": -4.4,
          "y1": -3.6
         },
         {
          "fillcolor": "rgb(0.946666666667,0.268235294118,0.196078431373)",
          "line": {
           "width": 0
          },
          "type": "rect",
          "x0": 10.6,
          "x1": 11.4,
          "y0": -4.4,
          "y1": -3.6
         },
         {
          "fillcolor": "rgb(0.290980392157,0.594509803922,0.789019607843)",
          "line": {
           "width": 0
          },
          "type": "rect",
          "x0": 11.6,
          "x1": 12.4,
          "y0": -4.4,
          "y1": -3.6
         },
         {
          "fillcolor": "rgb(0.290980392157,0.594509803922,0.789019607843)",
          "line": {
           "width": 0
          },
          "type": "rect",
          "x0": 12.6,
          "x1": 13.4,
          "y0": -4.4,
          "y1": -3.6
         },
         {
          "fillcolor": "rgb(0.290980392157,0.594509803922,0.789019607843)",
          "line": {
           "width": 0
          },
          "type": "rect",
          "x0": 13.6,
          "x1": 14.4,
          "y0": -4.4,
          "y1": -3.6
         },
         {
          "fillcolor": "rgb(0.290980392157,0.594509803922,0.789019607843)",
          "line": {
           "width": 0
          },
          "type": "rect",
          "x0": 14.6,
          "x1": 15.4,
          "y0": -4.4,
          "y1": -3.6
         },
         {
          "fillcolor": "rgb(0.290980392157,0.594509803922,0.789019607843)",
          "line": {
           "width": 0
          },
          "type": "rect",
          "x0": 15.6,
          "x1": 16.4,
          "y0": -4.4,
          "y1": -3.6
         },
         {
          "fillcolor": "rgb(0.946666666667,0.268235294118,0.196078431373)",
          "line": {
           "width": 0
          },
          "type": "rect",
          "x0": 16.6,
          "x1": 17.4,
          "y0": -4.4,
          "y1": -3.6
         },
         {
          "fillcolor": "rgb(0.290980392157,0.594509803922,0.789019607843)",
          "line": {
           "width": 0
          },
          "type": "rect",
          "x0": 17.6,
          "x1": 18.4,
          "y0": -4.4,
          "y1": -3.6
         },
         {
          "fillcolor": "rgb(0.946666666667,0.268235294118,0.196078431373)",
          "line": {
           "width": 0
          },
          "type": "rect",
          "x0": 18.6,
          "x1": 19.4,
          "y0": -4.4,
          "y1": -3.6
         },
         {
          "fillcolor": "rgb(0.290980392157,0.594509803922,0.789019607843)",
          "line": {
           "width": 0
          },
          "type": "rect",
          "x0": -0.4,
          "x1": 0.4,
          "y0": -5.4,
          "y1": -4.6
         },
         {
          "fillcolor": "rgb(0.290980392157,0.594509803922,0.789019607843)",
          "line": {
           "width": 0
          },
          "type": "rect",
          "x0": 0.6,
          "x1": 1.4,
          "y0": -5.4,
          "y1": -4.6
         },
         {
          "fillcolor": "rgb(0.946666666667,0.268235294118,0.196078431373)",
          "line": {
           "width": 0
          },
          "type": "rect",
          "x0": 1.6,
          "x1": 2.4,
          "y0": -5.4,
          "y1": -4.6
         },
         {
          "fillcolor": "rgb(0.290980392157,0.594509803922,0.789019607843)",
          "line": {
           "width": 0
          },
          "type": "rect",
          "x0": 2.6,
          "x1": 3.4,
          "y0": -5.4,
          "y1": -4.6
         },
         {
          "fillcolor": "rgb(0.290980392157,0.594509803922,0.789019607843)",
          "line": {
           "width": 0
          },
          "type": "rect",
          "x0": 3.6,
          "x1": 4.4,
          "y0": -5.4,
          "y1": -4.6
         },
         {
          "fillcolor": "rgb(0.946666666667,0.268235294118,0.196078431373)",
          "line": {
           "width": 0
          },
          "type": "rect",
          "x0": 4.6,
          "x1": 5.4,
          "y0": -5.4,
          "y1": -4.6
         },
         {
          "fillcolor": "rgb(0.290980392157,0.594509803922,0.789019607843)",
          "line": {
           "width": 0
          },
          "type": "rect",
          "x0": 5.6,
          "x1": 6.4,
          "y0": -5.4,
          "y1": -4.6
         },
         {
          "fillcolor": "rgb(0.290980392157,0.594509803922,0.789019607843)",
          "line": {
           "width": 0
          },
          "type": "rect",
          "x0": 6.6,
          "x1": 7.4,
          "y0": -5.4,
          "y1": -4.6
         },
         {
          "fillcolor": "rgb(0.290980392157,0.594509803922,0.789019607843)",
          "line": {
           "width": 0
          },
          "type": "rect",
          "x0": 7.6,
          "x1": 8.4,
          "y0": -5.4,
          "y1": -4.6
         },
         {
          "fillcolor": "rgb(0.290980392157,0.594509803922,0.789019607843)",
          "line": {
           "width": 0
          },
          "type": "rect",
          "x0": 8.6,
          "x1": 9.4,
          "y0": -5.4,
          "y1": -4.6
         },
         {
          "fillcolor": "rgb(0.290980392157,0.594509803922,0.789019607843)",
          "line": {
           "width": 0
          },
          "type": "rect",
          "x0": 9.6,
          "x1": 10.4,
          "y0": -5.4,
          "y1": -4.6
         },
         {
          "fillcolor": "rgb(0.290980392157,0.594509803922,0.789019607843)",
          "line": {
           "width": 0
          },
          "type": "rect",
          "x0": 10.6,
          "x1": 11.4,
          "y0": -5.4,
          "y1": -4.6
         },
         {
          "fillcolor": "rgb(0.290980392157,0.594509803922,0.789019607843)",
          "line": {
           "width": 0
          },
          "type": "rect",
          "x0": 11.6,
          "x1": 12.4,
          "y0": -5.4,
          "y1": -4.6
         },
         {
          "fillcolor": "rgb(0.290980392157,0.594509803922,0.789019607843)",
          "line": {
           "width": 0
          },
          "type": "rect",
          "x0": 12.6,
          "x1": 13.4,
          "y0": -5.4,
          "y1": -4.6
         },
         {
          "fillcolor": "rgb(0.290980392157,0.594509803922,0.789019607843)",
          "line": {
           "width": 0
          },
          "type": "rect",
          "x0": 13.6,
          "x1": 14.4,
          "y0": -5.4,
          "y1": -4.6
         },
         {
          "fillcolor": "rgb(0.4,0.4,0.4)",
          "line": {
           "width": 0
          },
          "type": "rect",
          "x0": 14.6,
          "x1": 15.4,
          "y0": -5.4,
          "y1": -4.6
         },
         {
          "fillcolor": "rgb(0.290980392157,0.594509803922,0.789019607843)",
          "line": {
           "width": 0
          },
          "type": "rect",
          "x0": 15.6,
          "x1": 16.4,
          "y0": -5.4,
          "y1": -4.6
         },
         {
          "fillcolor": "rgb(0.946666666667,0.268235294118,0.196078431373)",
          "line": {
           "width": 0
          },
          "type": "rect",
          "x0": 16.6,
          "x1": 17.4,
          "y0": -5.4,
          "y1": -4.6
         },
         {
          "fillcolor": "rgb(0.290980392157,0.594509803922,0.789019607843)",
          "line": {
           "width": 0
          },
          "type": "rect",
          "x0": 17.6,
          "x1": 18.4,
          "y0": -5.4,
          "y1": -4.6
         },
         {
          "fillcolor": "rgb(0.290980392157,0.594509803922,0.789019607843)",
          "line": {
           "width": 0
          },
          "type": "rect",
          "x0": 18.6,
          "x1": 19.4,
          "y0": -5.4,
          "y1": -4.6
         },
         {
          "fillcolor": "rgb(0.290980392157,0.594509803922,0.789019607843)",
          "line": {
           "width": 0
          },
          "type": "rect",
          "x0": -0.4,
          "x1": 0.4,
          "y0": -6.4,
          "y1": -5.6
         },
         {
          "fillcolor": "rgb(0.290980392157,0.594509803922,0.789019607843)",
          "line": {
           "width": 0
          },
          "type": "rect",
          "x0": 0.6,
          "x1": 1.4,
          "y0": -6.4,
          "y1": -5.6
         },
         {
          "fillcolor": "rgb(0.290980392157,0.594509803922,0.789019607843)",
          "line": {
           "width": 0
          },
          "type": "rect",
          "x0": 1.6,
          "x1": 2.4,
          "y0": -6.4,
          "y1": -5.6
         },
         {
          "fillcolor": "rgb(0.290980392157,0.594509803922,0.789019607843)",
          "line": {
           "width": 0
          },
          "type": "rect",
          "x0": 2.6,
          "x1": 3.4,
          "y0": -6.4,
          "y1": -5.6
         },
         {
          "fillcolor": "rgb(0.946666666667,0.268235294118,0.196078431373)",
          "line": {
           "width": 0
          },
          "type": "rect",
          "x0": 3.6,
          "x1": 4.4,
          "y0": -6.4,
          "y1": -5.6
         },
         {
          "fillcolor": "rgb(0.290980392157,0.594509803922,0.789019607843)",
          "line": {
           "width": 0
          },
          "type": "rect",
          "x0": 4.6,
          "x1": 5.4,
          "y0": -6.4,
          "y1": -5.6
         },
         {
          "fillcolor": "rgb(0.290980392157,0.594509803922,0.789019607843)",
          "line": {
           "width": 0
          },
          "type": "rect",
          "x0": 5.6,
          "x1": 6.4,
          "y0": -6.4,
          "y1": -5.6
         },
         {
          "fillcolor": "rgb(0.290980392157,0.594509803922,0.789019607843)",
          "line": {
           "width": 0
          },
          "type": "rect",
          "x0": 6.6,
          "x1": 7.4,
          "y0": -6.4,
          "y1": -5.6
         },
         {
          "fillcolor": "rgb(0.290980392157,0.594509803922,0.789019607843)",
          "line": {
           "width": 0
          },
          "type": "rect",
          "x0": 7.6,
          "x1": 8.4,
          "y0": -6.4,
          "y1": -5.6
         },
         {
          "fillcolor": "rgb(0.290980392157,0.594509803922,0.789019607843)",
          "line": {
           "width": 0
          },
          "type": "rect",
          "x0": 8.6,
          "x1": 9.4,
          "y0": -6.4,
          "y1": -5.6
         },
         {
          "fillcolor": "rgb(0.290980392157,0.594509803922,0.789019607843)",
          "line": {
           "width": 0
          },
          "type": "rect",
          "x0": 9.6,
          "x1": 10.4,
          "y0": -6.4,
          "y1": -5.6
         },
         {
          "fillcolor": "rgb(0.290980392157,0.594509803922,0.789019607843)",
          "line": {
           "width": 0
          },
          "type": "rect",
          "x0": 10.6,
          "x1": 11.4,
          "y0": -6.4,
          "y1": -5.6
         },
         {
          "fillcolor": "rgb(0.290980392157,0.594509803922,0.789019607843)",
          "line": {
           "width": 0
          },
          "type": "rect",
          "x0": 11.6,
          "x1": 12.4,
          "y0": -6.4,
          "y1": -5.6
         },
         {
          "fillcolor": "rgb(0.290980392157,0.594509803922,0.789019607843)",
          "line": {
           "width": 0
          },
          "type": "rect",
          "x0": 12.6,
          "x1": 13.4,
          "y0": -6.4,
          "y1": -5.6
         },
         {
          "fillcolor": "rgb(255,165,0)",
          "line": {
           "width": 0
          },
          "type": "rect",
          "x0": 13.6,
          "x1": 14.4,
          "y0": -6.4,
          "y1": -5.6
         },
         {
          "fillcolor": "rgb(0.290980392157,0.594509803922,0.789019607843)",
          "line": {
           "width": 0
          },
          "type": "rect",
          "x0": 14.6,
          "x1": 15.4,
          "y0": -6.4,
          "y1": -5.6
         },
         {
          "fillcolor": "rgb(0.290980392157,0.594509803922,0.789019607843)",
          "line": {
           "width": 0
          },
          "type": "rect",
          "x0": 15.6,
          "x1": 16.4,
          "y0": -6.4,
          "y1": -5.6
         },
         {
          "fillcolor": "rgb(0.946666666667,0.268235294118,0.196078431373)",
          "line": {
           "width": 0
          },
          "type": "rect",
          "x0": 16.6,
          "x1": 17.4,
          "y0": -6.4,
          "y1": -5.6
         },
         {
          "fillcolor": "rgb(0.946666666667,0.268235294118,0.196078431373)",
          "line": {
           "width": 0
          },
          "type": "rect",
          "x0": 17.6,
          "x1": 18.4,
          "y0": -6.4,
          "y1": -5.6
         },
         {
          "fillcolor": "rgb(0.290980392157,0.594509803922,0.789019607843)",
          "line": {
           "width": 0
          },
          "type": "rect",
          "x0": 18.6,
          "x1": 19.4,
          "y0": -6.4,
          "y1": -5.6
         },
         {
          "fillcolor": "rgb(0.290980392157,0.594509803922,0.789019607843)",
          "line": {
           "width": 0
          },
          "type": "rect",
          "x0": -0.4,
          "x1": 0.4,
          "y0": -7.4,
          "y1": -6.6
         },
         {
          "fillcolor": "rgb(0.946666666667,0.268235294118,0.196078431373)",
          "line": {
           "width": 0
          },
          "type": "rect",
          "x0": 0.6,
          "x1": 1.4,
          "y0": -7.4,
          "y1": -6.6
         },
         {
          "fillcolor": "rgb(0.290980392157,0.594509803922,0.789019607843)",
          "line": {
           "width": 0
          },
          "type": "rect",
          "x0": 1.6,
          "x1": 2.4,
          "y0": -7.4,
          "y1": -6.6
         },
         {
          "fillcolor": "rgb(0.290980392157,0.594509803922,0.789019607843)",
          "line": {
           "width": 0
          },
          "type": "rect",
          "x0": 2.6,
          "x1": 3.4,
          "y0": -7.4,
          "y1": -6.6
         },
         {
          "fillcolor": "rgb(0.290980392157,0.594509803922,0.789019607843)",
          "line": {
           "width": 0
          },
          "type": "rect",
          "x0": 3.6,
          "x1": 4.4,
          "y0": -7.4,
          "y1": -6.6
         },
         {
          "fillcolor": "rgb(0.290980392157,0.594509803922,0.789019607843)",
          "line": {
           "width": 0
          },
          "type": "rect",
          "x0": 4.6,
          "x1": 5.4,
          "y0": -7.4,
          "y1": -6.6
         },
         {
          "fillcolor": "rgb(0.290980392157,0.594509803922,0.789019607843)",
          "line": {
           "width": 0
          },
          "type": "rect",
          "x0": 5.6,
          "x1": 6.4,
          "y0": -7.4,
          "y1": -6.6
         },
         {
          "fillcolor": "rgb(0.290980392157,0.594509803922,0.789019607843)",
          "line": {
           "width": 0
          },
          "type": "rect",
          "x0": 6.6,
          "x1": 7.4,
          "y0": -7.4,
          "y1": -6.6
         },
         {
          "fillcolor": "rgb(0.290980392157,0.594509803922,0.789019607843)",
          "line": {
           "width": 0
          },
          "type": "rect",
          "x0": 7.6,
          "x1": 8.4,
          "y0": -7.4,
          "y1": -6.6
         },
         {
          "fillcolor": "rgb(0.290980392157,0.594509803922,0.789019607843)",
          "line": {
           "width": 0
          },
          "type": "rect",
          "x0": 8.6,
          "x1": 9.4,
          "y0": -7.4,
          "y1": -6.6
         },
         {
          "fillcolor": "rgb(0.290980392157,0.594509803922,0.789019607843)",
          "line": {
           "width": 0
          },
          "type": "rect",
          "x0": 9.6,
          "x1": 10.4,
          "y0": -7.4,
          "y1": -6.6
         },
         {
          "fillcolor": "rgb(0.290980392157,0.594509803922,0.789019607843)",
          "line": {
           "width": 0
          },
          "type": "rect",
          "x0": 10.6,
          "x1": 11.4,
          "y0": -7.4,
          "y1": -6.6
         },
         {
          "fillcolor": "rgb(0.946666666667,0.268235294118,0.196078431373)",
          "line": {
           "width": 0
          },
          "type": "rect",
          "x0": 11.6,
          "x1": 12.4,
          "y0": -7.4,
          "y1": -6.6
         },
         {
          "fillcolor": "rgb(0.290980392157,0.594509803922,0.789019607843)",
          "line": {
           "width": 0
          },
          "type": "rect",
          "x0": 12.6,
          "x1": 13.4,
          "y0": -7.4,
          "y1": -6.6
         },
         {
          "fillcolor": "rgb(0.946666666667,0.268235294118,0.196078431373)",
          "line": {
           "width": 0
          },
          "type": "rect",
          "x0": 13.6,
          "x1": 14.4,
          "y0": -7.4,
          "y1": -6.6
         },
         {
          "fillcolor": "rgb(0.290980392157,0.594509803922,0.789019607843)",
          "line": {
           "width": 0
          },
          "type": "rect",
          "x0": 14.6,
          "x1": 15.4,
          "y0": -7.4,
          "y1": -6.6
         },
         {
          "fillcolor": "rgb(0.290980392157,0.594509803922,0.789019607843)",
          "line": {
           "width": 0
          },
          "type": "rect",
          "x0": 15.6,
          "x1": 16.4,
          "y0": -7.4,
          "y1": -6.6
         },
         {
          "fillcolor": "rgb(0.290980392157,0.594509803922,0.789019607843)",
          "line": {
           "width": 0
          },
          "type": "rect",
          "x0": 16.6,
          "x1": 17.4,
          "y0": -7.4,
          "y1": -6.6
         },
         {
          "fillcolor": "rgb(0.946666666667,0.268235294118,0.196078431373)",
          "line": {
           "width": 0
          },
          "type": "rect",
          "x0": 17.6,
          "x1": 18.4,
          "y0": -7.4,
          "y1": -6.6
         },
         {
          "fillcolor": "rgb(0.290980392157,0.594509803922,0.789019607843)",
          "line": {
           "width": 0
          },
          "type": "rect",
          "x0": 18.6,
          "x1": 19.4,
          "y0": -7.4,
          "y1": -6.6
         },
         {
          "fillcolor": "rgb(0.946666666667,0.268235294118,0.196078431373)",
          "line": {
           "width": 0
          },
          "type": "rect",
          "x0": -0.4,
          "x1": 0.4,
          "y0": -8.4,
          "y1": -7.6
         },
         {
          "fillcolor": "rgb(0.290980392157,0.594509803922,0.789019607843)",
          "line": {
           "width": 0
          },
          "type": "rect",
          "x0": 0.6,
          "x1": 1.4,
          "y0": -8.4,
          "y1": -7.6
         },
         {
          "fillcolor": "rgb(0.290980392157,0.594509803922,0.789019607843)",
          "line": {
           "width": 0
          },
          "type": "rect",
          "x0": 1.6,
          "x1": 2.4,
          "y0": -8.4,
          "y1": -7.6
         },
         {
          "fillcolor": "rgb(0.290980392157,0.594509803922,0.789019607843)",
          "line": {
           "width": 0
          },
          "type": "rect",
          "x0": 2.6,
          "x1": 3.4,
          "y0": -8.4,
          "y1": -7.6
         },
         {
          "fillcolor": "rgb(0.290980392157,0.594509803922,0.789019607843)",
          "line": {
           "width": 0
          },
          "type": "rect",
          "x0": 3.6,
          "x1": 4.4,
          "y0": -8.4,
          "y1": -7.6
         },
         {
          "fillcolor": "rgb(0.290980392157,0.594509803922,0.789019607843)",
          "line": {
           "width": 0
          },
          "type": "rect",
          "x0": 4.6,
          "x1": 5.4,
          "y0": -8.4,
          "y1": -7.6
         },
         {
          "fillcolor": "rgb(0.290980392157,0.594509803922,0.789019607843)",
          "line": {
           "width": 0
          },
          "type": "rect",
          "x0": 5.6,
          "x1": 6.4,
          "y0": -8.4,
          "y1": -7.6
         },
         {
          "fillcolor": "rgb(0.290980392157,0.594509803922,0.789019607843)",
          "line": {
           "width": 0
          },
          "type": "rect",
          "x0": 6.6,
          "x1": 7.4,
          "y0": -8.4,
          "y1": -7.6
         },
         {
          "fillcolor": "rgb(0.290980392157,0.594509803922,0.789019607843)",
          "line": {
           "width": 0
          },
          "type": "rect",
          "x0": 7.6,
          "x1": 8.4,
          "y0": -8.4,
          "y1": -7.6
         },
         {
          "fillcolor": "rgb(0.290980392157,0.594509803922,0.789019607843)",
          "line": {
           "width": 0
          },
          "type": "rect",
          "x0": 8.6,
          "x1": 9.4,
          "y0": -8.4,
          "y1": -7.6
         },
         {
          "fillcolor": "rgb(0.290980392157,0.594509803922,0.789019607843)",
          "line": {
           "width": 0
          },
          "type": "rect",
          "x0": 9.6,
          "x1": 10.4,
          "y0": -8.4,
          "y1": -7.6
         },
         {
          "fillcolor": "rgb(0.290980392157,0.594509803922,0.789019607843)",
          "line": {
           "width": 0
          },
          "type": "rect",
          "x0": 10.6,
          "x1": 11.4,
          "y0": -8.4,
          "y1": -7.6
         },
         {
          "fillcolor": "rgb(0.290980392157,0.594509803922,0.789019607843)",
          "line": {
           "width": 0
          },
          "type": "rect",
          "x0": 11.6,
          "x1": 12.4,
          "y0": -8.4,
          "y1": -7.6
         },
         {
          "fillcolor": "rgb(0.290980392157,0.594509803922,0.789019607843)",
          "line": {
           "width": 0
          },
          "type": "rect",
          "x0": 12.6,
          "x1": 13.4,
          "y0": -8.4,
          "y1": -7.6
         },
         {
          "fillcolor": "rgb(0.290980392157,0.594509803922,0.789019607843)",
          "line": {
           "width": 0
          },
          "type": "rect",
          "x0": 13.6,
          "x1": 14.4,
          "y0": -8.4,
          "y1": -7.6
         },
         {
          "fillcolor": "rgb(0.290980392157,0.594509803922,0.789019607843)",
          "line": {
           "width": 0
          },
          "type": "rect",
          "x0": 14.6,
          "x1": 15.4,
          "y0": -8.4,
          "y1": -7.6
         },
         {
          "fillcolor": "rgb(0.290980392157,0.594509803922,0.789019607843)",
          "line": {
           "width": 0
          },
          "type": "rect",
          "x0": 15.6,
          "x1": 16.4,
          "y0": -8.4,
          "y1": -7.6
         },
         {
          "fillcolor": "rgb(0.290980392157,0.594509803922,0.789019607843)",
          "line": {
           "width": 0
          },
          "type": "rect",
          "x0": 16.6,
          "x1": 17.4,
          "y0": -8.4,
          "y1": -7.6
         },
         {
          "fillcolor": "rgb(0.946666666667,0.268235294118,0.196078431373)",
          "line": {
           "width": 0
          },
          "type": "rect",
          "x0": 17.6,
          "x1": 18.4,
          "y0": -8.4,
          "y1": -7.6
         },
         {
          "fillcolor": "rgb(0.290980392157,0.594509803922,0.789019607843)",
          "line": {
           "width": 0
          },
          "type": "rect",
          "x0": 18.6,
          "x1": 19.4,
          "y0": -8.4,
          "y1": -7.6
         },
         {
          "fillcolor": "rgb(0.290980392157,0.594509803922,0.789019607843)",
          "line": {
           "width": 0
          },
          "type": "rect",
          "x0": -0.4,
          "x1": 0.4,
          "y0": -9.4,
          "y1": -8.6
         },
         {
          "fillcolor": "rgb(0.290980392157,0.594509803922,0.789019607843)",
          "line": {
           "width": 0
          },
          "type": "rect",
          "x0": 0.6,
          "x1": 1.4,
          "y0": -9.4,
          "y1": -8.6
         },
         {
          "fillcolor": "rgb(0.290980392157,0.594509803922,0.789019607843)",
          "line": {
           "width": 0
          },
          "type": "rect",
          "x0": 1.6,
          "x1": 2.4,
          "y0": -9.4,
          "y1": -8.6
         },
         {
          "fillcolor": "rgb(0.290980392157,0.594509803922,0.789019607843)",
          "line": {
           "width": 0
          },
          "type": "rect",
          "x0": 2.6,
          "x1": 3.4,
          "y0": -9.4,
          "y1": -8.6
         },
         {
          "fillcolor": "rgb(0.290980392157,0.594509803922,0.789019607843)",
          "line": {
           "width": 0
          },
          "type": "rect",
          "x0": 3.6,
          "x1": 4.4,
          "y0": -9.4,
          "y1": -8.6
         },
         {
          "fillcolor": "rgb(0.946666666667,0.268235294118,0.196078431373)",
          "line": {
           "width": 0
          },
          "type": "rect",
          "x0": 4.6,
          "x1": 5.4,
          "y0": -9.4,
          "y1": -8.6
         },
         {
          "fillcolor": "rgb(0.946666666667,0.268235294118,0.196078431373)",
          "line": {
           "width": 0
          },
          "type": "rect",
          "x0": 5.6,
          "x1": 6.4,
          "y0": -9.4,
          "y1": -8.6
         },
         {
          "fillcolor": "rgb(0.290980392157,0.594509803922,0.789019607843)",
          "line": {
           "width": 0
          },
          "type": "rect",
          "x0": 6.6,
          "x1": 7.4,
          "y0": -9.4,
          "y1": -8.6
         },
         {
          "fillcolor": "rgb(0.946666666667,0.268235294118,0.196078431373)",
          "line": {
           "width": 0
          },
          "type": "rect",
          "x0": 7.6,
          "x1": 8.4,
          "y0": -9.4,
          "y1": -8.6
         },
         {
          "fillcolor": "rgb(0.290980392157,0.594509803922,0.789019607843)",
          "line": {
           "width": 0
          },
          "type": "rect",
          "x0": 8.6,
          "x1": 9.4,
          "y0": -9.4,
          "y1": -8.6
         },
         {
          "fillcolor": "rgb(0.290980392157,0.594509803922,0.789019607843)",
          "line": {
           "width": 0
          },
          "type": "rect",
          "x0": 9.6,
          "x1": 10.4,
          "y0": -9.4,
          "y1": -8.6
         },
         {
          "fillcolor": "rgb(0.290980392157,0.594509803922,0.789019607843)",
          "line": {
           "width": 0
          },
          "type": "rect",
          "x0": 10.6,
          "x1": 11.4,
          "y0": -9.4,
          "y1": -8.6
         },
         {
          "fillcolor": "rgb(0.946666666667,0.268235294118,0.196078431373)",
          "line": {
           "width": 0
          },
          "type": "rect",
          "x0": 11.6,
          "x1": 12.4,
          "y0": -9.4,
          "y1": -8.6
         },
         {
          "fillcolor": "rgb(0.290980392157,0.594509803922,0.789019607843)",
          "line": {
           "width": 0
          },
          "type": "rect",
          "x0": 12.6,
          "x1": 13.4,
          "y0": -9.4,
          "y1": -8.6
         },
         {
          "fillcolor": "rgb(0.290980392157,0.594509803922,0.789019607843)",
          "line": {
           "width": 0
          },
          "type": "rect",
          "x0": 13.6,
          "x1": 14.4,
          "y0": -9.4,
          "y1": -8.6
         },
         {
          "fillcolor": "rgb(0.946666666667,0.268235294118,0.196078431373)",
          "line": {
           "width": 0
          },
          "type": "rect",
          "x0": 14.6,
          "x1": 15.4,
          "y0": -9.4,
          "y1": -8.6
         },
         {
          "fillcolor": "rgb(0.290980392157,0.594509803922,0.789019607843)",
          "line": {
           "width": 0
          },
          "type": "rect",
          "x0": 15.6,
          "x1": 16.4,
          "y0": -9.4,
          "y1": -8.6
         },
         {
          "fillcolor": "rgb(0.946666666667,0.268235294118,0.196078431373)",
          "line": {
           "width": 0
          },
          "type": "rect",
          "x0": 16.6,
          "x1": 17.4,
          "y0": -9.4,
          "y1": -8.6
         },
         {
          "fillcolor": "rgb(0.290980392157,0.594509803922,0.789019607843)",
          "line": {
           "width": 0
          },
          "type": "rect",
          "x0": 17.6,
          "x1": 18.4,
          "y0": -9.4,
          "y1": -8.6
         },
         {
          "fillcolor": "rgb(0.290980392157,0.594509803922,0.789019607843)",
          "line": {
           "width": 0
          },
          "type": "rect",
          "x0": 18.6,
          "x1": 19.4,
          "y0": -9.4,
          "y1": -8.6
         },
         {
          "fillcolor": "rgb(0.290980392157,0.594509803922,0.789019607843)",
          "line": {
           "width": 0
          },
          "type": "rect",
          "x0": -0.4,
          "x1": 0.4,
          "y0": -10.4,
          "y1": -9.6
         },
         {
          "fillcolor": "rgb(0.290980392157,0.594509803922,0.789019607843)",
          "line": {
           "width": 0
          },
          "type": "rect",
          "x0": 0.6,
          "x1": 1.4,
          "y0": -10.4,
          "y1": -9.6
         },
         {
          "fillcolor": "rgb(0.946666666667,0.268235294118,0.196078431373)",
          "line": {
           "width": 0
          },
          "type": "rect",
          "x0": 1.6,
          "x1": 2.4,
          "y0": -10.4,
          "y1": -9.6
         },
         {
          "fillcolor": "rgb(0.290980392157,0.594509803922,0.789019607843)",
          "line": {
           "width": 0
          },
          "type": "rect",
          "x0": 2.6,
          "x1": 3.4,
          "y0": -10.4,
          "y1": -9.6
         },
         {
          "fillcolor": "rgb(0.290980392157,0.594509803922,0.789019607843)",
          "line": {
           "width": 0
          },
          "type": "rect",
          "x0": 3.6,
          "x1": 4.4,
          "y0": -10.4,
          "y1": -9.6
         },
         {
          "fillcolor": "rgb(0.290980392157,0.594509803922,0.789019607843)",
          "line": {
           "width": 0
          },
          "type": "rect",
          "x0": 4.6,
          "x1": 5.4,
          "y0": -10.4,
          "y1": -9.6
         },
         {
          "fillcolor": "rgb(0.290980392157,0.594509803922,0.789019607843)",
          "line": {
           "width": 0
          },
          "type": "rect",
          "x0": 5.6,
          "x1": 6.4,
          "y0": -10.4,
          "y1": -9.6
         },
         {
          "fillcolor": "rgb(0.290980392157,0.594509803922,0.789019607843)",
          "line": {
           "width": 0
          },
          "type": "rect",
          "x0": 6.6,
          "x1": 7.4,
          "y0": -10.4,
          "y1": -9.6
         },
         {
          "fillcolor": "rgb(0.290980392157,0.594509803922,0.789019607843)",
          "line": {
           "width": 0
          },
          "type": "rect",
          "x0": 7.6,
          "x1": 8.4,
          "y0": -10.4,
          "y1": -9.6
         },
         {
          "fillcolor": "rgb(0.290980392157,0.594509803922,0.789019607843)",
          "line": {
           "width": 0
          },
          "type": "rect",
          "x0": 8.6,
          "x1": 9.4,
          "y0": -10.4,
          "y1": -9.6
         },
         {
          "fillcolor": "rgb(0.946666666667,0.268235294118,0.196078431373)",
          "line": {
           "width": 0
          },
          "type": "rect",
          "x0": 9.6,
          "x1": 10.4,
          "y0": -10.4,
          "y1": -9.6
         },
         {
          "fillcolor": "rgb(0.290980392157,0.594509803922,0.789019607843)",
          "line": {
           "width": 0
          },
          "type": "rect",
          "x0": 10.6,
          "x1": 11.4,
          "y0": -10.4,
          "y1": -9.6
         },
         {
          "fillcolor": "rgb(0.290980392157,0.594509803922,0.789019607843)",
          "line": {
           "width": 0
          },
          "type": "rect",
          "x0": 11.6,
          "x1": 12.4,
          "y0": -10.4,
          "y1": -9.6
         },
         {
          "fillcolor": "rgb(0.290980392157,0.594509803922,0.789019607843)",
          "line": {
           "width": 0
          },
          "type": "rect",
          "x0": 12.6,
          "x1": 13.4,
          "y0": -10.4,
          "y1": -9.6
         },
         {
          "fillcolor": "rgb(0.290980392157,0.594509803922,0.789019607843)",
          "line": {
           "width": 0
          },
          "type": "rect",
          "x0": 13.6,
          "x1": 14.4,
          "y0": -10.4,
          "y1": -9.6
         },
         {
          "fillcolor": "rgb(0.290980392157,0.594509803922,0.789019607843)",
          "line": {
           "width": 0
          },
          "type": "rect",
          "x0": 14.6,
          "x1": 15.4,
          "y0": -10.4,
          "y1": -9.6
         },
         {
          "fillcolor": "rgb(0.290980392157,0.594509803922,0.789019607843)",
          "line": {
           "width": 0
          },
          "type": "rect",
          "x0": 15.6,
          "x1": 16.4,
          "y0": -10.4,
          "y1": -9.6
         },
         {
          "fillcolor": "rgb(0.290980392157,0.594509803922,0.789019607843)",
          "line": {
           "width": 0
          },
          "type": "rect",
          "x0": 16.6,
          "x1": 17.4,
          "y0": -10.4,
          "y1": -9.6
         },
         {
          "fillcolor": "rgb(0.946666666667,0.268235294118,0.196078431373)",
          "line": {
           "width": 0
          },
          "type": "rect",
          "x0": 17.6,
          "x1": 18.4,
          "y0": -10.4,
          "y1": -9.6
         },
         {
          "fillcolor": "rgb(0.290980392157,0.594509803922,0.789019607843)",
          "line": {
           "width": 0
          },
          "type": "rect",
          "x0": 18.6,
          "x1": 19.4,
          "y0": -10.4,
          "y1": -9.6
         },
         {
          "fillcolor": "rgb(0.946666666667,0.268235294118,0.196078431373)",
          "line": {
           "width": 0
          },
          "type": "rect",
          "x0": -0.4,
          "x1": 0.4,
          "y0": -11.4,
          "y1": -10.6
         },
         {
          "fillcolor": "rgb(0.946666666667,0.268235294118,0.196078431373)",
          "line": {
           "width": 0
          },
          "type": "rect",
          "x0": 0.6,
          "x1": 1.4,
          "y0": -11.4,
          "y1": -10.6
         },
         {
          "fillcolor": "rgb(0.290980392157,0.594509803922,0.789019607843)",
          "line": {
           "width": 0
          },
          "type": "rect",
          "x0": 1.6,
          "x1": 2.4,
          "y0": -11.4,
          "y1": -10.6
         },
         {
          "fillcolor": "rgb(0.946666666667,0.268235294118,0.196078431373)",
          "line": {
           "width": 0
          },
          "type": "rect",
          "x0": 2.6,
          "x1": 3.4,
          "y0": -11.4,
          "y1": -10.6
         },
         {
          "fillcolor": "rgb(0.946666666667,0.268235294118,0.196078431373)",
          "line": {
           "width": 0
          },
          "type": "rect",
          "x0": 3.6,
          "x1": 4.4,
          "y0": -11.4,
          "y1": -10.6
         },
         {
          "fillcolor": "rgb(0.946666666667,0.268235294118,0.196078431373)",
          "line": {
           "width": 0
          },
          "type": "rect",
          "x0": 4.6,
          "x1": 5.4,
          "y0": -11.4,
          "y1": -10.6
         },
         {
          "fillcolor": "rgb(0.946666666667,0.268235294118,0.196078431373)",
          "line": {
           "width": 0
          },
          "type": "rect",
          "x0": 5.6,
          "x1": 6.4,
          "y0": -11.4,
          "y1": -10.6
         },
         {
          "fillcolor": "rgb(0.290980392157,0.594509803922,0.789019607843)",
          "line": {
           "width": 0
          },
          "type": "rect",
          "x0": 6.6,
          "x1": 7.4,
          "y0": -11.4,
          "y1": -10.6
         },
         {
          "fillcolor": "rgb(0.290980392157,0.594509803922,0.789019607843)",
          "line": {
           "width": 0
          },
          "type": "rect",
          "x0": 7.6,
          "x1": 8.4,
          "y0": -11.4,
          "y1": -10.6
         },
         {
          "fillcolor": "rgb(0.290980392157,0.594509803922,0.789019607843)",
          "line": {
           "width": 0
          },
          "type": "rect",
          "x0": 8.6,
          "x1": 9.4,
          "y0": -11.4,
          "y1": -10.6
         },
         {
          "fillcolor": "rgb(0.290980392157,0.594509803922,0.789019607843)",
          "line": {
           "width": 0
          },
          "type": "rect",
          "x0": 9.6,
          "x1": 10.4,
          "y0": -11.4,
          "y1": -10.6
         },
         {
          "fillcolor": "rgb(0.290980392157,0.594509803922,0.789019607843)",
          "line": {
           "width": 0
          },
          "type": "rect",
          "x0": 10.6,
          "x1": 11.4,
          "y0": -11.4,
          "y1": -10.6
         },
         {
          "fillcolor": "rgb(0.946666666667,0.268235294118,0.196078431373)",
          "line": {
           "width": 0
          },
          "type": "rect",
          "x0": 11.6,
          "x1": 12.4,
          "y0": -11.4,
          "y1": -10.6
         },
         {
          "fillcolor": "rgb(0.290980392157,0.594509803922,0.789019607843)",
          "line": {
           "width": 0
          },
          "type": "rect",
          "x0": 12.6,
          "x1": 13.4,
          "y0": -11.4,
          "y1": -10.6
         },
         {
          "fillcolor": "rgb(0.290980392157,0.594509803922,0.789019607843)",
          "line": {
           "width": 0
          },
          "type": "rect",
          "x0": 13.6,
          "x1": 14.4,
          "y0": -11.4,
          "y1": -10.6
         },
         {
          "fillcolor": "rgb(0.946666666667,0.268235294118,0.196078431373)",
          "line": {
           "width": 0
          },
          "type": "rect",
          "x0": 14.6,
          "x1": 15.4,
          "y0": -11.4,
          "y1": -10.6
         },
         {
          "fillcolor": "rgb(0.290980392157,0.594509803922,0.789019607843)",
          "line": {
           "width": 0
          },
          "type": "rect",
          "x0": 15.6,
          "x1": 16.4,
          "y0": -11.4,
          "y1": -10.6
         },
         {
          "fillcolor": "rgb(0.946666666667,0.268235294118,0.196078431373)",
          "line": {
           "width": 0
          },
          "type": "rect",
          "x0": 16.6,
          "x1": 17.4,
          "y0": -11.4,
          "y1": -10.6
         },
         {
          "fillcolor": "rgb(0.946666666667,0.268235294118,0.196078431373)",
          "line": {
           "width": 0
          },
          "type": "rect",
          "x0": 17.6,
          "x1": 18.4,
          "y0": -11.4,
          "y1": -10.6
         },
         {
          "fillcolor": "rgb(0.946666666667,0.268235294118,0.196078431373)",
          "line": {
           "width": 0
          },
          "type": "rect",
          "x0": 18.6,
          "x1": 19.4,
          "y0": -11.4,
          "y1": -10.6
         },
         {
          "fillcolor": "rgb(0.290980392157,0.594509803922,0.789019607843)",
          "line": {
           "width": 0
          },
          "type": "rect",
          "x0": -0.4,
          "x1": 0.4,
          "y0": -12.4,
          "y1": -11.6
         },
         {
          "fillcolor": "rgb(0.946666666667,0.268235294118,0.196078431373)",
          "line": {
           "width": 0
          },
          "type": "rect",
          "x0": 0.6,
          "x1": 1.4,
          "y0": -12.4,
          "y1": -11.6
         },
         {
          "fillcolor": "rgb(0.946666666667,0.268235294118,0.196078431373)",
          "line": {
           "width": 0
          },
          "type": "rect",
          "x0": 1.6,
          "x1": 2.4,
          "y0": -12.4,
          "y1": -11.6
         },
         {
          "fillcolor": "rgb(0.946666666667,0.268235294118,0.196078431373)",
          "line": {
           "width": 0
          },
          "type": "rect",
          "x0": 2.6,
          "x1": 3.4,
          "y0": -12.4,
          "y1": -11.6
         },
         {
          "fillcolor": "rgb(0.290980392157,0.594509803922,0.789019607843)",
          "line": {
           "width": 0
          },
          "type": "rect",
          "x0": 3.6,
          "x1": 4.4,
          "y0": -12.4,
          "y1": -11.6
         },
         {
          "fillcolor": "rgb(0.946666666667,0.268235294118,0.196078431373)",
          "line": {
           "width": 0
          },
          "type": "rect",
          "x0": 4.6,
          "x1": 5.4,
          "y0": -12.4,
          "y1": -11.6
         },
         {
          "fillcolor": "rgb(0.946666666667,0.268235294118,0.196078431373)",
          "line": {
           "width": 0
          },
          "type": "rect",
          "x0": 5.6,
          "x1": 6.4,
          "y0": -12.4,
          "y1": -11.6
         },
         {
          "fillcolor": "rgb(0.946666666667,0.268235294118,0.196078431373)",
          "line": {
           "width": 0
          },
          "type": "rect",
          "x0": 6.6,
          "x1": 7.4,
          "y0": -12.4,
          "y1": -11.6
         },
         {
          "fillcolor": "rgb(0.290980392157,0.594509803922,0.789019607843)",
          "line": {
           "width": 0
          },
          "type": "rect",
          "x0": 7.6,
          "x1": 8.4,
          "y0": -12.4,
          "y1": -11.6
         },
         {
          "fillcolor": "rgb(0.290980392157,0.594509803922,0.789019607843)",
          "line": {
           "width": 0
          },
          "type": "rect",
          "x0": 8.6,
          "x1": 9.4,
          "y0": -12.4,
          "y1": -11.6
         },
         {
          "fillcolor": "rgb(0.946666666667,0.268235294118,0.196078431373)",
          "line": {
           "width": 0
          },
          "type": "rect",
          "x0": 9.6,
          "x1": 10.4,
          "y0": -12.4,
          "y1": -11.6
         },
         {
          "fillcolor": "rgb(0.290980392157,0.594509803922,0.789019607843)",
          "line": {
           "width": 0
          },
          "type": "rect",
          "x0": 10.6,
          "x1": 11.4,
          "y0": -12.4,
          "y1": -11.6
         },
         {
          "fillcolor": "rgb(0.290980392157,0.594509803922,0.789019607843)",
          "line": {
           "width": 0
          },
          "type": "rect",
          "x0": 11.6,
          "x1": 12.4,
          "y0": -12.4,
          "y1": -11.6
         },
         {
          "fillcolor": "rgb(0.290980392157,0.594509803922,0.789019607843)",
          "line": {
           "width": 0
          },
          "type": "rect",
          "x0": 12.6,
          "x1": 13.4,
          "y0": -12.4,
          "y1": -11.6
         },
         {
          "fillcolor": "rgb(0.946666666667,0.268235294118,0.196078431373)",
          "line": {
           "width": 0
          },
          "type": "rect",
          "x0": 13.6,
          "x1": 14.4,
          "y0": -12.4,
          "y1": -11.6
         },
         {
          "fillcolor": "rgb(0.290980392157,0.594509803922,0.789019607843)",
          "line": {
           "width": 0
          },
          "type": "rect",
          "x0": 14.6,
          "x1": 15.4,
          "y0": -12.4,
          "y1": -11.6
         },
         {
          "fillcolor": "rgb(0.946666666667,0.268235294118,0.196078431373)",
          "line": {
           "width": 0
          },
          "type": "rect",
          "x0": 15.6,
          "x1": 16.4,
          "y0": -12.4,
          "y1": -11.6
         },
         {
          "fillcolor": "rgb(0.946666666667,0.268235294118,0.196078431373)",
          "line": {
           "width": 0
          },
          "type": "rect",
          "x0": 16.6,
          "x1": 17.4,
          "y0": -12.4,
          "y1": -11.6
         },
         {
          "fillcolor": "rgb(0.946666666667,0.268235294118,0.196078431373)",
          "line": {
           "width": 0
          },
          "type": "rect",
          "x0": 17.6,
          "x1": 18.4,
          "y0": -12.4,
          "y1": -11.6
         },
         {
          "fillcolor": "rgb(0.946666666667,0.268235294118,0.196078431373)",
          "line": {
           "width": 0
          },
          "type": "rect",
          "x0": 18.6,
          "x1": 19.4,
          "y0": -12.4,
          "y1": -11.6
         },
         {
          "fillcolor": "rgb(0.946666666667,0.268235294118,0.196078431373)",
          "line": {
           "width": 0
          },
          "type": "rect",
          "x0": -0.4,
          "x1": 0.4,
          "y0": -13.4,
          "y1": -12.6
         },
         {
          "fillcolor": "rgb(0.946666666667,0.268235294118,0.196078431373)",
          "line": {
           "width": 0
          },
          "type": "rect",
          "x0": 0.6,
          "x1": 1.4,
          "y0": -13.4,
          "y1": -12.6
         },
         {
          "fillcolor": "rgb(0.290980392157,0.594509803922,0.789019607843)",
          "line": {
           "width": 0
          },
          "type": "rect",
          "x0": 1.6,
          "x1": 2.4,
          "y0": -13.4,
          "y1": -12.6
         },
         {
          "fillcolor": "rgb(0.946666666667,0.268235294118,0.196078431373)",
          "line": {
           "width": 0
          },
          "type": "rect",
          "x0": 2.6,
          "x1": 3.4,
          "y0": -13.4,
          "y1": -12.6
         },
         {
          "fillcolor": "rgb(0.946666666667,0.268235294118,0.196078431373)",
          "line": {
           "width": 0
          },
          "type": "rect",
          "x0": 3.6,
          "x1": 4.4,
          "y0": -13.4,
          "y1": -12.6
         },
         {
          "fillcolor": "rgb(0.946666666667,0.268235294118,0.196078431373)",
          "line": {
           "width": 0
          },
          "type": "rect",
          "x0": 4.6,
          "x1": 5.4,
          "y0": -13.4,
          "y1": -12.6
         },
         {
          "fillcolor": "rgb(0.290980392157,0.594509803922,0.789019607843)",
          "line": {
           "width": 0
          },
          "type": "rect",
          "x0": 5.6,
          "x1": 6.4,
          "y0": -13.4,
          "y1": -12.6
         },
         {
          "fillcolor": "rgb(0.946666666667,0.268235294118,0.196078431373)",
          "line": {
           "width": 0
          },
          "type": "rect",
          "x0": 6.6,
          "x1": 7.4,
          "y0": -13.4,
          "y1": -12.6
         },
         {
          "fillcolor": "rgb(0.290980392157,0.594509803922,0.789019607843)",
          "line": {
           "width": 0
          },
          "type": "rect",
          "x0": 7.6,
          "x1": 8.4,
          "y0": -13.4,
          "y1": -12.6
         },
         {
          "fillcolor": "rgb(0.946666666667,0.268235294118,0.196078431373)",
          "line": {
           "width": 0
          },
          "type": "rect",
          "x0": 8.6,
          "x1": 9.4,
          "y0": -13.4,
          "y1": -12.6
         },
         {
          "fillcolor": "rgb(0.946666666667,0.268235294118,0.196078431373)",
          "line": {
           "width": 0
          },
          "type": "rect",
          "x0": 9.6,
          "x1": 10.4,
          "y0": -13.4,
          "y1": -12.6
         },
         {
          "fillcolor": "rgb(0.290980392157,0.594509803922,0.789019607843)",
          "line": {
           "width": 0
          },
          "type": "rect",
          "x0": 10.6,
          "x1": 11.4,
          "y0": -13.4,
          "y1": -12.6
         },
         {
          "fillcolor": "rgb(0.946666666667,0.268235294118,0.196078431373)",
          "line": {
           "width": 0
          },
          "type": "rect",
          "x0": 11.6,
          "x1": 12.4,
          "y0": -13.4,
          "y1": -12.6
         },
         {
          "fillcolor": "rgb(0.946666666667,0.268235294118,0.196078431373)",
          "line": {
           "width": 0
          },
          "type": "rect",
          "x0": 12.6,
          "x1": 13.4,
          "y0": -13.4,
          "y1": -12.6
         },
         {
          "fillcolor": "rgb(0.946666666667,0.268235294118,0.196078431373)",
          "line": {
           "width": 0
          },
          "type": "rect",
          "x0": 13.6,
          "x1": 14.4,
          "y0": -13.4,
          "y1": -12.6
         },
         {
          "fillcolor": "rgb(0.946666666667,0.268235294118,0.196078431373)",
          "line": {
           "width": 0
          },
          "type": "rect",
          "x0": 14.6,
          "x1": 15.4,
          "y0": -13.4,
          "y1": -12.6
         },
         {
          "fillcolor": "rgb(0.946666666667,0.268235294118,0.196078431373)",
          "line": {
           "width": 0
          },
          "type": "rect",
          "x0": 15.6,
          "x1": 16.4,
          "y0": -13.4,
          "y1": -12.6
         },
         {
          "fillcolor": "rgb(0.946666666667,0.268235294118,0.196078431373)",
          "line": {
           "width": 0
          },
          "type": "rect",
          "x0": 16.6,
          "x1": 17.4,
          "y0": -13.4,
          "y1": -12.6
         },
         {
          "fillcolor": "rgb(0.946666666667,0.268235294118,0.196078431373)",
          "line": {
           "width": 0
          },
          "type": "rect",
          "x0": 17.6,
          "x1": 18.4,
          "y0": -13.4,
          "y1": -12.6
         },
         {
          "fillcolor": "rgb(0.946666666667,0.268235294118,0.196078431373)",
          "line": {
           "width": 0
          },
          "type": "rect",
          "x0": 18.6,
          "x1": 19.4,
          "y0": -13.4,
          "y1": -12.6
         },
         {
          "fillcolor": "rgb(0.290980392157,0.594509803922,0.789019607843)",
          "line": {
           "width": 0
          },
          "type": "rect",
          "x0": -0.4,
          "x1": 0.4,
          "y0": -14.4,
          "y1": -13.6
         },
         {
          "fillcolor": "rgb(0.946666666667,0.268235294118,0.196078431373)",
          "line": {
           "width": 0
          },
          "type": "rect",
          "x0": 0.6,
          "x1": 1.4,
          "y0": -14.4,
          "y1": -13.6
         },
         {
          "fillcolor": "rgb(0.290980392157,0.594509803922,0.789019607843)",
          "line": {
           "width": 0
          },
          "type": "rect",
          "x0": 1.6,
          "x1": 2.4,
          "y0": -14.4,
          "y1": -13.6
         },
         {
          "fillcolor": "rgb(0.946666666667,0.268235294118,0.196078431373)",
          "line": {
           "width": 0
          },
          "type": "rect",
          "x0": 2.6,
          "x1": 3.4,
          "y0": -14.4,
          "y1": -13.6
         },
         {
          "fillcolor": "rgb(0.946666666667,0.268235294118,0.196078431373)",
          "line": {
           "width": 0
          },
          "type": "rect",
          "x0": 3.6,
          "x1": 4.4,
          "y0": -14.4,
          "y1": -13.6
         },
         {
          "fillcolor": "rgb(0.946666666667,0.268235294118,0.196078431373)",
          "line": {
           "width": 0
          },
          "type": "rect",
          "x0": 4.6,
          "x1": 5.4,
          "y0": -14.4,
          "y1": -13.6
         },
         {
          "fillcolor": "rgb(0.946666666667,0.268235294118,0.196078431373)",
          "line": {
           "width": 0
          },
          "type": "rect",
          "x0": 5.6,
          "x1": 6.4,
          "y0": -14.4,
          "y1": -13.6
         },
         {
          "fillcolor": "rgb(0.946666666667,0.268235294118,0.196078431373)",
          "line": {
           "width": 0
          },
          "type": "rect",
          "x0": 6.6,
          "x1": 7.4,
          "y0": -14.4,
          "y1": -13.6
         },
         {
          "fillcolor": "rgb(0.946666666667,0.268235294118,0.196078431373)",
          "line": {
           "width": 0
          },
          "type": "rect",
          "x0": 7.6,
          "x1": 8.4,
          "y0": -14.4,
          "y1": -13.6
         },
         {
          "fillcolor": "rgb(0.946666666667,0.268235294118,0.196078431373)",
          "line": {
           "width": 0
          },
          "type": "rect",
          "x0": 8.6,
          "x1": 9.4,
          "y0": -14.4,
          "y1": -13.6
         },
         {
          "fillcolor": "rgb(0.946666666667,0.268235294118,0.196078431373)",
          "line": {
           "width": 0
          },
          "type": "rect",
          "x0": 9.6,
          "x1": 10.4,
          "y0": -14.4,
          "y1": -13.6
         },
         {
          "fillcolor": "rgb(0.946666666667,0.268235294118,0.196078431373)",
          "line": {
           "width": 0
          },
          "type": "rect",
          "x0": 10.6,
          "x1": 11.4,
          "y0": -14.4,
          "y1": -13.6
         },
         {
          "fillcolor": "rgb(0.946666666667,0.268235294118,0.196078431373)",
          "line": {
           "width": 0
          },
          "type": "rect",
          "x0": 11.6,
          "x1": 12.4,
          "y0": -14.4,
          "y1": -13.6
         },
         {
          "fillcolor": "rgb(0.290980392157,0.594509803922,0.789019607843)",
          "line": {
           "width": 0
          },
          "type": "rect",
          "x0": 12.6,
          "x1": 13.4,
          "y0": -14.4,
          "y1": -13.6
         },
         {
          "fillcolor": "rgb(0.946666666667,0.268235294118,0.196078431373)",
          "line": {
           "width": 0
          },
          "type": "rect",
          "x0": 13.6,
          "x1": 14.4,
          "y0": -14.4,
          "y1": -13.6
         },
         {
          "fillcolor": "rgb(0.946666666667,0.268235294118,0.196078431373)",
          "line": {
           "width": 0
          },
          "type": "rect",
          "x0": 14.6,
          "x1": 15.4,
          "y0": -14.4,
          "y1": -13.6
         },
         {
          "fillcolor": "rgb(0.290980392157,0.594509803922,0.789019607843)",
          "line": {
           "width": 0
          },
          "type": "rect",
          "x0": 15.6,
          "x1": 16.4,
          "y0": -14.4,
          "y1": -13.6
         },
         {
          "fillcolor": "rgb(0.290980392157,0.594509803922,0.789019607843)",
          "line": {
           "width": 0
          },
          "type": "rect",
          "x0": 16.6,
          "x1": 17.4,
          "y0": -14.4,
          "y1": -13.6
         },
         {
          "fillcolor": "rgb(0.946666666667,0.268235294118,0.196078431373)",
          "line": {
           "width": 0
          },
          "type": "rect",
          "x0": 17.6,
          "x1": 18.4,
          "y0": -14.4,
          "y1": -13.6
         },
         {
          "fillcolor": "rgb(0.946666666667,0.268235294118,0.196078431373)",
          "line": {
           "width": 0
          },
          "type": "rect",
          "x0": 18.6,
          "x1": 19.4,
          "y0": -14.4,
          "y1": -13.6
         },
         {
          "fillcolor": "rgb(0.290980392157,0.594509803922,0.789019607843)",
          "line": {
           "width": 0
          },
          "type": "rect",
          "x0": -0.4,
          "x1": 0.4,
          "y0": -15.4,
          "y1": -14.6
         },
         {
          "fillcolor": "rgb(0.946666666667,0.268235294118,0.196078431373)",
          "line": {
           "width": 0
          },
          "type": "rect",
          "x0": 0.6,
          "x1": 1.4,
          "y0": -15.4,
          "y1": -14.6
         },
         {
          "fillcolor": "rgb(0.946666666667,0.268235294118,0.196078431373)",
          "line": {
           "width": 0
          },
          "type": "rect",
          "x0": 1.6,
          "x1": 2.4,
          "y0": -15.4,
          "y1": -14.6
         },
         {
          "fillcolor": "rgb(0.946666666667,0.268235294118,0.196078431373)",
          "line": {
           "width": 0
          },
          "type": "rect",
          "x0": 2.6,
          "x1": 3.4,
          "y0": -15.4,
          "y1": -14.6
         },
         {
          "fillcolor": "rgb(0.290980392157,0.594509803922,0.789019607843)",
          "line": {
           "width": 0
          },
          "type": "rect",
          "x0": 3.6,
          "x1": 4.4,
          "y0": -15.4,
          "y1": -14.6
         },
         {
          "fillcolor": "rgb(0.946666666667,0.268235294118,0.196078431373)",
          "line": {
           "width": 0
          },
          "type": "rect",
          "x0": 4.6,
          "x1": 5.4,
          "y0": -15.4,
          "y1": -14.6
         },
         {
          "fillcolor": "rgb(0.946666666667,0.268235294118,0.196078431373)",
          "line": {
           "width": 0
          },
          "type": "rect",
          "x0": 5.6,
          "x1": 6.4,
          "y0": -15.4,
          "y1": -14.6
         },
         {
          "fillcolor": "rgb(0.946666666667,0.268235294118,0.196078431373)",
          "line": {
           "width": 0
          },
          "type": "rect",
          "x0": 6.6,
          "x1": 7.4,
          "y0": -15.4,
          "y1": -14.6
         },
         {
          "fillcolor": "rgb(0.290980392157,0.594509803922,0.789019607843)",
          "line": {
           "width": 0
          },
          "type": "rect",
          "x0": 7.6,
          "x1": 8.4,
          "y0": -15.4,
          "y1": -14.6
         },
         {
          "fillcolor": "rgb(0.946666666667,0.268235294118,0.196078431373)",
          "line": {
           "width": 0
          },
          "type": "rect",
          "x0": 8.6,
          "x1": 9.4,
          "y0": -15.4,
          "y1": -14.6
         },
         {
          "fillcolor": "rgb(0.290980392157,0.594509803922,0.789019607843)",
          "line": {
           "width": 0
          },
          "type": "rect",
          "x0": 9.6,
          "x1": 10.4,
          "y0": -15.4,
          "y1": -14.6
         },
         {
          "fillcolor": "rgb(0.946666666667,0.268235294118,0.196078431373)",
          "line": {
           "width": 0
          },
          "type": "rect",
          "x0": 10.6,
          "x1": 11.4,
          "y0": -15.4,
          "y1": -14.6
         },
         {
          "fillcolor": "rgb(0.946666666667,0.268235294118,0.196078431373)",
          "line": {
           "width": 0
          },
          "type": "rect",
          "x0": 11.6,
          "x1": 12.4,
          "y0": -15.4,
          "y1": -14.6
         },
         {
          "fillcolor": "rgb(0.290980392157,0.594509803922,0.789019607843)",
          "line": {
           "width": 0
          },
          "type": "rect",
          "x0": 12.6,
          "x1": 13.4,
          "y0": -15.4,
          "y1": -14.6
         },
         {
          "fillcolor": "rgb(0.946666666667,0.268235294118,0.196078431373)",
          "line": {
           "width": 0
          },
          "type": "rect",
          "x0": 13.6,
          "x1": 14.4,
          "y0": -15.4,
          "y1": -14.6
         },
         {
          "fillcolor": "rgb(0.946666666667,0.268235294118,0.196078431373)",
          "line": {
           "width": 0
          },
          "type": "rect",
          "x0": 14.6,
          "x1": 15.4,
          "y0": -15.4,
          "y1": -14.6
         },
         {
          "fillcolor": "rgb(0.946666666667,0.268235294118,0.196078431373)",
          "line": {
           "width": 0
          },
          "type": "rect",
          "x0": 15.6,
          "x1": 16.4,
          "y0": -15.4,
          "y1": -14.6
         },
         {
          "fillcolor": "rgb(0.946666666667,0.268235294118,0.196078431373)",
          "line": {
           "width": 0
          },
          "type": "rect",
          "x0": 16.6,
          "x1": 17.4,
          "y0": -15.4,
          "y1": -14.6
         },
         {
          "fillcolor": "rgb(0.946666666667,0.268235294118,0.196078431373)",
          "line": {
           "width": 0
          },
          "type": "rect",
          "x0": 17.6,
          "x1": 18.4,
          "y0": -15.4,
          "y1": -14.6
         },
         {
          "fillcolor": "rgb(0.946666666667,0.268235294118,0.196078431373)",
          "line": {
           "width": 0
          },
          "type": "rect",
          "x0": 18.6,
          "x1": 19.4,
          "y0": -15.4,
          "y1": -14.6
         },
         {
          "fillcolor": "rgb(0.946666666667,0.268235294118,0.196078431373)",
          "line": {
           "width": 0
          },
          "type": "rect",
          "x0": -0.4,
          "x1": 0.4,
          "y0": -16.4,
          "y1": -15.6
         },
         {
          "fillcolor": "rgb(0.946666666667,0.268235294118,0.196078431373)",
          "line": {
           "width": 0
          },
          "type": "rect",
          "x0": 0.6,
          "x1": 1.4,
          "y0": -16.4,
          "y1": -15.6
         },
         {
          "fillcolor": "rgb(0.946666666667,0.268235294118,0.196078431373)",
          "line": {
           "width": 0
          },
          "type": "rect",
          "x0": 1.6,
          "x1": 2.4,
          "y0": -16.4,
          "y1": -15.6
         },
         {
          "fillcolor": "rgb(0.290980392157,0.594509803922,0.789019607843)",
          "line": {
           "width": 0
          },
          "type": "rect",
          "x0": 2.6,
          "x1": 3.4,
          "y0": -16.4,
          "y1": -15.6
         },
         {
          "fillcolor": "rgb(0.946666666667,0.268235294118,0.196078431373)",
          "line": {
           "width": 0
          },
          "type": "rect",
          "x0": 3.6,
          "x1": 4.4,
          "y0": -16.4,
          "y1": -15.6
         },
         {
          "fillcolor": "rgb(0.946666666667,0.268235294118,0.196078431373)",
          "line": {
           "width": 0
          },
          "type": "rect",
          "x0": 4.6,
          "x1": 5.4,
          "y0": -16.4,
          "y1": -15.6
         },
         {
          "fillcolor": "rgb(0.946666666667,0.268235294118,0.196078431373)",
          "line": {
           "width": 0
          },
          "type": "rect",
          "x0": 5.6,
          "x1": 6.4,
          "y0": -16.4,
          "y1": -15.6
         },
         {
          "fillcolor": "rgb(0.946666666667,0.268235294118,0.196078431373)",
          "line": {
           "width": 0
          },
          "type": "rect",
          "x0": 6.6,
          "x1": 7.4,
          "y0": -16.4,
          "y1": -15.6
         },
         {
          "fillcolor": "rgb(0.946666666667,0.268235294118,0.196078431373)",
          "line": {
           "width": 0
          },
          "type": "rect",
          "x0": 7.6,
          "x1": 8.4,
          "y0": -16.4,
          "y1": -15.6
         },
         {
          "fillcolor": "rgb(0.946666666667,0.268235294118,0.196078431373)",
          "line": {
           "width": 0
          },
          "type": "rect",
          "x0": 8.6,
          "x1": 9.4,
          "y0": -16.4,
          "y1": -15.6
         },
         {
          "fillcolor": "rgb(0.946666666667,0.268235294118,0.196078431373)",
          "line": {
           "width": 0
          },
          "type": "rect",
          "x0": 9.6,
          "x1": 10.4,
          "y0": -16.4,
          "y1": -15.6
         },
         {
          "fillcolor": "rgb(0.946666666667,0.268235294118,0.196078431373)",
          "line": {
           "width": 0
          },
          "type": "rect",
          "x0": 10.6,
          "x1": 11.4,
          "y0": -16.4,
          "y1": -15.6
         },
         {
          "fillcolor": "rgb(0.946666666667,0.268235294118,0.196078431373)",
          "line": {
           "width": 0
          },
          "type": "rect",
          "x0": 11.6,
          "x1": 12.4,
          "y0": -16.4,
          "y1": -15.6
         },
         {
          "fillcolor": "rgb(0.946666666667,0.268235294118,0.196078431373)",
          "line": {
           "width": 0
          },
          "type": "rect",
          "x0": 12.6,
          "x1": 13.4,
          "y0": -16.4,
          "y1": -15.6
         },
         {
          "fillcolor": "rgb(0.946666666667,0.268235294118,0.196078431373)",
          "line": {
           "width": 0
          },
          "type": "rect",
          "x0": 13.6,
          "x1": 14.4,
          "y0": -16.4,
          "y1": -15.6
         },
         {
          "fillcolor": "rgb(0.946666666667,0.268235294118,0.196078431373)",
          "line": {
           "width": 0
          },
          "type": "rect",
          "x0": 14.6,
          "x1": 15.4,
          "y0": -16.4,
          "y1": -15.6
         },
         {
          "fillcolor": "rgb(0.946666666667,0.268235294118,0.196078431373)",
          "line": {
           "width": 0
          },
          "type": "rect",
          "x0": 15.6,
          "x1": 16.4,
          "y0": -16.4,
          "y1": -15.6
         },
         {
          "fillcolor": "rgb(0.290980392157,0.594509803922,0.789019607843)",
          "line": {
           "width": 0
          },
          "type": "rect",
          "x0": 16.6,
          "x1": 17.4,
          "y0": -16.4,
          "y1": -15.6
         },
         {
          "fillcolor": "rgb(0.946666666667,0.268235294118,0.196078431373)",
          "line": {
           "width": 0
          },
          "type": "rect",
          "x0": 17.6,
          "x1": 18.4,
          "y0": -16.4,
          "y1": -15.6
         },
         {
          "fillcolor": "rgb(0.290980392157,0.594509803922,0.789019607843)",
          "line": {
           "width": 0
          },
          "type": "rect",
          "x0": 18.6,
          "x1": 19.4,
          "y0": -16.4,
          "y1": -15.6
         },
         {
          "fillcolor": "rgb(0.946666666667,0.268235294118,0.196078431373)",
          "line": {
           "width": 0
          },
          "type": "rect",
          "x0": -0.4,
          "x1": 0.4,
          "y0": -17.4,
          "y1": -16.6
         },
         {
          "fillcolor": "rgb(0.946666666667,0.268235294118,0.196078431373)",
          "line": {
           "width": 0
          },
          "type": "rect",
          "x0": 0.6,
          "x1": 1.4,
          "y0": -17.4,
          "y1": -16.6
         },
         {
          "fillcolor": "rgb(0.290980392157,0.594509803922,0.789019607843)",
          "line": {
           "width": 0
          },
          "type": "rect",
          "x0": 1.6,
          "x1": 2.4,
          "y0": -17.4,
          "y1": -16.6
         },
         {
          "fillcolor": "rgb(0.290980392157,0.594509803922,0.789019607843)",
          "line": {
           "width": 0
          },
          "type": "rect",
          "x0": 2.6,
          "x1": 3.4,
          "y0": -17.4,
          "y1": -16.6
         },
         {
          "fillcolor": "rgb(0.946666666667,0.268235294118,0.196078431373)",
          "line": {
           "width": 0
          },
          "type": "rect",
          "x0": 3.6,
          "x1": 4.4,
          "y0": -17.4,
          "y1": -16.6
         },
         {
          "fillcolor": "rgb(0.946666666667,0.268235294118,0.196078431373)",
          "line": {
           "width": 0
          },
          "type": "rect",
          "x0": 4.6,
          "x1": 5.4,
          "y0": -17.4,
          "y1": -16.6
         },
         {
          "fillcolor": "rgb(0.946666666667,0.268235294118,0.196078431373)",
          "line": {
           "width": 0
          },
          "type": "rect",
          "x0": 5.6,
          "x1": 6.4,
          "y0": -17.4,
          "y1": -16.6
         },
         {
          "fillcolor": "rgb(0.946666666667,0.268235294118,0.196078431373)",
          "line": {
           "width": 0
          },
          "type": "rect",
          "x0": 6.6,
          "x1": 7.4,
          "y0": -17.4,
          "y1": -16.6
         },
         {
          "fillcolor": "rgb(0.946666666667,0.268235294118,0.196078431373)",
          "line": {
           "width": 0
          },
          "type": "rect",
          "x0": 7.6,
          "x1": 8.4,
          "y0": -17.4,
          "y1": -16.6
         },
         {
          "fillcolor": "rgb(0.946666666667,0.268235294118,0.196078431373)",
          "line": {
           "width": 0
          },
          "type": "rect",
          "x0": 8.6,
          "x1": 9.4,
          "y0": -17.4,
          "y1": -16.6
         },
         {
          "fillcolor": "rgb(0.946666666667,0.268235294118,0.196078431373)",
          "line": {
           "width": 0
          },
          "type": "rect",
          "x0": 9.6,
          "x1": 10.4,
          "y0": -17.4,
          "y1": -16.6
         },
         {
          "fillcolor": "rgb(0.946666666667,0.268235294118,0.196078431373)",
          "line": {
           "width": 0
          },
          "type": "rect",
          "x0": 10.6,
          "x1": 11.4,
          "y0": -17.4,
          "y1": -16.6
         },
         {
          "fillcolor": "rgb(0.946666666667,0.268235294118,0.196078431373)",
          "line": {
           "width": 0
          },
          "type": "rect",
          "x0": 11.6,
          "x1": 12.4,
          "y0": -17.4,
          "y1": -16.6
         },
         {
          "fillcolor": "rgb(0.946666666667,0.268235294118,0.196078431373)",
          "line": {
           "width": 0
          },
          "type": "rect",
          "x0": 12.6,
          "x1": 13.4,
          "y0": -17.4,
          "y1": -16.6
         },
         {
          "fillcolor": "rgb(0.946666666667,0.268235294118,0.196078431373)",
          "line": {
           "width": 0
          },
          "type": "rect",
          "x0": 13.6,
          "x1": 14.4,
          "y0": -17.4,
          "y1": -16.6
         },
         {
          "fillcolor": "rgb(0.946666666667,0.268235294118,0.196078431373)",
          "line": {
           "width": 0
          },
          "type": "rect",
          "x0": 14.6,
          "x1": 15.4,
          "y0": -17.4,
          "y1": -16.6
         },
         {
          "fillcolor": "rgb(0.946666666667,0.268235294118,0.196078431373)",
          "line": {
           "width": 0
          },
          "type": "rect",
          "x0": 15.6,
          "x1": 16.4,
          "y0": -17.4,
          "y1": -16.6
         },
         {
          "fillcolor": "rgb(0.946666666667,0.268235294118,0.196078431373)",
          "line": {
           "width": 0
          },
          "type": "rect",
          "x0": 16.6,
          "x1": 17.4,
          "y0": -17.4,
          "y1": -16.6
         },
         {
          "fillcolor": "rgb(0.290980392157,0.594509803922,0.789019607843)",
          "line": {
           "width": 0
          },
          "type": "rect",
          "x0": 17.6,
          "x1": 18.4,
          "y0": -17.4,
          "y1": -16.6
         },
         {
          "fillcolor": "rgb(0.946666666667,0.268235294118,0.196078431373)",
          "line": {
           "width": 0
          },
          "type": "rect",
          "x0": 18.6,
          "x1": 19.4,
          "y0": -17.4,
          "y1": -16.6
         },
         {
          "fillcolor": "rgb(0.946666666667,0.268235294118,0.196078431373)",
          "line": {
           "width": 0
          },
          "type": "rect",
          "x0": -0.4,
          "x1": 0.4,
          "y0": -18.4,
          "y1": -17.6
         },
         {
          "fillcolor": "rgb(0.4,0.4,0.4)",
          "line": {
           "width": 0
          },
          "type": "rect",
          "x0": 0.6,
          "x1": 1.4,
          "y0": -18.4,
          "y1": -17.6
         },
         {
          "fillcolor": "rgb(0.946666666667,0.268235294118,0.196078431373)",
          "line": {
           "width": 0
          },
          "type": "rect",
          "x0": 1.6,
          "x1": 2.4,
          "y0": -18.4,
          "y1": -17.6
         },
         {
          "fillcolor": "rgb(0.946666666667,0.268235294118,0.196078431373)",
          "line": {
           "width": 0
          },
          "type": "rect",
          "x0": 2.6,
          "x1": 3.4,
          "y0": -18.4,
          "y1": -17.6
         },
         {
          "fillcolor": "rgb(0.946666666667,0.268235294118,0.196078431373)",
          "line": {
           "width": 0
          },
          "type": "rect",
          "x0": 3.6,
          "x1": 4.4,
          "y0": -18.4,
          "y1": -17.6
         },
         {
          "fillcolor": "rgb(0.946666666667,0.268235294118,0.196078431373)",
          "line": {
           "width": 0
          },
          "type": "rect",
          "x0": 4.6,
          "x1": 5.4,
          "y0": -18.4,
          "y1": -17.6
         },
         {
          "fillcolor": "rgb(0.946666666667,0.268235294118,0.196078431373)",
          "line": {
           "width": 0
          },
          "type": "rect",
          "x0": 5.6,
          "x1": 6.4,
          "y0": -18.4,
          "y1": -17.6
         },
         {
          "fillcolor": "rgb(0.946666666667,0.268235294118,0.196078431373)",
          "line": {
           "width": 0
          },
          "type": "rect",
          "x0": 6.6,
          "x1": 7.4,
          "y0": -18.4,
          "y1": -17.6
         },
         {
          "fillcolor": "rgb(0.946666666667,0.268235294118,0.196078431373)",
          "line": {
           "width": 0
          },
          "type": "rect",
          "x0": 7.6,
          "x1": 8.4,
          "y0": -18.4,
          "y1": -17.6
         },
         {
          "fillcolor": "rgb(0.946666666667,0.268235294118,0.196078431373)",
          "line": {
           "width": 0
          },
          "type": "rect",
          "x0": 8.6,
          "x1": 9.4,
          "y0": -18.4,
          "y1": -17.6
         },
         {
          "fillcolor": "rgb(0.946666666667,0.268235294118,0.196078431373)",
          "line": {
           "width": 0
          },
          "type": "rect",
          "x0": 9.6,
          "x1": 10.4,
          "y0": -18.4,
          "y1": -17.6
         },
         {
          "fillcolor": "rgb(0.946666666667,0.268235294118,0.196078431373)",
          "line": {
           "width": 0
          },
          "type": "rect",
          "x0": 10.6,
          "x1": 11.4,
          "y0": -18.4,
          "y1": -17.6
         },
         {
          "fillcolor": "rgb(0.290980392157,0.594509803922,0.789019607843)",
          "line": {
           "width": 0
          },
          "type": "rect",
          "x0": 11.6,
          "x1": 12.4,
          "y0": -18.4,
          "y1": -17.6
         },
         {
          "fillcolor": "rgb(0.946666666667,0.268235294118,0.196078431373)",
          "line": {
           "width": 0
          },
          "type": "rect",
          "x0": 12.6,
          "x1": 13.4,
          "y0": -18.4,
          "y1": -17.6
         },
         {
          "fillcolor": "rgb(0.946666666667,0.268235294118,0.196078431373)",
          "line": {
           "width": 0
          },
          "type": "rect",
          "x0": 13.6,
          "x1": 14.4,
          "y0": -18.4,
          "y1": -17.6
         },
         {
          "fillcolor": "rgb(0.946666666667,0.268235294118,0.196078431373)",
          "line": {
           "width": 0
          },
          "type": "rect",
          "x0": 14.6,
          "x1": 15.4,
          "y0": -18.4,
          "y1": -17.6
         },
         {
          "fillcolor": "rgb(0.946666666667,0.268235294118,0.196078431373)",
          "line": {
           "width": 0
          },
          "type": "rect",
          "x0": 15.6,
          "x1": 16.4,
          "y0": -18.4,
          "y1": -17.6
         },
         {
          "fillcolor": "rgb(0.946666666667,0.268235294118,0.196078431373)",
          "line": {
           "width": 0
          },
          "type": "rect",
          "x0": 16.6,
          "x1": 17.4,
          "y0": -18.4,
          "y1": -17.6
         },
         {
          "fillcolor": "rgb(0.946666666667,0.268235294118,0.196078431373)",
          "line": {
           "width": 0
          },
          "type": "rect",
          "x0": 17.6,
          "x1": 18.4,
          "y0": -18.4,
          "y1": -17.6
         },
         {
          "fillcolor": "rgb(0.946666666667,0.268235294118,0.196078431373)",
          "line": {
           "width": 0
          },
          "type": "rect",
          "x0": 18.6,
          "x1": 19.4,
          "y0": -18.4,
          "y1": -17.6
         },
         {
          "fillcolor": "rgb(0.946666666667,0.268235294118,0.196078431373)",
          "line": {
           "width": 0
          },
          "type": "rect",
          "x0": -0.4,
          "x1": 0.4,
          "y0": -19.4,
          "y1": -18.6
         },
         {
          "fillcolor": "rgb(0.946666666667,0.268235294118,0.196078431373)",
          "line": {
           "width": 0
          },
          "type": "rect",
          "x0": 0.6,
          "x1": 1.4,
          "y0": -19.4,
          "y1": -18.6
         },
         {
          "fillcolor": "rgb(0.946666666667,0.268235294118,0.196078431373)",
          "line": {
           "width": 0
          },
          "type": "rect",
          "x0": 1.6,
          "x1": 2.4,
          "y0": -19.4,
          "y1": -18.6
         },
         {
          "fillcolor": "rgb(0.946666666667,0.268235294118,0.196078431373)",
          "line": {
           "width": 0
          },
          "type": "rect",
          "x0": 2.6,
          "x1": 3.4,
          "y0": -19.4,
          "y1": -18.6
         },
         {
          "fillcolor": "rgb(0.946666666667,0.268235294118,0.196078431373)",
          "line": {
           "width": 0
          },
          "type": "rect",
          "x0": 3.6,
          "x1": 4.4,
          "y0": -19.4,
          "y1": -18.6
         },
         {
          "fillcolor": "rgb(0.946666666667,0.268235294118,0.196078431373)",
          "line": {
           "width": 0
          },
          "type": "rect",
          "x0": 4.6,
          "x1": 5.4,
          "y0": -19.4,
          "y1": -18.6
         },
         {
          "fillcolor": "rgb(0.946666666667,0.268235294118,0.196078431373)",
          "line": {
           "width": 0
          },
          "type": "rect",
          "x0": 5.6,
          "x1": 6.4,
          "y0": -19.4,
          "y1": -18.6
         },
         {
          "fillcolor": "rgb(0.946666666667,0.268235294118,0.196078431373)",
          "line": {
           "width": 0
          },
          "type": "rect",
          "x0": 6.6,
          "x1": 7.4,
          "y0": -19.4,
          "y1": -18.6
         },
         {
          "fillcolor": "rgb(0.946666666667,0.268235294118,0.196078431373)",
          "line": {
           "width": 0
          },
          "type": "rect",
          "x0": 7.6,
          "x1": 8.4,
          "y0": -19.4,
          "y1": -18.6
         },
         {
          "fillcolor": "rgb(0.946666666667,0.268235294118,0.196078431373)",
          "line": {
           "width": 0
          },
          "type": "rect",
          "x0": 8.6,
          "x1": 9.4,
          "y0": -19.4,
          "y1": -18.6
         },
         {
          "fillcolor": "rgb(0.946666666667,0.268235294118,0.196078431373)",
          "line": {
           "width": 0
          },
          "type": "rect",
          "x0": 9.6,
          "x1": 10.4,
          "y0": -19.4,
          "y1": -18.6
         },
         {
          "fillcolor": "rgb(0.946666666667,0.268235294118,0.196078431373)",
          "line": {
           "width": 0
          },
          "type": "rect",
          "x0": 10.6,
          "x1": 11.4,
          "y0": -19.4,
          "y1": -18.6
         },
         {
          "fillcolor": "rgb(0.946666666667,0.268235294118,0.196078431373)",
          "line": {
           "width": 0
          },
          "type": "rect",
          "x0": 11.6,
          "x1": 12.4,
          "y0": -19.4,
          "y1": -18.6
         },
         {
          "fillcolor": "rgb(0.946666666667,0.268235294118,0.196078431373)",
          "line": {
           "width": 0
          },
          "type": "rect",
          "x0": 12.6,
          "x1": 13.4,
          "y0": -19.4,
          "y1": -18.6
         },
         {
          "fillcolor": "rgb(0.946666666667,0.268235294118,0.196078431373)",
          "line": {
           "width": 0
          },
          "type": "rect",
          "x0": 13.6,
          "x1": 14.4,
          "y0": -19.4,
          "y1": -18.6
         },
         {
          "fillcolor": "rgb(0.946666666667,0.268235294118,0.196078431373)",
          "line": {
           "width": 0
          },
          "type": "rect",
          "x0": 14.6,
          "x1": 15.4,
          "y0": -19.4,
          "y1": -18.6
         },
         {
          "fillcolor": "rgb(0.946666666667,0.268235294118,0.196078431373)",
          "line": {
           "width": 0
          },
          "type": "rect",
          "x0": 15.6,
          "x1": 16.4,
          "y0": -19.4,
          "y1": -18.6
         },
         {
          "fillcolor": "rgb(0.946666666667,0.268235294118,0.196078431373)",
          "line": {
           "width": 0
          },
          "type": "rect",
          "x0": 16.6,
          "x1": 17.4,
          "y0": -19.4,
          "y1": -18.6
         },
         {
          "fillcolor": "rgb(0.946666666667,0.268235294118,0.196078431373)",
          "line": {
           "width": 0
          },
          "type": "rect",
          "x0": 17.6,
          "x1": 18.4,
          "y0": -19.4,
          "y1": -18.6
         },
         {
          "fillcolor": "rgb(0.946666666667,0.268235294118,0.196078431373)",
          "line": {
           "width": 0
          },
          "type": "rect",
          "x0": 18.6,
          "x1": 19.4,
          "y0": -19.4,
          "y1": -18.6
         },
         {
          "fillcolor": "rgb(0.946666666667,0.268235294118,0.196078431373)",
          "line": {
           "width": 0
          },
          "type": "rect",
          "x0": -0.4,
          "x1": 0.4,
          "y0": -20.4,
          "y1": -19.6
         },
         {
          "fillcolor": "rgb(0.290980392157,0.594509803922,0.789019607843)",
          "line": {
           "width": 0
          },
          "type": "rect",
          "x0": 0.6,
          "x1": 1.4,
          "y0": -20.4,
          "y1": -19.6
         },
         {
          "fillcolor": "rgb(0.946666666667,0.268235294118,0.196078431373)",
          "line": {
           "width": 0
          },
          "type": "rect",
          "x0": 1.6,
          "x1": 2.4,
          "y0": -20.4,
          "y1": -19.6
         },
         {
          "fillcolor": "rgb(0.946666666667,0.268235294118,0.196078431373)",
          "line": {
           "width": 0
          },
          "type": "rect",
          "x0": 2.6,
          "x1": 3.4,
          "y0": -20.4,
          "y1": -19.6
         },
         {
          "fillcolor": "rgb(0.946666666667,0.268235294118,0.196078431373)",
          "line": {
           "width": 0
          },
          "type": "rect",
          "x0": 3.6,
          "x1": 4.4,
          "y0": -20.4,
          "y1": -19.6
         },
         {
          "fillcolor": "rgb(0.946666666667,0.268235294118,0.196078431373)",
          "line": {
           "width": 0
          },
          "type": "rect",
          "x0": 4.6,
          "x1": 5.4,
          "y0": -20.4,
          "y1": -19.6
         },
         {
          "fillcolor": "rgb(0.946666666667,0.268235294118,0.196078431373)",
          "line": {
           "width": 0
          },
          "type": "rect",
          "x0": 5.6,
          "x1": 6.4,
          "y0": -20.4,
          "y1": -19.6
         },
         {
          "fillcolor": "rgb(0.946666666667,0.268235294118,0.196078431373)",
          "line": {
           "width": 0
          },
          "type": "rect",
          "x0": 6.6,
          "x1": 7.4,
          "y0": -20.4,
          "y1": -19.6
         },
         {
          "fillcolor": "rgb(0.946666666667,0.268235294118,0.196078431373)",
          "line": {
           "width": 0
          },
          "type": "rect",
          "x0": 7.6,
          "x1": 8.4,
          "y0": -20.4,
          "y1": -19.6
         },
         {
          "fillcolor": "rgb(0.290980392157,0.594509803922,0.789019607843)",
          "line": {
           "width": 0
          },
          "type": "rect",
          "x0": 8.6,
          "x1": 9.4,
          "y0": -20.4,
          "y1": -19.6
         },
         {
          "fillcolor": "rgb(0.946666666667,0.268235294118,0.196078431373)",
          "line": {
           "width": 0
          },
          "type": "rect",
          "x0": 9.6,
          "x1": 10.4,
          "y0": -20.4,
          "y1": -19.6
         },
         {
          "fillcolor": "rgb(0.946666666667,0.268235294118,0.196078431373)",
          "line": {
           "width": 0
          },
          "type": "rect",
          "x0": 10.6,
          "x1": 11.4,
          "y0": -20.4,
          "y1": -19.6
         },
         {
          "fillcolor": "rgb(0.946666666667,0.268235294118,0.196078431373)",
          "line": {
           "width": 0
          },
          "type": "rect",
          "x0": 11.6,
          "x1": 12.4,
          "y0": -20.4,
          "y1": -19.6
         },
         {
          "fillcolor": "rgb(0.946666666667,0.268235294118,0.196078431373)",
          "line": {
           "width": 0
          },
          "type": "rect",
          "x0": 12.6,
          "x1": 13.4,
          "y0": -20.4,
          "y1": -19.6
         },
         {
          "fillcolor": "rgb(0.946666666667,0.268235294118,0.196078431373)",
          "line": {
           "width": 0
          },
          "type": "rect",
          "x0": 13.6,
          "x1": 14.4,
          "y0": -20.4,
          "y1": -19.6
         },
         {
          "fillcolor": "rgb(0.946666666667,0.268235294118,0.196078431373)",
          "line": {
           "width": 0
          },
          "type": "rect",
          "x0": 14.6,
          "x1": 15.4,
          "y0": -20.4,
          "y1": -19.6
         },
         {
          "fillcolor": "rgb(0.946666666667,0.268235294118,0.196078431373)",
          "line": {
           "width": 0
          },
          "type": "rect",
          "x0": 15.6,
          "x1": 16.4,
          "y0": -20.4,
          "y1": -19.6
         },
         {
          "fillcolor": "rgb(0.946666666667,0.268235294118,0.196078431373)",
          "line": {
           "width": 0
          },
          "type": "rect",
          "x0": 16.6,
          "x1": 17.4,
          "y0": -20.4,
          "y1": -19.6
         },
         {
          "fillcolor": "rgb(0.290980392157,0.594509803922,0.789019607843)",
          "line": {
           "width": 0
          },
          "type": "rect",
          "x0": 17.6,
          "x1": 18.4,
          "y0": -20.4,
          "y1": -19.6
         },
         {
          "fillcolor": "rgb(0.946666666667,0.268235294118,0.196078431373)",
          "line": {
           "width": 0
          },
          "type": "rect",
          "x0": 18.6,
          "x1": 19.4,
          "y0": -20.4,
          "y1": -19.6
         },
         {
          "fillcolor": "rgb(0.946666666667,0.268235294118,0.196078431373)",
          "line": {
           "width": 0
          },
          "type": "rect",
          "x0": -0.4,
          "x1": 0.4,
          "y0": -21.4,
          "y1": -20.6
         },
         {
          "fillcolor": "rgb(0.946666666667,0.268235294118,0.196078431373)",
          "line": {
           "width": 0
          },
          "type": "rect",
          "x0": 0.6,
          "x1": 1.4,
          "y0": -21.4,
          "y1": -20.6
         },
         {
          "fillcolor": "rgb(0.946666666667,0.268235294118,0.196078431373)",
          "line": {
           "width": 0
          },
          "type": "rect",
          "x0": 1.6,
          "x1": 2.4,
          "y0": -21.4,
          "y1": -20.6
         },
         {
          "fillcolor": "rgb(0.946666666667,0.268235294118,0.196078431373)",
          "line": {
           "width": 0
          },
          "type": "rect",
          "x0": 2.6,
          "x1": 3.4,
          "y0": -21.4,
          "y1": -20.6
         },
         {
          "fillcolor": "rgb(0.946666666667,0.268235294118,0.196078431373)",
          "line": {
           "width": 0
          },
          "type": "rect",
          "x0": 3.6,
          "x1": 4.4,
          "y0": -21.4,
          "y1": -20.6
         },
         {
          "fillcolor": "rgb(0.946666666667,0.268235294118,0.196078431373)",
          "line": {
           "width": 0
          },
          "type": "rect",
          "x0": 4.6,
          "x1": 5.4,
          "y0": -21.4,
          "y1": -20.6
         },
         {
          "fillcolor": "rgb(0.946666666667,0.268235294118,0.196078431373)",
          "line": {
           "width": 0
          },
          "type": "rect",
          "x0": 5.6,
          "x1": 6.4,
          "y0": -21.4,
          "y1": -20.6
         },
         {
          "fillcolor": "rgb(0.946666666667,0.268235294118,0.196078431373)",
          "line": {
           "width": 0
          },
          "type": "rect",
          "x0": 6.6,
          "x1": 7.4,
          "y0": -21.4,
          "y1": -20.6
         },
         {
          "fillcolor": "rgb(0.946666666667,0.268235294118,0.196078431373)",
          "line": {
           "width": 0
          },
          "type": "rect",
          "x0": 7.6,
          "x1": 8.4,
          "y0": -21.4,
          "y1": -20.6
         },
         {
          "fillcolor": "rgb(0.946666666667,0.268235294118,0.196078431373)",
          "line": {
           "width": 0
          },
          "type": "rect",
          "x0": 8.6,
          "x1": 9.4,
          "y0": -21.4,
          "y1": -20.6
         },
         {
          "fillcolor": "rgb(0.946666666667,0.268235294118,0.196078431373)",
          "line": {
           "width": 0
          },
          "type": "rect",
          "x0": 9.6,
          "x1": 10.4,
          "y0": -21.4,
          "y1": -20.6
         },
         {
          "fillcolor": "rgb(0.946666666667,0.268235294118,0.196078431373)",
          "line": {
           "width": 0
          },
          "type": "rect",
          "x0": 10.6,
          "x1": 11.4,
          "y0": -21.4,
          "y1": -20.6
         },
         {
          "fillcolor": "rgb(0.946666666667,0.268235294118,0.196078431373)",
          "line": {
           "width": 0
          },
          "type": "rect",
          "x0": 11.6,
          "x1": 12.4,
          "y0": -21.4,
          "y1": -20.6
         },
         {
          "fillcolor": "rgb(0.946666666667,0.268235294118,0.196078431373)",
          "line": {
           "width": 0
          },
          "type": "rect",
          "x0": 12.6,
          "x1": 13.4,
          "y0": -21.4,
          "y1": -20.6
         },
         {
          "fillcolor": "rgb(0.946666666667,0.268235294118,0.196078431373)",
          "line": {
           "width": 0
          },
          "type": "rect",
          "x0": 13.6,
          "x1": 14.4,
          "y0": -21.4,
          "y1": -20.6
         },
         {
          "fillcolor": "rgb(0.946666666667,0.268235294118,0.196078431373)",
          "line": {
           "width": 0
          },
          "type": "rect",
          "x0": 14.6,
          "x1": 15.4,
          "y0": -21.4,
          "y1": -20.6
         },
         {
          "fillcolor": "rgb(0.946666666667,0.268235294118,0.196078431373)",
          "line": {
           "width": 0
          },
          "type": "rect",
          "x0": 15.6,
          "x1": 16.4,
          "y0": -21.4,
          "y1": -20.6
         },
         {
          "fillcolor": "rgb(0.946666666667,0.268235294118,0.196078431373)",
          "line": {
           "width": 0
          },
          "type": "rect",
          "x0": 16.6,
          "x1": 17.4,
          "y0": -21.4,
          "y1": -20.6
         },
         {
          "fillcolor": "rgb(0.946666666667,0.268235294118,0.196078431373)",
          "line": {
           "width": 0
          },
          "type": "rect",
          "x0": 17.6,
          "x1": 18.4,
          "y0": -21.4,
          "y1": -20.6
         },
         {
          "fillcolor": "rgb(0.290980392157,0.594509803922,0.789019607843)",
          "line": {
           "width": 0
          },
          "type": "rect",
          "x0": 18.6,
          "x1": 19.4,
          "y0": -21.4,
          "y1": -20.6
         },
         {
          "fillcolor": "rgb(0.946666666667,0.268235294118,0.196078431373)",
          "line": {
           "width": 0
          },
          "type": "rect",
          "x0": -0.4,
          "x1": 0.4,
          "y0": -22.4,
          "y1": -21.6
         },
         {
          "fillcolor": "rgb(0.946666666667,0.268235294118,0.196078431373)",
          "line": {
           "width": 0
          },
          "type": "rect",
          "x0": 0.6,
          "x1": 1.4,
          "y0": -22.4,
          "y1": -21.6
         },
         {
          "fillcolor": "rgb(0.946666666667,0.268235294118,0.196078431373)",
          "line": {
           "width": 0
          },
          "type": "rect",
          "x0": 1.6,
          "x1": 2.4,
          "y0": -22.4,
          "y1": -21.6
         },
         {
          "fillcolor": "rgb(0.946666666667,0.268235294118,0.196078431373)",
          "line": {
           "width": 0
          },
          "type": "rect",
          "x0": 2.6,
          "x1": 3.4,
          "y0": -22.4,
          "y1": -21.6
         },
         {
          "fillcolor": "rgb(0.946666666667,0.268235294118,0.196078431373)",
          "line": {
           "width": 0
          },
          "type": "rect",
          "x0": 3.6,
          "x1": 4.4,
          "y0": -22.4,
          "y1": -21.6
         },
         {
          "fillcolor": "rgb(0.946666666667,0.268235294118,0.196078431373)",
          "line": {
           "width": 0
          },
          "type": "rect",
          "x0": 4.6,
          "x1": 5.4,
          "y0": -22.4,
          "y1": -21.6
         },
         {
          "fillcolor": "rgb(0.946666666667,0.268235294118,0.196078431373)",
          "line": {
           "width": 0
          },
          "type": "rect",
          "x0": 5.6,
          "x1": 6.4,
          "y0": -22.4,
          "y1": -21.6
         },
         {
          "fillcolor": "rgb(0.946666666667,0.268235294118,0.196078431373)",
          "line": {
           "width": 0
          },
          "type": "rect",
          "x0": 6.6,
          "x1": 7.4,
          "y0": -22.4,
          "y1": -21.6
         },
         {
          "fillcolor": "rgb(0.946666666667,0.268235294118,0.196078431373)",
          "line": {
           "width": 0
          },
          "type": "rect",
          "x0": 7.6,
          "x1": 8.4,
          "y0": -22.4,
          "y1": -21.6
         },
         {
          "fillcolor": "rgb(0.290980392157,0.594509803922,0.789019607843)",
          "line": {
           "width": 0
          },
          "type": "rect",
          "x0": 8.6,
          "x1": 9.4,
          "y0": -22.4,
          "y1": -21.6
         },
         {
          "fillcolor": "rgb(0.946666666667,0.268235294118,0.196078431373)",
          "line": {
           "width": 0
          },
          "type": "rect",
          "x0": 9.6,
          "x1": 10.4,
          "y0": -22.4,
          "y1": -21.6
         },
         {
          "fillcolor": "rgb(0.290980392157,0.594509803922,0.789019607843)",
          "line": {
           "width": 0
          },
          "type": "rect",
          "x0": 10.6,
          "x1": 11.4,
          "y0": -22.4,
          "y1": -21.6
         },
         {
          "fillcolor": "rgb(0.946666666667,0.268235294118,0.196078431373)",
          "line": {
           "width": 0
          },
          "type": "rect",
          "x0": 11.6,
          "x1": 12.4,
          "y0": -22.4,
          "y1": -21.6
         },
         {
          "fillcolor": "rgb(0.946666666667,0.268235294118,0.196078431373)",
          "line": {
           "width": 0
          },
          "type": "rect",
          "x0": 12.6,
          "x1": 13.4,
          "y0": -22.4,
          "y1": -21.6
         },
         {
          "fillcolor": "rgb(0.946666666667,0.268235294118,0.196078431373)",
          "line": {
           "width": 0
          },
          "type": "rect",
          "x0": 13.6,
          "x1": 14.4,
          "y0": -22.4,
          "y1": -21.6
         },
         {
          "fillcolor": "rgb(0.946666666667,0.268235294118,0.196078431373)",
          "line": {
           "width": 0
          },
          "type": "rect",
          "x0": 14.6,
          "x1": 15.4,
          "y0": -22.4,
          "y1": -21.6
         },
         {
          "fillcolor": "rgb(0.946666666667,0.268235294118,0.196078431373)",
          "line": {
           "width": 0
          },
          "type": "rect",
          "x0": 15.6,
          "x1": 16.4,
          "y0": -22.4,
          "y1": -21.6
         },
         {
          "fillcolor": "rgb(0.946666666667,0.268235294118,0.196078431373)",
          "line": {
           "width": 0
          },
          "type": "rect",
          "x0": 16.6,
          "x1": 17.4,
          "y0": -22.4,
          "y1": -21.6
         },
         {
          "fillcolor": "rgb(0.946666666667,0.268235294118,0.196078431373)",
          "line": {
           "width": 0
          },
          "type": "rect",
          "x0": 17.6,
          "x1": 18.4,
          "y0": -22.4,
          "y1": -21.6
         },
         {
          "fillcolor": "rgb(0.946666666667,0.268235294118,0.196078431373)",
          "line": {
           "width": 0
          },
          "type": "rect",
          "x0": 18.6,
          "x1": 19.4,
          "y0": -22.4,
          "y1": -21.6
         },
         {
          "fillcolor": "rgb(0.946666666667,0.268235294118,0.196078431373)",
          "line": {
           "width": 0
          },
          "type": "rect",
          "x0": -0.4,
          "x1": 0.4,
          "y0": -23.4,
          "y1": -22.6
         },
         {
          "fillcolor": "rgb(0.946666666667,0.268235294118,0.196078431373)",
          "line": {
           "width": 0
          },
          "type": "rect",
          "x0": 0.6,
          "x1": 1.4,
          "y0": -23.4,
          "y1": -22.6
         },
         {
          "fillcolor": "rgb(0.946666666667,0.268235294118,0.196078431373)",
          "line": {
           "width": 0
          },
          "type": "rect",
          "x0": 1.6,
          "x1": 2.4,
          "y0": -23.4,
          "y1": -22.6
         },
         {
          "fillcolor": "rgb(0.946666666667,0.268235294118,0.196078431373)",
          "line": {
           "width": 0
          },
          "type": "rect",
          "x0": 2.6,
          "x1": 3.4,
          "y0": -23.4,
          "y1": -22.6
         },
         {
          "fillcolor": "rgb(0.946666666667,0.268235294118,0.196078431373)",
          "line": {
           "width": 0
          },
          "type": "rect",
          "x0": 3.6,
          "x1": 4.4,
          "y0": -23.4,
          "y1": -22.6
         },
         {
          "fillcolor": "rgb(0.946666666667,0.268235294118,0.196078431373)",
          "line": {
           "width": 0
          },
          "type": "rect",
          "x0": 4.6,
          "x1": 5.4,
          "y0": -23.4,
          "y1": -22.6
         },
         {
          "fillcolor": "rgb(0.946666666667,0.268235294118,0.196078431373)",
          "line": {
           "width": 0
          },
          "type": "rect",
          "x0": 5.6,
          "x1": 6.4,
          "y0": -23.4,
          "y1": -22.6
         },
         {
          "fillcolor": "rgb(0.946666666667,0.268235294118,0.196078431373)",
          "line": {
           "width": 0
          },
          "type": "rect",
          "x0": 6.6,
          "x1": 7.4,
          "y0": -23.4,
          "y1": -22.6
         },
         {
          "fillcolor": "rgb(0.290980392157,0.594509803922,0.789019607843)",
          "line": {
           "width": 0
          },
          "type": "rect",
          "x0": 7.6,
          "x1": 8.4,
          "y0": -23.4,
          "y1": -22.6
         },
         {
          "fillcolor": "rgb(0.946666666667,0.268235294118,0.196078431373)",
          "line": {
           "width": 0
          },
          "type": "rect",
          "x0": 8.6,
          "x1": 9.4,
          "y0": -23.4,
          "y1": -22.6
         },
         {
          "fillcolor": "rgb(0.946666666667,0.268235294118,0.196078431373)",
          "line": {
           "width": 0
          },
          "type": "rect",
          "x0": 9.6,
          "x1": 10.4,
          "y0": -23.4,
          "y1": -22.6
         },
         {
          "fillcolor": "rgb(0.946666666667,0.268235294118,0.196078431373)",
          "line": {
           "width": 0
          },
          "type": "rect",
          "x0": 10.6,
          "x1": 11.4,
          "y0": -23.4,
          "y1": -22.6
         },
         {
          "fillcolor": "rgb(0.946666666667,0.268235294118,0.196078431373)",
          "line": {
           "width": 0
          },
          "type": "rect",
          "x0": 11.6,
          "x1": 12.4,
          "y0": -23.4,
          "y1": -22.6
         },
         {
          "fillcolor": "rgb(255,165,0)",
          "line": {
           "width": 0
          },
          "type": "rect",
          "x0": 12.6,
          "x1": 13.4,
          "y0": -23.4,
          "y1": -22.6
         },
         {
          "fillcolor": "rgb(0.946666666667,0.268235294118,0.196078431373)",
          "line": {
           "width": 0
          },
          "type": "rect",
          "x0": 13.6,
          "x1": 14.4,
          "y0": -23.4,
          "y1": -22.6
         },
         {
          "fillcolor": "rgb(0.946666666667,0.268235294118,0.196078431373)",
          "line": {
           "width": 0
          },
          "type": "rect",
          "x0": 14.6,
          "x1": 15.4,
          "y0": -23.4,
          "y1": -22.6
         },
         {
          "fillcolor": "rgb(0.946666666667,0.268235294118,0.196078431373)",
          "line": {
           "width": 0
          },
          "type": "rect",
          "x0": 15.6,
          "x1": 16.4,
          "y0": -23.4,
          "y1": -22.6
         },
         {
          "fillcolor": "rgb(0.946666666667,0.268235294118,0.196078431373)",
          "line": {
           "width": 0
          },
          "type": "rect",
          "x0": 16.6,
          "x1": 17.4,
          "y0": -23.4,
          "y1": -22.6
         },
         {
          "fillcolor": "rgb(0.946666666667,0.268235294118,0.196078431373)",
          "line": {
           "width": 0
          },
          "type": "rect",
          "x0": 17.6,
          "x1": 18.4,
          "y0": -23.4,
          "y1": -22.6
         },
         {
          "fillcolor": "rgb(0.946666666667,0.268235294118,0.196078431373)",
          "line": {
           "width": 0
          },
          "type": "rect",
          "x0": 18.6,
          "x1": 19.4,
          "y0": -23.4,
          "y1": -22.6
         },
         {
          "fillcolor": "rgb(0.946666666667,0.268235294118,0.196078431373)",
          "line": {
           "width": 0
          },
          "type": "rect",
          "x0": -0.4,
          "x1": 0.4,
          "y0": -24.4,
          "y1": -23.6
         },
         {
          "fillcolor": "rgb(0.946666666667,0.268235294118,0.196078431373)",
          "line": {
           "width": 0
          },
          "type": "rect",
          "x0": 0.6,
          "x1": 1.4,
          "y0": -24.4,
          "y1": -23.6
         },
         {
          "fillcolor": "rgb(0.946666666667,0.268235294118,0.196078431373)",
          "line": {
           "width": 0
          },
          "type": "rect",
          "x0": 1.6,
          "x1": 2.4,
          "y0": -24.4,
          "y1": -23.6
         },
         {
          "fillcolor": "rgb(0.946666666667,0.268235294118,0.196078431373)",
          "line": {
           "width": 0
          },
          "type": "rect",
          "x0": 2.6,
          "x1": 3.4,
          "y0": -24.4,
          "y1": -23.6
         },
         {
          "fillcolor": "rgb(0.946666666667,0.268235294118,0.196078431373)",
          "line": {
           "width": 0
          },
          "type": "rect",
          "x0": 3.6,
          "x1": 4.4,
          "y0": -24.4,
          "y1": -23.6
         },
         {
          "fillcolor": "rgb(0.946666666667,0.268235294118,0.196078431373)",
          "line": {
           "width": 0
          },
          "type": "rect",
          "x0": 4.6,
          "x1": 5.4,
          "y0": -24.4,
          "y1": -23.6
         },
         {
          "fillcolor": "rgb(0.946666666667,0.268235294118,0.196078431373)",
          "line": {
           "width": 0
          },
          "type": "rect",
          "x0": 5.6,
          "x1": 6.4,
          "y0": -24.4,
          "y1": -23.6
         },
         {
          "fillcolor": "rgb(0.946666666667,0.268235294118,0.196078431373)",
          "line": {
           "width": 0
          },
          "type": "rect",
          "x0": 6.6,
          "x1": 7.4,
          "y0": -24.4,
          "y1": -23.6
         },
         {
          "fillcolor": "rgb(0.946666666667,0.268235294118,0.196078431373)",
          "line": {
           "width": 0
          },
          "type": "rect",
          "x0": 7.6,
          "x1": 8.4,
          "y0": -24.4,
          "y1": -23.6
         },
         {
          "fillcolor": "rgb(0.946666666667,0.268235294118,0.196078431373)",
          "line": {
           "width": 0
          },
          "type": "rect",
          "x0": 8.6,
          "x1": 9.4,
          "y0": -24.4,
          "y1": -23.6
         },
         {
          "fillcolor": "rgb(0.290980392157,0.594509803922,0.789019607843)",
          "line": {
           "width": 0
          },
          "type": "rect",
          "x0": 9.6,
          "x1": 10.4,
          "y0": -24.4,
          "y1": -23.6
         },
         {
          "fillcolor": "rgb(0.946666666667,0.268235294118,0.196078431373)",
          "line": {
           "width": 0
          },
          "type": "rect",
          "x0": 10.6,
          "x1": 11.4,
          "y0": -24.4,
          "y1": -23.6
         },
         {
          "fillcolor": "rgb(0.946666666667,0.268235294118,0.196078431373)",
          "line": {
           "width": 0
          },
          "type": "rect",
          "x0": 11.6,
          "x1": 12.4,
          "y0": -24.4,
          "y1": -23.6
         },
         {
          "fillcolor": "rgb(0.946666666667,0.268235294118,0.196078431373)",
          "line": {
           "width": 0
          },
          "type": "rect",
          "x0": 12.6,
          "x1": 13.4,
          "y0": -24.4,
          "y1": -23.6
         },
         {
          "fillcolor": "rgb(0.946666666667,0.268235294118,0.196078431373)",
          "line": {
           "width": 0
          },
          "type": "rect",
          "x0": 13.6,
          "x1": 14.4,
          "y0": -24.4,
          "y1": -23.6
         },
         {
          "fillcolor": "rgb(0.946666666667,0.268235294118,0.196078431373)",
          "line": {
           "width": 0
          },
          "type": "rect",
          "x0": 14.6,
          "x1": 15.4,
          "y0": -24.4,
          "y1": -23.6
         },
         {
          "fillcolor": "rgb(0.946666666667,0.268235294118,0.196078431373)",
          "line": {
           "width": 0
          },
          "type": "rect",
          "x0": 15.6,
          "x1": 16.4,
          "y0": -24.4,
          "y1": -23.6
         },
         {
          "fillcolor": "rgb(0.290980392157,0.594509803922,0.789019607843)",
          "line": {
           "width": 0
          },
          "type": "rect",
          "x0": 16.6,
          "x1": 17.4,
          "y0": -24.4,
          "y1": -23.6
         },
         {
          "fillcolor": "rgb(0.946666666667,0.268235294118,0.196078431373)",
          "line": {
           "width": 0
          },
          "type": "rect",
          "x0": 17.6,
          "x1": 18.4,
          "y0": -24.4,
          "y1": -23.6
         },
         {
          "fillcolor": "rgb(0.946666666667,0.268235294118,0.196078431373)",
          "line": {
           "width": 0
          },
          "type": "rect",
          "x0": 18.6,
          "x1": 19.4,
          "y0": -24.4,
          "y1": -23.6
         },
         {
          "fillcolor": "rgb(0.290980392157,0.594509803922,0.789019607843)",
          "line": {
           "width": 0
          },
          "type": "rect",
          "x0": -0.4,
          "x1": 0.4,
          "y0": -25.4,
          "y1": -24.6
         },
         {
          "fillcolor": "rgb(0.946666666667,0.268235294118,0.196078431373)",
          "line": {
           "width": 0
          },
          "type": "rect",
          "x0": 0.6,
          "x1": 1.4,
          "y0": -25.4,
          "y1": -24.6
         },
         {
          "fillcolor": "rgb(0.946666666667,0.268235294118,0.196078431373)",
          "line": {
           "width": 0
          },
          "type": "rect",
          "x0": 1.6,
          "x1": 2.4,
          "y0": -25.4,
          "y1": -24.6
         },
         {
          "fillcolor": "rgb(0.946666666667,0.268235294118,0.196078431373)",
          "line": {
           "width": 0
          },
          "type": "rect",
          "x0": 2.6,
          "x1": 3.4,
          "y0": -25.4,
          "y1": -24.6
         },
         {
          "fillcolor": "rgb(0.946666666667,0.268235294118,0.196078431373)",
          "line": {
           "width": 0
          },
          "type": "rect",
          "x0": 3.6,
          "x1": 4.4,
          "y0": -25.4,
          "y1": -24.6
         },
         {
          "fillcolor": "rgb(0.946666666667,0.268235294118,0.196078431373)",
          "line": {
           "width": 0
          },
          "type": "rect",
          "x0": 4.6,
          "x1": 5.4,
          "y0": -25.4,
          "y1": -24.6
         },
         {
          "fillcolor": "rgb(0.946666666667,0.268235294118,0.196078431373)",
          "line": {
           "width": 0
          },
          "type": "rect",
          "x0": 5.6,
          "x1": 6.4,
          "y0": -25.4,
          "y1": -24.6
         },
         {
          "fillcolor": "rgb(0.946666666667,0.268235294118,0.196078431373)",
          "line": {
           "width": 0
          },
          "type": "rect",
          "x0": 6.6,
          "x1": 7.4,
          "y0": -25.4,
          "y1": -24.6
         },
         {
          "fillcolor": "rgb(0.946666666667,0.268235294118,0.196078431373)",
          "line": {
           "width": 0
          },
          "type": "rect",
          "x0": 7.6,
          "x1": 8.4,
          "y0": -25.4,
          "y1": -24.6
         },
         {
          "fillcolor": "rgb(0.946666666667,0.268235294118,0.196078431373)",
          "line": {
           "width": 0
          },
          "type": "rect",
          "x0": 8.6,
          "x1": 9.4,
          "y0": -25.4,
          "y1": -24.6
         },
         {
          "fillcolor": "rgb(0.946666666667,0.268235294118,0.196078431373)",
          "line": {
           "width": 0
          },
          "type": "rect",
          "x0": 9.6,
          "x1": 10.4,
          "y0": -25.4,
          "y1": -24.6
         },
         {
          "fillcolor": "rgb(0.946666666667,0.268235294118,0.196078431373)",
          "line": {
           "width": 0
          },
          "type": "rect",
          "x0": 10.6,
          "x1": 11.4,
          "y0": -25.4,
          "y1": -24.6
         },
         {
          "fillcolor": "rgb(0.290980392157,0.594509803922,0.789019607843)",
          "line": {
           "width": 0
          },
          "type": "rect",
          "x0": 11.6,
          "x1": 12.4,
          "y0": -25.4,
          "y1": -24.6
         },
         {
          "fillcolor": "rgb(0.946666666667,0.268235294118,0.196078431373)",
          "line": {
           "width": 0
          },
          "type": "rect",
          "x0": 12.6,
          "x1": 13.4,
          "y0": -25.4,
          "y1": -24.6
         },
         {
          "fillcolor": "rgb(0.946666666667,0.268235294118,0.196078431373)",
          "line": {
           "width": 0
          },
          "type": "rect",
          "x0": 13.6,
          "x1": 14.4,
          "y0": -25.4,
          "y1": -24.6
         },
         {
          "fillcolor": "rgb(0.946666666667,0.268235294118,0.196078431373)",
          "line": {
           "width": 0
          },
          "type": "rect",
          "x0": 14.6,
          "x1": 15.4,
          "y0": -25.4,
          "y1": -24.6
         },
         {
          "fillcolor": "rgb(0.946666666667,0.268235294118,0.196078431373)",
          "line": {
           "width": 0
          },
          "type": "rect",
          "x0": 15.6,
          "x1": 16.4,
          "y0": -25.4,
          "y1": -24.6
         },
         {
          "fillcolor": "rgb(0.946666666667,0.268235294118,0.196078431373)",
          "line": {
           "width": 0
          },
          "type": "rect",
          "x0": 16.6,
          "x1": 17.4,
          "y0": -25.4,
          "y1": -24.6
         },
         {
          "fillcolor": "rgb(0.946666666667,0.268235294118,0.196078431373)",
          "line": {
           "width": 0
          },
          "type": "rect",
          "x0": 17.6,
          "x1": 18.4,
          "y0": -25.4,
          "y1": -24.6
         },
         {
          "fillcolor": "rgb(0.946666666667,0.268235294118,0.196078431373)",
          "line": {
           "width": 0
          },
          "type": "rect",
          "x0": 18.6,
          "x1": 19.4,
          "y0": -25.4,
          "y1": -24.6
         },
         {
          "fillcolor": "rgb(0.946666666667,0.268235294118,0.196078431373)",
          "line": {
           "width": 0
          },
          "type": "rect",
          "x0": -0.4,
          "x1": 0.4,
          "y0": -26.4,
          "y1": -25.6
         },
         {
          "fillcolor": "rgb(0.946666666667,0.268235294118,0.196078431373)",
          "line": {
           "width": 0
          },
          "type": "rect",
          "x0": 0.6,
          "x1": 1.4,
          "y0": -26.4,
          "y1": -25.6
         },
         {
          "fillcolor": "rgb(0.946666666667,0.268235294118,0.196078431373)",
          "line": {
           "width": 0
          },
          "type": "rect",
          "x0": 1.6,
          "x1": 2.4,
          "y0": -26.4,
          "y1": -25.6
         }
        ],
        "showlegend": false,
        "xaxis": {
         "showgrid": false,
         "showticklabels": false,
         "zeroline": false
        },
        "yaxis": {
         "showgrid": false,
         "showticklabels": false,
         "zeroline": false
        }
       }
      },
      "text/html": [
       "<div id=\"7eec153f-1be0-4a78-b2e7-e9365afd034e\" style=\"height: 1300px; width: 100%;\" class=\"plotly-graph-div\"></div><script type=\"text/javascript\">require([\"plotly\"], function(Plotly) { window.PLOTLYENV=window.PLOTLYENV || {};window.PLOTLYENV.BASE_URL=\"https://plot.ly\";Plotly.newPlot(\"7eec153f-1be0-4a78-b2e7-e9365afd034e\", [{\"text\": [\"<b>Richard Durbin (D-IL)</b><br><i>@SenatorDurbin</i><br><b>12.57% (408 / 3247)</b>\", \"<b>Jimmy Gomez (D-CA)</b><br><i>@RepJimmyGomez</i><br><b>10.17% (66 / 649)</b>\", \"<b>Adriano Espaillat (D-NY)</b><br><i>@RepEspaillat</i><br><b>9.82% (314 / 3197)</b>\", \"<b>Catherine Cortez Masto (D-NV)</b><br><i>@sencortezmasto</i><br><b>9.53% (227 / 2382)</b>\", \"<b>J. Correa (D-CA)</b><br><i>@RepLouCorrea</i><br><b>8.30% (20 / 241)</b>\", \"<b>Vicente Gonzalez (D-TX)</b><br><i>@RepGonzalez</i><br><b>7.57% (29 / 383)</b>\", \"<b>Nanette Barrag\\u00e1n (D-CA)</b><br><i>@RepBarragan</i><br><b>7.15% (121 / 1693)</b>\", \"<b>Steny Hoyer (D-MD)</b><br><i>@WhipHoyer</i><br><b>7.11% (229 / 3220)</b>\", \"<b>Robert Menendez (D-NJ)</b><br><i>@SenatorMenendez</i><br><b>6.51% (211 / 3241)</b>\", \"<b>Pramila Jayapal (D-WA)</b><br><i>@RepJayapal</i><br><b>6.51% (209 / 3212)</b>\", \"<b>Ruben Kihuen (D-NV)</b><br><i>@RepKihuen</i><br><b>6.02% (141 / 2343)</b>\", \"<b>Juan Vargas (D-CA)</b><br><i>@RepJuanVargas</i><br><b>5.33% (90 / 1690)</b>\", \"<b>Lucille Roybal-Allard (D-CA)</b><br><i>@RepRoybalAllard</i><br><b>4.97% (159 / 3200)</b>\", \"<b>Jacky Rosen (D-NV)</b><br><i>@RepJackyRosen</i><br><b>4.88% (73 / 1495)</b>\", \"<b>Martin Heinrich (D-NM)</b><br><i>@MartinHeinrich</i><br><b>4.75% (153 / 3218)</b>\", \"<b>Ruben Gallego (D-AZ)</b><br><i>@RepRubenGallego</i><br><b>4.17% (133 / 3187)</b>\", \"<b>Darren Soto (D-FL)</b><br><i>@RepDarrenSoto</i><br><b>4.07% (47 / 1155)</b>\", \"<b>Joaqu\\u00edn Castro (D-TX)</b><br><i>@JoaquinCastrotx</i><br><b>4.05% (130 / 3208)</b>\", \"<b>Pete Aguilar (D-CA)</b><br><i>@reppeteaguilar</i><br><b>3.81% (47 / 1235)</b>\", \"<b>Joseph Crowley (D-NY)</b><br><i>@RepJoeCrowley</i><br><b>3.80% (122 / 3211)</b>\", \"<b>Kamala Harris (D-CA)</b><br><i>@SenKamalaHarris</i><br><b>3.80% (64 / 1685)</b>\", \"<b>Salud Carbajal (D-CA)</b><br><i>@RepCarbajal</i><br><b>3.59% (22 / 612)</b>\", \"<b>Nancy Pelosi (D-CA)</b><br><i>@NancyPelosi</i><br><b>3.58% (116 / 3239)</b>\", \"<b>Jimmy Panetta (D-CA)</b><br><i>@RepJimmyPanetta</i><br><b>3.58% (33 / 923)</b>\", \"<b>Nydia Vel\\u00e1zquez (D-NY)</b><br><i>@NydiaVelazquez</i><br><b>3.46% (112 / 3241)</b>\", \"<b>Dianne Feinstein (D-CA)</b><br><i>@SenFeinstein</i><br><b>3.39% (110 / 3241)</b>\", \"<b>Michelle Lujan Grisham (D-NM)</b><br><i>@RepLujanGrisham</i><br><b>3.31% (107 / 3236)</b>\", \"<b>Ra\\u00fal Grijalva (D-AZ)</b><br><i>@RepraulGrijalva</i><br><b>3.30% (107 / 3241)</b>\", \"<b>Donald Beyer (D-VA)</b><br><i>@repdonbeyer</i><br><b>3.23% (104 / 3220)</b>\", \"<b>Grace Napolitano (D-CA)</b><br><i>@GraceNapolitano</i><br><b>3.03% (58 / 1914)</b>\", \"<b>Zoe Lofgren (D-CA)</b><br><i>@RepZoeLofgren</i><br><b>2.90% (59 / 2035)</b>\", \"<b>Judy Chu (D-CA)</b><br><i>@RepJudyChu</i><br><b>2.78% (89 / 3202)</b>\", \"<b>Charles Schumer (D-NY)</b><br><i>@SenSchumer</i><br><b>2.64% (85 / 3223)</b>\", \"<b>Dina Titus (D-NV)</b><br><i>@RepDinaTitus</i><br><b>2.63% (84 / 3198)</b>\", \"<b>Ro Khanna (D-CA)</b><br><i>@RepRoKhanna</i><br><b>2.58% (76 / 2950)</b>\", \"<b>Lloyd Doggett (D-TX)</b><br><i>@RepLloydDoggett</i><br><b>2.56% (82 / 3209)</b>\", \"<b>Anthony Brown (D-MD)</b><br><i>@RepAnthonyBrown</i><br><b>2.37% (24 / 1011)</b>\", \"<b>Dwight Evans (D-PA)</b><br><i>@RepDwightEvans</i><br><b>2.32% (75 / 3235)</b>\", \"<b>Gene Green (D-TX)</b><br><i>@RepGeneGreen</i><br><b>2.32% (51 / 2202)</b>\", \"<b>Marc Veasey (D-TX)</b><br><i>@RepVeasey</i><br><b>2.28% (63 / 2761)</b>\", \"<b>Richard Blumenthal (D-CT)</b><br><i>@SenBlumenthal</i><br><b>2.19% (71 / 3237)</b>\", \"<b>Keith Ellison (D-MN)</b><br><i>@KeithEllison</i><br><b>2.18% (70 / 3218)</b>\", \"<b>Raja Krishnamoorthi (D-IL)</b><br><i>@congressmanraja</i><br><b>2.16% (43 / 1991)</b>\", \"<b>Lisa Blunt Rochester (D-DE)</b><br><i>@RepBRochester</i><br><b>2.15% (7 / 326)</b>\", \"<b>Patty Murray (D-WA)</b><br><i>@PattyMurray</i><br><b>2.12% (68 / 3205)</b>\", \"<b>Mike Quigley (D-IL)</b><br><i>@RepMikeQuigley</i><br><b>2.07% (67 / 3231)</b>\", \"<b>Ben Luj\\u00e1n (D-NM)</b><br><i>@RepBenRayLujan</i><br><b>2.07% (33 / 1595)</b>\", \"<b>Thomas Suozzi (D-NY)</b><br><i>@RepTomSuozzi</i><br><b>2.01% (8 / 399)</b>\", \"<b>Norma Torres (D-CA)</b><br><i>@NormaJTorres</i><br><b>1.94% (62 / 3203)</b>\", \"<b>Michael Bennet (D-CO)</b><br><i>@SenBennetCo</i><br><b>1.91% (48 / 2507)</b>\", \"<b>Maria Cantwell (D-WA)</b><br><i>@SenatorCantwell</i><br><b>1.85% (60 / 3240)</b>\", \"<b>Jeff Merkley (D-OR)</b><br><i>@SenJeffMerkley</i><br><b>1.84% (59 / 3212)</b>\", \"<b>Jim Costa (D-CA)</b><br><i>@RepJimCosta</i><br><b>1.83% (29 / 1582)</b>\", \"<b>Hank Johnson (D-GA)</b><br><i>@RepHankJohnson</i><br><b>1.81% (58 / 3200)</b>\", \"<b>Scott Peters (D-CA)</b><br><i>@RepScottPeters</i><br><b>1.81% (58 / 3203)</b>\", \"<b>Linda S\\u00e1nchez (D-CA)</b><br><i>@RepLindaSanchez</i><br><b>1.79% (45 / 2512)</b>\", \"<b>Patrick Leahy (D-VT)</b><br><i>@SenatorLeahy</i><br><b>1.77% (57 / 3213)</b>\", \"<b>Alma Adams (D-NC)</b><br><i>@RepAdams</i><br><b>1.74% (56 / 3219)</b>\", \"<b>A. McEachin (D-VA)</b><br><i>@RepMcEachin</i><br><b>1.67% (24 / 1441)</b>\", \"<b>Bennie Thompson (D-MS)</b><br><i>@BennieGThompson</i><br><b>1.67% (20 / 1201)</b>\", \"<b>Diana DeGette (D-CO)</b><br><i>@RepDianaDeGette</i><br><b>1.65% (53 / 3208)</b>\", \"<b>Yvette Clarke (D-NY)</b><br><i>@RepYvetteClarke</i><br><b>1.61% (52 / 3228)</b>\", \"<b>Tim Walz (D-MN)</b><br><i>@RepTimWalz</i><br><b>1.58% (48 / 3043)</b>\", \"<b>Tom Udall (D-NM)</b><br><i>@SenatorTomUdall</i><br><b>1.55% (50 / 3234)</b>\", \"<b>Carolyn Maloney (D-NY)</b><br><i>@RepMaloney</i><br><b>1.54% (50 / 3238)</b>\", \"<b>Bonnie Watson Coleman (D-NJ)</b><br><i>@RepBonnie</i><br><b>1.52% (49 / 3214)</b>\", \"<b>Jamie Raskin (D-MD)</b><br><i>@repraskin</i><br><b>1.46% (47 / 3215)</b>\", \"<b>Tammy Duckworth (D-IL)</b><br><i>@SenDuckworth</i><br><b>1.45% (47 / 3232)</b>\", \"<b>Val Demings (D-FL)</b><br><i>@RepValDemings</i><br><b>1.44% (18 / 1246)</b>\", \"<b>Colleen Hanabusa (D-HI)</b><br><i>@RepHanabusa</i><br><b>1.41% (23 / 1632)</b>\", \"<b>Mazie Hirono (D-HI)</b><br><i>@MazieHirono</i><br><b>1.39% (45 / 3229)</b>\", \"<b>Adam Smith (D-WA)</b><br><i>@RepAdamSmith</i><br><b>1.39% (35 / 2512)</b>\", \"<b>Frank Pallone (D-NJ)</b><br><i>@FrankPallone</i><br><b>1.37% (44 / 3206)</b>\", \"<b>Bill Foster (D-IL)</b><br><i>@RepBillFoster</i><br><b>1.34% (34 / 2544)</b>\", \"<b>Jan Schakowsky (D-IL)</b><br><i>@JanSchakowsky</i><br><b>1.33% (43 / 3244)</b>\", \"<b>Brad Schneider (D-IL)</b><br><i>@repschneider</i><br><b>1.20% (29 / 2413)</b>\", \"<b>Ted Lieu (D-CA)</b><br><i>@RepTedLieu</i><br><b>1.19% (38 / 3190)</b>\", \"<b>Al Green (D-TX)</b><br><i>@RepAlGreen</i><br><b>1.16% (17 / 1463)</b>\", \"<b>Frederica Wilson (D-FL)</b><br><i>@RepWilson</i><br><b>1.15% (37 / 3213)</b>\", \"<b>Benjamin Cardin (D-MD)</b><br><i>@SenatorCardin</i><br><b>1.14% (37 / 3236)</b>\", \"<b>Thomas Carper (D-DE)</b><br><i>@SenatorCarper</i><br><b>1.14% (37 / 3244)</b>\", \"<b>Sheldon Whitehouse (D-RI)</b><br><i>@SenWhitehouse</i><br><b>1.14% (37 / 3246)</b>\", \"<b>Ron Wyden (D-OR)</b><br><i>@RonWyden</i><br><b>1.11% (36 / 3238)</b>\", \"<b>Tony C\\u00e1rdenas (D-CA)</b><br><i>@RepCardenas</i><br><b>1.09% (35 / 3200)</b>\", \"<b>Beto O'Rourke (D-TX)</b><br><i>@RepBetoORourke</i><br><b>1.09% (35 / 3201)</b>\", \"<b>Kirsten Gillibrand (D-NY)</b><br><i>@SenGillibrand</i><br><b>1.09% (35 / 3215)</b>\", \"<b>Edward Markey (D-MA)</b><br><i>@SenMarkey</i><br><b>1.08% (35 / 3227)</b>\", \"<b>Alan Lowenthal (D-CA)</b><br><i>@RepLowenthal</i><br><b>1.07% (32 / 2980)</b>\", \"<b>Mark Pocan (D-WI)</b><br><i>@RepMarkPocan</i><br><b>1.02% (33 / 3220)</b>\", \"<b>John Conyers (D-MI)</b><br><i>@RepJohnConyers</i><br><b>1.00% (32 / 3200)</b>\", \"<b>Dan Kildee (D-MI)</b><br><i>@RepDanKildee</i><br><b>0.99% (32 / 3218)</b>\", \"<b>Alcee Hastings (D-FL)</b><br><i>@RepHastingsFL</i><br><b>0.97% (9 / 927)</b>\", \"<b>Paul Tonko (D-NY)</b><br><i>@RepPaulTonko</i><br><b>0.97% (31 / 3196)</b>\", \"<b>Sheila Jackson Lee (D-TX)</b><br><i>@JacksonLeeTX18</i><br><b>0.96% (31 / 3224)</b>\", \"<b>Cory Booker (D-NJ)</b><br><i>@CoryBooker</i><br><b>0.96% (31 / 3233)</b>\", \"<b>Katherine Clark (D-MA)</b><br><i>@RepKClark</i><br><b>0.94% (30 / 3208)</b>\", \"<b>Gerald Connolly (D-VA)</b><br><i>@GerryConnolly</i><br><b>0.93% (30 / 3222)</b>\", \"<b>Mark Takano (D-CA)</b><br><i>@RepMarkTakano</i><br><b>0.93% (22 / 2367)</b>\", \"<b>Brenda Lawrence (D-MI)</b><br><i>@RepLawrence</i><br><b>0.87% (28 / 3213)</b>\", \"<b>Mark Warner (D-VA)</b><br><i>@MarkWarner</i><br><b>0.87% (28 / 3227)</b>\", \"<b>Josh Gottheimer (D-NJ)</b><br><i>@RepJoshG</i><br><b>0.85% (9 / 1055)</b>\", \"<b>Doris Matsui (D-CA)</b><br><i>@DorisMatsui</i><br><b>0.85% (22 / 2582)</b>\", \"<b>Tom O'Halleran (D-AZ)</b><br><i>@repohalleran</i><br><b>0.84% (12 / 1423)</b>\", \"<b>Chris Van Hollen (D-MD)</b><br><i>@ChrisVanHollen</i><br><b>0.84% (27 / 3233)</b>\", \"<b>Suzanne Bonamici (D-OR)</b><br><i>@RepBonamici</i><br><b>0.83% (21 / 2538)</b>\", \"<b>David Cicilline (D-RI)</b><br><i>@RepCicilline</i><br><b>0.81% (26 / 3200)</b>\", \"<b>Filemon Vela (D-TX)</b><br><i>@RepFilemonVela</i><br><b>0.81% (10 / 1237)</b>\", \"<b>Jim McGovern (D-MA)</b><br><i>@RepMcGovern</i><br><b>0.81% (26 / 3219)</b>\", \"<b>Lois Frankel (D-FL)</b><br><i>@RepLoisFrankel</i><br><b>0.80% (26 / 3249)</b>\", \"<b>David Price (D-NC)</b><br><i>@RepDavidEPrice</i><br><b>0.79% (25 / 3162)</b>\", \"<b>Julia Brownley (D-CA)</b><br><i>@JuliaBrownley26</i><br><b>0.78% (20 / 2558)</b>\", \"<b>Christopher Murphy (D-CT)</b><br><i>@ChrisMurphyCT</i><br><b>0.77% (25 / 3249)</b>\", \"<b>Elizabeth Warren (D-MA)</b><br><i>@SenWarren</i><br><b>0.75% (21 / 2796)</b>\", \"<b>Ed Perlmutter (D-CO)</b><br><i>@RepPerlmutter</i><br><b>0.75% (24 / 3200)</b>\", \"<b>Jos\\u00e9 Serrano (D-NY)</b><br><i>@RepJoseSerrano</i><br><b>0.75% (24 / 3210)</b>\", \"<b>Emanuel Cleaver (D-MO)</b><br><i>@RepCleaver</i><br><b>0.74% (24 / 3230)</b>\", \"<b>Suzan DelBene (D-WA)</b><br><i>@RepDelBene</i><br><b>0.74% (24 / 3237)</b>\", \"<b>Michael Capuano (D-MA)</b><br><i>@RepMikeCapuano</i><br><b>0.74% (2 / 270)</b>\", \"<b>Stephanie Murphy (D-FL)</b><br><i>@RepStephMurphy</i><br><b>0.72% (8 / 1110)</b>\", \"<b>G. Butterfield (D-NC)</b><br><i>@GKButterfield</i><br><b>0.71% (23 / 3217)</b>\", \"<b>Barbara Lee (D-CA)</b><br><i>@RepBarbaraLee</i><br><b>0.71% (23 / 3232)</b>\", \"<b>Eric Swalwell (D-CA)</b><br><i>@RepSwalwell</i><br><b>0.71% (23 / 3244)</b>\", \"<b>Al Franken (D-MN)</b><br><i>@SenFranken</i><br><b>0.68% (22 / 3220)</b>\", \"<b>Louise Slaughter (D-NY)</b><br><i>@LouiseSlaughter</i><br><b>0.68% (22 / 3223)</b>\", \"<b>Nita Lowey (D-NY)</b><br><i>@NitaLowey</i><br><b>0.68% (18 / 2662)</b>\", \"<b>Raul Ruiz (D-CA)</b><br><i>@CongressmanRuiz</i><br><b>0.66% (6 / 913)</b>\", \"<b>Rick Larsen (D-WA)</b><br><i>@RepRickLarsen</i><br><b>0.65% (21 / 3217)</b>\", \"<b>Grace Meng (D-NY)</b><br><i>@RepGraceMeng</i><br><b>0.65% (21 / 3228)</b>\", \"<b>Daniel Lipinski (D-IL)</b><br><i>@RepLipinski</i><br><b>0.65% (13 / 2008)</b>\", \"<b>Eliot Engel (D-NY)</b><br><i>@RepEliotEngel</i><br><b>0.65% (21 / 3246)</b>\", \"<b>Anna Eshoo (D-CA)</b><br><i>@RepAnnaEshoo</i><br><b>0.63% (12 / 1907)</b>\", \"<b>Donald Payne (D-NJ)</b><br><i>@RepDonaldPayne</i><br><b>0.62% (20 / 3209)</b>\", \"<b>Jared Polis (D-CO)</b><br><i>@JaredPolis</i><br><b>0.62% (20 / 3243)</b>\", \"<b>Charlie Crist (D-FL)</b><br><i>@repcharliecrist</i><br><b>0.61% (8 / 1301)</b>\", \"<b>Bill Nelson (D-FL)</b><br><i>@SenBillNelson</i><br><b>0.60% (5 / 829)</b>\", \"<b>Eddie Johnson (D-TX)</b><br><i>@RepEBJ</i><br><b>0.59% (19 / 3196)</b>\", \"<b>Tammy Baldwin (D-WI)</b><br><i>@SenatorBaldwin</i><br><b>0.59% (19 / 3198)</b>\", \"<b>Gwen Moore (D-WI)</b><br><i>@RepGwenMoore</i><br><b>0.59% (19 / 3200)</b>\", \"<b>Ted Deutch (D-FL)</b><br><i>@RepTedDeutch</i><br><b>0.59% (19 / 3216)</b>\", \"<b>Robert Scott (D-VA)</b><br><i>@BobbyScott</i><br><b>0.56% (18 / 3227)</b>\", \"<b>Jared Huffman (D-CA)</b><br><i>@RepHuffman</i><br><b>0.56% (11 / 1977)</b>\", \"<b>Adam Schiff (D-CA)</b><br><i>@RepAdamSchiff</i><br><b>0.56% (18 / 3239)</b>\", \"<b>Susan Davis (D-CA)</b><br><i>@RepSusanDavis</i><br><b>0.56% (10 / 1801)</b>\", \"<b>Denny Heck (D-WA)</b><br><i>@RepDennyHeck</i><br><b>0.55% (17 / 3103)</b>\", \"<b>John Garamendi (D-CA)</b><br><i>@RepGaramendi</i><br><b>0.53% (17 / 3198)</b>\", \"<b>Kurt Schrader (D-OR)</b><br><i>@RepSchrader</i><br><b>0.53% (11 / 2074)</b>\", \"<b>Bob Casey (D-PA)</b><br><i>@SenBobCasey</i><br><b>0.53% (17 / 3212)</b>\", \"<b>Jerrold Nadler (D-NY)</b><br><i>@RepJerryNadler</i><br><b>0.53% (17 / 3238)</b>\", \"<b>Chellie Pingree (D-ME)</b><br><i>@ChelliePingree</i><br><b>0.52% (17 / 3249)</b>\", \"<b>Peter Welch (D-VT)</b><br><i>@PeterWelch</i><br><b>0.52% (9 / 1724)</b>\", \"<b>Jim Cooper (D-TN)</b><br><i>@RepJimCooper</i><br><b>0.52% (13 / 2495)</b>\", \"<b>Brad Sherman (D-CA)</b><br><i>@BradSherman</i><br><b>0.52% (7 / 1347)</b>\", \"<b>Al Lawson (D-FL)</b><br><i>@RepAlLawsonJr</i><br><b>0.52% (2 / 388)</b>\", \"<b>Mark DeSaulnier (D-CA)</b><br><i>@RepDeSaulnier</i><br><b>0.51% (9 / 1751)</b>\", \"<b>Elizabeth Esty (D-CT)</b><br><i>@RepEsty</i><br><b>0.50% (16 / 3209)</b>\", \"<b>John Yarmuth (D-KY)</b><br><i>@RepJohnYarmuth</i><br><b>0.50% (15 / 3013)</b>\", \"<b>Albio Sires (D-NJ)</b><br><i>@RepSires</i><br><b>0.47% (11 / 2332)</b>\", \"<b>Karen Bass (D-CA)</b><br><i>@RepKarenBass</i><br><b>0.47% (15 / 3193)</b>\", \"<b>Marcia Fudge (D-OH)</b><br><i>@RepMarciaFudge</i><br><b>0.47% (15 / 3204)</b>\", \"<b>Mike Thompson (D-CA)</b><br><i>@RepThompson</i><br><b>0.47% (15 / 3213)</b>\", \"<b>Jim Himes (D-CT)</b><br><i>@JAHimes</i><br><b>0.47% (15 / 3217)</b>\", \"<b>Joe Courtney (D-CT)</b><br><i>@RepJoeCourtney</i><br><b>0.47% (15 / 3224)</b>\", \"<b>Debbie Wasserman Schultz (D-FL)</b><br><i>@RepDWStweets</i><br><b>0.45% (14 / 3127)</b>\", \"<b>Betty McCollum (D-MN)</b><br><i>@BettyMcCollum04</i><br><b>0.44% (14 / 3214)</b>\", \"<b>Andr\\u00e9 Carson (D-IN)</b><br><i>@RepAndreCarson</i><br><b>0.43% (14 / 3237)</b>\", \"<b>Bill Pascrell (D-NJ)</b><br><i>@BillPascrell</i><br><b>0.42% (11 / 2649)</b>\", \"<b>Tulsi Gabbard (D-HI)</b><br><i>@TulsiPress</i><br><b>0.41% (13 / 3173)</b>\", \"<b>Niki Tsongas (D-MA)</b><br><i>@NikiInTheHouse</i><br><b>0.40% (13 / 3215)</b>\", \"<b>Kathy Castor (D-FL)</b><br><i>@USRepKCastor</i><br><b>0.37% (12 / 3202)</b>\", \"<b>Joseph Kennedy (D-MA)</b><br><i>@RepJoeKennedy</i><br><b>0.37% (12 / 3212)</b>\", \"<b>Tim Ryan (D-OH)</b><br><i>@RepTimRyan</i><br><b>0.37% (12 / 3218)</b>\", \"<b>Margaret Hassan (D-NH)</b><br><i>@Senatorhassan</i><br><b>0.37% (12 / 3230)</b>\", \"<b>Terri Sewell (D-AL)</b><br><i>@RepTerriSewell</i><br><b>0.37% (12 / 3239)</b>\", \"<b>Bobby Rush (D-IL)</b><br><i>@RepBobbyRush</i><br><b>0.37% (4 / 1090)</b>\", \"<b>Cedric Richmond (D-LA)</b><br><i>@RepRichmond</i><br><b>0.36% (8 / 2229)</b>\", \"<b>Sander Levin (D-MI)</b><br><i>@RepSandyLevin</i><br><b>0.36% (11 / 3065)</b>\", \"<b>Jeanne Shaheen (D-NH)</b><br><i>@SenatorShaheen</i><br><b>0.34% (11 / 3207)</b>\", \"<b>Rosa DeLauro (D-CT)</b><br><i>@RosaDeLauro</i><br><b>0.34% (11 / 3208)</b>\", \"<b>Sean Maloney (D-NY)</b><br><i>@RepSeanMaloney</i><br><b>0.34% (11 / 3216)</b>\", \"<b>Elijah Cummings (D-MD)</b><br><i>@RepCummings</i><br><b>0.34% (11 / 3233)</b>\", \"<b>Jim Langevin (D-RI)</b><br><i>@JimLangevin</i><br><b>0.34% (11 / 3248)</b>\", \"<b>C.A. Dutch Ruppersberger (D-MD)</b><br><i>@Call_Me_Dutch</i><br><b>0.32% (9 / 2775)</b>\", \"<b>Bill Keating (D-MA)</b><br><i>@USRepKeating</i><br><b>0.32% (4 / 1237)</b>\", \"<b>Robin Kelly (D-IL)</b><br><i>@RepRobinKelly</i><br><b>0.32% (9 / 2791)</b>\", \"<b>Jerry McNerney (D-CA)</b><br><i>@RepMcNerney</i><br><b>0.32% (6 / 1876)</b>\", \"<b>Debbie Dingell (D-MI)</b><br><i>@RepDebDingell</i><br><b>0.31% (6 / 1937)</b>\", \"<b>Henry Cuellar (D-TX)</b><br><i>@RepCuellar</i><br><b>0.31% (10 / 3232)</b>\", \"<b>John Larson (D-CT)</b><br><i>@RepJohnLarson</i><br><b>0.30% (8 / 2635)</b>\", \"<b>Robert Brady (D-PA)</b><br><i>@RepBrady</i><br><b>0.28% (2 / 710)</b>\", \"<b>Kathleen Rice (D-NY)</b><br><i>@RepKathleenRice</i><br><b>0.27% (6 / 2218)</b>\", \"<b>Hakeem Jeffries (D-NY)</b><br><i>@RepJeffries</i><br><b>0.27% (7 / 2594)</b>\", \"<b>Eleanor Norton (D-DC)</b><br><i>@EleanorNorton</i><br><b>0.25% (8 / 3206)</b>\", \"<b>Ann Kuster (D-NH)</b><br><i>@RepAnnieKuster</i><br><b>0.25% (8 / 3222)</b>\", \"<b>Jackie Speier (D-CA)</b><br><i>@RepSpeier</i><br><b>0.25% (8 / 3244)</b>\", \"<b>Steve Cohen (D-TN)</b><br><i>@RepCohen</i><br><b>0.22% (7 / 3232)</b>\", \"<b>Donald Norcross (D-NJ)</b><br><i>@DonaldNorcross</i><br><b>0.22% (7 / 3234)</b>\", \"<b>Kyrsten Sinema (D-AZ)</b><br><i>@RepSinema</i><br><b>0.22% (7 / 3241)</b>\", \"<b>James Clyburn (D-SC)</b><br><i>@Clyburn</i><br><b>0.21% (4 / 1947)</b>\", \"<b>Jack Reed (D-RI)</b><br><i>@SenJackReed</i><br><b>0.19% (6 / 3202)</b>\", \"<b>Derek Kilmer (D-WA)</b><br><i>@RepDerekKilmer</i><br><b>0.17% (3 / 1765)</b>\", \"<b>Danny Davis (D-IL)</b><br><i>@RepDannyDavis</i><br><b>0.17% (2 / 1196)</b>\", \"<b>John Lewis (D-GA)</b><br><i>@RepJohnLewis</i><br><b>0.16% (3 / 1819)</b>\", \"<b>Brendan Boyle (D-PA)</b><br><i>@RepBrendanBoyle</i><br><b>0.16% (5 / 3200)</b>\", \"<b>Sherrod Brown (D-OH)</b><br><i>@SenSherrodBrown</i><br><b>0.16% (5 / 3204)</b>\", \"<b>Seth Moulton (D-MA)</b><br><i>@teammoulton</i><br><b>0.15% (5 / 3231)</b>\", \"<b>Stacey Plaskett (D-VI)</b><br><i>@staceyplaskett</i><br><b>0.14% (1 / 727)</b>\", \"<b>Debbie Stabenow (D-MI)</b><br><i>@SenStabenow</i><br><b>0.13% (4 / 3177)</b>\", \"<b>Joyce Beatty (D-OH)</b><br><i>@RepBeatty</i><br><b>0.12% (4 / 3202)</b>\", \"<b>Marcy Kaptur (D-OH)</b><br><i>@RepMarcyKaptur</i><br><b>0.12% (4 / 3219)</b>\", \"<b>Ami Bera (D-CA)</b><br><i>@RepBera</i><br><b>0.10% (3 / 2928)</b>\", \"<b>Mike Doyle (D-PA)</b><br><i>@USRepMikeDoyle</i><br><b>0.10% (1 / 1022)</b>\", \"<b>Heidi Heitkamp (D-ND)</b><br><i>@SenatorHeitkamp</i><br><b>0.09% (3 / 3230)</b>\", \"<b>Brian Higgins (D-NY)</b><br><i>@RepBrianHiggins</i><br><b>0.09% (3 / 3246)</b>\", \"<b>Peter DeFazio (D-OR)</b><br><i>@RepPeterDeFazio</i><br><b>0.09% (1 / 1090)</b>\", \"<b>Carol Shea-Porter (D-NH)</b><br><i>@repsheaporter</i><br><b>0.09% (1 / 1156)</b>\", \"<b>Ron Kind (D-WI)</b><br><i>@RepRonKind</i><br><b>0.09% (1 / 1174)</b>\", \"<b>Richard Neal (D-MA)</b><br><i>@RepRichardNeal</i><br><b>0.08% (1 / 1235)</b>\", \"<b>David Scott (D-GA)</b><br><i>@RepDavidScott</i><br><b>0.08% (2 / 2624)</b>\", \"<b>Brian Schatz (D-HI)</b><br><i>@SenBrianSchatz</i><br><b>0.07% (1 / 1377)</b>\", \"<b>Gary Peters (D-MI)</b><br><i>@SenGaryPeters</i><br><b>0.06% (2 / 3202)</b>\", \"<b>Claire McCaskill (D-MO)</b><br><i>@McCaskillOffice</i><br><b>0.06% (2 / 3241)</b>\", \"<b>Joe Donnelly (D-IN)</b><br><i>@SenDonnelly</i><br><b>0.06% (2 / 3244)</b>\", \"<b>Peter Visclosky (D-IN)</b><br><i>@RepVisclosky</i><br><b>0.06% (1 / 1767)</b>\", \"<b>Matt Cartwright (D-PA)</b><br><i>@RepCartwright</i><br><b>0.05% (1 / 1894)</b>\", \"<b>Cheri Bustos (D-IL)</b><br><i>@RepCheri</i><br><b>0.03% (1 / 3006)</b>\", \"<b>John Delaney (D-MD)</b><br><i>@RepJohnDelaney</i><br><b>0.03% (1 / 3212)</b>\", \"<b>Christopher Coons (D-DE)</b><br><i>@SenCoonsOffice</i><br><b>0.00% (0 / 2190)</b>\", \"<b>Dave Loebsack (D-IA)</b><br><i>@DaveLoebsack</i><br><b>0.00% (0 / 900)</b>\", \"<b>Earl Blumenauer (D-OR)</b><br><i>@BlumenauerMedia</i><br><b>0.00% (0 / 352)</b>\", \"<b>Joe Manchin (D-WV)</b><br><i>@Sen_JoeManchin</i><br><b>0.00% (0 / 3209)</b>\", \"<b>John Sarbanes (D-MD)</b><br><i>@RepSarbanes</i><br><b>0.00% (0 / 1080)</b>\", \"<b>Jon Tester (D-MT)</b><br><i>@SenatorTester</i><br><b>0.00% (0 / 3201)</b>\", \"<b>Maxine Waters (D-CA)</b><br><i>@MaxineWaters</i><br><b>0.00% (0 / 263)</b>\", \"<b>Rick Nolan (D-MN)</b><br><i>@USRepRickNolan</i><br><b>0.00% (0 / 2533)</b>\", \"<b>Sanford Bishop (D-GA)</b><br><i>@SanfordBishop</i><br><b>0.00% (0 / 1704)</b>\", \"<b>Stephen Lynch (D-MA)</b><br><i>@RepStephenLynch</i><br><b>0.00% (0 / 3154)</b>\", \"<b>Tina Smith (D-MN)</b><br><i>@SenTinaSmith</i><br><b>0.00% (0 / 120)</b>\"], \"marker\": {\"color\": [\"rgb(0.290980392157,0.594509803922,0.789019607843)\", \"rgb(0.290980392157,0.594509803922,0.789019607843)\", \"rgb(0.290980392157,0.594509803922,0.789019607843)\", \"rgb(0.290980392157,0.594509803922,0.789019607843)\", \"rgb(0.290980392157,0.594509803922,0.789019607843)\", \"rgb(0.290980392157,0.594509803922,0.789019607843)\", \"rgb(0.290980392157,0.594509803922,0.789019607843)\", \"rgb(0.290980392157,0.594509803922,0.789019607843)\", \"rgb(0.290980392157,0.594509803922,0.789019607843)\", \"rgb(0.290980392157,0.594509803922,0.789019607843)\", \"rgb(0.290980392157,0.594509803922,0.789019607843)\", \"rgb(0.290980392157,0.594509803922,0.789019607843)\", \"rgb(0.290980392157,0.594509803922,0.789019607843)\", \"rgb(0.290980392157,0.594509803922,0.789019607843)\", \"rgb(0.290980392157,0.594509803922,0.789019607843)\", \"rgb(0.290980392157,0.594509803922,0.789019607843)\", \"rgb(0.290980392157,0.594509803922,0.789019607843)\", \"rgb(0.290980392157,0.594509803922,0.789019607843)\", \"rgb(0.290980392157,0.594509803922,0.789019607843)\", \"rgb(0.290980392157,0.594509803922,0.789019607843)\", \"rgb(0.290980392157,0.594509803922,0.789019607843)\", \"rgb(0.290980392157,0.594509803922,0.789019607843)\", \"rgb(0.290980392157,0.594509803922,0.789019607843)\", \"rgb(0.290980392157,0.594509803922,0.789019607843)\", \"rgb(0.290980392157,0.594509803922,0.789019607843)\", \"rgb(0.290980392157,0.594509803922,0.789019607843)\", \"rgb(0.290980392157,0.594509803922,0.789019607843)\", \"rgb(0.290980392157,0.594509803922,0.789019607843)\", \"rgb(0.290980392157,0.594509803922,0.789019607843)\", \"rgb(0.290980392157,0.594509803922,0.789019607843)\", \"rgb(0.290980392157,0.594509803922,0.789019607843)\", \"rgb(0.290980392157,0.594509803922,0.789019607843)\", \"rgb(0.290980392157,0.594509803922,0.789019607843)\", \"rgb(0.290980392157,0.594509803922,0.789019607843)\", \"rgb(0.290980392157,0.594509803922,0.789019607843)\", \"rgb(0.290980392157,0.594509803922,0.789019607843)\", \"rgb(0.290980392157,0.594509803922,0.789019607843)\", \"rgb(0.290980392157,0.594509803922,0.789019607843)\", \"rgb(0.290980392157,0.594509803922,0.789019607843)\", \"rgb(0.290980392157,0.594509803922,0.789019607843)\", \"rgb(0.290980392157,0.594509803922,0.789019607843)\", \"rgb(0.290980392157,0.594509803922,0.789019607843)\", \"rgb(0.290980392157,0.594509803922,0.789019607843)\", \"rgb(0.290980392157,0.594509803922,0.789019607843)\", \"rgb(0.290980392157,0.594509803922,0.789019607843)\", \"rgb(0.290980392157,0.594509803922,0.789019607843)\", \"rgb(0.290980392157,0.594509803922,0.789019607843)\", \"rgb(0.290980392157,0.594509803922,0.789019607843)\", \"rgb(0.290980392157,0.594509803922,0.789019607843)\", \"rgb(0.290980392157,0.594509803922,0.789019607843)\", \"rgb(0.290980392157,0.594509803922,0.789019607843)\", \"rgb(0.290980392157,0.594509803922,0.789019607843)\", \"rgb(0.290980392157,0.594509803922,0.789019607843)\", \"rgb(0.290980392157,0.594509803922,0.789019607843)\", \"rgb(0.290980392157,0.594509803922,0.789019607843)\", \"rgb(0.290980392157,0.594509803922,0.789019607843)\", \"rgb(0.290980392157,0.594509803922,0.789019607843)\", \"rgb(0.290980392157,0.594509803922,0.789019607843)\", \"rgb(0.290980392157,0.594509803922,0.789019607843)\", \"rgb(0.290980392157,0.594509803922,0.789019607843)\", \"rgb(0.290980392157,0.594509803922,0.789019607843)\", \"rgb(0.290980392157,0.594509803922,0.789019607843)\", \"rgb(0.290980392157,0.594509803922,0.789019607843)\", \"rgb(0.290980392157,0.594509803922,0.789019607843)\", \"rgb(0.290980392157,0.594509803922,0.789019607843)\", \"rgb(0.290980392157,0.594509803922,0.789019607843)\", \"rgb(0.290980392157,0.594509803922,0.789019607843)\", \"rgb(0.290980392157,0.594509803922,0.789019607843)\", \"rgb(0.290980392157,0.594509803922,0.789019607843)\", \"rgb(0.290980392157,0.594509803922,0.789019607843)\", \"rgb(0.290980392157,0.594509803922,0.789019607843)\", \"rgb(0.290980392157,0.594509803922,0.789019607843)\", \"rgb(0.290980392157,0.594509803922,0.789019607843)\", \"rgb(0.290980392157,0.594509803922,0.789019607843)\", \"rgb(0.290980392157,0.594509803922,0.789019607843)\", \"rgb(0.290980392157,0.594509803922,0.789019607843)\", \"rgb(0.290980392157,0.594509803922,0.789019607843)\", \"rgb(0.290980392157,0.594509803922,0.789019607843)\", \"rgb(0.290980392157,0.594509803922,0.789019607843)\", \"rgb(0.290980392157,0.594509803922,0.789019607843)\", \"rgb(0.290980392157,0.594509803922,0.789019607843)\", \"rgb(0.290980392157,0.594509803922,0.789019607843)\", \"rgb(0.290980392157,0.594509803922,0.789019607843)\", \"rgb(0.290980392157,0.594509803922,0.789019607843)\", \"rgb(0.290980392157,0.594509803922,0.789019607843)\", \"rgb(0.290980392157,0.594509803922,0.789019607843)\", \"rgb(0.290980392157,0.594509803922,0.789019607843)\", \"rgb(0.290980392157,0.594509803922,0.789019607843)\", \"rgb(0.290980392157,0.594509803922,0.789019607843)\", \"rgb(0.290980392157,0.594509803922,0.789019607843)\", \"rgb(0.290980392157,0.594509803922,0.789019607843)\", \"rgb(0.290980392157,0.594509803922,0.789019607843)\", \"rgb(0.290980392157,0.594509803922,0.789019607843)\", \"rgb(0.290980392157,0.594509803922,0.789019607843)\", \"rgb(0.290980392157,0.594509803922,0.789019607843)\", \"rgb(0.290980392157,0.594509803922,0.789019607843)\", \"rgb(0.290980392157,0.594509803922,0.789019607843)\", \"rgb(0.290980392157,0.594509803922,0.789019607843)\", \"rgb(0.290980392157,0.594509803922,0.789019607843)\", \"rgb(0.290980392157,0.594509803922,0.789019607843)\", \"rgb(0.290980392157,0.594509803922,0.789019607843)\", \"rgb(0.290980392157,0.594509803922,0.789019607843)\", \"rgb(0.290980392157,0.594509803922,0.789019607843)\", \"rgb(0.290980392157,0.594509803922,0.789019607843)\", \"rgb(0.290980392157,0.594509803922,0.789019607843)\", \"rgb(0.290980392157,0.594509803922,0.789019607843)\", \"rgb(0.290980392157,0.594509803922,0.789019607843)\", \"rgb(0.290980392157,0.594509803922,0.789019607843)\", \"rgb(0.290980392157,0.594509803922,0.789019607843)\", \"rgb(0.290980392157,0.594509803922,0.789019607843)\", \"rgb(0.290980392157,0.594509803922,0.789019607843)\", \"rgb(0.290980392157,0.594509803922,0.789019607843)\", \"rgb(0.290980392157,0.594509803922,0.789019607843)\", \"rgb(0.290980392157,0.594509803922,0.789019607843)\", \"rgb(0.290980392157,0.594509803922,0.789019607843)\", \"rgb(0.290980392157,0.594509803922,0.789019607843)\", \"rgb(0.290980392157,0.594509803922,0.789019607843)\", \"rgb(0.290980392157,0.594509803922,0.789019607843)\", \"rgb(0.290980392157,0.594509803922,0.789019607843)\", \"rgb(0.290980392157,0.594509803922,0.789019607843)\", \"rgb(0.290980392157,0.594509803922,0.789019607843)\", \"rgb(0.290980392157,0.594509803922,0.789019607843)\", \"rgb(0.290980392157,0.594509803922,0.789019607843)\", \"rgb(0.290980392157,0.594509803922,0.789019607843)\", \"rgb(0.290980392157,0.594509803922,0.789019607843)\", \"rgb(0.290980392157,0.594509803922,0.789019607843)\", \"rgb(0.290980392157,0.594509803922,0.789019607843)\", \"rgb(0.290980392157,0.594509803922,0.789019607843)\", \"rgb(0.290980392157,0.594509803922,0.789019607843)\", \"rgb(0.290980392157,0.594509803922,0.789019607843)\", \"rgb(0.290980392157,0.594509803922,0.789019607843)\", \"rgb(0.290980392157,0.594509803922,0.789019607843)\", \"rgb(0.290980392157,0.594509803922,0.789019607843)\", \"rgb(0.290980392157,0.594509803922,0.789019607843)\", \"rgb(0.290980392157,0.594509803922,0.789019607843)\", \"rgb(0.290980392157,0.594509803922,0.789019607843)\", \"rgb(0.290980392157,0.594509803922,0.789019607843)\", \"rgb(0.290980392157,0.594509803922,0.789019607843)\", \"rgb(0.290980392157,0.594509803922,0.789019607843)\", \"rgb(0.290980392157,0.594509803922,0.789019607843)\", \"rgb(0.290980392157,0.594509803922,0.789019607843)\", \"rgb(0.290980392157,0.594509803922,0.789019607843)\", \"rgb(0.290980392157,0.594509803922,0.789019607843)\", \"rgb(0.290980392157,0.594509803922,0.789019607843)\", \"rgb(0.290980392157,0.594509803922,0.789019607843)\", \"rgb(0.290980392157,0.594509803922,0.789019607843)\", \"rgb(0.290980392157,0.594509803922,0.789019607843)\", \"rgb(0.290980392157,0.594509803922,0.789019607843)\", \"rgb(0.290980392157,0.594509803922,0.789019607843)\", \"rgb(0.290980392157,0.594509803922,0.789019607843)\", \"rgb(0.290980392157,0.594509803922,0.789019607843)\", \"rgb(0.290980392157,0.594509803922,0.789019607843)\", \"rgb(0.290980392157,0.594509803922,0.789019607843)\", \"rgb(0.290980392157,0.594509803922,0.789019607843)\", \"rgb(0.290980392157,0.594509803922,0.789019607843)\", \"rgb(0.290980392157,0.594509803922,0.789019607843)\", \"rgb(0.290980392157,0.594509803922,0.789019607843)\", \"rgb(0.290980392157,0.594509803922,0.789019607843)\", \"rgb(0.290980392157,0.594509803922,0.789019607843)\", \"rgb(0.290980392157,0.594509803922,0.789019607843)\", \"rgb(0.290980392157,0.594509803922,0.789019607843)\", \"rgb(0.290980392157,0.594509803922,0.789019607843)\", \"rgb(0.290980392157,0.594509803922,0.789019607843)\", \"rgb(0.290980392157,0.594509803922,0.789019607843)\", \"rgb(0.290980392157,0.594509803922,0.789019607843)\", \"rgb(0.290980392157,0.594509803922,0.789019607843)\", \"rgb(0.290980392157,0.594509803922,0.789019607843)\", \"rgb(0.290980392157,0.594509803922,0.789019607843)\", \"rgb(0.290980392157,0.594509803922,0.789019607843)\", \"rgb(0.290980392157,0.594509803922,0.789019607843)\", \"rgb(0.290980392157,0.594509803922,0.789019607843)\", \"rgb(0.290980392157,0.594509803922,0.789019607843)\", \"rgb(0.290980392157,0.594509803922,0.789019607843)\", \"rgb(0.290980392157,0.594509803922,0.789019607843)\", \"rgb(0.290980392157,0.594509803922,0.789019607843)\", \"rgb(0.290980392157,0.594509803922,0.789019607843)\", \"rgb(0.290980392157,0.594509803922,0.789019607843)\", \"rgb(0.290980392157,0.594509803922,0.789019607843)\", \"rgb(0.290980392157,0.594509803922,0.789019607843)\", \"rgb(0.290980392157,0.594509803922,0.789019607843)\", \"rgb(0.290980392157,0.594509803922,0.789019607843)\", \"rgb(0.290980392157,0.594509803922,0.789019607843)\", \"rgb(0.290980392157,0.594509803922,0.789019607843)\", \"rgb(0.290980392157,0.594509803922,0.789019607843)\", \"rgb(0.290980392157,0.594509803922,0.789019607843)\", \"rgb(0.290980392157,0.594509803922,0.789019607843)\", \"rgb(0.290980392157,0.594509803922,0.789019607843)\", \"rgb(0.290980392157,0.594509803922,0.789019607843)\", \"rgb(0.290980392157,0.594509803922,0.789019607843)\", \"rgb(0.290980392157,0.594509803922,0.789019607843)\", \"rgb(0.290980392157,0.594509803922,0.789019607843)\", \"rgb(0.290980392157,0.594509803922,0.789019607843)\", \"rgb(0.290980392157,0.594509803922,0.789019607843)\", \"rgb(0.290980392157,0.594509803922,0.789019607843)\", \"rgb(0.290980392157,0.594509803922,0.789019607843)\", \"rgb(0.290980392157,0.594509803922,0.789019607843)\", \"rgb(0.290980392157,0.594509803922,0.789019607843)\", \"rgb(0.290980392157,0.594509803922,0.789019607843)\", \"rgb(0.290980392157,0.594509803922,0.789019607843)\", \"rgb(0.290980392157,0.594509803922,0.789019607843)\", \"rgb(0.290980392157,0.594509803922,0.789019607843)\", \"rgb(0.290980392157,0.594509803922,0.789019607843)\", \"rgb(0.290980392157,0.594509803922,0.789019607843)\", \"rgb(0.290980392157,0.594509803922,0.789019607843)\", \"rgb(0.290980392157,0.594509803922,0.789019607843)\", \"rgb(0.290980392157,0.594509803922,0.789019607843)\", \"rgb(0.290980392157,0.594509803922,0.789019607843)\", \"rgb(0.290980392157,0.594509803922,0.789019607843)\", \"rgb(0.290980392157,0.594509803922,0.789019607843)\", \"rgb(0.290980392157,0.594509803922,0.789019607843)\", \"rgb(0.290980392157,0.594509803922,0.789019607843)\", \"rgb(0.290980392157,0.594509803922,0.789019607843)\", \"rgb(0.290980392157,0.594509803922,0.789019607843)\", \"rgb(0.290980392157,0.594509803922,0.789019607843)\", \"rgb(0.290980392157,0.594509803922,0.789019607843)\", \"rgb(0.290980392157,0.594509803922,0.789019607843)\", \"rgb(0.290980392157,0.594509803922,0.789019607843)\", \"rgb(0.290980392157,0.594509803922,0.789019607843)\", \"rgb(0.290980392157,0.594509803922,0.789019607843)\", \"rgb(0.290980392157,0.594509803922,0.789019607843)\", \"rgb(0.290980392157,0.594509803922,0.789019607843)\", \"rgb(0.290980392157,0.594509803922,0.789019607843)\", \"rgb(0.290980392157,0.594509803922,0.789019607843)\", \"rgb(0.290980392157,0.594509803922,0.789019607843)\", \"rgb(0.290980392157,0.594509803922,0.789019607843)\", \"rgb(0.290980392157,0.594509803922,0.789019607843)\", \"rgb(0.290980392157,0.594509803922,0.789019607843)\", \"rgb(0.290980392157,0.594509803922,0.789019607843)\", \"rgb(0.290980392157,0.594509803922,0.789019607843)\", \"rgb(0.290980392157,0.594509803922,0.789019607843)\", \"rgb(0.290980392157,0.594509803922,0.789019607843)\", \"rgb(0.290980392157,0.594509803922,0.789019607843)\", \"rgb(0.290980392157,0.594509803922,0.789019607843)\", \"rgb(0.290980392157,0.594509803922,0.789019607843)\", \"rgb(0.290980392157,0.594509803922,0.789019607843)\", \"rgb(0.290980392157,0.594509803922,0.789019607843)\", \"rgb(0.290980392157,0.594509803922,0.789019607843)\"], \"size\": 1}, \"mode\": \"markers\", \"hoverinfo\": \"text\", \"y\": [0, 0, 0, 0, 0, 0, 0, 0, 0, 0, 0, 0, 0, 0, 0, 0, 0, 0, 0, -1, -1, -1, -1, -1, -1, -1, -1, -1, -1, -1, -1, -1, -1, -1, -1, -1, -1, -2, -2, -2, -2, -2, -2, -2, -2, -2, -2, -2, -2, -2, -2, -2, -2, -2, -2, -3, -3, -3, -3, -3, -3, -3, -3, -3, -3, -3, -3, -3, -3, -3, -3, -3, -3, -3, -3, -4, -4, -4, -4, -4, -4, -4, -4, -4, -4, -4, -4, -4, -4, -4, -4, -5, -5, -5, -5, -5, -5, -5, -5, -5, -5, -5, -5, -5, -5, -5, -5, -6, -6, -6, -6, -6, -6, -6, -6, -6, -6, -6, -6, -6, -6, -6, -6, -7, -7, -7, -7, -7, -7, -7, -7, -7, -7, -7, -7, -7, -7, -7, -7, -8, -8, -8, -8, -8, -8, -8, -8, -8, -8, -8, -8, -8, -8, -8, -8, -8, -8, -9, -9, -9, -9, -9, -9, -9, -9, -9, -9, -9, -9, -9, -9, -10, -10, -10, -10, -10, -10, -10, -10, -10, -10, -10, -10, -10, -10, -10, -10, -10, -11, -11, -11, -11, -11, -11, -11, -11, -11, -12, -12, -12, -12, -12, -12, -12, -12, -13, -13, -13, -13, -14, -14, -14, -14, -14, -15, -15, -15, -15, -15, -16, -16, -16, -17, -17, -17, -18, -20, -20, -20, -21, -22, -22, -23, -24, -24, -25, -25], \"x\": [0, 1, 2, 3, 4, 5, 6, 7, 8, 9, 10, 11, 12, 13, 14, 16, 17, 18, 19, 0, 1, 2, 3, 4, 6, 7, 8, 9, 10, 11, 12, 13, 14, 15, 16, 17, 19, 0, 1, 3, 4, 5, 6, 7, 8, 9, 10, 11, 12, 13, 15, 16, 17, 18, 19, 0, 1, 2, 3, 4, 5, 6, 7, 8, 9, 10, 11, 12, 13, 14, 15, 16, 17, 18, 19, 1, 2, 3, 4, 5, 6, 7, 8, 9, 10, 12, 13, 14, 15, 16, 18, 0, 1, 3, 4, 6, 7, 8, 9, 10, 11, 12, 13, 14, 16, 18, 19, 0, 1, 2, 3, 5, 6, 7, 8, 9, 10, 11, 12, 13, 15, 16, 19, 0, 2, 3, 4, 5, 6, 7, 8, 9, 10, 11, 13, 15, 16, 17, 19, 1, 2, 3, 4, 5, 6, 7, 8, 9, 10, 11, 12, 13, 14, 15, 16, 17, 19, 0, 1, 2, 3, 4, 7, 9, 10, 11, 13, 14, 16, 18, 19, 0, 1, 3, 4, 5, 6, 7, 8, 9, 11, 12, 13, 14, 15, 16, 17, 19, 2, 7, 8, 9, 10, 11, 13, 14, 16, 0, 4, 8, 9, 11, 12, 13, 15, 2, 6, 8, 11, 0, 2, 13, 16, 17, 0, 4, 8, 10, 13, 3, 17, 19, 2, 3, 18, 12, 1, 9, 18, 19, 9, 11, 8, 10, 17, 0, 12], \"type\": \"scatter\"}, {\"text\": [\"<b>Ileana Ros-Lehtinen (R-FL)</b><br><i>@RosLehtinen</i><br><b>4.39% (141 / 3214)</b>\", \"<b>Dan Newhouse (R-WA)</b><br><i>@RepNewhouse</i><br><b>3.56% (38 / 1068)</b>\", \"<b>Marsha Blackburn (R-TN)</b><br><i>@MarshaBlackburn</i><br><b>2.45% (79 / 3226)</b>\", \"<b>Carlos Curbelo (R-FL)</b><br><i>@RepCurbelo</i><br><b>2.31% (68 / 2947)</b>\", \"<b>David Valadao (R-CA)</b><br><i>@RepDavidValadao</i><br><b>1.87% (17 / 909)</b>\", \"<b>Steve King (R-IA)</b><br><i>@SteveKingIA</i><br><b>1.24% (26 / 2098)</b>\", \"<b>John Cornyn (R-TX)</b><br><i>@JohnCornyn</i><br><b>1.09% (35 / 3215)</b>\", \"<b>Mia Love (R-UT)</b><br><i>@repmialove</i><br><b>1.00% (11 / 1103)</b>\", \"<b>Tom Cotton (R-AR)</b><br><i>@SenTomCotton</i><br><b>0.99% (32 / 3224)</b>\", \"<b>Orrin Hatch (R-UT)</b><br><i>@SenOrrinHatch</i><br><b>0.96% (31 / 3224)</b>\", \"<b>Thom Tillis (R-NC)</b><br><i>@senthomtillis</i><br><b>0.95% (29 / 3038)</b>\", \"<b>Mike Coffman (R-CO)</b><br><i>@RepMikeCoffman</i><br><b>0.81% (25 / 3069)</b>\", \"<b>Mario Diaz-Balart (R-FL)</b><br><i>@MarioDB</i><br><b>0.78% (25 / 3211)</b>\", \"<b>Andy Biggs (R-AZ)</b><br><i>@RepAndyBiggsAZ</i><br><b>0.70% (15 / 2143)</b>\", \"<b>Jeff Flake (R-AZ)</b><br><i>@JeffFlake</i><br><b>0.70% (17 / 2440)</b>\", \"<b>Jeffrey Denham (R-CA)</b><br><i>@RepJeffDenham</i><br><b>0.68% (18 / 2644)</b>\", \"<b>Lou Barletta (R-PA)</b><br><i>@RepLouBarletta</i><br><b>0.61% (15 / 2472)</b>\", \"<b>John Faso (R-NY)</b><br><i>@RepJohnFaso</i><br><b>0.60% (3 / 500)</b>\", \"<b>James Lankford (R-OK)</b><br><i>@SenatorLankford</i><br><b>0.59% (19 / 3211)</b>\", \"<b>Duncan Hunter (R-CA)</b><br><i>@Rep_Hunter</i><br><b>0.57% (2 / 349)</b>\", \"<b>Steve Russell (R-OK)</b><br><i>@RepRussell</i><br><b>0.48% (2 / 419)</b>\", \"<b>Don Bacon (R-NE)</b><br><i>@RepDonBacon</i><br><b>0.45% (10 / 2211)</b>\", \"<b>Alex Mooney (R-WV)</b><br><i>@RepAlexMooney</i><br><b>0.45% (6 / 1332)</b>\", \"<b>Paul Gosar (R-AZ)</b><br><i>@RepGosar</i><br><b>0.44% (14 / 3187)</b>\", \"<b>Warren Davidson (R-OH)</b><br><i>@WarrenDavidson</i><br><b>0.41% (5 / 1215)</b>\", \"<b>Louie Gohmert (R-TX)</b><br><i>@RepLouieGohmert</i><br><b>0.40% (13 / 3220)</b>\", \"<b>Martha McSally (R-AZ)</b><br><i>@RepMcSally</i><br><b>0.37% (9 / 2408)</b>\", \"<b>Susan Brooks (R-IN)</b><br><i>@SusanWBrooks</i><br><b>0.37% (12 / 3240)</b>\", \"<b>Jody Hice (R-GA)</b><br><i>@congressmanhice</i><br><b>0.34% (6 / 1771)</b>\", \"<b>Erik Paulsen (R-MN)</b><br><i>@RepErikPaulsen</i><br><b>0.31% (10 / 3236)</b>\", \"<b>Lloyd Smucker (R-PA)</b><br><i>@RepSmucker</i><br><b>0.30% (8 / 2696)</b>\", \"<b>Francis Rooney (R-FL)</b><br><i>@RepRooney</i><br><b>0.29% (2 / 687)</b>\", \"<b>Tom MacArthur (R-NJ)</b><br><i>@RepTomMacArthur</i><br><b>0.28% (5 / 1784)</b>\", \"<b>Fred Upton (R-MI)</b><br><i>@RepFredUpton</i><br><b>0.28% (9 / 3221)</b>\", \"<b>Jim Banks (R-IN)</b><br><i>@RepJimBanks</i><br><b>0.28% (4 / 1438)</b>\", \"<b>Tom McClintock (R-CA)</b><br><i>@RepMcClintock</i><br><b>0.27% (1 / 365)</b>\", \"<b>Dave Reichert (R-WA)</b><br><i>@DaveReichert</i><br><b>0.22% (7 / 3197)</b>\", \"<b>Will Hurd (R-TX)</b><br><i>@hurdonthehill</i><br><b>0.22% (7 / 3238)</b>\", \"<b>Bill Flores (R-TX)</b><br><i>@RepBillFlores</i><br><b>0.22% (7 / 3242)</b>\", \"<b>David Perdue (R-GA)</b><br><i>@sendavidperdue</i><br><b>0.21% (6 / 2825)</b>\", \"<b>Matt Gaetz (R-FL)</b><br><i>@RepMattGaetz</i><br><b>0.21% (2 / 961)</b>\", \"<b>Mo Brooks (R-AL)</b><br><i>@RepMoBrooks</i><br><b>0.20% (3 / 1467)</b>\", \"<b>Barry Loudermilk (R-GA)</b><br><i>@RepLoudermilk</i><br><b>0.20% (3 / 1514)</b>\", \"<b>Jodey Arrington (R-TX)</b><br><i>@RepArrington</i><br><b>0.20% (1 / 505)</b>\", \"<b>Robert Pittenger (R-NC)</b><br><i>@RepPittenger</i><br><b>0.19% (6 / 3218)</b>\", \"<b>Sean Duffy (R-WI)</b><br><i>@RepSeanDuffy</i><br><b>0.19% (6 / 3230)</b>\", \"<b>Steve Pearce (R-NM)</b><br><i>@RepStevePearce</i><br><b>0.18% (6 / 3250)</b>\", \"<b>Jack Bergman (R-MI)</b><br><i>@RepJackBergman</i><br><b>0.17% (1 / 599)</b>\", \"<b>Tom Graves (R-GA)</b><br><i>@RepTomGraves</i><br><b>0.15% (5 / 3228)</b>\", \"<b>Bruce Poliquin (R-ME)</b><br><i>@RepPoliquin</i><br><b>0.15% (2 / 1293)</b>\", \"<b>Robert Goodlatte (R-VA)</b><br><i>@RepGoodlatte</i><br><b>0.15% (5 / 3233)</b>\", \"<b>Jason Lewis (R-MN)</b><br><i>@RepJasonLewis</i><br><b>0.15% (1 / 656)</b>\", \"<b>Ra\\u00fal Labrador (R-ID)</b><br><i>@Raul_Labrador</i><br><b>0.15% (3 / 2014)</b>\", \"<b>Jaime Herrera Beutler (R-WA)</b><br><i>@HerreraBeutler</i><br><b>0.15% (1 / 674)</b>\", \"<b>Mike Kelly (R-PA)</b><br><i>@MikeKellyPA</i><br><b>0.14% (3 / 2070)</b>\", \"<b>Steve Knight (R-CA)</b><br><i>@SteveKnight25</i><br><b>0.13% (1 / 750)</b>\", \"<b>Paul Cook (R-CA)</b><br><i>@RepPaulCook</i><br><b>0.13% (2 / 1519)</b>\", \"<b>Roger Williams (R-TX)</b><br><i>@RepRWilliams</i><br><b>0.13% (4 / 3076)</b>\", \"<b>Adam Kinzinger (R-IL)</b><br><i>@RepKinzinger</i><br><b>0.12% (4 / 3200)</b>\", \"<b>Charles Grassley (R-IA)</b><br><i>@ChuckGrassley</i><br><b>0.12% (4 / 3206)</b>\", \"<b>Glenn Thompson (R-PA)</b><br><i>@CongressmanGT</i><br><b>0.12% (4 / 3217)</b>\", \"<b>Mitch McConnell (R-KY)</b><br><i>@McConnellPress</i><br><b>0.12% (4 / 3219)</b>\", \"<b>Mike Lee (R-UT)</b><br><i>@SenMikeLee</i><br><b>0.12% (4 / 3229)</b>\", \"<b>Darrell Issa (R-CA)</b><br><i>@DarrellIssa</i><br><b>0.12% (4 / 3230)</b>\", \"<b>Frank LoBiondo (R-NJ)</b><br><i>@RepLoBiondo</i><br><b>0.12% (4 / 3240)</b>\", \"<b>Kevin Yoder (R-KS)</b><br><i>@RepKevinYoder</i><br><b>0.12% (4 / 3248)</b>\", \"<b>Leonard Lance (R-NJ)</b><br><i>@RepLanceNJ7</i><br><b>0.12% (2 / 1638)</b>\", \"<b>Ted Yoho (R-FL)</b><br><i>@RepTedYoho</i><br><b>0.11% (1 / 911)</b>\", \"<b>Trey Gowdy (R-SC)</b><br><i>@TGowdySC</i><br><b>0.11% (2 / 1829)</b>\", \"<b>Rod Blum (R-IA)</b><br><i>@RepRodBlum</i><br><b>0.10% (2 / 2043)</b>\", \"<b>Mike Rounds (R-SD)</b><br><i>@SenatorRounds</i><br><b>0.10% (2 / 2051)</b>\", \"<b>Ron Johnson (R-WI)</b><br><i>@SenRonJohnson</i><br><b>0.09% (3 / 3196)</b>\", \"<b>Rodney Davis (R-IL)</b><br><i>@RodneyDavis</i><br><b>0.09% (3 / 3202)</b>\", \"<b>Martha Roby (R-AL)</b><br><i>@RepMarthaRoby</i><br><b>0.09% (3 / 3212)</b>\", \"<b>Mimi Walters (R-CA)</b><br><i>@RepMimiWalters</i><br><b>0.09% (3 / 3212)</b>\", \"<b>John McCain (R-AZ)</b><br><i>@SenJohnMcCain</i><br><b>0.09% (3 / 3217)</b>\", \"<b>Rob Portman (R-OH)</b><br><i>@SenRobPortman</i><br><b>0.09% (3 / 3217)</b>\", \"<b>Bradley Byrne (R-AL)</b><br><i>@RepByrne</i><br><b>0.09% (3 / 3221)</b>\", \"<b>Jeffrey Duncan (R-SC)</b><br><i>@RepJeffDuncan</i><br><b>0.09% (3 / 3223)</b>\", \"<b>Michael Burgess (R-TX)</b><br><i>@MichaelCBurgess</i><br><b>0.09% (3 / 3225)</b>\", \"<b>Mark Meadows (R-NC)</b><br><i>@RepMarkMeadows</i><br><b>0.09% (3 / 3233)</b>\", \"<b>Sam Johnson (R-TX)</b><br><i>@SamsPressShop</i><br><b>0.09% (1 / 1078)</b>\", \"<b>Rick Allen (R-GA)</b><br><i>@reprickallen</i><br><b>0.09% (1 / 1125)</b>\", \"<b>Claudia Tenney (R-NY)</b><br><i>@RepTenney</i><br><b>0.09% (1 / 1142)</b>\", \"<b>Mark Amodei (R-NV)</b><br><i>@MarkAmodeiNV2</i><br><b>0.09% (1 / 1166)</b>\", \"<b>Mike Bost (R-IL)</b><br><i>@RepBost</i><br><b>0.09% (1 / 1169)</b>\", \"<b>Lee Zeldin (R-NY)</b><br><i>@RepLeeZeldin</i><br><b>0.09% (1 / 1172)</b>\", \"<b>Jim Jordan (R-OH)</b><br><i>@Jim_Jordan</i><br><b>0.08% (2 / 2362)</b>\", \"<b>Ryan Zinke (R-MT)</b><br><i>@RepRyanZinke</i><br><b>0.08% (1 / 1196)</b>\", \"<b>Buddy Carter (R-GA)</b><br><i>@RepBuddyCarter</i><br><b>0.08% (1 / 1211)</b>\", \"<b>Bill Posey (R-FL)</b><br><i>@CongBillPosey</i><br><b>0.08% (1 / 1250)</b>\", \"<b>Robert Aderholt (R-AL)</b><br><i>@Robert_Aderholt</i><br><b>0.07% (1 / 1348)</b>\", \"<b>Barbara Comstock (R-VA)</b><br><i>@RepComstock</i><br><b>0.07% (2 / 2704)</b>\", \"<b>Mark Walker (R-NC)</b><br><i>@RepMarkWalker</i><br><b>0.07% (2 / 2788)</b>\", \"<b>Bob Gibbs (R-OH)</b><br><i>@RepBobGibbs</i><br><b>0.07% (2 / 2893)</b>\", \"<b>Don Young (R-AK)</b><br><i>@RepDonYoung</i><br><b>0.07% (1 / 1448)</b>\", \"<b>Steve Stivers (R-OH)</b><br><i>@RepSteveStivers</i><br><b>0.07% (2 / 2900)</b>\", \"<b>David Brat (R-VA)</b><br><i>@RepDaveBrat</i><br><b>0.07% (1 / 1457)</b>\", \"<b>Michael McCaul (R-TX)</b><br><i>@RepMcCaul</i><br><b>0.07% (2 / 3027)</b>\", \"<b>Daniel Donovan (R-NY)</b><br><i>@RepDanDonovan</i><br><b>0.06% (1 / 1546)</b>\", \"<b>Robert Wittman (R-VA)</b><br><i>@RobWittman</i><br><b>0.06% (2 / 3169)</b>\", \"<b>Joe Wilson (R-SC)</b><br><i>@RepJoeWilson</i><br><b>0.06% (1 / 1598)</b>\", \"<b>Patrick McHenry (R-NC)</b><br><i>@PatrickMcHenry</i><br><b>0.06% (2 / 3212)</b>\", \"<b>Roger Wicker (R-MS)</b><br><i>@SenatorWicker</i><br><b>0.06% (2 / 3212)</b>\", \"<b>Todd Rokita (R-IN)</b><br><i>@ToddRokita</i><br><b>0.06% (2 / 3216)</b>\", \"<b>Tom Price (R-GA)</b><br><i>@RepTomPrice</i><br><b>0.06% (2 / 3219)</b>\", \"<b>Lamar Smith (R-TX)</b><br><i>@LamarSmithTX21</i><br><b>0.06% (2 / 3220)</b>\", \"<b>Rick Crawford (R-AR)</b><br><i>@RepRickCrawford</i><br><b>0.06% (2 / 3220)</b>\", \"<b>Cory Gardner (R-CO)</b><br><i>@SenCoryGardner</i><br><b>0.06% (2 / 3223)</b>\", \"<b>Larry Bucshon (R-IN)</b><br><i>@RepLarryBucshon</i><br><b>0.06% (2 / 3227)</b>\", \"<b>Johnny Isakson (R-GA)</b><br><i>@SenatorIsakson</i><br><b>0.06% (2 / 3230)</b>\", \"<b>Vicky Hartzler (R-MO)</b><br><i>@RepHartzler</i><br><b>0.06% (2 / 3231)</b>\", \"<b>Bruce Westerman (R-AR)</b><br><i>@RepWesterman</i><br><b>0.06% (2 / 3237)</b>\", \"<b>Bill Shuster (R-PA)</b><br><i>@RepBillShuster</i><br><b>0.06% (2 / 3238)</b>\", \"<b>Steve Womack (R-AR)</b><br><i>@Rep_SteveWomack</i><br><b>0.06% (2 / 3240)</b>\", \"<b>Doug Lamborn (R-CO)</b><br><i>@RepDLamborn</i><br><b>0.06% (2 / 3244)</b>\", \"<b>Blaine Luetkemeyer (R-MO)</b><br><i>@RepBlainePress</i><br><b>0.06% (1 / 1628)</b>\", \"<b>Joni Ernst (R-IA)</b><br><i>@SenJoniErnst</i><br><b>0.06% (1 / 1696)</b>\", \"<b>Luke Messer (R-IN)</b><br><i>@RepLukeMesser</i><br><b>0.05% (1 / 1931)</b>\", \"<b>Joe Barton (R-TX)</b><br><i>@RepJoeBarton</i><br><b>0.05% (1 / 2078)</b>\", \"<b>Tom Reed (R-NY)</b><br><i>@RepTomReed</i><br><b>0.04% (1 / 2246)</b>\", \"<b>Ron DeSantis (R-FL)</b><br><i>@RepDeSantis</i><br><b>0.04% (1 / 2282)</b>\", \"<b>Randy Weber (R-TX)</b><br><i>@TXRandy14</i><br><b>0.04% (1 / 2324)</b>\", \"<b>Steven Palazzo (R-MS)</b><br><i>@CongPalazzo</i><br><b>0.04% (1 / 2355)</b>\", \"<b>Peter King (R-NY)</b><br><i>@RepPeteKing</i><br><b>0.04% (1 / 2410)</b>\", \"<b>Charlie Dent (R-PA)</b><br><i>@RepCharlieDent</i><br><b>0.04% (1 / 2471)</b>\", \"<b>Scott Tipton (R-CO)</b><br><i>@RepTipton</i><br><b>0.04% (1 / 2523)</b>\", \"<b>Andy Harris (R-MD)</b><br><i>@RepAndyHarrisMD</i><br><b>0.04% (1 / 2756)</b>\", \"<b>Jeff Fortenberry (R-NE)</b><br><i>@JeffFortenberry</i><br><b>0.04% (1 / 2786)</b>\", \"<b>Chris Stewart (R-UT)</b><br><i>@RepChrisStewart</i><br><b>0.04% (1 / 2798)</b>\", \"<b>Garret Graves (R-LA)</b><br><i>@RepGarretGraves</i><br><b>0.04% (1 / 2799)</b>\", \"<b>Tom Marino (R-PA)</b><br><i>@RepTomMarino</i><br><b>0.03% (1 / 2893)</b>\", \"<b>Gregg Harper (R-MS)</b><br><i>@GreggHarper</i><br><b>0.03% (1 / 3123)</b>\", \"<b>Doug Collins (R-GA)</b><br><i>@RepDougCollins</i><br><b>0.03% (1 / 3159)</b>\", \"<b>Diane Black (R-TN)</b><br><i>@RepDianeBlack</i><br><b>0.03% (1 / 3188)</b>\", \"<b>Michael Crapo (R-ID)</b><br><i>@MikeCrapo</i><br><b>0.03% (1 / 3200)</b>\", \"<b>Michael Enzi (R-WY)</b><br><i>@SenatorEnzi</i><br><b>0.03% (1 / 3200)</b>\", \"<b>James Inhofe (R-OK)</b><br><i>@InhofePress</i><br><b>0.03% (1 / 3202)</b>\", \"<b>Cathy McMorris Rodgers (R-WA)</b><br><i>@CathyMcMorris</i><br><b>0.03% (1 / 3203)</b>\", \"<b>Kevin McCarthy (R-CA)</b><br><i>@GOPLeader</i><br><b>0.03% (1 / 3203)</b>\", \"<b>Deb Fischer (R-NE)</b><br><i>@SenatorFischer</i><br><b>0.03% (1 / 3209)</b>\", \"<b>Lisa Murkowski (R-AK)</b><br><i>@LisaMurkowski</i><br><b>0.03% (1 / 3211)</b>\", \"<b>Paul Ryan (R-WI)</b><br><i>@SpeakerRyan</i><br><b>0.03% (1 / 3211)</b>\", \"<b>John Boozman (R-AR)</b><br><i>@JohnBoozman</i><br><b>0.03% (1 / 3212)</b>\", \"<b>John Carter (R-TX)</b><br><i>@JudgeCarter</i><br><b>0.03% (1 / 3214)</b>\", \"<b>Kenny Marchant (R-TX)</b><br><i>@RepKenMarchant</i><br><b>0.03% (1 / 3214)</b>\", \"<b>David Young (R-IA)</b><br><i>@RepDavidYoung</i><br><b>0.03% (1 / 3217)</b>\", \"<b>Patrick Toomey (R-PA)</b><br><i>@SenToomey</i><br><b>0.03% (1 / 3217)</b>\", \"<b>Jim Renacci (R-OH)</b><br><i>@RepJimRenacci</i><br><b>0.03% (1 / 3219)</b>\", \"<b>John Shimkus (R-IL)</b><br><i>@RepShimkus</i><br><b>0.03% (1 / 3221)</b>\", \"<b>Keith Rothfus (R-PA)</b><br><i>@KeithRothfus</i><br><b>0.03% (1 / 3224)</b>\", \"<b>Mike Rogers (R-AL)</b><br><i>@RepMikeRogersAL</i><br><b>0.03% (1 / 3224)</b>\", \"<b>Billy Long (R-MO)</b><br><i>@USRepLong</i><br><b>0.03% (1 / 3232)</b>\", \"<b>Roy Blunt (R-MO)</b><br><i>@RoyBlunt</i><br><b>0.03% (1 / 3232)</b>\", \"<b>Bob Corker (R-TN)</b><br><i>@SenBobCorker</i><br><b>0.03% (1 / 3234)</b>\", \"<b>Bill Johnson (R-OH)</b><br><i>@RepBillJohnson</i><br><b>0.03% (1 / 3238)</b>\", \"<b>Blake Farenthold (R-TX)</b><br><i>@Farenthold</i><br><b>0.03% (1 / 3247)</b>\", \"<b>Scott DesJarlais (R-TN)</b><br><i>@DesJarlaisTN04</i><br><b>0.03% (1 / 3248)</b>\", \"<b>A. Ferguson (R-GA)</b><br><i>@RepDrewFerguson</i><br><b>0.00% (0 / 838)</b>\", \"<b>Adrian Smith (R-NE)</b><br><i>@RepAdrianSmith</i><br><b>0.00% (0 / 2856)</b>\", \"<b>Amata Radewagen (R-AS)</b><br><i>@RepAmata</i><br><b>0.00% (0 / 309)</b>\", \"<b>Andy Barr (R-KY)</b><br><i>@RepAndyBarr</i><br><b>0.00% (0 / 2808)</b>\", \"<b>Ann Wagner (R-MO)</b><br><i>@RepAnnWagner</i><br><b>0.00% (0 / 2862)</b>\", \"<b>Austin Scott (R-GA)</b><br><i>@AustinScottGA08</i><br><b>0.00% (0 / 2261)</b>\", \"<b>Ben Sasse (R-NE)</b><br><i>@SenSasse</i><br><b>0.00% (0 / 846)</b>\", \"<b>Bill Huizenga (R-MI)</b><br><i>@RepHuizenga</i><br><b>0.00% (0 / 3239)</b>\", \"<b>Brad Wenstrup (R-OH)</b><br><i>@RepBradWenstrup</i><br><b>0.00% (0 / 3191)</b>\", \"<b>Brett Guthrie (R-KY)</b><br><i>@RepGuthrie</i><br><b>0.00% (0 / 741)</b>\", \"<b>Brian Babin (R-TX)</b><br><i>@RepBrianBabin</i><br><b>0.00% (0 / 2274)</b>\", \"<b>Brian Fitzpatrick (R-PA)</b><br><i>@repbrianfitz</i><br><b>0.00% (0 / 624)</b>\", \"<b>Brian Mast (R-FL)</b><br><i>@repbrianmast</i><br><b>0.00% (0 / 629)</b>\", \"<b>Chris Collins (R-NY)</b><br><i>@RepChrisCollins</i><br><b>0.00% (0 / 3238)</b>\", \"<b>Christopher Smith (R-NJ)</b><br><i>@RepChrisSmith</i><br><b>0.00% (0 / 1042)</b>\", \"<b>Chuck Fleischmann (R-TN)</b><br><i>@RepChuck</i><br><b>0.00% (0 / 1753)</b>\", \"<b>Clay Higgins (R-LA)</b><br><i>@RepClayHiggins</i><br><b>0.00% (0 / 475)</b>\", \"<b>Dan Sullivan (R-AK)</b><br><i>@SenDanSullivan</i><br><b>0.00% (0 / 1827)</b>\", \"<b>Daniel Webster (R-FL)</b><br><i>@RepWebster</i><br><b>0.00% (0 / 3078)</b>\", \"<b>Darin LaHood (R-IL)</b><br><i>@RepLaHood</i><br><b>0.00% (0 / 899)</b>\", \"<b>Dave Joyce (R-OH)</b><br><i>@RepDaveJoyce</i><br><b>0.00% (0 / 3200)</b>\", \"<b>Dave Trott (R-MI)</b><br><i>@repdavetrott</i><br><b>0.00% (0 / 419)</b>\", \"<b>David Kustoff (R-TN)</b><br><i>@repdavidkustoff</i><br><b>0.00% (0 / 445)</b>\", \"<b>David McKinley (R-WV)</b><br><i>@RepMcKinley</i><br><b>0.00% (0 / 3223)</b>\", \"<b>David Rouzer (R-NC)</b><br><i>@RepDavidRouzer</i><br><b>0.00% (0 / 585)</b>\", \"<b>David Schweikert (R-AZ)</b><br><i>@RepDavid</i><br><b>0.00% (0 / 3224)</b>\", \"<b>Dean Heller (R-NV)</b><br><i>@SenDeanHeller</i><br><b>0.00% (0 / 3204)</b>\", \"<b>Dennis Ross (R-FL)</b><br><i>@RepDennisRoss</i><br><b>0.00% (0 / 3219)</b>\", \"<b>Doug LaMalfa (R-CA)</b><br><i>@RepLaMalfa</i><br><b>0.00% (0 / 398)</b>\", \"<b>Edward Royce (R-CA)</b><br><i>@RepEdRoyce</i><br><b>0.00% (0 / 3194)</b>\", \"<b>Elise Stefanik (R-NY)</b><br><i>@RepStefanik</i><br><b>0.00% (0 / 2889)</b>\", \"<b>Evan Jenkins (R-WV)</b><br><i>@RepEvanJenkins</i><br><b>0.00% (0 / 2357)</b>\", \"<b>F. Sensenbrenner (R-WI)</b><br><i>@JimPressOffice</i><br><b>0.00% (0 / 1177)</b>\", \"<b>Frank Lucas (R-OK)</b><br><i>@RepFrankLucas</i><br><b>0.00% (0 / 650)</b>\", \"<b>French Hill (R-AR)</b><br><i>@RepFrenchHill</i><br><b>0.00% (0 / 1516)</b>\", \"<b>Gary Palmer (R-AL)</b><br><i>@USRepGaryPalmer</i><br><b>0.00% (0 / 1749)</b>\", \"<b>George Holding (R-NC)</b><br><i>@RepHolding</i><br><b>0.00% (0 / 680)</b>\", \"<b>Glenn Grothman (R-WI)</b><br><i>@RepGrothman</i><br><b>0.00% (0 / 1021)</b>\", \"<b>Greg Walden (R-OR)</b><br><i>@RepGregWalden</i><br><b>0.00% (0 / 2087)</b>\", \"<b>Gus Bilirakis (R-FL)</b><br><i>@RepGusBilirakis</i><br><b>0.00% (0 / 3226)</b>\", \"<b>Harold Rogers (R-KY)</b><br><i>@RepHalRogers</i><br><b>0.00% (0 / 3212)</b>\", \"<b>Jackie Walorski (R-IN)</b><br><i>@RepWalorski</i><br><b>0.00% (0 / 3234)</b>\", \"<b>Jason Chaffetz (R-UT)</b><br><i>@JasonInTheHouse</i><br><b>0.00% (0 / 3244)</b>\", \"<b>Jason Smith (R-MO)</b><br><i>@RepJasonSmith</i><br><b>0.00% (0 / 2669)</b>\", \"<b>Jeb Hensarling (R-TX)</b><br><i>@RepHensarling</i><br><b>0.00% (0 / 934)</b>\", \"<b>Jenniffer Gonz\\u00e1lez-Col\\u00f3n (R-PR)</b><br><i>@repjenniffer</i><br><b>0.00% (0 / 2149)</b>\", \"<b>Jerry Moran (R-KS)</b><br><i>@JerryMoran</i><br><b>0.00% (0 / 3237)</b>\", \"<b>Jim Bridenstine (R-OK)</b><br><i>@RepJBridenstine</i><br><b>0.00% (0 / 1434)</b>\", \"<b>Jim Risch (R-ID)</b><br><i>@SenatorRisch</i><br><b>0.00% (0 / 998)</b>\", \"<b>John Barrasso (R-WY)</b><br><i>@SenJohnBarrasso</i><br><b>0.00% (0 / 3231)</b>\", \"<b>John Culberson (R-TX)</b><br><i>@CongCulberson</i><br><b>0.00% (0 / 2535)</b>\", \"<b>John Duncan (R-TN)</b><br><i>@RepJohnDuncanJr</i><br><b>0.00% (0 / 662)</b>\", \"<b>John Hoeven (R-ND)</b><br><i>@SenJohnHoeven</i><br><b>0.00% (0 / 2376)</b>\", \"<b>John Katko (R-NY)</b><br><i>@RepJohnKatko</i><br><b>0.00% (0 / 547)</b>\", \"<b>John Kennedy (R-LA)</b><br><i>@SenJohnKennedy</i><br><b>0.00% (0 / 679)</b>\", \"<b>John Moolenaar (R-MI)</b><br><i>@RepMoolenaar</i><br><b>0.00% (0 / 702)</b>\", \"<b>John Ratcliffe (R-TX)</b><br><i>@RepRatcliffe</i><br><b>0.00% (0 / 1909)</b>\", \"<b>John Rutherford (R-FL)</b><br><i>@RepRutherfordFL</i><br><b>0.00% (0 / 495)</b>\", \"<b>John Thune (R-SD)</b><br><i>@SenJohnThune</i><br><b>0.00% (0 / 3238)</b>\", \"<b>K. Conaway (R-TX)</b><br><i>@ConawayTX11</i><br><b>0.00% (0 / 742)</b>\", \"<b>Karen Handel (R-GA)</b><br><i>@RepKHandel</i><br><b>0.00% (0 / 102)</b>\", \"<b>Kay Granger (R-TX)</b><br><i>@RepKayGranger</i><br><b>0.00% (0 / 1489)</b>\", \"<b>Ken Buck (R-CO)</b><br><i>@RepKenBuck</i><br><b>0.00% (0 / 1174)</b>\", \"<b>Ken Calvert (R-CA)</b><br><i>@KenCalvert</i><br><b>0.00% (0 / 3204)</b>\", \"<b>Kevin Brady (R-TX)</b><br><i>@RepKevinBrady</i><br><b>0.00% (0 / 3222)</b>\", \"<b>Kevin Cramer (R-ND)</b><br><i>@RepKevinCramer</i><br><b>0.00% (0 / 2616)</b>\", \"<b>Kristi Noem (R-SD)</b><br><i>@RepKristiNoem</i><br><b>0.00% (0 / 3222)</b>\", \"<b>Lamar Alexander (R-TN)</b><br><i>@SenAlexander</i><br><b>0.00% (0 / 3245)</b>\", \"<b>Lindsey Graham (R-SC)</b><br><i>@GrahamBlog</i><br><b>0.00% (0 / 3248)</b>\", \"<b>Liz Cheney (R-WY)</b><br><i>@RepLizCheney</i><br><b>0.00% (0 / 177)</b>\", \"<b>Luther Strange (R-AL)</b><br><i>@SenatorStrange</i><br><b>0.00% (0 / 485)</b>\", \"<b>Lynn Jenkins (R-KS)</b><br><i>@RepLynnJenkins</i><br><b>0.00% (0 / 3242)</b>\", \"<b>Marco Rubio (R-FL)</b><br><i>@SenRubioPress</i><br><b>0.00% (0 / 3226)</b>\", \"<b>Mark Sanford (R-SC)</b><br><i>@RepSanfordSC</i><br><b>0.00% (0 / 2183)</b>\", \"<b>Markwayne Mullin (R-OK)</b><br><i>@RepMullin</i><br><b>0.00% (0 / 2242)</b>\", \"<b>Michael Turner (R-OH)</b><br><i>@RepMikeTurner</i><br><b>0.00% (0 / 2319)</b>\", \"<b>Mike Bishop (R-MI)</b><br><i>@RepMikeBishop</i><br><b>0.00% (0 / 1610)</b>\", \"<b>Mike Gallagher (R-WI)</b><br><i>@RepGallagher</i><br><b>0.00% (0 / 1113)</b>\", \"<b>Mike Johnson (R-LA)</b><br><i>@RepMikeJohnson</i><br><b>0.00% (0 / 599)</b>\", \"<b>Mike Simpson (R-ID)</b><br><i>@CongMikeSimpson</i><br><b>0.00% (0 / 488)</b>\", \"<b>Morgan Griffith (R-VA)</b><br><i>@RepMGriffith</i><br><b>0.00% (0 / 1072)</b>\", \"<b>Neal Dunn (R-FL)</b><br><i>@drnealdunnfl2</i><br><b>0.00% (0 / 647)</b>\", \"<b>Pat Meehan (R-PA)</b><br><i>@RepMeehan</i><br><b>0.00% (0 / 3220)</b>\", \"<b>Pat Roberts (R-KS)</b><br><i>@SenPatRoberts</i><br><b>0.00% (0 / 3233)</b>\", \"<b>Paul Mitchell (R-MI)</b><br><i>@RepPaulMitchell</i><br><b>0.00% (0 / 619)</b>\", \"<b>Pete Olson (R-TX)</b><br><i>@RepPeteOlson</i><br><b>0.00% (0 / 3218)</b>\", \"<b>Pete Sessions (R-TX)</b><br><i>@PeteSessions</i><br><b>0.00% (0 / 3205)</b>\", \"<b>Peter Roskam (R-IL)</b><br><i>@PeterRoskam</i><br><b>0.00% (0 / 3194)</b>\", \"<b>Phil Roe (R-TN)</b><br><i>@DrPhilRoe</i><br><b>0.00% (0 / 2772)</b>\", \"<b>Ralph Abraham (R-LA)</b><br><i>@RepAbraham</i><br><b>0.00% (0 / 441)</b>\", \"<b>Ralph Norman (R-SC)</b><br><i>@RepRalphNorman</i><br><b>0.00% (0 / 312)</b>\", \"<b>Randy Hultgren (R-IL)</b><br><i>@RepHultgren</i><br><b>0.00% (0 / 3210)</b>\", \"<b>Richard Burr (R-NC)</b><br><i>@SenatorBurr</i><br><b>0.00% (0 / 3225)</b>\", \"<b>Richard Hudson (R-NC)</b><br><i>@RepRichHudson</i><br><b>0.00% (0 / 3205)</b>\", \"<b>Richard Shelby (R-AL)</b><br><i>@SenShelby</i><br><b>0.00% (0 / 1559)</b>\", \"<b>Rob Woodall (R-GA)</b><br><i>@RepRobWoodall</i><br><b>0.00% (0 / 644)</b>\", \"<b>Robert Latta (R-OH)</b><br><i>@BobLatta</i><br><b>0.00% (0 / 3229)</b>\", \"<b>Rodney Frelinghuysen (R-NJ)</b><br><i>@USRepRodney</i><br><b>0.00% (0 / 1118)</b>\", \"<b>Ron Estes (R-KS)</b><br><i>@RepRonEstes</i><br><b>0.00% (0 / 126)</b>\", \"<b>Ryan Costello (R-PA)</b><br><i>@RepRyanCostello</i><br><b>0.00% (0 / 1459)</b>\", \"<b>Sam Graves (R-MO)</b><br><i>@RepSamGraves</i><br><b>0.00% (0 / 3199)</b>\", \"<b>Scott Perry (R-PA)</b><br><i>@RepScottPerry</i><br><b>0.00% (0 / 2974)</b>\", \"<b>Shelley Capito (R-WV)</b><br><i>@SenCapito</i><br><b>0.00% (0 / 3211)</b>\", \"<b>Steve Daines (R-MT)</b><br><i>@SteveDaines</i><br><b>0.00% (0 / 3204)</b>\", \"<b>Steve Scalise (R-LA)</b><br><i>@SteveScalise</i><br><b>0.00% (0 / 3202)</b>\", \"<b>Steven Chabot (R-OH)</b><br><i>@RepSteveChabot</i><br><b>0.00% (0 / 3145)</b>\", \"<b>Susan Collins (R-ME)</b><br><i>@SenatorCollins</i><br><b>0.00% (0 / 2437)</b>\", \"<b>Ted Budd (R-NC)</b><br><i>@RepTedBudd</i><br><b>0.00% (0 / 511)</b>\", \"<b>Ted Cruz (R-TX)</b><br><i>@SenTedCruz</i><br><b>0.00% (0 / 3233)</b>\", \"<b>Ted Poe (R-TX)</b><br><i>@JudgeTedPoe</i><br><b>0.00% (0 / 3221)</b>\", \"<b>Thad Cochran (R-MS)</b><br><i>@SenThadCochran</i><br><b>0.00% (0 / 2026)</b>\", \"<b>Thomas Massie (R-KY)</b><br><i>@RepThomasMassie</i><br><b>0.00% (0 / 2460)</b>\", \"<b>Tim Scott (R-SC)</b><br><i>@SenatorTimScott</i><br><b>0.00% (0 / 3241)</b>\", \"<b>Tim Walberg (R-MI)</b><br><i>@RepWalberg</i><br><b>0.00% (0 / 3209)</b>\", \"<b>Tom Cole (R-OK)</b><br><i>@TomColeOK04</i><br><b>0.00% (0 / 1149)</b>\", \"<b>Tom Emmer (R-MN)</b><br><i>@RepTomEmmer</i><br><b>0.00% (0 / 3244)</b>\", \"<b>Tom Rice (R-SC)</b><br><i>@RepTomRice</i><br><b>0.00% (0 / 1060)</b>\", \"<b>Tom Rooney (R-FL)</b><br><i>@TomRooney</i><br><b>0.00% (0 / 2803)</b>\", \"<b>Trent Kelly (R-MS)</b><br><i>@reptrentkelly</i><br><b>0.00% (0 / 839)</b>\", \"<b>Trey Hollingsworth (R-IN)</b><br><i>@reptrey</i><br><b>0.00% (0 / 178)</b>\", \"<b>Vern Buchanan (R-FL)</b><br><i>@VernBuchanan</i><br><b>0.00% (0 / 2369)</b>\", \"<b>Virginia Foxx (R-NC)</b><br><i>@VirginiaFoxx</i><br><b>0.00% (0 / 3214)</b>\", \"<b>Walter Jones (R-NC)</b><br><i>@RepWalterJones</i><br><b>0.00% (0 / 2133)</b>\", \"<b>William Thornberry (R-TX)</b><br><i>@MacTXPress</i><br><b>0.00% (0 / 1055)</b>\"], \"marker\": {\"color\": [\"rgb(0.946666666667,0.268235294118,0.196078431373)\", \"rgb(0.946666666667,0.268235294118,0.196078431373)\", \"rgb(0.946666666667,0.268235294118,0.196078431373)\", \"rgb(0.946666666667,0.268235294118,0.196078431373)\", \"rgb(0.946666666667,0.268235294118,0.196078431373)\", \"rgb(0.946666666667,0.268235294118,0.196078431373)\", \"rgb(0.946666666667,0.268235294118,0.196078431373)\", \"rgb(0.946666666667,0.268235294118,0.196078431373)\", \"rgb(0.946666666667,0.268235294118,0.196078431373)\", \"rgb(0.946666666667,0.268235294118,0.196078431373)\", \"rgb(0.946666666667,0.268235294118,0.196078431373)\", \"rgb(0.946666666667,0.268235294118,0.196078431373)\", \"rgb(0.946666666667,0.268235294118,0.196078431373)\", \"rgb(0.946666666667,0.268235294118,0.196078431373)\", \"rgb(0.946666666667,0.268235294118,0.196078431373)\", \"rgb(0.946666666667,0.268235294118,0.196078431373)\", \"rgb(0.946666666667,0.268235294118,0.196078431373)\", \"rgb(0.946666666667,0.268235294118,0.196078431373)\", \"rgb(0.946666666667,0.268235294118,0.196078431373)\", \"rgb(0.946666666667,0.268235294118,0.196078431373)\", \"rgb(0.946666666667,0.268235294118,0.196078431373)\", \"rgb(0.946666666667,0.268235294118,0.196078431373)\", \"rgb(0.946666666667,0.268235294118,0.196078431373)\", \"rgb(0.946666666667,0.268235294118,0.196078431373)\", \"rgb(0.946666666667,0.268235294118,0.196078431373)\", \"rgb(0.946666666667,0.268235294118,0.196078431373)\", \"rgb(0.946666666667,0.268235294118,0.196078431373)\", \"rgb(0.946666666667,0.268235294118,0.196078431373)\", \"rgb(0.946666666667,0.268235294118,0.196078431373)\", \"rgb(0.946666666667,0.268235294118,0.196078431373)\", \"rgb(0.946666666667,0.268235294118,0.196078431373)\", \"rgb(0.946666666667,0.268235294118,0.196078431373)\", \"rgb(0.946666666667,0.268235294118,0.196078431373)\", \"rgb(0.946666666667,0.268235294118,0.196078431373)\", \"rgb(0.946666666667,0.268235294118,0.196078431373)\", \"rgb(0.946666666667,0.268235294118,0.196078431373)\", \"rgb(0.946666666667,0.268235294118,0.196078431373)\", \"rgb(0.946666666667,0.268235294118,0.196078431373)\", \"rgb(0.946666666667,0.268235294118,0.196078431373)\", \"rgb(0.946666666667,0.268235294118,0.196078431373)\", \"rgb(0.946666666667,0.268235294118,0.196078431373)\", \"rgb(0.946666666667,0.268235294118,0.196078431373)\", \"rgb(0.946666666667,0.268235294118,0.196078431373)\", \"rgb(0.946666666667,0.268235294118,0.196078431373)\", \"rgb(0.946666666667,0.268235294118,0.196078431373)\", \"rgb(0.946666666667,0.268235294118,0.196078431373)\", \"rgb(0.946666666667,0.268235294118,0.196078431373)\", \"rgb(0.946666666667,0.268235294118,0.196078431373)\", \"rgb(0.946666666667,0.268235294118,0.196078431373)\", \"rgb(0.946666666667,0.268235294118,0.196078431373)\", \"rgb(0.946666666667,0.268235294118,0.196078431373)\", \"rgb(0.946666666667,0.268235294118,0.196078431373)\", \"rgb(0.946666666667,0.268235294118,0.196078431373)\", \"rgb(0.946666666667,0.268235294118,0.196078431373)\", \"rgb(0.946666666667,0.268235294118,0.196078431373)\", \"rgb(0.946666666667,0.268235294118,0.196078431373)\", \"rgb(0.946666666667,0.268235294118,0.196078431373)\", \"rgb(0.946666666667,0.268235294118,0.196078431373)\", \"rgb(0.946666666667,0.268235294118,0.196078431373)\", \"rgb(0.946666666667,0.268235294118,0.196078431373)\", \"rgb(0.946666666667,0.268235294118,0.196078431373)\", \"rgb(0.946666666667,0.268235294118,0.196078431373)\", \"rgb(0.946666666667,0.268235294118,0.196078431373)\", \"rgb(0.946666666667,0.268235294118,0.196078431373)\", \"rgb(0.946666666667,0.268235294118,0.196078431373)\", \"rgb(0.946666666667,0.268235294118,0.196078431373)\", \"rgb(0.946666666667,0.268235294118,0.196078431373)\", \"rgb(0.946666666667,0.268235294118,0.196078431373)\", \"rgb(0.946666666667,0.268235294118,0.196078431373)\", \"rgb(0.946666666667,0.268235294118,0.196078431373)\", \"rgb(0.946666666667,0.268235294118,0.196078431373)\", \"rgb(0.946666666667,0.268235294118,0.196078431373)\", \"rgb(0.946666666667,0.268235294118,0.196078431373)\", \"rgb(0.946666666667,0.268235294118,0.196078431373)\", \"rgb(0.946666666667,0.268235294118,0.196078431373)\", \"rgb(0.946666666667,0.268235294118,0.196078431373)\", \"rgb(0.946666666667,0.268235294118,0.196078431373)\", \"rgb(0.946666666667,0.268235294118,0.196078431373)\", \"rgb(0.946666666667,0.268235294118,0.196078431373)\", \"rgb(0.946666666667,0.268235294118,0.196078431373)\", \"rgb(0.946666666667,0.268235294118,0.196078431373)\", \"rgb(0.946666666667,0.268235294118,0.196078431373)\", \"rgb(0.946666666667,0.268235294118,0.196078431373)\", \"rgb(0.946666666667,0.268235294118,0.196078431373)\", \"rgb(0.946666666667,0.268235294118,0.196078431373)\", \"rgb(0.946666666667,0.268235294118,0.196078431373)\", \"rgb(0.946666666667,0.268235294118,0.196078431373)\", \"rgb(0.946666666667,0.268235294118,0.196078431373)\", \"rgb(0.946666666667,0.268235294118,0.196078431373)\", \"rgb(0.946666666667,0.268235294118,0.196078431373)\", \"rgb(0.946666666667,0.268235294118,0.196078431373)\", \"rgb(0.946666666667,0.268235294118,0.196078431373)\", \"rgb(0.946666666667,0.268235294118,0.196078431373)\", \"rgb(0.946666666667,0.268235294118,0.196078431373)\", \"rgb(0.946666666667,0.268235294118,0.196078431373)\", \"rgb(0.946666666667,0.268235294118,0.196078431373)\", \"rgb(0.946666666667,0.268235294118,0.196078431373)\", \"rgb(0.946666666667,0.268235294118,0.196078431373)\", \"rgb(0.946666666667,0.268235294118,0.196078431373)\", \"rgb(0.946666666667,0.268235294118,0.196078431373)\", \"rgb(0.946666666667,0.268235294118,0.196078431373)\", \"rgb(0.946666666667,0.268235294118,0.196078431373)\", \"rgb(0.946666666667,0.268235294118,0.196078431373)\", \"rgb(0.946666666667,0.268235294118,0.196078431373)\", \"rgb(0.946666666667,0.268235294118,0.196078431373)\", \"rgb(0.946666666667,0.268235294118,0.196078431373)\", \"rgb(0.946666666667,0.268235294118,0.196078431373)\", \"rgb(0.946666666667,0.268235294118,0.196078431373)\", \"rgb(0.946666666667,0.268235294118,0.196078431373)\", \"rgb(0.946666666667,0.268235294118,0.196078431373)\", \"rgb(0.946666666667,0.268235294118,0.196078431373)\", \"rgb(0.946666666667,0.268235294118,0.196078431373)\", \"rgb(0.946666666667,0.268235294118,0.196078431373)\", \"rgb(0.946666666667,0.268235294118,0.196078431373)\", \"rgb(0.946666666667,0.268235294118,0.196078431373)\", \"rgb(0.946666666667,0.268235294118,0.196078431373)\", \"rgb(0.946666666667,0.268235294118,0.196078431373)\", \"rgb(0.946666666667,0.268235294118,0.196078431373)\", \"rgb(0.946666666667,0.268235294118,0.196078431373)\", \"rgb(0.946666666667,0.268235294118,0.196078431373)\", \"rgb(0.946666666667,0.268235294118,0.196078431373)\", \"rgb(0.946666666667,0.268235294118,0.196078431373)\", \"rgb(0.946666666667,0.268235294118,0.196078431373)\", \"rgb(0.946666666667,0.268235294118,0.196078431373)\", \"rgb(0.946666666667,0.268235294118,0.196078431373)\", \"rgb(0.946666666667,0.268235294118,0.196078431373)\", \"rgb(0.946666666667,0.268235294118,0.196078431373)\", \"rgb(0.946666666667,0.268235294118,0.196078431373)\", \"rgb(0.946666666667,0.268235294118,0.196078431373)\", \"rgb(0.946666666667,0.268235294118,0.196078431373)\", \"rgb(0.946666666667,0.268235294118,0.196078431373)\", \"rgb(0.946666666667,0.268235294118,0.196078431373)\", \"rgb(0.946666666667,0.268235294118,0.196078431373)\", \"rgb(0.946666666667,0.268235294118,0.196078431373)\", \"rgb(0.946666666667,0.268235294118,0.196078431373)\", \"rgb(0.946666666667,0.268235294118,0.196078431373)\", \"rgb(0.946666666667,0.268235294118,0.196078431373)\", \"rgb(0.946666666667,0.268235294118,0.196078431373)\", \"rgb(0.946666666667,0.268235294118,0.196078431373)\", \"rgb(0.946666666667,0.268235294118,0.196078431373)\", \"rgb(0.946666666667,0.268235294118,0.196078431373)\", \"rgb(0.946666666667,0.268235294118,0.196078431373)\", \"rgb(0.946666666667,0.268235294118,0.196078431373)\", \"rgb(0.946666666667,0.268235294118,0.196078431373)\", \"rgb(0.946666666667,0.268235294118,0.196078431373)\", \"rgb(0.946666666667,0.268235294118,0.196078431373)\", \"rgb(0.946666666667,0.268235294118,0.196078431373)\", \"rgb(0.946666666667,0.268235294118,0.196078431373)\", \"rgb(0.946666666667,0.268235294118,0.196078431373)\", \"rgb(0.946666666667,0.268235294118,0.196078431373)\", \"rgb(0.946666666667,0.268235294118,0.196078431373)\", \"rgb(0.946666666667,0.268235294118,0.196078431373)\", \"rgb(0.946666666667,0.268235294118,0.196078431373)\", \"rgb(0.946666666667,0.268235294118,0.196078431373)\", \"rgb(0.946666666667,0.268235294118,0.196078431373)\", \"rgb(0.946666666667,0.268235294118,0.196078431373)\", \"rgb(0.946666666667,0.268235294118,0.196078431373)\", \"rgb(0.946666666667,0.268235294118,0.196078431373)\", \"rgb(0.946666666667,0.268235294118,0.196078431373)\", \"rgb(0.946666666667,0.268235294118,0.196078431373)\", \"rgb(0.946666666667,0.268235294118,0.196078431373)\", \"rgb(0.946666666667,0.268235294118,0.196078431373)\", \"rgb(0.946666666667,0.268235294118,0.196078431373)\", \"rgb(0.946666666667,0.268235294118,0.196078431373)\", \"rgb(0.946666666667,0.268235294118,0.196078431373)\", \"rgb(0.946666666667,0.268235294118,0.196078431373)\", \"rgb(0.946666666667,0.268235294118,0.196078431373)\", \"rgb(0.946666666667,0.268235294118,0.196078431373)\", \"rgb(0.946666666667,0.268235294118,0.196078431373)\", \"rgb(0.946666666667,0.268235294118,0.196078431373)\", \"rgb(0.946666666667,0.268235294118,0.196078431373)\", \"rgb(0.946666666667,0.268235294118,0.196078431373)\", \"rgb(0.946666666667,0.268235294118,0.196078431373)\", \"rgb(0.946666666667,0.268235294118,0.196078431373)\", \"rgb(0.946666666667,0.268235294118,0.196078431373)\", \"rgb(0.946666666667,0.268235294118,0.196078431373)\", \"rgb(0.946666666667,0.268235294118,0.196078431373)\", \"rgb(0.946666666667,0.268235294118,0.196078431373)\", \"rgb(0.946666666667,0.268235294118,0.196078431373)\", \"rgb(0.946666666667,0.268235294118,0.196078431373)\", \"rgb(0.946666666667,0.268235294118,0.196078431373)\", \"rgb(0.946666666667,0.268235294118,0.196078431373)\", \"rgb(0.946666666667,0.268235294118,0.196078431373)\", \"rgb(0.946666666667,0.268235294118,0.196078431373)\", \"rgb(0.946666666667,0.268235294118,0.196078431373)\", \"rgb(0.946666666667,0.268235294118,0.196078431373)\", \"rgb(0.946666666667,0.268235294118,0.196078431373)\", \"rgb(0.946666666667,0.268235294118,0.196078431373)\", \"rgb(0.946666666667,0.268235294118,0.196078431373)\", \"rgb(0.946666666667,0.268235294118,0.196078431373)\", \"rgb(0.946666666667,0.268235294118,0.196078431373)\", \"rgb(0.946666666667,0.268235294118,0.196078431373)\", \"rgb(0.946666666667,0.268235294118,0.196078431373)\", \"rgb(0.946666666667,0.268235294118,0.196078431373)\", \"rgb(0.946666666667,0.268235294118,0.196078431373)\", \"rgb(0.946666666667,0.268235294118,0.196078431373)\", \"rgb(0.946666666667,0.268235294118,0.196078431373)\", \"rgb(0.946666666667,0.268235294118,0.196078431373)\", \"rgb(0.946666666667,0.268235294118,0.196078431373)\", \"rgb(0.946666666667,0.268235294118,0.196078431373)\", \"rgb(0.946666666667,0.268235294118,0.196078431373)\", \"rgb(0.946666666667,0.268235294118,0.196078431373)\", \"rgb(0.946666666667,0.268235294118,0.196078431373)\", \"rgb(0.946666666667,0.268235294118,0.196078431373)\", \"rgb(0.946666666667,0.268235294118,0.196078431373)\", \"rgb(0.946666666667,0.268235294118,0.196078431373)\", \"rgb(0.946666666667,0.268235294118,0.196078431373)\", \"rgb(0.946666666667,0.268235294118,0.196078431373)\", \"rgb(0.946666666667,0.268235294118,0.196078431373)\", \"rgb(0.946666666667,0.268235294118,0.196078431373)\", \"rgb(0.946666666667,0.268235294118,0.196078431373)\", \"rgb(0.946666666667,0.268235294118,0.196078431373)\", \"rgb(0.946666666667,0.268235294118,0.196078431373)\", \"rgb(0.946666666667,0.268235294118,0.196078431373)\", \"rgb(0.946666666667,0.268235294118,0.196078431373)\", \"rgb(0.946666666667,0.268235294118,0.196078431373)\", \"rgb(0.946666666667,0.268235294118,0.196078431373)\", \"rgb(0.946666666667,0.268235294118,0.196078431373)\", \"rgb(0.946666666667,0.268235294118,0.196078431373)\", \"rgb(0.946666666667,0.268235294118,0.196078431373)\", \"rgb(0.946666666667,0.268235294118,0.196078431373)\", \"rgb(0.946666666667,0.268235294118,0.196078431373)\", \"rgb(0.946666666667,0.268235294118,0.196078431373)\", \"rgb(0.946666666667,0.268235294118,0.196078431373)\", \"rgb(0.946666666667,0.268235294118,0.196078431373)\", \"rgb(0.946666666667,0.268235294118,0.196078431373)\", \"rgb(0.946666666667,0.268235294118,0.196078431373)\", \"rgb(0.946666666667,0.268235294118,0.196078431373)\", \"rgb(0.946666666667,0.268235294118,0.196078431373)\", \"rgb(0.946666666667,0.268235294118,0.196078431373)\", \"rgb(0.946666666667,0.268235294118,0.196078431373)\", \"rgb(0.946666666667,0.268235294118,0.196078431373)\", \"rgb(0.946666666667,0.268235294118,0.196078431373)\", \"rgb(0.946666666667,0.268235294118,0.196078431373)\", \"rgb(0.946666666667,0.268235294118,0.196078431373)\", \"rgb(0.946666666667,0.268235294118,0.196078431373)\", \"rgb(0.946666666667,0.268235294118,0.196078431373)\", \"rgb(0.946666666667,0.268235294118,0.196078431373)\", \"rgb(0.946666666667,0.268235294118,0.196078431373)\", \"rgb(0.946666666667,0.268235294118,0.196078431373)\", \"rgb(0.946666666667,0.268235294118,0.196078431373)\", \"rgb(0.946666666667,0.268235294118,0.196078431373)\", \"rgb(0.946666666667,0.268235294118,0.196078431373)\", \"rgb(0.946666666667,0.268235294118,0.196078431373)\", \"rgb(0.946666666667,0.268235294118,0.196078431373)\", \"rgb(0.946666666667,0.268235294118,0.196078431373)\", \"rgb(0.946666666667,0.268235294118,0.196078431373)\", \"rgb(0.946666666667,0.268235294118,0.196078431373)\", \"rgb(0.946666666667,0.268235294118,0.196078431373)\", \"rgb(0.946666666667,0.268235294118,0.196078431373)\", \"rgb(0.946666666667,0.268235294118,0.196078431373)\", \"rgb(0.946666666667,0.268235294118,0.196078431373)\", \"rgb(0.946666666667,0.268235294118,0.196078431373)\", \"rgb(0.946666666667,0.268235294118,0.196078431373)\", \"rgb(0.946666666667,0.268235294118,0.196078431373)\", \"rgb(0.946666666667,0.268235294118,0.196078431373)\", \"rgb(0.946666666667,0.268235294118,0.196078431373)\", \"rgb(0.946666666667,0.268235294118,0.196078431373)\", \"rgb(0.946666666667,0.268235294118,0.196078431373)\", \"rgb(0.946666666667,0.268235294118,0.196078431373)\", \"rgb(0.946666666667,0.268235294118,0.196078431373)\", \"rgb(0.946666666667,0.268235294118,0.196078431373)\", \"rgb(0.946666666667,0.268235294118,0.196078431373)\", \"rgb(0.946666666667,0.268235294118,0.196078431373)\", \"rgb(0.946666666667,0.268235294118,0.196078431373)\", \"rgb(0.946666666667,0.268235294118,0.196078431373)\", \"rgb(0.946666666667,0.268235294118,0.196078431373)\", \"rgb(0.946666666667,0.268235294118,0.196078431373)\", \"rgb(0.946666666667,0.268235294118,0.196078431373)\", \"rgb(0.946666666667,0.268235294118,0.196078431373)\", \"rgb(0.946666666667,0.268235294118,0.196078431373)\", \"rgb(0.946666666667,0.268235294118,0.196078431373)\", \"rgb(0.946666666667,0.268235294118,0.196078431373)\", \"rgb(0.946666666667,0.268235294118,0.196078431373)\", \"rgb(0.946666666667,0.268235294118,0.196078431373)\", \"rgb(0.946666666667,0.268235294118,0.196078431373)\", \"rgb(0.946666666667,0.268235294118,0.196078431373)\", \"rgb(0.946666666667,0.268235294118,0.196078431373)\", \"rgb(0.946666666667,0.268235294118,0.196078431373)\", \"rgb(0.946666666667,0.268235294118,0.196078431373)\", \"rgb(0.946666666667,0.268235294118,0.196078431373)\", \"rgb(0.946666666667,0.268235294118,0.196078431373)\"], \"size\": 1}, \"mode\": \"markers\", \"hoverinfo\": \"text\", \"y\": [0, -1, -1, -2, -2, -4, -4, -4, -4, -5, -5, -5, -6, -6, -6, -7, -7, -7, -7, -8, -8, -9, -9, -9, -9, -9, -9, -10, -10, -10, -11, -11, -11, -11, -11, -11, -11, -11, -11, -11, -11, -12, -12, -12, -12, -12, -12, -12, -12, -12, -12, -12, -12, -13, -13, -13, -13, -13, -13, -13, -13, -13, -13, -13, -13, -13, -13, -13, -13, -14, -14, -14, -14, -14, -14, -14, -14, -14, -14, -14, -14, -14, -14, -14, -15, -15, -15, -15, -15, -15, -15, -15, -15, -15, -15, -15, -15, -15, -15, -16, -16, -16, -16, -16, -16, -16, -16, -16, -16, -16, -16, -16, -16, -16, -16, -16, -17, -17, -17, -17, -17, -17, -17, -17, -17, -17, -17, -17, -17, -17, -17, -17, -17, -18, -18, -18, -18, -18, -18, -18, -18, -18, -18, -18, -18, -18, -18, -18, -18, -18, -18, -19, -19, -19, -19, -19, -19, -19, -19, -19, -19, -19, -19, -19, -19, -19, -19, -19, -19, -19, -19, -20, -20, -20, -20, -20, -20, -20, -20, -20, -20, -20, -20, -20, -20, -20, -20, -20, -21, -21, -21, -21, -21, -21, -21, -21, -21, -21, -21, -21, -21, -21, -21, -21, -21, -21, -21, -22, -22, -22, -22, -22, -22, -22, -22, -22, -22, -22, -22, -22, -22, -22, -22, -22, -22, -23, -23, -23, -23, -23, -23, -23, -23, -23, -23, -23, -23, -23, -23, -23, -23, -23, -23, -24, -24, -24, -24, -24, -24, -24, -24, -24, -24, -24, -24, -24, -24, -24, -24, -24, -24, -25, -25, -25, -25, -25, -25, -25, -25, -25, -25, -25, -25, -25, -25, -25, -25, -25, -25, -26, -26, -26], \"x\": [15, 5, 18, 2, 14, 0, 11, 17, 19, 2, 5, 17, 4, 17, 18, 1, 12, 14, 18, 0, 18, 5, 6, 8, 12, 15, 17, 2, 10, 18, 0, 1, 3, 4, 5, 6, 12, 15, 17, 18, 19, 1, 2, 3, 5, 6, 7, 10, 14, 16, 17, 18, 19, 0, 1, 3, 4, 5, 7, 9, 10, 12, 13, 14, 15, 16, 17, 18, 19, 1, 3, 4, 5, 6, 7, 8, 9, 10, 11, 12, 14, 15, 18, 19, 1, 2, 3, 5, 6, 7, 9, 11, 12, 14, 15, 16, 17, 18, 19, 0, 1, 2, 4, 5, 6, 7, 8, 9, 10, 11, 12, 13, 14, 15, 16, 18, 0, 1, 4, 5, 6, 7, 8, 9, 10, 11, 12, 13, 14, 15, 16, 17, 19, 0, 2, 3, 4, 5, 6, 7, 8, 9, 10, 11, 13, 14, 15, 16, 17, 18, 19, 0, 1, 2, 3, 4, 5, 6, 7, 8, 9, 10, 11, 12, 13, 14, 15, 16, 17, 18, 19, 0, 2, 3, 4, 5, 6, 7, 8, 10, 11, 12, 13, 14, 15, 16, 17, 19, 0, 1, 2, 3, 4, 5, 6, 7, 8, 9, 10, 11, 12, 13, 14, 15, 16, 17, 18, 0, 1, 2, 3, 4, 5, 6, 7, 8, 10, 12, 13, 14, 15, 16, 17, 18, 19, 0, 1, 2, 3, 4, 5, 6, 7, 9, 10, 11, 12, 14, 15, 16, 17, 18, 19, 0, 1, 2, 3, 4, 5, 6, 7, 8, 9, 11, 12, 13, 14, 15, 16, 18, 19, 1, 2, 3, 4, 5, 6, 7, 8, 9, 10, 11, 13, 14, 15, 16, 17, 18, 19, 0, 1, 2], \"type\": \"scatter\"}, {\"text\": [\"<b>Donald Trump (NA-NA)</b><br><i>@realDonaldTrump</i><br><b>0.71% (23 / 3227)</b>\", \"<b>Mike Pence (NA-NA)</b><br><i>@mike_pence</i><br><b>0.00% (0 / 3235)</b>\"], \"marker\": {\"color\": [\"rgb(255,165,0)\", \"rgb(255,165,0)\"], \"size\": 1}, \"mode\": \"markers\", \"hoverinfo\": \"text\", \"y\": [-6, -23], \"x\": [14, 13], \"type\": \"scatter\"}, {\"text\": [\"<b>Bernard Sanders (I-VT)</b><br><i>@SenSanders</i><br><b>0.83% (27 / 3242)</b>\", \"<b>Angus King (I-ME)</b><br><i>@SenAngusKing</i><br><b>0.03% (1 / 3177)</b>\"], \"marker\": {\"color\": [\"rgb(0.4,0.4,0.4)\", \"rgb(0.4,0.4,0.4)\"], \"size\": 1}, \"mode\": \"markers\", \"hoverinfo\": \"text\", \"y\": [-5, -18], \"x\": [15, 1], \"type\": \"scatter\"}], {\"showlegend\": false, \"yaxis\": {\"zeroline\": false, \"showticklabels\": false, \"showgrid\": false}, \"height\": 1300, \"shapes\": [{\"fillcolor\": \"rgb(0.290980392157,0.594509803922,0.789019607843)\", \"y1\": 0.4, \"y0\": -0.4, \"x0\": -0.4, \"x1\": 0.4, \"type\": \"rect\", \"line\": {\"width\": 0}}, {\"fillcolor\": \"rgb(0.290980392157,0.594509803922,0.789019607843)\", \"y1\": 0.4, \"y0\": -0.4, \"x0\": 0.6, \"x1\": 1.4, \"type\": \"rect\", \"line\": {\"width\": 0}}, {\"fillcolor\": \"rgb(0.290980392157,0.594509803922,0.789019607843)\", \"y1\": 0.4, \"y0\": -0.4, \"x0\": 1.6, \"x1\": 2.4, \"type\": \"rect\", \"line\": {\"width\": 0}}, {\"fillcolor\": \"rgb(0.290980392157,0.594509803922,0.789019607843)\", \"y1\": 0.4, \"y0\": -0.4, \"x0\": 2.6, \"x1\": 3.4, \"type\": \"rect\", \"line\": {\"width\": 0}}, {\"fillcolor\": \"rgb(0.290980392157,0.594509803922,0.789019607843)\", \"y1\": 0.4, \"y0\": -0.4, \"x0\": 3.6, \"x1\": 4.4, \"type\": \"rect\", \"line\": {\"width\": 0}}, {\"fillcolor\": \"rgb(0.290980392157,0.594509803922,0.789019607843)\", \"y1\": 0.4, \"y0\": -0.4, \"x0\": 4.6, \"x1\": 5.4, \"type\": \"rect\", \"line\": {\"width\": 0}}, {\"fillcolor\": \"rgb(0.290980392157,0.594509803922,0.789019607843)\", \"y1\": 0.4, \"y0\": -0.4, \"x0\": 5.6, \"x1\": 6.4, \"type\": \"rect\", \"line\": {\"width\": 0}}, {\"fillcolor\": \"rgb(0.290980392157,0.594509803922,0.789019607843)\", \"y1\": 0.4, \"y0\": -0.4, \"x0\": 6.6, \"x1\": 7.4, \"type\": \"rect\", \"line\": {\"width\": 0}}, {\"fillcolor\": \"rgb(0.290980392157,0.594509803922,0.789019607843)\", \"y1\": 0.4, \"y0\": -0.4, \"x0\": 7.6, \"x1\": 8.4, \"type\": \"rect\", \"line\": {\"width\": 0}}, {\"fillcolor\": \"rgb(0.290980392157,0.594509803922,0.789019607843)\", \"y1\": 0.4, \"y0\": -0.4, \"x0\": 8.6, \"x1\": 9.4, \"type\": \"rect\", \"line\": {\"width\": 0}}, {\"fillcolor\": \"rgb(0.290980392157,0.594509803922,0.789019607843)\", \"y1\": 0.4, \"y0\": -0.4, \"x0\": 9.6, \"x1\": 10.4, \"type\": \"rect\", \"line\": {\"width\": 0}}, {\"fillcolor\": \"rgb(0.290980392157,0.594509803922,0.789019607843)\", \"y1\": 0.4, \"y0\": -0.4, \"x0\": 10.6, \"x1\": 11.4, \"type\": \"rect\", \"line\": {\"width\": 0}}, {\"fillcolor\": \"rgb(0.290980392157,0.594509803922,0.789019607843)\", \"y1\": 0.4, \"y0\": -0.4, \"x0\": 11.6, \"x1\": 12.4, \"type\": \"rect\", \"line\": {\"width\": 0}}, {\"fillcolor\": \"rgb(0.290980392157,0.594509803922,0.789019607843)\", \"y1\": 0.4, \"y0\": -0.4, \"x0\": 12.6, \"x1\": 13.4, \"type\": \"rect\", \"line\": {\"width\": 0}}, {\"fillcolor\": \"rgb(0.290980392157,0.594509803922,0.789019607843)\", \"y1\": 0.4, \"y0\": -0.4, \"x0\": 13.6, \"x1\": 14.4, \"type\": \"rect\", \"line\": {\"width\": 0}}, {\"fillcolor\": \"rgb(0.946666666667,0.268235294118,0.196078431373)\", \"y1\": 0.4, \"y0\": -0.4, \"x0\": 14.6, \"x1\": 15.4, \"type\": \"rect\", \"line\": {\"width\": 0}}, {\"fillcolor\": \"rgb(0.290980392157,0.594509803922,0.789019607843)\", \"y1\": 0.4, \"y0\": -0.4, \"x0\": 15.6, \"x1\": 16.4, \"type\": \"rect\", \"line\": {\"width\": 0}}, {\"fillcolor\": \"rgb(0.290980392157,0.594509803922,0.789019607843)\", \"y1\": 0.4, \"y0\": -0.4, \"x0\": 16.6, \"x1\": 17.4, \"type\": \"rect\", \"line\": {\"width\": 0}}, {\"fillcolor\": \"rgb(0.290980392157,0.594509803922,0.789019607843)\", \"y1\": 0.4, \"y0\": -0.4, \"x0\": 17.6, \"x1\": 18.4, \"type\": \"rect\", \"line\": {\"width\": 0}}, {\"fillcolor\": \"rgb(0.290980392157,0.594509803922,0.789019607843)\", \"y1\": 0.4, \"y0\": -0.4, \"x0\": 18.6, \"x1\": 19.4, \"type\": \"rect\", \"line\": {\"width\": 0}}, {\"fillcolor\": \"rgb(0.290980392157,0.594509803922,0.789019607843)\", \"y1\": -0.6, \"y0\": -1.4, \"x0\": -0.4, \"x1\": 0.4, \"type\": \"rect\", \"line\": {\"width\": 0}}, {\"fillcolor\": \"rgb(0.290980392157,0.594509803922,0.789019607843)\", \"y1\": -0.6, \"y0\": -1.4, \"x0\": 0.6, \"x1\": 1.4, \"type\": \"rect\", \"line\": {\"width\": 0}}, {\"fillcolor\": \"rgb(0.290980392157,0.594509803922,0.789019607843)\", \"y1\": -0.6, \"y0\": -1.4, \"x0\": 1.6, \"x1\": 2.4, \"type\": \"rect\", \"line\": {\"width\": 0}}, {\"fillcolor\": \"rgb(0.290980392157,0.594509803922,0.789019607843)\", \"y1\": -0.6, \"y0\": -1.4, \"x0\": 2.6, \"x1\": 3.4, \"type\": \"rect\", \"line\": {\"width\": 0}}, {\"fillcolor\": \"rgb(0.290980392157,0.594509803922,0.789019607843)\", \"y1\": -0.6, \"y0\": -1.4, \"x0\": 3.6, \"x1\": 4.4, \"type\": \"rect\", \"line\": {\"width\": 0}}, {\"fillcolor\": \"rgb(0.946666666667,0.268235294118,0.196078431373)\", \"y1\": -0.6, \"y0\": -1.4, \"x0\": 4.6, \"x1\": 5.4, \"type\": \"rect\", \"line\": {\"width\": 0}}, {\"fillcolor\": \"rgb(0.290980392157,0.594509803922,0.789019607843)\", \"y1\": -0.6, \"y0\": -1.4, \"x0\": 5.6, \"x1\": 6.4, \"type\": \"rect\", \"line\": {\"width\": 0}}, {\"fillcolor\": \"rgb(0.290980392157,0.594509803922,0.789019607843)\", \"y1\": -0.6, \"y0\": -1.4, \"x0\": 6.6, \"x1\": 7.4, \"type\": \"rect\", \"line\": {\"width\": 0}}, {\"fillcolor\": \"rgb(0.290980392157,0.594509803922,0.789019607843)\", \"y1\": -0.6, \"y0\": -1.4, \"x0\": 7.6, \"x1\": 8.4, \"type\": \"rect\", \"line\": {\"width\": 0}}, {\"fillcolor\": \"rgb(0.290980392157,0.594509803922,0.789019607843)\", \"y1\": -0.6, \"y0\": -1.4, \"x0\": 8.6, \"x1\": 9.4, \"type\": \"rect\", \"line\": {\"width\": 0}}, {\"fillcolor\": \"rgb(0.290980392157,0.594509803922,0.789019607843)\", \"y1\": -0.6, \"y0\": -1.4, \"x0\": 9.6, \"x1\": 10.4, \"type\": \"rect\", \"line\": {\"width\": 0}}, {\"fillcolor\": \"rgb(0.290980392157,0.594509803922,0.789019607843)\", \"y1\": -0.6, \"y0\": -1.4, \"x0\": 10.6, \"x1\": 11.4, \"type\": \"rect\", \"line\": {\"width\": 0}}, {\"fillcolor\": \"rgb(0.290980392157,0.594509803922,0.789019607843)\", \"y1\": -0.6, \"y0\": -1.4, \"x0\": 11.6, \"x1\": 12.4, \"type\": \"rect\", \"line\": {\"width\": 0}}, {\"fillcolor\": \"rgb(0.290980392157,0.594509803922,0.789019607843)\", \"y1\": -0.6, \"y0\": -1.4, \"x0\": 12.6, \"x1\": 13.4, \"type\": \"rect\", \"line\": {\"width\": 0}}, {\"fillcolor\": \"rgb(0.290980392157,0.594509803922,0.789019607843)\", \"y1\": -0.6, \"y0\": -1.4, \"x0\": 13.6, \"x1\": 14.4, \"type\": \"rect\", \"line\": {\"width\": 0}}, {\"fillcolor\": \"rgb(0.290980392157,0.594509803922,0.789019607843)\", \"y1\": -0.6, \"y0\": -1.4, \"x0\": 14.6, \"x1\": 15.4, \"type\": \"rect\", \"line\": {\"width\": 0}}, {\"fillcolor\": \"rgb(0.290980392157,0.594509803922,0.789019607843)\", \"y1\": -0.6, \"y0\": -1.4, \"x0\": 15.6, \"x1\": 16.4, \"type\": \"rect\", \"line\": {\"width\": 0}}, {\"fillcolor\": \"rgb(0.290980392157,0.594509803922,0.789019607843)\", \"y1\": -0.6, \"y0\": -1.4, \"x0\": 16.6, \"x1\": 17.4, \"type\": \"rect\", \"line\": {\"width\": 0}}, {\"fillcolor\": \"rgb(0.946666666667,0.268235294118,0.196078431373)\", \"y1\": -0.6, \"y0\": -1.4, \"x0\": 17.6, \"x1\": 18.4, \"type\": \"rect\", \"line\": {\"width\": 0}}, {\"fillcolor\": \"rgb(0.290980392157,0.594509803922,0.789019607843)\", \"y1\": -0.6, \"y0\": -1.4, \"x0\": 18.6, \"x1\": 19.4, \"type\": \"rect\", \"line\": {\"width\": 0}}, {\"fillcolor\": \"rgb(0.290980392157,0.594509803922,0.789019607843)\", \"y1\": -1.6, \"y0\": -2.4, \"x0\": -0.4, \"x1\": 0.4, \"type\": \"rect\", \"line\": {\"width\": 0}}, {\"fillcolor\": \"rgb(0.290980392157,0.594509803922,0.789019607843)\", \"y1\": -1.6, \"y0\": -2.4, \"x0\": 0.6, \"x1\": 1.4, \"type\": \"rect\", \"line\": {\"width\": 0}}, {\"fillcolor\": \"rgb(0.946666666667,0.268235294118,0.196078431373)\", \"y1\": -1.6, \"y0\": -2.4, \"x0\": 1.6, \"x1\": 2.4, \"type\": \"rect\", \"line\": {\"width\": 0}}, {\"fillcolor\": \"rgb(0.290980392157,0.594509803922,0.789019607843)\", \"y1\": -1.6, \"y0\": -2.4, \"x0\": 2.6, \"x1\": 3.4, \"type\": \"rect\", \"line\": {\"width\": 0}}, {\"fillcolor\": \"rgb(0.290980392157,0.594509803922,0.789019607843)\", \"y1\": -1.6, \"y0\": -2.4, \"x0\": 3.6, \"x1\": 4.4, \"type\": \"rect\", \"line\": {\"width\": 0}}, {\"fillcolor\": \"rgb(0.290980392157,0.594509803922,0.789019607843)\", \"y1\": -1.6, \"y0\": -2.4, \"x0\": 4.6, \"x1\": 5.4, \"type\": \"rect\", \"line\": {\"width\": 0}}, {\"fillcolor\": \"rgb(0.290980392157,0.594509803922,0.789019607843)\", \"y1\": -1.6, \"y0\": -2.4, \"x0\": 5.6, \"x1\": 6.4, \"type\": \"rect\", \"line\": {\"width\": 0}}, {\"fillcolor\": \"rgb(0.290980392157,0.594509803922,0.789019607843)\", \"y1\": -1.6, \"y0\": -2.4, \"x0\": 6.6, \"x1\": 7.4, \"type\": \"rect\", \"line\": {\"width\": 0}}, {\"fillcolor\": \"rgb(0.290980392157,0.594509803922,0.789019607843)\", \"y1\": -1.6, \"y0\": -2.4, \"x0\": 7.6, \"x1\": 8.4, \"type\": \"rect\", \"line\": {\"width\": 0}}, {\"fillcolor\": \"rgb(0.290980392157,0.594509803922,0.789019607843)\", \"y1\": -1.6, \"y0\": -2.4, \"x0\": 8.6, \"x1\": 9.4, \"type\": \"rect\", \"line\": {\"width\": 0}}, {\"fillcolor\": \"rgb(0.290980392157,0.594509803922,0.789019607843)\", \"y1\": -1.6, \"y0\": -2.4, \"x0\": 9.6, \"x1\": 10.4, \"type\": \"rect\", \"line\": {\"width\": 0}}, {\"fillcolor\": \"rgb(0.290980392157,0.594509803922,0.789019607843)\", \"y1\": -1.6, \"y0\": -2.4, \"x0\": 10.6, \"x1\": 11.4, \"type\": \"rect\", \"line\": {\"width\": 0}}, {\"fillcolor\": \"rgb(0.290980392157,0.594509803922,0.789019607843)\", \"y1\": -1.6, \"y0\": -2.4, \"x0\": 11.6, \"x1\": 12.4, \"type\": \"rect\", \"line\": {\"width\": 0}}, {\"fillcolor\": \"rgb(0.290980392157,0.594509803922,0.789019607843)\", \"y1\": -1.6, \"y0\": -2.4, \"x0\": 12.6, \"x1\": 13.4, \"type\": \"rect\", \"line\": {\"width\": 0}}, {\"fillcolor\": \"rgb(0.946666666667,0.268235294118,0.196078431373)\", \"y1\": -1.6, \"y0\": -2.4, \"x0\": 13.6, \"x1\": 14.4, \"type\": \"rect\", \"line\": {\"width\": 0}}, {\"fillcolor\": \"rgb(0.290980392157,0.594509803922,0.789019607843)\", \"y1\": -1.6, \"y0\": -2.4, \"x0\": 14.6, \"x1\": 15.4, \"type\": \"rect\", \"line\": {\"width\": 0}}, {\"fillcolor\": \"rgb(0.290980392157,0.594509803922,0.789019607843)\", \"y1\": -1.6, \"y0\": -2.4, \"x0\": 15.6, \"x1\": 16.4, \"type\": \"rect\", \"line\": {\"width\": 0}}, {\"fillcolor\": \"rgb(0.290980392157,0.594509803922,0.789019607843)\", \"y1\": -1.6, \"y0\": -2.4, \"x0\": 16.6, \"x1\": 17.4, \"type\": \"rect\", \"line\": {\"width\": 0}}, {\"fillcolor\": \"rgb(0.290980392157,0.594509803922,0.789019607843)\", \"y1\": -1.6, \"y0\": -2.4, \"x0\": 17.6, \"x1\": 18.4, \"type\": \"rect\", \"line\": {\"width\": 0}}, {\"fillcolor\": \"rgb(0.290980392157,0.594509803922,0.789019607843)\", \"y1\": -1.6, \"y0\": -2.4, \"x0\": 18.6, \"x1\": 19.4, \"type\": \"rect\", \"line\": {\"width\": 0}}, {\"fillcolor\": \"rgb(0.290980392157,0.594509803922,0.789019607843)\", \"y1\": -2.6, \"y0\": -3.4, \"x0\": -0.4, \"x1\": 0.4, \"type\": \"rect\", \"line\": {\"width\": 0}}, {\"fillcolor\": \"rgb(0.290980392157,0.594509803922,0.789019607843)\", \"y1\": -2.6, \"y0\": -3.4, \"x0\": 0.6, \"x1\": 1.4, \"type\": \"rect\", \"line\": {\"width\": 0}}, {\"fillcolor\": \"rgb(0.290980392157,0.594509803922,0.789019607843)\", \"y1\": -2.6, \"y0\": -3.4, \"x0\": 1.6, \"x1\": 2.4, \"type\": \"rect\", \"line\": {\"width\": 0}}, {\"fillcolor\": \"rgb(0.290980392157,0.594509803922,0.789019607843)\", \"y1\": -2.6, \"y0\": -3.4, \"x0\": 2.6, \"x1\": 3.4, \"type\": \"rect\", \"line\": {\"width\": 0}}, {\"fillcolor\": \"rgb(0.290980392157,0.594509803922,0.789019607843)\", \"y1\": -2.6, \"y0\": -3.4, \"x0\": 3.6, \"x1\": 4.4, \"type\": \"rect\", \"line\": {\"width\": 0}}, {\"fillcolor\": \"rgb(0.290980392157,0.594509803922,0.789019607843)\", \"y1\": -2.6, \"y0\": -3.4, \"x0\": 4.6, \"x1\": 5.4, \"type\": \"rect\", \"line\": {\"width\": 0}}, {\"fillcolor\": \"rgb(0.290980392157,0.594509803922,0.789019607843)\", \"y1\": -2.6, \"y0\": -3.4, \"x0\": 5.6, \"x1\": 6.4, \"type\": \"rect\", \"line\": {\"width\": 0}}, {\"fillcolor\": \"rgb(0.290980392157,0.594509803922,0.789019607843)\", \"y1\": -2.6, \"y0\": -3.4, \"x0\": 6.6, \"x1\": 7.4, \"type\": \"rect\", \"line\": {\"width\": 0}}, {\"fillcolor\": \"rgb(0.290980392157,0.594509803922,0.789019607843)\", \"y1\": -2.6, \"y0\": -3.4, \"x0\": 7.6, \"x1\": 8.4, \"type\": \"rect\", \"line\": {\"width\": 0}}, {\"fillcolor\": \"rgb(0.290980392157,0.594509803922,0.789019607843)\", \"y1\": -2.6, \"y0\": -3.4, \"x0\": 8.6, \"x1\": 9.4, \"type\": \"rect\", \"line\": {\"width\": 0}}, {\"fillcolor\": \"rgb(0.290980392157,0.594509803922,0.789019607843)\", \"y1\": -2.6, \"y0\": -3.4, \"x0\": 9.6, \"x1\": 10.4, \"type\": \"rect\", \"line\": {\"width\": 0}}, {\"fillcolor\": \"rgb(0.290980392157,0.594509803922,0.789019607843)\", \"y1\": -2.6, \"y0\": -3.4, \"x0\": 10.6, \"x1\": 11.4, \"type\": \"rect\", \"line\": {\"width\": 0}}, {\"fillcolor\": \"rgb(0.290980392157,0.594509803922,0.789019607843)\", \"y1\": -2.6, \"y0\": -3.4, \"x0\": 11.6, \"x1\": 12.4, \"type\": \"rect\", \"line\": {\"width\": 0}}, {\"fillcolor\": \"rgb(0.290980392157,0.594509803922,0.789019607843)\", \"y1\": -2.6, \"y0\": -3.4, \"x0\": 12.6, \"x1\": 13.4, \"type\": \"rect\", \"line\": {\"width\": 0}}, {\"fillcolor\": \"rgb(0.290980392157,0.594509803922,0.789019607843)\", \"y1\": -2.6, \"y0\": -3.4, \"x0\": 13.6, \"x1\": 14.4, \"type\": \"rect\", \"line\": {\"width\": 0}}, {\"fillcolor\": \"rgb(0.290980392157,0.594509803922,0.789019607843)\", \"y1\": -2.6, \"y0\": -3.4, \"x0\": 14.6, \"x1\": 15.4, \"type\": \"rect\", \"line\": {\"width\": 0}}, {\"fillcolor\": \"rgb(0.290980392157,0.594509803922,0.789019607843)\", \"y1\": -2.6, \"y0\": -3.4, \"x0\": 15.6, \"x1\": 16.4, \"type\": \"rect\", \"line\": {\"width\": 0}}, {\"fillcolor\": \"rgb(0.290980392157,0.594509803922,0.789019607843)\", \"y1\": -2.6, \"y0\": -3.4, \"x0\": 16.6, \"x1\": 17.4, \"type\": \"rect\", \"line\": {\"width\": 0}}, {\"fillcolor\": \"rgb(0.290980392157,0.594509803922,0.789019607843)\", \"y1\": -2.6, \"y0\": -3.4, \"x0\": 17.6, \"x1\": 18.4, \"type\": \"rect\", \"line\": {\"width\": 0}}, {\"fillcolor\": \"rgb(0.290980392157,0.594509803922,0.789019607843)\", \"y1\": -2.6, \"y0\": -3.4, \"x0\": 18.6, \"x1\": 19.4, \"type\": \"rect\", \"line\": {\"width\": 0}}, {\"fillcolor\": \"rgb(0.946666666667,0.268235294118,0.196078431373)\", \"y1\": -3.6, \"y0\": -4.4, \"x0\": -0.4, \"x1\": 0.4, \"type\": \"rect\", \"line\": {\"width\": 0}}, {\"fillcolor\": \"rgb(0.290980392157,0.594509803922,0.789019607843)\", \"y1\": -3.6, \"y0\": -4.4, \"x0\": 0.6, \"x1\": 1.4, \"type\": \"rect\", \"line\": {\"width\": 0}}, {\"fillcolor\": \"rgb(0.290980392157,0.594509803922,0.789019607843)\", \"y1\": -3.6, \"y0\": -4.4, \"x0\": 1.6, \"x1\": 2.4, \"type\": \"rect\", \"line\": {\"width\": 0}}, {\"fillcolor\": \"rgb(0.290980392157,0.594509803922,0.789019607843)\", \"y1\": -3.6, \"y0\": -4.4, \"x0\": 2.6, \"x1\": 3.4, \"type\": \"rect\", \"line\": {\"width\": 0}}, {\"fillcolor\": \"rgb(0.290980392157,0.594509803922,0.789019607843)\", \"y1\": -3.6, \"y0\": -4.4, \"x0\": 3.6, \"x1\": 4.4, \"type\": \"rect\", \"line\": {\"width\": 0}}, {\"fillcolor\": \"rgb(0.290980392157,0.594509803922,0.789019607843)\", \"y1\": -3.6, \"y0\": -4.4, \"x0\": 4.6, \"x1\": 5.4, \"type\": \"rect\", \"line\": {\"width\": 0}}, {\"fillcolor\": \"rgb(0.290980392157,0.594509803922,0.789019607843)\", \"y1\": -3.6, \"y0\": -4.4, \"x0\": 5.6, \"x1\": 6.4, \"type\": \"rect\", \"line\": {\"width\": 0}}, {\"fillcolor\": \"rgb(0.290980392157,0.594509803922,0.789019607843)\", \"y1\": -3.6, \"y0\": -4.4, \"x0\": 6.6, \"x1\": 7.4, \"type\": \"rect\", \"line\": {\"width\": 0}}, {\"fillcolor\": \"rgb(0.290980392157,0.594509803922,0.789019607843)\", \"y1\": -3.6, \"y0\": -4.4, \"x0\": 7.6, \"x1\": 8.4, \"type\": \"rect\", \"line\": {\"width\": 0}}, {\"fillcolor\": \"rgb(0.290980392157,0.594509803922,0.789019607843)\", \"y1\": -3.6, \"y0\": -4.4, \"x0\": 8.6, \"x1\": 9.4, \"type\": \"rect\", \"line\": {\"width\": 0}}, {\"fillcolor\": \"rgb(0.290980392157,0.594509803922,0.789019607843)\", \"y1\": -3.6, \"y0\": -4.4, \"x0\": 9.6, \"x1\": 10.4, \"type\": \"rect\", \"line\": {\"width\": 0}}, {\"fillcolor\": \"rgb(0.946666666667,0.268235294118,0.196078431373)\", \"y1\": -3.6, \"y0\": -4.4, \"x0\": 10.6, \"x1\": 11.4, \"type\": \"rect\", \"line\": {\"width\": 0}}, {\"fillcolor\": \"rgb(0.290980392157,0.594509803922,0.789019607843)\", \"y1\": -3.6, \"y0\": -4.4, \"x0\": 11.6, \"x1\": 12.4, \"type\": \"rect\", \"line\": {\"width\": 0}}, {\"fillcolor\": \"rgb(0.290980392157,0.594509803922,0.789019607843)\", \"y1\": -3.6, \"y0\": -4.4, \"x0\": 12.6, \"x1\": 13.4, \"type\": \"rect\", \"line\": {\"width\": 0}}, {\"fillcolor\": \"rgb(0.290980392157,0.594509803922,0.789019607843)\", \"y1\": -3.6, \"y0\": -4.4, \"x0\": 13.6, \"x1\": 14.4, \"type\": \"rect\", \"line\": {\"width\": 0}}, {\"fillcolor\": \"rgb(0.290980392157,0.594509803922,0.789019607843)\", \"y1\": -3.6, \"y0\": -4.4, \"x0\": 14.6, \"x1\": 15.4, \"type\": \"rect\", \"line\": {\"width\": 0}}, {\"fillcolor\": \"rgb(0.290980392157,0.594509803922,0.789019607843)\", \"y1\": -3.6, \"y0\": -4.4, \"x0\": 15.6, \"x1\": 16.4, \"type\": \"rect\", \"line\": {\"width\": 0}}, {\"fillcolor\": \"rgb(0.946666666667,0.268235294118,0.196078431373)\", \"y1\": -3.6, \"y0\": -4.4, \"x0\": 16.6, \"x1\": 17.4, \"type\": \"rect\", \"line\": {\"width\": 0}}, {\"fillcolor\": \"rgb(0.290980392157,0.594509803922,0.789019607843)\", \"y1\": -3.6, \"y0\": -4.4, \"x0\": 17.6, \"x1\": 18.4, \"type\": \"rect\", \"line\": {\"width\": 0}}, {\"fillcolor\": \"rgb(0.946666666667,0.268235294118,0.196078431373)\", \"y1\": -3.6, \"y0\": -4.4, \"x0\": 18.6, \"x1\": 19.4, \"type\": \"rect\", \"line\": {\"width\": 0}}, {\"fillcolor\": \"rgb(0.290980392157,0.594509803922,0.789019607843)\", \"y1\": -4.6, \"y0\": -5.4, \"x0\": -0.4, \"x1\": 0.4, \"type\": \"rect\", \"line\": {\"width\": 0}}, {\"fillcolor\": \"rgb(0.290980392157,0.594509803922,0.789019607843)\", \"y1\": -4.6, \"y0\": -5.4, \"x0\": 0.6, \"x1\": 1.4, \"type\": \"rect\", \"line\": {\"width\": 0}}, {\"fillcolor\": \"rgb(0.946666666667,0.268235294118,0.196078431373)\", \"y1\": -4.6, \"y0\": -5.4, \"x0\": 1.6, \"x1\": 2.4, \"type\": \"rect\", \"line\": {\"width\": 0}}, {\"fillcolor\": \"rgb(0.290980392157,0.594509803922,0.789019607843)\", \"y1\": -4.6, \"y0\": -5.4, \"x0\": 2.6, \"x1\": 3.4, \"type\": \"rect\", \"line\": {\"width\": 0}}, {\"fillcolor\": \"rgb(0.290980392157,0.594509803922,0.789019607843)\", \"y1\": -4.6, \"y0\": -5.4, \"x0\": 3.6, \"x1\": 4.4, \"type\": \"rect\", \"line\": {\"width\": 0}}, {\"fillcolor\": \"rgb(0.946666666667,0.268235294118,0.196078431373)\", \"y1\": -4.6, \"y0\": -5.4, \"x0\": 4.6, \"x1\": 5.4, \"type\": \"rect\", \"line\": {\"width\": 0}}, {\"fillcolor\": \"rgb(0.290980392157,0.594509803922,0.789019607843)\", \"y1\": -4.6, \"y0\": -5.4, \"x0\": 5.6, \"x1\": 6.4, \"type\": \"rect\", \"line\": {\"width\": 0}}, {\"fillcolor\": \"rgb(0.290980392157,0.594509803922,0.789019607843)\", \"y1\": -4.6, \"y0\": -5.4, \"x0\": 6.6, \"x1\": 7.4, \"type\": \"rect\", \"line\": {\"width\": 0}}, {\"fillcolor\": \"rgb(0.290980392157,0.594509803922,0.789019607843)\", \"y1\": -4.6, \"y0\": -5.4, \"x0\": 7.6, \"x1\": 8.4, \"type\": \"rect\", \"line\": {\"width\": 0}}, {\"fillcolor\": \"rgb(0.290980392157,0.594509803922,0.789019607843)\", \"y1\": -4.6, \"y0\": -5.4, \"x0\": 8.6, \"x1\": 9.4, \"type\": \"rect\", \"line\": {\"width\": 0}}, {\"fillcolor\": \"rgb(0.290980392157,0.594509803922,0.789019607843)\", \"y1\": -4.6, \"y0\": -5.4, \"x0\": 9.6, \"x1\": 10.4, \"type\": \"rect\", \"line\": {\"width\": 0}}, {\"fillcolor\": \"rgb(0.290980392157,0.594509803922,0.789019607843)\", \"y1\": -4.6, \"y0\": -5.4, \"x0\": 10.6, \"x1\": 11.4, \"type\": \"rect\", \"line\": {\"width\": 0}}, {\"fillcolor\": \"rgb(0.290980392157,0.594509803922,0.789019607843)\", \"y1\": -4.6, \"y0\": -5.4, \"x0\": 11.6, \"x1\": 12.4, \"type\": \"rect\", \"line\": {\"width\": 0}}, {\"fillcolor\": \"rgb(0.290980392157,0.594509803922,0.789019607843)\", \"y1\": -4.6, \"y0\": -5.4, \"x0\": 12.6, \"x1\": 13.4, \"type\": \"rect\", \"line\": {\"width\": 0}}, {\"fillcolor\": \"rgb(0.290980392157,0.594509803922,0.789019607843)\", \"y1\": -4.6, \"y0\": -5.4, \"x0\": 13.6, \"x1\": 14.4, \"type\": \"rect\", \"line\": {\"width\": 0}}, {\"fillcolor\": \"rgb(0.4,0.4,0.4)\", \"y1\": -4.6, \"y0\": -5.4, \"x0\": 14.6, \"x1\": 15.4, \"type\": \"rect\", \"line\": {\"width\": 0}}, {\"fillcolor\": \"rgb(0.290980392157,0.594509803922,0.789019607843)\", \"y1\": -4.6, \"y0\": -5.4, \"x0\": 15.6, \"x1\": 16.4, \"type\": \"rect\", \"line\": {\"width\": 0}}, {\"fillcolor\": \"rgb(0.946666666667,0.268235294118,0.196078431373)\", \"y1\": -4.6, \"y0\": -5.4, \"x0\": 16.6, \"x1\": 17.4, \"type\": \"rect\", \"line\": {\"width\": 0}}, {\"fillcolor\": \"rgb(0.290980392157,0.594509803922,0.789019607843)\", \"y1\": -4.6, \"y0\": -5.4, \"x0\": 17.6, \"x1\": 18.4, \"type\": \"rect\", \"line\": {\"width\": 0}}, {\"fillcolor\": \"rgb(0.290980392157,0.594509803922,0.789019607843)\", \"y1\": -4.6, \"y0\": -5.4, \"x0\": 18.6, \"x1\": 19.4, \"type\": \"rect\", \"line\": {\"width\": 0}}, {\"fillcolor\": \"rgb(0.290980392157,0.594509803922,0.789019607843)\", \"y1\": -5.6, \"y0\": -6.4, \"x0\": -0.4, \"x1\": 0.4, \"type\": \"rect\", \"line\": {\"width\": 0}}, {\"fillcolor\": \"rgb(0.290980392157,0.594509803922,0.789019607843)\", \"y1\": -5.6, \"y0\": -6.4, \"x0\": 0.6, \"x1\": 1.4, \"type\": \"rect\", \"line\": {\"width\": 0}}, {\"fillcolor\": \"rgb(0.290980392157,0.594509803922,0.789019607843)\", \"y1\": -5.6, \"y0\": -6.4, \"x0\": 1.6, \"x1\": 2.4, \"type\": \"rect\", \"line\": {\"width\": 0}}, {\"fillcolor\": \"rgb(0.290980392157,0.594509803922,0.789019607843)\", \"y1\": -5.6, \"y0\": -6.4, \"x0\": 2.6, \"x1\": 3.4, \"type\": \"rect\", \"line\": {\"width\": 0}}, {\"fillcolor\": \"rgb(0.946666666667,0.268235294118,0.196078431373)\", \"y1\": -5.6, \"y0\": -6.4, \"x0\": 3.6, \"x1\": 4.4, \"type\": \"rect\", \"line\": {\"width\": 0}}, {\"fillcolor\": \"rgb(0.290980392157,0.594509803922,0.789019607843)\", \"y1\": -5.6, \"y0\": -6.4, \"x0\": 4.6, \"x1\": 5.4, \"type\": \"rect\", \"line\": {\"width\": 0}}, {\"fillcolor\": \"rgb(0.290980392157,0.594509803922,0.789019607843)\", \"y1\": -5.6, \"y0\": -6.4, \"x0\": 5.6, \"x1\": 6.4, \"type\": \"rect\", \"line\": {\"width\": 0}}, {\"fillcolor\": \"rgb(0.290980392157,0.594509803922,0.789019607843)\", \"y1\": -5.6, \"y0\": -6.4, \"x0\": 6.6, \"x1\": 7.4, \"type\": \"rect\", \"line\": {\"width\": 0}}, {\"fillcolor\": \"rgb(0.290980392157,0.594509803922,0.789019607843)\", \"y1\": -5.6, \"y0\": -6.4, \"x0\": 7.6, \"x1\": 8.4, \"type\": \"rect\", \"line\": {\"width\": 0}}, {\"fillcolor\": \"rgb(0.290980392157,0.594509803922,0.789019607843)\", \"y1\": -5.6, \"y0\": -6.4, \"x0\": 8.6, \"x1\": 9.4, \"type\": \"rect\", \"line\": {\"width\": 0}}, {\"fillcolor\": \"rgb(0.290980392157,0.594509803922,0.789019607843)\", \"y1\": -5.6, \"y0\": -6.4, \"x0\": 9.6, \"x1\": 10.4, \"type\": \"rect\", \"line\": {\"width\": 0}}, {\"fillcolor\": \"rgb(0.290980392157,0.594509803922,0.789019607843)\", \"y1\": -5.6, \"y0\": -6.4, \"x0\": 10.6, \"x1\": 11.4, \"type\": \"rect\", \"line\": {\"width\": 0}}, {\"fillcolor\": \"rgb(0.290980392157,0.594509803922,0.789019607843)\", \"y1\": -5.6, \"y0\": -6.4, \"x0\": 11.6, \"x1\": 12.4, \"type\": \"rect\", \"line\": {\"width\": 0}}, {\"fillcolor\": \"rgb(0.290980392157,0.594509803922,0.789019607843)\", \"y1\": -5.6, \"y0\": -6.4, \"x0\": 12.6, \"x1\": 13.4, \"type\": \"rect\", \"line\": {\"width\": 0}}, {\"fillcolor\": \"rgb(255,165,0)\", \"y1\": -5.6, \"y0\": -6.4, \"x0\": 13.6, \"x1\": 14.4, \"type\": \"rect\", \"line\": {\"width\": 0}}, {\"fillcolor\": \"rgb(0.290980392157,0.594509803922,0.789019607843)\", \"y1\": -5.6, \"y0\": -6.4, \"x0\": 14.6, \"x1\": 15.4, \"type\": \"rect\", \"line\": {\"width\": 0}}, {\"fillcolor\": \"rgb(0.290980392157,0.594509803922,0.789019607843)\", \"y1\": -5.6, \"y0\": -6.4, \"x0\": 15.6, \"x1\": 16.4, \"type\": \"rect\", \"line\": {\"width\": 0}}, {\"fillcolor\": \"rgb(0.946666666667,0.268235294118,0.196078431373)\", \"y1\": -5.6, \"y0\": -6.4, \"x0\": 16.6, \"x1\": 17.4, \"type\": \"rect\", \"line\": {\"width\": 0}}, {\"fillcolor\": \"rgb(0.946666666667,0.268235294118,0.196078431373)\", \"y1\": -5.6, \"y0\": -6.4, \"x0\": 17.6, \"x1\": 18.4, \"type\": \"rect\", \"line\": {\"width\": 0}}, {\"fillcolor\": \"rgb(0.290980392157,0.594509803922,0.789019607843)\", \"y1\": -5.6, \"y0\": -6.4, \"x0\": 18.6, \"x1\": 19.4, \"type\": \"rect\", \"line\": {\"width\": 0}}, {\"fillcolor\": \"rgb(0.290980392157,0.594509803922,0.789019607843)\", \"y1\": -6.6, \"y0\": -7.4, \"x0\": -0.4, \"x1\": 0.4, \"type\": \"rect\", \"line\": {\"width\": 0}}, {\"fillcolor\": \"rgb(0.946666666667,0.268235294118,0.196078431373)\", \"y1\": -6.6, \"y0\": -7.4, \"x0\": 0.6, \"x1\": 1.4, \"type\": \"rect\", \"line\": {\"width\": 0}}, {\"fillcolor\": \"rgb(0.290980392157,0.594509803922,0.789019607843)\", \"y1\": -6.6, \"y0\": -7.4, \"x0\": 1.6, \"x1\": 2.4, \"type\": \"rect\", \"line\": {\"width\": 0}}, {\"fillcolor\": \"rgb(0.290980392157,0.594509803922,0.789019607843)\", \"y1\": -6.6, \"y0\": -7.4, \"x0\": 2.6, \"x1\": 3.4, \"type\": \"rect\", \"line\": {\"width\": 0}}, {\"fillcolor\": \"rgb(0.290980392157,0.594509803922,0.789019607843)\", \"y1\": -6.6, \"y0\": -7.4, \"x0\": 3.6, \"x1\": 4.4, \"type\": \"rect\", \"line\": {\"width\": 0}}, {\"fillcolor\": \"rgb(0.290980392157,0.594509803922,0.789019607843)\", \"y1\": -6.6, \"y0\": -7.4, \"x0\": 4.6, \"x1\": 5.4, \"type\": \"rect\", \"line\": {\"width\": 0}}, {\"fillcolor\": \"rgb(0.290980392157,0.594509803922,0.789019607843)\", \"y1\": -6.6, \"y0\": -7.4, \"x0\": 5.6, \"x1\": 6.4, \"type\": \"rect\", \"line\": {\"width\": 0}}, {\"fillcolor\": \"rgb(0.290980392157,0.594509803922,0.789019607843)\", \"y1\": -6.6, \"y0\": -7.4, \"x0\": 6.6, \"x1\": 7.4, \"type\": \"rect\", \"line\": {\"width\": 0}}, {\"fillcolor\": \"rgb(0.290980392157,0.594509803922,0.789019607843)\", \"y1\": -6.6, \"y0\": -7.4, \"x0\": 7.6, \"x1\": 8.4, \"type\": \"rect\", \"line\": {\"width\": 0}}, {\"fillcolor\": \"rgb(0.290980392157,0.594509803922,0.789019607843)\", \"y1\": -6.6, \"y0\": -7.4, \"x0\": 8.6, \"x1\": 9.4, \"type\": \"rect\", \"line\": {\"width\": 0}}, {\"fillcolor\": \"rgb(0.290980392157,0.594509803922,0.789019607843)\", \"y1\": -6.6, \"y0\": -7.4, \"x0\": 9.6, \"x1\": 10.4, \"type\": \"rect\", \"line\": {\"width\": 0}}, {\"fillcolor\": \"rgb(0.290980392157,0.594509803922,0.789019607843)\", \"y1\": -6.6, \"y0\": -7.4, \"x0\": 10.6, \"x1\": 11.4, \"type\": \"rect\", \"line\": {\"width\": 0}}, {\"fillcolor\": \"rgb(0.946666666667,0.268235294118,0.196078431373)\", \"y1\": -6.6, \"y0\": -7.4, \"x0\": 11.6, \"x1\": 12.4, \"type\": \"rect\", \"line\": {\"width\": 0}}, {\"fillcolor\": \"rgb(0.290980392157,0.594509803922,0.789019607843)\", \"y1\": -6.6, \"y0\": -7.4, \"x0\": 12.6, \"x1\": 13.4, \"type\": \"rect\", \"line\": {\"width\": 0}}, {\"fillcolor\": \"rgb(0.946666666667,0.268235294118,0.196078431373)\", \"y1\": -6.6, \"y0\": -7.4, \"x0\": 13.6, \"x1\": 14.4, \"type\": \"rect\", \"line\": {\"width\": 0}}, {\"fillcolor\": \"rgb(0.290980392157,0.594509803922,0.789019607843)\", \"y1\": -6.6, \"y0\": -7.4, \"x0\": 14.6, \"x1\": 15.4, \"type\": \"rect\", \"line\": {\"width\": 0}}, {\"fillcolor\": \"rgb(0.290980392157,0.594509803922,0.789019607843)\", \"y1\": -6.6, \"y0\": -7.4, \"x0\": 15.6, \"x1\": 16.4, \"type\": \"rect\", \"line\": {\"width\": 0}}, {\"fillcolor\": \"rgb(0.290980392157,0.594509803922,0.789019607843)\", \"y1\": -6.6, \"y0\": -7.4, \"x0\": 16.6, \"x1\": 17.4, \"type\": \"rect\", \"line\": {\"width\": 0}}, {\"fillcolor\": \"rgb(0.946666666667,0.268235294118,0.196078431373)\", \"y1\": -6.6, \"y0\": -7.4, \"x0\": 17.6, \"x1\": 18.4, \"type\": \"rect\", \"line\": {\"width\": 0}}, {\"fillcolor\": \"rgb(0.290980392157,0.594509803922,0.789019607843)\", \"y1\": -6.6, \"y0\": -7.4, \"x0\": 18.6, \"x1\": 19.4, \"type\": \"rect\", \"line\": {\"width\": 0}}, {\"fillcolor\": \"rgb(0.946666666667,0.268235294118,0.196078431373)\", \"y1\": -7.6, \"y0\": -8.4, \"x0\": -0.4, \"x1\": 0.4, \"type\": \"rect\", \"line\": {\"width\": 0}}, {\"fillcolor\": \"rgb(0.290980392157,0.594509803922,0.789019607843)\", \"y1\": -7.6, \"y0\": -8.4, \"x0\": 0.6, \"x1\": 1.4, \"type\": \"rect\", \"line\": {\"width\": 0}}, {\"fillcolor\": \"rgb(0.290980392157,0.594509803922,0.789019607843)\", \"y1\": -7.6, \"y0\": -8.4, \"x0\": 1.6, \"x1\": 2.4, \"type\": \"rect\", \"line\": {\"width\": 0}}, {\"fillcolor\": \"rgb(0.290980392157,0.594509803922,0.789019607843)\", \"y1\": -7.6, \"y0\": -8.4, \"x0\": 2.6, \"x1\": 3.4, \"type\": \"rect\", \"line\": {\"width\": 0}}, {\"fillcolor\": \"rgb(0.290980392157,0.594509803922,0.789019607843)\", \"y1\": -7.6, \"y0\": -8.4, \"x0\": 3.6, \"x1\": 4.4, \"type\": \"rect\", \"line\": {\"width\": 0}}, {\"fillcolor\": \"rgb(0.290980392157,0.594509803922,0.789019607843)\", \"y1\": -7.6, \"y0\": -8.4, \"x0\": 4.6, \"x1\": 5.4, \"type\": \"rect\", \"line\": {\"width\": 0}}, {\"fillcolor\": \"rgb(0.290980392157,0.594509803922,0.789019607843)\", \"y1\": -7.6, \"y0\": -8.4, \"x0\": 5.6, \"x1\": 6.4, \"type\": \"rect\", \"line\": {\"width\": 0}}, {\"fillcolor\": \"rgb(0.290980392157,0.594509803922,0.789019607843)\", \"y1\": -7.6, \"y0\": -8.4, \"x0\": 6.6, \"x1\": 7.4, \"type\": \"rect\", \"line\": {\"width\": 0}}, {\"fillcolor\": \"rgb(0.290980392157,0.594509803922,0.789019607843)\", \"y1\": -7.6, \"y0\": -8.4, \"x0\": 7.6, \"x1\": 8.4, \"type\": \"rect\", \"line\": {\"width\": 0}}, {\"fillcolor\": \"rgb(0.290980392157,0.594509803922,0.789019607843)\", \"y1\": -7.6, \"y0\": -8.4, \"x0\": 8.6, \"x1\": 9.4, \"type\": \"rect\", \"line\": {\"width\": 0}}, {\"fillcolor\": \"rgb(0.290980392157,0.594509803922,0.789019607843)\", \"y1\": -7.6, \"y0\": -8.4, \"x0\": 9.6, \"x1\": 10.4, \"type\": \"rect\", \"line\": {\"width\": 0}}, {\"fillcolor\": \"rgb(0.290980392157,0.594509803922,0.789019607843)\", \"y1\": -7.6, \"y0\": -8.4, \"x0\": 10.6, \"x1\": 11.4, \"type\": \"rect\", \"line\": {\"width\": 0}}, {\"fillcolor\": \"rgb(0.290980392157,0.594509803922,0.789019607843)\", \"y1\": -7.6, \"y0\": -8.4, \"x0\": 11.6, \"x1\": 12.4, \"type\": \"rect\", \"line\": {\"width\": 0}}, {\"fillcolor\": \"rgb(0.290980392157,0.594509803922,0.789019607843)\", \"y1\": -7.6, \"y0\": -8.4, \"x0\": 12.6, \"x1\": 13.4, \"type\": \"rect\", \"line\": {\"width\": 0}}, {\"fillcolor\": \"rgb(0.290980392157,0.594509803922,0.789019607843)\", \"y1\": -7.6, \"y0\": -8.4, \"x0\": 13.6, \"x1\": 14.4, \"type\": \"rect\", \"line\": {\"width\": 0}}, {\"fillcolor\": \"rgb(0.290980392157,0.594509803922,0.789019607843)\", \"y1\": -7.6, \"y0\": -8.4, \"x0\": 14.6, \"x1\": 15.4, \"type\": \"rect\", \"line\": {\"width\": 0}}, {\"fillcolor\": \"rgb(0.290980392157,0.594509803922,0.789019607843)\", \"y1\": -7.6, \"y0\": -8.4, \"x0\": 15.6, \"x1\": 16.4, \"type\": \"rect\", \"line\": {\"width\": 0}}, {\"fillcolor\": \"rgb(0.290980392157,0.594509803922,0.789019607843)\", \"y1\": -7.6, \"y0\": -8.4, \"x0\": 16.6, \"x1\": 17.4, \"type\": \"rect\", \"line\": {\"width\": 0}}, {\"fillcolor\": \"rgb(0.946666666667,0.268235294118,0.196078431373)\", \"y1\": -7.6, \"y0\": -8.4, \"x0\": 17.6, \"x1\": 18.4, \"type\": \"rect\", \"line\": {\"width\": 0}}, {\"fillcolor\": \"rgb(0.290980392157,0.594509803922,0.789019607843)\", \"y1\": -7.6, \"y0\": -8.4, \"x0\": 18.6, \"x1\": 19.4, \"type\": \"rect\", \"line\": {\"width\": 0}}, {\"fillcolor\": \"rgb(0.290980392157,0.594509803922,0.789019607843)\", \"y1\": -8.6, \"y0\": -9.4, \"x0\": -0.4, \"x1\": 0.4, \"type\": \"rect\", \"line\": {\"width\": 0}}, {\"fillcolor\": \"rgb(0.290980392157,0.594509803922,0.789019607843)\", \"y1\": -8.6, \"y0\": -9.4, \"x0\": 0.6, \"x1\": 1.4, \"type\": \"rect\", \"line\": {\"width\": 0}}, {\"fillcolor\": \"rgb(0.290980392157,0.594509803922,0.789019607843)\", \"y1\": -8.6, \"y0\": -9.4, \"x0\": 1.6, \"x1\": 2.4, \"type\": \"rect\", \"line\": {\"width\": 0}}, {\"fillcolor\": \"rgb(0.290980392157,0.594509803922,0.789019607843)\", \"y1\": -8.6, \"y0\": -9.4, \"x0\": 2.6, \"x1\": 3.4, \"type\": \"rect\", \"line\": {\"width\": 0}}, {\"fillcolor\": \"rgb(0.290980392157,0.594509803922,0.789019607843)\", \"y1\": -8.6, \"y0\": -9.4, \"x0\": 3.6, \"x1\": 4.4, \"type\": \"rect\", \"line\": {\"width\": 0}}, {\"fillcolor\": \"rgb(0.946666666667,0.268235294118,0.196078431373)\", \"y1\": -8.6, \"y0\": -9.4, \"x0\": 4.6, \"x1\": 5.4, \"type\": \"rect\", \"line\": {\"width\": 0}}, {\"fillcolor\": \"rgb(0.946666666667,0.268235294118,0.196078431373)\", \"y1\": -8.6, \"y0\": -9.4, \"x0\": 5.6, \"x1\": 6.4, \"type\": \"rect\", \"line\": {\"width\": 0}}, {\"fillcolor\": \"rgb(0.290980392157,0.594509803922,0.789019607843)\", \"y1\": -8.6, \"y0\": -9.4, \"x0\": 6.6, \"x1\": 7.4, \"type\": \"rect\", \"line\": {\"width\": 0}}, {\"fillcolor\": \"rgb(0.946666666667,0.268235294118,0.196078431373)\", \"y1\": -8.6, \"y0\": -9.4, \"x0\": 7.6, \"x1\": 8.4, \"type\": \"rect\", \"line\": {\"width\": 0}}, {\"fillcolor\": \"rgb(0.290980392157,0.594509803922,0.789019607843)\", \"y1\": -8.6, \"y0\": -9.4, \"x0\": 8.6, \"x1\": 9.4, \"type\": \"rect\", \"line\": {\"width\": 0}}, {\"fillcolor\": \"rgb(0.290980392157,0.594509803922,0.789019607843)\", \"y1\": -8.6, \"y0\": -9.4, \"x0\": 9.6, \"x1\": 10.4, \"type\": \"rect\", \"line\": {\"width\": 0}}, {\"fillcolor\": \"rgb(0.290980392157,0.594509803922,0.789019607843)\", \"y1\": -8.6, \"y0\": -9.4, \"x0\": 10.6, \"x1\": 11.4, \"type\": \"rect\", \"line\": {\"width\": 0}}, {\"fillcolor\": \"rgb(0.946666666667,0.268235294118,0.196078431373)\", \"y1\": -8.6, \"y0\": -9.4, \"x0\": 11.6, \"x1\": 12.4, \"type\": \"rect\", \"line\": {\"width\": 0}}, {\"fillcolor\": \"rgb(0.290980392157,0.594509803922,0.789019607843)\", \"y1\": -8.6, \"y0\": -9.4, \"x0\": 12.6, \"x1\": 13.4, \"type\": \"rect\", \"line\": {\"width\": 0}}, {\"fillcolor\": \"rgb(0.290980392157,0.594509803922,0.789019607843)\", \"y1\": -8.6, \"y0\": -9.4, \"x0\": 13.6, \"x1\": 14.4, \"type\": \"rect\", \"line\": {\"width\": 0}}, {\"fillcolor\": \"rgb(0.946666666667,0.268235294118,0.196078431373)\", \"y1\": -8.6, \"y0\": -9.4, \"x0\": 14.6, \"x1\": 15.4, \"type\": \"rect\", \"line\": {\"width\": 0}}, {\"fillcolor\": \"rgb(0.290980392157,0.594509803922,0.789019607843)\", \"y1\": -8.6, \"y0\": -9.4, \"x0\": 15.6, \"x1\": 16.4, \"type\": \"rect\", \"line\": {\"width\": 0}}, {\"fillcolor\": \"rgb(0.946666666667,0.268235294118,0.196078431373)\", \"y1\": -8.6, \"y0\": -9.4, \"x0\": 16.6, \"x1\": 17.4, \"type\": \"rect\", \"line\": {\"width\": 0}}, {\"fillcolor\": \"rgb(0.290980392157,0.594509803922,0.789019607843)\", \"y1\": -8.6, \"y0\": -9.4, \"x0\": 17.6, \"x1\": 18.4, \"type\": \"rect\", \"line\": {\"width\": 0}}, {\"fillcolor\": \"rgb(0.290980392157,0.594509803922,0.789019607843)\", \"y1\": -8.6, \"y0\": -9.4, \"x0\": 18.6, \"x1\": 19.4, \"type\": \"rect\", \"line\": {\"width\": 0}}, {\"fillcolor\": \"rgb(0.290980392157,0.594509803922,0.789019607843)\", \"y1\": -9.6, \"y0\": -10.4, \"x0\": -0.4, \"x1\": 0.4, \"type\": \"rect\", \"line\": {\"width\": 0}}, {\"fillcolor\": \"rgb(0.290980392157,0.594509803922,0.789019607843)\", \"y1\": -9.6, \"y0\": -10.4, \"x0\": 0.6, \"x1\": 1.4, \"type\": \"rect\", \"line\": {\"width\": 0}}, {\"fillcolor\": \"rgb(0.946666666667,0.268235294118,0.196078431373)\", \"y1\": -9.6, \"y0\": -10.4, \"x0\": 1.6, \"x1\": 2.4, \"type\": \"rect\", \"line\": {\"width\": 0}}, {\"fillcolor\": \"rgb(0.290980392157,0.594509803922,0.789019607843)\", \"y1\": -9.6, \"y0\": -10.4, \"x0\": 2.6, \"x1\": 3.4, \"type\": \"rect\", \"line\": {\"width\": 0}}, {\"fillcolor\": \"rgb(0.290980392157,0.594509803922,0.789019607843)\", \"y1\": -9.6, \"y0\": -10.4, \"x0\": 3.6, \"x1\": 4.4, \"type\": \"rect\", \"line\": {\"width\": 0}}, {\"fillcolor\": \"rgb(0.290980392157,0.594509803922,0.789019607843)\", \"y1\": -9.6, \"y0\": -10.4, \"x0\": 4.6, \"x1\": 5.4, \"type\": \"rect\", \"line\": {\"width\": 0}}, {\"fillcolor\": \"rgb(0.290980392157,0.594509803922,0.789019607843)\", \"y1\": -9.6, \"y0\": -10.4, \"x0\": 5.6, \"x1\": 6.4, \"type\": \"rect\", \"line\": {\"width\": 0}}, {\"fillcolor\": \"rgb(0.290980392157,0.594509803922,0.789019607843)\", \"y1\": -9.6, \"y0\": -10.4, \"x0\": 6.6, \"x1\": 7.4, \"type\": \"rect\", \"line\": {\"width\": 0}}, {\"fillcolor\": \"rgb(0.290980392157,0.594509803922,0.789019607843)\", \"y1\": -9.6, \"y0\": -10.4, \"x0\": 7.6, \"x1\": 8.4, \"type\": \"rect\", \"line\": {\"width\": 0}}, {\"fillcolor\": \"rgb(0.290980392157,0.594509803922,0.789019607843)\", \"y1\": -9.6, \"y0\": -10.4, \"x0\": 8.6, \"x1\": 9.4, \"type\": \"rect\", \"line\": {\"width\": 0}}, {\"fillcolor\": \"rgb(0.946666666667,0.268235294118,0.196078431373)\", \"y1\": -9.6, \"y0\": -10.4, \"x0\": 9.6, \"x1\": 10.4, \"type\": \"rect\", \"line\": {\"width\": 0}}, {\"fillcolor\": \"rgb(0.290980392157,0.594509803922,0.789019607843)\", \"y1\": -9.6, \"y0\": -10.4, \"x0\": 10.6, \"x1\": 11.4, \"type\": \"rect\", \"line\": {\"width\": 0}}, {\"fillcolor\": \"rgb(0.290980392157,0.594509803922,0.789019607843)\", \"y1\": -9.6, \"y0\": -10.4, \"x0\": 11.6, \"x1\": 12.4, \"type\": \"rect\", \"line\": {\"width\": 0}}, {\"fillcolor\": \"rgb(0.290980392157,0.594509803922,0.789019607843)\", \"y1\": -9.6, \"y0\": -10.4, \"x0\": 12.6, \"x1\": 13.4, \"type\": \"rect\", \"line\": {\"width\": 0}}, {\"fillcolor\": \"rgb(0.290980392157,0.594509803922,0.789019607843)\", \"y1\": -9.6, \"y0\": -10.4, \"x0\": 13.6, \"x1\": 14.4, \"type\": \"rect\", \"line\": {\"width\": 0}}, {\"fillcolor\": \"rgb(0.290980392157,0.594509803922,0.789019607843)\", \"y1\": -9.6, \"y0\": -10.4, \"x0\": 14.6, \"x1\": 15.4, \"type\": \"rect\", \"line\": {\"width\": 0}}, {\"fillcolor\": \"rgb(0.290980392157,0.594509803922,0.789019607843)\", \"y1\": -9.6, \"y0\": -10.4, \"x0\": 15.6, \"x1\": 16.4, \"type\": \"rect\", \"line\": {\"width\": 0}}, {\"fillcolor\": \"rgb(0.290980392157,0.594509803922,0.789019607843)\", \"y1\": -9.6, \"y0\": -10.4, \"x0\": 16.6, \"x1\": 17.4, \"type\": \"rect\", \"line\": {\"width\": 0}}, {\"fillcolor\": \"rgb(0.946666666667,0.268235294118,0.196078431373)\", \"y1\": -9.6, \"y0\": -10.4, \"x0\": 17.6, \"x1\": 18.4, \"type\": \"rect\", \"line\": {\"width\": 0}}, {\"fillcolor\": \"rgb(0.290980392157,0.594509803922,0.789019607843)\", \"y1\": -9.6, \"y0\": -10.4, \"x0\": 18.6, \"x1\": 19.4, \"type\": \"rect\", \"line\": {\"width\": 0}}, {\"fillcolor\": \"rgb(0.946666666667,0.268235294118,0.196078431373)\", \"y1\": -10.6, \"y0\": -11.4, \"x0\": -0.4, \"x1\": 0.4, \"type\": \"rect\", \"line\": {\"width\": 0}}, {\"fillcolor\": \"rgb(0.946666666667,0.268235294118,0.196078431373)\", \"y1\": -10.6, \"y0\": -11.4, \"x0\": 0.6, \"x1\": 1.4, \"type\": \"rect\", \"line\": {\"width\": 0}}, {\"fillcolor\": \"rgb(0.290980392157,0.594509803922,0.789019607843)\", \"y1\": -10.6, \"y0\": -11.4, \"x0\": 1.6, \"x1\": 2.4, \"type\": \"rect\", \"line\": {\"width\": 0}}, {\"fillcolor\": \"rgb(0.946666666667,0.268235294118,0.196078431373)\", \"y1\": -10.6, \"y0\": -11.4, \"x0\": 2.6, \"x1\": 3.4, \"type\": \"rect\", \"line\": {\"width\": 0}}, {\"fillcolor\": \"rgb(0.946666666667,0.268235294118,0.196078431373)\", \"y1\": -10.6, \"y0\": -11.4, \"x0\": 3.6, \"x1\": 4.4, \"type\": \"rect\", \"line\": {\"width\": 0}}, {\"fillcolor\": \"rgb(0.946666666667,0.268235294118,0.196078431373)\", \"y1\": -10.6, \"y0\": -11.4, \"x0\": 4.6, \"x1\": 5.4, \"type\": \"rect\", \"line\": {\"width\": 0}}, {\"fillcolor\": \"rgb(0.946666666667,0.268235294118,0.196078431373)\", \"y1\": -10.6, \"y0\": -11.4, \"x0\": 5.6, \"x1\": 6.4, \"type\": \"rect\", \"line\": {\"width\": 0}}, {\"fillcolor\": \"rgb(0.290980392157,0.594509803922,0.789019607843)\", \"y1\": -10.6, \"y0\": -11.4, \"x0\": 6.6, \"x1\": 7.4, \"type\": \"rect\", \"line\": {\"width\": 0}}, {\"fillcolor\": \"rgb(0.290980392157,0.594509803922,0.789019607843)\", \"y1\": -10.6, \"y0\": -11.4, \"x0\": 7.6, \"x1\": 8.4, \"type\": \"rect\", \"line\": {\"width\": 0}}, {\"fillcolor\": \"rgb(0.290980392157,0.594509803922,0.789019607843)\", \"y1\": -10.6, \"y0\": -11.4, \"x0\": 8.6, \"x1\": 9.4, \"type\": \"rect\", \"line\": {\"width\": 0}}, {\"fillcolor\": \"rgb(0.290980392157,0.594509803922,0.789019607843)\", \"y1\": -10.6, \"y0\": -11.4, \"x0\": 9.6, \"x1\": 10.4, \"type\": \"rect\", \"line\": {\"width\": 0}}, {\"fillcolor\": \"rgb(0.290980392157,0.594509803922,0.789019607843)\", \"y1\": -10.6, \"y0\": -11.4, \"x0\": 10.6, \"x1\": 11.4, \"type\": \"rect\", \"line\": {\"width\": 0}}, {\"fillcolor\": \"rgb(0.946666666667,0.268235294118,0.196078431373)\", \"y1\": -10.6, \"y0\": -11.4, \"x0\": 11.6, \"x1\": 12.4, \"type\": \"rect\", \"line\": {\"width\": 0}}, {\"fillcolor\": \"rgb(0.290980392157,0.594509803922,0.789019607843)\", \"y1\": -10.6, \"y0\": -11.4, \"x0\": 12.6, \"x1\": 13.4, \"type\": \"rect\", \"line\": {\"width\": 0}}, {\"fillcolor\": \"rgb(0.290980392157,0.594509803922,0.789019607843)\", \"y1\": -10.6, \"y0\": -11.4, \"x0\": 13.6, \"x1\": 14.4, \"type\": \"rect\", \"line\": {\"width\": 0}}, {\"fillcolor\": \"rgb(0.946666666667,0.268235294118,0.196078431373)\", \"y1\": -10.6, \"y0\": -11.4, \"x0\": 14.6, \"x1\": 15.4, \"type\": \"rect\", \"line\": {\"width\": 0}}, {\"fillcolor\": \"rgb(0.290980392157,0.594509803922,0.789019607843)\", \"y1\": -10.6, \"y0\": -11.4, \"x0\": 15.6, \"x1\": 16.4, \"type\": \"rect\", \"line\": {\"width\": 0}}, {\"fillcolor\": \"rgb(0.946666666667,0.268235294118,0.196078431373)\", \"y1\": -10.6, \"y0\": -11.4, \"x0\": 16.6, \"x1\": 17.4, \"type\": \"rect\", \"line\": {\"width\": 0}}, {\"fillcolor\": \"rgb(0.946666666667,0.268235294118,0.196078431373)\", \"y1\": -10.6, \"y0\": -11.4, \"x0\": 17.6, \"x1\": 18.4, \"type\": \"rect\", \"line\": {\"width\": 0}}, {\"fillcolor\": \"rgb(0.946666666667,0.268235294118,0.196078431373)\", \"y1\": -10.6, \"y0\": -11.4, \"x0\": 18.6, \"x1\": 19.4, \"type\": \"rect\", \"line\": {\"width\": 0}}, {\"fillcolor\": \"rgb(0.290980392157,0.594509803922,0.789019607843)\", \"y1\": -11.6, \"y0\": -12.4, \"x0\": -0.4, \"x1\": 0.4, \"type\": \"rect\", \"line\": {\"width\": 0}}, {\"fillcolor\": \"rgb(0.946666666667,0.268235294118,0.196078431373)\", \"y1\": -11.6, \"y0\": -12.4, \"x0\": 0.6, \"x1\": 1.4, \"type\": \"rect\", \"line\": {\"width\": 0}}, {\"fillcolor\": \"rgb(0.946666666667,0.268235294118,0.196078431373)\", \"y1\": -11.6, \"y0\": -12.4, \"x0\": 1.6, \"x1\": 2.4, \"type\": \"rect\", \"line\": {\"width\": 0}}, {\"fillcolor\": \"rgb(0.946666666667,0.268235294118,0.196078431373)\", \"y1\": -11.6, \"y0\": -12.4, \"x0\": 2.6, \"x1\": 3.4, \"type\": \"rect\", \"line\": {\"width\": 0}}, {\"fillcolor\": \"rgb(0.290980392157,0.594509803922,0.789019607843)\", \"y1\": -11.6, \"y0\": -12.4, \"x0\": 3.6, \"x1\": 4.4, \"type\": \"rect\", \"line\": {\"width\": 0}}, {\"fillcolor\": \"rgb(0.946666666667,0.268235294118,0.196078431373)\", \"y1\": -11.6, \"y0\": -12.4, \"x0\": 4.6, \"x1\": 5.4, \"type\": \"rect\", \"line\": {\"width\": 0}}, {\"fillcolor\": \"rgb(0.946666666667,0.268235294118,0.196078431373)\", \"y1\": -11.6, \"y0\": -12.4, \"x0\": 5.6, \"x1\": 6.4, \"type\": \"rect\", \"line\": {\"width\": 0}}, {\"fillcolor\": \"rgb(0.946666666667,0.268235294118,0.196078431373)\", \"y1\": -11.6, \"y0\": -12.4, \"x0\": 6.6, \"x1\": 7.4, \"type\": \"rect\", \"line\": {\"width\": 0}}, {\"fillcolor\": \"rgb(0.290980392157,0.594509803922,0.789019607843)\", \"y1\": -11.6, \"y0\": -12.4, \"x0\": 7.6, \"x1\": 8.4, \"type\": \"rect\", \"line\": {\"width\": 0}}, {\"fillcolor\": \"rgb(0.290980392157,0.594509803922,0.789019607843)\", \"y1\": -11.6, \"y0\": -12.4, \"x0\": 8.6, \"x1\": 9.4, \"type\": \"rect\", \"line\": {\"width\": 0}}, {\"fillcolor\": \"rgb(0.946666666667,0.268235294118,0.196078431373)\", \"y1\": -11.6, \"y0\": -12.4, \"x0\": 9.6, \"x1\": 10.4, \"type\": \"rect\", \"line\": {\"width\": 0}}, {\"fillcolor\": \"rgb(0.290980392157,0.594509803922,0.789019607843)\", \"y1\": -11.6, \"y0\": -12.4, \"x0\": 10.6, \"x1\": 11.4, \"type\": \"rect\", \"line\": {\"width\": 0}}, {\"fillcolor\": \"rgb(0.290980392157,0.594509803922,0.789019607843)\", \"y1\": -11.6, \"y0\": -12.4, \"x0\": 11.6, \"x1\": 12.4, \"type\": \"rect\", \"line\": {\"width\": 0}}, {\"fillcolor\": \"rgb(0.290980392157,0.594509803922,0.789019607843)\", \"y1\": -11.6, \"y0\": -12.4, \"x0\": 12.6, \"x1\": 13.4, \"type\": \"rect\", \"line\": {\"width\": 0}}, {\"fillcolor\": \"rgb(0.946666666667,0.268235294118,0.196078431373)\", \"y1\": -11.6, \"y0\": -12.4, \"x0\": 13.6, \"x1\": 14.4, \"type\": \"rect\", \"line\": {\"width\": 0}}, {\"fillcolor\": \"rgb(0.290980392157,0.594509803922,0.789019607843)\", \"y1\": -11.6, \"y0\": -12.4, \"x0\": 14.6, \"x1\": 15.4, \"type\": \"rect\", \"line\": {\"width\": 0}}, {\"fillcolor\": \"rgb(0.946666666667,0.268235294118,0.196078431373)\", \"y1\": -11.6, \"y0\": -12.4, \"x0\": 15.6, \"x1\": 16.4, \"type\": \"rect\", \"line\": {\"width\": 0}}, {\"fillcolor\": \"rgb(0.946666666667,0.268235294118,0.196078431373)\", \"y1\": -11.6, \"y0\": -12.4, \"x0\": 16.6, \"x1\": 17.4, \"type\": \"rect\", \"line\": {\"width\": 0}}, {\"fillcolor\": \"rgb(0.946666666667,0.268235294118,0.196078431373)\", \"y1\": -11.6, \"y0\": -12.4, \"x0\": 17.6, \"x1\": 18.4, \"type\": \"rect\", \"line\": {\"width\": 0}}, {\"fillcolor\": \"rgb(0.946666666667,0.268235294118,0.196078431373)\", \"y1\": -11.6, \"y0\": -12.4, \"x0\": 18.6, \"x1\": 19.4, \"type\": \"rect\", \"line\": {\"width\": 0}}, {\"fillcolor\": \"rgb(0.946666666667,0.268235294118,0.196078431373)\", \"y1\": -12.6, \"y0\": -13.4, \"x0\": -0.4, \"x1\": 0.4, \"type\": \"rect\", \"line\": {\"width\": 0}}, {\"fillcolor\": \"rgb(0.946666666667,0.268235294118,0.196078431373)\", \"y1\": -12.6, \"y0\": -13.4, \"x0\": 0.6, \"x1\": 1.4, \"type\": \"rect\", \"line\": {\"width\": 0}}, {\"fillcolor\": \"rgb(0.290980392157,0.594509803922,0.789019607843)\", \"y1\": -12.6, \"y0\": -13.4, \"x0\": 1.6, \"x1\": 2.4, \"type\": \"rect\", \"line\": {\"width\": 0}}, {\"fillcolor\": \"rgb(0.946666666667,0.268235294118,0.196078431373)\", \"y1\": -12.6, \"y0\": -13.4, \"x0\": 2.6, \"x1\": 3.4, \"type\": \"rect\", \"line\": {\"width\": 0}}, {\"fillcolor\": \"rgb(0.946666666667,0.268235294118,0.196078431373)\", \"y1\": -12.6, \"y0\": -13.4, \"x0\": 3.6, \"x1\": 4.4, \"type\": \"rect\", \"line\": {\"width\": 0}}, {\"fillcolor\": \"rgb(0.946666666667,0.268235294118,0.196078431373)\", \"y1\": -12.6, \"y0\": -13.4, \"x0\": 4.6, \"x1\": 5.4, \"type\": \"rect\", \"line\": {\"width\": 0}}, {\"fillcolor\": \"rgb(0.290980392157,0.594509803922,0.789019607843)\", \"y1\": -12.6, \"y0\": -13.4, \"x0\": 5.6, \"x1\": 6.4, \"type\": \"rect\", \"line\": {\"width\": 0}}, {\"fillcolor\": \"rgb(0.946666666667,0.268235294118,0.196078431373)\", \"y1\": -12.6, \"y0\": -13.4, \"x0\": 6.6, \"x1\": 7.4, \"type\": \"rect\", \"line\": {\"width\": 0}}, {\"fillcolor\": \"rgb(0.290980392157,0.594509803922,0.789019607843)\", \"y1\": -12.6, \"y0\": -13.4, \"x0\": 7.6, \"x1\": 8.4, \"type\": \"rect\", \"line\": {\"width\": 0}}, {\"fillcolor\": \"rgb(0.946666666667,0.268235294118,0.196078431373)\", \"y1\": -12.6, \"y0\": -13.4, \"x0\": 8.6, \"x1\": 9.4, \"type\": \"rect\", \"line\": {\"width\": 0}}, {\"fillcolor\": \"rgb(0.946666666667,0.268235294118,0.196078431373)\", \"y1\": -12.6, \"y0\": -13.4, \"x0\": 9.6, \"x1\": 10.4, \"type\": \"rect\", \"line\": {\"width\": 0}}, {\"fillcolor\": \"rgb(0.290980392157,0.594509803922,0.789019607843)\", \"y1\": -12.6, \"y0\": -13.4, \"x0\": 10.6, \"x1\": 11.4, \"type\": \"rect\", \"line\": {\"width\": 0}}, {\"fillcolor\": \"rgb(0.946666666667,0.268235294118,0.196078431373)\", \"y1\": -12.6, \"y0\": -13.4, \"x0\": 11.6, \"x1\": 12.4, \"type\": \"rect\", \"line\": {\"width\": 0}}, {\"fillcolor\": \"rgb(0.946666666667,0.268235294118,0.196078431373)\", \"y1\": -12.6, \"y0\": -13.4, \"x0\": 12.6, \"x1\": 13.4, \"type\": \"rect\", \"line\": {\"width\": 0}}, {\"fillcolor\": \"rgb(0.946666666667,0.268235294118,0.196078431373)\", \"y1\": -12.6, \"y0\": -13.4, \"x0\": 13.6, \"x1\": 14.4, \"type\": \"rect\", \"line\": {\"width\": 0}}, {\"fillcolor\": \"rgb(0.946666666667,0.268235294118,0.196078431373)\", \"y1\": -12.6, \"y0\": -13.4, \"x0\": 14.6, \"x1\": 15.4, \"type\": \"rect\", \"line\": {\"width\": 0}}, {\"fillcolor\": \"rgb(0.946666666667,0.268235294118,0.196078431373)\", \"y1\": -12.6, \"y0\": -13.4, \"x0\": 15.6, \"x1\": 16.4, \"type\": \"rect\", \"line\": {\"width\": 0}}, {\"fillcolor\": \"rgb(0.946666666667,0.268235294118,0.196078431373)\", \"y1\": -12.6, \"y0\": -13.4, \"x0\": 16.6, \"x1\": 17.4, \"type\": \"rect\", \"line\": {\"width\": 0}}, {\"fillcolor\": \"rgb(0.946666666667,0.268235294118,0.196078431373)\", \"y1\": -12.6, \"y0\": -13.4, \"x0\": 17.6, \"x1\": 18.4, \"type\": \"rect\", \"line\": {\"width\": 0}}, {\"fillcolor\": \"rgb(0.946666666667,0.268235294118,0.196078431373)\", \"y1\": -12.6, \"y0\": -13.4, \"x0\": 18.6, \"x1\": 19.4, \"type\": \"rect\", \"line\": {\"width\": 0}}, {\"fillcolor\": \"rgb(0.290980392157,0.594509803922,0.789019607843)\", \"y1\": -13.6, \"y0\": -14.4, \"x0\": -0.4, \"x1\": 0.4, \"type\": \"rect\", \"line\": {\"width\": 0}}, {\"fillcolor\": \"rgb(0.946666666667,0.268235294118,0.196078431373)\", \"y1\": -13.6, \"y0\": -14.4, \"x0\": 0.6, \"x1\": 1.4, \"type\": \"rect\", \"line\": {\"width\": 0}}, {\"fillcolor\": \"rgb(0.290980392157,0.594509803922,0.789019607843)\", \"y1\": -13.6, \"y0\": -14.4, \"x0\": 1.6, \"x1\": 2.4, \"type\": \"rect\", \"line\": {\"width\": 0}}, {\"fillcolor\": \"rgb(0.946666666667,0.268235294118,0.196078431373)\", \"y1\": -13.6, \"y0\": -14.4, \"x0\": 2.6, \"x1\": 3.4, \"type\": \"rect\", \"line\": {\"width\": 0}}, {\"fillcolor\": \"rgb(0.946666666667,0.268235294118,0.196078431373)\", \"y1\": -13.6, \"y0\": -14.4, \"x0\": 3.6, \"x1\": 4.4, \"type\": \"rect\", \"line\": {\"width\": 0}}, {\"fillcolor\": \"rgb(0.946666666667,0.268235294118,0.196078431373)\", \"y1\": -13.6, \"y0\": -14.4, \"x0\": 4.6, \"x1\": 5.4, \"type\": \"rect\", \"line\": {\"width\": 0}}, {\"fillcolor\": \"rgb(0.946666666667,0.268235294118,0.196078431373)\", \"y1\": -13.6, \"y0\": -14.4, \"x0\": 5.6, \"x1\": 6.4, \"type\": \"rect\", \"line\": {\"width\": 0}}, {\"fillcolor\": \"rgb(0.946666666667,0.268235294118,0.196078431373)\", \"y1\": -13.6, \"y0\": -14.4, \"x0\": 6.6, \"x1\": 7.4, \"type\": \"rect\", \"line\": {\"width\": 0}}, {\"fillcolor\": \"rgb(0.946666666667,0.268235294118,0.196078431373)\", \"y1\": -13.6, \"y0\": -14.4, \"x0\": 7.6, \"x1\": 8.4, \"type\": \"rect\", \"line\": {\"width\": 0}}, {\"fillcolor\": \"rgb(0.946666666667,0.268235294118,0.196078431373)\", \"y1\": -13.6, \"y0\": -14.4, \"x0\": 8.6, \"x1\": 9.4, \"type\": \"rect\", \"line\": {\"width\": 0}}, {\"fillcolor\": \"rgb(0.946666666667,0.268235294118,0.196078431373)\", \"y1\": -13.6, \"y0\": -14.4, \"x0\": 9.6, \"x1\": 10.4, \"type\": \"rect\", \"line\": {\"width\": 0}}, {\"fillcolor\": \"rgb(0.946666666667,0.268235294118,0.196078431373)\", \"y1\": -13.6, \"y0\": -14.4, \"x0\": 10.6, \"x1\": 11.4, \"type\": \"rect\", \"line\": {\"width\": 0}}, {\"fillcolor\": \"rgb(0.946666666667,0.268235294118,0.196078431373)\", \"y1\": -13.6, \"y0\": -14.4, \"x0\": 11.6, \"x1\": 12.4, \"type\": \"rect\", \"line\": {\"width\": 0}}, {\"fillcolor\": \"rgb(0.290980392157,0.594509803922,0.789019607843)\", \"y1\": -13.6, \"y0\": -14.4, \"x0\": 12.6, \"x1\": 13.4, \"type\": \"rect\", \"line\": {\"width\": 0}}, {\"fillcolor\": \"rgb(0.946666666667,0.268235294118,0.196078431373)\", \"y1\": -13.6, \"y0\": -14.4, \"x0\": 13.6, \"x1\": 14.4, \"type\": \"rect\", \"line\": {\"width\": 0}}, {\"fillcolor\": \"rgb(0.946666666667,0.268235294118,0.196078431373)\", \"y1\": -13.6, \"y0\": -14.4, \"x0\": 14.6, \"x1\": 15.4, \"type\": \"rect\", \"line\": {\"width\": 0}}, {\"fillcolor\": \"rgb(0.290980392157,0.594509803922,0.789019607843)\", \"y1\": -13.6, \"y0\": -14.4, \"x0\": 15.6, \"x1\": 16.4, \"type\": \"rect\", \"line\": {\"width\": 0}}, {\"fillcolor\": \"rgb(0.290980392157,0.594509803922,0.789019607843)\", \"y1\": -13.6, \"y0\": -14.4, \"x0\": 16.6, \"x1\": 17.4, \"type\": \"rect\", \"line\": {\"width\": 0}}, {\"fillcolor\": \"rgb(0.946666666667,0.268235294118,0.196078431373)\", \"y1\": -13.6, \"y0\": -14.4, \"x0\": 17.6, \"x1\": 18.4, \"type\": \"rect\", \"line\": {\"width\": 0}}, {\"fillcolor\": \"rgb(0.946666666667,0.268235294118,0.196078431373)\", \"y1\": -13.6, \"y0\": -14.4, \"x0\": 18.6, \"x1\": 19.4, \"type\": \"rect\", \"line\": {\"width\": 0}}, {\"fillcolor\": \"rgb(0.290980392157,0.594509803922,0.789019607843)\", \"y1\": -14.6, \"y0\": -15.4, \"x0\": -0.4, \"x1\": 0.4, \"type\": \"rect\", \"line\": {\"width\": 0}}, {\"fillcolor\": \"rgb(0.946666666667,0.268235294118,0.196078431373)\", \"y1\": -14.6, \"y0\": -15.4, \"x0\": 0.6, \"x1\": 1.4, \"type\": \"rect\", \"line\": {\"width\": 0}}, {\"fillcolor\": \"rgb(0.946666666667,0.268235294118,0.196078431373)\", \"y1\": -14.6, \"y0\": -15.4, \"x0\": 1.6, \"x1\": 2.4, \"type\": \"rect\", \"line\": {\"width\": 0}}, {\"fillcolor\": \"rgb(0.946666666667,0.268235294118,0.196078431373)\", \"y1\": -14.6, \"y0\": -15.4, \"x0\": 2.6, \"x1\": 3.4, \"type\": \"rect\", \"line\": {\"width\": 0}}, {\"fillcolor\": \"rgb(0.290980392157,0.594509803922,0.789019607843)\", \"y1\": -14.6, \"y0\": -15.4, \"x0\": 3.6, \"x1\": 4.4, \"type\": \"rect\", \"line\": {\"width\": 0}}, {\"fillcolor\": \"rgb(0.946666666667,0.268235294118,0.196078431373)\", \"y1\": -14.6, \"y0\": -15.4, \"x0\": 4.6, \"x1\": 5.4, \"type\": \"rect\", \"line\": {\"width\": 0}}, {\"fillcolor\": \"rgb(0.946666666667,0.268235294118,0.196078431373)\", \"y1\": -14.6, \"y0\": -15.4, \"x0\": 5.6, \"x1\": 6.4, \"type\": \"rect\", \"line\": {\"width\": 0}}, {\"fillcolor\": \"rgb(0.946666666667,0.268235294118,0.196078431373)\", \"y1\": -14.6, \"y0\": -15.4, \"x0\": 6.6, \"x1\": 7.4, \"type\": \"rect\", \"line\": {\"width\": 0}}, {\"fillcolor\": \"rgb(0.290980392157,0.594509803922,0.789019607843)\", \"y1\": -14.6, \"y0\": -15.4, \"x0\": 7.6, \"x1\": 8.4, \"type\": \"rect\", \"line\": {\"width\": 0}}, {\"fillcolor\": \"rgb(0.946666666667,0.268235294118,0.196078431373)\", \"y1\": -14.6, \"y0\": -15.4, \"x0\": 8.6, \"x1\": 9.4, \"type\": \"rect\", \"line\": {\"width\": 0}}, {\"fillcolor\": \"rgb(0.290980392157,0.594509803922,0.789019607843)\", \"y1\": -14.6, \"y0\": -15.4, \"x0\": 9.6, \"x1\": 10.4, \"type\": \"rect\", \"line\": {\"width\": 0}}, {\"fillcolor\": \"rgb(0.946666666667,0.268235294118,0.196078431373)\", \"y1\": -14.6, \"y0\": -15.4, \"x0\": 10.6, \"x1\": 11.4, \"type\": \"rect\", \"line\": {\"width\": 0}}, {\"fillcolor\": \"rgb(0.946666666667,0.268235294118,0.196078431373)\", \"y1\": -14.6, \"y0\": -15.4, \"x0\": 11.6, \"x1\": 12.4, \"type\": \"rect\", \"line\": {\"width\": 0}}, {\"fillcolor\": \"rgb(0.290980392157,0.594509803922,0.789019607843)\", \"y1\": -14.6, \"y0\": -15.4, \"x0\": 12.6, \"x1\": 13.4, \"type\": \"rect\", \"line\": {\"width\": 0}}, {\"fillcolor\": \"rgb(0.946666666667,0.268235294118,0.196078431373)\", \"y1\": -14.6, \"y0\": -15.4, \"x0\": 13.6, \"x1\": 14.4, \"type\": \"rect\", \"line\": {\"width\": 0}}, {\"fillcolor\": \"rgb(0.946666666667,0.268235294118,0.196078431373)\", \"y1\": -14.6, \"y0\": -15.4, \"x0\": 14.6, \"x1\": 15.4, \"type\": \"rect\", \"line\": {\"width\": 0}}, {\"fillcolor\": \"rgb(0.946666666667,0.268235294118,0.196078431373)\", \"y1\": -14.6, \"y0\": -15.4, \"x0\": 15.6, \"x1\": 16.4, \"type\": \"rect\", \"line\": {\"width\": 0}}, {\"fillcolor\": \"rgb(0.946666666667,0.268235294118,0.196078431373)\", \"y1\": -14.6, \"y0\": -15.4, \"x0\": 16.6, \"x1\": 17.4, \"type\": \"rect\", \"line\": {\"width\": 0}}, {\"fillcolor\": \"rgb(0.946666666667,0.268235294118,0.196078431373)\", \"y1\": -14.6, \"y0\": -15.4, \"x0\": 17.6, \"x1\": 18.4, \"type\": \"rect\", \"line\": {\"width\": 0}}, {\"fillcolor\": \"rgb(0.946666666667,0.268235294118,0.196078431373)\", \"y1\": -14.6, \"y0\": -15.4, \"x0\": 18.6, \"x1\": 19.4, \"type\": \"rect\", \"line\": {\"width\": 0}}, {\"fillcolor\": \"rgb(0.946666666667,0.268235294118,0.196078431373)\", \"y1\": -15.6, \"y0\": -16.4, \"x0\": -0.4, \"x1\": 0.4, \"type\": \"rect\", \"line\": {\"width\": 0}}, {\"fillcolor\": \"rgb(0.946666666667,0.268235294118,0.196078431373)\", \"y1\": -15.6, \"y0\": -16.4, \"x0\": 0.6, \"x1\": 1.4, \"type\": \"rect\", \"line\": {\"width\": 0}}, {\"fillcolor\": \"rgb(0.946666666667,0.268235294118,0.196078431373)\", \"y1\": -15.6, \"y0\": -16.4, \"x0\": 1.6, \"x1\": 2.4, \"type\": \"rect\", \"line\": {\"width\": 0}}, {\"fillcolor\": \"rgb(0.290980392157,0.594509803922,0.789019607843)\", \"y1\": -15.6, \"y0\": -16.4, \"x0\": 2.6, \"x1\": 3.4, \"type\": \"rect\", \"line\": {\"width\": 0}}, {\"fillcolor\": \"rgb(0.946666666667,0.268235294118,0.196078431373)\", \"y1\": -15.6, \"y0\": -16.4, \"x0\": 3.6, \"x1\": 4.4, \"type\": \"rect\", \"line\": {\"width\": 0}}, {\"fillcolor\": \"rgb(0.946666666667,0.268235294118,0.196078431373)\", \"y1\": -15.6, \"y0\": -16.4, \"x0\": 4.6, \"x1\": 5.4, \"type\": \"rect\", \"line\": {\"width\": 0}}, {\"fillcolor\": \"rgb(0.946666666667,0.268235294118,0.196078431373)\", \"y1\": -15.6, \"y0\": -16.4, \"x0\": 5.6, \"x1\": 6.4, \"type\": \"rect\", \"line\": {\"width\": 0}}, {\"fillcolor\": \"rgb(0.946666666667,0.268235294118,0.196078431373)\", \"y1\": -15.6, \"y0\": -16.4, \"x0\": 6.6, \"x1\": 7.4, \"type\": \"rect\", \"line\": {\"width\": 0}}, {\"fillcolor\": \"rgb(0.946666666667,0.268235294118,0.196078431373)\", \"y1\": -15.6, \"y0\": -16.4, \"x0\": 7.6, \"x1\": 8.4, \"type\": \"rect\", \"line\": {\"width\": 0}}, {\"fillcolor\": \"rgb(0.946666666667,0.268235294118,0.196078431373)\", \"y1\": -15.6, \"y0\": -16.4, \"x0\": 8.6, \"x1\": 9.4, \"type\": \"rect\", \"line\": {\"width\": 0}}, {\"fillcolor\": \"rgb(0.946666666667,0.268235294118,0.196078431373)\", \"y1\": -15.6, \"y0\": -16.4, \"x0\": 9.6, \"x1\": 10.4, \"type\": \"rect\", \"line\": {\"width\": 0}}, {\"fillcolor\": \"rgb(0.946666666667,0.268235294118,0.196078431373)\", \"y1\": -15.6, \"y0\": -16.4, \"x0\": 10.6, \"x1\": 11.4, \"type\": \"rect\", \"line\": {\"width\": 0}}, {\"fillcolor\": \"rgb(0.946666666667,0.268235294118,0.196078431373)\", \"y1\": -15.6, \"y0\": -16.4, \"x0\": 11.6, \"x1\": 12.4, \"type\": \"rect\", \"line\": {\"width\": 0}}, {\"fillcolor\": \"rgb(0.946666666667,0.268235294118,0.196078431373)\", \"y1\": -15.6, \"y0\": -16.4, \"x0\": 12.6, \"x1\": 13.4, \"type\": \"rect\", \"line\": {\"width\": 0}}, {\"fillcolor\": \"rgb(0.946666666667,0.268235294118,0.196078431373)\", \"y1\": -15.6, \"y0\": -16.4, \"x0\": 13.6, \"x1\": 14.4, \"type\": \"rect\", \"line\": {\"width\": 0}}, {\"fillcolor\": \"rgb(0.946666666667,0.268235294118,0.196078431373)\", \"y1\": -15.6, \"y0\": -16.4, \"x0\": 14.6, \"x1\": 15.4, \"type\": \"rect\", \"line\": {\"width\": 0}}, {\"fillcolor\": \"rgb(0.946666666667,0.268235294118,0.196078431373)\", \"y1\": -15.6, \"y0\": -16.4, \"x0\": 15.6, \"x1\": 16.4, \"type\": \"rect\", \"line\": {\"width\": 0}}, {\"fillcolor\": \"rgb(0.290980392157,0.594509803922,0.789019607843)\", \"y1\": -15.6, \"y0\": -16.4, \"x0\": 16.6, \"x1\": 17.4, \"type\": \"rect\", \"line\": {\"width\": 0}}, {\"fillcolor\": \"rgb(0.946666666667,0.268235294118,0.196078431373)\", \"y1\": -15.6, \"y0\": -16.4, \"x0\": 17.6, \"x1\": 18.4, \"type\": \"rect\", \"line\": {\"width\": 0}}, {\"fillcolor\": \"rgb(0.290980392157,0.594509803922,0.789019607843)\", \"y1\": -15.6, \"y0\": -16.4, \"x0\": 18.6, \"x1\": 19.4, \"type\": \"rect\", \"line\": {\"width\": 0}}, {\"fillcolor\": \"rgb(0.946666666667,0.268235294118,0.196078431373)\", \"y1\": -16.6, \"y0\": -17.4, \"x0\": -0.4, \"x1\": 0.4, \"type\": \"rect\", \"line\": {\"width\": 0}}, {\"fillcolor\": \"rgb(0.946666666667,0.268235294118,0.196078431373)\", \"y1\": -16.6, \"y0\": -17.4, \"x0\": 0.6, \"x1\": 1.4, \"type\": \"rect\", \"line\": {\"width\": 0}}, {\"fillcolor\": \"rgb(0.290980392157,0.594509803922,0.789019607843)\", \"y1\": -16.6, \"y0\": -17.4, \"x0\": 1.6, \"x1\": 2.4, \"type\": \"rect\", \"line\": {\"width\": 0}}, {\"fillcolor\": \"rgb(0.290980392157,0.594509803922,0.789019607843)\", \"y1\": -16.6, \"y0\": -17.4, \"x0\": 2.6, \"x1\": 3.4, \"type\": \"rect\", \"line\": {\"width\": 0}}, {\"fillcolor\": \"rgb(0.946666666667,0.268235294118,0.196078431373)\", \"y1\": -16.6, \"y0\": -17.4, \"x0\": 3.6, \"x1\": 4.4, \"type\": \"rect\", \"line\": {\"width\": 0}}, {\"fillcolor\": \"rgb(0.946666666667,0.268235294118,0.196078431373)\", \"y1\": -16.6, \"y0\": -17.4, \"x0\": 4.6, \"x1\": 5.4, \"type\": \"rect\", \"line\": {\"width\": 0}}, {\"fillcolor\": \"rgb(0.946666666667,0.268235294118,0.196078431373)\", \"y1\": -16.6, \"y0\": -17.4, \"x0\": 5.6, \"x1\": 6.4, \"type\": \"rect\", \"line\": {\"width\": 0}}, {\"fillcolor\": \"rgb(0.946666666667,0.268235294118,0.196078431373)\", \"y1\": -16.6, \"y0\": -17.4, \"x0\": 6.6, \"x1\": 7.4, \"type\": \"rect\", \"line\": {\"width\": 0}}, {\"fillcolor\": \"rgb(0.946666666667,0.268235294118,0.196078431373)\", \"y1\": -16.6, \"y0\": -17.4, \"x0\": 7.6, \"x1\": 8.4, \"type\": \"rect\", \"line\": {\"width\": 0}}, {\"fillcolor\": \"rgb(0.946666666667,0.268235294118,0.196078431373)\", \"y1\": -16.6, \"y0\": -17.4, \"x0\": 8.6, \"x1\": 9.4, \"type\": \"rect\", \"line\": {\"width\": 0}}, {\"fillcolor\": \"rgb(0.946666666667,0.268235294118,0.196078431373)\", \"y1\": -16.6, \"y0\": -17.4, \"x0\": 9.6, \"x1\": 10.4, \"type\": \"rect\", \"line\": {\"width\": 0}}, {\"fillcolor\": \"rgb(0.946666666667,0.268235294118,0.196078431373)\", \"y1\": -16.6, \"y0\": -17.4, \"x0\": 10.6, \"x1\": 11.4, \"type\": \"rect\", \"line\": {\"width\": 0}}, {\"fillcolor\": \"rgb(0.946666666667,0.268235294118,0.196078431373)\", \"y1\": -16.6, \"y0\": -17.4, \"x0\": 11.6, \"x1\": 12.4, \"type\": \"rect\", \"line\": {\"width\": 0}}, {\"fillcolor\": \"rgb(0.946666666667,0.268235294118,0.196078431373)\", \"y1\": -16.6, \"y0\": -17.4, \"x0\": 12.6, \"x1\": 13.4, \"type\": \"rect\", \"line\": {\"width\": 0}}, {\"fillcolor\": \"rgb(0.946666666667,0.268235294118,0.196078431373)\", \"y1\": -16.6, \"y0\": -17.4, \"x0\": 13.6, \"x1\": 14.4, \"type\": \"rect\", \"line\": {\"width\": 0}}, {\"fillcolor\": \"rgb(0.946666666667,0.268235294118,0.196078431373)\", \"y1\": -16.6, \"y0\": -17.4, \"x0\": 14.6, \"x1\": 15.4, \"type\": \"rect\", \"line\": {\"width\": 0}}, {\"fillcolor\": \"rgb(0.946666666667,0.268235294118,0.196078431373)\", \"y1\": -16.6, \"y0\": -17.4, \"x0\": 15.6, \"x1\": 16.4, \"type\": \"rect\", \"line\": {\"width\": 0}}, {\"fillcolor\": \"rgb(0.946666666667,0.268235294118,0.196078431373)\", \"y1\": -16.6, \"y0\": -17.4, \"x0\": 16.6, \"x1\": 17.4, \"type\": \"rect\", \"line\": {\"width\": 0}}, {\"fillcolor\": \"rgb(0.290980392157,0.594509803922,0.789019607843)\", \"y1\": -16.6, \"y0\": -17.4, \"x0\": 17.6, \"x1\": 18.4, \"type\": \"rect\", \"line\": {\"width\": 0}}, {\"fillcolor\": \"rgb(0.946666666667,0.268235294118,0.196078431373)\", \"y1\": -16.6, \"y0\": -17.4, \"x0\": 18.6, \"x1\": 19.4, \"type\": \"rect\", \"line\": {\"width\": 0}}, {\"fillcolor\": \"rgb(0.946666666667,0.268235294118,0.196078431373)\", \"y1\": -17.6, \"y0\": -18.4, \"x0\": -0.4, \"x1\": 0.4, \"type\": \"rect\", \"line\": {\"width\": 0}}, {\"fillcolor\": \"rgb(0.4,0.4,0.4)\", \"y1\": -17.6, \"y0\": -18.4, \"x0\": 0.6, \"x1\": 1.4, \"type\": \"rect\", \"line\": {\"width\": 0}}, {\"fillcolor\": \"rgb(0.946666666667,0.268235294118,0.196078431373)\", \"y1\": -17.6, \"y0\": -18.4, \"x0\": 1.6, \"x1\": 2.4, \"type\": \"rect\", \"line\": {\"width\": 0}}, {\"fillcolor\": \"rgb(0.946666666667,0.268235294118,0.196078431373)\", \"y1\": -17.6, \"y0\": -18.4, \"x0\": 2.6, \"x1\": 3.4, \"type\": \"rect\", \"line\": {\"width\": 0}}, {\"fillcolor\": \"rgb(0.946666666667,0.268235294118,0.196078431373)\", \"y1\": -17.6, \"y0\": -18.4, \"x0\": 3.6, \"x1\": 4.4, \"type\": \"rect\", \"line\": {\"width\": 0}}, {\"fillcolor\": \"rgb(0.946666666667,0.268235294118,0.196078431373)\", \"y1\": -17.6, \"y0\": -18.4, \"x0\": 4.6, \"x1\": 5.4, \"type\": \"rect\", \"line\": {\"width\": 0}}, {\"fillcolor\": \"rgb(0.946666666667,0.268235294118,0.196078431373)\", \"y1\": -17.6, \"y0\": -18.4, \"x0\": 5.6, \"x1\": 6.4, \"type\": \"rect\", \"line\": {\"width\": 0}}, {\"fillcolor\": \"rgb(0.946666666667,0.268235294118,0.196078431373)\", \"y1\": -17.6, \"y0\": -18.4, \"x0\": 6.6, \"x1\": 7.4, \"type\": \"rect\", \"line\": {\"width\": 0}}, {\"fillcolor\": \"rgb(0.946666666667,0.268235294118,0.196078431373)\", \"y1\": -17.6, \"y0\": -18.4, \"x0\": 7.6, \"x1\": 8.4, \"type\": \"rect\", \"line\": {\"width\": 0}}, {\"fillcolor\": \"rgb(0.946666666667,0.268235294118,0.196078431373)\", \"y1\": -17.6, \"y0\": -18.4, \"x0\": 8.6, \"x1\": 9.4, \"type\": \"rect\", \"line\": {\"width\": 0}}, {\"fillcolor\": \"rgb(0.946666666667,0.268235294118,0.196078431373)\", \"y1\": -17.6, \"y0\": -18.4, \"x0\": 9.6, \"x1\": 10.4, \"type\": \"rect\", \"line\": {\"width\": 0}}, {\"fillcolor\": \"rgb(0.946666666667,0.268235294118,0.196078431373)\", \"y1\": -17.6, \"y0\": -18.4, \"x0\": 10.6, \"x1\": 11.4, \"type\": \"rect\", \"line\": {\"width\": 0}}, {\"fillcolor\": \"rgb(0.290980392157,0.594509803922,0.789019607843)\", \"y1\": -17.6, \"y0\": -18.4, \"x0\": 11.6, \"x1\": 12.4, \"type\": \"rect\", \"line\": {\"width\": 0}}, {\"fillcolor\": \"rgb(0.946666666667,0.268235294118,0.196078431373)\", \"y1\": -17.6, \"y0\": -18.4, \"x0\": 12.6, \"x1\": 13.4, \"type\": \"rect\", \"line\": {\"width\": 0}}, {\"fillcolor\": \"rgb(0.946666666667,0.268235294118,0.196078431373)\", \"y1\": -17.6, \"y0\": -18.4, \"x0\": 13.6, \"x1\": 14.4, \"type\": \"rect\", \"line\": {\"width\": 0}}, {\"fillcolor\": \"rgb(0.946666666667,0.268235294118,0.196078431373)\", \"y1\": -17.6, \"y0\": -18.4, \"x0\": 14.6, \"x1\": 15.4, \"type\": \"rect\", \"line\": {\"width\": 0}}, {\"fillcolor\": \"rgb(0.946666666667,0.268235294118,0.196078431373)\", \"y1\": -17.6, \"y0\": -18.4, \"x0\": 15.6, \"x1\": 16.4, \"type\": \"rect\", \"line\": {\"width\": 0}}, {\"fillcolor\": \"rgb(0.946666666667,0.268235294118,0.196078431373)\", \"y1\": -17.6, \"y0\": -18.4, \"x0\": 16.6, \"x1\": 17.4, \"type\": \"rect\", \"line\": {\"width\": 0}}, {\"fillcolor\": \"rgb(0.946666666667,0.268235294118,0.196078431373)\", \"y1\": -17.6, \"y0\": -18.4, \"x0\": 17.6, \"x1\": 18.4, \"type\": \"rect\", \"line\": {\"width\": 0}}, {\"fillcolor\": \"rgb(0.946666666667,0.268235294118,0.196078431373)\", \"y1\": -17.6, \"y0\": -18.4, \"x0\": 18.6, \"x1\": 19.4, \"type\": \"rect\", \"line\": {\"width\": 0}}, {\"fillcolor\": \"rgb(0.946666666667,0.268235294118,0.196078431373)\", \"y1\": -18.6, \"y0\": -19.4, \"x0\": -0.4, \"x1\": 0.4, \"type\": \"rect\", \"line\": {\"width\": 0}}, {\"fillcolor\": \"rgb(0.946666666667,0.268235294118,0.196078431373)\", \"y1\": -18.6, \"y0\": -19.4, \"x0\": 0.6, \"x1\": 1.4, \"type\": \"rect\", \"line\": {\"width\": 0}}, {\"fillcolor\": \"rgb(0.946666666667,0.268235294118,0.196078431373)\", \"y1\": -18.6, \"y0\": -19.4, \"x0\": 1.6, \"x1\": 2.4, \"type\": \"rect\", \"line\": {\"width\": 0}}, {\"fillcolor\": \"rgb(0.946666666667,0.268235294118,0.196078431373)\", \"y1\": -18.6, \"y0\": -19.4, \"x0\": 2.6, \"x1\": 3.4, \"type\": \"rect\", \"line\": {\"width\": 0}}, {\"fillcolor\": \"rgb(0.946666666667,0.268235294118,0.196078431373)\", \"y1\": -18.6, \"y0\": -19.4, \"x0\": 3.6, \"x1\": 4.4, \"type\": \"rect\", \"line\": {\"width\": 0}}, {\"fillcolor\": \"rgb(0.946666666667,0.268235294118,0.196078431373)\", \"y1\": -18.6, \"y0\": -19.4, \"x0\": 4.6, \"x1\": 5.4, \"type\": \"rect\", \"line\": {\"width\": 0}}, {\"fillcolor\": \"rgb(0.946666666667,0.268235294118,0.196078431373)\", \"y1\": -18.6, \"y0\": -19.4, \"x0\": 5.6, \"x1\": 6.4, \"type\": \"rect\", \"line\": {\"width\": 0}}, {\"fillcolor\": \"rgb(0.946666666667,0.268235294118,0.196078431373)\", \"y1\": -18.6, \"y0\": -19.4, \"x0\": 6.6, \"x1\": 7.4, \"type\": \"rect\", \"line\": {\"width\": 0}}, {\"fillcolor\": \"rgb(0.946666666667,0.268235294118,0.196078431373)\", \"y1\": -18.6, \"y0\": -19.4, \"x0\": 7.6, \"x1\": 8.4, \"type\": \"rect\", \"line\": {\"width\": 0}}, {\"fillcolor\": \"rgb(0.946666666667,0.268235294118,0.196078431373)\", \"y1\": -18.6, \"y0\": -19.4, \"x0\": 8.6, \"x1\": 9.4, \"type\": \"rect\", \"line\": {\"width\": 0}}, {\"fillcolor\": \"rgb(0.946666666667,0.268235294118,0.196078431373)\", \"y1\": -18.6, \"y0\": -19.4, \"x0\": 9.6, \"x1\": 10.4, \"type\": \"rect\", \"line\": {\"width\": 0}}, {\"fillcolor\": \"rgb(0.946666666667,0.268235294118,0.196078431373)\", \"y1\": -18.6, \"y0\": -19.4, \"x0\": 10.6, \"x1\": 11.4, \"type\": \"rect\", \"line\": {\"width\": 0}}, {\"fillcolor\": \"rgb(0.946666666667,0.268235294118,0.196078431373)\", \"y1\": -18.6, \"y0\": -19.4, \"x0\": 11.6, \"x1\": 12.4, \"type\": \"rect\", \"line\": {\"width\": 0}}, {\"fillcolor\": \"rgb(0.946666666667,0.268235294118,0.196078431373)\", \"y1\": -18.6, \"y0\": -19.4, \"x0\": 12.6, \"x1\": 13.4, \"type\": \"rect\", \"line\": {\"width\": 0}}, {\"fillcolor\": \"rgb(0.946666666667,0.268235294118,0.196078431373)\", \"y1\": -18.6, \"y0\": -19.4, \"x0\": 13.6, \"x1\": 14.4, \"type\": \"rect\", \"line\": {\"width\": 0}}, {\"fillcolor\": \"rgb(0.946666666667,0.268235294118,0.196078431373)\", \"y1\": -18.6, \"y0\": -19.4, \"x0\": 14.6, \"x1\": 15.4, \"type\": \"rect\", \"line\": {\"width\": 0}}, {\"fillcolor\": \"rgb(0.946666666667,0.268235294118,0.196078431373)\", \"y1\": -18.6, \"y0\": -19.4, \"x0\": 15.6, \"x1\": 16.4, \"type\": \"rect\", \"line\": {\"width\": 0}}, {\"fillcolor\": \"rgb(0.946666666667,0.268235294118,0.196078431373)\", \"y1\": -18.6, \"y0\": -19.4, \"x0\": 16.6, \"x1\": 17.4, \"type\": \"rect\", \"line\": {\"width\": 0}}, {\"fillcolor\": \"rgb(0.946666666667,0.268235294118,0.196078431373)\", \"y1\": -18.6, \"y0\": -19.4, \"x0\": 17.6, \"x1\": 18.4, \"type\": \"rect\", \"line\": {\"width\": 0}}, {\"fillcolor\": \"rgb(0.946666666667,0.268235294118,0.196078431373)\", \"y1\": -18.6, \"y0\": -19.4, \"x0\": 18.6, \"x1\": 19.4, \"type\": \"rect\", \"line\": {\"width\": 0}}, {\"fillcolor\": \"rgb(0.946666666667,0.268235294118,0.196078431373)\", \"y1\": -19.6, \"y0\": -20.4, \"x0\": -0.4, \"x1\": 0.4, \"type\": \"rect\", \"line\": {\"width\": 0}}, {\"fillcolor\": \"rgb(0.290980392157,0.594509803922,0.789019607843)\", \"y1\": -19.6, \"y0\": -20.4, \"x0\": 0.6, \"x1\": 1.4, \"type\": \"rect\", \"line\": {\"width\": 0}}, {\"fillcolor\": \"rgb(0.946666666667,0.268235294118,0.196078431373)\", \"y1\": -19.6, \"y0\": -20.4, \"x0\": 1.6, \"x1\": 2.4, \"type\": \"rect\", \"line\": {\"width\": 0}}, {\"fillcolor\": \"rgb(0.946666666667,0.268235294118,0.196078431373)\", \"y1\": -19.6, \"y0\": -20.4, \"x0\": 2.6, \"x1\": 3.4, \"type\": \"rect\", \"line\": {\"width\": 0}}, {\"fillcolor\": \"rgb(0.946666666667,0.268235294118,0.196078431373)\", \"y1\": -19.6, \"y0\": -20.4, \"x0\": 3.6, \"x1\": 4.4, \"type\": \"rect\", \"line\": {\"width\": 0}}, {\"fillcolor\": \"rgb(0.946666666667,0.268235294118,0.196078431373)\", \"y1\": -19.6, \"y0\": -20.4, \"x0\": 4.6, \"x1\": 5.4, \"type\": \"rect\", \"line\": {\"width\": 0}}, {\"fillcolor\": \"rgb(0.946666666667,0.268235294118,0.196078431373)\", \"y1\": -19.6, \"y0\": -20.4, \"x0\": 5.6, \"x1\": 6.4, \"type\": \"rect\", \"line\": {\"width\": 0}}, {\"fillcolor\": \"rgb(0.946666666667,0.268235294118,0.196078431373)\", \"y1\": -19.6, \"y0\": -20.4, \"x0\": 6.6, \"x1\": 7.4, \"type\": \"rect\", \"line\": {\"width\": 0}}, {\"fillcolor\": \"rgb(0.946666666667,0.268235294118,0.196078431373)\", \"y1\": -19.6, \"y0\": -20.4, \"x0\": 7.6, \"x1\": 8.4, \"type\": \"rect\", \"line\": {\"width\": 0}}, {\"fillcolor\": \"rgb(0.290980392157,0.594509803922,0.789019607843)\", \"y1\": -19.6, \"y0\": -20.4, \"x0\": 8.6, \"x1\": 9.4, \"type\": \"rect\", \"line\": {\"width\": 0}}, {\"fillcolor\": \"rgb(0.946666666667,0.268235294118,0.196078431373)\", \"y1\": -19.6, \"y0\": -20.4, \"x0\": 9.6, \"x1\": 10.4, \"type\": \"rect\", \"line\": {\"width\": 0}}, {\"fillcolor\": \"rgb(0.946666666667,0.268235294118,0.196078431373)\", \"y1\": -19.6, \"y0\": -20.4, \"x0\": 10.6, \"x1\": 11.4, \"type\": \"rect\", \"line\": {\"width\": 0}}, {\"fillcolor\": \"rgb(0.946666666667,0.268235294118,0.196078431373)\", \"y1\": -19.6, \"y0\": -20.4, \"x0\": 11.6, \"x1\": 12.4, \"type\": \"rect\", \"line\": {\"width\": 0}}, {\"fillcolor\": \"rgb(0.946666666667,0.268235294118,0.196078431373)\", \"y1\": -19.6, \"y0\": -20.4, \"x0\": 12.6, \"x1\": 13.4, \"type\": \"rect\", \"line\": {\"width\": 0}}, {\"fillcolor\": \"rgb(0.946666666667,0.268235294118,0.196078431373)\", \"y1\": -19.6, \"y0\": -20.4, \"x0\": 13.6, \"x1\": 14.4, \"type\": \"rect\", \"line\": {\"width\": 0}}, {\"fillcolor\": \"rgb(0.946666666667,0.268235294118,0.196078431373)\", \"y1\": -19.6, \"y0\": -20.4, \"x0\": 14.6, \"x1\": 15.4, \"type\": \"rect\", \"line\": {\"width\": 0}}, {\"fillcolor\": \"rgb(0.946666666667,0.268235294118,0.196078431373)\", \"y1\": -19.6, \"y0\": -20.4, \"x0\": 15.6, \"x1\": 16.4, \"type\": \"rect\", \"line\": {\"width\": 0}}, {\"fillcolor\": \"rgb(0.946666666667,0.268235294118,0.196078431373)\", \"y1\": -19.6, \"y0\": -20.4, \"x0\": 16.6, \"x1\": 17.4, \"type\": \"rect\", \"line\": {\"width\": 0}}, {\"fillcolor\": \"rgb(0.290980392157,0.594509803922,0.789019607843)\", \"y1\": -19.6, \"y0\": -20.4, \"x0\": 17.6, \"x1\": 18.4, \"type\": \"rect\", \"line\": {\"width\": 0}}, {\"fillcolor\": \"rgb(0.946666666667,0.268235294118,0.196078431373)\", \"y1\": -19.6, \"y0\": -20.4, \"x0\": 18.6, \"x1\": 19.4, \"type\": \"rect\", \"line\": {\"width\": 0}}, {\"fillcolor\": \"rgb(0.946666666667,0.268235294118,0.196078431373)\", \"y1\": -20.6, \"y0\": -21.4, \"x0\": -0.4, \"x1\": 0.4, \"type\": \"rect\", \"line\": {\"width\": 0}}, {\"fillcolor\": \"rgb(0.946666666667,0.268235294118,0.196078431373)\", \"y1\": -20.6, \"y0\": -21.4, \"x0\": 0.6, \"x1\": 1.4, \"type\": \"rect\", \"line\": {\"width\": 0}}, {\"fillcolor\": \"rgb(0.946666666667,0.268235294118,0.196078431373)\", \"y1\": -20.6, \"y0\": -21.4, \"x0\": 1.6, \"x1\": 2.4, \"type\": \"rect\", \"line\": {\"width\": 0}}, {\"fillcolor\": \"rgb(0.946666666667,0.268235294118,0.196078431373)\", \"y1\": -20.6, \"y0\": -21.4, \"x0\": 2.6, \"x1\": 3.4, \"type\": \"rect\", \"line\": {\"width\": 0}}, {\"fillcolor\": \"rgb(0.946666666667,0.268235294118,0.196078431373)\", \"y1\": -20.6, \"y0\": -21.4, \"x0\": 3.6, \"x1\": 4.4, \"type\": \"rect\", \"line\": {\"width\": 0}}, {\"fillcolor\": \"rgb(0.946666666667,0.268235294118,0.196078431373)\", \"y1\": -20.6, \"y0\": -21.4, \"x0\": 4.6, \"x1\": 5.4, \"type\": \"rect\", \"line\": {\"width\": 0}}, {\"fillcolor\": \"rgb(0.946666666667,0.268235294118,0.196078431373)\", \"y1\": -20.6, \"y0\": -21.4, \"x0\": 5.6, \"x1\": 6.4, \"type\": \"rect\", \"line\": {\"width\": 0}}, {\"fillcolor\": \"rgb(0.946666666667,0.268235294118,0.196078431373)\", \"y1\": -20.6, \"y0\": -21.4, \"x0\": 6.6, \"x1\": 7.4, \"type\": \"rect\", \"line\": {\"width\": 0}}, {\"fillcolor\": \"rgb(0.946666666667,0.268235294118,0.196078431373)\", \"y1\": -20.6, \"y0\": -21.4, \"x0\": 7.6, \"x1\": 8.4, \"type\": \"rect\", \"line\": {\"width\": 0}}, {\"fillcolor\": \"rgb(0.946666666667,0.268235294118,0.196078431373)\", \"y1\": -20.6, \"y0\": -21.4, \"x0\": 8.6, \"x1\": 9.4, \"type\": \"rect\", \"line\": {\"width\": 0}}, {\"fillcolor\": \"rgb(0.946666666667,0.268235294118,0.196078431373)\", \"y1\": -20.6, \"y0\": -21.4, \"x0\": 9.6, \"x1\": 10.4, \"type\": \"rect\", \"line\": {\"width\": 0}}, {\"fillcolor\": \"rgb(0.946666666667,0.268235294118,0.196078431373)\", \"y1\": -20.6, \"y0\": -21.4, \"x0\": 10.6, \"x1\": 11.4, \"type\": \"rect\", \"line\": {\"width\": 0}}, {\"fillcolor\": \"rgb(0.946666666667,0.268235294118,0.196078431373)\", \"y1\": -20.6, \"y0\": -21.4, \"x0\": 11.6, \"x1\": 12.4, \"type\": \"rect\", \"line\": {\"width\": 0}}, {\"fillcolor\": \"rgb(0.946666666667,0.268235294118,0.196078431373)\", \"y1\": -20.6, \"y0\": -21.4, \"x0\": 12.6, \"x1\": 13.4, \"type\": \"rect\", \"line\": {\"width\": 0}}, {\"fillcolor\": \"rgb(0.946666666667,0.268235294118,0.196078431373)\", \"y1\": -20.6, \"y0\": -21.4, \"x0\": 13.6, \"x1\": 14.4, \"type\": \"rect\", \"line\": {\"width\": 0}}, {\"fillcolor\": \"rgb(0.946666666667,0.268235294118,0.196078431373)\", \"y1\": -20.6, \"y0\": -21.4, \"x0\": 14.6, \"x1\": 15.4, \"type\": \"rect\", \"line\": {\"width\": 0}}, {\"fillcolor\": \"rgb(0.946666666667,0.268235294118,0.196078431373)\", \"y1\": -20.6, \"y0\": -21.4, \"x0\": 15.6, \"x1\": 16.4, \"type\": \"rect\", \"line\": {\"width\": 0}}, {\"fillcolor\": \"rgb(0.946666666667,0.268235294118,0.196078431373)\", \"y1\": -20.6, \"y0\": -21.4, \"x0\": 16.6, \"x1\": 17.4, \"type\": \"rect\", \"line\": {\"width\": 0}}, {\"fillcolor\": \"rgb(0.946666666667,0.268235294118,0.196078431373)\", \"y1\": -20.6, \"y0\": -21.4, \"x0\": 17.6, \"x1\": 18.4, \"type\": \"rect\", \"line\": {\"width\": 0}}, {\"fillcolor\": \"rgb(0.290980392157,0.594509803922,0.789019607843)\", \"y1\": -20.6, \"y0\": -21.4, \"x0\": 18.6, \"x1\": 19.4, \"type\": \"rect\", \"line\": {\"width\": 0}}, {\"fillcolor\": \"rgb(0.946666666667,0.268235294118,0.196078431373)\", \"y1\": -21.6, \"y0\": -22.4, \"x0\": -0.4, \"x1\": 0.4, \"type\": \"rect\", \"line\": {\"width\": 0}}, {\"fillcolor\": \"rgb(0.946666666667,0.268235294118,0.196078431373)\", \"y1\": -21.6, \"y0\": -22.4, \"x0\": 0.6, \"x1\": 1.4, \"type\": \"rect\", \"line\": {\"width\": 0}}, {\"fillcolor\": \"rgb(0.946666666667,0.268235294118,0.196078431373)\", \"y1\": -21.6, \"y0\": -22.4, \"x0\": 1.6, \"x1\": 2.4, \"type\": \"rect\", \"line\": {\"width\": 0}}, {\"fillcolor\": \"rgb(0.946666666667,0.268235294118,0.196078431373)\", \"y1\": -21.6, \"y0\": -22.4, \"x0\": 2.6, \"x1\": 3.4, \"type\": \"rect\", \"line\": {\"width\": 0}}, {\"fillcolor\": \"rgb(0.946666666667,0.268235294118,0.196078431373)\", \"y1\": -21.6, \"y0\": -22.4, \"x0\": 3.6, \"x1\": 4.4, \"type\": \"rect\", \"line\": {\"width\": 0}}, {\"fillcolor\": \"rgb(0.946666666667,0.268235294118,0.196078431373)\", \"y1\": -21.6, \"y0\": -22.4, \"x0\": 4.6, \"x1\": 5.4, \"type\": \"rect\", \"line\": {\"width\": 0}}, {\"fillcolor\": \"rgb(0.946666666667,0.268235294118,0.196078431373)\", \"y1\": -21.6, \"y0\": -22.4, \"x0\": 5.6, \"x1\": 6.4, \"type\": \"rect\", \"line\": {\"width\": 0}}, {\"fillcolor\": \"rgb(0.946666666667,0.268235294118,0.196078431373)\", \"y1\": -21.6, \"y0\": -22.4, \"x0\": 6.6, \"x1\": 7.4, \"type\": \"rect\", \"line\": {\"width\": 0}}, {\"fillcolor\": \"rgb(0.946666666667,0.268235294118,0.196078431373)\", \"y1\": -21.6, \"y0\": -22.4, \"x0\": 7.6, \"x1\": 8.4, \"type\": \"rect\", \"line\": {\"width\": 0}}, {\"fillcolor\": \"rgb(0.290980392157,0.594509803922,0.789019607843)\", \"y1\": -21.6, \"y0\": -22.4, \"x0\": 8.6, \"x1\": 9.4, \"type\": \"rect\", \"line\": {\"width\": 0}}, {\"fillcolor\": \"rgb(0.946666666667,0.268235294118,0.196078431373)\", \"y1\": -21.6, \"y0\": -22.4, \"x0\": 9.6, \"x1\": 10.4, \"type\": \"rect\", \"line\": {\"width\": 0}}, {\"fillcolor\": \"rgb(0.290980392157,0.594509803922,0.789019607843)\", \"y1\": -21.6, \"y0\": -22.4, \"x0\": 10.6, \"x1\": 11.4, \"type\": \"rect\", \"line\": {\"width\": 0}}, {\"fillcolor\": \"rgb(0.946666666667,0.268235294118,0.196078431373)\", \"y1\": -21.6, \"y0\": -22.4, \"x0\": 11.6, \"x1\": 12.4, \"type\": \"rect\", \"line\": {\"width\": 0}}, {\"fillcolor\": \"rgb(0.946666666667,0.268235294118,0.196078431373)\", \"y1\": -21.6, \"y0\": -22.4, \"x0\": 12.6, \"x1\": 13.4, \"type\": \"rect\", \"line\": {\"width\": 0}}, {\"fillcolor\": \"rgb(0.946666666667,0.268235294118,0.196078431373)\", \"y1\": -21.6, \"y0\": -22.4, \"x0\": 13.6, \"x1\": 14.4, \"type\": \"rect\", \"line\": {\"width\": 0}}, {\"fillcolor\": \"rgb(0.946666666667,0.268235294118,0.196078431373)\", \"y1\": -21.6, \"y0\": -22.4, \"x0\": 14.6, \"x1\": 15.4, \"type\": \"rect\", \"line\": {\"width\": 0}}, {\"fillcolor\": \"rgb(0.946666666667,0.268235294118,0.196078431373)\", \"y1\": -21.6, \"y0\": -22.4, \"x0\": 15.6, \"x1\": 16.4, \"type\": \"rect\", \"line\": {\"width\": 0}}, {\"fillcolor\": \"rgb(0.946666666667,0.268235294118,0.196078431373)\", \"y1\": -21.6, \"y0\": -22.4, \"x0\": 16.6, \"x1\": 17.4, \"type\": \"rect\", \"line\": {\"width\": 0}}, {\"fillcolor\": \"rgb(0.946666666667,0.268235294118,0.196078431373)\", \"y1\": -21.6, \"y0\": -22.4, \"x0\": 17.6, \"x1\": 18.4, \"type\": \"rect\", \"line\": {\"width\": 0}}, {\"fillcolor\": \"rgb(0.946666666667,0.268235294118,0.196078431373)\", \"y1\": -21.6, \"y0\": -22.4, \"x0\": 18.6, \"x1\": 19.4, \"type\": \"rect\", \"line\": {\"width\": 0}}, {\"fillcolor\": \"rgb(0.946666666667,0.268235294118,0.196078431373)\", \"y1\": -22.6, \"y0\": -23.4, \"x0\": -0.4, \"x1\": 0.4, \"type\": \"rect\", \"line\": {\"width\": 0}}, {\"fillcolor\": \"rgb(0.946666666667,0.268235294118,0.196078431373)\", \"y1\": -22.6, \"y0\": -23.4, \"x0\": 0.6, \"x1\": 1.4, \"type\": \"rect\", \"line\": {\"width\": 0}}, {\"fillcolor\": \"rgb(0.946666666667,0.268235294118,0.196078431373)\", \"y1\": -22.6, \"y0\": -23.4, \"x0\": 1.6, \"x1\": 2.4, \"type\": \"rect\", \"line\": {\"width\": 0}}, {\"fillcolor\": \"rgb(0.946666666667,0.268235294118,0.196078431373)\", \"y1\": -22.6, \"y0\": -23.4, \"x0\": 2.6, \"x1\": 3.4, \"type\": \"rect\", \"line\": {\"width\": 0}}, {\"fillcolor\": \"rgb(0.946666666667,0.268235294118,0.196078431373)\", \"y1\": -22.6, \"y0\": -23.4, \"x0\": 3.6, \"x1\": 4.4, \"type\": \"rect\", \"line\": {\"width\": 0}}, {\"fillcolor\": \"rgb(0.946666666667,0.268235294118,0.196078431373)\", \"y1\": -22.6, \"y0\": -23.4, \"x0\": 4.6, \"x1\": 5.4, \"type\": \"rect\", \"line\": {\"width\": 0}}, {\"fillcolor\": \"rgb(0.946666666667,0.268235294118,0.196078431373)\", \"y1\": -22.6, \"y0\": -23.4, \"x0\": 5.6, \"x1\": 6.4, \"type\": \"rect\", \"line\": {\"width\": 0}}, {\"fillcolor\": \"rgb(0.946666666667,0.268235294118,0.196078431373)\", \"y1\": -22.6, \"y0\": -23.4, \"x0\": 6.6, \"x1\": 7.4, \"type\": \"rect\", \"line\": {\"width\": 0}}, {\"fillcolor\": \"rgb(0.290980392157,0.594509803922,0.789019607843)\", \"y1\": -22.6, \"y0\": -23.4, \"x0\": 7.6, \"x1\": 8.4, \"type\": \"rect\", \"line\": {\"width\": 0}}, {\"fillcolor\": \"rgb(0.946666666667,0.268235294118,0.196078431373)\", \"y1\": -22.6, \"y0\": -23.4, \"x0\": 8.6, \"x1\": 9.4, \"type\": \"rect\", \"line\": {\"width\": 0}}, {\"fillcolor\": \"rgb(0.946666666667,0.268235294118,0.196078431373)\", \"y1\": -22.6, \"y0\": -23.4, \"x0\": 9.6, \"x1\": 10.4, \"type\": \"rect\", \"line\": {\"width\": 0}}, {\"fillcolor\": \"rgb(0.946666666667,0.268235294118,0.196078431373)\", \"y1\": -22.6, \"y0\": -23.4, \"x0\": 10.6, \"x1\": 11.4, \"type\": \"rect\", \"line\": {\"width\": 0}}, {\"fillcolor\": \"rgb(0.946666666667,0.268235294118,0.196078431373)\", \"y1\": -22.6, \"y0\": -23.4, \"x0\": 11.6, \"x1\": 12.4, \"type\": \"rect\", \"line\": {\"width\": 0}}, {\"fillcolor\": \"rgb(255,165,0)\", \"y1\": -22.6, \"y0\": -23.4, \"x0\": 12.6, \"x1\": 13.4, \"type\": \"rect\", \"line\": {\"width\": 0}}, {\"fillcolor\": \"rgb(0.946666666667,0.268235294118,0.196078431373)\", \"y1\": -22.6, \"y0\": -23.4, \"x0\": 13.6, \"x1\": 14.4, \"type\": \"rect\", \"line\": {\"width\": 0}}, {\"fillcolor\": \"rgb(0.946666666667,0.268235294118,0.196078431373)\", \"y1\": -22.6, \"y0\": -23.4, \"x0\": 14.6, \"x1\": 15.4, \"type\": \"rect\", \"line\": {\"width\": 0}}, {\"fillcolor\": \"rgb(0.946666666667,0.268235294118,0.196078431373)\", \"y1\": -22.6, \"y0\": -23.4, \"x0\": 15.6, \"x1\": 16.4, \"type\": \"rect\", \"line\": {\"width\": 0}}, {\"fillcolor\": \"rgb(0.946666666667,0.268235294118,0.196078431373)\", \"y1\": -22.6, \"y0\": -23.4, \"x0\": 16.6, \"x1\": 17.4, \"type\": \"rect\", \"line\": {\"width\": 0}}, {\"fillcolor\": \"rgb(0.946666666667,0.268235294118,0.196078431373)\", \"y1\": -22.6, \"y0\": -23.4, \"x0\": 17.6, \"x1\": 18.4, \"type\": \"rect\", \"line\": {\"width\": 0}}, {\"fillcolor\": \"rgb(0.946666666667,0.268235294118,0.196078431373)\", \"y1\": -22.6, \"y0\": -23.4, \"x0\": 18.6, \"x1\": 19.4, \"type\": \"rect\", \"line\": {\"width\": 0}}, {\"fillcolor\": \"rgb(0.946666666667,0.268235294118,0.196078431373)\", \"y1\": -23.6, \"y0\": -24.4, \"x0\": -0.4, \"x1\": 0.4, \"type\": \"rect\", \"line\": {\"width\": 0}}, {\"fillcolor\": \"rgb(0.946666666667,0.268235294118,0.196078431373)\", \"y1\": -23.6, \"y0\": -24.4, \"x0\": 0.6, \"x1\": 1.4, \"type\": \"rect\", \"line\": {\"width\": 0}}, {\"fillcolor\": \"rgb(0.946666666667,0.268235294118,0.196078431373)\", \"y1\": -23.6, \"y0\": -24.4, \"x0\": 1.6, \"x1\": 2.4, \"type\": \"rect\", \"line\": {\"width\": 0}}, {\"fillcolor\": \"rgb(0.946666666667,0.268235294118,0.196078431373)\", \"y1\": -23.6, \"y0\": -24.4, \"x0\": 2.6, \"x1\": 3.4, \"type\": \"rect\", \"line\": {\"width\": 0}}, {\"fillcolor\": \"rgb(0.946666666667,0.268235294118,0.196078431373)\", \"y1\": -23.6, \"y0\": -24.4, \"x0\": 3.6, \"x1\": 4.4, \"type\": \"rect\", \"line\": {\"width\": 0}}, {\"fillcolor\": \"rgb(0.946666666667,0.268235294118,0.196078431373)\", \"y1\": -23.6, \"y0\": -24.4, \"x0\": 4.6, \"x1\": 5.4, \"type\": \"rect\", \"line\": {\"width\": 0}}, {\"fillcolor\": \"rgb(0.946666666667,0.268235294118,0.196078431373)\", \"y1\": -23.6, \"y0\": -24.4, \"x0\": 5.6, \"x1\": 6.4, \"type\": \"rect\", \"line\": {\"width\": 0}}, {\"fillcolor\": \"rgb(0.946666666667,0.268235294118,0.196078431373)\", \"y1\": -23.6, \"y0\": -24.4, \"x0\": 6.6, \"x1\": 7.4, \"type\": \"rect\", \"line\": {\"width\": 0}}, {\"fillcolor\": \"rgb(0.946666666667,0.268235294118,0.196078431373)\", \"y1\": -23.6, \"y0\": -24.4, \"x0\": 7.6, \"x1\": 8.4, \"type\": \"rect\", \"line\": {\"width\": 0}}, {\"fillcolor\": \"rgb(0.946666666667,0.268235294118,0.196078431373)\", \"y1\": -23.6, \"y0\": -24.4, \"x0\": 8.6, \"x1\": 9.4, \"type\": \"rect\", \"line\": {\"width\": 0}}, {\"fillcolor\": \"rgb(0.290980392157,0.594509803922,0.789019607843)\", \"y1\": -23.6, \"y0\": -24.4, \"x0\": 9.6, \"x1\": 10.4, \"type\": \"rect\", \"line\": {\"width\": 0}}, {\"fillcolor\": \"rgb(0.946666666667,0.268235294118,0.196078431373)\", \"y1\": -23.6, \"y0\": -24.4, \"x0\": 10.6, \"x1\": 11.4, \"type\": \"rect\", \"line\": {\"width\": 0}}, {\"fillcolor\": \"rgb(0.946666666667,0.268235294118,0.196078431373)\", \"y1\": -23.6, \"y0\": -24.4, \"x0\": 11.6, \"x1\": 12.4, \"type\": \"rect\", \"line\": {\"width\": 0}}, {\"fillcolor\": \"rgb(0.946666666667,0.268235294118,0.196078431373)\", \"y1\": -23.6, \"y0\": -24.4, \"x0\": 12.6, \"x1\": 13.4, \"type\": \"rect\", \"line\": {\"width\": 0}}, {\"fillcolor\": \"rgb(0.946666666667,0.268235294118,0.196078431373)\", \"y1\": -23.6, \"y0\": -24.4, \"x0\": 13.6, \"x1\": 14.4, \"type\": \"rect\", \"line\": {\"width\": 0}}, {\"fillcolor\": \"rgb(0.946666666667,0.268235294118,0.196078431373)\", \"y1\": -23.6, \"y0\": -24.4, \"x0\": 14.6, \"x1\": 15.4, \"type\": \"rect\", \"line\": {\"width\": 0}}, {\"fillcolor\": \"rgb(0.946666666667,0.268235294118,0.196078431373)\", \"y1\": -23.6, \"y0\": -24.4, \"x0\": 15.6, \"x1\": 16.4, \"type\": \"rect\", \"line\": {\"width\": 0}}, {\"fillcolor\": \"rgb(0.290980392157,0.594509803922,0.789019607843)\", \"y1\": -23.6, \"y0\": -24.4, \"x0\": 16.6, \"x1\": 17.4, \"type\": \"rect\", \"line\": {\"width\": 0}}, {\"fillcolor\": \"rgb(0.946666666667,0.268235294118,0.196078431373)\", \"y1\": -23.6, \"y0\": -24.4, \"x0\": 17.6, \"x1\": 18.4, \"type\": \"rect\", \"line\": {\"width\": 0}}, {\"fillcolor\": \"rgb(0.946666666667,0.268235294118,0.196078431373)\", \"y1\": -23.6, \"y0\": -24.4, \"x0\": 18.6, \"x1\": 19.4, \"type\": \"rect\", \"line\": {\"width\": 0}}, {\"fillcolor\": \"rgb(0.290980392157,0.594509803922,0.789019607843)\", \"y1\": -24.6, \"y0\": -25.4, \"x0\": -0.4, \"x1\": 0.4, \"type\": \"rect\", \"line\": {\"width\": 0}}, {\"fillcolor\": \"rgb(0.946666666667,0.268235294118,0.196078431373)\", \"y1\": -24.6, \"y0\": -25.4, \"x0\": 0.6, \"x1\": 1.4, \"type\": \"rect\", \"line\": {\"width\": 0}}, {\"fillcolor\": \"rgb(0.946666666667,0.268235294118,0.196078431373)\", \"y1\": -24.6, \"y0\": -25.4, \"x0\": 1.6, \"x1\": 2.4, \"type\": \"rect\", \"line\": {\"width\": 0}}, {\"fillcolor\": \"rgb(0.946666666667,0.268235294118,0.196078431373)\", \"y1\": -24.6, \"y0\": -25.4, \"x0\": 2.6, \"x1\": 3.4, \"type\": \"rect\", \"line\": {\"width\": 0}}, {\"fillcolor\": \"rgb(0.946666666667,0.268235294118,0.196078431373)\", \"y1\": -24.6, \"y0\": -25.4, \"x0\": 3.6, \"x1\": 4.4, \"type\": \"rect\", \"line\": {\"width\": 0}}, {\"fillcolor\": \"rgb(0.946666666667,0.268235294118,0.196078431373)\", \"y1\": -24.6, \"y0\": -25.4, \"x0\": 4.6, \"x1\": 5.4, \"type\": \"rect\", \"line\": {\"width\": 0}}, {\"fillcolor\": \"rgb(0.946666666667,0.268235294118,0.196078431373)\", \"y1\": -24.6, \"y0\": -25.4, \"x0\": 5.6, \"x1\": 6.4, \"type\": \"rect\", \"line\": {\"width\": 0}}, {\"fillcolor\": \"rgb(0.946666666667,0.268235294118,0.196078431373)\", \"y1\": -24.6, \"y0\": -25.4, \"x0\": 6.6, \"x1\": 7.4, \"type\": \"rect\", \"line\": {\"width\": 0}}, {\"fillcolor\": \"rgb(0.946666666667,0.268235294118,0.196078431373)\", \"y1\": -24.6, \"y0\": -25.4, \"x0\": 7.6, \"x1\": 8.4, \"type\": \"rect\", \"line\": {\"width\": 0}}, {\"fillcolor\": \"rgb(0.946666666667,0.268235294118,0.196078431373)\", \"y1\": -24.6, \"y0\": -25.4, \"x0\": 8.6, \"x1\": 9.4, \"type\": \"rect\", \"line\": {\"width\": 0}}, {\"fillcolor\": \"rgb(0.946666666667,0.268235294118,0.196078431373)\", \"y1\": -24.6, \"y0\": -25.4, \"x0\": 9.6, \"x1\": 10.4, \"type\": \"rect\", \"line\": {\"width\": 0}}, {\"fillcolor\": \"rgb(0.946666666667,0.268235294118,0.196078431373)\", \"y1\": -24.6, \"y0\": -25.4, \"x0\": 10.6, \"x1\": 11.4, \"type\": \"rect\", \"line\": {\"width\": 0}}, {\"fillcolor\": \"rgb(0.290980392157,0.594509803922,0.789019607843)\", \"y1\": -24.6, \"y0\": -25.4, \"x0\": 11.6, \"x1\": 12.4, \"type\": \"rect\", \"line\": {\"width\": 0}}, {\"fillcolor\": \"rgb(0.946666666667,0.268235294118,0.196078431373)\", \"y1\": -24.6, \"y0\": -25.4, \"x0\": 12.6, \"x1\": 13.4, \"type\": \"rect\", \"line\": {\"width\": 0}}, {\"fillcolor\": \"rgb(0.946666666667,0.268235294118,0.196078431373)\", \"y1\": -24.6, \"y0\": -25.4, \"x0\": 13.6, \"x1\": 14.4, \"type\": \"rect\", \"line\": {\"width\": 0}}, {\"fillcolor\": \"rgb(0.946666666667,0.268235294118,0.196078431373)\", \"y1\": -24.6, \"y0\": -25.4, \"x0\": 14.6, \"x1\": 15.4, \"type\": \"rect\", \"line\": {\"width\": 0}}, {\"fillcolor\": \"rgb(0.946666666667,0.268235294118,0.196078431373)\", \"y1\": -24.6, \"y0\": -25.4, \"x0\": 15.6, \"x1\": 16.4, \"type\": \"rect\", \"line\": {\"width\": 0}}, {\"fillcolor\": \"rgb(0.946666666667,0.268235294118,0.196078431373)\", \"y1\": -24.6, \"y0\": -25.4, \"x0\": 16.6, \"x1\": 17.4, \"type\": \"rect\", \"line\": {\"width\": 0}}, {\"fillcolor\": \"rgb(0.946666666667,0.268235294118,0.196078431373)\", \"y1\": -24.6, \"y0\": -25.4, \"x0\": 17.6, \"x1\": 18.4, \"type\": \"rect\", \"line\": {\"width\": 0}}, {\"fillcolor\": \"rgb(0.946666666667,0.268235294118,0.196078431373)\", \"y1\": -24.6, \"y0\": -25.4, \"x0\": 18.6, \"x1\": 19.4, \"type\": \"rect\", \"line\": {\"width\": 0}}, {\"fillcolor\": \"rgb(0.946666666667,0.268235294118,0.196078431373)\", \"y1\": -25.6, \"y0\": -26.4, \"x0\": -0.4, \"x1\": 0.4, \"type\": \"rect\", \"line\": {\"width\": 0}}, {\"fillcolor\": \"rgb(0.946666666667,0.268235294118,0.196078431373)\", \"y1\": -25.6, \"y0\": -26.4, \"x0\": 0.6, \"x1\": 1.4, \"type\": \"rect\", \"line\": {\"width\": 0}}, {\"fillcolor\": \"rgb(0.946666666667,0.268235294118,0.196078431373)\", \"y1\": -25.6, \"y0\": -26.4, \"x0\": 1.6, \"x1\": 2.4, \"type\": \"rect\", \"line\": {\"width\": 0}}], \"xaxis\": {\"zeroline\": false, \"showticklabels\": false, \"showgrid\": false}, \"hovermode\": \"closest\", \"annotations\": [{\"xref\": \"x\", \"yref\": \"y\", \"text\": \"<b>13</b>\", \"align\": \"center\", \"y\": 0, \"x\": 0, \"font\": {\"color\": \"rgb(255, 255, 255)\", \"family\": \"arial\"}, \"showarrow\": false}, {\"xref\": \"x\", \"yref\": \"y\", \"text\": \"<b>10</b>\", \"align\": \"center\", \"y\": 0, \"x\": 1, \"font\": {\"color\": \"rgb(255, 255, 255)\", \"family\": \"arial\"}, \"showarrow\": false}, {\"xref\": \"x\", \"yref\": \"y\", \"text\": \"<b>10</b>\", \"align\": \"center\", \"y\": 0, \"x\": 2, \"font\": {\"color\": \"rgb(255, 255, 255)\", \"family\": \"arial\"}, \"showarrow\": false}, {\"xref\": \"x\", \"yref\": \"y\", \"text\": \"<b>10</b>\", \"align\": \"center\", \"y\": 0, \"x\": 3, \"font\": {\"color\": \"rgb(255, 255, 255)\", \"family\": \"arial\"}, \"showarrow\": false}, {\"xref\": \"x\", \"yref\": \"y\", \"text\": \"<b>8</b>\", \"align\": \"center\", \"y\": 0, \"x\": 4, \"font\": {\"color\": \"rgb(255, 255, 255)\", \"family\": \"arial\"}, \"showarrow\": false}, {\"xref\": \"x\", \"yref\": \"y\", \"text\": \"<b>8</b>\", \"align\": \"center\", \"y\": 0, \"x\": 5, \"font\": {\"color\": \"rgb(255, 255, 255)\", \"family\": \"arial\"}, \"showarrow\": false}, {\"xref\": \"x\", \"yref\": \"y\", \"text\": \"<b>7</b>\", \"align\": \"center\", \"y\": 0, \"x\": 6, \"font\": {\"color\": \"rgb(255, 255, 255)\", \"family\": \"arial\"}, \"showarrow\": false}, {\"xref\": \"x\", \"yref\": \"y\", \"text\": \"<b>7</b>\", \"align\": \"center\", \"y\": 0, \"x\": 7, \"font\": {\"color\": \"rgb(255, 255, 255)\", \"family\": \"arial\"}, \"showarrow\": false}, {\"xref\": \"x\", \"yref\": \"y\", \"text\": \"<b>7</b>\", \"align\": \"center\", \"y\": 0, \"x\": 8, \"font\": {\"color\": \"rgb(255, 255, 255)\", \"family\": \"arial\"}, \"showarrow\": false}, {\"xref\": \"x\", \"yref\": \"y\", \"text\": \"<b>7</b>\", \"align\": \"center\", \"y\": 0, \"x\": 9, \"font\": {\"color\": \"rgb(255, 255, 255)\", \"family\": \"arial\"}, \"showarrow\": false}, {\"xref\": \"x\", \"yref\": \"y\", \"text\": \"<b>6</b>\", \"align\": \"center\", \"y\": 0, \"x\": 10, \"font\": {\"color\": \"rgb(255, 255, 255)\", \"family\": \"arial\"}, \"showarrow\": false}, {\"xref\": \"x\", \"yref\": \"y\", \"text\": \"<b>5</b>\", \"align\": \"center\", \"y\": 0, \"x\": 11, \"font\": {\"color\": \"rgb(255, 255, 255)\", \"family\": \"arial\"}, \"showarrow\": false}, {\"xref\": \"x\", \"yref\": \"y\", \"text\": \"<b>5</b>\", \"align\": \"center\", \"y\": 0, \"x\": 12, \"font\": {\"color\": \"rgb(255, 255, 255)\", \"family\": \"arial\"}, \"showarrow\": false}, {\"xref\": \"x\", \"yref\": \"y\", \"text\": \"<b>5</b>\", \"align\": \"center\", \"y\": 0, \"x\": 13, \"font\": {\"color\": \"rgb(255, 255, 255)\", \"family\": \"arial\"}, \"showarrow\": false}, {\"xref\": \"x\", \"yref\": \"y\", \"text\": \"<b>5</b>\", \"align\": \"center\", \"y\": 0, \"x\": 14, \"font\": {\"color\": \"rgb(255, 255, 255)\", \"family\": \"arial\"}, \"showarrow\": false}, {\"xref\": \"x\", \"yref\": \"y\", \"text\": \"<b>4</b>\", \"align\": \"center\", \"y\": 0, \"x\": 15, \"font\": {\"color\": \"rgb(255, 255, 255)\", \"family\": \"arial\"}, \"showarrow\": false}, {\"xref\": \"x\", \"yref\": \"y\", \"text\": \"<b>4</b>\", \"align\": \"center\", \"y\": 0, \"x\": 16, \"font\": {\"color\": \"rgb(255, 255, 255)\", \"family\": \"arial\"}, \"showarrow\": false}, {\"xref\": \"x\", \"yref\": \"y\", \"text\": \"<b>4</b>\", \"align\": \"center\", \"y\": 0, \"x\": 17, \"font\": {\"color\": \"rgb(255, 255, 255)\", \"family\": \"arial\"}, \"showarrow\": false}, {\"xref\": \"x\", \"yref\": \"y\", \"text\": \"<b>4</b>\", \"align\": \"center\", \"y\": 0, \"x\": 18, \"font\": {\"color\": \"rgb(255, 255, 255)\", \"family\": \"arial\"}, \"showarrow\": false}, {\"xref\": \"x\", \"yref\": \"y\", \"text\": \"<b>4</b>\", \"align\": \"center\", \"y\": 0, \"x\": 19, \"font\": {\"color\": \"rgb(255, 255, 255)\", \"family\": \"arial\"}, \"showarrow\": false}, {\"xref\": \"x\", \"yref\": \"y\", \"text\": \"<b>4</b>\", \"align\": \"center\", \"y\": -1, \"x\": 0, \"font\": {\"color\": \"rgb(255, 255, 255)\", \"family\": \"arial\"}, \"showarrow\": false}, {\"xref\": \"x\", \"yref\": \"y\", \"text\": \"<b>4</b>\", \"align\": \"center\", \"y\": -1, \"x\": 1, \"font\": {\"color\": \"rgb(255, 255, 255)\", \"family\": \"arial\"}, \"showarrow\": false}, {\"xref\": \"x\", \"yref\": \"y\", \"text\": \"<b>4</b>\", \"align\": \"center\", \"y\": -1, \"x\": 2, \"font\": {\"color\": \"rgb(255, 255, 255)\", \"family\": \"arial\"}, \"showarrow\": false}, {\"xref\": \"x\", \"yref\": \"y\", \"text\": \"<b>4</b>\", \"align\": \"center\", \"y\": -1, \"x\": 3, \"font\": {\"color\": \"rgb(255, 255, 255)\", \"family\": \"arial\"}, \"showarrow\": false}, {\"xref\": \"x\", \"yref\": \"y\", \"text\": \"<b>4</b>\", \"align\": \"center\", \"y\": -1, \"x\": 4, \"font\": {\"color\": \"rgb(255, 255, 255)\", \"family\": \"arial\"}, \"showarrow\": false}, {\"xref\": \"x\", \"yref\": \"y\", \"text\": \"<b>4</b>\", \"align\": \"center\", \"y\": -1, \"x\": 5, \"font\": {\"color\": \"rgb(255, 255, 255)\", \"family\": \"arial\"}, \"showarrow\": false}, {\"xref\": \"x\", \"yref\": \"y\", \"text\": \"<b>3</b>\", \"align\": \"center\", \"y\": -1, \"x\": 6, \"font\": {\"color\": \"rgb(255, 255, 255)\", \"family\": \"arial\"}, \"showarrow\": false}, {\"xref\": \"x\", \"yref\": \"y\", \"text\": \"<b>3</b>\", \"align\": \"center\", \"y\": -1, \"x\": 7, \"font\": {\"color\": \"rgb(255, 255, 255)\", \"family\": \"arial\"}, \"showarrow\": false}, {\"xref\": \"x\", \"yref\": \"y\", \"text\": \"<b>3</b>\", \"align\": \"center\", \"y\": -1, \"x\": 8, \"font\": {\"color\": \"rgb(255, 255, 255)\", \"family\": \"arial\"}, \"showarrow\": false}, {\"xref\": \"x\", \"yref\": \"y\", \"text\": \"<b>3</b>\", \"align\": \"center\", \"y\": -1, \"x\": 9, \"font\": {\"color\": \"rgb(255, 255, 255)\", \"family\": \"arial\"}, \"showarrow\": false}, {\"xref\": \"x\", \"yref\": \"y\", \"text\": \"<b>3</b>\", \"align\": \"center\", \"y\": -1, \"x\": 10, \"font\": {\"color\": \"rgb(255, 255, 255)\", \"family\": \"arial\"}, \"showarrow\": false}, {\"xref\": \"x\", \"yref\": \"y\", \"text\": \"<b>3</b>\", \"align\": \"center\", \"y\": -1, \"x\": 11, \"font\": {\"color\": \"rgb(255, 255, 255)\", \"family\": \"arial\"}, \"showarrow\": false}, {\"xref\": \"x\", \"yref\": \"y\", \"text\": \"<b>3</b>\", \"align\": \"center\", \"y\": -1, \"x\": 12, \"font\": {\"color\": \"rgb(255, 255, 255)\", \"family\": \"arial\"}, \"showarrow\": false}, {\"xref\": \"x\", \"yref\": \"y\", \"text\": \"<b>3</b>\", \"align\": \"center\", \"y\": -1, \"x\": 13, \"font\": {\"color\": \"rgb(255, 255, 255)\", \"family\": \"arial\"}, \"showarrow\": false}, {\"xref\": \"x\", \"yref\": \"y\", \"text\": \"<b>3</b>\", \"align\": \"center\", \"y\": -1, \"x\": 14, \"font\": {\"color\": \"rgb(255, 255, 255)\", \"family\": \"arial\"}, \"showarrow\": false}, {\"xref\": \"x\", \"yref\": \"y\", \"text\": \"<b>3</b>\", \"align\": \"center\", \"y\": -1, \"x\": 15, \"font\": {\"color\": \"rgb(255, 255, 255)\", \"family\": \"arial\"}, \"showarrow\": false}, {\"xref\": \"x\", \"yref\": \"y\", \"text\": \"<b>3</b>\", \"align\": \"center\", \"y\": -1, \"x\": 16, \"font\": {\"color\": \"rgb(255, 255, 255)\", \"family\": \"arial\"}, \"showarrow\": false}, {\"xref\": \"x\", \"yref\": \"y\", \"text\": \"<b>3</b>\", \"align\": \"center\", \"y\": -1, \"x\": 17, \"font\": {\"color\": \"rgb(255, 255, 255)\", \"family\": \"arial\"}, \"showarrow\": false}, {\"xref\": \"x\", \"yref\": \"y\", \"text\": \"<b>2</b>\", \"align\": \"center\", \"y\": -1, \"x\": 18, \"font\": {\"color\": \"rgb(255, 255, 255)\", \"family\": \"arial\"}, \"showarrow\": false}, {\"xref\": \"x\", \"yref\": \"y\", \"text\": \"<b>2</b>\", \"align\": \"center\", \"y\": -1, \"x\": 19, \"font\": {\"color\": \"rgb(255, 255, 255)\", \"family\": \"arial\"}, \"showarrow\": false}, {\"xref\": \"x\", \"yref\": \"y\", \"text\": \"<b>2</b>\", \"align\": \"center\", \"y\": -2, \"x\": 0, \"font\": {\"color\": \"rgb(255, 255, 255)\", \"family\": \"arial\"}, \"showarrow\": false}, {\"xref\": \"x\", \"yref\": \"y\", \"text\": \"<b>2</b>\", \"align\": \"center\", \"y\": -2, \"x\": 1, \"font\": {\"color\": \"rgb(255, 255, 255)\", \"family\": \"arial\"}, \"showarrow\": false}, {\"xref\": \"x\", \"yref\": \"y\", \"text\": \"<b>2</b>\", \"align\": \"center\", \"y\": -2, \"x\": 2, \"font\": {\"color\": \"rgb(255, 255, 255)\", \"family\": \"arial\"}, \"showarrow\": false}, {\"xref\": \"x\", \"yref\": \"y\", \"text\": \"<b>2</b>\", \"align\": \"center\", \"y\": -2, \"x\": 3, \"font\": {\"color\": \"rgb(255, 255, 255)\", \"family\": \"arial\"}, \"showarrow\": false}, {\"xref\": \"x\", \"yref\": \"y\", \"text\": \"<b>2</b>\", \"align\": \"center\", \"y\": -2, \"x\": 4, \"font\": {\"color\": \"rgb(255, 255, 255)\", \"family\": \"arial\"}, \"showarrow\": false}, {\"xref\": \"x\", \"yref\": \"y\", \"text\": \"<b>2</b>\", \"align\": \"center\", \"y\": -2, \"x\": 5, \"font\": {\"color\": \"rgb(255, 255, 255)\", \"family\": \"arial\"}, \"showarrow\": false}, {\"xref\": \"x\", \"yref\": \"y\", \"text\": \"<b>2</b>\", \"align\": \"center\", \"y\": -2, \"x\": 6, \"font\": {\"color\": \"rgb(255, 255, 255)\", \"family\": \"arial\"}, \"showarrow\": false}, {\"xref\": \"x\", \"yref\": \"y\", \"text\": \"<b>2</b>\", \"align\": \"center\", \"y\": -2, \"x\": 7, \"font\": {\"color\": \"rgb(255, 255, 255)\", \"family\": \"arial\"}, \"showarrow\": false}, {\"xref\": \"x\", \"yref\": \"y\", \"text\": \"<b>2</b>\", \"align\": \"center\", \"y\": -2, \"x\": 8, \"font\": {\"color\": \"rgb(255, 255, 255)\", \"family\": \"arial\"}, \"showarrow\": false}, {\"xref\": \"x\", \"yref\": \"y\", \"text\": \"<b>2</b>\", \"align\": \"center\", \"y\": -2, \"x\": 9, \"font\": {\"color\": \"rgb(255, 255, 255)\", \"family\": \"arial\"}, \"showarrow\": false}, {\"xref\": \"x\", \"yref\": \"y\", \"text\": \"<b>2</b>\", \"align\": \"center\", \"y\": -2, \"x\": 10, \"font\": {\"color\": \"rgb(255, 255, 255)\", \"family\": \"arial\"}, \"showarrow\": false}, {\"xref\": \"x\", \"yref\": \"y\", \"text\": \"<b>2</b>\", \"align\": \"center\", \"y\": -2, \"x\": 11, \"font\": {\"color\": \"rgb(255, 255, 255)\", \"family\": \"arial\"}, \"showarrow\": false}, {\"xref\": \"x\", \"yref\": \"y\", \"text\": \"<b>2</b>\", \"align\": \"center\", \"y\": -2, \"x\": 12, \"font\": {\"color\": \"rgb(255, 255, 255)\", \"family\": \"arial\"}, \"showarrow\": false}, {\"xref\": \"x\", \"yref\": \"y\", \"text\": \"<b>2</b>\", \"align\": \"center\", \"y\": -2, \"x\": 13, \"font\": {\"color\": \"rgb(255, 255, 255)\", \"family\": \"arial\"}, \"showarrow\": false}, {\"xref\": \"x\", \"yref\": \"y\", \"text\": \"<b>2</b>\", \"align\": \"center\", \"y\": -2, \"x\": 14, \"font\": {\"color\": \"rgb(255, 255, 255)\", \"family\": \"arial\"}, \"showarrow\": false}, {\"xref\": \"x\", \"yref\": \"y\", \"text\": \"<b>2</b>\", \"align\": \"center\", \"y\": -2, \"x\": 15, \"font\": {\"color\": \"rgb(255, 255, 255)\", \"family\": \"arial\"}, \"showarrow\": false}, {\"xref\": \"x\", \"yref\": \"y\", \"text\": \"<b>2</b>\", \"align\": \"center\", \"y\": -2, \"x\": 16, \"font\": {\"color\": \"rgb(255, 255, 255)\", \"family\": \"arial\"}, \"showarrow\": false}, {\"xref\": \"x\", \"yref\": \"y\", \"text\": \"<b>2</b>\", \"align\": \"center\", \"y\": -2, \"x\": 17, \"font\": {\"color\": \"rgb(255, 255, 255)\", \"family\": \"arial\"}, \"showarrow\": false}, {\"xref\": \"x\", \"yref\": \"y\", \"text\": \"<b>2</b>\", \"align\": \"center\", \"y\": -2, \"x\": 18, \"font\": {\"color\": \"rgb(255, 255, 255)\", \"family\": \"arial\"}, \"showarrow\": false}, {\"xref\": \"x\", \"yref\": \"y\", \"text\": \"<b>2</b>\", \"align\": \"center\", \"y\": -2, \"x\": 19, \"font\": {\"color\": \"rgb(255, 255, 255)\", \"family\": \"arial\"}, \"showarrow\": false}, {\"xref\": \"x\", \"yref\": \"y\", \"text\": \"<b>2</b>\", \"align\": \"center\", \"y\": -3, \"x\": 0, \"font\": {\"color\": \"rgb(255, 255, 255)\", \"family\": \"arial\"}, \"showarrow\": false}, {\"xref\": \"x\", \"yref\": \"y\", \"text\": \"<b>2</b>\", \"align\": \"center\", \"y\": -3, \"x\": 1, \"font\": {\"color\": \"rgb(255, 255, 255)\", \"family\": \"arial\"}, \"showarrow\": false}, {\"xref\": \"x\", \"yref\": \"y\", \"text\": \"<b>2</b>\", \"align\": \"center\", \"y\": -3, \"x\": 2, \"font\": {\"color\": \"rgb(255, 255, 255)\", \"family\": \"arial\"}, \"showarrow\": false}, {\"xref\": \"x\", \"yref\": \"y\", \"text\": \"<b>2</b>\", \"align\": \"center\", \"y\": -3, \"x\": 3, \"font\": {\"color\": \"rgb(255, 255, 255)\", \"family\": \"arial\"}, \"showarrow\": false}, {\"xref\": \"x\", \"yref\": \"y\", \"text\": \"<b>2</b>\", \"align\": \"center\", \"y\": -3, \"x\": 4, \"font\": {\"color\": \"rgb(255, 255, 255)\", \"family\": \"arial\"}, \"showarrow\": false}, {\"xref\": \"x\", \"yref\": \"y\", \"text\": \"<b>2</b>\", \"align\": \"center\", \"y\": -3, \"x\": 5, \"font\": {\"color\": \"rgb(255, 255, 255)\", \"family\": \"arial\"}, \"showarrow\": false}, {\"xref\": \"x\", \"yref\": \"y\", \"text\": \"<b>2</b>\", \"align\": \"center\", \"y\": -3, \"x\": 6, \"font\": {\"color\": \"rgb(255, 255, 255)\", \"family\": \"arial\"}, \"showarrow\": false}, {\"xref\": \"x\", \"yref\": \"y\", \"text\": \"<b>2</b>\", \"align\": \"center\", \"y\": -3, \"x\": 7, \"font\": {\"color\": \"rgb(255, 255, 255)\", \"family\": \"arial\"}, \"showarrow\": false}, {\"xref\": \"x\", \"yref\": \"y\", \"text\": \"<b>2</b>\", \"align\": \"center\", \"y\": -3, \"x\": 8, \"font\": {\"color\": \"rgb(255, 255, 255)\", \"family\": \"arial\"}, \"showarrow\": false}, {\"xref\": \"x\", \"yref\": \"y\", \"text\": \"<b>2</b>\", \"align\": \"center\", \"y\": -3, \"x\": 9, \"font\": {\"color\": \"rgb(255, 255, 255)\", \"family\": \"arial\"}, \"showarrow\": false}, {\"xref\": \"x\", \"yref\": \"y\", \"text\": \"<b>2</b>\", \"align\": \"center\", \"y\": -3, \"x\": 10, \"font\": {\"color\": \"rgb(255, 255, 255)\", \"family\": \"arial\"}, \"showarrow\": false}, {\"xref\": \"x\", \"yref\": \"y\", \"text\": \"<b>1</b>\", \"align\": \"center\", \"y\": -3, \"x\": 11, \"font\": {\"color\": \"rgb(255, 255, 255)\", \"family\": \"arial\"}, \"showarrow\": false}, {\"xref\": \"x\", \"yref\": \"y\", \"text\": \"<b>1</b>\", \"align\": \"center\", \"y\": -3, \"x\": 12, \"font\": {\"color\": \"rgb(255, 255, 255)\", \"family\": \"arial\"}, \"showarrow\": false}, {\"xref\": \"x\", \"yref\": \"y\", \"text\": \"<b>1</b>\", \"align\": \"center\", \"y\": -3, \"x\": 13, \"font\": {\"color\": \"rgb(255, 255, 255)\", \"family\": \"arial\"}, \"showarrow\": false}, {\"xref\": \"x\", \"yref\": \"y\", \"text\": \"<b>1</b>\", \"align\": \"center\", \"y\": -3, \"x\": 14, \"font\": {\"color\": \"rgb(255, 255, 255)\", \"family\": \"arial\"}, \"showarrow\": false}, {\"xref\": \"x\", \"yref\": \"y\", \"text\": \"<b>1</b>\", \"align\": \"center\", \"y\": -3, \"x\": 15, \"font\": {\"color\": \"rgb(255, 255, 255)\", \"family\": \"arial\"}, \"showarrow\": false}, {\"xref\": \"x\", \"yref\": \"y\", \"text\": \"<b>1</b>\", \"align\": \"center\", \"y\": -3, \"x\": 16, \"font\": {\"color\": \"rgb(255, 255, 255)\", \"family\": \"arial\"}, \"showarrow\": false}, {\"xref\": \"x\", \"yref\": \"y\", \"text\": \"<b>1</b>\", \"align\": \"center\", \"y\": -3, \"x\": 17, \"font\": {\"color\": \"rgb(255, 255, 255)\", \"family\": \"arial\"}, \"showarrow\": false}, {\"xref\": \"x\", \"yref\": \"y\", \"text\": \"<b>1</b>\", \"align\": \"center\", \"y\": -3, \"x\": 18, \"font\": {\"color\": \"rgb(255, 255, 255)\", \"family\": \"arial\"}, \"showarrow\": false}, {\"xref\": \"x\", \"yref\": \"y\", \"text\": \"<b>1</b>\", \"align\": \"center\", \"y\": -3, \"x\": 19, \"font\": {\"color\": \"rgb(255, 255, 255)\", \"family\": \"arial\"}, \"showarrow\": false}, {\"xref\": \"x\", \"yref\": \"y\", \"text\": \"<b>1</b>\", \"align\": \"center\", \"y\": -4, \"x\": 0, \"font\": {\"color\": \"rgb(255, 255, 255)\", \"family\": \"arial\"}, \"showarrow\": false}, {\"xref\": \"x\", \"yref\": \"y\", \"text\": \"<b>1</b>\", \"align\": \"center\", \"y\": -4, \"x\": 1, \"font\": {\"color\": \"rgb(255, 255, 255)\", \"family\": \"arial\"}, \"showarrow\": false}, {\"xref\": \"x\", \"yref\": \"y\", \"text\": \"<b>1</b>\", \"align\": \"center\", \"y\": -4, \"x\": 2, \"font\": {\"color\": \"rgb(255, 255, 255)\", \"family\": \"arial\"}, \"showarrow\": false}, {\"xref\": \"x\", \"yref\": \"y\", \"text\": \"<b>1</b>\", \"align\": \"center\", \"y\": -4, \"x\": 3, \"font\": {\"color\": \"rgb(255, 255, 255)\", \"family\": \"arial\"}, \"showarrow\": false}, {\"xref\": \"x\", \"yref\": \"y\", \"text\": \"<b>1</b>\", \"align\": \"center\", \"y\": -4, \"x\": 4, \"font\": {\"color\": \"rgb(255, 255, 255)\", \"family\": \"arial\"}, \"showarrow\": false}, {\"xref\": \"x\", \"yref\": \"y\", \"text\": \"<b>1</b>\", \"align\": \"center\", \"y\": -4, \"x\": 5, \"font\": {\"color\": \"rgb(255, 255, 255)\", \"family\": \"arial\"}, \"showarrow\": false}, {\"xref\": \"x\", \"yref\": \"y\", \"text\": \"<b>1</b>\", \"align\": \"center\", \"y\": -4, \"x\": 6, \"font\": {\"color\": \"rgb(255, 255, 255)\", \"family\": \"arial\"}, \"showarrow\": false}, {\"xref\": \"x\", \"yref\": \"y\", \"text\": \"<b>1</b>\", \"align\": \"center\", \"y\": -4, \"x\": 7, \"font\": {\"color\": \"rgb(255, 255, 255)\", \"family\": \"arial\"}, \"showarrow\": false}, {\"xref\": \"x\", \"yref\": \"y\", \"text\": \"<b>1</b>\", \"align\": \"center\", \"y\": -4, \"x\": 8, \"font\": {\"color\": \"rgb(255, 255, 255)\", \"family\": \"arial\"}, \"showarrow\": false}, {\"xref\": \"x\", \"yref\": \"y\", \"text\": \"<b>1</b>\", \"align\": \"center\", \"y\": -4, \"x\": 9, \"font\": {\"color\": \"rgb(255, 255, 255)\", \"family\": \"arial\"}, \"showarrow\": false}, {\"xref\": \"x\", \"yref\": \"y\", \"text\": \"<b>1</b>\", \"align\": \"center\", \"y\": -4, \"x\": 10, \"font\": {\"color\": \"rgb(255, 255, 255)\", \"family\": \"arial\"}, \"showarrow\": false}, {\"xref\": \"x\", \"yref\": \"y\", \"text\": \"<b>1</b>\", \"align\": \"center\", \"y\": -4, \"x\": 11, \"font\": {\"color\": \"rgb(255, 255, 255)\", \"family\": \"arial\"}, \"showarrow\": false}, {\"xref\": \"x\", \"yref\": \"y\", \"text\": \"<b>1</b>\", \"align\": \"center\", \"y\": -4, \"x\": 12, \"font\": {\"color\": \"rgb(255, 255, 255)\", \"family\": \"arial\"}, \"showarrow\": false}, {\"xref\": \"x\", \"yref\": \"y\", \"text\": \"<b>1</b>\", \"align\": \"center\", \"y\": -4, \"x\": 13, \"font\": {\"color\": \"rgb(255, 255, 255)\", \"family\": \"arial\"}, \"showarrow\": false}, {\"xref\": \"x\", \"yref\": \"y\", \"text\": \"<b>1</b>\", \"align\": \"center\", \"y\": -4, \"x\": 14, \"font\": {\"color\": \"rgb(255, 255, 255)\", \"family\": \"arial\"}, \"showarrow\": false}, {\"xref\": \"x\", \"yref\": \"y\", \"text\": \"<b>1</b>\", \"align\": \"center\", \"y\": -4, \"x\": 15, \"font\": {\"color\": \"rgb(255, 255, 255)\", \"family\": \"arial\"}, \"showarrow\": false}, {\"xref\": \"x\", \"yref\": \"y\", \"text\": \"<b>1</b>\", \"align\": \"center\", \"y\": -4, \"x\": 16, \"font\": {\"color\": \"rgb(255, 255, 255)\", \"family\": \"arial\"}, \"showarrow\": false}, {\"xref\": \"x\", \"yref\": \"y\", \"text\": \"<b>1</b>\", \"align\": \"center\", \"y\": -4, \"x\": 17, \"font\": {\"color\": \"rgb(255, 255, 255)\", \"family\": \"arial\"}, \"showarrow\": false}, {\"xref\": \"x\", \"yref\": \"y\", \"text\": \"<b>1</b>\", \"align\": \"center\", \"y\": -4, \"x\": 18, \"font\": {\"color\": \"rgb(255, 255, 255)\", \"family\": \"arial\"}, \"showarrow\": false}, {\"xref\": \"x\", \"yref\": \"y\", \"text\": \"<b>1</b>\", \"align\": \"center\", \"y\": -4, \"x\": 19, \"font\": {\"color\": \"rgb(255, 255, 255)\", \"family\": \"arial\"}, \"showarrow\": false}, {\"xref\": \"x\", \"yref\": \"y\", \"text\": \"<b>1</b>\", \"align\": \"center\", \"y\": -5, \"x\": 0, \"font\": {\"color\": \"rgb(255, 255, 255)\", \"family\": \"arial\"}, \"showarrow\": false}, {\"xref\": \"x\", \"yref\": \"y\", \"text\": \"<b>1</b>\", \"align\": \"center\", \"y\": -5, \"x\": 1, \"font\": {\"color\": \"rgb(255, 255, 255)\", \"family\": \"arial\"}, \"showarrow\": false}, {\"xref\": \"x\", \"yref\": \"y\", \"text\": \"<b>1</b>\", \"align\": \"center\", \"y\": -5, \"x\": 2, \"font\": {\"color\": \"rgb(255, 255, 255)\", \"family\": \"arial\"}, \"showarrow\": false}, {\"xref\": \"x\", \"yref\": \"y\", \"text\": \"<b>1</b>\", \"align\": \"center\", \"y\": -5, \"x\": 3, \"font\": {\"color\": \"rgb(255, 255, 255)\", \"family\": \"arial\"}, \"showarrow\": false}, {\"xref\": \"x\", \"yref\": \"y\", \"text\": \"<b>1</b>\", \"align\": \"center\", \"y\": -5, \"x\": 4, \"font\": {\"color\": \"rgb(255, 255, 255)\", \"family\": \"arial\"}, \"showarrow\": false}, {\"xref\": \"x\", \"yref\": \"y\", \"text\": \"<b>1</b>\", \"align\": \"center\", \"y\": -5, \"x\": 5, \"font\": {\"color\": \"rgb(255, 255, 255)\", \"family\": \"arial\"}, \"showarrow\": false}, {\"xref\": \"x\", \"yref\": \"y\", \"text\": \"<b>.9</b>\", \"align\": \"center\", \"y\": -5, \"x\": 6, \"font\": {\"color\": \"rgb(255, 255, 255)\", \"family\": \"arial\"}, \"showarrow\": false}, {\"xref\": \"x\", \"yref\": \"y\", \"text\": \"<b>.9</b>\", \"align\": \"center\", \"y\": -5, \"x\": 7, \"font\": {\"color\": \"rgb(255, 255, 255)\", \"family\": \"arial\"}, \"showarrow\": false}, {\"xref\": \"x\", \"yref\": \"y\", \"text\": \"<b>.9</b>\", \"align\": \"center\", \"y\": -5, \"x\": 8, \"font\": {\"color\": \"rgb(255, 255, 255)\", \"family\": \"arial\"}, \"showarrow\": false}, {\"xref\": \"x\", \"yref\": \"y\", \"text\": \"<b>.9</b>\", \"align\": \"center\", \"y\": -5, \"x\": 9, \"font\": {\"color\": \"rgb(255, 255, 255)\", \"family\": \"arial\"}, \"showarrow\": false}, {\"xref\": \"x\", \"yref\": \"y\", \"text\": \"<b>.9</b>\", \"align\": \"center\", \"y\": -5, \"x\": 10, \"font\": {\"color\": \"rgb(255, 255, 255)\", \"family\": \"arial\"}, \"showarrow\": false}, {\"xref\": \"x\", \"yref\": \"y\", \"text\": \"<b>.9</b>\", \"align\": \"center\", \"y\": -5, \"x\": 11, \"font\": {\"color\": \"rgb(255, 255, 255)\", \"family\": \"arial\"}, \"showarrow\": false}, {\"xref\": \"x\", \"yref\": \"y\", \"text\": \"<b>.9</b>\", \"align\": \"center\", \"y\": -5, \"x\": 12, \"font\": {\"color\": \"rgb(255, 255, 255)\", \"family\": \"arial\"}, \"showarrow\": false}, {\"xref\": \"x\", \"yref\": \"y\", \"text\": \"<b>.8</b>\", \"align\": \"center\", \"y\": -5, \"x\": 13, \"font\": {\"color\": \"rgb(255, 255, 255)\", \"family\": \"arial\"}, \"showarrow\": false}, {\"xref\": \"x\", \"yref\": \"y\", \"text\": \"<b>.8</b>\", \"align\": \"center\", \"y\": -5, \"x\": 14, \"font\": {\"color\": \"rgb(255, 255, 255)\", \"family\": \"arial\"}, \"showarrow\": false}, {\"xref\": \"x\", \"yref\": \"y\", \"text\": \"<b>.8</b>\", \"align\": \"center\", \"y\": -5, \"x\": 15, \"font\": {\"color\": \"rgb(255, 255, 255)\", \"family\": \"arial\"}, \"showarrow\": false}, {\"xref\": \"x\", \"yref\": \"y\", \"text\": \"<b>.8</b>\", \"align\": \"center\", \"y\": -5, \"x\": 16, \"font\": {\"color\": \"rgb(255, 255, 255)\", \"family\": \"arial\"}, \"showarrow\": false}, {\"xref\": \"x\", \"yref\": \"y\", \"text\": \"<b>.8</b>\", \"align\": \"center\", \"y\": -5, \"x\": 17, \"font\": {\"color\": \"rgb(255, 255, 255)\", \"family\": \"arial\"}, \"showarrow\": false}, {\"xref\": \"x\", \"yref\": \"y\", \"text\": \"<b>.8</b>\", \"align\": \"center\", \"y\": -5, \"x\": 18, \"font\": {\"color\": \"rgb(255, 255, 255)\", \"family\": \"arial\"}, \"showarrow\": false}, {\"xref\": \"x\", \"yref\": \"y\", \"text\": \"<b>.8</b>\", \"align\": \"center\", \"y\": -5, \"x\": 19, \"font\": {\"color\": \"rgb(255, 255, 255)\", \"family\": \"arial\"}, \"showarrow\": false}, {\"xref\": \"x\", \"yref\": \"y\", \"text\": \"<b>.8</b>\", \"align\": \"center\", \"y\": -6, \"x\": 0, \"font\": {\"color\": \"rgb(255, 255, 255)\", \"family\": \"arial\"}, \"showarrow\": false}, {\"xref\": \"x\", \"yref\": \"y\", \"text\": \"<b>.8</b>\", \"align\": \"center\", \"y\": -6, \"x\": 1, \"font\": {\"color\": \"rgb(255, 255, 255)\", \"family\": \"arial\"}, \"showarrow\": false}, {\"xref\": \"x\", \"yref\": \"y\", \"text\": \"<b>.8</b>\", \"align\": \"center\", \"y\": -6, \"x\": 2, \"font\": {\"color\": \"rgb(255, 255, 255)\", \"family\": \"arial\"}, \"showarrow\": false}, {\"xref\": \"x\", \"yref\": \"y\", \"text\": \"<b>.8</b>\", \"align\": \"center\", \"y\": -6, \"x\": 3, \"font\": {\"color\": \"rgb(255, 255, 255)\", \"family\": \"arial\"}, \"showarrow\": false}, {\"xref\": \"x\", \"yref\": \"y\", \"text\": \"<b>.8</b>\", \"align\": \"center\", \"y\": -6, \"x\": 4, \"font\": {\"color\": \"rgb(255, 255, 255)\", \"family\": \"arial\"}, \"showarrow\": false}, {\"xref\": \"x\", \"yref\": \"y\", \"text\": \"<b>.8</b>\", \"align\": \"center\", \"y\": -6, \"x\": 5, \"font\": {\"color\": \"rgb(255, 255, 255)\", \"family\": \"arial\"}, \"showarrow\": false}, {\"xref\": \"x\", \"yref\": \"y\", \"text\": \"<b>.8</b>\", \"align\": \"center\", \"y\": -6, \"x\": 6, \"font\": {\"color\": \"rgb(255, 255, 255)\", \"family\": \"arial\"}, \"showarrow\": false}, {\"xref\": \"x\", \"yref\": \"y\", \"text\": \"<b>.8</b>\", \"align\": \"center\", \"y\": -6, \"x\": 7, \"font\": {\"color\": \"rgb(255, 255, 255)\", \"family\": \"arial\"}, \"showarrow\": false}, {\"xref\": \"x\", \"yref\": \"y\", \"text\": \"<b>.7</b>\", \"align\": \"center\", \"y\": -6, \"x\": 8, \"font\": {\"color\": \"rgb(255, 255, 255)\", \"family\": \"arial\"}, \"showarrow\": false}, {\"xref\": \"x\", \"yref\": \"y\", \"text\": \"<b>.7</b>\", \"align\": \"center\", \"y\": -6, \"x\": 9, \"font\": {\"color\": \"rgb(255, 255, 255)\", \"family\": \"arial\"}, \"showarrow\": false}, {\"xref\": \"x\", \"yref\": \"y\", \"text\": \"<b>.7</b>\", \"align\": \"center\", \"y\": -6, \"x\": 10, \"font\": {\"color\": \"rgb(255, 255, 255)\", \"family\": \"arial\"}, \"showarrow\": false}, {\"xref\": \"x\", \"yref\": \"y\", \"text\": \"<b>.7</b>\", \"align\": \"center\", \"y\": -6, \"x\": 11, \"font\": {\"color\": \"rgb(255, 255, 255)\", \"family\": \"arial\"}, \"showarrow\": false}, {\"xref\": \"x\", \"yref\": \"y\", \"text\": \"<b>.7</b>\", \"align\": \"center\", \"y\": -6, \"x\": 12, \"font\": {\"color\": \"rgb(255, 255, 255)\", \"family\": \"arial\"}, \"showarrow\": false}, {\"xref\": \"x\", \"yref\": \"y\", \"text\": \"<b>.7</b>\", \"align\": \"center\", \"y\": -6, \"x\": 13, \"font\": {\"color\": \"rgb(255, 255, 255)\", \"family\": \"arial\"}, \"showarrow\": false}, {\"xref\": \"x\", \"yref\": \"y\", \"text\": \"<b>.7</b>\", \"align\": \"center\", \"y\": -6, \"x\": 14, \"font\": {\"color\": \"rgb(255, 255, 255)\", \"family\": \"arial\"}, \"showarrow\": false}, {\"xref\": \"x\", \"yref\": \"y\", \"text\": \"<b>.7</b>\", \"align\": \"center\", \"y\": -6, \"x\": 15, \"font\": {\"color\": \"rgb(255, 255, 255)\", \"family\": \"arial\"}, \"showarrow\": false}, {\"xref\": \"x\", \"yref\": \"y\", \"text\": \"<b>.7</b>\", \"align\": \"center\", \"y\": -6, \"x\": 16, \"font\": {\"color\": \"rgb(255, 255, 255)\", \"family\": \"arial\"}, \"showarrow\": false}, {\"xref\": \"x\", \"yref\": \"y\", \"text\": \"<b>.7</b>\", \"align\": \"center\", \"y\": -6, \"x\": 17, \"font\": {\"color\": \"rgb(255, 255, 255)\", \"family\": \"arial\"}, \"showarrow\": false}, {\"xref\": \"x\", \"yref\": \"y\", \"text\": \"<b>.7</b>\", \"align\": \"center\", \"y\": -6, \"x\": 18, \"font\": {\"color\": \"rgb(255, 255, 255)\", \"family\": \"arial\"}, \"showarrow\": false}, {\"xref\": \"x\", \"yref\": \"y\", \"text\": \"<b>.7</b>\", \"align\": \"center\", \"y\": -6, \"x\": 19, \"font\": {\"color\": \"rgb(255, 255, 255)\", \"family\": \"arial\"}, \"showarrow\": false}, {\"xref\": \"x\", \"yref\": \"y\", \"text\": \"<b>.7</b>\", \"align\": \"center\", \"y\": -7, \"x\": 0, \"font\": {\"color\": \"rgb(255, 255, 255)\", \"family\": \"arial\"}, \"showarrow\": false}, {\"xref\": \"x\", \"yref\": \"y\", \"text\": \"<b>.7</b>\", \"align\": \"center\", \"y\": -7, \"x\": 1, \"font\": {\"color\": \"rgb(255, 255, 255)\", \"family\": \"arial\"}, \"showarrow\": false}, {\"xref\": \"x\", \"yref\": \"y\", \"text\": \"<b>.7</b>\", \"align\": \"center\", \"y\": -7, \"x\": 2, \"font\": {\"color\": \"rgb(255, 255, 255)\", \"family\": \"arial\"}, \"showarrow\": false}, {\"xref\": \"x\", \"yref\": \"y\", \"text\": \"<b>.7</b>\", \"align\": \"center\", \"y\": -7, \"x\": 3, \"font\": {\"color\": \"rgb(255, 255, 255)\", \"family\": \"arial\"}, \"showarrow\": false}, {\"xref\": \"x\", \"yref\": \"y\", \"text\": \"<b>.7</b>\", \"align\": \"center\", \"y\": -7, \"x\": 4, \"font\": {\"color\": \"rgb(255, 255, 255)\", \"family\": \"arial\"}, \"showarrow\": false}, {\"xref\": \"x\", \"yref\": \"y\", \"text\": \"<b>.7</b>\", \"align\": \"center\", \"y\": -7, \"x\": 5, \"font\": {\"color\": \"rgb(255, 255, 255)\", \"family\": \"arial\"}, \"showarrow\": false}, {\"xref\": \"x\", \"yref\": \"y\", \"text\": \"<b>.6</b>\", \"align\": \"center\", \"y\": -7, \"x\": 6, \"font\": {\"color\": \"rgb(255, 255, 255)\", \"family\": \"arial\"}, \"showarrow\": false}, {\"xref\": \"x\", \"yref\": \"y\", \"text\": \"<b>.6</b>\", \"align\": \"center\", \"y\": -7, \"x\": 7, \"font\": {\"color\": \"rgb(255, 255, 255)\", \"family\": \"arial\"}, \"showarrow\": false}, {\"xref\": \"x\", \"yref\": \"y\", \"text\": \"<b>.6</b>\", \"align\": \"center\", \"y\": -7, \"x\": 8, \"font\": {\"color\": \"rgb(255, 255, 255)\", \"family\": \"arial\"}, \"showarrow\": false}, {\"xref\": \"x\", \"yref\": \"y\", \"text\": \"<b>.6</b>\", \"align\": \"center\", \"y\": -7, \"x\": 9, \"font\": {\"color\": \"rgb(255, 255, 255)\", \"family\": \"arial\"}, \"showarrow\": false}, {\"xref\": \"x\", \"yref\": \"y\", \"text\": \"<b>.6</b>\", \"align\": \"center\", \"y\": -7, \"x\": 10, \"font\": {\"color\": \"rgb(255, 255, 255)\", \"family\": \"arial\"}, \"showarrow\": false}, {\"xref\": \"x\", \"yref\": \"y\", \"text\": \"<b>.6</b>\", \"align\": \"center\", \"y\": -7, \"x\": 11, \"font\": {\"color\": \"rgb(255, 255, 255)\", \"family\": \"arial\"}, \"showarrow\": false}, {\"xref\": \"x\", \"yref\": \"y\", \"text\": \"<b>.6</b>\", \"align\": \"center\", \"y\": -7, \"x\": 12, \"font\": {\"color\": \"rgb(255, 255, 255)\", \"family\": \"arial\"}, \"showarrow\": false}, {\"xref\": \"x\", \"yref\": \"y\", \"text\": \"<b>.6</b>\", \"align\": \"center\", \"y\": -7, \"x\": 13, \"font\": {\"color\": \"rgb(255, 255, 255)\", \"family\": \"arial\"}, \"showarrow\": false}, {\"xref\": \"x\", \"yref\": \"y\", \"text\": \"<b>.6</b>\", \"align\": \"center\", \"y\": -7, \"x\": 14, \"font\": {\"color\": \"rgb(255, 255, 255)\", \"family\": \"arial\"}, \"showarrow\": false}, {\"xref\": \"x\", \"yref\": \"y\", \"text\": \"<b>.6</b>\", \"align\": \"center\", \"y\": -7, \"x\": 15, \"font\": {\"color\": \"rgb(255, 255, 255)\", \"family\": \"arial\"}, \"showarrow\": false}, {\"xref\": \"x\", \"yref\": \"y\", \"text\": \"<b>.6</b>\", \"align\": \"center\", \"y\": -7, \"x\": 16, \"font\": {\"color\": \"rgb(255, 255, 255)\", \"family\": \"arial\"}, \"showarrow\": false}, {\"xref\": \"x\", \"yref\": \"y\", \"text\": \"<b>.6</b>\", \"align\": \"center\", \"y\": -7, \"x\": 17, \"font\": {\"color\": \"rgb(255, 255, 255)\", \"family\": \"arial\"}, \"showarrow\": false}, {\"xref\": \"x\", \"yref\": \"y\", \"text\": \"<b>.6</b>\", \"align\": \"center\", \"y\": -7, \"x\": 18, \"font\": {\"color\": \"rgb(255, 255, 255)\", \"family\": \"arial\"}, \"showarrow\": false}, {\"xref\": \"x\", \"yref\": \"y\", \"text\": \"<b>.6</b>\", \"align\": \"center\", \"y\": -7, \"x\": 19, \"font\": {\"color\": \"rgb(255, 255, 255)\", \"family\": \"arial\"}, \"showarrow\": false}, {\"xref\": \"x\", \"yref\": \"y\", \"text\": \"<b>.6</b>\", \"align\": \"center\", \"y\": -8, \"x\": 0, \"font\": {\"color\": \"rgb(255, 255, 255)\", \"family\": \"arial\"}, \"showarrow\": false}, {\"xref\": \"x\", \"yref\": \"y\", \"text\": \"<b>.6</b>\", \"align\": \"center\", \"y\": -8, \"x\": 1, \"font\": {\"color\": \"rgb(255, 255, 255)\", \"family\": \"arial\"}, \"showarrow\": false}, {\"xref\": \"x\", \"yref\": \"y\", \"text\": \"<b>.6</b>\", \"align\": \"center\", \"y\": -8, \"x\": 2, \"font\": {\"color\": \"rgb(255, 255, 255)\", \"family\": \"arial\"}, \"showarrow\": false}, {\"xref\": \"x\", \"yref\": \"y\", \"text\": \"<b>.6</b>\", \"align\": \"center\", \"y\": -8, \"x\": 3, \"font\": {\"color\": \"rgb(255, 255, 255)\", \"family\": \"arial\"}, \"showarrow\": false}, {\"xref\": \"x\", \"yref\": \"y\", \"text\": \"<b>.6</b>\", \"align\": \"center\", \"y\": -8, \"x\": 4, \"font\": {\"color\": \"rgb(255, 255, 255)\", \"family\": \"arial\"}, \"showarrow\": false}, {\"xref\": \"x\", \"yref\": \"y\", \"text\": \"<b>.5</b>\", \"align\": \"center\", \"y\": -8, \"x\": 5, \"font\": {\"color\": \"rgb(255, 255, 255)\", \"family\": \"arial\"}, \"showarrow\": false}, {\"xref\": \"x\", \"yref\": \"y\", \"text\": \"<b>.5</b>\", \"align\": \"center\", \"y\": -8, \"x\": 6, \"font\": {\"color\": \"rgb(255, 255, 255)\", \"family\": \"arial\"}, \"showarrow\": false}, {\"xref\": \"x\", \"yref\": \"y\", \"text\": \"<b>.5</b>\", \"align\": \"center\", \"y\": -8, \"x\": 7, \"font\": {\"color\": \"rgb(255, 255, 255)\", \"family\": \"arial\"}, \"showarrow\": false}, {\"xref\": \"x\", \"yref\": \"y\", \"text\": \"<b>.5</b>\", \"align\": \"center\", \"y\": -8, \"x\": 8, \"font\": {\"color\": \"rgb(255, 255, 255)\", \"family\": \"arial\"}, \"showarrow\": false}, {\"xref\": \"x\", \"yref\": \"y\", \"text\": \"<b>.5</b>\", \"align\": \"center\", \"y\": -8, \"x\": 9, \"font\": {\"color\": \"rgb(255, 255, 255)\", \"family\": \"arial\"}, \"showarrow\": false}, {\"xref\": \"x\", \"yref\": \"y\", \"text\": \"<b>.5</b>\", \"align\": \"center\", \"y\": -8, \"x\": 10, \"font\": {\"color\": \"rgb(255, 255, 255)\", \"family\": \"arial\"}, \"showarrow\": false}, {\"xref\": \"x\", \"yref\": \"y\", \"text\": \"<b>.5</b>\", \"align\": \"center\", \"y\": -8, \"x\": 11, \"font\": {\"color\": \"rgb(255, 255, 255)\", \"family\": \"arial\"}, \"showarrow\": false}, {\"xref\": \"x\", \"yref\": \"y\", \"text\": \"<b>.5</b>\", \"align\": \"center\", \"y\": -8, \"x\": 12, \"font\": {\"color\": \"rgb(255, 255, 255)\", \"family\": \"arial\"}, \"showarrow\": false}, {\"xref\": \"x\", \"yref\": \"y\", \"text\": \"<b>.5</b>\", \"align\": \"center\", \"y\": -8, \"x\": 13, \"font\": {\"color\": \"rgb(255, 255, 255)\", \"family\": \"arial\"}, \"showarrow\": false}, {\"xref\": \"x\", \"yref\": \"y\", \"text\": \"<b>.5</b>\", \"align\": \"center\", \"y\": -8, \"x\": 14, \"font\": {\"color\": \"rgb(255, 255, 255)\", \"family\": \"arial\"}, \"showarrow\": false}, {\"xref\": \"x\", \"yref\": \"y\", \"text\": \"<b>.5</b>\", \"align\": \"center\", \"y\": -8, \"x\": 15, \"font\": {\"color\": \"rgb(255, 255, 255)\", \"family\": \"arial\"}, \"showarrow\": false}, {\"xref\": \"x\", \"yref\": \"y\", \"text\": \"<b>.5</b>\", \"align\": \"center\", \"y\": -8, \"x\": 16, \"font\": {\"color\": \"rgb(255, 255, 255)\", \"family\": \"arial\"}, \"showarrow\": false}, {\"xref\": \"x\", \"yref\": \"y\", \"text\": \"<b>.5</b>\", \"align\": \"center\", \"y\": -8, \"x\": 17, \"font\": {\"color\": \"rgb(255, 255, 255)\", \"family\": \"arial\"}, \"showarrow\": false}, {\"xref\": \"x\", \"yref\": \"y\", \"text\": \"<b>.5</b>\", \"align\": \"center\", \"y\": -8, \"x\": 18, \"font\": {\"color\": \"rgb(255, 255, 255)\", \"family\": \"arial\"}, \"showarrow\": false}, {\"xref\": \"x\", \"yref\": \"y\", \"text\": \"<b>.5</b>\", \"align\": \"center\", \"y\": -8, \"x\": 19, \"font\": {\"color\": \"rgb(255, 255, 255)\", \"family\": \"arial\"}, \"showarrow\": false}, {\"xref\": \"x\", \"yref\": \"y\", \"text\": \"<b>.5</b>\", \"align\": \"center\", \"y\": -9, \"x\": 0, \"font\": {\"color\": \"rgb(255, 255, 255)\", \"family\": \"arial\"}, \"showarrow\": false}, {\"xref\": \"x\", \"yref\": \"y\", \"text\": \"<b>.5</b>\", \"align\": \"center\", \"y\": -9, \"x\": 1, \"font\": {\"color\": \"rgb(255, 255, 255)\", \"family\": \"arial\"}, \"showarrow\": false}, {\"xref\": \"x\", \"yref\": \"y\", \"text\": \"<b>.5</b>\", \"align\": \"center\", \"y\": -9, \"x\": 2, \"font\": {\"color\": \"rgb(255, 255, 255)\", \"family\": \"arial\"}, \"showarrow\": false}, {\"xref\": \"x\", \"yref\": \"y\", \"text\": \"<b>.5</b>\", \"align\": \"center\", \"y\": -9, \"x\": 3, \"font\": {\"color\": \"rgb(255, 255, 255)\", \"family\": \"arial\"}, \"showarrow\": false}, {\"xref\": \"x\", \"yref\": \"y\", \"text\": \"<b>.5</b>\", \"align\": \"center\", \"y\": -9, \"x\": 4, \"font\": {\"color\": \"rgb(255, 255, 255)\", \"family\": \"arial\"}, \"showarrow\": false}, {\"xref\": \"x\", \"yref\": \"y\", \"text\": \"<b>.5</b>\", \"align\": \"center\", \"y\": -9, \"x\": 5, \"font\": {\"color\": \"rgb(255, 255, 255)\", \"family\": \"arial\"}, \"showarrow\": false}, {\"xref\": \"x\", \"yref\": \"y\", \"text\": \"<b>.5</b>\", \"align\": \"center\", \"y\": -9, \"x\": 6, \"font\": {\"color\": \"rgb(255, 255, 255)\", \"family\": \"arial\"}, \"showarrow\": false}, {\"xref\": \"x\", \"yref\": \"y\", \"text\": \"<b>.4</b>\", \"align\": \"center\", \"y\": -9, \"x\": 7, \"font\": {\"color\": \"rgb(255, 255, 255)\", \"family\": \"arial\"}, \"showarrow\": false}, {\"xref\": \"x\", \"yref\": \"y\", \"text\": \"<b>.4</b>\", \"align\": \"center\", \"y\": -9, \"x\": 8, \"font\": {\"color\": \"rgb(255, 255, 255)\", \"family\": \"arial\"}, \"showarrow\": false}, {\"xref\": \"x\", \"yref\": \"y\", \"text\": \"<b>.4</b>\", \"align\": \"center\", \"y\": -9, \"x\": 9, \"font\": {\"color\": \"rgb(255, 255, 255)\", \"family\": \"arial\"}, \"showarrow\": false}, {\"xref\": \"x\", \"yref\": \"y\", \"text\": \"<b>.4</b>\", \"align\": \"center\", \"y\": -9, \"x\": 10, \"font\": {\"color\": \"rgb(255, 255, 255)\", \"family\": \"arial\"}, \"showarrow\": false}, {\"xref\": \"x\", \"yref\": \"y\", \"text\": \"<b>.4</b>\", \"align\": \"center\", \"y\": -9, \"x\": 11, \"font\": {\"color\": \"rgb(255, 255, 255)\", \"family\": \"arial\"}, \"showarrow\": false}, {\"xref\": \"x\", \"yref\": \"y\", \"text\": \"<b>.4</b>\", \"align\": \"center\", \"y\": -9, \"x\": 12, \"font\": {\"color\": \"rgb(255, 255, 255)\", \"family\": \"arial\"}, \"showarrow\": false}, {\"xref\": \"x\", \"yref\": \"y\", \"text\": \"<b>.4</b>\", \"align\": \"center\", \"y\": -9, \"x\": 13, \"font\": {\"color\": \"rgb(255, 255, 255)\", \"family\": \"arial\"}, \"showarrow\": false}, {\"xref\": \"x\", \"yref\": \"y\", \"text\": \"<b>.4</b>\", \"align\": \"center\", \"y\": -9, \"x\": 14, \"font\": {\"color\": \"rgb(255, 255, 255)\", \"family\": \"arial\"}, \"showarrow\": false}, {\"xref\": \"x\", \"yref\": \"y\", \"text\": \"<b>.4</b>\", \"align\": \"center\", \"y\": -9, \"x\": 15, \"font\": {\"color\": \"rgb(255, 255, 255)\", \"family\": \"arial\"}, \"showarrow\": false}, {\"xref\": \"x\", \"yref\": \"y\", \"text\": \"<b>.4</b>\", \"align\": \"center\", \"y\": -9, \"x\": 16, \"font\": {\"color\": \"rgb(255, 255, 255)\", \"family\": \"arial\"}, \"showarrow\": false}, {\"xref\": \"x\", \"yref\": \"y\", \"text\": \"<b>.4</b>\", \"align\": \"center\", \"y\": -9, \"x\": 17, \"font\": {\"color\": \"rgb(255, 255, 255)\", \"family\": \"arial\"}, \"showarrow\": false}, {\"xref\": \"x\", \"yref\": \"y\", \"text\": \"<b>.4</b>\", \"align\": \"center\", \"y\": -9, \"x\": 18, \"font\": {\"color\": \"rgb(255, 255, 255)\", \"family\": \"arial\"}, \"showarrow\": false}, {\"xref\": \"x\", \"yref\": \"y\", \"text\": \"<b>.4</b>\", \"align\": \"center\", \"y\": -9, \"x\": 19, \"font\": {\"color\": \"rgb(255, 255, 255)\", \"family\": \"arial\"}, \"showarrow\": false}, {\"xref\": \"x\", \"yref\": \"y\", \"text\": \"<b>.4</b>\", \"align\": \"center\", \"y\": -10, \"x\": 0, \"font\": {\"color\": \"rgb(255, 255, 255)\", \"family\": \"arial\"}, \"showarrow\": false}, {\"xref\": \"x\", \"yref\": \"y\", \"text\": \"<b>.4</b>\", \"align\": \"center\", \"y\": -10, \"x\": 1, \"font\": {\"color\": \"rgb(255, 255, 255)\", \"family\": \"arial\"}, \"showarrow\": false}, {\"xref\": \"x\", \"yref\": \"y\", \"text\": \"<b>.4</b>\", \"align\": \"center\", \"y\": -10, \"x\": 2, \"font\": {\"color\": \"rgb(255, 255, 255)\", \"family\": \"arial\"}, \"showarrow\": false}, {\"xref\": \"x\", \"yref\": \"y\", \"text\": \"<b>.4</b>\", \"align\": \"center\", \"y\": -10, \"x\": 3, \"font\": {\"color\": \"rgb(255, 255, 255)\", \"family\": \"arial\"}, \"showarrow\": false}, {\"xref\": \"x\", \"yref\": \"y\", \"text\": \"<b>.4</b>\", \"align\": \"center\", \"y\": -10, \"x\": 4, \"font\": {\"color\": \"rgb(255, 255, 255)\", \"family\": \"arial\"}, \"showarrow\": false}, {\"xref\": \"x\", \"yref\": \"y\", \"text\": \"<b>.4</b>\", \"align\": \"center\", \"y\": -10, \"x\": 5, \"font\": {\"color\": \"rgb(255, 255, 255)\", \"family\": \"arial\"}, \"showarrow\": false}, {\"xref\": \"x\", \"yref\": \"y\", \"text\": \"<b>.3</b>\", \"align\": \"center\", \"y\": -10, \"x\": 6, \"font\": {\"color\": \"rgb(255, 255, 255)\", \"family\": \"arial\"}, \"showarrow\": false}, {\"xref\": \"x\", \"yref\": \"y\", \"text\": \"<b>.3</b>\", \"align\": \"center\", \"y\": -10, \"x\": 7, \"font\": {\"color\": \"rgb(255, 255, 255)\", \"family\": \"arial\"}, \"showarrow\": false}, {\"xref\": \"x\", \"yref\": \"y\", \"text\": \"<b>.3</b>\", \"align\": \"center\", \"y\": -10, \"x\": 8, \"font\": {\"color\": \"rgb(255, 255, 255)\", \"family\": \"arial\"}, \"showarrow\": false}, {\"xref\": \"x\", \"yref\": \"y\", \"text\": \"<b>.3</b>\", \"align\": \"center\", \"y\": -10, \"x\": 9, \"font\": {\"color\": \"rgb(255, 255, 255)\", \"family\": \"arial\"}, \"showarrow\": false}, {\"xref\": \"x\", \"yref\": \"y\", \"text\": \"<b>.3</b>\", \"align\": \"center\", \"y\": -10, \"x\": 10, \"font\": {\"color\": \"rgb(255, 255, 255)\", \"family\": \"arial\"}, \"showarrow\": false}, {\"xref\": \"x\", \"yref\": \"y\", \"text\": \"<b>.3</b>\", \"align\": \"center\", \"y\": -10, \"x\": 11, \"font\": {\"color\": \"rgb(255, 255, 255)\", \"family\": \"arial\"}, \"showarrow\": false}, {\"xref\": \"x\", \"yref\": \"y\", \"text\": \"<b>.3</b>\", \"align\": \"center\", \"y\": -10, \"x\": 12, \"font\": {\"color\": \"rgb(255, 255, 255)\", \"family\": \"arial\"}, \"showarrow\": false}, {\"xref\": \"x\", \"yref\": \"y\", \"text\": \"<b>.3</b>\", \"align\": \"center\", \"y\": -10, \"x\": 13, \"font\": {\"color\": \"rgb(255, 255, 255)\", \"family\": \"arial\"}, \"showarrow\": false}, {\"xref\": \"x\", \"yref\": \"y\", \"text\": \"<b>.3</b>\", \"align\": \"center\", \"y\": -10, \"x\": 14, \"font\": {\"color\": \"rgb(255, 255, 255)\", \"family\": \"arial\"}, \"showarrow\": false}, {\"xref\": \"x\", \"yref\": \"y\", \"text\": \"<b>.3</b>\", \"align\": \"center\", \"y\": -10, \"x\": 15, \"font\": {\"color\": \"rgb(255, 255, 255)\", \"family\": \"arial\"}, \"showarrow\": false}, {\"xref\": \"x\", \"yref\": \"y\", \"text\": \"<b>.3</b>\", \"align\": \"center\", \"y\": -10, \"x\": 16, \"font\": {\"color\": \"rgb(255, 255, 255)\", \"family\": \"arial\"}, \"showarrow\": false}, {\"xref\": \"x\", \"yref\": \"y\", \"text\": \"<b>.3</b>\", \"align\": \"center\", \"y\": -10, \"x\": 17, \"font\": {\"color\": \"rgb(255, 255, 255)\", \"family\": \"arial\"}, \"showarrow\": false}, {\"xref\": \"x\", \"yref\": \"y\", \"text\": \"<b>.3</b>\", \"align\": \"center\", \"y\": -10, \"x\": 18, \"font\": {\"color\": \"rgb(255, 255, 255)\", \"family\": \"arial\"}, \"showarrow\": false}, {\"xref\": \"x\", \"yref\": \"y\", \"text\": \"<b>.3</b>\", \"align\": \"center\", \"y\": -10, \"x\": 19, \"font\": {\"color\": \"rgb(255, 255, 255)\", \"family\": \"arial\"}, \"showarrow\": false}, {\"xref\": \"x\", \"yref\": \"y\", \"text\": \"<b>.3</b>\", \"align\": \"center\", \"y\": -11, \"x\": 0, \"font\": {\"color\": \"rgb(255, 255, 255)\", \"family\": \"arial\"}, \"showarrow\": false}, {\"xref\": \"x\", \"yref\": \"y\", \"text\": \"<b>.3</b>\", \"align\": \"center\", \"y\": -11, \"x\": 1, \"font\": {\"color\": \"rgb(255, 255, 255)\", \"family\": \"arial\"}, \"showarrow\": false}, {\"xref\": \"x\", \"yref\": \"y\", \"text\": \"<b>.3</b>\", \"align\": \"center\", \"y\": -11, \"x\": 2, \"font\": {\"color\": \"rgb(255, 255, 255)\", \"family\": \"arial\"}, \"showarrow\": false}, {\"xref\": \"x\", \"yref\": \"y\", \"text\": \"<b>.3</b>\", \"align\": \"center\", \"y\": -11, \"x\": 3, \"font\": {\"color\": \"rgb(255, 255, 255)\", \"family\": \"arial\"}, \"showarrow\": false}, {\"xref\": \"x\", \"yref\": \"y\", \"text\": \"<b>.3</b>\", \"align\": \"center\", \"y\": -11, \"x\": 4, \"font\": {\"color\": \"rgb(255, 255, 255)\", \"family\": \"arial\"}, \"showarrow\": false}, {\"xref\": \"x\", \"yref\": \"y\", \"text\": \"<b>.3</b>\", \"align\": \"center\", \"y\": -11, \"x\": 5, \"font\": {\"color\": \"rgb(255, 255, 255)\", \"family\": \"arial\"}, \"showarrow\": false}, {\"xref\": \"x\", \"yref\": \"y\", \"text\": \"<b>.3</b>\", \"align\": \"center\", \"y\": -11, \"x\": 6, \"font\": {\"color\": \"rgb(255, 255, 255)\", \"family\": \"arial\"}, \"showarrow\": false}, {\"xref\": \"x\", \"yref\": \"y\", \"text\": \"<b>.3</b>\", \"align\": \"center\", \"y\": -11, \"x\": 7, \"font\": {\"color\": \"rgb(255, 255, 255)\", \"family\": \"arial\"}, \"showarrow\": false}, {\"xref\": \"x\", \"yref\": \"y\", \"text\": \"<b>.3</b>\", \"align\": \"center\", \"y\": -11, \"x\": 8, \"font\": {\"color\": \"rgb(255, 255, 255)\", \"family\": \"arial\"}, \"showarrow\": false}, {\"xref\": \"x\", \"yref\": \"y\", \"text\": \"<b>.2</b>\", \"align\": \"center\", \"y\": -11, \"x\": 9, \"font\": {\"color\": \"rgb(255, 255, 255)\", \"family\": \"arial\"}, \"showarrow\": false}, {\"xref\": \"x\", \"yref\": \"y\", \"text\": \"<b>.2</b>\", \"align\": \"center\", \"y\": -11, \"x\": 10, \"font\": {\"color\": \"rgb(255, 255, 255)\", \"family\": \"arial\"}, \"showarrow\": false}, {\"xref\": \"x\", \"yref\": \"y\", \"text\": \"<b>.2</b>\", \"align\": \"center\", \"y\": -11, \"x\": 11, \"font\": {\"color\": \"rgb(255, 255, 255)\", \"family\": \"arial\"}, \"showarrow\": false}, {\"xref\": \"x\", \"yref\": \"y\", \"text\": \"<b>.2</b>\", \"align\": \"center\", \"y\": -11, \"x\": 12, \"font\": {\"color\": \"rgb(255, 255, 255)\", \"family\": \"arial\"}, \"showarrow\": false}, {\"xref\": \"x\", \"yref\": \"y\", \"text\": \"<b>.2</b>\", \"align\": \"center\", \"y\": -11, \"x\": 13, \"font\": {\"color\": \"rgb(255, 255, 255)\", \"family\": \"arial\"}, \"showarrow\": false}, {\"xref\": \"x\", \"yref\": \"y\", \"text\": \"<b>.2</b>\", \"align\": \"center\", \"y\": -11, \"x\": 14, \"font\": {\"color\": \"rgb(255, 255, 255)\", \"family\": \"arial\"}, \"showarrow\": false}, {\"xref\": \"x\", \"yref\": \"y\", \"text\": \"<b>.2</b>\", \"align\": \"center\", \"y\": -11, \"x\": 15, \"font\": {\"color\": \"rgb(255, 255, 255)\", \"family\": \"arial\"}, \"showarrow\": false}, {\"xref\": \"x\", \"yref\": \"y\", \"text\": \"<b>.2</b>\", \"align\": \"center\", \"y\": -11, \"x\": 16, \"font\": {\"color\": \"rgb(255, 255, 255)\", \"family\": \"arial\"}, \"showarrow\": false}, {\"xref\": \"x\", \"yref\": \"y\", \"text\": \"<b>.2</b>\", \"align\": \"center\", \"y\": -11, \"x\": 17, \"font\": {\"color\": \"rgb(255, 255, 255)\", \"family\": \"arial\"}, \"showarrow\": false}, {\"xref\": \"x\", \"yref\": \"y\", \"text\": \"<b>.2</b>\", \"align\": \"center\", \"y\": -11, \"x\": 18, \"font\": {\"color\": \"rgb(255, 255, 255)\", \"family\": \"arial\"}, \"showarrow\": false}, {\"xref\": \"x\", \"yref\": \"y\", \"text\": \"<b>.2</b>\", \"align\": \"center\", \"y\": -11, \"x\": 19, \"font\": {\"color\": \"rgb(255, 255, 255)\", \"family\": \"arial\"}, \"showarrow\": false}, {\"xref\": \"x\", \"yref\": \"y\", \"text\": \"<b>.2</b>\", \"align\": \"center\", \"y\": -12, \"x\": 0, \"font\": {\"color\": \"rgb(255, 255, 255)\", \"family\": \"arial\"}, \"showarrow\": false}, {\"xref\": \"x\", \"yref\": \"y\", \"text\": \"<b>.2</b>\", \"align\": \"center\", \"y\": -12, \"x\": 1, \"font\": {\"color\": \"rgb(255, 255, 255)\", \"family\": \"arial\"}, \"showarrow\": false}, {\"xref\": \"x\", \"yref\": \"y\", \"text\": \"<b>.2</b>\", \"align\": \"center\", \"y\": -12, \"x\": 2, \"font\": {\"color\": \"rgb(255, 255, 255)\", \"family\": \"arial\"}, \"showarrow\": false}, {\"xref\": \"x\", \"yref\": \"y\", \"text\": \"<b>.2</b>\", \"align\": \"center\", \"y\": -12, \"x\": 3, \"font\": {\"color\": \"rgb(255, 255, 255)\", \"family\": \"arial\"}, \"showarrow\": false}, {\"xref\": \"x\", \"yref\": \"y\", \"text\": \"<b>.2</b>\", \"align\": \"center\", \"y\": -12, \"x\": 4, \"font\": {\"color\": \"rgb(255, 255, 255)\", \"family\": \"arial\"}, \"showarrow\": false}, {\"xref\": \"x\", \"yref\": \"y\", \"text\": \"<b>.2</b>\", \"align\": \"center\", \"y\": -12, \"x\": 5, \"font\": {\"color\": \"rgb(255, 255, 255)\", \"family\": \"arial\"}, \"showarrow\": false}, {\"xref\": \"x\", \"yref\": \"y\", \"text\": \"<b>.2</b>\", \"align\": \"center\", \"y\": -12, \"x\": 6, \"font\": {\"color\": \"rgb(255, 255, 255)\", \"family\": \"arial\"}, \"showarrow\": false}, {\"xref\": \"x\", \"yref\": \"y\", \"text\": \"<b>.2</b>\", \"align\": \"center\", \"y\": -12, \"x\": 7, \"font\": {\"color\": \"rgb(255, 255, 255)\", \"family\": \"arial\"}, \"showarrow\": false}, {\"xref\": \"x\", \"yref\": \"y\", \"text\": \"<b>.2</b>\", \"align\": \"center\", \"y\": -12, \"x\": 8, \"font\": {\"color\": \"rgb(255, 255, 255)\", \"family\": \"arial\"}, \"showarrow\": false}, {\"xref\": \"x\", \"yref\": \"y\", \"text\": \"<b>.2</b>\", \"align\": \"center\", \"y\": -12, \"x\": 9, \"font\": {\"color\": \"rgb(255, 255, 255)\", \"family\": \"arial\"}, \"showarrow\": false}, {\"xref\": \"x\", \"yref\": \"y\", \"text\": \"<b>.2</b>\", \"align\": \"center\", \"y\": -12, \"x\": 10, \"font\": {\"color\": \"rgb(255, 255, 255)\", \"family\": \"arial\"}, \"showarrow\": false}, {\"xref\": \"x\", \"yref\": \"y\", \"text\": \"<b>.2</b>\", \"align\": \"center\", \"y\": -12, \"x\": 11, \"font\": {\"color\": \"rgb(255, 255, 255)\", \"family\": \"arial\"}, \"showarrow\": false}, {\"xref\": \"x\", \"yref\": \"y\", \"text\": \"<b>.2</b>\", \"align\": \"center\", \"y\": -12, \"x\": 12, \"font\": {\"color\": \"rgb(255, 255, 255)\", \"family\": \"arial\"}, \"showarrow\": false}, {\"xref\": \"x\", \"yref\": \"y\", \"text\": \"<b>.2</b>\", \"align\": \"center\", \"y\": -12, \"x\": 13, \"font\": {\"color\": \"rgb(255, 255, 255)\", \"family\": \"arial\"}, \"showarrow\": false}, {\"xref\": \"x\", \"yref\": \"y\", \"text\": \"<b>.2</b>\", \"align\": \"center\", \"y\": -12, \"x\": 14, \"font\": {\"color\": \"rgb(255, 255, 255)\", \"family\": \"arial\"}, \"showarrow\": false}, {\"xref\": \"x\", \"yref\": \"y\", \"text\": \"<b>.2</b>\", \"align\": \"center\", \"y\": -12, \"x\": 15, \"font\": {\"color\": \"rgb(255, 255, 255)\", \"family\": \"arial\"}, \"showarrow\": false}, {\"xref\": \"x\", \"yref\": \"y\", \"text\": \"<b>.2</b>\", \"align\": \"center\", \"y\": -12, \"x\": 16, \"font\": {\"color\": \"rgb(255, 255, 255)\", \"family\": \"arial\"}, \"showarrow\": false}, {\"xref\": \"x\", \"yref\": \"y\", \"text\": \"<b>.2</b>\", \"align\": \"center\", \"y\": -12, \"x\": 17, \"font\": {\"color\": \"rgb(255, 255, 255)\", \"family\": \"arial\"}, \"showarrow\": false}, {\"xref\": \"x\", \"yref\": \"y\", \"text\": \"<b>.2</b>\", \"align\": \"center\", \"y\": -12, \"x\": 18, \"font\": {\"color\": \"rgb(255, 255, 255)\", \"family\": \"arial\"}, \"showarrow\": false}, {\"xref\": \"x\", \"yref\": \"y\", \"text\": \"<b>.1</b>\", \"align\": \"center\", \"y\": -12, \"x\": 19, \"font\": {\"color\": \"rgb(255, 255, 255)\", \"family\": \"arial\"}, \"showarrow\": false}, {\"xref\": \"x\", \"yref\": \"y\", \"text\": \"<b>.1</b>\", \"align\": \"center\", \"y\": -13, \"x\": 0, \"font\": {\"color\": \"rgb(255, 255, 255)\", \"family\": \"arial\"}, \"showarrow\": false}, {\"xref\": \"x\", \"yref\": \"y\", \"text\": \"<b>.1</b>\", \"align\": \"center\", \"y\": -13, \"x\": 1, \"font\": {\"color\": \"rgb(255, 255, 255)\", \"family\": \"arial\"}, \"showarrow\": false}, {\"xref\": \"x\", \"yref\": \"y\", \"text\": \"<b>.1</b>\", \"align\": \"center\", \"y\": -13, \"x\": 2, \"font\": {\"color\": \"rgb(255, 255, 255)\", \"family\": \"arial\"}, \"showarrow\": false}, {\"xref\": \"x\", \"yref\": \"y\", \"text\": \"<b>.1</b>\", \"align\": \"center\", \"y\": -13, \"x\": 3, \"font\": {\"color\": \"rgb(255, 255, 255)\", \"family\": \"arial\"}, \"showarrow\": false}, {\"xref\": \"x\", \"yref\": \"y\", \"text\": \"<b>.1</b>\", \"align\": \"center\", \"y\": -13, \"x\": 4, \"font\": {\"color\": \"rgb(255, 255, 255)\", \"family\": \"arial\"}, \"showarrow\": false}, {\"xref\": \"x\", \"yref\": \"y\", \"text\": \"<b>.1</b>\", \"align\": \"center\", \"y\": -13, \"x\": 5, \"font\": {\"color\": \"rgb(255, 255, 255)\", \"family\": \"arial\"}, \"showarrow\": false}, {\"xref\": \"x\", \"yref\": \"y\", \"text\": \"<b>.1</b>\", \"align\": \"center\", \"y\": -13, \"x\": 6, \"font\": {\"color\": \"rgb(255, 255, 255)\", \"family\": \"arial\"}, \"showarrow\": false}, {\"xref\": \"x\", \"yref\": \"y\", \"text\": \"<b>.1</b>\", \"align\": \"center\", \"y\": -13, \"x\": 7, \"font\": {\"color\": \"rgb(255, 255, 255)\", \"family\": \"arial\"}, \"showarrow\": false}, {\"xref\": \"x\", \"yref\": \"y\", \"text\": \"<b>.1</b>\", \"align\": \"center\", \"y\": -13, \"x\": 8, \"font\": {\"color\": \"rgb(255, 255, 255)\", \"family\": \"arial\"}, \"showarrow\": false}, {\"xref\": \"x\", \"yref\": \"y\", \"text\": \"<b>.1</b>\", \"align\": \"center\", \"y\": -13, \"x\": 9, \"font\": {\"color\": \"rgb(255, 255, 255)\", \"family\": \"arial\"}, \"showarrow\": false}, {\"xref\": \"x\", \"yref\": \"y\", \"text\": \"<b>.1</b>\", \"align\": \"center\", \"y\": -13, \"x\": 10, \"font\": {\"color\": \"rgb(255, 255, 255)\", \"family\": \"arial\"}, \"showarrow\": false}, {\"xref\": \"x\", \"yref\": \"y\", \"text\": \"<b>.1</b>\", \"align\": \"center\", \"y\": -13, \"x\": 11, \"font\": {\"color\": \"rgb(255, 255, 255)\", \"family\": \"arial\"}, \"showarrow\": false}, {\"xref\": \"x\", \"yref\": \"y\", \"text\": \"<b>.1</b>\", \"align\": \"center\", \"y\": -13, \"x\": 12, \"font\": {\"color\": \"rgb(255, 255, 255)\", \"family\": \"arial\"}, \"showarrow\": false}, {\"xref\": \"x\", \"yref\": \"y\", \"text\": \"<b>.1</b>\", \"align\": \"center\", \"y\": -13, \"x\": 13, \"font\": {\"color\": \"rgb(255, 255, 255)\", \"family\": \"arial\"}, \"showarrow\": false}, {\"xref\": \"x\", \"yref\": \"y\", \"text\": \"<b>.1</b>\", \"align\": \"center\", \"y\": -13, \"x\": 14, \"font\": {\"color\": \"rgb(255, 255, 255)\", \"family\": \"arial\"}, \"showarrow\": false}, {\"xref\": \"x\", \"yref\": \"y\", \"text\": \"<b>.1</b>\", \"align\": \"center\", \"y\": -13, \"x\": 15, \"font\": {\"color\": \"rgb(255, 255, 255)\", \"family\": \"arial\"}, \"showarrow\": false}, {\"xref\": \"x\", \"yref\": \"y\", \"text\": \"<b>.1</b>\", \"align\": \"center\", \"y\": -13, \"x\": 16, \"font\": {\"color\": \"rgb(255, 255, 255)\", \"family\": \"arial\"}, \"showarrow\": false}, {\"xref\": \"x\", \"yref\": \"y\", \"text\": \"<b>.1</b>\", \"align\": \"center\", \"y\": -13, \"x\": 17, \"font\": {\"color\": \"rgb(255, 255, 255)\", \"family\": \"arial\"}, \"showarrow\": false}, {\"xref\": \"x\", \"yref\": \"y\", \"text\": \"<b>.1</b>\", \"align\": \"center\", \"y\": -13, \"x\": 18, \"font\": {\"color\": \"rgb(255, 255, 255)\", \"family\": \"arial\"}, \"showarrow\": false}, {\"xref\": \"x\", \"yref\": \"y\", \"text\": \"<b>.1</b>\", \"align\": \"center\", \"y\": -13, \"x\": 19, \"font\": {\"color\": \"rgb(255, 255, 255)\", \"family\": \"arial\"}, \"showarrow\": false}, {\"xref\": \"x\", \"yref\": \"y\", \"text\": \"<b>.1</b>\", \"align\": \"center\", \"y\": -14, \"x\": 0, \"font\": {\"color\": \"rgb(255, 255, 255)\", \"family\": \"arial\"}, \"showarrow\": false}, {\"xref\": \"x\", \"yref\": \"y\", \"text\": \"<b>.1</b>\", \"align\": \"center\", \"y\": -14, \"x\": 1, \"font\": {\"color\": \"rgb(255, 255, 255)\", \"family\": \"arial\"}, \"showarrow\": false}, {\"xref\": \"x\", \"yref\": \"y\", \"text\": \"<b>.1</b>\", \"align\": \"center\", \"y\": -14, \"x\": 2, \"font\": {\"color\": \"rgb(255, 255, 255)\", \"family\": \"arial\"}, \"showarrow\": false}, {\"xref\": \"x\", \"yref\": \"y\", \"text\": \"<b>.1</b>\", \"align\": \"center\", \"y\": -14, \"x\": 3, \"font\": {\"color\": \"rgb(255, 255, 255)\", \"family\": \"arial\"}, \"showarrow\": false}, {\"xref\": \"x\", \"yref\": \"y\", \"text\": \"<b>.1</b>\", \"align\": \"center\", \"y\": -14, \"x\": 4, \"font\": {\"color\": \"rgb(255, 255, 255)\", \"family\": \"arial\"}, \"showarrow\": false}, {\"xref\": \"x\", \"yref\": \"y\", \"text\": \"<b>.1</b>\", \"align\": \"center\", \"y\": -14, \"x\": 5, \"font\": {\"color\": \"rgb(255, 255, 255)\", \"family\": \"arial\"}, \"showarrow\": false}, {\"xref\": \"x\", \"yref\": \"y\", \"text\": \"<b>.1</b>\", \"align\": \"center\", \"y\": -14, \"x\": 6, \"font\": {\"color\": \"rgb(255, 255, 255)\", \"family\": \"arial\"}, \"showarrow\": false}, {\"xref\": \"x\", \"yref\": \"y\", \"text\": \"<b>.1</b>\", \"align\": \"center\", \"y\": -14, \"x\": 7, \"font\": {\"color\": \"rgb(255, 255, 255)\", \"family\": \"arial\"}, \"showarrow\": false}, {\"xref\": \"x\", \"yref\": \"y\", \"text\": \"<b>.1</b>\", \"align\": \"center\", \"y\": -14, \"x\": 8, \"font\": {\"color\": \"rgb(255, 255, 255)\", \"family\": \"arial\"}, \"showarrow\": false}, {\"xref\": \"x\", \"yref\": \"y\", \"text\": \"<b>.1</b>\", \"align\": \"center\", \"y\": -14, \"x\": 9, \"font\": {\"color\": \"rgb(255, 255, 255)\", \"family\": \"arial\"}, \"showarrow\": false}, {\"xref\": \"x\", \"yref\": \"y\", \"text\": \"<b>.1</b>\", \"align\": \"center\", \"y\": -14, \"x\": 10, \"font\": {\"color\": \"rgb(255, 255, 255)\", \"family\": \"arial\"}, \"showarrow\": false}, {\"xref\": \"x\", \"yref\": \"y\", \"text\": \"<b>.1</b>\", \"align\": \"center\", \"y\": -14, \"x\": 11, \"font\": {\"color\": \"rgb(255, 255, 255)\", \"family\": \"arial\"}, \"showarrow\": false}, {\"xref\": \"x\", \"yref\": \"y\", \"text\": \"<b>.1</b>\", \"align\": \"center\", \"y\": -14, \"x\": 12, \"font\": {\"color\": \"rgb(255, 255, 255)\", \"family\": \"arial\"}, \"showarrow\": false}, {\"xref\": \"x\", \"yref\": \"y\", \"text\": \"<b>.1</b>\", \"align\": \"center\", \"y\": -14, \"x\": 13, \"font\": {\"color\": \"rgb(255, 255, 255)\", \"family\": \"arial\"}, \"showarrow\": false}, {\"xref\": \"x\", \"yref\": \"y\", \"text\": \"<b>.1</b>\", \"align\": \"center\", \"y\": -14, \"x\": 14, \"font\": {\"color\": \"rgb(255, 255, 255)\", \"family\": \"arial\"}, \"showarrow\": false}, {\"xref\": \"x\", \"yref\": \"y\", \"text\": \"<b>.1</b>\", \"align\": \"center\", \"y\": -14, \"x\": 15, \"font\": {\"color\": \"rgb(255, 255, 255)\", \"family\": \"arial\"}, \"showarrow\": false}, {\"xref\": \"x\", \"yref\": \"y\", \"text\": \"<b>.1</b>\", \"align\": \"center\", \"y\": -14, \"x\": 16, \"font\": {\"color\": \"rgb(255, 255, 255)\", \"family\": \"arial\"}, \"showarrow\": false}, {\"xref\": \"x\", \"yref\": \"y\", \"text\": \"<b>.1</b>\", \"align\": \"center\", \"y\": -14, \"x\": 17, \"font\": {\"color\": \"rgb(255, 255, 255)\", \"family\": \"arial\"}, \"showarrow\": false}, {\"xref\": \"x\", \"yref\": \"y\", \"text\": \"<b>.1</b>\", \"align\": \"center\", \"y\": -14, \"x\": 18, \"font\": {\"color\": \"rgb(255, 255, 255)\", \"family\": \"arial\"}, \"showarrow\": false}, {\"xref\": \"x\", \"yref\": \"y\", \"text\": \"<b>.1</b>\", \"align\": \"center\", \"y\": -14, \"x\": 19, \"font\": {\"color\": \"rgb(255, 255, 255)\", \"family\": \"arial\"}, \"showarrow\": false}, {\"xref\": \"x\", \"yref\": \"y\", \"text\": \"<b>.1</b>\", \"align\": \"center\", \"y\": -15, \"x\": 0, \"font\": {\"color\": \"rgb(255, 255, 255)\", \"family\": \"arial\"}, \"showarrow\": false}, {\"xref\": \"x\", \"yref\": \"y\", \"text\": \"<b>.1</b>\", \"align\": \"center\", \"y\": -15, \"x\": 1, \"font\": {\"color\": \"rgb(255, 255, 255)\", \"family\": \"arial\"}, \"showarrow\": false}, {\"xref\": \"x\", \"yref\": \"y\", \"text\": \"<b>.1</b>\", \"align\": \"center\", \"y\": -15, \"x\": 2, \"font\": {\"color\": \"rgb(255, 255, 255)\", \"family\": \"arial\"}, \"showarrow\": false}, {\"xref\": \"x\", \"yref\": \"y\", \"text\": \"<b>.1</b>\", \"align\": \"center\", \"y\": -15, \"x\": 3, \"font\": {\"color\": \"rgb(255, 255, 255)\", \"family\": \"arial\"}, \"showarrow\": false}, {\"xref\": \"x\", \"yref\": \"y\", \"text\": \"<b>.1</b>\", \"align\": \"center\", \"y\": -15, \"x\": 4, \"font\": {\"color\": \"rgb(255, 255, 255)\", \"family\": \"arial\"}, \"showarrow\": false}, {\"xref\": \"x\", \"yref\": \"y\", \"text\": \"<b>.1</b>\", \"align\": \"center\", \"y\": -15, \"x\": 5, \"font\": {\"color\": \"rgb(255, 255, 255)\", \"family\": \"arial\"}, \"showarrow\": false}, {\"xref\": \"x\", \"yref\": \"y\", \"text\": \"<b>.1</b>\", \"align\": \"center\", \"y\": -15, \"x\": 6, \"font\": {\"color\": \"rgb(255, 255, 255)\", \"family\": \"arial\"}, \"showarrow\": false}, {\"xref\": \"x\", \"yref\": \"y\", \"text\": \"<b>.1</b>\", \"align\": \"center\", \"y\": -15, \"x\": 7, \"font\": {\"color\": \"rgb(255, 255, 255)\", \"family\": \"arial\"}, \"showarrow\": false}, {\"xref\": \"x\", \"yref\": \"y\", \"text\": \"<b>.1</b>\", \"align\": \"center\", \"y\": -15, \"x\": 8, \"font\": {\"color\": \"rgb(255, 255, 255)\", \"family\": \"arial\"}, \"showarrow\": false}, {\"xref\": \"x\", \"yref\": \"y\", \"text\": \"<b>.1</b>\", \"align\": \"center\", \"y\": -15, \"x\": 9, \"font\": {\"color\": \"rgb(255, 255, 255)\", \"family\": \"arial\"}, \"showarrow\": false}, {\"xref\": \"x\", \"yref\": \"y\", \"text\": \"<b>.1</b>\", \"align\": \"center\", \"y\": -15, \"x\": 10, \"font\": {\"color\": \"rgb(255, 255, 255)\", \"family\": \"arial\"}, \"showarrow\": false}, {\"xref\": \"x\", \"yref\": \"y\", \"text\": \"<b>.1</b>\", \"align\": \"center\", \"y\": -15, \"x\": 11, \"font\": {\"color\": \"rgb(255, 255, 255)\", \"family\": \"arial\"}, \"showarrow\": false}, {\"xref\": \"x\", \"yref\": \"y\", \"text\": \"<b>.1</b>\", \"align\": \"center\", \"y\": -15, \"x\": 12, \"font\": {\"color\": \"rgb(255, 255, 255)\", \"family\": \"arial\"}, \"showarrow\": false}, {\"xref\": \"x\", \"yref\": \"y\", \"text\": \"<b>.1</b>\", \"align\": \"center\", \"y\": -15, \"x\": 13, \"font\": {\"color\": \"rgb(255, 255, 255)\", \"family\": \"arial\"}, \"showarrow\": false}, {\"xref\": \"x\", \"yref\": \"y\", \"text\": \"<b>.1</b>\", \"align\": \"center\", \"y\": -15, \"x\": 14, \"font\": {\"color\": \"rgb(255, 255, 255)\", \"family\": \"arial\"}, \"showarrow\": false}, {\"xref\": \"x\", \"yref\": \"y\", \"text\": \"<b>.1</b>\", \"align\": \"center\", \"y\": -15, \"x\": 15, \"font\": {\"color\": \"rgb(255, 255, 255)\", \"family\": \"arial\"}, \"showarrow\": false}, {\"xref\": \"x\", \"yref\": \"y\", \"text\": \"<b>.1</b>\", \"align\": \"center\", \"y\": -15, \"x\": 16, \"font\": {\"color\": \"rgb(255, 255, 255)\", \"family\": \"arial\"}, \"showarrow\": false}, {\"xref\": \"x\", \"yref\": \"y\", \"text\": \"<b>.1</b>\", \"align\": \"center\", \"y\": -15, \"x\": 17, \"font\": {\"color\": \"rgb(255, 255, 255)\", \"family\": \"arial\"}, \"showarrow\": false}, {\"xref\": \"x\", \"yref\": \"y\", \"text\": \"<b>.1</b>\", \"align\": \"center\", \"y\": -15, \"x\": 18, \"font\": {\"color\": \"rgb(255, 255, 255)\", \"family\": \"arial\"}, \"showarrow\": false}, {\"xref\": \"x\", \"yref\": \"y\", \"text\": \"<b>.1</b>\", \"align\": \"center\", \"y\": -15, \"x\": 19, \"font\": {\"color\": \"rgb(255, 255, 255)\", \"family\": \"arial\"}, \"showarrow\": false}, {\"xref\": \"x\", \"yref\": \"y\", \"text\": \"<b>.1</b>\", \"align\": \"center\", \"y\": -16, \"x\": 0, \"font\": {\"color\": \"rgb(255, 255, 255)\", \"family\": \"arial\"}, \"showarrow\": false}, {\"xref\": \"x\", \"yref\": \"y\", \"text\": \"<b>.1</b>\", \"align\": \"center\", \"y\": -16, \"x\": 1, \"font\": {\"color\": \"rgb(255, 255, 255)\", \"family\": \"arial\"}, \"showarrow\": false}, {\"xref\": \"x\", \"yref\": \"y\", \"text\": \"<b>.1</b>\", \"align\": \"center\", \"y\": -16, \"x\": 2, \"font\": {\"color\": \"rgb(255, 255, 255)\", \"family\": \"arial\"}, \"showarrow\": false}, {\"xref\": \"x\", \"yref\": \"y\", \"text\": \"<b>.1</b>\", \"align\": \"center\", \"y\": -16, \"x\": 3, \"font\": {\"color\": \"rgb(255, 255, 255)\", \"family\": \"arial\"}, \"showarrow\": false}, {\"xref\": \"x\", \"yref\": \"y\", \"text\": \"<b>.1</b>\", \"align\": \"center\", \"y\": -16, \"x\": 4, \"font\": {\"color\": \"rgb(255, 255, 255)\", \"family\": \"arial\"}, \"showarrow\": false}, {\"xref\": \"x\", \"yref\": \"y\", \"text\": \"<b>.1</b>\", \"align\": \"center\", \"y\": -16, \"x\": 5, \"font\": {\"color\": \"rgb(255, 255, 255)\", \"family\": \"arial\"}, \"showarrow\": false}, {\"xref\": \"x\", \"yref\": \"y\", \"text\": \"<b>.1</b>\", \"align\": \"center\", \"y\": -16, \"x\": 6, \"font\": {\"color\": \"rgb(255, 255, 255)\", \"family\": \"arial\"}, \"showarrow\": false}, {\"xref\": \"x\", \"yref\": \"y\", \"text\": \"<b>.1</b>\", \"align\": \"center\", \"y\": -16, \"x\": 7, \"font\": {\"color\": \"rgb(255, 255, 255)\", \"family\": \"arial\"}, \"showarrow\": false}, {\"xref\": \"x\", \"yref\": \"y\", \"text\": \"<b>.1</b>\", \"align\": \"center\", \"y\": -16, \"x\": 8, \"font\": {\"color\": \"rgb(255, 255, 255)\", \"family\": \"arial\"}, \"showarrow\": false}, {\"xref\": \"x\", \"yref\": \"y\", \"text\": \"<b>.1</b>\", \"align\": \"center\", \"y\": -16, \"x\": 9, \"font\": {\"color\": \"rgb(255, 255, 255)\", \"family\": \"arial\"}, \"showarrow\": false}, {\"xref\": \"x\", \"yref\": \"y\", \"text\": \"<b>.1</b>\", \"align\": \"center\", \"y\": -16, \"x\": 10, \"font\": {\"color\": \"rgb(255, 255, 255)\", \"family\": \"arial\"}, \"showarrow\": false}, {\"xref\": \"x\", \"yref\": \"y\", \"text\": \"<b>.1</b>\", \"align\": \"center\", \"y\": -16, \"x\": 11, \"font\": {\"color\": \"rgb(255, 255, 255)\", \"family\": \"arial\"}, \"showarrow\": false}, {\"xref\": \"x\", \"yref\": \"y\", \"text\": \"<b>.1</b>\", \"align\": \"center\", \"y\": -16, \"x\": 12, \"font\": {\"color\": \"rgb(255, 255, 255)\", \"family\": \"arial\"}, \"showarrow\": false}, {\"xref\": \"x\", \"yref\": \"y\", \"text\": \"<b>.1</b>\", \"align\": \"center\", \"y\": -16, \"x\": 13, \"font\": {\"color\": \"rgb(255, 255, 255)\", \"family\": \"arial\"}, \"showarrow\": false}, {\"xref\": \"x\", \"yref\": \"y\", \"text\": \"<b>.1</b>\", \"align\": \"center\", \"y\": -16, \"x\": 14, \"font\": {\"color\": \"rgb(255, 255, 255)\", \"family\": \"arial\"}, \"showarrow\": false}, {\"xref\": \"x\", \"yref\": \"y\", \"text\": \"<b>.1</b>\", \"align\": \"center\", \"y\": -16, \"x\": 15, \"font\": {\"color\": \"rgb(255, 255, 255)\", \"family\": \"arial\"}, \"showarrow\": false}, {\"xref\": \"x\", \"yref\": \"y\", \"text\": \"<b>.1</b>\", \"align\": \"center\", \"y\": -16, \"x\": 16, \"font\": {\"color\": \"rgb(255, 255, 255)\", \"family\": \"arial\"}, \"showarrow\": false}, {\"xref\": \"x\", \"yref\": \"y\", \"text\": \"<b>.1</b>\", \"align\": \"center\", \"y\": -16, \"x\": 17, \"font\": {\"color\": \"rgb(255, 255, 255)\", \"family\": \"arial\"}, \"showarrow\": false}, {\"xref\": \"x\", \"yref\": \"y\", \"text\": \"<b>.1</b>\", \"align\": \"center\", \"y\": -16, \"x\": 18, \"font\": {\"color\": \"rgb(255, 255, 255)\", \"family\": \"arial\"}, \"showarrow\": false}, {\"xref\": \"x\", \"yref\": \"y\", \"text\": \"<b>.1</b>\", \"align\": \"center\", \"y\": -16, \"x\": 19, \"font\": {\"color\": \"rgb(255, 255, 255)\", \"family\": \"arial\"}, \"showarrow\": false}, {\"xref\": \"x\", \"yref\": \"y\", \"text\": \"<b>.1</b>\", \"align\": \"center\", \"y\": -17, \"x\": 0, \"font\": {\"color\": \"rgb(255, 255, 255)\", \"family\": \"arial\"}, \"showarrow\": false}, {\"xref\": \"x\", \"yref\": \"y\", \"text\": \"<b>.1</b>\", \"align\": \"center\", \"y\": -17, \"x\": 1, \"font\": {\"color\": \"rgb(255, 255, 255)\", \"family\": \"arial\"}, \"showarrow\": false}, {\"xref\": \"x\", \"yref\": \"y\", \"text\": \"<b>.1</b>\", \"align\": \"center\", \"y\": -17, \"x\": 2, \"font\": {\"color\": \"rgb(255, 255, 255)\", \"family\": \"arial\"}, \"showarrow\": false}, {\"xref\": \"x\", \"yref\": \"y\", \"text\": \"<b>.1</b>\", \"align\": \"center\", \"y\": -17, \"x\": 3, \"font\": {\"color\": \"rgb(255, 255, 255)\", \"family\": \"arial\"}, \"showarrow\": false}, {\"xref\": \"x\", \"yref\": \"y\", \"text\": \"<b>.1</b>\", \"align\": \"center\", \"y\": -17, \"x\": 4, \"font\": {\"color\": \"rgb(255, 255, 255)\", \"family\": \"arial\"}, \"showarrow\": false}, {\"xref\": \"x\", \"yref\": \"y\", \"text\": \"<b>.0</b>\", \"align\": \"center\", \"y\": -17, \"x\": 5, \"font\": {\"color\": \"rgb(255, 255, 255)\", \"family\": \"arial\"}, \"showarrow\": false}, {\"xref\": \"x\", \"yref\": \"y\", \"text\": \"<b>.0</b>\", \"align\": \"center\", \"y\": -17, \"x\": 6, \"font\": {\"color\": \"rgb(255, 255, 255)\", \"family\": \"arial\"}, \"showarrow\": false}, {\"xref\": \"x\", \"yref\": \"y\", \"text\": \"<b>.0</b>\", \"align\": \"center\", \"y\": -17, \"x\": 7, \"font\": {\"color\": \"rgb(255, 255, 255)\", \"family\": \"arial\"}, \"showarrow\": false}, {\"xref\": \"x\", \"yref\": \"y\", \"text\": \"<b>.0</b>\", \"align\": \"center\", \"y\": -17, \"x\": 8, \"font\": {\"color\": \"rgb(255, 255, 255)\", \"family\": \"arial\"}, \"showarrow\": false}, {\"xref\": \"x\", \"yref\": \"y\", \"text\": \"<b>.0</b>\", \"align\": \"center\", \"y\": -17, \"x\": 9, \"font\": {\"color\": \"rgb(255, 255, 255)\", \"family\": \"arial\"}, \"showarrow\": false}, {\"xref\": \"x\", \"yref\": \"y\", \"text\": \"<b>.0</b>\", \"align\": \"center\", \"y\": -17, \"x\": 10, \"font\": {\"color\": \"rgb(255, 255, 255)\", \"family\": \"arial\"}, \"showarrow\": false}, {\"xref\": \"x\", \"yref\": \"y\", \"text\": \"<b>.0</b>\", \"align\": \"center\", \"y\": -17, \"x\": 11, \"font\": {\"color\": \"rgb(255, 255, 255)\", \"family\": \"arial\"}, \"showarrow\": false}, {\"xref\": \"x\", \"yref\": \"y\", \"text\": \"<b>.0</b>\", \"align\": \"center\", \"y\": -17, \"x\": 12, \"font\": {\"color\": \"rgb(255, 255, 255)\", \"family\": \"arial\"}, \"showarrow\": false}, {\"xref\": \"x\", \"yref\": \"y\", \"text\": \"<b>.0</b>\", \"align\": \"center\", \"y\": -17, \"x\": 13, \"font\": {\"color\": \"rgb(255, 255, 255)\", \"family\": \"arial\"}, \"showarrow\": false}, {\"xref\": \"x\", \"yref\": \"y\", \"text\": \"<b>.0</b>\", \"align\": \"center\", \"y\": -17, \"x\": 14, \"font\": {\"color\": \"rgb(255, 255, 255)\", \"family\": \"arial\"}, \"showarrow\": false}, {\"xref\": \"x\", \"yref\": \"y\", \"text\": \"<b>.0</b>\", \"align\": \"center\", \"y\": -17, \"x\": 15, \"font\": {\"color\": \"rgb(255, 255, 255)\", \"family\": \"arial\"}, \"showarrow\": false}, {\"xref\": \"x\", \"yref\": \"y\", \"text\": \"<b>.0</b>\", \"align\": \"center\", \"y\": -17, \"x\": 16, \"font\": {\"color\": \"rgb(255, 255, 255)\", \"family\": \"arial\"}, \"showarrow\": false}, {\"xref\": \"x\", \"yref\": \"y\", \"text\": \"<b>.0</b>\", \"align\": \"center\", \"y\": -17, \"x\": 17, \"font\": {\"color\": \"rgb(255, 255, 255)\", \"family\": \"arial\"}, \"showarrow\": false}, {\"xref\": \"x\", \"yref\": \"y\", \"text\": \"<b>.0</b>\", \"align\": \"center\", \"y\": -17, \"x\": 18, \"font\": {\"color\": \"rgb(255, 255, 255)\", \"family\": \"arial\"}, \"showarrow\": false}, {\"xref\": \"x\", \"yref\": \"y\", \"text\": \"<b>.0</b>\", \"align\": \"center\", \"y\": -17, \"x\": 19, \"font\": {\"color\": \"rgb(255, 255, 255)\", \"family\": \"arial\"}, \"showarrow\": false}, {\"xref\": \"x\", \"yref\": \"y\", \"text\": \"<b>.0</b>\", \"align\": \"center\", \"y\": -18, \"x\": 0, \"font\": {\"color\": \"rgb(255, 255, 255)\", \"family\": \"arial\"}, \"showarrow\": false}, {\"xref\": \"x\", \"yref\": \"y\", \"text\": \"<b>.0</b>\", \"align\": \"center\", \"y\": -18, \"x\": 1, \"font\": {\"color\": \"rgb(255, 255, 255)\", \"family\": \"arial\"}, \"showarrow\": false}, {\"xref\": \"x\", \"yref\": \"y\", \"text\": \"<b>.0</b>\", \"align\": \"center\", \"y\": -18, \"x\": 2, \"font\": {\"color\": \"rgb(255, 255, 255)\", \"family\": \"arial\"}, \"showarrow\": false}, {\"xref\": \"x\", \"yref\": \"y\", \"text\": \"<b>.0</b>\", \"align\": \"center\", \"y\": -18, \"x\": 3, \"font\": {\"color\": \"rgb(255, 255, 255)\", \"family\": \"arial\"}, \"showarrow\": false}, {\"xref\": \"x\", \"yref\": \"y\", \"text\": \"<b>.0</b>\", \"align\": \"center\", \"y\": -18, \"x\": 4, \"font\": {\"color\": \"rgb(255, 255, 255)\", \"family\": \"arial\"}, \"showarrow\": false}, {\"xref\": \"x\", \"yref\": \"y\", \"text\": \"<b>.0</b>\", \"align\": \"center\", \"y\": -18, \"x\": 5, \"font\": {\"color\": \"rgb(255, 255, 255)\", \"family\": \"arial\"}, \"showarrow\": false}, {\"xref\": \"x\", \"yref\": \"y\", \"text\": \"<b>.0</b>\", \"align\": \"center\", \"y\": -18, \"x\": 6, \"font\": {\"color\": \"rgb(255, 255, 255)\", \"family\": \"arial\"}, \"showarrow\": false}, {\"xref\": \"x\", \"yref\": \"y\", \"text\": \"<b>.0</b>\", \"align\": \"center\", \"y\": -18, \"x\": 7, \"font\": {\"color\": \"rgb(255, 255, 255)\", \"family\": \"arial\"}, \"showarrow\": false}, {\"xref\": \"x\", \"yref\": \"y\", \"text\": \"<b>.0</b>\", \"align\": \"center\", \"y\": -18, \"x\": 8, \"font\": {\"color\": \"rgb(255, 255, 255)\", \"family\": \"arial\"}, \"showarrow\": false}, {\"xref\": \"x\", \"yref\": \"y\", \"text\": \"<b>.0</b>\", \"align\": \"center\", \"y\": -18, \"x\": 9, \"font\": {\"color\": \"rgb(255, 255, 255)\", \"family\": \"arial\"}, \"showarrow\": false}, {\"xref\": \"x\", \"yref\": \"y\", \"text\": \"<b>.0</b>\", \"align\": \"center\", \"y\": -18, \"x\": 10, \"font\": {\"color\": \"rgb(255, 255, 255)\", \"family\": \"arial\"}, \"showarrow\": false}, {\"xref\": \"x\", \"yref\": \"y\", \"text\": \"<b>.0</b>\", \"align\": \"center\", \"y\": -18, \"x\": 11, \"font\": {\"color\": \"rgb(255, 255, 255)\", \"family\": \"arial\"}, \"showarrow\": false}, {\"xref\": \"x\", \"yref\": \"y\", \"text\": \"<b>.0</b>\", \"align\": \"center\", \"y\": -18, \"x\": 12, \"font\": {\"color\": \"rgb(255, 255, 255)\", \"family\": \"arial\"}, \"showarrow\": false}, {\"xref\": \"x\", \"yref\": \"y\", \"text\": \"<b>.0</b>\", \"align\": \"center\", \"y\": -18, \"x\": 13, \"font\": {\"color\": \"rgb(255, 255, 255)\", \"family\": \"arial\"}, \"showarrow\": false}, {\"xref\": \"x\", \"yref\": \"y\", \"text\": \"<b>.0</b>\", \"align\": \"center\", \"y\": -18, \"x\": 14, \"font\": {\"color\": \"rgb(255, 255, 255)\", \"family\": \"arial\"}, \"showarrow\": false}, {\"xref\": \"x\", \"yref\": \"y\", \"text\": \"<b>.0</b>\", \"align\": \"center\", \"y\": -18, \"x\": 15, \"font\": {\"color\": \"rgb(255, 255, 255)\", \"family\": \"arial\"}, \"showarrow\": false}, {\"xref\": \"x\", \"yref\": \"y\", \"text\": \"<b>.0</b>\", \"align\": \"center\", \"y\": -18, \"x\": 16, \"font\": {\"color\": \"rgb(255, 255, 255)\", \"family\": \"arial\"}, \"showarrow\": false}, {\"xref\": \"x\", \"yref\": \"y\", \"text\": \"<b>.0</b>\", \"align\": \"center\", \"y\": -18, \"x\": 17, \"font\": {\"color\": \"rgb(255, 255, 255)\", \"family\": \"arial\"}, \"showarrow\": false}, {\"xref\": \"x\", \"yref\": \"y\", \"text\": \"<b>.0</b>\", \"align\": \"center\", \"y\": -18, \"x\": 18, \"font\": {\"color\": \"rgb(255, 255, 255)\", \"family\": \"arial\"}, \"showarrow\": false}, {\"xref\": \"x\", \"yref\": \"y\", \"text\": \"<b>.0</b>\", \"align\": \"center\", \"y\": -18, \"x\": 19, \"font\": {\"color\": \"rgb(255, 255, 255)\", \"family\": \"arial\"}, \"showarrow\": false}, {\"xref\": \"x\", \"yref\": \"y\", \"text\": \"<b>.0</b>\", \"align\": \"center\", \"y\": -19, \"x\": 0, \"font\": {\"color\": \"rgb(255, 255, 255)\", \"family\": \"arial\"}, \"showarrow\": false}, {\"xref\": \"x\", \"yref\": \"y\", \"text\": \"<b>.0</b>\", \"align\": \"center\", \"y\": -19, \"x\": 1, \"font\": {\"color\": \"rgb(255, 255, 255)\", \"family\": \"arial\"}, \"showarrow\": false}, {\"xref\": \"x\", \"yref\": \"y\", \"text\": \"<b>.0</b>\", \"align\": \"center\", \"y\": -19, \"x\": 2, \"font\": {\"color\": \"rgb(255, 255, 255)\", \"family\": \"arial\"}, \"showarrow\": false}, {\"xref\": \"x\", \"yref\": \"y\", \"text\": \"<b>.0</b>\", \"align\": \"center\", \"y\": -19, \"x\": 3, \"font\": {\"color\": \"rgb(255, 255, 255)\", \"family\": \"arial\"}, \"showarrow\": false}, {\"xref\": \"x\", \"yref\": \"y\", \"text\": \"<b>.0</b>\", \"align\": \"center\", \"y\": -19, \"x\": 4, \"font\": {\"color\": \"rgb(255, 255, 255)\", \"family\": \"arial\"}, \"showarrow\": false}, {\"xref\": \"x\", \"yref\": \"y\", \"text\": \"<b>.0</b>\", \"align\": \"center\", \"y\": -19, \"x\": 5, \"font\": {\"color\": \"rgb(255, 255, 255)\", \"family\": \"arial\"}, \"showarrow\": false}, {\"xref\": \"x\", \"yref\": \"y\", \"text\": \"<b>.0</b>\", \"align\": \"center\", \"y\": -19, \"x\": 6, \"font\": {\"color\": \"rgb(255, 255, 255)\", \"family\": \"arial\"}, \"showarrow\": false}, {\"xref\": \"x\", \"yref\": \"y\", \"text\": \"<b>0</b>\", \"align\": \"center\", \"y\": -19, \"x\": 7, \"font\": {\"color\": \"rgb(255, 255, 255)\", \"family\": \"arial\"}, \"showarrow\": false}, {\"xref\": \"x\", \"yref\": \"y\", \"text\": \"<b>0</b>\", \"align\": \"center\", \"y\": -19, \"x\": 8, \"font\": {\"color\": \"rgb(255, 255, 255)\", \"family\": \"arial\"}, \"showarrow\": false}, {\"xref\": \"x\", \"yref\": \"y\", \"text\": \"<b>0</b>\", \"align\": \"center\", \"y\": -19, \"x\": 9, \"font\": {\"color\": \"rgb(255, 255, 255)\", \"family\": \"arial\"}, \"showarrow\": false}, {\"xref\": \"x\", \"yref\": \"y\", \"text\": \"<b>0</b>\", \"align\": \"center\", \"y\": -19, \"x\": 10, \"font\": {\"color\": \"rgb(255, 255, 255)\", \"family\": \"arial\"}, \"showarrow\": false}, {\"xref\": \"x\", \"yref\": \"y\", \"text\": \"<b>0</b>\", \"align\": \"center\", \"y\": -19, \"x\": 11, \"font\": {\"color\": \"rgb(255, 255, 255)\", \"family\": \"arial\"}, \"showarrow\": false}, {\"xref\": \"x\", \"yref\": \"y\", \"text\": \"<b>0</b>\", \"align\": \"center\", \"y\": -19, \"x\": 12, \"font\": {\"color\": \"rgb(255, 255, 255)\", \"family\": \"arial\"}, \"showarrow\": false}, {\"xref\": \"x\", \"yref\": \"y\", \"text\": \"<b>0</b>\", \"align\": \"center\", \"y\": -19, \"x\": 13, \"font\": {\"color\": \"rgb(255, 255, 255)\", \"family\": \"arial\"}, \"showarrow\": false}, {\"xref\": \"x\", \"yref\": \"y\", \"text\": \"<b>0</b>\", \"align\": \"center\", \"y\": -19, \"x\": 14, \"font\": {\"color\": \"rgb(255, 255, 255)\", \"family\": \"arial\"}, \"showarrow\": false}, {\"xref\": \"x\", \"yref\": \"y\", \"text\": \"<b>0</b>\", \"align\": \"center\", \"y\": -19, \"x\": 15, \"font\": {\"color\": \"rgb(255, 255, 255)\", \"family\": \"arial\"}, \"showarrow\": false}, {\"xref\": \"x\", \"yref\": \"y\", \"text\": \"<b>0</b>\", \"align\": \"center\", \"y\": -19, \"x\": 16, \"font\": {\"color\": \"rgb(255, 255, 255)\", \"family\": \"arial\"}, \"showarrow\": false}, {\"xref\": \"x\", \"yref\": \"y\", \"text\": \"<b>0</b>\", \"align\": \"center\", \"y\": -19, \"x\": 17, \"font\": {\"color\": \"rgb(255, 255, 255)\", \"family\": \"arial\"}, \"showarrow\": false}, {\"xref\": \"x\", \"yref\": \"y\", \"text\": \"<b>0</b>\", \"align\": \"center\", \"y\": -19, \"x\": 18, \"font\": {\"color\": \"rgb(255, 255, 255)\", \"family\": \"arial\"}, \"showarrow\": false}, {\"xref\": \"x\", \"yref\": \"y\", \"text\": \"<b>0</b>\", \"align\": \"center\", \"y\": -19, \"x\": 19, \"font\": {\"color\": \"rgb(255, 255, 255)\", \"family\": \"arial\"}, \"showarrow\": false}, {\"xref\": \"x\", \"yref\": \"y\", \"text\": \"<b>0</b>\", \"align\": \"center\", \"y\": -20, \"x\": 0, \"font\": {\"color\": \"rgb(255, 255, 255)\", \"family\": \"arial\"}, \"showarrow\": false}, {\"xref\": \"x\", \"yref\": \"y\", \"text\": \"<b>0</b>\", \"align\": \"center\", \"y\": -20, \"x\": 1, \"font\": {\"color\": \"rgb(255, 255, 255)\", \"family\": \"arial\"}, \"showarrow\": false}, {\"xref\": \"x\", \"yref\": \"y\", \"text\": \"<b>0</b>\", \"align\": \"center\", \"y\": -20, \"x\": 2, \"font\": {\"color\": \"rgb(255, 255, 255)\", \"family\": \"arial\"}, \"showarrow\": false}, {\"xref\": \"x\", \"yref\": \"y\", \"text\": \"<b>0</b>\", \"align\": \"center\", \"y\": -20, \"x\": 3, \"font\": {\"color\": \"rgb(255, 255, 255)\", \"family\": \"arial\"}, \"showarrow\": false}, {\"xref\": \"x\", \"yref\": \"y\", \"text\": \"<b>0</b>\", \"align\": \"center\", \"y\": -20, \"x\": 4, \"font\": {\"color\": \"rgb(255, 255, 255)\", \"family\": \"arial\"}, \"showarrow\": false}, {\"xref\": \"x\", \"yref\": \"y\", \"text\": \"<b>0</b>\", \"align\": \"center\", \"y\": -20, \"x\": 5, \"font\": {\"color\": \"rgb(255, 255, 255)\", \"family\": \"arial\"}, \"showarrow\": false}, {\"xref\": \"x\", \"yref\": \"y\", \"text\": \"<b>0</b>\", \"align\": \"center\", \"y\": -20, \"x\": 6, \"font\": {\"color\": \"rgb(255, 255, 255)\", \"family\": \"arial\"}, \"showarrow\": false}, {\"xref\": \"x\", \"yref\": \"y\", \"text\": \"<b>0</b>\", \"align\": \"center\", \"y\": -20, \"x\": 7, \"font\": {\"color\": \"rgb(255, 255, 255)\", \"family\": \"arial\"}, \"showarrow\": false}, {\"xref\": \"x\", \"yref\": \"y\", \"text\": \"<b>0</b>\", \"align\": \"center\", \"y\": -20, \"x\": 8, \"font\": {\"color\": \"rgb(255, 255, 255)\", \"family\": \"arial\"}, \"showarrow\": false}, {\"xref\": \"x\", \"yref\": \"y\", \"text\": \"<b>0</b>\", \"align\": \"center\", \"y\": -20, \"x\": 9, \"font\": {\"color\": \"rgb(255, 255, 255)\", \"family\": \"arial\"}, \"showarrow\": false}, {\"xref\": \"x\", \"yref\": \"y\", \"text\": \"<b>0</b>\", \"align\": \"center\", \"y\": -20, \"x\": 10, \"font\": {\"color\": \"rgb(255, 255, 255)\", \"family\": \"arial\"}, \"showarrow\": false}, {\"xref\": \"x\", \"yref\": \"y\", \"text\": \"<b>0</b>\", \"align\": \"center\", \"y\": -20, \"x\": 11, \"font\": {\"color\": \"rgb(255, 255, 255)\", \"family\": \"arial\"}, \"showarrow\": false}, {\"xref\": \"x\", \"yref\": \"y\", \"text\": \"<b>0</b>\", \"align\": \"center\", \"y\": -20, \"x\": 12, \"font\": {\"color\": \"rgb(255, 255, 255)\", \"family\": \"arial\"}, \"showarrow\": false}, {\"xref\": \"x\", \"yref\": \"y\", \"text\": \"<b>0</b>\", \"align\": \"center\", \"y\": -20, \"x\": 13, \"font\": {\"color\": \"rgb(255, 255, 255)\", \"family\": \"arial\"}, \"showarrow\": false}, {\"xref\": \"x\", \"yref\": \"y\", \"text\": \"<b>0</b>\", \"align\": \"center\", \"y\": -20, \"x\": 14, \"font\": {\"color\": \"rgb(255, 255, 255)\", \"family\": \"arial\"}, \"showarrow\": false}, {\"xref\": \"x\", \"yref\": \"y\", \"text\": \"<b>0</b>\", \"align\": \"center\", \"y\": -20, \"x\": 15, \"font\": {\"color\": \"rgb(255, 255, 255)\", \"family\": \"arial\"}, \"showarrow\": false}, {\"xref\": \"x\", \"yref\": \"y\", \"text\": \"<b>0</b>\", \"align\": \"center\", \"y\": -20, \"x\": 16, \"font\": {\"color\": \"rgb(255, 255, 255)\", \"family\": \"arial\"}, \"showarrow\": false}, {\"xref\": \"x\", \"yref\": \"y\", \"text\": \"<b>0</b>\", \"align\": \"center\", \"y\": -20, \"x\": 17, \"font\": {\"color\": \"rgb(255, 255, 255)\", \"family\": \"arial\"}, \"showarrow\": false}, {\"xref\": \"x\", \"yref\": \"y\", \"text\": \"<b>0</b>\", \"align\": \"center\", \"y\": -20, \"x\": 18, \"font\": {\"color\": \"rgb(255, 255, 255)\", \"family\": \"arial\"}, \"showarrow\": false}, {\"xref\": \"x\", \"yref\": \"y\", \"text\": \"<b>0</b>\", \"align\": \"center\", \"y\": -20, \"x\": 19, \"font\": {\"color\": \"rgb(255, 255, 255)\", \"family\": \"arial\"}, \"showarrow\": false}, {\"xref\": \"x\", \"yref\": \"y\", \"text\": \"<b>0</b>\", \"align\": \"center\", \"y\": -21, \"x\": 0, \"font\": {\"color\": \"rgb(255, 255, 255)\", \"family\": \"arial\"}, \"showarrow\": false}, {\"xref\": \"x\", \"yref\": \"y\", \"text\": \"<b>0</b>\", \"align\": \"center\", \"y\": -21, \"x\": 1, \"font\": {\"color\": \"rgb(255, 255, 255)\", \"family\": \"arial\"}, \"showarrow\": false}, {\"xref\": \"x\", \"yref\": \"y\", \"text\": \"<b>0</b>\", \"align\": \"center\", \"y\": -21, \"x\": 2, \"font\": {\"color\": \"rgb(255, 255, 255)\", \"family\": \"arial\"}, \"showarrow\": false}, {\"xref\": \"x\", \"yref\": \"y\", \"text\": \"<b>0</b>\", \"align\": \"center\", \"y\": -21, \"x\": 3, \"font\": {\"color\": \"rgb(255, 255, 255)\", \"family\": \"arial\"}, \"showarrow\": false}, {\"xref\": \"x\", \"yref\": \"y\", \"text\": \"<b>0</b>\", \"align\": \"center\", \"y\": -21, \"x\": 4, \"font\": {\"color\": \"rgb(255, 255, 255)\", \"family\": \"arial\"}, \"showarrow\": false}, {\"xref\": \"x\", \"yref\": \"y\", \"text\": \"<b>0</b>\", \"align\": \"center\", \"y\": -21, \"x\": 5, \"font\": {\"color\": \"rgb(255, 255, 255)\", \"family\": \"arial\"}, \"showarrow\": false}, {\"xref\": \"x\", \"yref\": \"y\", \"text\": \"<b>0</b>\", \"align\": \"center\", \"y\": -21, \"x\": 6, \"font\": {\"color\": \"rgb(255, 255, 255)\", \"family\": \"arial\"}, \"showarrow\": false}, {\"xref\": \"x\", \"yref\": \"y\", \"text\": \"<b>0</b>\", \"align\": \"center\", \"y\": -21, \"x\": 7, \"font\": {\"color\": \"rgb(255, 255, 255)\", \"family\": \"arial\"}, \"showarrow\": false}, {\"xref\": \"x\", \"yref\": \"y\", \"text\": \"<b>0</b>\", \"align\": \"center\", \"y\": -21, \"x\": 8, \"font\": {\"color\": \"rgb(255, 255, 255)\", \"family\": \"arial\"}, \"showarrow\": false}, {\"xref\": \"x\", \"yref\": \"y\", \"text\": \"<b>0</b>\", \"align\": \"center\", \"y\": -21, \"x\": 9, \"font\": {\"color\": \"rgb(255, 255, 255)\", \"family\": \"arial\"}, \"showarrow\": false}, {\"xref\": \"x\", \"yref\": \"y\", \"text\": \"<b>0</b>\", \"align\": \"center\", \"y\": -21, \"x\": 10, \"font\": {\"color\": \"rgb(255, 255, 255)\", \"family\": \"arial\"}, \"showarrow\": false}, {\"xref\": \"x\", \"yref\": \"y\", \"text\": \"<b>0</b>\", \"align\": \"center\", \"y\": -21, \"x\": 11, \"font\": {\"color\": \"rgb(255, 255, 255)\", \"family\": \"arial\"}, \"showarrow\": false}, {\"xref\": \"x\", \"yref\": \"y\", \"text\": \"<b>0</b>\", \"align\": \"center\", \"y\": -21, \"x\": 12, \"font\": {\"color\": \"rgb(255, 255, 255)\", \"family\": \"arial\"}, \"showarrow\": false}, {\"xref\": \"x\", \"yref\": \"y\", \"text\": \"<b>0</b>\", \"align\": \"center\", \"y\": -21, \"x\": 13, \"font\": {\"color\": \"rgb(255, 255, 255)\", \"family\": \"arial\"}, \"showarrow\": false}, {\"xref\": \"x\", \"yref\": \"y\", \"text\": \"<b>0</b>\", \"align\": \"center\", \"y\": -21, \"x\": 14, \"font\": {\"color\": \"rgb(255, 255, 255)\", \"family\": \"arial\"}, \"showarrow\": false}, {\"xref\": \"x\", \"yref\": \"y\", \"text\": \"<b>0</b>\", \"align\": \"center\", \"y\": -21, \"x\": 15, \"font\": {\"color\": \"rgb(255, 255, 255)\", \"family\": \"arial\"}, \"showarrow\": false}, {\"xref\": \"x\", \"yref\": \"y\", \"text\": \"<b>0</b>\", \"align\": \"center\", \"y\": -21, \"x\": 16, \"font\": {\"color\": \"rgb(255, 255, 255)\", \"family\": \"arial\"}, \"showarrow\": false}, {\"xref\": \"x\", \"yref\": \"y\", \"text\": \"<b>0</b>\", \"align\": \"center\", \"y\": -21, \"x\": 17, \"font\": {\"color\": \"rgb(255, 255, 255)\", \"family\": \"arial\"}, \"showarrow\": false}, {\"xref\": \"x\", \"yref\": \"y\", \"text\": \"<b>0</b>\", \"align\": \"center\", \"y\": -21, \"x\": 18, \"font\": {\"color\": \"rgb(255, 255, 255)\", \"family\": \"arial\"}, \"showarrow\": false}, {\"xref\": \"x\", \"yref\": \"y\", \"text\": \"<b>0</b>\", \"align\": \"center\", \"y\": -21, \"x\": 19, \"font\": {\"color\": \"rgb(255, 255, 255)\", \"family\": \"arial\"}, \"showarrow\": false}, {\"xref\": \"x\", \"yref\": \"y\", \"text\": \"<b>0</b>\", \"align\": \"center\", \"y\": -22, \"x\": 0, \"font\": {\"color\": \"rgb(255, 255, 255)\", \"family\": \"arial\"}, \"showarrow\": false}, {\"xref\": \"x\", \"yref\": \"y\", \"text\": \"<b>0</b>\", \"align\": \"center\", \"y\": -22, \"x\": 1, \"font\": {\"color\": \"rgb(255, 255, 255)\", \"family\": \"arial\"}, \"showarrow\": false}, {\"xref\": \"x\", \"yref\": \"y\", \"text\": \"<b>0</b>\", \"align\": \"center\", \"y\": -22, \"x\": 2, \"font\": {\"color\": \"rgb(255, 255, 255)\", \"family\": \"arial\"}, \"showarrow\": false}, {\"xref\": \"x\", \"yref\": \"y\", \"text\": \"<b>0</b>\", \"align\": \"center\", \"y\": -22, \"x\": 3, \"font\": {\"color\": \"rgb(255, 255, 255)\", \"family\": \"arial\"}, \"showarrow\": false}, {\"xref\": \"x\", \"yref\": \"y\", \"text\": \"<b>0</b>\", \"align\": \"center\", \"y\": -22, \"x\": 4, \"font\": {\"color\": \"rgb(255, 255, 255)\", \"family\": \"arial\"}, \"showarrow\": false}, {\"xref\": \"x\", \"yref\": \"y\", \"text\": \"<b>0</b>\", \"align\": \"center\", \"y\": -22, \"x\": 5, \"font\": {\"color\": \"rgb(255, 255, 255)\", \"family\": \"arial\"}, \"showarrow\": false}, {\"xref\": \"x\", \"yref\": \"y\", \"text\": \"<b>0</b>\", \"align\": \"center\", \"y\": -22, \"x\": 6, \"font\": {\"color\": \"rgb(255, 255, 255)\", \"family\": \"arial\"}, \"showarrow\": false}, {\"xref\": \"x\", \"yref\": \"y\", \"text\": \"<b>0</b>\", \"align\": \"center\", \"y\": -22, \"x\": 7, \"font\": {\"color\": \"rgb(255, 255, 255)\", \"family\": \"arial\"}, \"showarrow\": false}, {\"xref\": \"x\", \"yref\": \"y\", \"text\": \"<b>0</b>\", \"align\": \"center\", \"y\": -22, \"x\": 8, \"font\": {\"color\": \"rgb(255, 255, 255)\", \"family\": \"arial\"}, \"showarrow\": false}, {\"xref\": \"x\", \"yref\": \"y\", \"text\": \"<b>0</b>\", \"align\": \"center\", \"y\": -22, \"x\": 9, \"font\": {\"color\": \"rgb(255, 255, 255)\", \"family\": \"arial\"}, \"showarrow\": false}, {\"xref\": \"x\", \"yref\": \"y\", \"text\": \"<b>0</b>\", \"align\": \"center\", \"y\": -22, \"x\": 10, \"font\": {\"color\": \"rgb(255, 255, 255)\", \"family\": \"arial\"}, \"showarrow\": false}, {\"xref\": \"x\", \"yref\": \"y\", \"text\": \"<b>0</b>\", \"align\": \"center\", \"y\": -22, \"x\": 11, \"font\": {\"color\": \"rgb(255, 255, 255)\", \"family\": \"arial\"}, \"showarrow\": false}, {\"xref\": \"x\", \"yref\": \"y\", \"text\": \"<b>0</b>\", \"align\": \"center\", \"y\": -22, \"x\": 12, \"font\": {\"color\": \"rgb(255, 255, 255)\", \"family\": \"arial\"}, \"showarrow\": false}, {\"xref\": \"x\", \"yref\": \"y\", \"text\": \"<b>0</b>\", \"align\": \"center\", \"y\": -22, \"x\": 13, \"font\": {\"color\": \"rgb(255, 255, 255)\", \"family\": \"arial\"}, \"showarrow\": false}, {\"xref\": \"x\", \"yref\": \"y\", \"text\": \"<b>0</b>\", \"align\": \"center\", \"y\": -22, \"x\": 14, \"font\": {\"color\": \"rgb(255, 255, 255)\", \"family\": \"arial\"}, \"showarrow\": false}, {\"xref\": \"x\", \"yref\": \"y\", \"text\": \"<b>0</b>\", \"align\": \"center\", \"y\": -22, \"x\": 15, \"font\": {\"color\": \"rgb(255, 255, 255)\", \"family\": \"arial\"}, \"showarrow\": false}, {\"xref\": \"x\", \"yref\": \"y\", \"text\": \"<b>0</b>\", \"align\": \"center\", \"y\": -22, \"x\": 16, \"font\": {\"color\": \"rgb(255, 255, 255)\", \"family\": \"arial\"}, \"showarrow\": false}, {\"xref\": \"x\", \"yref\": \"y\", \"text\": \"<b>0</b>\", \"align\": \"center\", \"y\": -22, \"x\": 17, \"font\": {\"color\": \"rgb(255, 255, 255)\", \"family\": \"arial\"}, \"showarrow\": false}, {\"xref\": \"x\", \"yref\": \"y\", \"text\": \"<b>0</b>\", \"align\": \"center\", \"y\": -22, \"x\": 18, \"font\": {\"color\": \"rgb(255, 255, 255)\", \"family\": \"arial\"}, \"showarrow\": false}, {\"xref\": \"x\", \"yref\": \"y\", \"text\": \"<b>0</b>\", \"align\": \"center\", \"y\": -22, \"x\": 19, \"font\": {\"color\": \"rgb(255, 255, 255)\", \"family\": \"arial\"}, \"showarrow\": false}, {\"xref\": \"x\", \"yref\": \"y\", \"text\": \"<b>0</b>\", \"align\": \"center\", \"y\": -23, \"x\": 0, \"font\": {\"color\": \"rgb(255, 255, 255)\", \"family\": \"arial\"}, \"showarrow\": false}, {\"xref\": \"x\", \"yref\": \"y\", \"text\": \"<b>0</b>\", \"align\": \"center\", \"y\": -23, \"x\": 1, \"font\": {\"color\": \"rgb(255, 255, 255)\", \"family\": \"arial\"}, \"showarrow\": false}, {\"xref\": \"x\", \"yref\": \"y\", \"text\": \"<b>0</b>\", \"align\": \"center\", \"y\": -23, \"x\": 2, \"font\": {\"color\": \"rgb(255, 255, 255)\", \"family\": \"arial\"}, \"showarrow\": false}, {\"xref\": \"x\", \"yref\": \"y\", \"text\": \"<b>0</b>\", \"align\": \"center\", \"y\": -23, \"x\": 3, \"font\": {\"color\": \"rgb(255, 255, 255)\", \"family\": \"arial\"}, \"showarrow\": false}, {\"xref\": \"x\", \"yref\": \"y\", \"text\": \"<b>0</b>\", \"align\": \"center\", \"y\": -23, \"x\": 4, \"font\": {\"color\": \"rgb(255, 255, 255)\", \"family\": \"arial\"}, \"showarrow\": false}, {\"xref\": \"x\", \"yref\": \"y\", \"text\": \"<b>0</b>\", \"align\": \"center\", \"y\": -23, \"x\": 5, \"font\": {\"color\": \"rgb(255, 255, 255)\", \"family\": \"arial\"}, \"showarrow\": false}, {\"xref\": \"x\", \"yref\": \"y\", \"text\": \"<b>0</b>\", \"align\": \"center\", \"y\": -23, \"x\": 6, \"font\": {\"color\": \"rgb(255, 255, 255)\", \"family\": \"arial\"}, \"showarrow\": false}, {\"xref\": \"x\", \"yref\": \"y\", \"text\": \"<b>0</b>\", \"align\": \"center\", \"y\": -23, \"x\": 7, \"font\": {\"color\": \"rgb(255, 255, 255)\", \"family\": \"arial\"}, \"showarrow\": false}, {\"xref\": \"x\", \"yref\": \"y\", \"text\": \"<b>0</b>\", \"align\": \"center\", \"y\": -23, \"x\": 8, \"font\": {\"color\": \"rgb(255, 255, 255)\", \"family\": \"arial\"}, \"showarrow\": false}, {\"xref\": \"x\", \"yref\": \"y\", \"text\": \"<b>0</b>\", \"align\": \"center\", \"y\": -23, \"x\": 9, \"font\": {\"color\": \"rgb(255, 255, 255)\", \"family\": \"arial\"}, \"showarrow\": false}, {\"xref\": \"x\", \"yref\": \"y\", \"text\": \"<b>0</b>\", \"align\": \"center\", \"y\": -23, \"x\": 10, \"font\": {\"color\": \"rgb(255, 255, 255)\", \"family\": \"arial\"}, \"showarrow\": false}, {\"xref\": \"x\", \"yref\": \"y\", \"text\": \"<b>0</b>\", \"align\": \"center\", \"y\": -23, \"x\": 11, \"font\": {\"color\": \"rgb(255, 255, 255)\", \"family\": \"arial\"}, \"showarrow\": false}, {\"xref\": \"x\", \"yref\": \"y\", \"text\": \"<b>0</b>\", \"align\": \"center\", \"y\": -23, \"x\": 12, \"font\": {\"color\": \"rgb(255, 255, 255)\", \"family\": \"arial\"}, \"showarrow\": false}, {\"xref\": \"x\", \"yref\": \"y\", \"text\": \"<b>0</b>\", \"align\": \"center\", \"y\": -23, \"x\": 13, \"font\": {\"color\": \"rgb(255, 255, 255)\", \"family\": \"arial\"}, \"showarrow\": false}, {\"xref\": \"x\", \"yref\": \"y\", \"text\": \"<b>0</b>\", \"align\": \"center\", \"y\": -23, \"x\": 14, \"font\": {\"color\": \"rgb(255, 255, 255)\", \"family\": \"arial\"}, \"showarrow\": false}, {\"xref\": \"x\", \"yref\": \"y\", \"text\": \"<b>0</b>\", \"align\": \"center\", \"y\": -23, \"x\": 15, \"font\": {\"color\": \"rgb(255, 255, 255)\", \"family\": \"arial\"}, \"showarrow\": false}, {\"xref\": \"x\", \"yref\": \"y\", \"text\": \"<b>0</b>\", \"align\": \"center\", \"y\": -23, \"x\": 16, \"font\": {\"color\": \"rgb(255, 255, 255)\", \"family\": \"arial\"}, \"showarrow\": false}, {\"xref\": \"x\", \"yref\": \"y\", \"text\": \"<b>0</b>\", \"align\": \"center\", \"y\": -23, \"x\": 17, \"font\": {\"color\": \"rgb(255, 255, 255)\", \"family\": \"arial\"}, \"showarrow\": false}, {\"xref\": \"x\", \"yref\": \"y\", \"text\": \"<b>0</b>\", \"align\": \"center\", \"y\": -23, \"x\": 18, \"font\": {\"color\": \"rgb(255, 255, 255)\", \"family\": \"arial\"}, \"showarrow\": false}, {\"xref\": \"x\", \"yref\": \"y\", \"text\": \"<b>0</b>\", \"align\": \"center\", \"y\": -23, \"x\": 19, \"font\": {\"color\": \"rgb(255, 255, 255)\", \"family\": \"arial\"}, \"showarrow\": false}, {\"xref\": \"x\", \"yref\": \"y\", \"text\": \"<b>0</b>\", \"align\": \"center\", \"y\": -24, \"x\": 0, \"font\": {\"color\": \"rgb(255, 255, 255)\", \"family\": \"arial\"}, \"showarrow\": false}, {\"xref\": \"x\", \"yref\": \"y\", \"text\": \"<b>0</b>\", \"align\": \"center\", \"y\": -24, \"x\": 1, \"font\": {\"color\": \"rgb(255, 255, 255)\", \"family\": \"arial\"}, \"showarrow\": false}, {\"xref\": \"x\", \"yref\": \"y\", \"text\": \"<b>0</b>\", \"align\": \"center\", \"y\": -24, \"x\": 2, \"font\": {\"color\": \"rgb(255, 255, 255)\", \"family\": \"arial\"}, \"showarrow\": false}, {\"xref\": \"x\", \"yref\": \"y\", \"text\": \"<b>0</b>\", \"align\": \"center\", \"y\": -24, \"x\": 3, \"font\": {\"color\": \"rgb(255, 255, 255)\", \"family\": \"arial\"}, \"showarrow\": false}, {\"xref\": \"x\", \"yref\": \"y\", \"text\": \"<b>0</b>\", \"align\": \"center\", \"y\": -24, \"x\": 4, \"font\": {\"color\": \"rgb(255, 255, 255)\", \"family\": \"arial\"}, \"showarrow\": false}, {\"xref\": \"x\", \"yref\": \"y\", \"text\": \"<b>0</b>\", \"align\": \"center\", \"y\": -24, \"x\": 5, \"font\": {\"color\": \"rgb(255, 255, 255)\", \"family\": \"arial\"}, \"showarrow\": false}, {\"xref\": \"x\", \"yref\": \"y\", \"text\": \"<b>0</b>\", \"align\": \"center\", \"y\": -24, \"x\": 6, \"font\": {\"color\": \"rgb(255, 255, 255)\", \"family\": \"arial\"}, \"showarrow\": false}, {\"xref\": \"x\", \"yref\": \"y\", \"text\": \"<b>0</b>\", \"align\": \"center\", \"y\": -24, \"x\": 7, \"font\": {\"color\": \"rgb(255, 255, 255)\", \"family\": \"arial\"}, \"showarrow\": false}, {\"xref\": \"x\", \"yref\": \"y\", \"text\": \"<b>0</b>\", \"align\": \"center\", \"y\": -24, \"x\": 8, \"font\": {\"color\": \"rgb(255, 255, 255)\", \"family\": \"arial\"}, \"showarrow\": false}, {\"xref\": \"x\", \"yref\": \"y\", \"text\": \"<b>0</b>\", \"align\": \"center\", \"y\": -24, \"x\": 9, \"font\": {\"color\": \"rgb(255, 255, 255)\", \"family\": \"arial\"}, \"showarrow\": false}, {\"xref\": \"x\", \"yref\": \"y\", \"text\": \"<b>0</b>\", \"align\": \"center\", \"y\": -24, \"x\": 10, \"font\": {\"color\": \"rgb(255, 255, 255)\", \"family\": \"arial\"}, \"showarrow\": false}, {\"xref\": \"x\", \"yref\": \"y\", \"text\": \"<b>0</b>\", \"align\": \"center\", \"y\": -24, \"x\": 11, \"font\": {\"color\": \"rgb(255, 255, 255)\", \"family\": \"arial\"}, \"showarrow\": false}, {\"xref\": \"x\", \"yref\": \"y\", \"text\": \"<b>0</b>\", \"align\": \"center\", \"y\": -24, \"x\": 12, \"font\": {\"color\": \"rgb(255, 255, 255)\", \"family\": \"arial\"}, \"showarrow\": false}, {\"xref\": \"x\", \"yref\": \"y\", \"text\": \"<b>0</b>\", \"align\": \"center\", \"y\": -24, \"x\": 13, \"font\": {\"color\": \"rgb(255, 255, 255)\", \"family\": \"arial\"}, \"showarrow\": false}, {\"xref\": \"x\", \"yref\": \"y\", \"text\": \"<b>0</b>\", \"align\": \"center\", \"y\": -24, \"x\": 14, \"font\": {\"color\": \"rgb(255, 255, 255)\", \"family\": \"arial\"}, \"showarrow\": false}, {\"xref\": \"x\", \"yref\": \"y\", \"text\": \"<b>0</b>\", \"align\": \"center\", \"y\": -24, \"x\": 15, \"font\": {\"color\": \"rgb(255, 255, 255)\", \"family\": \"arial\"}, \"showarrow\": false}, {\"xref\": \"x\", \"yref\": \"y\", \"text\": \"<b>0</b>\", \"align\": \"center\", \"y\": -24, \"x\": 16, \"font\": {\"color\": \"rgb(255, 255, 255)\", \"family\": \"arial\"}, \"showarrow\": false}, {\"xref\": \"x\", \"yref\": \"y\", \"text\": \"<b>0</b>\", \"align\": \"center\", \"y\": -24, \"x\": 17, \"font\": {\"color\": \"rgb(255, 255, 255)\", \"family\": \"arial\"}, \"showarrow\": false}, {\"xref\": \"x\", \"yref\": \"y\", \"text\": \"<b>0</b>\", \"align\": \"center\", \"y\": -24, \"x\": 18, \"font\": {\"color\": \"rgb(255, 255, 255)\", \"family\": \"arial\"}, \"showarrow\": false}, {\"xref\": \"x\", \"yref\": \"y\", \"text\": \"<b>0</b>\", \"align\": \"center\", \"y\": -24, \"x\": 19, \"font\": {\"color\": \"rgb(255, 255, 255)\", \"family\": \"arial\"}, \"showarrow\": false}, {\"xref\": \"x\", \"yref\": \"y\", \"text\": \"<b>0</b>\", \"align\": \"center\", \"y\": -25, \"x\": 0, \"font\": {\"color\": \"rgb(255, 255, 255)\", \"family\": \"arial\"}, \"showarrow\": false}, {\"xref\": \"x\", \"yref\": \"y\", \"text\": \"<b>0</b>\", \"align\": \"center\", \"y\": -25, \"x\": 1, \"font\": {\"color\": \"rgb(255, 255, 255)\", \"family\": \"arial\"}, \"showarrow\": false}, {\"xref\": \"x\", \"yref\": \"y\", \"text\": \"<b>0</b>\", \"align\": \"center\", \"y\": -25, \"x\": 2, \"font\": {\"color\": \"rgb(255, 255, 255)\", \"family\": \"arial\"}, \"showarrow\": false}, {\"xref\": \"x\", \"yref\": \"y\", \"text\": \"<b>0</b>\", \"align\": \"center\", \"y\": -25, \"x\": 3, \"font\": {\"color\": \"rgb(255, 255, 255)\", \"family\": \"arial\"}, \"showarrow\": false}, {\"xref\": \"x\", \"yref\": \"y\", \"text\": \"<b>0</b>\", \"align\": \"center\", \"y\": -25, \"x\": 4, \"font\": {\"color\": \"rgb(255, 255, 255)\", \"family\": \"arial\"}, \"showarrow\": false}, {\"xref\": \"x\", \"yref\": \"y\", \"text\": \"<b>0</b>\", \"align\": \"center\", \"y\": -25, \"x\": 5, \"font\": {\"color\": \"rgb(255, 255, 255)\", \"family\": \"arial\"}, \"showarrow\": false}, {\"xref\": \"x\", \"yref\": \"y\", \"text\": \"<b>0</b>\", \"align\": \"center\", \"y\": -25, \"x\": 6, \"font\": {\"color\": \"rgb(255, 255, 255)\", \"family\": \"arial\"}, \"showarrow\": false}, {\"xref\": \"x\", \"yref\": \"y\", \"text\": \"<b>0</b>\", \"align\": \"center\", \"y\": -25, \"x\": 7, \"font\": {\"color\": \"rgb(255, 255, 255)\", \"family\": \"arial\"}, \"showarrow\": false}, {\"xref\": \"x\", \"yref\": \"y\", \"text\": \"<b>0</b>\", \"align\": \"center\", \"y\": -25, \"x\": 8, \"font\": {\"color\": \"rgb(255, 255, 255)\", \"family\": \"arial\"}, \"showarrow\": false}, {\"xref\": \"x\", \"yref\": \"y\", \"text\": \"<b>0</b>\", \"align\": \"center\", \"y\": -25, \"x\": 9, \"font\": {\"color\": \"rgb(255, 255, 255)\", \"family\": \"arial\"}, \"showarrow\": false}, {\"xref\": \"x\", \"yref\": \"y\", \"text\": \"<b>0</b>\", \"align\": \"center\", \"y\": -25, \"x\": 10, \"font\": {\"color\": \"rgb(255, 255, 255)\", \"family\": \"arial\"}, \"showarrow\": false}, {\"xref\": \"x\", \"yref\": \"y\", \"text\": \"<b>0</b>\", \"align\": \"center\", \"y\": -25, \"x\": 11, \"font\": {\"color\": \"rgb(255, 255, 255)\", \"family\": \"arial\"}, \"showarrow\": false}, {\"xref\": \"x\", \"yref\": \"y\", \"text\": \"<b>0</b>\", \"align\": \"center\", \"y\": -25, \"x\": 12, \"font\": {\"color\": \"rgb(255, 255, 255)\", \"family\": \"arial\"}, \"showarrow\": false}, {\"xref\": \"x\", \"yref\": \"y\", \"text\": \"<b>0</b>\", \"align\": \"center\", \"y\": -25, \"x\": 13, \"font\": {\"color\": \"rgb(255, 255, 255)\", \"family\": \"arial\"}, \"showarrow\": false}, {\"xref\": \"x\", \"yref\": \"y\", \"text\": \"<b>0</b>\", \"align\": \"center\", \"y\": -25, \"x\": 14, \"font\": {\"color\": \"rgb(255, 255, 255)\", \"family\": \"arial\"}, \"showarrow\": false}, {\"xref\": \"x\", \"yref\": \"y\", \"text\": \"<b>0</b>\", \"align\": \"center\", \"y\": -25, \"x\": 15, \"font\": {\"color\": \"rgb(255, 255, 255)\", \"family\": \"arial\"}, \"showarrow\": false}, {\"xref\": \"x\", \"yref\": \"y\", \"text\": \"<b>0</b>\", \"align\": \"center\", \"y\": -25, \"x\": 16, \"font\": {\"color\": \"rgb(255, 255, 255)\", \"family\": \"arial\"}, \"showarrow\": false}, {\"xref\": \"x\", \"yref\": \"y\", \"text\": \"<b>0</b>\", \"align\": \"center\", \"y\": -25, \"x\": 17, \"font\": {\"color\": \"rgb(255, 255, 255)\", \"family\": \"arial\"}, \"showarrow\": false}, {\"xref\": \"x\", \"yref\": \"y\", \"text\": \"<b>0</b>\", \"align\": \"center\", \"y\": -25, \"x\": 18, \"font\": {\"color\": \"rgb(255, 255, 255)\", \"family\": \"arial\"}, \"showarrow\": false}, {\"xref\": \"x\", \"yref\": \"y\", \"text\": \"<b>0</b>\", \"align\": \"center\", \"y\": -25, \"x\": 19, \"font\": {\"color\": \"rgb(255, 255, 255)\", \"family\": \"arial\"}, \"showarrow\": false}, {\"xref\": \"x\", \"yref\": \"y\", \"text\": \"<b>0</b>\", \"align\": \"center\", \"y\": -26, \"x\": 0, \"font\": {\"color\": \"rgb(255, 255, 255)\", \"family\": \"arial\"}, \"showarrow\": false}, {\"xref\": \"x\", \"yref\": \"y\", \"text\": \"<b>0</b>\", \"align\": \"center\", \"y\": -26, \"x\": 1, \"font\": {\"color\": \"rgb(255, 255, 255)\", \"family\": \"arial\"}, \"showarrow\": false}, {\"xref\": \"x\", \"yref\": \"y\", \"text\": \"<b>0</b>\", \"align\": \"center\", \"y\": -26, \"x\": 2, \"font\": {\"color\": \"rgb(255, 255, 255)\", \"family\": \"arial\"}, \"showarrow\": false}, {\"xref\": \"x\", \"yref\": \"y\", \"text\": \"<i>\\u2190 Lower</i>\", \"textangle\": -90, \"y\": -25.5, \"x\": -0.75, \"font\": {\"color\": \"rgb(160, 160, 160)\", \"family\": \"arial\", \"size\": 14}, \"showarrow\": false}, {\"xref\": \"x\", \"yref\": \"y\", \"text\": \"<i>Higher \\u2192</i>\", \"textangle\": -90, \"y\": -0.5, \"x\": -0.75, \"font\": {\"color\": \"rgb(160, 160, 160)\", \"family\": \"arial\", \"size\": 14}, \"showarrow\": false}, {\"xref\": \"x\", \"yref\": \"y\", \"text\": \"<b>Percent of Congress Members'<br>Tweets That Relate to DACA</b>\", \"y\": 2.5, \"x\": 9.5, \"font\": {\"color\": \"rgb(102, 102, 102)\", \"family\": \"arial\", \"size\": 32}, \"showarrow\": false}, {\"yanchor\": \"center\", \"xref\": \"x\", \"xanchor\": \"right\", \"yref\": \"y\", \"text\": \"<i>Tweets collected alphabetically by username on 2018/01/15 - 2018/01/17.<br>Tweets relate to DACA if they include 'daca' or 'dreamers'.</i>\", \"align\": \"right\", \"y\": -26, \"x\": 19.5, \"font\": {\"color\": \"rgb(160, 160, 160)\", \"family\": \"arial\", \"size\": 12}, \"showarrow\": false}]}, {\"linkText\": \"Export to plot.ly\", \"showLink\": true})});</script>"
      ],
      "text/vnd.plotly.v1+html": [
       "<div id=\"7eec153f-1be0-4a78-b2e7-e9365afd034e\" style=\"height: 1300px; width: 100%;\" class=\"plotly-graph-div\"></div><script type=\"text/javascript\">require([\"plotly\"], function(Plotly) { window.PLOTLYENV=window.PLOTLYENV || {};window.PLOTLYENV.BASE_URL=\"https://plot.ly\";Plotly.newPlot(\"7eec153f-1be0-4a78-b2e7-e9365afd034e\", [{\"text\": [\"<b>Richard Durbin (D-IL)</b><br><i>@SenatorDurbin</i><br><b>12.57% (408 / 3247)</b>\", \"<b>Jimmy Gomez (D-CA)</b><br><i>@RepJimmyGomez</i><br><b>10.17% (66 / 649)</b>\", \"<b>Adriano Espaillat (D-NY)</b><br><i>@RepEspaillat</i><br><b>9.82% (314 / 3197)</b>\", \"<b>Catherine Cortez Masto (D-NV)</b><br><i>@sencortezmasto</i><br><b>9.53% (227 / 2382)</b>\", \"<b>J. Correa (D-CA)</b><br><i>@RepLouCorrea</i><br><b>8.30% (20 / 241)</b>\", \"<b>Vicente Gonzalez (D-TX)</b><br><i>@RepGonzalez</i><br><b>7.57% (29 / 383)</b>\", \"<b>Nanette Barrag\\u00e1n (D-CA)</b><br><i>@RepBarragan</i><br><b>7.15% (121 / 1693)</b>\", \"<b>Steny Hoyer (D-MD)</b><br><i>@WhipHoyer</i><br><b>7.11% (229 / 3220)</b>\", \"<b>Robert Menendez (D-NJ)</b><br><i>@SenatorMenendez</i><br><b>6.51% (211 / 3241)</b>\", \"<b>Pramila Jayapal (D-WA)</b><br><i>@RepJayapal</i><br><b>6.51% (209 / 3212)</b>\", \"<b>Ruben Kihuen (D-NV)</b><br><i>@RepKihuen</i><br><b>6.02% (141 / 2343)</b>\", \"<b>Juan Vargas (D-CA)</b><br><i>@RepJuanVargas</i><br><b>5.33% (90 / 1690)</b>\", \"<b>Lucille Roybal-Allard (D-CA)</b><br><i>@RepRoybalAllard</i><br><b>4.97% (159 / 3200)</b>\", \"<b>Jacky Rosen (D-NV)</b><br><i>@RepJackyRosen</i><br><b>4.88% (73 / 1495)</b>\", \"<b>Martin Heinrich (D-NM)</b><br><i>@MartinHeinrich</i><br><b>4.75% (153 / 3218)</b>\", \"<b>Ruben Gallego (D-AZ)</b><br><i>@RepRubenGallego</i><br><b>4.17% (133 / 3187)</b>\", \"<b>Darren Soto (D-FL)</b><br><i>@RepDarrenSoto</i><br><b>4.07% (47 / 1155)</b>\", \"<b>Joaqu\\u00edn Castro (D-TX)</b><br><i>@JoaquinCastrotx</i><br><b>4.05% (130 / 3208)</b>\", \"<b>Pete Aguilar (D-CA)</b><br><i>@reppeteaguilar</i><br><b>3.81% (47 / 1235)</b>\", \"<b>Joseph Crowley (D-NY)</b><br><i>@RepJoeCrowley</i><br><b>3.80% (122 / 3211)</b>\", \"<b>Kamala Harris (D-CA)</b><br><i>@SenKamalaHarris</i><br><b>3.80% (64 / 1685)</b>\", \"<b>Salud Carbajal (D-CA)</b><br><i>@RepCarbajal</i><br><b>3.59% (22 / 612)</b>\", \"<b>Nancy Pelosi (D-CA)</b><br><i>@NancyPelosi</i><br><b>3.58% (116 / 3239)</b>\", \"<b>Jimmy Panetta (D-CA)</b><br><i>@RepJimmyPanetta</i><br><b>3.58% (33 / 923)</b>\", \"<b>Nydia Vel\\u00e1zquez (D-NY)</b><br><i>@NydiaVelazquez</i><br><b>3.46% (112 / 3241)</b>\", \"<b>Dianne Feinstein (D-CA)</b><br><i>@SenFeinstein</i><br><b>3.39% (110 / 3241)</b>\", \"<b>Michelle Lujan Grisham (D-NM)</b><br><i>@RepLujanGrisham</i><br><b>3.31% (107 / 3236)</b>\", \"<b>Ra\\u00fal Grijalva (D-AZ)</b><br><i>@RepraulGrijalva</i><br><b>3.30% (107 / 3241)</b>\", \"<b>Donald Beyer (D-VA)</b><br><i>@repdonbeyer</i><br><b>3.23% (104 / 3220)</b>\", \"<b>Grace Napolitano (D-CA)</b><br><i>@GraceNapolitano</i><br><b>3.03% (58 / 1914)</b>\", \"<b>Zoe Lofgren (D-CA)</b><br><i>@RepZoeLofgren</i><br><b>2.90% (59 / 2035)</b>\", \"<b>Judy Chu (D-CA)</b><br><i>@RepJudyChu</i><br><b>2.78% (89 / 3202)</b>\", \"<b>Charles Schumer (D-NY)</b><br><i>@SenSchumer</i><br><b>2.64% (85 / 3223)</b>\", \"<b>Dina Titus (D-NV)</b><br><i>@RepDinaTitus</i><br><b>2.63% (84 / 3198)</b>\", \"<b>Ro Khanna (D-CA)</b><br><i>@RepRoKhanna</i><br><b>2.58% (76 / 2950)</b>\", \"<b>Lloyd Doggett (D-TX)</b><br><i>@RepLloydDoggett</i><br><b>2.56% (82 / 3209)</b>\", \"<b>Anthony Brown (D-MD)</b><br><i>@RepAnthonyBrown</i><br><b>2.37% (24 / 1011)</b>\", \"<b>Dwight Evans (D-PA)</b><br><i>@RepDwightEvans</i><br><b>2.32% (75 / 3235)</b>\", \"<b>Gene Green (D-TX)</b><br><i>@RepGeneGreen</i><br><b>2.32% (51 / 2202)</b>\", \"<b>Marc Veasey (D-TX)</b><br><i>@RepVeasey</i><br><b>2.28% (63 / 2761)</b>\", \"<b>Richard Blumenthal (D-CT)</b><br><i>@SenBlumenthal</i><br><b>2.19% (71 / 3237)</b>\", \"<b>Keith Ellison (D-MN)</b><br><i>@KeithEllison</i><br><b>2.18% (70 / 3218)</b>\", \"<b>Raja Krishnamoorthi (D-IL)</b><br><i>@congressmanraja</i><br><b>2.16% (43 / 1991)</b>\", \"<b>Lisa Blunt Rochester (D-DE)</b><br><i>@RepBRochester</i><br><b>2.15% (7 / 326)</b>\", \"<b>Patty Murray (D-WA)</b><br><i>@PattyMurray</i><br><b>2.12% (68 / 3205)</b>\", \"<b>Mike Quigley (D-IL)</b><br><i>@RepMikeQuigley</i><br><b>2.07% (67 / 3231)</b>\", \"<b>Ben Luj\\u00e1n (D-NM)</b><br><i>@RepBenRayLujan</i><br><b>2.07% (33 / 1595)</b>\", \"<b>Thomas Suozzi (D-NY)</b><br><i>@RepTomSuozzi</i><br><b>2.01% (8 / 399)</b>\", \"<b>Norma Torres (D-CA)</b><br><i>@NormaJTorres</i><br><b>1.94% (62 / 3203)</b>\", \"<b>Michael Bennet (D-CO)</b><br><i>@SenBennetCo</i><br><b>1.91% (48 / 2507)</b>\", \"<b>Maria Cantwell (D-WA)</b><br><i>@SenatorCantwell</i><br><b>1.85% (60 / 3240)</b>\", \"<b>Jeff Merkley (D-OR)</b><br><i>@SenJeffMerkley</i><br><b>1.84% (59 / 3212)</b>\", \"<b>Jim Costa (D-CA)</b><br><i>@RepJimCosta</i><br><b>1.83% (29 / 1582)</b>\", \"<b>Hank Johnson (D-GA)</b><br><i>@RepHankJohnson</i><br><b>1.81% (58 / 3200)</b>\", \"<b>Scott Peters (D-CA)</b><br><i>@RepScottPeters</i><br><b>1.81% (58 / 3203)</b>\", \"<b>Linda S\\u00e1nchez (D-CA)</b><br><i>@RepLindaSanchez</i><br><b>1.79% (45 / 2512)</b>\", \"<b>Patrick Leahy (D-VT)</b><br><i>@SenatorLeahy</i><br><b>1.77% (57 / 3213)</b>\", \"<b>Alma Adams (D-NC)</b><br><i>@RepAdams</i><br><b>1.74% (56 / 3219)</b>\", \"<b>A. McEachin (D-VA)</b><br><i>@RepMcEachin</i><br><b>1.67% (24 / 1441)</b>\", \"<b>Bennie Thompson (D-MS)</b><br><i>@BennieGThompson</i><br><b>1.67% (20 / 1201)</b>\", \"<b>Diana DeGette (D-CO)</b><br><i>@RepDianaDeGette</i><br><b>1.65% (53 / 3208)</b>\", \"<b>Yvette Clarke (D-NY)</b><br><i>@RepYvetteClarke</i><br><b>1.61% (52 / 3228)</b>\", \"<b>Tim Walz (D-MN)</b><br><i>@RepTimWalz</i><br><b>1.58% (48 / 3043)</b>\", \"<b>Tom Udall (D-NM)</b><br><i>@SenatorTomUdall</i><br><b>1.55% (50 / 3234)</b>\", \"<b>Carolyn Maloney (D-NY)</b><br><i>@RepMaloney</i><br><b>1.54% (50 / 3238)</b>\", \"<b>Bonnie Watson Coleman (D-NJ)</b><br><i>@RepBonnie</i><br><b>1.52% (49 / 3214)</b>\", \"<b>Jamie Raskin (D-MD)</b><br><i>@repraskin</i><br><b>1.46% (47 / 3215)</b>\", \"<b>Tammy Duckworth (D-IL)</b><br><i>@SenDuckworth</i><br><b>1.45% (47 / 3232)</b>\", \"<b>Val Demings (D-FL)</b><br><i>@RepValDemings</i><br><b>1.44% (18 / 1246)</b>\", \"<b>Colleen Hanabusa (D-HI)</b><br><i>@RepHanabusa</i><br><b>1.41% (23 / 1632)</b>\", \"<b>Mazie Hirono (D-HI)</b><br><i>@MazieHirono</i><br><b>1.39% (45 / 3229)</b>\", \"<b>Adam Smith (D-WA)</b><br><i>@RepAdamSmith</i><br><b>1.39% (35 / 2512)</b>\", \"<b>Frank Pallone (D-NJ)</b><br><i>@FrankPallone</i><br><b>1.37% (44 / 3206)</b>\", \"<b>Bill Foster (D-IL)</b><br><i>@RepBillFoster</i><br><b>1.34% (34 / 2544)</b>\", \"<b>Jan Schakowsky (D-IL)</b><br><i>@JanSchakowsky</i><br><b>1.33% (43 / 3244)</b>\", \"<b>Brad Schneider (D-IL)</b><br><i>@repschneider</i><br><b>1.20% (29 / 2413)</b>\", \"<b>Ted Lieu (D-CA)</b><br><i>@RepTedLieu</i><br><b>1.19% (38 / 3190)</b>\", \"<b>Al Green (D-TX)</b><br><i>@RepAlGreen</i><br><b>1.16% (17 / 1463)</b>\", \"<b>Frederica Wilson (D-FL)</b><br><i>@RepWilson</i><br><b>1.15% (37 / 3213)</b>\", \"<b>Benjamin Cardin (D-MD)</b><br><i>@SenatorCardin</i><br><b>1.14% (37 / 3236)</b>\", \"<b>Thomas Carper (D-DE)</b><br><i>@SenatorCarper</i><br><b>1.14% (37 / 3244)</b>\", \"<b>Sheldon Whitehouse (D-RI)</b><br><i>@SenWhitehouse</i><br><b>1.14% (37 / 3246)</b>\", \"<b>Ron Wyden (D-OR)</b><br><i>@RonWyden</i><br><b>1.11% (36 / 3238)</b>\", \"<b>Tony C\\u00e1rdenas (D-CA)</b><br><i>@RepCardenas</i><br><b>1.09% (35 / 3200)</b>\", \"<b>Beto O'Rourke (D-TX)</b><br><i>@RepBetoORourke</i><br><b>1.09% (35 / 3201)</b>\", \"<b>Kirsten Gillibrand (D-NY)</b><br><i>@SenGillibrand</i><br><b>1.09% (35 / 3215)</b>\", \"<b>Edward Markey (D-MA)</b><br><i>@SenMarkey</i><br><b>1.08% (35 / 3227)</b>\", \"<b>Alan Lowenthal (D-CA)</b><br><i>@RepLowenthal</i><br><b>1.07% (32 / 2980)</b>\", \"<b>Mark Pocan (D-WI)</b><br><i>@RepMarkPocan</i><br><b>1.02% (33 / 3220)</b>\", \"<b>John Conyers (D-MI)</b><br><i>@RepJohnConyers</i><br><b>1.00% (32 / 3200)</b>\", \"<b>Dan Kildee (D-MI)</b><br><i>@RepDanKildee</i><br><b>0.99% (32 / 3218)</b>\", \"<b>Alcee Hastings (D-FL)</b><br><i>@RepHastingsFL</i><br><b>0.97% (9 / 927)</b>\", \"<b>Paul Tonko (D-NY)</b><br><i>@RepPaulTonko</i><br><b>0.97% (31 / 3196)</b>\", \"<b>Sheila Jackson Lee (D-TX)</b><br><i>@JacksonLeeTX18</i><br><b>0.96% (31 / 3224)</b>\", \"<b>Cory Booker (D-NJ)</b><br><i>@CoryBooker</i><br><b>0.96% (31 / 3233)</b>\", \"<b>Katherine Clark (D-MA)</b><br><i>@RepKClark</i><br><b>0.94% (30 / 3208)</b>\", \"<b>Gerald Connolly (D-VA)</b><br><i>@GerryConnolly</i><br><b>0.93% (30 / 3222)</b>\", \"<b>Mark Takano (D-CA)</b><br><i>@RepMarkTakano</i><br><b>0.93% (22 / 2367)</b>\", \"<b>Brenda Lawrence (D-MI)</b><br><i>@RepLawrence</i><br><b>0.87% (28 / 3213)</b>\", \"<b>Mark Warner (D-VA)</b><br><i>@MarkWarner</i><br><b>0.87% (28 / 3227)</b>\", \"<b>Josh Gottheimer (D-NJ)</b><br><i>@RepJoshG</i><br><b>0.85% (9 / 1055)</b>\", \"<b>Doris Matsui (D-CA)</b><br><i>@DorisMatsui</i><br><b>0.85% (22 / 2582)</b>\", \"<b>Tom O'Halleran (D-AZ)</b><br><i>@repohalleran</i><br><b>0.84% (12 / 1423)</b>\", \"<b>Chris Van Hollen (D-MD)</b><br><i>@ChrisVanHollen</i><br><b>0.84% (27 / 3233)</b>\", \"<b>Suzanne Bonamici (D-OR)</b><br><i>@RepBonamici</i><br><b>0.83% (21 / 2538)</b>\", \"<b>David Cicilline (D-RI)</b><br><i>@RepCicilline</i><br><b>0.81% (26 / 3200)</b>\", \"<b>Filemon Vela (D-TX)</b><br><i>@RepFilemonVela</i><br><b>0.81% (10 / 1237)</b>\", \"<b>Jim McGovern (D-MA)</b><br><i>@RepMcGovern</i><br><b>0.81% (26 / 3219)</b>\", \"<b>Lois Frankel (D-FL)</b><br><i>@RepLoisFrankel</i><br><b>0.80% (26 / 3249)</b>\", \"<b>David Price (D-NC)</b><br><i>@RepDavidEPrice</i><br><b>0.79% (25 / 3162)</b>\", \"<b>Julia Brownley (D-CA)</b><br><i>@JuliaBrownley26</i><br><b>0.78% (20 / 2558)</b>\", \"<b>Christopher Murphy (D-CT)</b><br><i>@ChrisMurphyCT</i><br><b>0.77% (25 / 3249)</b>\", \"<b>Elizabeth Warren (D-MA)</b><br><i>@SenWarren</i><br><b>0.75% (21 / 2796)</b>\", \"<b>Ed Perlmutter (D-CO)</b><br><i>@RepPerlmutter</i><br><b>0.75% (24 / 3200)</b>\", \"<b>Jos\\u00e9 Serrano (D-NY)</b><br><i>@RepJoseSerrano</i><br><b>0.75% (24 / 3210)</b>\", \"<b>Emanuel Cleaver (D-MO)</b><br><i>@RepCleaver</i><br><b>0.74% (24 / 3230)</b>\", \"<b>Suzan DelBene (D-WA)</b><br><i>@RepDelBene</i><br><b>0.74% (24 / 3237)</b>\", \"<b>Michael Capuano (D-MA)</b><br><i>@RepMikeCapuano</i><br><b>0.74% (2 / 270)</b>\", \"<b>Stephanie Murphy (D-FL)</b><br><i>@RepStephMurphy</i><br><b>0.72% (8 / 1110)</b>\", \"<b>G. Butterfield (D-NC)</b><br><i>@GKButterfield</i><br><b>0.71% (23 / 3217)</b>\", \"<b>Barbara Lee (D-CA)</b><br><i>@RepBarbaraLee</i><br><b>0.71% (23 / 3232)</b>\", \"<b>Eric Swalwell (D-CA)</b><br><i>@RepSwalwell</i><br><b>0.71% (23 / 3244)</b>\", \"<b>Al Franken (D-MN)</b><br><i>@SenFranken</i><br><b>0.68% (22 / 3220)</b>\", \"<b>Louise Slaughter (D-NY)</b><br><i>@LouiseSlaughter</i><br><b>0.68% (22 / 3223)</b>\", \"<b>Nita Lowey (D-NY)</b><br><i>@NitaLowey</i><br><b>0.68% (18 / 2662)</b>\", \"<b>Raul Ruiz (D-CA)</b><br><i>@CongressmanRuiz</i><br><b>0.66% (6 / 913)</b>\", \"<b>Rick Larsen (D-WA)</b><br><i>@RepRickLarsen</i><br><b>0.65% (21 / 3217)</b>\", \"<b>Grace Meng (D-NY)</b><br><i>@RepGraceMeng</i><br><b>0.65% (21 / 3228)</b>\", \"<b>Daniel Lipinski (D-IL)</b><br><i>@RepLipinski</i><br><b>0.65% (13 / 2008)</b>\", \"<b>Eliot Engel (D-NY)</b><br><i>@RepEliotEngel</i><br><b>0.65% (21 / 3246)</b>\", \"<b>Anna Eshoo (D-CA)</b><br><i>@RepAnnaEshoo</i><br><b>0.63% (12 / 1907)</b>\", \"<b>Donald Payne (D-NJ)</b><br><i>@RepDonaldPayne</i><br><b>0.62% (20 / 3209)</b>\", \"<b>Jared Polis (D-CO)</b><br><i>@JaredPolis</i><br><b>0.62% (20 / 3243)</b>\", \"<b>Charlie Crist (D-FL)</b><br><i>@repcharliecrist</i><br><b>0.61% (8 / 1301)</b>\", \"<b>Bill Nelson (D-FL)</b><br><i>@SenBillNelson</i><br><b>0.60% (5 / 829)</b>\", \"<b>Eddie Johnson (D-TX)</b><br><i>@RepEBJ</i><br><b>0.59% (19 / 3196)</b>\", \"<b>Tammy Baldwin (D-WI)</b><br><i>@SenatorBaldwin</i><br><b>0.59% (19 / 3198)</b>\", \"<b>Gwen Moore (D-WI)</b><br><i>@RepGwenMoore</i><br><b>0.59% (19 / 3200)</b>\", \"<b>Ted Deutch (D-FL)</b><br><i>@RepTedDeutch</i><br><b>0.59% (19 / 3216)</b>\", \"<b>Robert Scott (D-VA)</b><br><i>@BobbyScott</i><br><b>0.56% (18 / 3227)</b>\", \"<b>Jared Huffman (D-CA)</b><br><i>@RepHuffman</i><br><b>0.56% (11 / 1977)</b>\", \"<b>Adam Schiff (D-CA)</b><br><i>@RepAdamSchiff</i><br><b>0.56% (18 / 3239)</b>\", \"<b>Susan Davis (D-CA)</b><br><i>@RepSusanDavis</i><br><b>0.56% (10 / 1801)</b>\", \"<b>Denny Heck (D-WA)</b><br><i>@RepDennyHeck</i><br><b>0.55% (17 / 3103)</b>\", \"<b>John Garamendi (D-CA)</b><br><i>@RepGaramendi</i><br><b>0.53% (17 / 3198)</b>\", \"<b>Kurt Schrader (D-OR)</b><br><i>@RepSchrader</i><br><b>0.53% (11 / 2074)</b>\", \"<b>Bob Casey (D-PA)</b><br><i>@SenBobCasey</i><br><b>0.53% (17 / 3212)</b>\", \"<b>Jerrold Nadler (D-NY)</b><br><i>@RepJerryNadler</i><br><b>0.53% (17 / 3238)</b>\", \"<b>Chellie Pingree (D-ME)</b><br><i>@ChelliePingree</i><br><b>0.52% (17 / 3249)</b>\", \"<b>Peter Welch (D-VT)</b><br><i>@PeterWelch</i><br><b>0.52% (9 / 1724)</b>\", \"<b>Jim Cooper (D-TN)</b><br><i>@RepJimCooper</i><br><b>0.52% (13 / 2495)</b>\", \"<b>Brad Sherman (D-CA)</b><br><i>@BradSherman</i><br><b>0.52% (7 / 1347)</b>\", \"<b>Al Lawson (D-FL)</b><br><i>@RepAlLawsonJr</i><br><b>0.52% (2 / 388)</b>\", \"<b>Mark DeSaulnier (D-CA)</b><br><i>@RepDeSaulnier</i><br><b>0.51% (9 / 1751)</b>\", \"<b>Elizabeth Esty (D-CT)</b><br><i>@RepEsty</i><br><b>0.50% (16 / 3209)</b>\", \"<b>John Yarmuth (D-KY)</b><br><i>@RepJohnYarmuth</i><br><b>0.50% (15 / 3013)</b>\", \"<b>Albio Sires (D-NJ)</b><br><i>@RepSires</i><br><b>0.47% (11 / 2332)</b>\", \"<b>Karen Bass (D-CA)</b><br><i>@RepKarenBass</i><br><b>0.47% (15 / 3193)</b>\", \"<b>Marcia Fudge (D-OH)</b><br><i>@RepMarciaFudge</i><br><b>0.47% (15 / 3204)</b>\", \"<b>Mike Thompson (D-CA)</b><br><i>@RepThompson</i><br><b>0.47% (15 / 3213)</b>\", \"<b>Jim Himes (D-CT)</b><br><i>@JAHimes</i><br><b>0.47% (15 / 3217)</b>\", \"<b>Joe Courtney (D-CT)</b><br><i>@RepJoeCourtney</i><br><b>0.47% (15 / 3224)</b>\", \"<b>Debbie Wasserman Schultz (D-FL)</b><br><i>@RepDWStweets</i><br><b>0.45% (14 / 3127)</b>\", \"<b>Betty McCollum (D-MN)</b><br><i>@BettyMcCollum04</i><br><b>0.44% (14 / 3214)</b>\", \"<b>Andr\\u00e9 Carson (D-IN)</b><br><i>@RepAndreCarson</i><br><b>0.43% (14 / 3237)</b>\", \"<b>Bill Pascrell (D-NJ)</b><br><i>@BillPascrell</i><br><b>0.42% (11 / 2649)</b>\", \"<b>Tulsi Gabbard (D-HI)</b><br><i>@TulsiPress</i><br><b>0.41% (13 / 3173)</b>\", \"<b>Niki Tsongas (D-MA)</b><br><i>@NikiInTheHouse</i><br><b>0.40% (13 / 3215)</b>\", \"<b>Kathy Castor (D-FL)</b><br><i>@USRepKCastor</i><br><b>0.37% (12 / 3202)</b>\", \"<b>Joseph Kennedy (D-MA)</b><br><i>@RepJoeKennedy</i><br><b>0.37% (12 / 3212)</b>\", \"<b>Tim Ryan (D-OH)</b><br><i>@RepTimRyan</i><br><b>0.37% (12 / 3218)</b>\", \"<b>Margaret Hassan (D-NH)</b><br><i>@Senatorhassan</i><br><b>0.37% (12 / 3230)</b>\", \"<b>Terri Sewell (D-AL)</b><br><i>@RepTerriSewell</i><br><b>0.37% (12 / 3239)</b>\", \"<b>Bobby Rush (D-IL)</b><br><i>@RepBobbyRush</i><br><b>0.37% (4 / 1090)</b>\", \"<b>Cedric Richmond (D-LA)</b><br><i>@RepRichmond</i><br><b>0.36% (8 / 2229)</b>\", \"<b>Sander Levin (D-MI)</b><br><i>@RepSandyLevin</i><br><b>0.36% (11 / 3065)</b>\", \"<b>Jeanne Shaheen (D-NH)</b><br><i>@SenatorShaheen</i><br><b>0.34% (11 / 3207)</b>\", \"<b>Rosa DeLauro (D-CT)</b><br><i>@RosaDeLauro</i><br><b>0.34% (11 / 3208)</b>\", \"<b>Sean Maloney (D-NY)</b><br><i>@RepSeanMaloney</i><br><b>0.34% (11 / 3216)</b>\", \"<b>Elijah Cummings (D-MD)</b><br><i>@RepCummings</i><br><b>0.34% (11 / 3233)</b>\", \"<b>Jim Langevin (D-RI)</b><br><i>@JimLangevin</i><br><b>0.34% (11 / 3248)</b>\", \"<b>C.A. Dutch Ruppersberger (D-MD)</b><br><i>@Call_Me_Dutch</i><br><b>0.32% (9 / 2775)</b>\", \"<b>Bill Keating (D-MA)</b><br><i>@USRepKeating</i><br><b>0.32% (4 / 1237)</b>\", \"<b>Robin Kelly (D-IL)</b><br><i>@RepRobinKelly</i><br><b>0.32% (9 / 2791)</b>\", \"<b>Jerry McNerney (D-CA)</b><br><i>@RepMcNerney</i><br><b>0.32% (6 / 1876)</b>\", \"<b>Debbie Dingell (D-MI)</b><br><i>@RepDebDingell</i><br><b>0.31% (6 / 1937)</b>\", \"<b>Henry Cuellar (D-TX)</b><br><i>@RepCuellar</i><br><b>0.31% (10 / 3232)</b>\", \"<b>John Larson (D-CT)</b><br><i>@RepJohnLarson</i><br><b>0.30% (8 / 2635)</b>\", \"<b>Robert Brady (D-PA)</b><br><i>@RepBrady</i><br><b>0.28% (2 / 710)</b>\", \"<b>Kathleen Rice (D-NY)</b><br><i>@RepKathleenRice</i><br><b>0.27% (6 / 2218)</b>\", \"<b>Hakeem Jeffries (D-NY)</b><br><i>@RepJeffries</i><br><b>0.27% (7 / 2594)</b>\", \"<b>Eleanor Norton (D-DC)</b><br><i>@EleanorNorton</i><br><b>0.25% (8 / 3206)</b>\", \"<b>Ann Kuster (D-NH)</b><br><i>@RepAnnieKuster</i><br><b>0.25% (8 / 3222)</b>\", \"<b>Jackie Speier (D-CA)</b><br><i>@RepSpeier</i><br><b>0.25% (8 / 3244)</b>\", \"<b>Steve Cohen (D-TN)</b><br><i>@RepCohen</i><br><b>0.22% (7 / 3232)</b>\", \"<b>Donald Norcross (D-NJ)</b><br><i>@DonaldNorcross</i><br><b>0.22% (7 / 3234)</b>\", \"<b>Kyrsten Sinema (D-AZ)</b><br><i>@RepSinema</i><br><b>0.22% (7 / 3241)</b>\", \"<b>James Clyburn (D-SC)</b><br><i>@Clyburn</i><br><b>0.21% (4 / 1947)</b>\", \"<b>Jack Reed (D-RI)</b><br><i>@SenJackReed</i><br><b>0.19% (6 / 3202)</b>\", \"<b>Derek Kilmer (D-WA)</b><br><i>@RepDerekKilmer</i><br><b>0.17% (3 / 1765)</b>\", \"<b>Danny Davis (D-IL)</b><br><i>@RepDannyDavis</i><br><b>0.17% (2 / 1196)</b>\", \"<b>John Lewis (D-GA)</b><br><i>@RepJohnLewis</i><br><b>0.16% (3 / 1819)</b>\", \"<b>Brendan Boyle (D-PA)</b><br><i>@RepBrendanBoyle</i><br><b>0.16% (5 / 3200)</b>\", \"<b>Sherrod Brown (D-OH)</b><br><i>@SenSherrodBrown</i><br><b>0.16% (5 / 3204)</b>\", \"<b>Seth Moulton (D-MA)</b><br><i>@teammoulton</i><br><b>0.15% (5 / 3231)</b>\", \"<b>Stacey Plaskett (D-VI)</b><br><i>@staceyplaskett</i><br><b>0.14% (1 / 727)</b>\", \"<b>Debbie Stabenow (D-MI)</b><br><i>@SenStabenow</i><br><b>0.13% (4 / 3177)</b>\", \"<b>Joyce Beatty (D-OH)</b><br><i>@RepBeatty</i><br><b>0.12% (4 / 3202)</b>\", \"<b>Marcy Kaptur (D-OH)</b><br><i>@RepMarcyKaptur</i><br><b>0.12% (4 / 3219)</b>\", \"<b>Ami Bera (D-CA)</b><br><i>@RepBera</i><br><b>0.10% (3 / 2928)</b>\", \"<b>Mike Doyle (D-PA)</b><br><i>@USRepMikeDoyle</i><br><b>0.10% (1 / 1022)</b>\", \"<b>Heidi Heitkamp (D-ND)</b><br><i>@SenatorHeitkamp</i><br><b>0.09% (3 / 3230)</b>\", \"<b>Brian Higgins (D-NY)</b><br><i>@RepBrianHiggins</i><br><b>0.09% (3 / 3246)</b>\", \"<b>Peter DeFazio (D-OR)</b><br><i>@RepPeterDeFazio</i><br><b>0.09% (1 / 1090)</b>\", \"<b>Carol Shea-Porter (D-NH)</b><br><i>@repsheaporter</i><br><b>0.09% (1 / 1156)</b>\", \"<b>Ron Kind (D-WI)</b><br><i>@RepRonKind</i><br><b>0.09% (1 / 1174)</b>\", \"<b>Richard Neal (D-MA)</b><br><i>@RepRichardNeal</i><br><b>0.08% (1 / 1235)</b>\", \"<b>David Scott (D-GA)</b><br><i>@RepDavidScott</i><br><b>0.08% (2 / 2624)</b>\", \"<b>Brian Schatz (D-HI)</b><br><i>@SenBrianSchatz</i><br><b>0.07% (1 / 1377)</b>\", \"<b>Gary Peters (D-MI)</b><br><i>@SenGaryPeters</i><br><b>0.06% (2 / 3202)</b>\", \"<b>Claire McCaskill (D-MO)</b><br><i>@McCaskillOffice</i><br><b>0.06% (2 / 3241)</b>\", \"<b>Joe Donnelly (D-IN)</b><br><i>@SenDonnelly</i><br><b>0.06% (2 / 3244)</b>\", \"<b>Peter Visclosky (D-IN)</b><br><i>@RepVisclosky</i><br><b>0.06% (1 / 1767)</b>\", \"<b>Matt Cartwright (D-PA)</b><br><i>@RepCartwright</i><br><b>0.05% (1 / 1894)</b>\", \"<b>Cheri Bustos (D-IL)</b><br><i>@RepCheri</i><br><b>0.03% (1 / 3006)</b>\", \"<b>John Delaney (D-MD)</b><br><i>@RepJohnDelaney</i><br><b>0.03% (1 / 3212)</b>\", \"<b>Christopher Coons (D-DE)</b><br><i>@SenCoonsOffice</i><br><b>0.00% (0 / 2190)</b>\", \"<b>Dave Loebsack (D-IA)</b><br><i>@DaveLoebsack</i><br><b>0.00% (0 / 900)</b>\", \"<b>Earl Blumenauer (D-OR)</b><br><i>@BlumenauerMedia</i><br><b>0.00% (0 / 352)</b>\", \"<b>Joe Manchin (D-WV)</b><br><i>@Sen_JoeManchin</i><br><b>0.00% (0 / 3209)</b>\", \"<b>John Sarbanes (D-MD)</b><br><i>@RepSarbanes</i><br><b>0.00% (0 / 1080)</b>\", \"<b>Jon Tester (D-MT)</b><br><i>@SenatorTester</i><br><b>0.00% (0 / 3201)</b>\", \"<b>Maxine Waters (D-CA)</b><br><i>@MaxineWaters</i><br><b>0.00% (0 / 263)</b>\", \"<b>Rick Nolan (D-MN)</b><br><i>@USRepRickNolan</i><br><b>0.00% (0 / 2533)</b>\", \"<b>Sanford Bishop (D-GA)</b><br><i>@SanfordBishop</i><br><b>0.00% (0 / 1704)</b>\", \"<b>Stephen Lynch (D-MA)</b><br><i>@RepStephenLynch</i><br><b>0.00% (0 / 3154)</b>\", \"<b>Tina Smith (D-MN)</b><br><i>@SenTinaSmith</i><br><b>0.00% (0 / 120)</b>\"], \"marker\": {\"color\": [\"rgb(0.290980392157,0.594509803922,0.789019607843)\", \"rgb(0.290980392157,0.594509803922,0.789019607843)\", \"rgb(0.290980392157,0.594509803922,0.789019607843)\", \"rgb(0.290980392157,0.594509803922,0.789019607843)\", \"rgb(0.290980392157,0.594509803922,0.789019607843)\", \"rgb(0.290980392157,0.594509803922,0.789019607843)\", \"rgb(0.290980392157,0.594509803922,0.789019607843)\", \"rgb(0.290980392157,0.594509803922,0.789019607843)\", \"rgb(0.290980392157,0.594509803922,0.789019607843)\", \"rgb(0.290980392157,0.594509803922,0.789019607843)\", \"rgb(0.290980392157,0.594509803922,0.789019607843)\", \"rgb(0.290980392157,0.594509803922,0.789019607843)\", \"rgb(0.290980392157,0.594509803922,0.789019607843)\", \"rgb(0.290980392157,0.594509803922,0.789019607843)\", \"rgb(0.290980392157,0.594509803922,0.789019607843)\", \"rgb(0.290980392157,0.594509803922,0.789019607843)\", \"rgb(0.290980392157,0.594509803922,0.789019607843)\", \"rgb(0.290980392157,0.594509803922,0.789019607843)\", \"rgb(0.290980392157,0.594509803922,0.789019607843)\", \"rgb(0.290980392157,0.594509803922,0.789019607843)\", \"rgb(0.290980392157,0.594509803922,0.789019607843)\", \"rgb(0.290980392157,0.594509803922,0.789019607843)\", \"rgb(0.290980392157,0.594509803922,0.789019607843)\", \"rgb(0.290980392157,0.594509803922,0.789019607843)\", \"rgb(0.290980392157,0.594509803922,0.789019607843)\", \"rgb(0.290980392157,0.594509803922,0.789019607843)\", \"rgb(0.290980392157,0.594509803922,0.789019607843)\", \"rgb(0.290980392157,0.594509803922,0.789019607843)\", \"rgb(0.290980392157,0.594509803922,0.789019607843)\", \"rgb(0.290980392157,0.594509803922,0.789019607843)\", \"rgb(0.290980392157,0.594509803922,0.789019607843)\", \"rgb(0.290980392157,0.594509803922,0.789019607843)\", \"rgb(0.290980392157,0.594509803922,0.789019607843)\", \"rgb(0.290980392157,0.594509803922,0.789019607843)\", \"rgb(0.290980392157,0.594509803922,0.789019607843)\", \"rgb(0.290980392157,0.594509803922,0.789019607843)\", \"rgb(0.290980392157,0.594509803922,0.789019607843)\", \"rgb(0.290980392157,0.594509803922,0.789019607843)\", \"rgb(0.290980392157,0.594509803922,0.789019607843)\", \"rgb(0.290980392157,0.594509803922,0.789019607843)\", \"rgb(0.290980392157,0.594509803922,0.789019607843)\", \"rgb(0.290980392157,0.594509803922,0.789019607843)\", \"rgb(0.290980392157,0.594509803922,0.789019607843)\", \"rgb(0.290980392157,0.594509803922,0.789019607843)\", \"rgb(0.290980392157,0.594509803922,0.789019607843)\", \"rgb(0.290980392157,0.594509803922,0.789019607843)\", \"rgb(0.290980392157,0.594509803922,0.789019607843)\", \"rgb(0.290980392157,0.594509803922,0.789019607843)\", \"rgb(0.290980392157,0.594509803922,0.789019607843)\", \"rgb(0.290980392157,0.594509803922,0.789019607843)\", \"rgb(0.290980392157,0.594509803922,0.789019607843)\", \"rgb(0.290980392157,0.594509803922,0.789019607843)\", \"rgb(0.290980392157,0.594509803922,0.789019607843)\", \"rgb(0.290980392157,0.594509803922,0.789019607843)\", \"rgb(0.290980392157,0.594509803922,0.789019607843)\", \"rgb(0.290980392157,0.594509803922,0.789019607843)\", \"rgb(0.290980392157,0.594509803922,0.789019607843)\", \"rgb(0.290980392157,0.594509803922,0.789019607843)\", \"rgb(0.290980392157,0.594509803922,0.789019607843)\", \"rgb(0.290980392157,0.594509803922,0.789019607843)\", \"rgb(0.290980392157,0.594509803922,0.789019607843)\", \"rgb(0.290980392157,0.594509803922,0.789019607843)\", \"rgb(0.290980392157,0.594509803922,0.789019607843)\", \"rgb(0.290980392157,0.594509803922,0.789019607843)\", \"rgb(0.290980392157,0.594509803922,0.789019607843)\", \"rgb(0.290980392157,0.594509803922,0.789019607843)\", \"rgb(0.290980392157,0.594509803922,0.789019607843)\", \"rgb(0.290980392157,0.594509803922,0.789019607843)\", \"rgb(0.290980392157,0.594509803922,0.789019607843)\", \"rgb(0.290980392157,0.594509803922,0.789019607843)\", \"rgb(0.290980392157,0.594509803922,0.789019607843)\", \"rgb(0.290980392157,0.594509803922,0.789019607843)\", \"rgb(0.290980392157,0.594509803922,0.789019607843)\", \"rgb(0.290980392157,0.594509803922,0.789019607843)\", \"rgb(0.290980392157,0.594509803922,0.789019607843)\", \"rgb(0.290980392157,0.594509803922,0.789019607843)\", \"rgb(0.290980392157,0.594509803922,0.789019607843)\", \"rgb(0.290980392157,0.594509803922,0.789019607843)\", \"rgb(0.290980392157,0.594509803922,0.789019607843)\", \"rgb(0.290980392157,0.594509803922,0.789019607843)\", \"rgb(0.290980392157,0.594509803922,0.789019607843)\", \"rgb(0.290980392157,0.594509803922,0.789019607843)\", \"rgb(0.290980392157,0.594509803922,0.789019607843)\", \"rgb(0.290980392157,0.594509803922,0.789019607843)\", \"rgb(0.290980392157,0.594509803922,0.789019607843)\", \"rgb(0.290980392157,0.594509803922,0.789019607843)\", \"rgb(0.290980392157,0.594509803922,0.789019607843)\", \"rgb(0.290980392157,0.594509803922,0.789019607843)\", \"rgb(0.290980392157,0.594509803922,0.789019607843)\", \"rgb(0.290980392157,0.594509803922,0.789019607843)\", \"rgb(0.290980392157,0.594509803922,0.789019607843)\", \"rgb(0.290980392157,0.594509803922,0.789019607843)\", \"rgb(0.290980392157,0.594509803922,0.789019607843)\", \"rgb(0.290980392157,0.594509803922,0.789019607843)\", \"rgb(0.290980392157,0.594509803922,0.789019607843)\", \"rgb(0.290980392157,0.594509803922,0.789019607843)\", \"rgb(0.290980392157,0.594509803922,0.789019607843)\", \"rgb(0.290980392157,0.594509803922,0.789019607843)\", \"rgb(0.290980392157,0.594509803922,0.789019607843)\", \"rgb(0.290980392157,0.594509803922,0.789019607843)\", \"rgb(0.290980392157,0.594509803922,0.789019607843)\", \"rgb(0.290980392157,0.594509803922,0.789019607843)\", \"rgb(0.290980392157,0.594509803922,0.789019607843)\", \"rgb(0.290980392157,0.594509803922,0.789019607843)\", \"rgb(0.290980392157,0.594509803922,0.789019607843)\", \"rgb(0.290980392157,0.594509803922,0.789019607843)\", \"rgb(0.290980392157,0.594509803922,0.789019607843)\", \"rgb(0.290980392157,0.594509803922,0.789019607843)\", \"rgb(0.290980392157,0.594509803922,0.789019607843)\", \"rgb(0.290980392157,0.594509803922,0.789019607843)\", \"rgb(0.290980392157,0.594509803922,0.789019607843)\", \"rgb(0.290980392157,0.594509803922,0.789019607843)\", \"rgb(0.290980392157,0.594509803922,0.789019607843)\", \"rgb(0.290980392157,0.594509803922,0.789019607843)\", \"rgb(0.290980392157,0.594509803922,0.789019607843)\", \"rgb(0.290980392157,0.594509803922,0.789019607843)\", \"rgb(0.290980392157,0.594509803922,0.789019607843)\", \"rgb(0.290980392157,0.594509803922,0.789019607843)\", \"rgb(0.290980392157,0.594509803922,0.789019607843)\", \"rgb(0.290980392157,0.594509803922,0.789019607843)\", \"rgb(0.290980392157,0.594509803922,0.789019607843)\", \"rgb(0.290980392157,0.594509803922,0.789019607843)\", \"rgb(0.290980392157,0.594509803922,0.789019607843)\", \"rgb(0.290980392157,0.594509803922,0.789019607843)\", \"rgb(0.290980392157,0.594509803922,0.789019607843)\", \"rgb(0.290980392157,0.594509803922,0.789019607843)\", \"rgb(0.290980392157,0.594509803922,0.789019607843)\", \"rgb(0.290980392157,0.594509803922,0.789019607843)\", \"rgb(0.290980392157,0.594509803922,0.789019607843)\", \"rgb(0.290980392157,0.594509803922,0.789019607843)\", \"rgb(0.290980392157,0.594509803922,0.789019607843)\", \"rgb(0.290980392157,0.594509803922,0.789019607843)\", \"rgb(0.290980392157,0.594509803922,0.789019607843)\", \"rgb(0.290980392157,0.594509803922,0.789019607843)\", \"rgb(0.290980392157,0.594509803922,0.789019607843)\", \"rgb(0.290980392157,0.594509803922,0.789019607843)\", \"rgb(0.290980392157,0.594509803922,0.789019607843)\", \"rgb(0.290980392157,0.594509803922,0.789019607843)\", \"rgb(0.290980392157,0.594509803922,0.789019607843)\", \"rgb(0.290980392157,0.594509803922,0.789019607843)\", \"rgb(0.290980392157,0.594509803922,0.789019607843)\", \"rgb(0.290980392157,0.594509803922,0.789019607843)\", \"rgb(0.290980392157,0.594509803922,0.789019607843)\", \"rgb(0.290980392157,0.594509803922,0.789019607843)\", \"rgb(0.290980392157,0.594509803922,0.789019607843)\", \"rgb(0.290980392157,0.594509803922,0.789019607843)\", \"rgb(0.290980392157,0.594509803922,0.789019607843)\", \"rgb(0.290980392157,0.594509803922,0.789019607843)\", \"rgb(0.290980392157,0.594509803922,0.789019607843)\", \"rgb(0.290980392157,0.594509803922,0.789019607843)\", \"rgb(0.290980392157,0.594509803922,0.789019607843)\", \"rgb(0.290980392157,0.594509803922,0.789019607843)\", \"rgb(0.290980392157,0.594509803922,0.789019607843)\", \"rgb(0.290980392157,0.594509803922,0.789019607843)\", \"rgb(0.290980392157,0.594509803922,0.789019607843)\", \"rgb(0.290980392157,0.594509803922,0.789019607843)\", \"rgb(0.290980392157,0.594509803922,0.789019607843)\", \"rgb(0.290980392157,0.594509803922,0.789019607843)\", \"rgb(0.290980392157,0.594509803922,0.789019607843)\", \"rgb(0.290980392157,0.594509803922,0.789019607843)\", \"rgb(0.290980392157,0.594509803922,0.789019607843)\", \"rgb(0.290980392157,0.594509803922,0.789019607843)\", \"rgb(0.290980392157,0.594509803922,0.789019607843)\", \"rgb(0.290980392157,0.594509803922,0.789019607843)\", \"rgb(0.290980392157,0.594509803922,0.789019607843)\", \"rgb(0.290980392157,0.594509803922,0.789019607843)\", \"rgb(0.290980392157,0.594509803922,0.789019607843)\", \"rgb(0.290980392157,0.594509803922,0.789019607843)\", \"rgb(0.290980392157,0.594509803922,0.789019607843)\", \"rgb(0.290980392157,0.594509803922,0.789019607843)\", \"rgb(0.290980392157,0.594509803922,0.789019607843)\", \"rgb(0.290980392157,0.594509803922,0.789019607843)\", \"rgb(0.290980392157,0.594509803922,0.789019607843)\", \"rgb(0.290980392157,0.594509803922,0.789019607843)\", \"rgb(0.290980392157,0.594509803922,0.789019607843)\", \"rgb(0.290980392157,0.594509803922,0.789019607843)\", \"rgb(0.290980392157,0.594509803922,0.789019607843)\", \"rgb(0.290980392157,0.594509803922,0.789019607843)\", \"rgb(0.290980392157,0.594509803922,0.789019607843)\", \"rgb(0.290980392157,0.594509803922,0.789019607843)\", \"rgb(0.290980392157,0.594509803922,0.789019607843)\", \"rgb(0.290980392157,0.594509803922,0.789019607843)\", \"rgb(0.290980392157,0.594509803922,0.789019607843)\", \"rgb(0.290980392157,0.594509803922,0.789019607843)\", \"rgb(0.290980392157,0.594509803922,0.789019607843)\", \"rgb(0.290980392157,0.594509803922,0.789019607843)\", \"rgb(0.290980392157,0.594509803922,0.789019607843)\", \"rgb(0.290980392157,0.594509803922,0.789019607843)\", \"rgb(0.290980392157,0.594509803922,0.789019607843)\", \"rgb(0.290980392157,0.594509803922,0.789019607843)\", \"rgb(0.290980392157,0.594509803922,0.789019607843)\", \"rgb(0.290980392157,0.594509803922,0.789019607843)\", \"rgb(0.290980392157,0.594509803922,0.789019607843)\", \"rgb(0.290980392157,0.594509803922,0.789019607843)\", \"rgb(0.290980392157,0.594509803922,0.789019607843)\", \"rgb(0.290980392157,0.594509803922,0.789019607843)\", \"rgb(0.290980392157,0.594509803922,0.789019607843)\", \"rgb(0.290980392157,0.594509803922,0.789019607843)\", \"rgb(0.290980392157,0.594509803922,0.789019607843)\", \"rgb(0.290980392157,0.594509803922,0.789019607843)\", \"rgb(0.290980392157,0.594509803922,0.789019607843)\", \"rgb(0.290980392157,0.594509803922,0.789019607843)\", \"rgb(0.290980392157,0.594509803922,0.789019607843)\", \"rgb(0.290980392157,0.594509803922,0.789019607843)\", \"rgb(0.290980392157,0.594509803922,0.789019607843)\", \"rgb(0.290980392157,0.594509803922,0.789019607843)\", \"rgb(0.290980392157,0.594509803922,0.789019607843)\", \"rgb(0.290980392157,0.594509803922,0.789019607843)\", \"rgb(0.290980392157,0.594509803922,0.789019607843)\", \"rgb(0.290980392157,0.594509803922,0.789019607843)\", \"rgb(0.290980392157,0.594509803922,0.789019607843)\", \"rgb(0.290980392157,0.594509803922,0.789019607843)\", \"rgb(0.290980392157,0.594509803922,0.789019607843)\", \"rgb(0.290980392157,0.594509803922,0.789019607843)\", \"rgb(0.290980392157,0.594509803922,0.789019607843)\", \"rgb(0.290980392157,0.594509803922,0.789019607843)\", \"rgb(0.290980392157,0.594509803922,0.789019607843)\", \"rgb(0.290980392157,0.594509803922,0.789019607843)\", \"rgb(0.290980392157,0.594509803922,0.789019607843)\", \"rgb(0.290980392157,0.594509803922,0.789019607843)\", \"rgb(0.290980392157,0.594509803922,0.789019607843)\", \"rgb(0.290980392157,0.594509803922,0.789019607843)\", \"rgb(0.290980392157,0.594509803922,0.789019607843)\", \"rgb(0.290980392157,0.594509803922,0.789019607843)\", \"rgb(0.290980392157,0.594509803922,0.789019607843)\", \"rgb(0.290980392157,0.594509803922,0.789019607843)\", \"rgb(0.290980392157,0.594509803922,0.789019607843)\", \"rgb(0.290980392157,0.594509803922,0.789019607843)\", \"rgb(0.290980392157,0.594509803922,0.789019607843)\", \"rgb(0.290980392157,0.594509803922,0.789019607843)\", \"rgb(0.290980392157,0.594509803922,0.789019607843)\", \"rgb(0.290980392157,0.594509803922,0.789019607843)\", \"rgb(0.290980392157,0.594509803922,0.789019607843)\", \"rgb(0.290980392157,0.594509803922,0.789019607843)\", \"rgb(0.290980392157,0.594509803922,0.789019607843)\", \"rgb(0.290980392157,0.594509803922,0.789019607843)\", \"rgb(0.290980392157,0.594509803922,0.789019607843)\"], \"size\": 1}, \"mode\": \"markers\", \"hoverinfo\": \"text\", \"y\": [0, 0, 0, 0, 0, 0, 0, 0, 0, 0, 0, 0, 0, 0, 0, 0, 0, 0, 0, -1, -1, -1, -1, -1, -1, -1, -1, -1, -1, -1, -1, -1, -1, -1, -1, -1, -1, -2, -2, -2, -2, -2, -2, -2, -2, -2, -2, -2, -2, -2, -2, -2, -2, -2, -2, -3, -3, -3, -3, -3, -3, -3, -3, -3, -3, -3, -3, -3, -3, -3, -3, -3, -3, -3, -3, -4, -4, -4, -4, -4, -4, -4, -4, -4, -4, -4, -4, -4, -4, -4, -4, -5, -5, -5, -5, -5, -5, -5, -5, -5, -5, -5, -5, -5, -5, -5, -5, -6, -6, -6, -6, -6, -6, -6, -6, -6, -6, -6, -6, -6, -6, -6, -6, -7, -7, -7, -7, -7, -7, -7, -7, -7, -7, -7, -7, -7, -7, -7, -7, -8, -8, -8, -8, -8, -8, -8, -8, -8, -8, -8, -8, -8, -8, -8, -8, -8, -8, -9, -9, -9, -9, -9, -9, -9, -9, -9, -9, -9, -9, -9, -9, -10, -10, -10, -10, -10, -10, -10, -10, -10, -10, -10, -10, -10, -10, -10, -10, -10, -11, -11, -11, -11, -11, -11, -11, -11, -11, -12, -12, -12, -12, -12, -12, -12, -12, -13, -13, -13, -13, -14, -14, -14, -14, -14, -15, -15, -15, -15, -15, -16, -16, -16, -17, -17, -17, -18, -20, -20, -20, -21, -22, -22, -23, -24, -24, -25, -25], \"x\": [0, 1, 2, 3, 4, 5, 6, 7, 8, 9, 10, 11, 12, 13, 14, 16, 17, 18, 19, 0, 1, 2, 3, 4, 6, 7, 8, 9, 10, 11, 12, 13, 14, 15, 16, 17, 19, 0, 1, 3, 4, 5, 6, 7, 8, 9, 10, 11, 12, 13, 15, 16, 17, 18, 19, 0, 1, 2, 3, 4, 5, 6, 7, 8, 9, 10, 11, 12, 13, 14, 15, 16, 17, 18, 19, 1, 2, 3, 4, 5, 6, 7, 8, 9, 10, 12, 13, 14, 15, 16, 18, 0, 1, 3, 4, 6, 7, 8, 9, 10, 11, 12, 13, 14, 16, 18, 19, 0, 1, 2, 3, 5, 6, 7, 8, 9, 10, 11, 12, 13, 15, 16, 19, 0, 2, 3, 4, 5, 6, 7, 8, 9, 10, 11, 13, 15, 16, 17, 19, 1, 2, 3, 4, 5, 6, 7, 8, 9, 10, 11, 12, 13, 14, 15, 16, 17, 19, 0, 1, 2, 3, 4, 7, 9, 10, 11, 13, 14, 16, 18, 19, 0, 1, 3, 4, 5, 6, 7, 8, 9, 11, 12, 13, 14, 15, 16, 17, 19, 2, 7, 8, 9, 10, 11, 13, 14, 16, 0, 4, 8, 9, 11, 12, 13, 15, 2, 6, 8, 11, 0, 2, 13, 16, 17, 0, 4, 8, 10, 13, 3, 17, 19, 2, 3, 18, 12, 1, 9, 18, 19, 9, 11, 8, 10, 17, 0, 12], \"type\": \"scatter\"}, {\"text\": [\"<b>Ileana Ros-Lehtinen (R-FL)</b><br><i>@RosLehtinen</i><br><b>4.39% (141 / 3214)</b>\", \"<b>Dan Newhouse (R-WA)</b><br><i>@RepNewhouse</i><br><b>3.56% (38 / 1068)</b>\", \"<b>Marsha Blackburn (R-TN)</b><br><i>@MarshaBlackburn</i><br><b>2.45% (79 / 3226)</b>\", \"<b>Carlos Curbelo (R-FL)</b><br><i>@RepCurbelo</i><br><b>2.31% (68 / 2947)</b>\", \"<b>David Valadao (R-CA)</b><br><i>@RepDavidValadao</i><br><b>1.87% (17 / 909)</b>\", \"<b>Steve King (R-IA)</b><br><i>@SteveKingIA</i><br><b>1.24% (26 / 2098)</b>\", \"<b>John Cornyn (R-TX)</b><br><i>@JohnCornyn</i><br><b>1.09% (35 / 3215)</b>\", \"<b>Mia Love (R-UT)</b><br><i>@repmialove</i><br><b>1.00% (11 / 1103)</b>\", \"<b>Tom Cotton (R-AR)</b><br><i>@SenTomCotton</i><br><b>0.99% (32 / 3224)</b>\", \"<b>Orrin Hatch (R-UT)</b><br><i>@SenOrrinHatch</i><br><b>0.96% (31 / 3224)</b>\", \"<b>Thom Tillis (R-NC)</b><br><i>@senthomtillis</i><br><b>0.95% (29 / 3038)</b>\", \"<b>Mike Coffman (R-CO)</b><br><i>@RepMikeCoffman</i><br><b>0.81% (25 / 3069)</b>\", \"<b>Mario Diaz-Balart (R-FL)</b><br><i>@MarioDB</i><br><b>0.78% (25 / 3211)</b>\", \"<b>Andy Biggs (R-AZ)</b><br><i>@RepAndyBiggsAZ</i><br><b>0.70% (15 / 2143)</b>\", \"<b>Jeff Flake (R-AZ)</b><br><i>@JeffFlake</i><br><b>0.70% (17 / 2440)</b>\", \"<b>Jeffrey Denham (R-CA)</b><br><i>@RepJeffDenham</i><br><b>0.68% (18 / 2644)</b>\", \"<b>Lou Barletta (R-PA)</b><br><i>@RepLouBarletta</i><br><b>0.61% (15 / 2472)</b>\", \"<b>John Faso (R-NY)</b><br><i>@RepJohnFaso</i><br><b>0.60% (3 / 500)</b>\", \"<b>James Lankford (R-OK)</b><br><i>@SenatorLankford</i><br><b>0.59% (19 / 3211)</b>\", \"<b>Duncan Hunter (R-CA)</b><br><i>@Rep_Hunter</i><br><b>0.57% (2 / 349)</b>\", \"<b>Steve Russell (R-OK)</b><br><i>@RepRussell</i><br><b>0.48% (2 / 419)</b>\", \"<b>Don Bacon (R-NE)</b><br><i>@RepDonBacon</i><br><b>0.45% (10 / 2211)</b>\", \"<b>Alex Mooney (R-WV)</b><br><i>@RepAlexMooney</i><br><b>0.45% (6 / 1332)</b>\", \"<b>Paul Gosar (R-AZ)</b><br><i>@RepGosar</i><br><b>0.44% (14 / 3187)</b>\", \"<b>Warren Davidson (R-OH)</b><br><i>@WarrenDavidson</i><br><b>0.41% (5 / 1215)</b>\", \"<b>Louie Gohmert (R-TX)</b><br><i>@RepLouieGohmert</i><br><b>0.40% (13 / 3220)</b>\", \"<b>Martha McSally (R-AZ)</b><br><i>@RepMcSally</i><br><b>0.37% (9 / 2408)</b>\", \"<b>Susan Brooks (R-IN)</b><br><i>@SusanWBrooks</i><br><b>0.37% (12 / 3240)</b>\", \"<b>Jody Hice (R-GA)</b><br><i>@congressmanhice</i><br><b>0.34% (6 / 1771)</b>\", \"<b>Erik Paulsen (R-MN)</b><br><i>@RepErikPaulsen</i><br><b>0.31% (10 / 3236)</b>\", \"<b>Lloyd Smucker (R-PA)</b><br><i>@RepSmucker</i><br><b>0.30% (8 / 2696)</b>\", \"<b>Francis Rooney (R-FL)</b><br><i>@RepRooney</i><br><b>0.29% (2 / 687)</b>\", \"<b>Tom MacArthur (R-NJ)</b><br><i>@RepTomMacArthur</i><br><b>0.28% (5 / 1784)</b>\", \"<b>Fred Upton (R-MI)</b><br><i>@RepFredUpton</i><br><b>0.28% (9 / 3221)</b>\", \"<b>Jim Banks (R-IN)</b><br><i>@RepJimBanks</i><br><b>0.28% (4 / 1438)</b>\", \"<b>Tom McClintock (R-CA)</b><br><i>@RepMcClintock</i><br><b>0.27% (1 / 365)</b>\", \"<b>Dave Reichert (R-WA)</b><br><i>@DaveReichert</i><br><b>0.22% (7 / 3197)</b>\", \"<b>Will Hurd (R-TX)</b><br><i>@hurdonthehill</i><br><b>0.22% (7 / 3238)</b>\", \"<b>Bill Flores (R-TX)</b><br><i>@RepBillFlores</i><br><b>0.22% (7 / 3242)</b>\", \"<b>David Perdue (R-GA)</b><br><i>@sendavidperdue</i><br><b>0.21% (6 / 2825)</b>\", \"<b>Matt Gaetz (R-FL)</b><br><i>@RepMattGaetz</i><br><b>0.21% (2 / 961)</b>\", \"<b>Mo Brooks (R-AL)</b><br><i>@RepMoBrooks</i><br><b>0.20% (3 / 1467)</b>\", \"<b>Barry Loudermilk (R-GA)</b><br><i>@RepLoudermilk</i><br><b>0.20% (3 / 1514)</b>\", \"<b>Jodey Arrington (R-TX)</b><br><i>@RepArrington</i><br><b>0.20% (1 / 505)</b>\", \"<b>Robert Pittenger (R-NC)</b><br><i>@RepPittenger</i><br><b>0.19% (6 / 3218)</b>\", \"<b>Sean Duffy (R-WI)</b><br><i>@RepSeanDuffy</i><br><b>0.19% (6 / 3230)</b>\", \"<b>Steve Pearce (R-NM)</b><br><i>@RepStevePearce</i><br><b>0.18% (6 / 3250)</b>\", \"<b>Jack Bergman (R-MI)</b><br><i>@RepJackBergman</i><br><b>0.17% (1 / 599)</b>\", \"<b>Tom Graves (R-GA)</b><br><i>@RepTomGraves</i><br><b>0.15% (5 / 3228)</b>\", \"<b>Bruce Poliquin (R-ME)</b><br><i>@RepPoliquin</i><br><b>0.15% (2 / 1293)</b>\", \"<b>Robert Goodlatte (R-VA)</b><br><i>@RepGoodlatte</i><br><b>0.15% (5 / 3233)</b>\", \"<b>Jason Lewis (R-MN)</b><br><i>@RepJasonLewis</i><br><b>0.15% (1 / 656)</b>\", \"<b>Ra\\u00fal Labrador (R-ID)</b><br><i>@Raul_Labrador</i><br><b>0.15% (3 / 2014)</b>\", \"<b>Jaime Herrera Beutler (R-WA)</b><br><i>@HerreraBeutler</i><br><b>0.15% (1 / 674)</b>\", \"<b>Mike Kelly (R-PA)</b><br><i>@MikeKellyPA</i><br><b>0.14% (3 / 2070)</b>\", \"<b>Steve Knight (R-CA)</b><br><i>@SteveKnight25</i><br><b>0.13% (1 / 750)</b>\", \"<b>Paul Cook (R-CA)</b><br><i>@RepPaulCook</i><br><b>0.13% (2 / 1519)</b>\", \"<b>Roger Williams (R-TX)</b><br><i>@RepRWilliams</i><br><b>0.13% (4 / 3076)</b>\", \"<b>Adam Kinzinger (R-IL)</b><br><i>@RepKinzinger</i><br><b>0.12% (4 / 3200)</b>\", \"<b>Charles Grassley (R-IA)</b><br><i>@ChuckGrassley</i><br><b>0.12% (4 / 3206)</b>\", \"<b>Glenn Thompson (R-PA)</b><br><i>@CongressmanGT</i><br><b>0.12% (4 / 3217)</b>\", \"<b>Mitch McConnell (R-KY)</b><br><i>@McConnellPress</i><br><b>0.12% (4 / 3219)</b>\", \"<b>Mike Lee (R-UT)</b><br><i>@SenMikeLee</i><br><b>0.12% (4 / 3229)</b>\", \"<b>Darrell Issa (R-CA)</b><br><i>@DarrellIssa</i><br><b>0.12% (4 / 3230)</b>\", \"<b>Frank LoBiondo (R-NJ)</b><br><i>@RepLoBiondo</i><br><b>0.12% (4 / 3240)</b>\", \"<b>Kevin Yoder (R-KS)</b><br><i>@RepKevinYoder</i><br><b>0.12% (4 / 3248)</b>\", \"<b>Leonard Lance (R-NJ)</b><br><i>@RepLanceNJ7</i><br><b>0.12% (2 / 1638)</b>\", \"<b>Ted Yoho (R-FL)</b><br><i>@RepTedYoho</i><br><b>0.11% (1 / 911)</b>\", \"<b>Trey Gowdy (R-SC)</b><br><i>@TGowdySC</i><br><b>0.11% (2 / 1829)</b>\", \"<b>Rod Blum (R-IA)</b><br><i>@RepRodBlum</i><br><b>0.10% (2 / 2043)</b>\", \"<b>Mike Rounds (R-SD)</b><br><i>@SenatorRounds</i><br><b>0.10% (2 / 2051)</b>\", \"<b>Ron Johnson (R-WI)</b><br><i>@SenRonJohnson</i><br><b>0.09% (3 / 3196)</b>\", \"<b>Rodney Davis (R-IL)</b><br><i>@RodneyDavis</i><br><b>0.09% (3 / 3202)</b>\", \"<b>Martha Roby (R-AL)</b><br><i>@RepMarthaRoby</i><br><b>0.09% (3 / 3212)</b>\", \"<b>Mimi Walters (R-CA)</b><br><i>@RepMimiWalters</i><br><b>0.09% (3 / 3212)</b>\", \"<b>John McCain (R-AZ)</b><br><i>@SenJohnMcCain</i><br><b>0.09% (3 / 3217)</b>\", \"<b>Rob Portman (R-OH)</b><br><i>@SenRobPortman</i><br><b>0.09% (3 / 3217)</b>\", \"<b>Bradley Byrne (R-AL)</b><br><i>@RepByrne</i><br><b>0.09% (3 / 3221)</b>\", \"<b>Jeffrey Duncan (R-SC)</b><br><i>@RepJeffDuncan</i><br><b>0.09% (3 / 3223)</b>\", \"<b>Michael Burgess (R-TX)</b><br><i>@MichaelCBurgess</i><br><b>0.09% (3 / 3225)</b>\", \"<b>Mark Meadows (R-NC)</b><br><i>@RepMarkMeadows</i><br><b>0.09% (3 / 3233)</b>\", \"<b>Sam Johnson (R-TX)</b><br><i>@SamsPressShop</i><br><b>0.09% (1 / 1078)</b>\", \"<b>Rick Allen (R-GA)</b><br><i>@reprickallen</i><br><b>0.09% (1 / 1125)</b>\", \"<b>Claudia Tenney (R-NY)</b><br><i>@RepTenney</i><br><b>0.09% (1 / 1142)</b>\", \"<b>Mark Amodei (R-NV)</b><br><i>@MarkAmodeiNV2</i><br><b>0.09% (1 / 1166)</b>\", \"<b>Mike Bost (R-IL)</b><br><i>@RepBost</i><br><b>0.09% (1 / 1169)</b>\", \"<b>Lee Zeldin (R-NY)</b><br><i>@RepLeeZeldin</i><br><b>0.09% (1 / 1172)</b>\", \"<b>Jim Jordan (R-OH)</b><br><i>@Jim_Jordan</i><br><b>0.08% (2 / 2362)</b>\", \"<b>Ryan Zinke (R-MT)</b><br><i>@RepRyanZinke</i><br><b>0.08% (1 / 1196)</b>\", \"<b>Buddy Carter (R-GA)</b><br><i>@RepBuddyCarter</i><br><b>0.08% (1 / 1211)</b>\", \"<b>Bill Posey (R-FL)</b><br><i>@CongBillPosey</i><br><b>0.08% (1 / 1250)</b>\", \"<b>Robert Aderholt (R-AL)</b><br><i>@Robert_Aderholt</i><br><b>0.07% (1 / 1348)</b>\", \"<b>Barbara Comstock (R-VA)</b><br><i>@RepComstock</i><br><b>0.07% (2 / 2704)</b>\", \"<b>Mark Walker (R-NC)</b><br><i>@RepMarkWalker</i><br><b>0.07% (2 / 2788)</b>\", \"<b>Bob Gibbs (R-OH)</b><br><i>@RepBobGibbs</i><br><b>0.07% (2 / 2893)</b>\", \"<b>Don Young (R-AK)</b><br><i>@RepDonYoung</i><br><b>0.07% (1 / 1448)</b>\", \"<b>Steve Stivers (R-OH)</b><br><i>@RepSteveStivers</i><br><b>0.07% (2 / 2900)</b>\", \"<b>David Brat (R-VA)</b><br><i>@RepDaveBrat</i><br><b>0.07% (1 / 1457)</b>\", \"<b>Michael McCaul (R-TX)</b><br><i>@RepMcCaul</i><br><b>0.07% (2 / 3027)</b>\", \"<b>Daniel Donovan (R-NY)</b><br><i>@RepDanDonovan</i><br><b>0.06% (1 / 1546)</b>\", \"<b>Robert Wittman (R-VA)</b><br><i>@RobWittman</i><br><b>0.06% (2 / 3169)</b>\", \"<b>Joe Wilson (R-SC)</b><br><i>@RepJoeWilson</i><br><b>0.06% (1 / 1598)</b>\", \"<b>Patrick McHenry (R-NC)</b><br><i>@PatrickMcHenry</i><br><b>0.06% (2 / 3212)</b>\", \"<b>Roger Wicker (R-MS)</b><br><i>@SenatorWicker</i><br><b>0.06% (2 / 3212)</b>\", \"<b>Todd Rokita (R-IN)</b><br><i>@ToddRokita</i><br><b>0.06% (2 / 3216)</b>\", \"<b>Tom Price (R-GA)</b><br><i>@RepTomPrice</i><br><b>0.06% (2 / 3219)</b>\", \"<b>Lamar Smith (R-TX)</b><br><i>@LamarSmithTX21</i><br><b>0.06% (2 / 3220)</b>\", \"<b>Rick Crawford (R-AR)</b><br><i>@RepRickCrawford</i><br><b>0.06% (2 / 3220)</b>\", \"<b>Cory Gardner (R-CO)</b><br><i>@SenCoryGardner</i><br><b>0.06% (2 / 3223)</b>\", \"<b>Larry Bucshon (R-IN)</b><br><i>@RepLarryBucshon</i><br><b>0.06% (2 / 3227)</b>\", \"<b>Johnny Isakson (R-GA)</b><br><i>@SenatorIsakson</i><br><b>0.06% (2 / 3230)</b>\", \"<b>Vicky Hartzler (R-MO)</b><br><i>@RepHartzler</i><br><b>0.06% (2 / 3231)</b>\", \"<b>Bruce Westerman (R-AR)</b><br><i>@RepWesterman</i><br><b>0.06% (2 / 3237)</b>\", \"<b>Bill Shuster (R-PA)</b><br><i>@RepBillShuster</i><br><b>0.06% (2 / 3238)</b>\", \"<b>Steve Womack (R-AR)</b><br><i>@Rep_SteveWomack</i><br><b>0.06% (2 / 3240)</b>\", \"<b>Doug Lamborn (R-CO)</b><br><i>@RepDLamborn</i><br><b>0.06% (2 / 3244)</b>\", \"<b>Blaine Luetkemeyer (R-MO)</b><br><i>@RepBlainePress</i><br><b>0.06% (1 / 1628)</b>\", \"<b>Joni Ernst (R-IA)</b><br><i>@SenJoniErnst</i><br><b>0.06% (1 / 1696)</b>\", \"<b>Luke Messer (R-IN)</b><br><i>@RepLukeMesser</i><br><b>0.05% (1 / 1931)</b>\", \"<b>Joe Barton (R-TX)</b><br><i>@RepJoeBarton</i><br><b>0.05% (1 / 2078)</b>\", \"<b>Tom Reed (R-NY)</b><br><i>@RepTomReed</i><br><b>0.04% (1 / 2246)</b>\", \"<b>Ron DeSantis (R-FL)</b><br><i>@RepDeSantis</i><br><b>0.04% (1 / 2282)</b>\", \"<b>Randy Weber (R-TX)</b><br><i>@TXRandy14</i><br><b>0.04% (1 / 2324)</b>\", \"<b>Steven Palazzo (R-MS)</b><br><i>@CongPalazzo</i><br><b>0.04% (1 / 2355)</b>\", \"<b>Peter King (R-NY)</b><br><i>@RepPeteKing</i><br><b>0.04% (1 / 2410)</b>\", \"<b>Charlie Dent (R-PA)</b><br><i>@RepCharlieDent</i><br><b>0.04% (1 / 2471)</b>\", \"<b>Scott Tipton (R-CO)</b><br><i>@RepTipton</i><br><b>0.04% (1 / 2523)</b>\", \"<b>Andy Harris (R-MD)</b><br><i>@RepAndyHarrisMD</i><br><b>0.04% (1 / 2756)</b>\", \"<b>Jeff Fortenberry (R-NE)</b><br><i>@JeffFortenberry</i><br><b>0.04% (1 / 2786)</b>\", \"<b>Chris Stewart (R-UT)</b><br><i>@RepChrisStewart</i><br><b>0.04% (1 / 2798)</b>\", \"<b>Garret Graves (R-LA)</b><br><i>@RepGarretGraves</i><br><b>0.04% (1 / 2799)</b>\", \"<b>Tom Marino (R-PA)</b><br><i>@RepTomMarino</i><br><b>0.03% (1 / 2893)</b>\", \"<b>Gregg Harper (R-MS)</b><br><i>@GreggHarper</i><br><b>0.03% (1 / 3123)</b>\", \"<b>Doug Collins (R-GA)</b><br><i>@RepDougCollins</i><br><b>0.03% (1 / 3159)</b>\", \"<b>Diane Black (R-TN)</b><br><i>@RepDianeBlack</i><br><b>0.03% (1 / 3188)</b>\", \"<b>Michael Crapo (R-ID)</b><br><i>@MikeCrapo</i><br><b>0.03% (1 / 3200)</b>\", \"<b>Michael Enzi (R-WY)</b><br><i>@SenatorEnzi</i><br><b>0.03% (1 / 3200)</b>\", \"<b>James Inhofe (R-OK)</b><br><i>@InhofePress</i><br><b>0.03% (1 / 3202)</b>\", \"<b>Cathy McMorris Rodgers (R-WA)</b><br><i>@CathyMcMorris</i><br><b>0.03% (1 / 3203)</b>\", \"<b>Kevin McCarthy (R-CA)</b><br><i>@GOPLeader</i><br><b>0.03% (1 / 3203)</b>\", \"<b>Deb Fischer (R-NE)</b><br><i>@SenatorFischer</i><br><b>0.03% (1 / 3209)</b>\", \"<b>Lisa Murkowski (R-AK)</b><br><i>@LisaMurkowski</i><br><b>0.03% (1 / 3211)</b>\", \"<b>Paul Ryan (R-WI)</b><br><i>@SpeakerRyan</i><br><b>0.03% (1 / 3211)</b>\", \"<b>John Boozman (R-AR)</b><br><i>@JohnBoozman</i><br><b>0.03% (1 / 3212)</b>\", \"<b>John Carter (R-TX)</b><br><i>@JudgeCarter</i><br><b>0.03% (1 / 3214)</b>\", \"<b>Kenny Marchant (R-TX)</b><br><i>@RepKenMarchant</i><br><b>0.03% (1 / 3214)</b>\", \"<b>David Young (R-IA)</b><br><i>@RepDavidYoung</i><br><b>0.03% (1 / 3217)</b>\", \"<b>Patrick Toomey (R-PA)</b><br><i>@SenToomey</i><br><b>0.03% (1 / 3217)</b>\", \"<b>Jim Renacci (R-OH)</b><br><i>@RepJimRenacci</i><br><b>0.03% (1 / 3219)</b>\", \"<b>John Shimkus (R-IL)</b><br><i>@RepShimkus</i><br><b>0.03% (1 / 3221)</b>\", \"<b>Keith Rothfus (R-PA)</b><br><i>@KeithRothfus</i><br><b>0.03% (1 / 3224)</b>\", \"<b>Mike Rogers (R-AL)</b><br><i>@RepMikeRogersAL</i><br><b>0.03% (1 / 3224)</b>\", \"<b>Billy Long (R-MO)</b><br><i>@USRepLong</i><br><b>0.03% (1 / 3232)</b>\", \"<b>Roy Blunt (R-MO)</b><br><i>@RoyBlunt</i><br><b>0.03% (1 / 3232)</b>\", \"<b>Bob Corker (R-TN)</b><br><i>@SenBobCorker</i><br><b>0.03% (1 / 3234)</b>\", \"<b>Bill Johnson (R-OH)</b><br><i>@RepBillJohnson</i><br><b>0.03% (1 / 3238)</b>\", \"<b>Blake Farenthold (R-TX)</b><br><i>@Farenthold</i><br><b>0.03% (1 / 3247)</b>\", \"<b>Scott DesJarlais (R-TN)</b><br><i>@DesJarlaisTN04</i><br><b>0.03% (1 / 3248)</b>\", \"<b>A. Ferguson (R-GA)</b><br><i>@RepDrewFerguson</i><br><b>0.00% (0 / 838)</b>\", \"<b>Adrian Smith (R-NE)</b><br><i>@RepAdrianSmith</i><br><b>0.00% (0 / 2856)</b>\", \"<b>Amata Radewagen (R-AS)</b><br><i>@RepAmata</i><br><b>0.00% (0 / 309)</b>\", \"<b>Andy Barr (R-KY)</b><br><i>@RepAndyBarr</i><br><b>0.00% (0 / 2808)</b>\", \"<b>Ann Wagner (R-MO)</b><br><i>@RepAnnWagner</i><br><b>0.00% (0 / 2862)</b>\", \"<b>Austin Scott (R-GA)</b><br><i>@AustinScottGA08</i><br><b>0.00% (0 / 2261)</b>\", \"<b>Ben Sasse (R-NE)</b><br><i>@SenSasse</i><br><b>0.00% (0 / 846)</b>\", \"<b>Bill Huizenga (R-MI)</b><br><i>@RepHuizenga</i><br><b>0.00% (0 / 3239)</b>\", \"<b>Brad Wenstrup (R-OH)</b><br><i>@RepBradWenstrup</i><br><b>0.00% (0 / 3191)</b>\", \"<b>Brett Guthrie (R-KY)</b><br><i>@RepGuthrie</i><br><b>0.00% (0 / 741)</b>\", \"<b>Brian Babin (R-TX)</b><br><i>@RepBrianBabin</i><br><b>0.00% (0 / 2274)</b>\", \"<b>Brian Fitzpatrick (R-PA)</b><br><i>@repbrianfitz</i><br><b>0.00% (0 / 624)</b>\", \"<b>Brian Mast (R-FL)</b><br><i>@repbrianmast</i><br><b>0.00% (0 / 629)</b>\", \"<b>Chris Collins (R-NY)</b><br><i>@RepChrisCollins</i><br><b>0.00% (0 / 3238)</b>\", \"<b>Christopher Smith (R-NJ)</b><br><i>@RepChrisSmith</i><br><b>0.00% (0 / 1042)</b>\", \"<b>Chuck Fleischmann (R-TN)</b><br><i>@RepChuck</i><br><b>0.00% (0 / 1753)</b>\", \"<b>Clay Higgins (R-LA)</b><br><i>@RepClayHiggins</i><br><b>0.00% (0 / 475)</b>\", \"<b>Dan Sullivan (R-AK)</b><br><i>@SenDanSullivan</i><br><b>0.00% (0 / 1827)</b>\", \"<b>Daniel Webster (R-FL)</b><br><i>@RepWebster</i><br><b>0.00% (0 / 3078)</b>\", \"<b>Darin LaHood (R-IL)</b><br><i>@RepLaHood</i><br><b>0.00% (0 / 899)</b>\", \"<b>Dave Joyce (R-OH)</b><br><i>@RepDaveJoyce</i><br><b>0.00% (0 / 3200)</b>\", \"<b>Dave Trott (R-MI)</b><br><i>@repdavetrott</i><br><b>0.00% (0 / 419)</b>\", \"<b>David Kustoff (R-TN)</b><br><i>@repdavidkustoff</i><br><b>0.00% (0 / 445)</b>\", \"<b>David McKinley (R-WV)</b><br><i>@RepMcKinley</i><br><b>0.00% (0 / 3223)</b>\", \"<b>David Rouzer (R-NC)</b><br><i>@RepDavidRouzer</i><br><b>0.00% (0 / 585)</b>\", \"<b>David Schweikert (R-AZ)</b><br><i>@RepDavid</i><br><b>0.00% (0 / 3224)</b>\", \"<b>Dean Heller (R-NV)</b><br><i>@SenDeanHeller</i><br><b>0.00% (0 / 3204)</b>\", \"<b>Dennis Ross (R-FL)</b><br><i>@RepDennisRoss</i><br><b>0.00% (0 / 3219)</b>\", \"<b>Doug LaMalfa (R-CA)</b><br><i>@RepLaMalfa</i><br><b>0.00% (0 / 398)</b>\", \"<b>Edward Royce (R-CA)</b><br><i>@RepEdRoyce</i><br><b>0.00% (0 / 3194)</b>\", \"<b>Elise Stefanik (R-NY)</b><br><i>@RepStefanik</i><br><b>0.00% (0 / 2889)</b>\", \"<b>Evan Jenkins (R-WV)</b><br><i>@RepEvanJenkins</i><br><b>0.00% (0 / 2357)</b>\", \"<b>F. Sensenbrenner (R-WI)</b><br><i>@JimPressOffice</i><br><b>0.00% (0 / 1177)</b>\", \"<b>Frank Lucas (R-OK)</b><br><i>@RepFrankLucas</i><br><b>0.00% (0 / 650)</b>\", \"<b>French Hill (R-AR)</b><br><i>@RepFrenchHill</i><br><b>0.00% (0 / 1516)</b>\", \"<b>Gary Palmer (R-AL)</b><br><i>@USRepGaryPalmer</i><br><b>0.00% (0 / 1749)</b>\", \"<b>George Holding (R-NC)</b><br><i>@RepHolding</i><br><b>0.00% (0 / 680)</b>\", \"<b>Glenn Grothman (R-WI)</b><br><i>@RepGrothman</i><br><b>0.00% (0 / 1021)</b>\", \"<b>Greg Walden (R-OR)</b><br><i>@RepGregWalden</i><br><b>0.00% (0 / 2087)</b>\", \"<b>Gus Bilirakis (R-FL)</b><br><i>@RepGusBilirakis</i><br><b>0.00% (0 / 3226)</b>\", \"<b>Harold Rogers (R-KY)</b><br><i>@RepHalRogers</i><br><b>0.00% (0 / 3212)</b>\", \"<b>Jackie Walorski (R-IN)</b><br><i>@RepWalorski</i><br><b>0.00% (0 / 3234)</b>\", \"<b>Jason Chaffetz (R-UT)</b><br><i>@JasonInTheHouse</i><br><b>0.00% (0 / 3244)</b>\", \"<b>Jason Smith (R-MO)</b><br><i>@RepJasonSmith</i><br><b>0.00% (0 / 2669)</b>\", \"<b>Jeb Hensarling (R-TX)</b><br><i>@RepHensarling</i><br><b>0.00% (0 / 934)</b>\", \"<b>Jenniffer Gonz\\u00e1lez-Col\\u00f3n (R-PR)</b><br><i>@repjenniffer</i><br><b>0.00% (0 / 2149)</b>\", \"<b>Jerry Moran (R-KS)</b><br><i>@JerryMoran</i><br><b>0.00% (0 / 3237)</b>\", \"<b>Jim Bridenstine (R-OK)</b><br><i>@RepJBridenstine</i><br><b>0.00% (0 / 1434)</b>\", \"<b>Jim Risch (R-ID)</b><br><i>@SenatorRisch</i><br><b>0.00% (0 / 998)</b>\", \"<b>John Barrasso (R-WY)</b><br><i>@SenJohnBarrasso</i><br><b>0.00% (0 / 3231)</b>\", \"<b>John Culberson (R-TX)</b><br><i>@CongCulberson</i><br><b>0.00% (0 / 2535)</b>\", \"<b>John Duncan (R-TN)</b><br><i>@RepJohnDuncanJr</i><br><b>0.00% (0 / 662)</b>\", \"<b>John Hoeven (R-ND)</b><br><i>@SenJohnHoeven</i><br><b>0.00% (0 / 2376)</b>\", \"<b>John Katko (R-NY)</b><br><i>@RepJohnKatko</i><br><b>0.00% (0 / 547)</b>\", \"<b>John Kennedy (R-LA)</b><br><i>@SenJohnKennedy</i><br><b>0.00% (0 / 679)</b>\", \"<b>John Moolenaar (R-MI)</b><br><i>@RepMoolenaar</i><br><b>0.00% (0 / 702)</b>\", \"<b>John Ratcliffe (R-TX)</b><br><i>@RepRatcliffe</i><br><b>0.00% (0 / 1909)</b>\", \"<b>John Rutherford (R-FL)</b><br><i>@RepRutherfordFL</i><br><b>0.00% (0 / 495)</b>\", \"<b>John Thune (R-SD)</b><br><i>@SenJohnThune</i><br><b>0.00% (0 / 3238)</b>\", \"<b>K. Conaway (R-TX)</b><br><i>@ConawayTX11</i><br><b>0.00% (0 / 742)</b>\", \"<b>Karen Handel (R-GA)</b><br><i>@RepKHandel</i><br><b>0.00% (0 / 102)</b>\", \"<b>Kay Granger (R-TX)</b><br><i>@RepKayGranger</i><br><b>0.00% (0 / 1489)</b>\", \"<b>Ken Buck (R-CO)</b><br><i>@RepKenBuck</i><br><b>0.00% (0 / 1174)</b>\", \"<b>Ken Calvert (R-CA)</b><br><i>@KenCalvert</i><br><b>0.00% (0 / 3204)</b>\", \"<b>Kevin Brady (R-TX)</b><br><i>@RepKevinBrady</i><br><b>0.00% (0 / 3222)</b>\", \"<b>Kevin Cramer (R-ND)</b><br><i>@RepKevinCramer</i><br><b>0.00% (0 / 2616)</b>\", \"<b>Kristi Noem (R-SD)</b><br><i>@RepKristiNoem</i><br><b>0.00% (0 / 3222)</b>\", \"<b>Lamar Alexander (R-TN)</b><br><i>@SenAlexander</i><br><b>0.00% (0 / 3245)</b>\", \"<b>Lindsey Graham (R-SC)</b><br><i>@GrahamBlog</i><br><b>0.00% (0 / 3248)</b>\", \"<b>Liz Cheney (R-WY)</b><br><i>@RepLizCheney</i><br><b>0.00% (0 / 177)</b>\", \"<b>Luther Strange (R-AL)</b><br><i>@SenatorStrange</i><br><b>0.00% (0 / 485)</b>\", \"<b>Lynn Jenkins (R-KS)</b><br><i>@RepLynnJenkins</i><br><b>0.00% (0 / 3242)</b>\", \"<b>Marco Rubio (R-FL)</b><br><i>@SenRubioPress</i><br><b>0.00% (0 / 3226)</b>\", \"<b>Mark Sanford (R-SC)</b><br><i>@RepSanfordSC</i><br><b>0.00% (0 / 2183)</b>\", \"<b>Markwayne Mullin (R-OK)</b><br><i>@RepMullin</i><br><b>0.00% (0 / 2242)</b>\", \"<b>Michael Turner (R-OH)</b><br><i>@RepMikeTurner</i><br><b>0.00% (0 / 2319)</b>\", \"<b>Mike Bishop (R-MI)</b><br><i>@RepMikeBishop</i><br><b>0.00% (0 / 1610)</b>\", \"<b>Mike Gallagher (R-WI)</b><br><i>@RepGallagher</i><br><b>0.00% (0 / 1113)</b>\", \"<b>Mike Johnson (R-LA)</b><br><i>@RepMikeJohnson</i><br><b>0.00% (0 / 599)</b>\", \"<b>Mike Simpson (R-ID)</b><br><i>@CongMikeSimpson</i><br><b>0.00% (0 / 488)</b>\", \"<b>Morgan Griffith (R-VA)</b><br><i>@RepMGriffith</i><br><b>0.00% (0 / 1072)</b>\", \"<b>Neal Dunn (R-FL)</b><br><i>@drnealdunnfl2</i><br><b>0.00% (0 / 647)</b>\", \"<b>Pat Meehan (R-PA)</b><br><i>@RepMeehan</i><br><b>0.00% (0 / 3220)</b>\", \"<b>Pat Roberts (R-KS)</b><br><i>@SenPatRoberts</i><br><b>0.00% (0 / 3233)</b>\", \"<b>Paul Mitchell (R-MI)</b><br><i>@RepPaulMitchell</i><br><b>0.00% (0 / 619)</b>\", \"<b>Pete Olson (R-TX)</b><br><i>@RepPeteOlson</i><br><b>0.00% (0 / 3218)</b>\", \"<b>Pete Sessions (R-TX)</b><br><i>@PeteSessions</i><br><b>0.00% (0 / 3205)</b>\", \"<b>Peter Roskam (R-IL)</b><br><i>@PeterRoskam</i><br><b>0.00% (0 / 3194)</b>\", \"<b>Phil Roe (R-TN)</b><br><i>@DrPhilRoe</i><br><b>0.00% (0 / 2772)</b>\", \"<b>Ralph Abraham (R-LA)</b><br><i>@RepAbraham</i><br><b>0.00% (0 / 441)</b>\", \"<b>Ralph Norman (R-SC)</b><br><i>@RepRalphNorman</i><br><b>0.00% (0 / 312)</b>\", \"<b>Randy Hultgren (R-IL)</b><br><i>@RepHultgren</i><br><b>0.00% (0 / 3210)</b>\", \"<b>Richard Burr (R-NC)</b><br><i>@SenatorBurr</i><br><b>0.00% (0 / 3225)</b>\", \"<b>Richard Hudson (R-NC)</b><br><i>@RepRichHudson</i><br><b>0.00% (0 / 3205)</b>\", \"<b>Richard Shelby (R-AL)</b><br><i>@SenShelby</i><br><b>0.00% (0 / 1559)</b>\", \"<b>Rob Woodall (R-GA)</b><br><i>@RepRobWoodall</i><br><b>0.00% (0 / 644)</b>\", \"<b>Robert Latta (R-OH)</b><br><i>@BobLatta</i><br><b>0.00% (0 / 3229)</b>\", \"<b>Rodney Frelinghuysen (R-NJ)</b><br><i>@USRepRodney</i><br><b>0.00% (0 / 1118)</b>\", \"<b>Ron Estes (R-KS)</b><br><i>@RepRonEstes</i><br><b>0.00% (0 / 126)</b>\", \"<b>Ryan Costello (R-PA)</b><br><i>@RepRyanCostello</i><br><b>0.00% (0 / 1459)</b>\", \"<b>Sam Graves (R-MO)</b><br><i>@RepSamGraves</i><br><b>0.00% (0 / 3199)</b>\", \"<b>Scott Perry (R-PA)</b><br><i>@RepScottPerry</i><br><b>0.00% (0 / 2974)</b>\", \"<b>Shelley Capito (R-WV)</b><br><i>@SenCapito</i><br><b>0.00% (0 / 3211)</b>\", \"<b>Steve Daines (R-MT)</b><br><i>@SteveDaines</i><br><b>0.00% (0 / 3204)</b>\", \"<b>Steve Scalise (R-LA)</b><br><i>@SteveScalise</i><br><b>0.00% (0 / 3202)</b>\", \"<b>Steven Chabot (R-OH)</b><br><i>@RepSteveChabot</i><br><b>0.00% (0 / 3145)</b>\", \"<b>Susan Collins (R-ME)</b><br><i>@SenatorCollins</i><br><b>0.00% (0 / 2437)</b>\", \"<b>Ted Budd (R-NC)</b><br><i>@RepTedBudd</i><br><b>0.00% (0 / 511)</b>\", \"<b>Ted Cruz (R-TX)</b><br><i>@SenTedCruz</i><br><b>0.00% (0 / 3233)</b>\", \"<b>Ted Poe (R-TX)</b><br><i>@JudgeTedPoe</i><br><b>0.00% (0 / 3221)</b>\", \"<b>Thad Cochran (R-MS)</b><br><i>@SenThadCochran</i><br><b>0.00% (0 / 2026)</b>\", \"<b>Thomas Massie (R-KY)</b><br><i>@RepThomasMassie</i><br><b>0.00% (0 / 2460)</b>\", \"<b>Tim Scott (R-SC)</b><br><i>@SenatorTimScott</i><br><b>0.00% (0 / 3241)</b>\", \"<b>Tim Walberg (R-MI)</b><br><i>@RepWalberg</i><br><b>0.00% (0 / 3209)</b>\", \"<b>Tom Cole (R-OK)</b><br><i>@TomColeOK04</i><br><b>0.00% (0 / 1149)</b>\", \"<b>Tom Emmer (R-MN)</b><br><i>@RepTomEmmer</i><br><b>0.00% (0 / 3244)</b>\", \"<b>Tom Rice (R-SC)</b><br><i>@RepTomRice</i><br><b>0.00% (0 / 1060)</b>\", \"<b>Tom Rooney (R-FL)</b><br><i>@TomRooney</i><br><b>0.00% (0 / 2803)</b>\", \"<b>Trent Kelly (R-MS)</b><br><i>@reptrentkelly</i><br><b>0.00% (0 / 839)</b>\", \"<b>Trey Hollingsworth (R-IN)</b><br><i>@reptrey</i><br><b>0.00% (0 / 178)</b>\", \"<b>Vern Buchanan (R-FL)</b><br><i>@VernBuchanan</i><br><b>0.00% (0 / 2369)</b>\", \"<b>Virginia Foxx (R-NC)</b><br><i>@VirginiaFoxx</i><br><b>0.00% (0 / 3214)</b>\", \"<b>Walter Jones (R-NC)</b><br><i>@RepWalterJones</i><br><b>0.00% (0 / 2133)</b>\", \"<b>William Thornberry (R-TX)</b><br><i>@MacTXPress</i><br><b>0.00% (0 / 1055)</b>\"], \"marker\": {\"color\": [\"rgb(0.946666666667,0.268235294118,0.196078431373)\", \"rgb(0.946666666667,0.268235294118,0.196078431373)\", \"rgb(0.946666666667,0.268235294118,0.196078431373)\", \"rgb(0.946666666667,0.268235294118,0.196078431373)\", \"rgb(0.946666666667,0.268235294118,0.196078431373)\", \"rgb(0.946666666667,0.268235294118,0.196078431373)\", \"rgb(0.946666666667,0.268235294118,0.196078431373)\", \"rgb(0.946666666667,0.268235294118,0.196078431373)\", \"rgb(0.946666666667,0.268235294118,0.196078431373)\", \"rgb(0.946666666667,0.268235294118,0.196078431373)\", \"rgb(0.946666666667,0.268235294118,0.196078431373)\", \"rgb(0.946666666667,0.268235294118,0.196078431373)\", \"rgb(0.946666666667,0.268235294118,0.196078431373)\", \"rgb(0.946666666667,0.268235294118,0.196078431373)\", \"rgb(0.946666666667,0.268235294118,0.196078431373)\", \"rgb(0.946666666667,0.268235294118,0.196078431373)\", \"rgb(0.946666666667,0.268235294118,0.196078431373)\", \"rgb(0.946666666667,0.268235294118,0.196078431373)\", \"rgb(0.946666666667,0.268235294118,0.196078431373)\", \"rgb(0.946666666667,0.268235294118,0.196078431373)\", \"rgb(0.946666666667,0.268235294118,0.196078431373)\", \"rgb(0.946666666667,0.268235294118,0.196078431373)\", \"rgb(0.946666666667,0.268235294118,0.196078431373)\", \"rgb(0.946666666667,0.268235294118,0.196078431373)\", \"rgb(0.946666666667,0.268235294118,0.196078431373)\", \"rgb(0.946666666667,0.268235294118,0.196078431373)\", \"rgb(0.946666666667,0.268235294118,0.196078431373)\", \"rgb(0.946666666667,0.268235294118,0.196078431373)\", \"rgb(0.946666666667,0.268235294118,0.196078431373)\", \"rgb(0.946666666667,0.268235294118,0.196078431373)\", \"rgb(0.946666666667,0.268235294118,0.196078431373)\", \"rgb(0.946666666667,0.268235294118,0.196078431373)\", \"rgb(0.946666666667,0.268235294118,0.196078431373)\", \"rgb(0.946666666667,0.268235294118,0.196078431373)\", \"rgb(0.946666666667,0.268235294118,0.196078431373)\", \"rgb(0.946666666667,0.268235294118,0.196078431373)\", \"rgb(0.946666666667,0.268235294118,0.196078431373)\", \"rgb(0.946666666667,0.268235294118,0.196078431373)\", \"rgb(0.946666666667,0.268235294118,0.196078431373)\", \"rgb(0.946666666667,0.268235294118,0.196078431373)\", \"rgb(0.946666666667,0.268235294118,0.196078431373)\", \"rgb(0.946666666667,0.268235294118,0.196078431373)\", \"rgb(0.946666666667,0.268235294118,0.196078431373)\", \"rgb(0.946666666667,0.268235294118,0.196078431373)\", \"rgb(0.946666666667,0.268235294118,0.196078431373)\", \"rgb(0.946666666667,0.268235294118,0.196078431373)\", \"rgb(0.946666666667,0.268235294118,0.196078431373)\", \"rgb(0.946666666667,0.268235294118,0.196078431373)\", \"rgb(0.946666666667,0.268235294118,0.196078431373)\", \"rgb(0.946666666667,0.268235294118,0.196078431373)\", \"rgb(0.946666666667,0.268235294118,0.196078431373)\", \"rgb(0.946666666667,0.268235294118,0.196078431373)\", \"rgb(0.946666666667,0.268235294118,0.196078431373)\", \"rgb(0.946666666667,0.268235294118,0.196078431373)\", \"rgb(0.946666666667,0.268235294118,0.196078431373)\", \"rgb(0.946666666667,0.268235294118,0.196078431373)\", \"rgb(0.946666666667,0.268235294118,0.196078431373)\", \"rgb(0.946666666667,0.268235294118,0.196078431373)\", \"rgb(0.946666666667,0.268235294118,0.196078431373)\", \"rgb(0.946666666667,0.268235294118,0.196078431373)\", \"rgb(0.946666666667,0.268235294118,0.196078431373)\", \"rgb(0.946666666667,0.268235294118,0.196078431373)\", \"rgb(0.946666666667,0.268235294118,0.196078431373)\", \"rgb(0.946666666667,0.268235294118,0.196078431373)\", \"rgb(0.946666666667,0.268235294118,0.196078431373)\", \"rgb(0.946666666667,0.268235294118,0.196078431373)\", \"rgb(0.946666666667,0.268235294118,0.196078431373)\", \"rgb(0.946666666667,0.268235294118,0.196078431373)\", \"rgb(0.946666666667,0.268235294118,0.196078431373)\", \"rgb(0.946666666667,0.268235294118,0.196078431373)\", \"rgb(0.946666666667,0.268235294118,0.196078431373)\", \"rgb(0.946666666667,0.268235294118,0.196078431373)\", \"rgb(0.946666666667,0.268235294118,0.196078431373)\", \"rgb(0.946666666667,0.268235294118,0.196078431373)\", \"rgb(0.946666666667,0.268235294118,0.196078431373)\", \"rgb(0.946666666667,0.268235294118,0.196078431373)\", \"rgb(0.946666666667,0.268235294118,0.196078431373)\", \"rgb(0.946666666667,0.268235294118,0.196078431373)\", \"rgb(0.946666666667,0.268235294118,0.196078431373)\", \"rgb(0.946666666667,0.268235294118,0.196078431373)\", \"rgb(0.946666666667,0.268235294118,0.196078431373)\", \"rgb(0.946666666667,0.268235294118,0.196078431373)\", \"rgb(0.946666666667,0.268235294118,0.196078431373)\", \"rgb(0.946666666667,0.268235294118,0.196078431373)\", \"rgb(0.946666666667,0.268235294118,0.196078431373)\", \"rgb(0.946666666667,0.268235294118,0.196078431373)\", \"rgb(0.946666666667,0.268235294118,0.196078431373)\", \"rgb(0.946666666667,0.268235294118,0.196078431373)\", \"rgb(0.946666666667,0.268235294118,0.196078431373)\", \"rgb(0.946666666667,0.268235294118,0.196078431373)\", \"rgb(0.946666666667,0.268235294118,0.196078431373)\", \"rgb(0.946666666667,0.268235294118,0.196078431373)\", \"rgb(0.946666666667,0.268235294118,0.196078431373)\", \"rgb(0.946666666667,0.268235294118,0.196078431373)\", \"rgb(0.946666666667,0.268235294118,0.196078431373)\", \"rgb(0.946666666667,0.268235294118,0.196078431373)\", \"rgb(0.946666666667,0.268235294118,0.196078431373)\", \"rgb(0.946666666667,0.268235294118,0.196078431373)\", \"rgb(0.946666666667,0.268235294118,0.196078431373)\", \"rgb(0.946666666667,0.268235294118,0.196078431373)\", \"rgb(0.946666666667,0.268235294118,0.196078431373)\", \"rgb(0.946666666667,0.268235294118,0.196078431373)\", \"rgb(0.946666666667,0.268235294118,0.196078431373)\", \"rgb(0.946666666667,0.268235294118,0.196078431373)\", \"rgb(0.946666666667,0.268235294118,0.196078431373)\", \"rgb(0.946666666667,0.268235294118,0.196078431373)\", \"rgb(0.946666666667,0.268235294118,0.196078431373)\", \"rgb(0.946666666667,0.268235294118,0.196078431373)\", \"rgb(0.946666666667,0.268235294118,0.196078431373)\", \"rgb(0.946666666667,0.268235294118,0.196078431373)\", \"rgb(0.946666666667,0.268235294118,0.196078431373)\", \"rgb(0.946666666667,0.268235294118,0.196078431373)\", \"rgb(0.946666666667,0.268235294118,0.196078431373)\", \"rgb(0.946666666667,0.268235294118,0.196078431373)\", \"rgb(0.946666666667,0.268235294118,0.196078431373)\", \"rgb(0.946666666667,0.268235294118,0.196078431373)\", \"rgb(0.946666666667,0.268235294118,0.196078431373)\", \"rgb(0.946666666667,0.268235294118,0.196078431373)\", \"rgb(0.946666666667,0.268235294118,0.196078431373)\", \"rgb(0.946666666667,0.268235294118,0.196078431373)\", \"rgb(0.946666666667,0.268235294118,0.196078431373)\", \"rgb(0.946666666667,0.268235294118,0.196078431373)\", \"rgb(0.946666666667,0.268235294118,0.196078431373)\", \"rgb(0.946666666667,0.268235294118,0.196078431373)\", \"rgb(0.946666666667,0.268235294118,0.196078431373)\", \"rgb(0.946666666667,0.268235294118,0.196078431373)\", \"rgb(0.946666666667,0.268235294118,0.196078431373)\", \"rgb(0.946666666667,0.268235294118,0.196078431373)\", \"rgb(0.946666666667,0.268235294118,0.196078431373)\", \"rgb(0.946666666667,0.268235294118,0.196078431373)\", \"rgb(0.946666666667,0.268235294118,0.196078431373)\", \"rgb(0.946666666667,0.268235294118,0.196078431373)\", \"rgb(0.946666666667,0.268235294118,0.196078431373)\", \"rgb(0.946666666667,0.268235294118,0.196078431373)\", \"rgb(0.946666666667,0.268235294118,0.196078431373)\", \"rgb(0.946666666667,0.268235294118,0.196078431373)\", \"rgb(0.946666666667,0.268235294118,0.196078431373)\", \"rgb(0.946666666667,0.268235294118,0.196078431373)\", \"rgb(0.946666666667,0.268235294118,0.196078431373)\", \"rgb(0.946666666667,0.268235294118,0.196078431373)\", \"rgb(0.946666666667,0.268235294118,0.196078431373)\", \"rgb(0.946666666667,0.268235294118,0.196078431373)\", \"rgb(0.946666666667,0.268235294118,0.196078431373)\", \"rgb(0.946666666667,0.268235294118,0.196078431373)\", \"rgb(0.946666666667,0.268235294118,0.196078431373)\", \"rgb(0.946666666667,0.268235294118,0.196078431373)\", \"rgb(0.946666666667,0.268235294118,0.196078431373)\", \"rgb(0.946666666667,0.268235294118,0.196078431373)\", \"rgb(0.946666666667,0.268235294118,0.196078431373)\", \"rgb(0.946666666667,0.268235294118,0.196078431373)\", \"rgb(0.946666666667,0.268235294118,0.196078431373)\", \"rgb(0.946666666667,0.268235294118,0.196078431373)\", \"rgb(0.946666666667,0.268235294118,0.196078431373)\", \"rgb(0.946666666667,0.268235294118,0.196078431373)\", \"rgb(0.946666666667,0.268235294118,0.196078431373)\", \"rgb(0.946666666667,0.268235294118,0.196078431373)\", \"rgb(0.946666666667,0.268235294118,0.196078431373)\", \"rgb(0.946666666667,0.268235294118,0.196078431373)\", \"rgb(0.946666666667,0.268235294118,0.196078431373)\", \"rgb(0.946666666667,0.268235294118,0.196078431373)\", \"rgb(0.946666666667,0.268235294118,0.196078431373)\", \"rgb(0.946666666667,0.268235294118,0.196078431373)\", \"rgb(0.946666666667,0.268235294118,0.196078431373)\", \"rgb(0.946666666667,0.268235294118,0.196078431373)\", \"rgb(0.946666666667,0.268235294118,0.196078431373)\", \"rgb(0.946666666667,0.268235294118,0.196078431373)\", \"rgb(0.946666666667,0.268235294118,0.196078431373)\", \"rgb(0.946666666667,0.268235294118,0.196078431373)\", \"rgb(0.946666666667,0.268235294118,0.196078431373)\", \"rgb(0.946666666667,0.268235294118,0.196078431373)\", \"rgb(0.946666666667,0.268235294118,0.196078431373)\", \"rgb(0.946666666667,0.268235294118,0.196078431373)\", \"rgb(0.946666666667,0.268235294118,0.196078431373)\", \"rgb(0.946666666667,0.268235294118,0.196078431373)\", \"rgb(0.946666666667,0.268235294118,0.196078431373)\", \"rgb(0.946666666667,0.268235294118,0.196078431373)\", \"rgb(0.946666666667,0.268235294118,0.196078431373)\", \"rgb(0.946666666667,0.268235294118,0.196078431373)\", \"rgb(0.946666666667,0.268235294118,0.196078431373)\", \"rgb(0.946666666667,0.268235294118,0.196078431373)\", \"rgb(0.946666666667,0.268235294118,0.196078431373)\", \"rgb(0.946666666667,0.268235294118,0.196078431373)\", \"rgb(0.946666666667,0.268235294118,0.196078431373)\", \"rgb(0.946666666667,0.268235294118,0.196078431373)\", \"rgb(0.946666666667,0.268235294118,0.196078431373)\", \"rgb(0.946666666667,0.268235294118,0.196078431373)\", \"rgb(0.946666666667,0.268235294118,0.196078431373)\", \"rgb(0.946666666667,0.268235294118,0.196078431373)\", \"rgb(0.946666666667,0.268235294118,0.196078431373)\", \"rgb(0.946666666667,0.268235294118,0.196078431373)\", \"rgb(0.946666666667,0.268235294118,0.196078431373)\", \"rgb(0.946666666667,0.268235294118,0.196078431373)\", \"rgb(0.946666666667,0.268235294118,0.196078431373)\", \"rgb(0.946666666667,0.268235294118,0.196078431373)\", \"rgb(0.946666666667,0.268235294118,0.196078431373)\", \"rgb(0.946666666667,0.268235294118,0.196078431373)\", \"rgb(0.946666666667,0.268235294118,0.196078431373)\", \"rgb(0.946666666667,0.268235294118,0.196078431373)\", \"rgb(0.946666666667,0.268235294118,0.196078431373)\", \"rgb(0.946666666667,0.268235294118,0.196078431373)\", \"rgb(0.946666666667,0.268235294118,0.196078431373)\", \"rgb(0.946666666667,0.268235294118,0.196078431373)\", \"rgb(0.946666666667,0.268235294118,0.196078431373)\", \"rgb(0.946666666667,0.268235294118,0.196078431373)\", \"rgb(0.946666666667,0.268235294118,0.196078431373)\", \"rgb(0.946666666667,0.268235294118,0.196078431373)\", \"rgb(0.946666666667,0.268235294118,0.196078431373)\", \"rgb(0.946666666667,0.268235294118,0.196078431373)\", \"rgb(0.946666666667,0.268235294118,0.196078431373)\", \"rgb(0.946666666667,0.268235294118,0.196078431373)\", \"rgb(0.946666666667,0.268235294118,0.196078431373)\", \"rgb(0.946666666667,0.268235294118,0.196078431373)\", \"rgb(0.946666666667,0.268235294118,0.196078431373)\", \"rgb(0.946666666667,0.268235294118,0.196078431373)\", \"rgb(0.946666666667,0.268235294118,0.196078431373)\", \"rgb(0.946666666667,0.268235294118,0.196078431373)\", \"rgb(0.946666666667,0.268235294118,0.196078431373)\", \"rgb(0.946666666667,0.268235294118,0.196078431373)\", \"rgb(0.946666666667,0.268235294118,0.196078431373)\", \"rgb(0.946666666667,0.268235294118,0.196078431373)\", \"rgb(0.946666666667,0.268235294118,0.196078431373)\", \"rgb(0.946666666667,0.268235294118,0.196078431373)\", \"rgb(0.946666666667,0.268235294118,0.196078431373)\", \"rgb(0.946666666667,0.268235294118,0.196078431373)\", \"rgb(0.946666666667,0.268235294118,0.196078431373)\", \"rgb(0.946666666667,0.268235294118,0.196078431373)\", \"rgb(0.946666666667,0.268235294118,0.196078431373)\", \"rgb(0.946666666667,0.268235294118,0.196078431373)\", \"rgb(0.946666666667,0.268235294118,0.196078431373)\", \"rgb(0.946666666667,0.268235294118,0.196078431373)\", \"rgb(0.946666666667,0.268235294118,0.196078431373)\", \"rgb(0.946666666667,0.268235294118,0.196078431373)\", \"rgb(0.946666666667,0.268235294118,0.196078431373)\", \"rgb(0.946666666667,0.268235294118,0.196078431373)\", \"rgb(0.946666666667,0.268235294118,0.196078431373)\", \"rgb(0.946666666667,0.268235294118,0.196078431373)\", \"rgb(0.946666666667,0.268235294118,0.196078431373)\", \"rgb(0.946666666667,0.268235294118,0.196078431373)\", \"rgb(0.946666666667,0.268235294118,0.196078431373)\", \"rgb(0.946666666667,0.268235294118,0.196078431373)\", \"rgb(0.946666666667,0.268235294118,0.196078431373)\", \"rgb(0.946666666667,0.268235294118,0.196078431373)\", \"rgb(0.946666666667,0.268235294118,0.196078431373)\", \"rgb(0.946666666667,0.268235294118,0.196078431373)\", \"rgb(0.946666666667,0.268235294118,0.196078431373)\", \"rgb(0.946666666667,0.268235294118,0.196078431373)\", \"rgb(0.946666666667,0.268235294118,0.196078431373)\", \"rgb(0.946666666667,0.268235294118,0.196078431373)\", \"rgb(0.946666666667,0.268235294118,0.196078431373)\", \"rgb(0.946666666667,0.268235294118,0.196078431373)\", \"rgb(0.946666666667,0.268235294118,0.196078431373)\", \"rgb(0.946666666667,0.268235294118,0.196078431373)\", \"rgb(0.946666666667,0.268235294118,0.196078431373)\", \"rgb(0.946666666667,0.268235294118,0.196078431373)\", \"rgb(0.946666666667,0.268235294118,0.196078431373)\", \"rgb(0.946666666667,0.268235294118,0.196078431373)\", \"rgb(0.946666666667,0.268235294118,0.196078431373)\", \"rgb(0.946666666667,0.268235294118,0.196078431373)\", \"rgb(0.946666666667,0.268235294118,0.196078431373)\", \"rgb(0.946666666667,0.268235294118,0.196078431373)\", \"rgb(0.946666666667,0.268235294118,0.196078431373)\", \"rgb(0.946666666667,0.268235294118,0.196078431373)\", \"rgb(0.946666666667,0.268235294118,0.196078431373)\", \"rgb(0.946666666667,0.268235294118,0.196078431373)\", \"rgb(0.946666666667,0.268235294118,0.196078431373)\", \"rgb(0.946666666667,0.268235294118,0.196078431373)\", \"rgb(0.946666666667,0.268235294118,0.196078431373)\", \"rgb(0.946666666667,0.268235294118,0.196078431373)\", \"rgb(0.946666666667,0.268235294118,0.196078431373)\", \"rgb(0.946666666667,0.268235294118,0.196078431373)\", \"rgb(0.946666666667,0.268235294118,0.196078431373)\", \"rgb(0.946666666667,0.268235294118,0.196078431373)\", \"rgb(0.946666666667,0.268235294118,0.196078431373)\", \"rgb(0.946666666667,0.268235294118,0.196078431373)\", \"rgb(0.946666666667,0.268235294118,0.196078431373)\", \"rgb(0.946666666667,0.268235294118,0.196078431373)\", \"rgb(0.946666666667,0.268235294118,0.196078431373)\", \"rgb(0.946666666667,0.268235294118,0.196078431373)\", \"rgb(0.946666666667,0.268235294118,0.196078431373)\", \"rgb(0.946666666667,0.268235294118,0.196078431373)\", \"rgb(0.946666666667,0.268235294118,0.196078431373)\", \"rgb(0.946666666667,0.268235294118,0.196078431373)\"], \"size\": 1}, \"mode\": \"markers\", \"hoverinfo\": \"text\", \"y\": [0, -1, -1, -2, -2, -4, -4, -4, -4, -5, -5, -5, -6, -6, -6, -7, -7, -7, -7, -8, -8, -9, -9, -9, -9, -9, -9, -10, -10, -10, -11, -11, -11, -11, -11, -11, -11, -11, -11, -11, -11, -12, -12, -12, -12, -12, -12, -12, -12, -12, -12, -12, -12, -13, -13, -13, -13, -13, -13, -13, -13, -13, -13, -13, -13, -13, -13, -13, -13, -14, -14, -14, -14, -14, -14, -14, -14, -14, -14, -14, -14, -14, -14, -14, -15, -15, -15, -15, -15, -15, -15, -15, -15, -15, -15, -15, -15, -15, -15, -16, -16, -16, -16, -16, -16, -16, -16, -16, -16, -16, -16, -16, -16, -16, -16, -16, -17, -17, -17, -17, -17, -17, -17, -17, -17, -17, -17, -17, -17, -17, -17, -17, -17, -18, -18, -18, -18, -18, -18, -18, -18, -18, -18, -18, -18, -18, -18, -18, -18, -18, -18, -19, -19, -19, -19, -19, -19, -19, -19, -19, -19, -19, -19, -19, -19, -19, -19, -19, -19, -19, -19, -20, -20, -20, -20, -20, -20, -20, -20, -20, -20, -20, -20, -20, -20, -20, -20, -20, -21, -21, -21, -21, -21, -21, -21, -21, -21, -21, -21, -21, -21, -21, -21, -21, -21, -21, -21, -22, -22, -22, -22, -22, -22, -22, -22, -22, -22, -22, -22, -22, -22, -22, -22, -22, -22, -23, -23, -23, -23, -23, -23, -23, -23, -23, -23, -23, -23, -23, -23, -23, -23, -23, -23, -24, -24, -24, -24, -24, -24, -24, -24, -24, -24, -24, -24, -24, -24, -24, -24, -24, -24, -25, -25, -25, -25, -25, -25, -25, -25, -25, -25, -25, -25, -25, -25, -25, -25, -25, -25, -26, -26, -26], \"x\": [15, 5, 18, 2, 14, 0, 11, 17, 19, 2, 5, 17, 4, 17, 18, 1, 12, 14, 18, 0, 18, 5, 6, 8, 12, 15, 17, 2, 10, 18, 0, 1, 3, 4, 5, 6, 12, 15, 17, 18, 19, 1, 2, 3, 5, 6, 7, 10, 14, 16, 17, 18, 19, 0, 1, 3, 4, 5, 7, 9, 10, 12, 13, 14, 15, 16, 17, 18, 19, 1, 3, 4, 5, 6, 7, 8, 9, 10, 11, 12, 14, 15, 18, 19, 1, 2, 3, 5, 6, 7, 9, 11, 12, 14, 15, 16, 17, 18, 19, 0, 1, 2, 4, 5, 6, 7, 8, 9, 10, 11, 12, 13, 14, 15, 16, 18, 0, 1, 4, 5, 6, 7, 8, 9, 10, 11, 12, 13, 14, 15, 16, 17, 19, 0, 2, 3, 4, 5, 6, 7, 8, 9, 10, 11, 13, 14, 15, 16, 17, 18, 19, 0, 1, 2, 3, 4, 5, 6, 7, 8, 9, 10, 11, 12, 13, 14, 15, 16, 17, 18, 19, 0, 2, 3, 4, 5, 6, 7, 8, 10, 11, 12, 13, 14, 15, 16, 17, 19, 0, 1, 2, 3, 4, 5, 6, 7, 8, 9, 10, 11, 12, 13, 14, 15, 16, 17, 18, 0, 1, 2, 3, 4, 5, 6, 7, 8, 10, 12, 13, 14, 15, 16, 17, 18, 19, 0, 1, 2, 3, 4, 5, 6, 7, 9, 10, 11, 12, 14, 15, 16, 17, 18, 19, 0, 1, 2, 3, 4, 5, 6, 7, 8, 9, 11, 12, 13, 14, 15, 16, 18, 19, 1, 2, 3, 4, 5, 6, 7, 8, 9, 10, 11, 13, 14, 15, 16, 17, 18, 19, 0, 1, 2], \"type\": \"scatter\"}, {\"text\": [\"<b>Donald Trump (NA-NA)</b><br><i>@realDonaldTrump</i><br><b>0.71% (23 / 3227)</b>\", \"<b>Mike Pence (NA-NA)</b><br><i>@mike_pence</i><br><b>0.00% (0 / 3235)</b>\"], \"marker\": {\"color\": [\"rgb(255,165,0)\", \"rgb(255,165,0)\"], \"size\": 1}, \"mode\": \"markers\", \"hoverinfo\": \"text\", \"y\": [-6, -23], \"x\": [14, 13], \"type\": \"scatter\"}, {\"text\": [\"<b>Bernard Sanders (I-VT)</b><br><i>@SenSanders</i><br><b>0.83% (27 / 3242)</b>\", \"<b>Angus King (I-ME)</b><br><i>@SenAngusKing</i><br><b>0.03% (1 / 3177)</b>\"], \"marker\": {\"color\": [\"rgb(0.4,0.4,0.4)\", \"rgb(0.4,0.4,0.4)\"], \"size\": 1}, \"mode\": \"markers\", \"hoverinfo\": \"text\", \"y\": [-5, -18], \"x\": [15, 1], \"type\": \"scatter\"}], {\"showlegend\": false, \"yaxis\": {\"zeroline\": false, \"showticklabels\": false, \"showgrid\": false}, \"height\": 1300, \"shapes\": [{\"fillcolor\": \"rgb(0.290980392157,0.594509803922,0.789019607843)\", \"y1\": 0.4, \"y0\": -0.4, \"x0\": -0.4, \"x1\": 0.4, \"type\": \"rect\", \"line\": {\"width\": 0}}, {\"fillcolor\": \"rgb(0.290980392157,0.594509803922,0.789019607843)\", \"y1\": 0.4, \"y0\": -0.4, \"x0\": 0.6, \"x1\": 1.4, \"type\": \"rect\", \"line\": {\"width\": 0}}, {\"fillcolor\": \"rgb(0.290980392157,0.594509803922,0.789019607843)\", \"y1\": 0.4, \"y0\": -0.4, \"x0\": 1.6, \"x1\": 2.4, \"type\": \"rect\", \"line\": {\"width\": 0}}, {\"fillcolor\": \"rgb(0.290980392157,0.594509803922,0.789019607843)\", \"y1\": 0.4, \"y0\": -0.4, \"x0\": 2.6, \"x1\": 3.4, \"type\": \"rect\", \"line\": {\"width\": 0}}, {\"fillcolor\": \"rgb(0.290980392157,0.594509803922,0.789019607843)\", \"y1\": 0.4, \"y0\": -0.4, \"x0\": 3.6, \"x1\": 4.4, \"type\": \"rect\", \"line\": {\"width\": 0}}, {\"fillcolor\": \"rgb(0.290980392157,0.594509803922,0.789019607843)\", \"y1\": 0.4, \"y0\": -0.4, \"x0\": 4.6, \"x1\": 5.4, \"type\": \"rect\", \"line\": {\"width\": 0}}, {\"fillcolor\": \"rgb(0.290980392157,0.594509803922,0.789019607843)\", \"y1\": 0.4, \"y0\": -0.4, \"x0\": 5.6, \"x1\": 6.4, \"type\": \"rect\", \"line\": {\"width\": 0}}, {\"fillcolor\": \"rgb(0.290980392157,0.594509803922,0.789019607843)\", \"y1\": 0.4, \"y0\": -0.4, \"x0\": 6.6, \"x1\": 7.4, \"type\": \"rect\", \"line\": {\"width\": 0}}, {\"fillcolor\": \"rgb(0.290980392157,0.594509803922,0.789019607843)\", \"y1\": 0.4, \"y0\": -0.4, \"x0\": 7.6, \"x1\": 8.4, \"type\": \"rect\", \"line\": {\"width\": 0}}, {\"fillcolor\": \"rgb(0.290980392157,0.594509803922,0.789019607843)\", \"y1\": 0.4, \"y0\": -0.4, \"x0\": 8.6, \"x1\": 9.4, \"type\": \"rect\", \"line\": {\"width\": 0}}, {\"fillcolor\": \"rgb(0.290980392157,0.594509803922,0.789019607843)\", \"y1\": 0.4, \"y0\": -0.4, \"x0\": 9.6, \"x1\": 10.4, \"type\": \"rect\", \"line\": {\"width\": 0}}, {\"fillcolor\": \"rgb(0.290980392157,0.594509803922,0.789019607843)\", \"y1\": 0.4, \"y0\": -0.4, \"x0\": 10.6, \"x1\": 11.4, \"type\": \"rect\", \"line\": {\"width\": 0}}, {\"fillcolor\": \"rgb(0.290980392157,0.594509803922,0.789019607843)\", \"y1\": 0.4, \"y0\": -0.4, \"x0\": 11.6, \"x1\": 12.4, \"type\": \"rect\", \"line\": {\"width\": 0}}, {\"fillcolor\": \"rgb(0.290980392157,0.594509803922,0.789019607843)\", \"y1\": 0.4, \"y0\": -0.4, \"x0\": 12.6, \"x1\": 13.4, \"type\": \"rect\", \"line\": {\"width\": 0}}, {\"fillcolor\": \"rgb(0.290980392157,0.594509803922,0.789019607843)\", \"y1\": 0.4, \"y0\": -0.4, \"x0\": 13.6, \"x1\": 14.4, \"type\": \"rect\", \"line\": {\"width\": 0}}, {\"fillcolor\": \"rgb(0.946666666667,0.268235294118,0.196078431373)\", \"y1\": 0.4, \"y0\": -0.4, \"x0\": 14.6, \"x1\": 15.4, \"type\": \"rect\", \"line\": {\"width\": 0}}, {\"fillcolor\": \"rgb(0.290980392157,0.594509803922,0.789019607843)\", \"y1\": 0.4, \"y0\": -0.4, \"x0\": 15.6, \"x1\": 16.4, \"type\": \"rect\", \"line\": {\"width\": 0}}, {\"fillcolor\": \"rgb(0.290980392157,0.594509803922,0.789019607843)\", \"y1\": 0.4, \"y0\": -0.4, \"x0\": 16.6, \"x1\": 17.4, \"type\": \"rect\", \"line\": {\"width\": 0}}, {\"fillcolor\": \"rgb(0.290980392157,0.594509803922,0.789019607843)\", \"y1\": 0.4, \"y0\": -0.4, \"x0\": 17.6, \"x1\": 18.4, \"type\": \"rect\", \"line\": {\"width\": 0}}, {\"fillcolor\": \"rgb(0.290980392157,0.594509803922,0.789019607843)\", \"y1\": 0.4, \"y0\": -0.4, \"x0\": 18.6, \"x1\": 19.4, \"type\": \"rect\", \"line\": {\"width\": 0}}, {\"fillcolor\": \"rgb(0.290980392157,0.594509803922,0.789019607843)\", \"y1\": -0.6, \"y0\": -1.4, \"x0\": -0.4, \"x1\": 0.4, \"type\": \"rect\", \"line\": {\"width\": 0}}, {\"fillcolor\": \"rgb(0.290980392157,0.594509803922,0.789019607843)\", \"y1\": -0.6, \"y0\": -1.4, \"x0\": 0.6, \"x1\": 1.4, \"type\": \"rect\", \"line\": {\"width\": 0}}, {\"fillcolor\": \"rgb(0.290980392157,0.594509803922,0.789019607843)\", \"y1\": -0.6, \"y0\": -1.4, \"x0\": 1.6, \"x1\": 2.4, \"type\": \"rect\", \"line\": {\"width\": 0}}, {\"fillcolor\": \"rgb(0.290980392157,0.594509803922,0.789019607843)\", \"y1\": -0.6, \"y0\": -1.4, \"x0\": 2.6, \"x1\": 3.4, \"type\": \"rect\", \"line\": {\"width\": 0}}, {\"fillcolor\": \"rgb(0.290980392157,0.594509803922,0.789019607843)\", \"y1\": -0.6, \"y0\": -1.4, \"x0\": 3.6, \"x1\": 4.4, \"type\": \"rect\", \"line\": {\"width\": 0}}, {\"fillcolor\": \"rgb(0.946666666667,0.268235294118,0.196078431373)\", \"y1\": -0.6, \"y0\": -1.4, \"x0\": 4.6, \"x1\": 5.4, \"type\": \"rect\", \"line\": {\"width\": 0}}, {\"fillcolor\": \"rgb(0.290980392157,0.594509803922,0.789019607843)\", \"y1\": -0.6, \"y0\": -1.4, \"x0\": 5.6, \"x1\": 6.4, \"type\": \"rect\", \"line\": {\"width\": 0}}, {\"fillcolor\": \"rgb(0.290980392157,0.594509803922,0.789019607843)\", \"y1\": -0.6, \"y0\": -1.4, \"x0\": 6.6, \"x1\": 7.4, \"type\": \"rect\", \"line\": {\"width\": 0}}, {\"fillcolor\": \"rgb(0.290980392157,0.594509803922,0.789019607843)\", \"y1\": -0.6, \"y0\": -1.4, \"x0\": 7.6, \"x1\": 8.4, \"type\": \"rect\", \"line\": {\"width\": 0}}, {\"fillcolor\": \"rgb(0.290980392157,0.594509803922,0.789019607843)\", \"y1\": -0.6, \"y0\": -1.4, \"x0\": 8.6, \"x1\": 9.4, \"type\": \"rect\", \"line\": {\"width\": 0}}, {\"fillcolor\": \"rgb(0.290980392157,0.594509803922,0.789019607843)\", \"y1\": -0.6, \"y0\": -1.4, \"x0\": 9.6, \"x1\": 10.4, \"type\": \"rect\", \"line\": {\"width\": 0}}, {\"fillcolor\": \"rgb(0.290980392157,0.594509803922,0.789019607843)\", \"y1\": -0.6, \"y0\": -1.4, \"x0\": 10.6, \"x1\": 11.4, \"type\": \"rect\", \"line\": {\"width\": 0}}, {\"fillcolor\": \"rgb(0.290980392157,0.594509803922,0.789019607843)\", \"y1\": -0.6, \"y0\": -1.4, \"x0\": 11.6, \"x1\": 12.4, \"type\": \"rect\", \"line\": {\"width\": 0}}, {\"fillcolor\": \"rgb(0.290980392157,0.594509803922,0.789019607843)\", \"y1\": -0.6, \"y0\": -1.4, \"x0\": 12.6, \"x1\": 13.4, \"type\": \"rect\", \"line\": {\"width\": 0}}, {\"fillcolor\": \"rgb(0.290980392157,0.594509803922,0.789019607843)\", \"y1\": -0.6, \"y0\": -1.4, \"x0\": 13.6, \"x1\": 14.4, \"type\": \"rect\", \"line\": {\"width\": 0}}, {\"fillcolor\": \"rgb(0.290980392157,0.594509803922,0.789019607843)\", \"y1\": -0.6, \"y0\": -1.4, \"x0\": 14.6, \"x1\": 15.4, \"type\": \"rect\", \"line\": {\"width\": 0}}, {\"fillcolor\": \"rgb(0.290980392157,0.594509803922,0.789019607843)\", \"y1\": -0.6, \"y0\": -1.4, \"x0\": 15.6, \"x1\": 16.4, \"type\": \"rect\", \"line\": {\"width\": 0}}, {\"fillcolor\": \"rgb(0.290980392157,0.594509803922,0.789019607843)\", \"y1\": -0.6, \"y0\": -1.4, \"x0\": 16.6, \"x1\": 17.4, \"type\": \"rect\", \"line\": {\"width\": 0}}, {\"fillcolor\": \"rgb(0.946666666667,0.268235294118,0.196078431373)\", \"y1\": -0.6, \"y0\": -1.4, \"x0\": 17.6, \"x1\": 18.4, \"type\": \"rect\", \"line\": {\"width\": 0}}, {\"fillcolor\": \"rgb(0.290980392157,0.594509803922,0.789019607843)\", \"y1\": -0.6, \"y0\": -1.4, \"x0\": 18.6, \"x1\": 19.4, \"type\": \"rect\", \"line\": {\"width\": 0}}, {\"fillcolor\": \"rgb(0.290980392157,0.594509803922,0.789019607843)\", \"y1\": -1.6, \"y0\": -2.4, \"x0\": -0.4, \"x1\": 0.4, \"type\": \"rect\", \"line\": {\"width\": 0}}, {\"fillcolor\": \"rgb(0.290980392157,0.594509803922,0.789019607843)\", \"y1\": -1.6, \"y0\": -2.4, \"x0\": 0.6, \"x1\": 1.4, \"type\": \"rect\", \"line\": {\"width\": 0}}, {\"fillcolor\": \"rgb(0.946666666667,0.268235294118,0.196078431373)\", \"y1\": -1.6, \"y0\": -2.4, \"x0\": 1.6, \"x1\": 2.4, \"type\": \"rect\", \"line\": {\"width\": 0}}, {\"fillcolor\": \"rgb(0.290980392157,0.594509803922,0.789019607843)\", \"y1\": -1.6, \"y0\": -2.4, \"x0\": 2.6, \"x1\": 3.4, \"type\": \"rect\", \"line\": {\"width\": 0}}, {\"fillcolor\": \"rgb(0.290980392157,0.594509803922,0.789019607843)\", \"y1\": -1.6, \"y0\": -2.4, \"x0\": 3.6, \"x1\": 4.4, \"type\": \"rect\", \"line\": {\"width\": 0}}, {\"fillcolor\": \"rgb(0.290980392157,0.594509803922,0.789019607843)\", \"y1\": -1.6, \"y0\": -2.4, \"x0\": 4.6, \"x1\": 5.4, \"type\": \"rect\", \"line\": {\"width\": 0}}, {\"fillcolor\": \"rgb(0.290980392157,0.594509803922,0.789019607843)\", \"y1\": -1.6, \"y0\": -2.4, \"x0\": 5.6, \"x1\": 6.4, \"type\": \"rect\", \"line\": {\"width\": 0}}, {\"fillcolor\": \"rgb(0.290980392157,0.594509803922,0.789019607843)\", \"y1\": -1.6, \"y0\": -2.4, \"x0\": 6.6, \"x1\": 7.4, \"type\": \"rect\", \"line\": {\"width\": 0}}, {\"fillcolor\": \"rgb(0.290980392157,0.594509803922,0.789019607843)\", \"y1\": -1.6, \"y0\": -2.4, \"x0\": 7.6, \"x1\": 8.4, \"type\": \"rect\", \"line\": {\"width\": 0}}, {\"fillcolor\": \"rgb(0.290980392157,0.594509803922,0.789019607843)\", \"y1\": -1.6, \"y0\": -2.4, \"x0\": 8.6, \"x1\": 9.4, \"type\": \"rect\", \"line\": {\"width\": 0}}, {\"fillcolor\": \"rgb(0.290980392157,0.594509803922,0.789019607843)\", \"y1\": -1.6, \"y0\": -2.4, \"x0\": 9.6, \"x1\": 10.4, \"type\": \"rect\", \"line\": {\"width\": 0}}, {\"fillcolor\": \"rgb(0.290980392157,0.594509803922,0.789019607843)\", \"y1\": -1.6, \"y0\": -2.4, \"x0\": 10.6, \"x1\": 11.4, \"type\": \"rect\", \"line\": {\"width\": 0}}, {\"fillcolor\": \"rgb(0.290980392157,0.594509803922,0.789019607843)\", \"y1\": -1.6, \"y0\": -2.4, \"x0\": 11.6, \"x1\": 12.4, \"type\": \"rect\", \"line\": {\"width\": 0}}, {\"fillcolor\": \"rgb(0.290980392157,0.594509803922,0.789019607843)\", \"y1\": -1.6, \"y0\": -2.4, \"x0\": 12.6, \"x1\": 13.4, \"type\": \"rect\", \"line\": {\"width\": 0}}, {\"fillcolor\": \"rgb(0.946666666667,0.268235294118,0.196078431373)\", \"y1\": -1.6, \"y0\": -2.4, \"x0\": 13.6, \"x1\": 14.4, \"type\": \"rect\", \"line\": {\"width\": 0}}, {\"fillcolor\": \"rgb(0.290980392157,0.594509803922,0.789019607843)\", \"y1\": -1.6, \"y0\": -2.4, \"x0\": 14.6, \"x1\": 15.4, \"type\": \"rect\", \"line\": {\"width\": 0}}, {\"fillcolor\": \"rgb(0.290980392157,0.594509803922,0.789019607843)\", \"y1\": -1.6, \"y0\": -2.4, \"x0\": 15.6, \"x1\": 16.4, \"type\": \"rect\", \"line\": {\"width\": 0}}, {\"fillcolor\": \"rgb(0.290980392157,0.594509803922,0.789019607843)\", \"y1\": -1.6, \"y0\": -2.4, \"x0\": 16.6, \"x1\": 17.4, \"type\": \"rect\", \"line\": {\"width\": 0}}, {\"fillcolor\": \"rgb(0.290980392157,0.594509803922,0.789019607843)\", \"y1\": -1.6, \"y0\": -2.4, \"x0\": 17.6, \"x1\": 18.4, \"type\": \"rect\", \"line\": {\"width\": 0}}, {\"fillcolor\": \"rgb(0.290980392157,0.594509803922,0.789019607843)\", \"y1\": -1.6, \"y0\": -2.4, \"x0\": 18.6, \"x1\": 19.4, \"type\": \"rect\", \"line\": {\"width\": 0}}, {\"fillcolor\": \"rgb(0.290980392157,0.594509803922,0.789019607843)\", \"y1\": -2.6, \"y0\": -3.4, \"x0\": -0.4, \"x1\": 0.4, \"type\": \"rect\", \"line\": {\"width\": 0}}, {\"fillcolor\": \"rgb(0.290980392157,0.594509803922,0.789019607843)\", \"y1\": -2.6, \"y0\": -3.4, \"x0\": 0.6, \"x1\": 1.4, \"type\": \"rect\", \"line\": {\"width\": 0}}, {\"fillcolor\": \"rgb(0.290980392157,0.594509803922,0.789019607843)\", \"y1\": -2.6, \"y0\": -3.4, \"x0\": 1.6, \"x1\": 2.4, \"type\": \"rect\", \"line\": {\"width\": 0}}, {\"fillcolor\": \"rgb(0.290980392157,0.594509803922,0.789019607843)\", \"y1\": -2.6, \"y0\": -3.4, \"x0\": 2.6, \"x1\": 3.4, \"type\": \"rect\", \"line\": {\"width\": 0}}, {\"fillcolor\": \"rgb(0.290980392157,0.594509803922,0.789019607843)\", \"y1\": -2.6, \"y0\": -3.4, \"x0\": 3.6, \"x1\": 4.4, \"type\": \"rect\", \"line\": {\"width\": 0}}, {\"fillcolor\": \"rgb(0.290980392157,0.594509803922,0.789019607843)\", \"y1\": -2.6, \"y0\": -3.4, \"x0\": 4.6, \"x1\": 5.4, \"type\": \"rect\", \"line\": {\"width\": 0}}, {\"fillcolor\": \"rgb(0.290980392157,0.594509803922,0.789019607843)\", \"y1\": -2.6, \"y0\": -3.4, \"x0\": 5.6, \"x1\": 6.4, \"type\": \"rect\", \"line\": {\"width\": 0}}, {\"fillcolor\": \"rgb(0.290980392157,0.594509803922,0.789019607843)\", \"y1\": -2.6, \"y0\": -3.4, \"x0\": 6.6, \"x1\": 7.4, \"type\": \"rect\", \"line\": {\"width\": 0}}, {\"fillcolor\": \"rgb(0.290980392157,0.594509803922,0.789019607843)\", \"y1\": -2.6, \"y0\": -3.4, \"x0\": 7.6, \"x1\": 8.4, \"type\": \"rect\", \"line\": {\"width\": 0}}, {\"fillcolor\": \"rgb(0.290980392157,0.594509803922,0.789019607843)\", \"y1\": -2.6, \"y0\": -3.4, \"x0\": 8.6, \"x1\": 9.4, \"type\": \"rect\", \"line\": {\"width\": 0}}, {\"fillcolor\": \"rgb(0.290980392157,0.594509803922,0.789019607843)\", \"y1\": -2.6, \"y0\": -3.4, \"x0\": 9.6, \"x1\": 10.4, \"type\": \"rect\", \"line\": {\"width\": 0}}, {\"fillcolor\": \"rgb(0.290980392157,0.594509803922,0.789019607843)\", \"y1\": -2.6, \"y0\": -3.4, \"x0\": 10.6, \"x1\": 11.4, \"type\": \"rect\", \"line\": {\"width\": 0}}, {\"fillcolor\": \"rgb(0.290980392157,0.594509803922,0.789019607843)\", \"y1\": -2.6, \"y0\": -3.4, \"x0\": 11.6, \"x1\": 12.4, \"type\": \"rect\", \"line\": {\"width\": 0}}, {\"fillcolor\": \"rgb(0.290980392157,0.594509803922,0.789019607843)\", \"y1\": -2.6, \"y0\": -3.4, \"x0\": 12.6, \"x1\": 13.4, \"type\": \"rect\", \"line\": {\"width\": 0}}, {\"fillcolor\": \"rgb(0.290980392157,0.594509803922,0.789019607843)\", \"y1\": -2.6, \"y0\": -3.4, \"x0\": 13.6, \"x1\": 14.4, \"type\": \"rect\", \"line\": {\"width\": 0}}, {\"fillcolor\": \"rgb(0.290980392157,0.594509803922,0.789019607843)\", \"y1\": -2.6, \"y0\": -3.4, \"x0\": 14.6, \"x1\": 15.4, \"type\": \"rect\", \"line\": {\"width\": 0}}, {\"fillcolor\": \"rgb(0.290980392157,0.594509803922,0.789019607843)\", \"y1\": -2.6, \"y0\": -3.4, \"x0\": 15.6, \"x1\": 16.4, \"type\": \"rect\", \"line\": {\"width\": 0}}, {\"fillcolor\": \"rgb(0.290980392157,0.594509803922,0.789019607843)\", \"y1\": -2.6, \"y0\": -3.4, \"x0\": 16.6, \"x1\": 17.4, \"type\": \"rect\", \"line\": {\"width\": 0}}, {\"fillcolor\": \"rgb(0.290980392157,0.594509803922,0.789019607843)\", \"y1\": -2.6, \"y0\": -3.4, \"x0\": 17.6, \"x1\": 18.4, \"type\": \"rect\", \"line\": {\"width\": 0}}, {\"fillcolor\": \"rgb(0.290980392157,0.594509803922,0.789019607843)\", \"y1\": -2.6, \"y0\": -3.4, \"x0\": 18.6, \"x1\": 19.4, \"type\": \"rect\", \"line\": {\"width\": 0}}, {\"fillcolor\": \"rgb(0.946666666667,0.268235294118,0.196078431373)\", \"y1\": -3.6, \"y0\": -4.4, \"x0\": -0.4, \"x1\": 0.4, \"type\": \"rect\", \"line\": {\"width\": 0}}, {\"fillcolor\": \"rgb(0.290980392157,0.594509803922,0.789019607843)\", \"y1\": -3.6, \"y0\": -4.4, \"x0\": 0.6, \"x1\": 1.4, \"type\": \"rect\", \"line\": {\"width\": 0}}, {\"fillcolor\": \"rgb(0.290980392157,0.594509803922,0.789019607843)\", \"y1\": -3.6, \"y0\": -4.4, \"x0\": 1.6, \"x1\": 2.4, \"type\": \"rect\", \"line\": {\"width\": 0}}, {\"fillcolor\": \"rgb(0.290980392157,0.594509803922,0.789019607843)\", \"y1\": -3.6, \"y0\": -4.4, \"x0\": 2.6, \"x1\": 3.4, \"type\": \"rect\", \"line\": {\"width\": 0}}, {\"fillcolor\": \"rgb(0.290980392157,0.594509803922,0.789019607843)\", \"y1\": -3.6, \"y0\": -4.4, \"x0\": 3.6, \"x1\": 4.4, \"type\": \"rect\", \"line\": {\"width\": 0}}, {\"fillcolor\": \"rgb(0.290980392157,0.594509803922,0.789019607843)\", \"y1\": -3.6, \"y0\": -4.4, \"x0\": 4.6, \"x1\": 5.4, \"type\": \"rect\", \"line\": {\"width\": 0}}, {\"fillcolor\": \"rgb(0.290980392157,0.594509803922,0.789019607843)\", \"y1\": -3.6, \"y0\": -4.4, \"x0\": 5.6, \"x1\": 6.4, \"type\": \"rect\", \"line\": {\"width\": 0}}, {\"fillcolor\": \"rgb(0.290980392157,0.594509803922,0.789019607843)\", \"y1\": -3.6, \"y0\": -4.4, \"x0\": 6.6, \"x1\": 7.4, \"type\": \"rect\", \"line\": {\"width\": 0}}, {\"fillcolor\": \"rgb(0.290980392157,0.594509803922,0.789019607843)\", \"y1\": -3.6, \"y0\": -4.4, \"x0\": 7.6, \"x1\": 8.4, \"type\": \"rect\", \"line\": {\"width\": 0}}, {\"fillcolor\": \"rgb(0.290980392157,0.594509803922,0.789019607843)\", \"y1\": -3.6, \"y0\": -4.4, \"x0\": 8.6, \"x1\": 9.4, \"type\": \"rect\", \"line\": {\"width\": 0}}, {\"fillcolor\": \"rgb(0.290980392157,0.594509803922,0.789019607843)\", \"y1\": -3.6, \"y0\": -4.4, \"x0\": 9.6, \"x1\": 10.4, \"type\": \"rect\", \"line\": {\"width\": 0}}, {\"fillcolor\": \"rgb(0.946666666667,0.268235294118,0.196078431373)\", \"y1\": -3.6, \"y0\": -4.4, \"x0\": 10.6, \"x1\": 11.4, \"type\": \"rect\", \"line\": {\"width\": 0}}, {\"fillcolor\": \"rgb(0.290980392157,0.594509803922,0.789019607843)\", \"y1\": -3.6, \"y0\": -4.4, \"x0\": 11.6, \"x1\": 12.4, \"type\": \"rect\", \"line\": {\"width\": 0}}, {\"fillcolor\": \"rgb(0.290980392157,0.594509803922,0.789019607843)\", \"y1\": -3.6, \"y0\": -4.4, \"x0\": 12.6, \"x1\": 13.4, \"type\": \"rect\", \"line\": {\"width\": 0}}, {\"fillcolor\": \"rgb(0.290980392157,0.594509803922,0.789019607843)\", \"y1\": -3.6, \"y0\": -4.4, \"x0\": 13.6, \"x1\": 14.4, \"type\": \"rect\", \"line\": {\"width\": 0}}, {\"fillcolor\": \"rgb(0.290980392157,0.594509803922,0.789019607843)\", \"y1\": -3.6, \"y0\": -4.4, \"x0\": 14.6, \"x1\": 15.4, \"type\": \"rect\", \"line\": {\"width\": 0}}, {\"fillcolor\": \"rgb(0.290980392157,0.594509803922,0.789019607843)\", \"y1\": -3.6, \"y0\": -4.4, \"x0\": 15.6, \"x1\": 16.4, \"type\": \"rect\", \"line\": {\"width\": 0}}, {\"fillcolor\": \"rgb(0.946666666667,0.268235294118,0.196078431373)\", \"y1\": -3.6, \"y0\": -4.4, \"x0\": 16.6, \"x1\": 17.4, \"type\": \"rect\", \"line\": {\"width\": 0}}, {\"fillcolor\": \"rgb(0.290980392157,0.594509803922,0.789019607843)\", \"y1\": -3.6, \"y0\": -4.4, \"x0\": 17.6, \"x1\": 18.4, \"type\": \"rect\", \"line\": {\"width\": 0}}, {\"fillcolor\": \"rgb(0.946666666667,0.268235294118,0.196078431373)\", \"y1\": -3.6, \"y0\": -4.4, \"x0\": 18.6, \"x1\": 19.4, \"type\": \"rect\", \"line\": {\"width\": 0}}, {\"fillcolor\": \"rgb(0.290980392157,0.594509803922,0.789019607843)\", \"y1\": -4.6, \"y0\": -5.4, \"x0\": -0.4, \"x1\": 0.4, \"type\": \"rect\", \"line\": {\"width\": 0}}, {\"fillcolor\": \"rgb(0.290980392157,0.594509803922,0.789019607843)\", \"y1\": -4.6, \"y0\": -5.4, \"x0\": 0.6, \"x1\": 1.4, \"type\": \"rect\", \"line\": {\"width\": 0}}, {\"fillcolor\": \"rgb(0.946666666667,0.268235294118,0.196078431373)\", \"y1\": -4.6, \"y0\": -5.4, \"x0\": 1.6, \"x1\": 2.4, \"type\": \"rect\", \"line\": {\"width\": 0}}, {\"fillcolor\": \"rgb(0.290980392157,0.594509803922,0.789019607843)\", \"y1\": -4.6, \"y0\": -5.4, \"x0\": 2.6, \"x1\": 3.4, \"type\": \"rect\", \"line\": {\"width\": 0}}, {\"fillcolor\": \"rgb(0.290980392157,0.594509803922,0.789019607843)\", \"y1\": -4.6, \"y0\": -5.4, \"x0\": 3.6, \"x1\": 4.4, \"type\": \"rect\", \"line\": {\"width\": 0}}, {\"fillcolor\": \"rgb(0.946666666667,0.268235294118,0.196078431373)\", \"y1\": -4.6, \"y0\": -5.4, \"x0\": 4.6, \"x1\": 5.4, \"type\": \"rect\", \"line\": {\"width\": 0}}, {\"fillcolor\": \"rgb(0.290980392157,0.594509803922,0.789019607843)\", \"y1\": -4.6, \"y0\": -5.4, \"x0\": 5.6, \"x1\": 6.4, \"type\": \"rect\", \"line\": {\"width\": 0}}, {\"fillcolor\": \"rgb(0.290980392157,0.594509803922,0.789019607843)\", \"y1\": -4.6, \"y0\": -5.4, \"x0\": 6.6, \"x1\": 7.4, \"type\": \"rect\", \"line\": {\"width\": 0}}, {\"fillcolor\": \"rgb(0.290980392157,0.594509803922,0.789019607843)\", \"y1\": -4.6, \"y0\": -5.4, \"x0\": 7.6, \"x1\": 8.4, \"type\": \"rect\", \"line\": {\"width\": 0}}, {\"fillcolor\": \"rgb(0.290980392157,0.594509803922,0.789019607843)\", \"y1\": -4.6, \"y0\": -5.4, \"x0\": 8.6, \"x1\": 9.4, \"type\": \"rect\", \"line\": {\"width\": 0}}, {\"fillcolor\": \"rgb(0.290980392157,0.594509803922,0.789019607843)\", \"y1\": -4.6, \"y0\": -5.4, \"x0\": 9.6, \"x1\": 10.4, \"type\": \"rect\", \"line\": {\"width\": 0}}, {\"fillcolor\": \"rgb(0.290980392157,0.594509803922,0.789019607843)\", \"y1\": -4.6, \"y0\": -5.4, \"x0\": 10.6, \"x1\": 11.4, \"type\": \"rect\", \"line\": {\"width\": 0}}, {\"fillcolor\": \"rgb(0.290980392157,0.594509803922,0.789019607843)\", \"y1\": -4.6, \"y0\": -5.4, \"x0\": 11.6, \"x1\": 12.4, \"type\": \"rect\", \"line\": {\"width\": 0}}, {\"fillcolor\": \"rgb(0.290980392157,0.594509803922,0.789019607843)\", \"y1\": -4.6, \"y0\": -5.4, \"x0\": 12.6, \"x1\": 13.4, \"type\": \"rect\", \"line\": {\"width\": 0}}, {\"fillcolor\": \"rgb(0.290980392157,0.594509803922,0.789019607843)\", \"y1\": -4.6, \"y0\": -5.4, \"x0\": 13.6, \"x1\": 14.4, \"type\": \"rect\", \"line\": {\"width\": 0}}, {\"fillcolor\": \"rgb(0.4,0.4,0.4)\", \"y1\": -4.6, \"y0\": -5.4, \"x0\": 14.6, \"x1\": 15.4, \"type\": \"rect\", \"line\": {\"width\": 0}}, {\"fillcolor\": \"rgb(0.290980392157,0.594509803922,0.789019607843)\", \"y1\": -4.6, \"y0\": -5.4, \"x0\": 15.6, \"x1\": 16.4, \"type\": \"rect\", \"line\": {\"width\": 0}}, {\"fillcolor\": \"rgb(0.946666666667,0.268235294118,0.196078431373)\", \"y1\": -4.6, \"y0\": -5.4, \"x0\": 16.6, \"x1\": 17.4, \"type\": \"rect\", \"line\": {\"width\": 0}}, {\"fillcolor\": \"rgb(0.290980392157,0.594509803922,0.789019607843)\", \"y1\": -4.6, \"y0\": -5.4, \"x0\": 17.6, \"x1\": 18.4, \"type\": \"rect\", \"line\": {\"width\": 0}}, {\"fillcolor\": \"rgb(0.290980392157,0.594509803922,0.789019607843)\", \"y1\": -4.6, \"y0\": -5.4, \"x0\": 18.6, \"x1\": 19.4, \"type\": \"rect\", \"line\": {\"width\": 0}}, {\"fillcolor\": \"rgb(0.290980392157,0.594509803922,0.789019607843)\", \"y1\": -5.6, \"y0\": -6.4, \"x0\": -0.4, \"x1\": 0.4, \"type\": \"rect\", \"line\": {\"width\": 0}}, {\"fillcolor\": \"rgb(0.290980392157,0.594509803922,0.789019607843)\", \"y1\": -5.6, \"y0\": -6.4, \"x0\": 0.6, \"x1\": 1.4, \"type\": \"rect\", \"line\": {\"width\": 0}}, {\"fillcolor\": \"rgb(0.290980392157,0.594509803922,0.789019607843)\", \"y1\": -5.6, \"y0\": -6.4, \"x0\": 1.6, \"x1\": 2.4, \"type\": \"rect\", \"line\": {\"width\": 0}}, {\"fillcolor\": \"rgb(0.290980392157,0.594509803922,0.789019607843)\", \"y1\": -5.6, \"y0\": -6.4, \"x0\": 2.6, \"x1\": 3.4, \"type\": \"rect\", \"line\": {\"width\": 0}}, {\"fillcolor\": \"rgb(0.946666666667,0.268235294118,0.196078431373)\", \"y1\": -5.6, \"y0\": -6.4, \"x0\": 3.6, \"x1\": 4.4, \"type\": \"rect\", \"line\": {\"width\": 0}}, {\"fillcolor\": \"rgb(0.290980392157,0.594509803922,0.789019607843)\", \"y1\": -5.6, \"y0\": -6.4, \"x0\": 4.6, \"x1\": 5.4, \"type\": \"rect\", \"line\": {\"width\": 0}}, {\"fillcolor\": \"rgb(0.290980392157,0.594509803922,0.789019607843)\", \"y1\": -5.6, \"y0\": -6.4, \"x0\": 5.6, \"x1\": 6.4, \"type\": \"rect\", \"line\": {\"width\": 0}}, {\"fillcolor\": \"rgb(0.290980392157,0.594509803922,0.789019607843)\", \"y1\": -5.6, \"y0\": -6.4, \"x0\": 6.6, \"x1\": 7.4, \"type\": \"rect\", \"line\": {\"width\": 0}}, {\"fillcolor\": \"rgb(0.290980392157,0.594509803922,0.789019607843)\", \"y1\": -5.6, \"y0\": -6.4, \"x0\": 7.6, \"x1\": 8.4, \"type\": \"rect\", \"line\": {\"width\": 0}}, {\"fillcolor\": \"rgb(0.290980392157,0.594509803922,0.789019607843)\", \"y1\": -5.6, \"y0\": -6.4, \"x0\": 8.6, \"x1\": 9.4, \"type\": \"rect\", \"line\": {\"width\": 0}}, {\"fillcolor\": \"rgb(0.290980392157,0.594509803922,0.789019607843)\", \"y1\": -5.6, \"y0\": -6.4, \"x0\": 9.6, \"x1\": 10.4, \"type\": \"rect\", \"line\": {\"width\": 0}}, {\"fillcolor\": \"rgb(0.290980392157,0.594509803922,0.789019607843)\", \"y1\": -5.6, \"y0\": -6.4, \"x0\": 10.6, \"x1\": 11.4, \"type\": \"rect\", \"line\": {\"width\": 0}}, {\"fillcolor\": \"rgb(0.290980392157,0.594509803922,0.789019607843)\", \"y1\": -5.6, \"y0\": -6.4, \"x0\": 11.6, \"x1\": 12.4, \"type\": \"rect\", \"line\": {\"width\": 0}}, {\"fillcolor\": \"rgb(0.290980392157,0.594509803922,0.789019607843)\", \"y1\": -5.6, \"y0\": -6.4, \"x0\": 12.6, \"x1\": 13.4, \"type\": \"rect\", \"line\": {\"width\": 0}}, {\"fillcolor\": \"rgb(255,165,0)\", \"y1\": -5.6, \"y0\": -6.4, \"x0\": 13.6, \"x1\": 14.4, \"type\": \"rect\", \"line\": {\"width\": 0}}, {\"fillcolor\": \"rgb(0.290980392157,0.594509803922,0.789019607843)\", \"y1\": -5.6, \"y0\": -6.4, \"x0\": 14.6, \"x1\": 15.4, \"type\": \"rect\", \"line\": {\"width\": 0}}, {\"fillcolor\": \"rgb(0.290980392157,0.594509803922,0.789019607843)\", \"y1\": -5.6, \"y0\": -6.4, \"x0\": 15.6, \"x1\": 16.4, \"type\": \"rect\", \"line\": {\"width\": 0}}, {\"fillcolor\": \"rgb(0.946666666667,0.268235294118,0.196078431373)\", \"y1\": -5.6, \"y0\": -6.4, \"x0\": 16.6, \"x1\": 17.4, \"type\": \"rect\", \"line\": {\"width\": 0}}, {\"fillcolor\": \"rgb(0.946666666667,0.268235294118,0.196078431373)\", \"y1\": -5.6, \"y0\": -6.4, \"x0\": 17.6, \"x1\": 18.4, \"type\": \"rect\", \"line\": {\"width\": 0}}, {\"fillcolor\": \"rgb(0.290980392157,0.594509803922,0.789019607843)\", \"y1\": -5.6, \"y0\": -6.4, \"x0\": 18.6, \"x1\": 19.4, \"type\": \"rect\", \"line\": {\"width\": 0}}, {\"fillcolor\": \"rgb(0.290980392157,0.594509803922,0.789019607843)\", \"y1\": -6.6, \"y0\": -7.4, \"x0\": -0.4, \"x1\": 0.4, \"type\": \"rect\", \"line\": {\"width\": 0}}, {\"fillcolor\": \"rgb(0.946666666667,0.268235294118,0.196078431373)\", \"y1\": -6.6, \"y0\": -7.4, \"x0\": 0.6, \"x1\": 1.4, \"type\": \"rect\", \"line\": {\"width\": 0}}, {\"fillcolor\": \"rgb(0.290980392157,0.594509803922,0.789019607843)\", \"y1\": -6.6, \"y0\": -7.4, \"x0\": 1.6, \"x1\": 2.4, \"type\": \"rect\", \"line\": {\"width\": 0}}, {\"fillcolor\": \"rgb(0.290980392157,0.594509803922,0.789019607843)\", \"y1\": -6.6, \"y0\": -7.4, \"x0\": 2.6, \"x1\": 3.4, \"type\": \"rect\", \"line\": {\"width\": 0}}, {\"fillcolor\": \"rgb(0.290980392157,0.594509803922,0.789019607843)\", \"y1\": -6.6, \"y0\": -7.4, \"x0\": 3.6, \"x1\": 4.4, \"type\": \"rect\", \"line\": {\"width\": 0}}, {\"fillcolor\": \"rgb(0.290980392157,0.594509803922,0.789019607843)\", \"y1\": -6.6, \"y0\": -7.4, \"x0\": 4.6, \"x1\": 5.4, \"type\": \"rect\", \"line\": {\"width\": 0}}, {\"fillcolor\": \"rgb(0.290980392157,0.594509803922,0.789019607843)\", \"y1\": -6.6, \"y0\": -7.4, \"x0\": 5.6, \"x1\": 6.4, \"type\": \"rect\", \"line\": {\"width\": 0}}, {\"fillcolor\": \"rgb(0.290980392157,0.594509803922,0.789019607843)\", \"y1\": -6.6, \"y0\": -7.4, \"x0\": 6.6, \"x1\": 7.4, \"type\": \"rect\", \"line\": {\"width\": 0}}, {\"fillcolor\": \"rgb(0.290980392157,0.594509803922,0.789019607843)\", \"y1\": -6.6, \"y0\": -7.4, \"x0\": 7.6, \"x1\": 8.4, \"type\": \"rect\", \"line\": {\"width\": 0}}, {\"fillcolor\": \"rgb(0.290980392157,0.594509803922,0.789019607843)\", \"y1\": -6.6, \"y0\": -7.4, \"x0\": 8.6, \"x1\": 9.4, \"type\": \"rect\", \"line\": {\"width\": 0}}, {\"fillcolor\": \"rgb(0.290980392157,0.594509803922,0.789019607843)\", \"y1\": -6.6, \"y0\": -7.4, \"x0\": 9.6, \"x1\": 10.4, \"type\": \"rect\", \"line\": {\"width\": 0}}, {\"fillcolor\": \"rgb(0.290980392157,0.594509803922,0.789019607843)\", \"y1\": -6.6, \"y0\": -7.4, \"x0\": 10.6, \"x1\": 11.4, \"type\": \"rect\", \"line\": {\"width\": 0}}, {\"fillcolor\": \"rgb(0.946666666667,0.268235294118,0.196078431373)\", \"y1\": -6.6, \"y0\": -7.4, \"x0\": 11.6, \"x1\": 12.4, \"type\": \"rect\", \"line\": {\"width\": 0}}, {\"fillcolor\": \"rgb(0.290980392157,0.594509803922,0.789019607843)\", \"y1\": -6.6, \"y0\": -7.4, \"x0\": 12.6, \"x1\": 13.4, \"type\": \"rect\", \"line\": {\"width\": 0}}, {\"fillcolor\": \"rgb(0.946666666667,0.268235294118,0.196078431373)\", \"y1\": -6.6, \"y0\": -7.4, \"x0\": 13.6, \"x1\": 14.4, \"type\": \"rect\", \"line\": {\"width\": 0}}, {\"fillcolor\": \"rgb(0.290980392157,0.594509803922,0.789019607843)\", \"y1\": -6.6, \"y0\": -7.4, \"x0\": 14.6, \"x1\": 15.4, \"type\": \"rect\", \"line\": {\"width\": 0}}, {\"fillcolor\": \"rgb(0.290980392157,0.594509803922,0.789019607843)\", \"y1\": -6.6, \"y0\": -7.4, \"x0\": 15.6, \"x1\": 16.4, \"type\": \"rect\", \"line\": {\"width\": 0}}, {\"fillcolor\": \"rgb(0.290980392157,0.594509803922,0.789019607843)\", \"y1\": -6.6, \"y0\": -7.4, \"x0\": 16.6, \"x1\": 17.4, \"type\": \"rect\", \"line\": {\"width\": 0}}, {\"fillcolor\": \"rgb(0.946666666667,0.268235294118,0.196078431373)\", \"y1\": -6.6, \"y0\": -7.4, \"x0\": 17.6, \"x1\": 18.4, \"type\": \"rect\", \"line\": {\"width\": 0}}, {\"fillcolor\": \"rgb(0.290980392157,0.594509803922,0.789019607843)\", \"y1\": -6.6, \"y0\": -7.4, \"x0\": 18.6, \"x1\": 19.4, \"type\": \"rect\", \"line\": {\"width\": 0}}, {\"fillcolor\": \"rgb(0.946666666667,0.268235294118,0.196078431373)\", \"y1\": -7.6, \"y0\": -8.4, \"x0\": -0.4, \"x1\": 0.4, \"type\": \"rect\", \"line\": {\"width\": 0}}, {\"fillcolor\": \"rgb(0.290980392157,0.594509803922,0.789019607843)\", \"y1\": -7.6, \"y0\": -8.4, \"x0\": 0.6, \"x1\": 1.4, \"type\": \"rect\", \"line\": {\"width\": 0}}, {\"fillcolor\": \"rgb(0.290980392157,0.594509803922,0.789019607843)\", \"y1\": -7.6, \"y0\": -8.4, \"x0\": 1.6, \"x1\": 2.4, \"type\": \"rect\", \"line\": {\"width\": 0}}, {\"fillcolor\": \"rgb(0.290980392157,0.594509803922,0.789019607843)\", \"y1\": -7.6, \"y0\": -8.4, \"x0\": 2.6, \"x1\": 3.4, \"type\": \"rect\", \"line\": {\"width\": 0}}, {\"fillcolor\": \"rgb(0.290980392157,0.594509803922,0.789019607843)\", \"y1\": -7.6, \"y0\": -8.4, \"x0\": 3.6, \"x1\": 4.4, \"type\": \"rect\", \"line\": {\"width\": 0}}, {\"fillcolor\": \"rgb(0.290980392157,0.594509803922,0.789019607843)\", \"y1\": -7.6, \"y0\": -8.4, \"x0\": 4.6, \"x1\": 5.4, \"type\": \"rect\", \"line\": {\"width\": 0}}, {\"fillcolor\": \"rgb(0.290980392157,0.594509803922,0.789019607843)\", \"y1\": -7.6, \"y0\": -8.4, \"x0\": 5.6, \"x1\": 6.4, \"type\": \"rect\", \"line\": {\"width\": 0}}, {\"fillcolor\": \"rgb(0.290980392157,0.594509803922,0.789019607843)\", \"y1\": -7.6, \"y0\": -8.4, \"x0\": 6.6, \"x1\": 7.4, \"type\": \"rect\", \"line\": {\"width\": 0}}, {\"fillcolor\": \"rgb(0.290980392157,0.594509803922,0.789019607843)\", \"y1\": -7.6, \"y0\": -8.4, \"x0\": 7.6, \"x1\": 8.4, \"type\": \"rect\", \"line\": {\"width\": 0}}, {\"fillcolor\": \"rgb(0.290980392157,0.594509803922,0.789019607843)\", \"y1\": -7.6, \"y0\": -8.4, \"x0\": 8.6, \"x1\": 9.4, \"type\": \"rect\", \"line\": {\"width\": 0}}, {\"fillcolor\": \"rgb(0.290980392157,0.594509803922,0.789019607843)\", \"y1\": -7.6, \"y0\": -8.4, \"x0\": 9.6, \"x1\": 10.4, \"type\": \"rect\", \"line\": {\"width\": 0}}, {\"fillcolor\": \"rgb(0.290980392157,0.594509803922,0.789019607843)\", \"y1\": -7.6, \"y0\": -8.4, \"x0\": 10.6, \"x1\": 11.4, \"type\": \"rect\", \"line\": {\"width\": 0}}, {\"fillcolor\": \"rgb(0.290980392157,0.594509803922,0.789019607843)\", \"y1\": -7.6, \"y0\": -8.4, \"x0\": 11.6, \"x1\": 12.4, \"type\": \"rect\", \"line\": {\"width\": 0}}, {\"fillcolor\": \"rgb(0.290980392157,0.594509803922,0.789019607843)\", \"y1\": -7.6, \"y0\": -8.4, \"x0\": 12.6, \"x1\": 13.4, \"type\": \"rect\", \"line\": {\"width\": 0}}, {\"fillcolor\": \"rgb(0.290980392157,0.594509803922,0.789019607843)\", \"y1\": -7.6, \"y0\": -8.4, \"x0\": 13.6, \"x1\": 14.4, \"type\": \"rect\", \"line\": {\"width\": 0}}, {\"fillcolor\": \"rgb(0.290980392157,0.594509803922,0.789019607843)\", \"y1\": -7.6, \"y0\": -8.4, \"x0\": 14.6, \"x1\": 15.4, \"type\": \"rect\", \"line\": {\"width\": 0}}, {\"fillcolor\": \"rgb(0.290980392157,0.594509803922,0.789019607843)\", \"y1\": -7.6, \"y0\": -8.4, \"x0\": 15.6, \"x1\": 16.4, \"type\": \"rect\", \"line\": {\"width\": 0}}, {\"fillcolor\": \"rgb(0.290980392157,0.594509803922,0.789019607843)\", \"y1\": -7.6, \"y0\": -8.4, \"x0\": 16.6, \"x1\": 17.4, \"type\": \"rect\", \"line\": {\"width\": 0}}, {\"fillcolor\": \"rgb(0.946666666667,0.268235294118,0.196078431373)\", \"y1\": -7.6, \"y0\": -8.4, \"x0\": 17.6, \"x1\": 18.4, \"type\": \"rect\", \"line\": {\"width\": 0}}, {\"fillcolor\": \"rgb(0.290980392157,0.594509803922,0.789019607843)\", \"y1\": -7.6, \"y0\": -8.4, \"x0\": 18.6, \"x1\": 19.4, \"type\": \"rect\", \"line\": {\"width\": 0}}, {\"fillcolor\": \"rgb(0.290980392157,0.594509803922,0.789019607843)\", \"y1\": -8.6, \"y0\": -9.4, \"x0\": -0.4, \"x1\": 0.4, \"type\": \"rect\", \"line\": {\"width\": 0}}, {\"fillcolor\": \"rgb(0.290980392157,0.594509803922,0.789019607843)\", \"y1\": -8.6, \"y0\": -9.4, \"x0\": 0.6, \"x1\": 1.4, \"type\": \"rect\", \"line\": {\"width\": 0}}, {\"fillcolor\": \"rgb(0.290980392157,0.594509803922,0.789019607843)\", \"y1\": -8.6, \"y0\": -9.4, \"x0\": 1.6, \"x1\": 2.4, \"type\": \"rect\", \"line\": {\"width\": 0}}, {\"fillcolor\": \"rgb(0.290980392157,0.594509803922,0.789019607843)\", \"y1\": -8.6, \"y0\": -9.4, \"x0\": 2.6, \"x1\": 3.4, \"type\": \"rect\", \"line\": {\"width\": 0}}, {\"fillcolor\": \"rgb(0.290980392157,0.594509803922,0.789019607843)\", \"y1\": -8.6, \"y0\": -9.4, \"x0\": 3.6, \"x1\": 4.4, \"type\": \"rect\", \"line\": {\"width\": 0}}, {\"fillcolor\": \"rgb(0.946666666667,0.268235294118,0.196078431373)\", \"y1\": -8.6, \"y0\": -9.4, \"x0\": 4.6, \"x1\": 5.4, \"type\": \"rect\", \"line\": {\"width\": 0}}, {\"fillcolor\": \"rgb(0.946666666667,0.268235294118,0.196078431373)\", \"y1\": -8.6, \"y0\": -9.4, \"x0\": 5.6, \"x1\": 6.4, \"type\": \"rect\", \"line\": {\"width\": 0}}, {\"fillcolor\": \"rgb(0.290980392157,0.594509803922,0.789019607843)\", \"y1\": -8.6, \"y0\": -9.4, \"x0\": 6.6, \"x1\": 7.4, \"type\": \"rect\", \"line\": {\"width\": 0}}, {\"fillcolor\": \"rgb(0.946666666667,0.268235294118,0.196078431373)\", \"y1\": -8.6, \"y0\": -9.4, \"x0\": 7.6, \"x1\": 8.4, \"type\": \"rect\", \"line\": {\"width\": 0}}, {\"fillcolor\": \"rgb(0.290980392157,0.594509803922,0.789019607843)\", \"y1\": -8.6, \"y0\": -9.4, \"x0\": 8.6, \"x1\": 9.4, \"type\": \"rect\", \"line\": {\"width\": 0}}, {\"fillcolor\": \"rgb(0.290980392157,0.594509803922,0.789019607843)\", \"y1\": -8.6, \"y0\": -9.4, \"x0\": 9.6, \"x1\": 10.4, \"type\": \"rect\", \"line\": {\"width\": 0}}, {\"fillcolor\": \"rgb(0.290980392157,0.594509803922,0.789019607843)\", \"y1\": -8.6, \"y0\": -9.4, \"x0\": 10.6, \"x1\": 11.4, \"type\": \"rect\", \"line\": {\"width\": 0}}, {\"fillcolor\": \"rgb(0.946666666667,0.268235294118,0.196078431373)\", \"y1\": -8.6, \"y0\": -9.4, \"x0\": 11.6, \"x1\": 12.4, \"type\": \"rect\", \"line\": {\"width\": 0}}, {\"fillcolor\": \"rgb(0.290980392157,0.594509803922,0.789019607843)\", \"y1\": -8.6, \"y0\": -9.4, \"x0\": 12.6, \"x1\": 13.4, \"type\": \"rect\", \"line\": {\"width\": 0}}, {\"fillcolor\": \"rgb(0.290980392157,0.594509803922,0.789019607843)\", \"y1\": -8.6, \"y0\": -9.4, \"x0\": 13.6, \"x1\": 14.4, \"type\": \"rect\", \"line\": {\"width\": 0}}, {\"fillcolor\": \"rgb(0.946666666667,0.268235294118,0.196078431373)\", \"y1\": -8.6, \"y0\": -9.4, \"x0\": 14.6, \"x1\": 15.4, \"type\": \"rect\", \"line\": {\"width\": 0}}, {\"fillcolor\": \"rgb(0.290980392157,0.594509803922,0.789019607843)\", \"y1\": -8.6, \"y0\": -9.4, \"x0\": 15.6, \"x1\": 16.4, \"type\": \"rect\", \"line\": {\"width\": 0}}, {\"fillcolor\": \"rgb(0.946666666667,0.268235294118,0.196078431373)\", \"y1\": -8.6, \"y0\": -9.4, \"x0\": 16.6, \"x1\": 17.4, \"type\": \"rect\", \"line\": {\"width\": 0}}, {\"fillcolor\": \"rgb(0.290980392157,0.594509803922,0.789019607843)\", \"y1\": -8.6, \"y0\": -9.4, \"x0\": 17.6, \"x1\": 18.4, \"type\": \"rect\", \"line\": {\"width\": 0}}, {\"fillcolor\": \"rgb(0.290980392157,0.594509803922,0.789019607843)\", \"y1\": -8.6, \"y0\": -9.4, \"x0\": 18.6, \"x1\": 19.4, \"type\": \"rect\", \"line\": {\"width\": 0}}, {\"fillcolor\": \"rgb(0.290980392157,0.594509803922,0.789019607843)\", \"y1\": -9.6, \"y0\": -10.4, \"x0\": -0.4, \"x1\": 0.4, \"type\": \"rect\", \"line\": {\"width\": 0}}, {\"fillcolor\": \"rgb(0.290980392157,0.594509803922,0.789019607843)\", \"y1\": -9.6, \"y0\": -10.4, \"x0\": 0.6, \"x1\": 1.4, \"type\": \"rect\", \"line\": {\"width\": 0}}, {\"fillcolor\": \"rgb(0.946666666667,0.268235294118,0.196078431373)\", \"y1\": -9.6, \"y0\": -10.4, \"x0\": 1.6, \"x1\": 2.4, \"type\": \"rect\", \"line\": {\"width\": 0}}, {\"fillcolor\": \"rgb(0.290980392157,0.594509803922,0.789019607843)\", \"y1\": -9.6, \"y0\": -10.4, \"x0\": 2.6, \"x1\": 3.4, \"type\": \"rect\", \"line\": {\"width\": 0}}, {\"fillcolor\": \"rgb(0.290980392157,0.594509803922,0.789019607843)\", \"y1\": -9.6, \"y0\": -10.4, \"x0\": 3.6, \"x1\": 4.4, \"type\": \"rect\", \"line\": {\"width\": 0}}, {\"fillcolor\": \"rgb(0.290980392157,0.594509803922,0.789019607843)\", \"y1\": -9.6, \"y0\": -10.4, \"x0\": 4.6, \"x1\": 5.4, \"type\": \"rect\", \"line\": {\"width\": 0}}, {\"fillcolor\": \"rgb(0.290980392157,0.594509803922,0.789019607843)\", \"y1\": -9.6, \"y0\": -10.4, \"x0\": 5.6, \"x1\": 6.4, \"type\": \"rect\", \"line\": {\"width\": 0}}, {\"fillcolor\": \"rgb(0.290980392157,0.594509803922,0.789019607843)\", \"y1\": -9.6, \"y0\": -10.4, \"x0\": 6.6, \"x1\": 7.4, \"type\": \"rect\", \"line\": {\"width\": 0}}, {\"fillcolor\": \"rgb(0.290980392157,0.594509803922,0.789019607843)\", \"y1\": -9.6, \"y0\": -10.4, \"x0\": 7.6, \"x1\": 8.4, \"type\": \"rect\", \"line\": {\"width\": 0}}, {\"fillcolor\": \"rgb(0.290980392157,0.594509803922,0.789019607843)\", \"y1\": -9.6, \"y0\": -10.4, \"x0\": 8.6, \"x1\": 9.4, \"type\": \"rect\", \"line\": {\"width\": 0}}, {\"fillcolor\": \"rgb(0.946666666667,0.268235294118,0.196078431373)\", \"y1\": -9.6, \"y0\": -10.4, \"x0\": 9.6, \"x1\": 10.4, \"type\": \"rect\", \"line\": {\"width\": 0}}, {\"fillcolor\": \"rgb(0.290980392157,0.594509803922,0.789019607843)\", \"y1\": -9.6, \"y0\": -10.4, \"x0\": 10.6, \"x1\": 11.4, \"type\": \"rect\", \"line\": {\"width\": 0}}, {\"fillcolor\": \"rgb(0.290980392157,0.594509803922,0.789019607843)\", \"y1\": -9.6, \"y0\": -10.4, \"x0\": 11.6, \"x1\": 12.4, \"type\": \"rect\", \"line\": {\"width\": 0}}, {\"fillcolor\": \"rgb(0.290980392157,0.594509803922,0.789019607843)\", \"y1\": -9.6, \"y0\": -10.4, \"x0\": 12.6, \"x1\": 13.4, \"type\": \"rect\", \"line\": {\"width\": 0}}, {\"fillcolor\": \"rgb(0.290980392157,0.594509803922,0.789019607843)\", \"y1\": -9.6, \"y0\": -10.4, \"x0\": 13.6, \"x1\": 14.4, \"type\": \"rect\", \"line\": {\"width\": 0}}, {\"fillcolor\": \"rgb(0.290980392157,0.594509803922,0.789019607843)\", \"y1\": -9.6, \"y0\": -10.4, \"x0\": 14.6, \"x1\": 15.4, \"type\": \"rect\", \"line\": {\"width\": 0}}, {\"fillcolor\": \"rgb(0.290980392157,0.594509803922,0.789019607843)\", \"y1\": -9.6, \"y0\": -10.4, \"x0\": 15.6, \"x1\": 16.4, \"type\": \"rect\", \"line\": {\"width\": 0}}, {\"fillcolor\": \"rgb(0.290980392157,0.594509803922,0.789019607843)\", \"y1\": -9.6, \"y0\": -10.4, \"x0\": 16.6, \"x1\": 17.4, \"type\": \"rect\", \"line\": {\"width\": 0}}, {\"fillcolor\": \"rgb(0.946666666667,0.268235294118,0.196078431373)\", \"y1\": -9.6, \"y0\": -10.4, \"x0\": 17.6, \"x1\": 18.4, \"type\": \"rect\", \"line\": {\"width\": 0}}, {\"fillcolor\": \"rgb(0.290980392157,0.594509803922,0.789019607843)\", \"y1\": -9.6, \"y0\": -10.4, \"x0\": 18.6, \"x1\": 19.4, \"type\": \"rect\", \"line\": {\"width\": 0}}, {\"fillcolor\": \"rgb(0.946666666667,0.268235294118,0.196078431373)\", \"y1\": -10.6, \"y0\": -11.4, \"x0\": -0.4, \"x1\": 0.4, \"type\": \"rect\", \"line\": {\"width\": 0}}, {\"fillcolor\": \"rgb(0.946666666667,0.268235294118,0.196078431373)\", \"y1\": -10.6, \"y0\": -11.4, \"x0\": 0.6, \"x1\": 1.4, \"type\": \"rect\", \"line\": {\"width\": 0}}, {\"fillcolor\": \"rgb(0.290980392157,0.594509803922,0.789019607843)\", \"y1\": -10.6, \"y0\": -11.4, \"x0\": 1.6, \"x1\": 2.4, \"type\": \"rect\", \"line\": {\"width\": 0}}, {\"fillcolor\": \"rgb(0.946666666667,0.268235294118,0.196078431373)\", \"y1\": -10.6, \"y0\": -11.4, \"x0\": 2.6, \"x1\": 3.4, \"type\": \"rect\", \"line\": {\"width\": 0}}, {\"fillcolor\": \"rgb(0.946666666667,0.268235294118,0.196078431373)\", \"y1\": -10.6, \"y0\": -11.4, \"x0\": 3.6, \"x1\": 4.4, \"type\": \"rect\", \"line\": {\"width\": 0}}, {\"fillcolor\": \"rgb(0.946666666667,0.268235294118,0.196078431373)\", \"y1\": -10.6, \"y0\": -11.4, \"x0\": 4.6, \"x1\": 5.4, \"type\": \"rect\", \"line\": {\"width\": 0}}, {\"fillcolor\": \"rgb(0.946666666667,0.268235294118,0.196078431373)\", \"y1\": -10.6, \"y0\": -11.4, \"x0\": 5.6, \"x1\": 6.4, \"type\": \"rect\", \"line\": {\"width\": 0}}, {\"fillcolor\": \"rgb(0.290980392157,0.594509803922,0.789019607843)\", \"y1\": -10.6, \"y0\": -11.4, \"x0\": 6.6, \"x1\": 7.4, \"type\": \"rect\", \"line\": {\"width\": 0}}, {\"fillcolor\": \"rgb(0.290980392157,0.594509803922,0.789019607843)\", \"y1\": -10.6, \"y0\": -11.4, \"x0\": 7.6, \"x1\": 8.4, \"type\": \"rect\", \"line\": {\"width\": 0}}, {\"fillcolor\": \"rgb(0.290980392157,0.594509803922,0.789019607843)\", \"y1\": -10.6, \"y0\": -11.4, \"x0\": 8.6, \"x1\": 9.4, \"type\": \"rect\", \"line\": {\"width\": 0}}, {\"fillcolor\": \"rgb(0.290980392157,0.594509803922,0.789019607843)\", \"y1\": -10.6, \"y0\": -11.4, \"x0\": 9.6, \"x1\": 10.4, \"type\": \"rect\", \"line\": {\"width\": 0}}, {\"fillcolor\": \"rgb(0.290980392157,0.594509803922,0.789019607843)\", \"y1\": -10.6, \"y0\": -11.4, \"x0\": 10.6, \"x1\": 11.4, \"type\": \"rect\", \"line\": {\"width\": 0}}, {\"fillcolor\": \"rgb(0.946666666667,0.268235294118,0.196078431373)\", \"y1\": -10.6, \"y0\": -11.4, \"x0\": 11.6, \"x1\": 12.4, \"type\": \"rect\", \"line\": {\"width\": 0}}, {\"fillcolor\": \"rgb(0.290980392157,0.594509803922,0.789019607843)\", \"y1\": -10.6, \"y0\": -11.4, \"x0\": 12.6, \"x1\": 13.4, \"type\": \"rect\", \"line\": {\"width\": 0}}, {\"fillcolor\": \"rgb(0.290980392157,0.594509803922,0.789019607843)\", \"y1\": -10.6, \"y0\": -11.4, \"x0\": 13.6, \"x1\": 14.4, \"type\": \"rect\", \"line\": {\"width\": 0}}, {\"fillcolor\": \"rgb(0.946666666667,0.268235294118,0.196078431373)\", \"y1\": -10.6, \"y0\": -11.4, \"x0\": 14.6, \"x1\": 15.4, \"type\": \"rect\", \"line\": {\"width\": 0}}, {\"fillcolor\": \"rgb(0.290980392157,0.594509803922,0.789019607843)\", \"y1\": -10.6, \"y0\": -11.4, \"x0\": 15.6, \"x1\": 16.4, \"type\": \"rect\", \"line\": {\"width\": 0}}, {\"fillcolor\": \"rgb(0.946666666667,0.268235294118,0.196078431373)\", \"y1\": -10.6, \"y0\": -11.4, \"x0\": 16.6, \"x1\": 17.4, \"type\": \"rect\", \"line\": {\"width\": 0}}, {\"fillcolor\": \"rgb(0.946666666667,0.268235294118,0.196078431373)\", \"y1\": -10.6, \"y0\": -11.4, \"x0\": 17.6, \"x1\": 18.4, \"type\": \"rect\", \"line\": {\"width\": 0}}, {\"fillcolor\": \"rgb(0.946666666667,0.268235294118,0.196078431373)\", \"y1\": -10.6, \"y0\": -11.4, \"x0\": 18.6, \"x1\": 19.4, \"type\": \"rect\", \"line\": {\"width\": 0}}, {\"fillcolor\": \"rgb(0.290980392157,0.594509803922,0.789019607843)\", \"y1\": -11.6, \"y0\": -12.4, \"x0\": -0.4, \"x1\": 0.4, \"type\": \"rect\", \"line\": {\"width\": 0}}, {\"fillcolor\": \"rgb(0.946666666667,0.268235294118,0.196078431373)\", \"y1\": -11.6, \"y0\": -12.4, \"x0\": 0.6, \"x1\": 1.4, \"type\": \"rect\", \"line\": {\"width\": 0}}, {\"fillcolor\": \"rgb(0.946666666667,0.268235294118,0.196078431373)\", \"y1\": -11.6, \"y0\": -12.4, \"x0\": 1.6, \"x1\": 2.4, \"type\": \"rect\", \"line\": {\"width\": 0}}, {\"fillcolor\": \"rgb(0.946666666667,0.268235294118,0.196078431373)\", \"y1\": -11.6, \"y0\": -12.4, \"x0\": 2.6, \"x1\": 3.4, \"type\": \"rect\", \"line\": {\"width\": 0}}, {\"fillcolor\": \"rgb(0.290980392157,0.594509803922,0.789019607843)\", \"y1\": -11.6, \"y0\": -12.4, \"x0\": 3.6, \"x1\": 4.4, \"type\": \"rect\", \"line\": {\"width\": 0}}, {\"fillcolor\": \"rgb(0.946666666667,0.268235294118,0.196078431373)\", \"y1\": -11.6, \"y0\": -12.4, \"x0\": 4.6, \"x1\": 5.4, \"type\": \"rect\", \"line\": {\"width\": 0}}, {\"fillcolor\": \"rgb(0.946666666667,0.268235294118,0.196078431373)\", \"y1\": -11.6, \"y0\": -12.4, \"x0\": 5.6, \"x1\": 6.4, \"type\": \"rect\", \"line\": {\"width\": 0}}, {\"fillcolor\": \"rgb(0.946666666667,0.268235294118,0.196078431373)\", \"y1\": -11.6, \"y0\": -12.4, \"x0\": 6.6, \"x1\": 7.4, \"type\": \"rect\", \"line\": {\"width\": 0}}, {\"fillcolor\": \"rgb(0.290980392157,0.594509803922,0.789019607843)\", \"y1\": -11.6, \"y0\": -12.4, \"x0\": 7.6, \"x1\": 8.4, \"type\": \"rect\", \"line\": {\"width\": 0}}, {\"fillcolor\": \"rgb(0.290980392157,0.594509803922,0.789019607843)\", \"y1\": -11.6, \"y0\": -12.4, \"x0\": 8.6, \"x1\": 9.4, \"type\": \"rect\", \"line\": {\"width\": 0}}, {\"fillcolor\": \"rgb(0.946666666667,0.268235294118,0.196078431373)\", \"y1\": -11.6, \"y0\": -12.4, \"x0\": 9.6, \"x1\": 10.4, \"type\": \"rect\", \"line\": {\"width\": 0}}, {\"fillcolor\": \"rgb(0.290980392157,0.594509803922,0.789019607843)\", \"y1\": -11.6, \"y0\": -12.4, \"x0\": 10.6, \"x1\": 11.4, \"type\": \"rect\", \"line\": {\"width\": 0}}, {\"fillcolor\": \"rgb(0.290980392157,0.594509803922,0.789019607843)\", \"y1\": -11.6, \"y0\": -12.4, \"x0\": 11.6, \"x1\": 12.4, \"type\": \"rect\", \"line\": {\"width\": 0}}, {\"fillcolor\": \"rgb(0.290980392157,0.594509803922,0.789019607843)\", \"y1\": -11.6, \"y0\": -12.4, \"x0\": 12.6, \"x1\": 13.4, \"type\": \"rect\", \"line\": {\"width\": 0}}, {\"fillcolor\": \"rgb(0.946666666667,0.268235294118,0.196078431373)\", \"y1\": -11.6, \"y0\": -12.4, \"x0\": 13.6, \"x1\": 14.4, \"type\": \"rect\", \"line\": {\"width\": 0}}, {\"fillcolor\": \"rgb(0.290980392157,0.594509803922,0.789019607843)\", \"y1\": -11.6, \"y0\": -12.4, \"x0\": 14.6, \"x1\": 15.4, \"type\": \"rect\", \"line\": {\"width\": 0}}, {\"fillcolor\": \"rgb(0.946666666667,0.268235294118,0.196078431373)\", \"y1\": -11.6, \"y0\": -12.4, \"x0\": 15.6, \"x1\": 16.4, \"type\": \"rect\", \"line\": {\"width\": 0}}, {\"fillcolor\": \"rgb(0.946666666667,0.268235294118,0.196078431373)\", \"y1\": -11.6, \"y0\": -12.4, \"x0\": 16.6, \"x1\": 17.4, \"type\": \"rect\", \"line\": {\"width\": 0}}, {\"fillcolor\": \"rgb(0.946666666667,0.268235294118,0.196078431373)\", \"y1\": -11.6, \"y0\": -12.4, \"x0\": 17.6, \"x1\": 18.4, \"type\": \"rect\", \"line\": {\"width\": 0}}, {\"fillcolor\": \"rgb(0.946666666667,0.268235294118,0.196078431373)\", \"y1\": -11.6, \"y0\": -12.4, \"x0\": 18.6, \"x1\": 19.4, \"type\": \"rect\", \"line\": {\"width\": 0}}, {\"fillcolor\": \"rgb(0.946666666667,0.268235294118,0.196078431373)\", \"y1\": -12.6, \"y0\": -13.4, \"x0\": -0.4, \"x1\": 0.4, \"type\": \"rect\", \"line\": {\"width\": 0}}, {\"fillcolor\": \"rgb(0.946666666667,0.268235294118,0.196078431373)\", \"y1\": -12.6, \"y0\": -13.4, \"x0\": 0.6, \"x1\": 1.4, \"type\": \"rect\", \"line\": {\"width\": 0}}, {\"fillcolor\": \"rgb(0.290980392157,0.594509803922,0.789019607843)\", \"y1\": -12.6, \"y0\": -13.4, \"x0\": 1.6, \"x1\": 2.4, \"type\": \"rect\", \"line\": {\"width\": 0}}, {\"fillcolor\": \"rgb(0.946666666667,0.268235294118,0.196078431373)\", \"y1\": -12.6, \"y0\": -13.4, \"x0\": 2.6, \"x1\": 3.4, \"type\": \"rect\", \"line\": {\"width\": 0}}, {\"fillcolor\": \"rgb(0.946666666667,0.268235294118,0.196078431373)\", \"y1\": -12.6, \"y0\": -13.4, \"x0\": 3.6, \"x1\": 4.4, \"type\": \"rect\", \"line\": {\"width\": 0}}, {\"fillcolor\": \"rgb(0.946666666667,0.268235294118,0.196078431373)\", \"y1\": -12.6, \"y0\": -13.4, \"x0\": 4.6, \"x1\": 5.4, \"type\": \"rect\", \"line\": {\"width\": 0}}, {\"fillcolor\": \"rgb(0.290980392157,0.594509803922,0.789019607843)\", \"y1\": -12.6, \"y0\": -13.4, \"x0\": 5.6, \"x1\": 6.4, \"type\": \"rect\", \"line\": {\"width\": 0}}, {\"fillcolor\": \"rgb(0.946666666667,0.268235294118,0.196078431373)\", \"y1\": -12.6, \"y0\": -13.4, \"x0\": 6.6, \"x1\": 7.4, \"type\": \"rect\", \"line\": {\"width\": 0}}, {\"fillcolor\": \"rgb(0.290980392157,0.594509803922,0.789019607843)\", \"y1\": -12.6, \"y0\": -13.4, \"x0\": 7.6, \"x1\": 8.4, \"type\": \"rect\", \"line\": {\"width\": 0}}, {\"fillcolor\": \"rgb(0.946666666667,0.268235294118,0.196078431373)\", \"y1\": -12.6, \"y0\": -13.4, \"x0\": 8.6, \"x1\": 9.4, \"type\": \"rect\", \"line\": {\"width\": 0}}, {\"fillcolor\": \"rgb(0.946666666667,0.268235294118,0.196078431373)\", \"y1\": -12.6, \"y0\": -13.4, \"x0\": 9.6, \"x1\": 10.4, \"type\": \"rect\", \"line\": {\"width\": 0}}, {\"fillcolor\": \"rgb(0.290980392157,0.594509803922,0.789019607843)\", \"y1\": -12.6, \"y0\": -13.4, \"x0\": 10.6, \"x1\": 11.4, \"type\": \"rect\", \"line\": {\"width\": 0}}, {\"fillcolor\": \"rgb(0.946666666667,0.268235294118,0.196078431373)\", \"y1\": -12.6, \"y0\": -13.4, \"x0\": 11.6, \"x1\": 12.4, \"type\": \"rect\", \"line\": {\"width\": 0}}, {\"fillcolor\": \"rgb(0.946666666667,0.268235294118,0.196078431373)\", \"y1\": -12.6, \"y0\": -13.4, \"x0\": 12.6, \"x1\": 13.4, \"type\": \"rect\", \"line\": {\"width\": 0}}, {\"fillcolor\": \"rgb(0.946666666667,0.268235294118,0.196078431373)\", \"y1\": -12.6, \"y0\": -13.4, \"x0\": 13.6, \"x1\": 14.4, \"type\": \"rect\", \"line\": {\"width\": 0}}, {\"fillcolor\": \"rgb(0.946666666667,0.268235294118,0.196078431373)\", \"y1\": -12.6, \"y0\": -13.4, \"x0\": 14.6, \"x1\": 15.4, \"type\": \"rect\", \"line\": {\"width\": 0}}, {\"fillcolor\": \"rgb(0.946666666667,0.268235294118,0.196078431373)\", \"y1\": -12.6, \"y0\": -13.4, \"x0\": 15.6, \"x1\": 16.4, \"type\": \"rect\", \"line\": {\"width\": 0}}, {\"fillcolor\": \"rgb(0.946666666667,0.268235294118,0.196078431373)\", \"y1\": -12.6, \"y0\": -13.4, \"x0\": 16.6, \"x1\": 17.4, \"type\": \"rect\", \"line\": {\"width\": 0}}, {\"fillcolor\": \"rgb(0.946666666667,0.268235294118,0.196078431373)\", \"y1\": -12.6, \"y0\": -13.4, \"x0\": 17.6, \"x1\": 18.4, \"type\": \"rect\", \"line\": {\"width\": 0}}, {\"fillcolor\": \"rgb(0.946666666667,0.268235294118,0.196078431373)\", \"y1\": -12.6, \"y0\": -13.4, \"x0\": 18.6, \"x1\": 19.4, \"type\": \"rect\", \"line\": {\"width\": 0}}, {\"fillcolor\": \"rgb(0.290980392157,0.594509803922,0.789019607843)\", \"y1\": -13.6, \"y0\": -14.4, \"x0\": -0.4, \"x1\": 0.4, \"type\": \"rect\", \"line\": {\"width\": 0}}, {\"fillcolor\": \"rgb(0.946666666667,0.268235294118,0.196078431373)\", \"y1\": -13.6, \"y0\": -14.4, \"x0\": 0.6, \"x1\": 1.4, \"type\": \"rect\", \"line\": {\"width\": 0}}, {\"fillcolor\": \"rgb(0.290980392157,0.594509803922,0.789019607843)\", \"y1\": -13.6, \"y0\": -14.4, \"x0\": 1.6, \"x1\": 2.4, \"type\": \"rect\", \"line\": {\"width\": 0}}, {\"fillcolor\": \"rgb(0.946666666667,0.268235294118,0.196078431373)\", \"y1\": -13.6, \"y0\": -14.4, \"x0\": 2.6, \"x1\": 3.4, \"type\": \"rect\", \"line\": {\"width\": 0}}, {\"fillcolor\": \"rgb(0.946666666667,0.268235294118,0.196078431373)\", \"y1\": -13.6, \"y0\": -14.4, \"x0\": 3.6, \"x1\": 4.4, \"type\": \"rect\", \"line\": {\"width\": 0}}, {\"fillcolor\": \"rgb(0.946666666667,0.268235294118,0.196078431373)\", \"y1\": -13.6, \"y0\": -14.4, \"x0\": 4.6, \"x1\": 5.4, \"type\": \"rect\", \"line\": {\"width\": 0}}, {\"fillcolor\": \"rgb(0.946666666667,0.268235294118,0.196078431373)\", \"y1\": -13.6, \"y0\": -14.4, \"x0\": 5.6, \"x1\": 6.4, \"type\": \"rect\", \"line\": {\"width\": 0}}, {\"fillcolor\": \"rgb(0.946666666667,0.268235294118,0.196078431373)\", \"y1\": -13.6, \"y0\": -14.4, \"x0\": 6.6, \"x1\": 7.4, \"type\": \"rect\", \"line\": {\"width\": 0}}, {\"fillcolor\": \"rgb(0.946666666667,0.268235294118,0.196078431373)\", \"y1\": -13.6, \"y0\": -14.4, \"x0\": 7.6, \"x1\": 8.4, \"type\": \"rect\", \"line\": {\"width\": 0}}, {\"fillcolor\": \"rgb(0.946666666667,0.268235294118,0.196078431373)\", \"y1\": -13.6, \"y0\": -14.4, \"x0\": 8.6, \"x1\": 9.4, \"type\": \"rect\", \"line\": {\"width\": 0}}, {\"fillcolor\": \"rgb(0.946666666667,0.268235294118,0.196078431373)\", \"y1\": -13.6, \"y0\": -14.4, \"x0\": 9.6, \"x1\": 10.4, \"type\": \"rect\", \"line\": {\"width\": 0}}, {\"fillcolor\": \"rgb(0.946666666667,0.268235294118,0.196078431373)\", \"y1\": -13.6, \"y0\": -14.4, \"x0\": 10.6, \"x1\": 11.4, \"type\": \"rect\", \"line\": {\"width\": 0}}, {\"fillcolor\": \"rgb(0.946666666667,0.268235294118,0.196078431373)\", \"y1\": -13.6, \"y0\": -14.4, \"x0\": 11.6, \"x1\": 12.4, \"type\": \"rect\", \"line\": {\"width\": 0}}, {\"fillcolor\": \"rgb(0.290980392157,0.594509803922,0.789019607843)\", \"y1\": -13.6, \"y0\": -14.4, \"x0\": 12.6, \"x1\": 13.4, \"type\": \"rect\", \"line\": {\"width\": 0}}, {\"fillcolor\": \"rgb(0.946666666667,0.268235294118,0.196078431373)\", \"y1\": -13.6, \"y0\": -14.4, \"x0\": 13.6, \"x1\": 14.4, \"type\": \"rect\", \"line\": {\"width\": 0}}, {\"fillcolor\": \"rgb(0.946666666667,0.268235294118,0.196078431373)\", \"y1\": -13.6, \"y0\": -14.4, \"x0\": 14.6, \"x1\": 15.4, \"type\": \"rect\", \"line\": {\"width\": 0}}, {\"fillcolor\": \"rgb(0.290980392157,0.594509803922,0.789019607843)\", \"y1\": -13.6, \"y0\": -14.4, \"x0\": 15.6, \"x1\": 16.4, \"type\": \"rect\", \"line\": {\"width\": 0}}, {\"fillcolor\": \"rgb(0.290980392157,0.594509803922,0.789019607843)\", \"y1\": -13.6, \"y0\": -14.4, \"x0\": 16.6, \"x1\": 17.4, \"type\": \"rect\", \"line\": {\"width\": 0}}, {\"fillcolor\": \"rgb(0.946666666667,0.268235294118,0.196078431373)\", \"y1\": -13.6, \"y0\": -14.4, \"x0\": 17.6, \"x1\": 18.4, \"type\": \"rect\", \"line\": {\"width\": 0}}, {\"fillcolor\": \"rgb(0.946666666667,0.268235294118,0.196078431373)\", \"y1\": -13.6, \"y0\": -14.4, \"x0\": 18.6, \"x1\": 19.4, \"type\": \"rect\", \"line\": {\"width\": 0}}, {\"fillcolor\": \"rgb(0.290980392157,0.594509803922,0.789019607843)\", \"y1\": -14.6, \"y0\": -15.4, \"x0\": -0.4, \"x1\": 0.4, \"type\": \"rect\", \"line\": {\"width\": 0}}, {\"fillcolor\": \"rgb(0.946666666667,0.268235294118,0.196078431373)\", \"y1\": -14.6, \"y0\": -15.4, \"x0\": 0.6, \"x1\": 1.4, \"type\": \"rect\", \"line\": {\"width\": 0}}, {\"fillcolor\": \"rgb(0.946666666667,0.268235294118,0.196078431373)\", \"y1\": -14.6, \"y0\": -15.4, \"x0\": 1.6, \"x1\": 2.4, \"type\": \"rect\", \"line\": {\"width\": 0}}, {\"fillcolor\": \"rgb(0.946666666667,0.268235294118,0.196078431373)\", \"y1\": -14.6, \"y0\": -15.4, \"x0\": 2.6, \"x1\": 3.4, \"type\": \"rect\", \"line\": {\"width\": 0}}, {\"fillcolor\": \"rgb(0.290980392157,0.594509803922,0.789019607843)\", \"y1\": -14.6, \"y0\": -15.4, \"x0\": 3.6, \"x1\": 4.4, \"type\": \"rect\", \"line\": {\"width\": 0}}, {\"fillcolor\": \"rgb(0.946666666667,0.268235294118,0.196078431373)\", \"y1\": -14.6, \"y0\": -15.4, \"x0\": 4.6, \"x1\": 5.4, \"type\": \"rect\", \"line\": {\"width\": 0}}, {\"fillcolor\": \"rgb(0.946666666667,0.268235294118,0.196078431373)\", \"y1\": -14.6, \"y0\": -15.4, \"x0\": 5.6, \"x1\": 6.4, \"type\": \"rect\", \"line\": {\"width\": 0}}, {\"fillcolor\": \"rgb(0.946666666667,0.268235294118,0.196078431373)\", \"y1\": -14.6, \"y0\": -15.4, \"x0\": 6.6, \"x1\": 7.4, \"type\": \"rect\", \"line\": {\"width\": 0}}, {\"fillcolor\": \"rgb(0.290980392157,0.594509803922,0.789019607843)\", \"y1\": -14.6, \"y0\": -15.4, \"x0\": 7.6, \"x1\": 8.4, \"type\": \"rect\", \"line\": {\"width\": 0}}, {\"fillcolor\": \"rgb(0.946666666667,0.268235294118,0.196078431373)\", \"y1\": -14.6, \"y0\": -15.4, \"x0\": 8.6, \"x1\": 9.4, \"type\": \"rect\", \"line\": {\"width\": 0}}, {\"fillcolor\": \"rgb(0.290980392157,0.594509803922,0.789019607843)\", \"y1\": -14.6, \"y0\": -15.4, \"x0\": 9.6, \"x1\": 10.4, \"type\": \"rect\", \"line\": {\"width\": 0}}, {\"fillcolor\": \"rgb(0.946666666667,0.268235294118,0.196078431373)\", \"y1\": -14.6, \"y0\": -15.4, \"x0\": 10.6, \"x1\": 11.4, \"type\": \"rect\", \"line\": {\"width\": 0}}, {\"fillcolor\": \"rgb(0.946666666667,0.268235294118,0.196078431373)\", \"y1\": -14.6, \"y0\": -15.4, \"x0\": 11.6, \"x1\": 12.4, \"type\": \"rect\", \"line\": {\"width\": 0}}, {\"fillcolor\": \"rgb(0.290980392157,0.594509803922,0.789019607843)\", \"y1\": -14.6, \"y0\": -15.4, \"x0\": 12.6, \"x1\": 13.4, \"type\": \"rect\", \"line\": {\"width\": 0}}, {\"fillcolor\": \"rgb(0.946666666667,0.268235294118,0.196078431373)\", \"y1\": -14.6, \"y0\": -15.4, \"x0\": 13.6, \"x1\": 14.4, \"type\": \"rect\", \"line\": {\"width\": 0}}, {\"fillcolor\": \"rgb(0.946666666667,0.268235294118,0.196078431373)\", \"y1\": -14.6, \"y0\": -15.4, \"x0\": 14.6, \"x1\": 15.4, \"type\": \"rect\", \"line\": {\"width\": 0}}, {\"fillcolor\": \"rgb(0.946666666667,0.268235294118,0.196078431373)\", \"y1\": -14.6, \"y0\": -15.4, \"x0\": 15.6, \"x1\": 16.4, \"type\": \"rect\", \"line\": {\"width\": 0}}, {\"fillcolor\": \"rgb(0.946666666667,0.268235294118,0.196078431373)\", \"y1\": -14.6, \"y0\": -15.4, \"x0\": 16.6, \"x1\": 17.4, \"type\": \"rect\", \"line\": {\"width\": 0}}, {\"fillcolor\": \"rgb(0.946666666667,0.268235294118,0.196078431373)\", \"y1\": -14.6, \"y0\": -15.4, \"x0\": 17.6, \"x1\": 18.4, \"type\": \"rect\", \"line\": {\"width\": 0}}, {\"fillcolor\": \"rgb(0.946666666667,0.268235294118,0.196078431373)\", \"y1\": -14.6, \"y0\": -15.4, \"x0\": 18.6, \"x1\": 19.4, \"type\": \"rect\", \"line\": {\"width\": 0}}, {\"fillcolor\": \"rgb(0.946666666667,0.268235294118,0.196078431373)\", \"y1\": -15.6, \"y0\": -16.4, \"x0\": -0.4, \"x1\": 0.4, \"type\": \"rect\", \"line\": {\"width\": 0}}, {\"fillcolor\": \"rgb(0.946666666667,0.268235294118,0.196078431373)\", \"y1\": -15.6, \"y0\": -16.4, \"x0\": 0.6, \"x1\": 1.4, \"type\": \"rect\", \"line\": {\"width\": 0}}, {\"fillcolor\": \"rgb(0.946666666667,0.268235294118,0.196078431373)\", \"y1\": -15.6, \"y0\": -16.4, \"x0\": 1.6, \"x1\": 2.4, \"type\": \"rect\", \"line\": {\"width\": 0}}, {\"fillcolor\": \"rgb(0.290980392157,0.594509803922,0.789019607843)\", \"y1\": -15.6, \"y0\": -16.4, \"x0\": 2.6, \"x1\": 3.4, \"type\": \"rect\", \"line\": {\"width\": 0}}, {\"fillcolor\": \"rgb(0.946666666667,0.268235294118,0.196078431373)\", \"y1\": -15.6, \"y0\": -16.4, \"x0\": 3.6, \"x1\": 4.4, \"type\": \"rect\", \"line\": {\"width\": 0}}, {\"fillcolor\": \"rgb(0.946666666667,0.268235294118,0.196078431373)\", \"y1\": -15.6, \"y0\": -16.4, \"x0\": 4.6, \"x1\": 5.4, \"type\": \"rect\", \"line\": {\"width\": 0}}, {\"fillcolor\": \"rgb(0.946666666667,0.268235294118,0.196078431373)\", \"y1\": -15.6, \"y0\": -16.4, \"x0\": 5.6, \"x1\": 6.4, \"type\": \"rect\", \"line\": {\"width\": 0}}, {\"fillcolor\": \"rgb(0.946666666667,0.268235294118,0.196078431373)\", \"y1\": -15.6, \"y0\": -16.4, \"x0\": 6.6, \"x1\": 7.4, \"type\": \"rect\", \"line\": {\"width\": 0}}, {\"fillcolor\": \"rgb(0.946666666667,0.268235294118,0.196078431373)\", \"y1\": -15.6, \"y0\": -16.4, \"x0\": 7.6, \"x1\": 8.4, \"type\": \"rect\", \"line\": {\"width\": 0}}, {\"fillcolor\": \"rgb(0.946666666667,0.268235294118,0.196078431373)\", \"y1\": -15.6, \"y0\": -16.4, \"x0\": 8.6, \"x1\": 9.4, \"type\": \"rect\", \"line\": {\"width\": 0}}, {\"fillcolor\": \"rgb(0.946666666667,0.268235294118,0.196078431373)\", \"y1\": -15.6, \"y0\": -16.4, \"x0\": 9.6, \"x1\": 10.4, \"type\": \"rect\", \"line\": {\"width\": 0}}, {\"fillcolor\": \"rgb(0.946666666667,0.268235294118,0.196078431373)\", \"y1\": -15.6, \"y0\": -16.4, \"x0\": 10.6, \"x1\": 11.4, \"type\": \"rect\", \"line\": {\"width\": 0}}, {\"fillcolor\": \"rgb(0.946666666667,0.268235294118,0.196078431373)\", \"y1\": -15.6, \"y0\": -16.4, \"x0\": 11.6, \"x1\": 12.4, \"type\": \"rect\", \"line\": {\"width\": 0}}, {\"fillcolor\": \"rgb(0.946666666667,0.268235294118,0.196078431373)\", \"y1\": -15.6, \"y0\": -16.4, \"x0\": 12.6, \"x1\": 13.4, \"type\": \"rect\", \"line\": {\"width\": 0}}, {\"fillcolor\": \"rgb(0.946666666667,0.268235294118,0.196078431373)\", \"y1\": -15.6, \"y0\": -16.4, \"x0\": 13.6, \"x1\": 14.4, \"type\": \"rect\", \"line\": {\"width\": 0}}, {\"fillcolor\": \"rgb(0.946666666667,0.268235294118,0.196078431373)\", \"y1\": -15.6, \"y0\": -16.4, \"x0\": 14.6, \"x1\": 15.4, \"type\": \"rect\", \"line\": {\"width\": 0}}, {\"fillcolor\": \"rgb(0.946666666667,0.268235294118,0.196078431373)\", \"y1\": -15.6, \"y0\": -16.4, \"x0\": 15.6, \"x1\": 16.4, \"type\": \"rect\", \"line\": {\"width\": 0}}, {\"fillcolor\": \"rgb(0.290980392157,0.594509803922,0.789019607843)\", \"y1\": -15.6, \"y0\": -16.4, \"x0\": 16.6, \"x1\": 17.4, \"type\": \"rect\", \"line\": {\"width\": 0}}, {\"fillcolor\": \"rgb(0.946666666667,0.268235294118,0.196078431373)\", \"y1\": -15.6, \"y0\": -16.4, \"x0\": 17.6, \"x1\": 18.4, \"type\": \"rect\", \"line\": {\"width\": 0}}, {\"fillcolor\": \"rgb(0.290980392157,0.594509803922,0.789019607843)\", \"y1\": -15.6, \"y0\": -16.4, \"x0\": 18.6, \"x1\": 19.4, \"type\": \"rect\", \"line\": {\"width\": 0}}, {\"fillcolor\": \"rgb(0.946666666667,0.268235294118,0.196078431373)\", \"y1\": -16.6, \"y0\": -17.4, \"x0\": -0.4, \"x1\": 0.4, \"type\": \"rect\", \"line\": {\"width\": 0}}, {\"fillcolor\": \"rgb(0.946666666667,0.268235294118,0.196078431373)\", \"y1\": -16.6, \"y0\": -17.4, \"x0\": 0.6, \"x1\": 1.4, \"type\": \"rect\", \"line\": {\"width\": 0}}, {\"fillcolor\": \"rgb(0.290980392157,0.594509803922,0.789019607843)\", \"y1\": -16.6, \"y0\": -17.4, \"x0\": 1.6, \"x1\": 2.4, \"type\": \"rect\", \"line\": {\"width\": 0}}, {\"fillcolor\": \"rgb(0.290980392157,0.594509803922,0.789019607843)\", \"y1\": -16.6, \"y0\": -17.4, \"x0\": 2.6, \"x1\": 3.4, \"type\": \"rect\", \"line\": {\"width\": 0}}, {\"fillcolor\": \"rgb(0.946666666667,0.268235294118,0.196078431373)\", \"y1\": -16.6, \"y0\": -17.4, \"x0\": 3.6, \"x1\": 4.4, \"type\": \"rect\", \"line\": {\"width\": 0}}, {\"fillcolor\": \"rgb(0.946666666667,0.268235294118,0.196078431373)\", \"y1\": -16.6, \"y0\": -17.4, \"x0\": 4.6, \"x1\": 5.4, \"type\": \"rect\", \"line\": {\"width\": 0}}, {\"fillcolor\": \"rgb(0.946666666667,0.268235294118,0.196078431373)\", \"y1\": -16.6, \"y0\": -17.4, \"x0\": 5.6, \"x1\": 6.4, \"type\": \"rect\", \"line\": {\"width\": 0}}, {\"fillcolor\": \"rgb(0.946666666667,0.268235294118,0.196078431373)\", \"y1\": -16.6, \"y0\": -17.4, \"x0\": 6.6, \"x1\": 7.4, \"type\": \"rect\", \"line\": {\"width\": 0}}, {\"fillcolor\": \"rgb(0.946666666667,0.268235294118,0.196078431373)\", \"y1\": -16.6, \"y0\": -17.4, \"x0\": 7.6, \"x1\": 8.4, \"type\": \"rect\", \"line\": {\"width\": 0}}, {\"fillcolor\": \"rgb(0.946666666667,0.268235294118,0.196078431373)\", \"y1\": -16.6, \"y0\": -17.4, \"x0\": 8.6, \"x1\": 9.4, \"type\": \"rect\", \"line\": {\"width\": 0}}, {\"fillcolor\": \"rgb(0.946666666667,0.268235294118,0.196078431373)\", \"y1\": -16.6, \"y0\": -17.4, \"x0\": 9.6, \"x1\": 10.4, \"type\": \"rect\", \"line\": {\"width\": 0}}, {\"fillcolor\": \"rgb(0.946666666667,0.268235294118,0.196078431373)\", \"y1\": -16.6, \"y0\": -17.4, \"x0\": 10.6, \"x1\": 11.4, \"type\": \"rect\", \"line\": {\"width\": 0}}, {\"fillcolor\": \"rgb(0.946666666667,0.268235294118,0.196078431373)\", \"y1\": -16.6, \"y0\": -17.4, \"x0\": 11.6, \"x1\": 12.4, \"type\": \"rect\", \"line\": {\"width\": 0}}, {\"fillcolor\": \"rgb(0.946666666667,0.268235294118,0.196078431373)\", \"y1\": -16.6, \"y0\": -17.4, \"x0\": 12.6, \"x1\": 13.4, \"type\": \"rect\", \"line\": {\"width\": 0}}, {\"fillcolor\": \"rgb(0.946666666667,0.268235294118,0.196078431373)\", \"y1\": -16.6, \"y0\": -17.4, \"x0\": 13.6, \"x1\": 14.4, \"type\": \"rect\", \"line\": {\"width\": 0}}, {\"fillcolor\": \"rgb(0.946666666667,0.268235294118,0.196078431373)\", \"y1\": -16.6, \"y0\": -17.4, \"x0\": 14.6, \"x1\": 15.4, \"type\": \"rect\", \"line\": {\"width\": 0}}, {\"fillcolor\": \"rgb(0.946666666667,0.268235294118,0.196078431373)\", \"y1\": -16.6, \"y0\": -17.4, \"x0\": 15.6, \"x1\": 16.4, \"type\": \"rect\", \"line\": {\"width\": 0}}, {\"fillcolor\": \"rgb(0.946666666667,0.268235294118,0.196078431373)\", \"y1\": -16.6, \"y0\": -17.4, \"x0\": 16.6, \"x1\": 17.4, \"type\": \"rect\", \"line\": {\"width\": 0}}, {\"fillcolor\": \"rgb(0.290980392157,0.594509803922,0.789019607843)\", \"y1\": -16.6, \"y0\": -17.4, \"x0\": 17.6, \"x1\": 18.4, \"type\": \"rect\", \"line\": {\"width\": 0}}, {\"fillcolor\": \"rgb(0.946666666667,0.268235294118,0.196078431373)\", \"y1\": -16.6, \"y0\": -17.4, \"x0\": 18.6, \"x1\": 19.4, \"type\": \"rect\", \"line\": {\"width\": 0}}, {\"fillcolor\": \"rgb(0.946666666667,0.268235294118,0.196078431373)\", \"y1\": -17.6, \"y0\": -18.4, \"x0\": -0.4, \"x1\": 0.4, \"type\": \"rect\", \"line\": {\"width\": 0}}, {\"fillcolor\": \"rgb(0.4,0.4,0.4)\", \"y1\": -17.6, \"y0\": -18.4, \"x0\": 0.6, \"x1\": 1.4, \"type\": \"rect\", \"line\": {\"width\": 0}}, {\"fillcolor\": \"rgb(0.946666666667,0.268235294118,0.196078431373)\", \"y1\": -17.6, \"y0\": -18.4, \"x0\": 1.6, \"x1\": 2.4, \"type\": \"rect\", \"line\": {\"width\": 0}}, {\"fillcolor\": \"rgb(0.946666666667,0.268235294118,0.196078431373)\", \"y1\": -17.6, \"y0\": -18.4, \"x0\": 2.6, \"x1\": 3.4, \"type\": \"rect\", \"line\": {\"width\": 0}}, {\"fillcolor\": \"rgb(0.946666666667,0.268235294118,0.196078431373)\", \"y1\": -17.6, \"y0\": -18.4, \"x0\": 3.6, \"x1\": 4.4, \"type\": \"rect\", \"line\": {\"width\": 0}}, {\"fillcolor\": \"rgb(0.946666666667,0.268235294118,0.196078431373)\", \"y1\": -17.6, \"y0\": -18.4, \"x0\": 4.6, \"x1\": 5.4, \"type\": \"rect\", \"line\": {\"width\": 0}}, {\"fillcolor\": \"rgb(0.946666666667,0.268235294118,0.196078431373)\", \"y1\": -17.6, \"y0\": -18.4, \"x0\": 5.6, \"x1\": 6.4, \"type\": \"rect\", \"line\": {\"width\": 0}}, {\"fillcolor\": \"rgb(0.946666666667,0.268235294118,0.196078431373)\", \"y1\": -17.6, \"y0\": -18.4, \"x0\": 6.6, \"x1\": 7.4, \"type\": \"rect\", \"line\": {\"width\": 0}}, {\"fillcolor\": \"rgb(0.946666666667,0.268235294118,0.196078431373)\", \"y1\": -17.6, \"y0\": -18.4, \"x0\": 7.6, \"x1\": 8.4, \"type\": \"rect\", \"line\": {\"width\": 0}}, {\"fillcolor\": \"rgb(0.946666666667,0.268235294118,0.196078431373)\", \"y1\": -17.6, \"y0\": -18.4, \"x0\": 8.6, \"x1\": 9.4, \"type\": \"rect\", \"line\": {\"width\": 0}}, {\"fillcolor\": \"rgb(0.946666666667,0.268235294118,0.196078431373)\", \"y1\": -17.6, \"y0\": -18.4, \"x0\": 9.6, \"x1\": 10.4, \"type\": \"rect\", \"line\": {\"width\": 0}}, {\"fillcolor\": \"rgb(0.946666666667,0.268235294118,0.196078431373)\", \"y1\": -17.6, \"y0\": -18.4, \"x0\": 10.6, \"x1\": 11.4, \"type\": \"rect\", \"line\": {\"width\": 0}}, {\"fillcolor\": \"rgb(0.290980392157,0.594509803922,0.789019607843)\", \"y1\": -17.6, \"y0\": -18.4, \"x0\": 11.6, \"x1\": 12.4, \"type\": \"rect\", \"line\": {\"width\": 0}}, {\"fillcolor\": \"rgb(0.946666666667,0.268235294118,0.196078431373)\", \"y1\": -17.6, \"y0\": -18.4, \"x0\": 12.6, \"x1\": 13.4, \"type\": \"rect\", \"line\": {\"width\": 0}}, {\"fillcolor\": \"rgb(0.946666666667,0.268235294118,0.196078431373)\", \"y1\": -17.6, \"y0\": -18.4, \"x0\": 13.6, \"x1\": 14.4, \"type\": \"rect\", \"line\": {\"width\": 0}}, {\"fillcolor\": \"rgb(0.946666666667,0.268235294118,0.196078431373)\", \"y1\": -17.6, \"y0\": -18.4, \"x0\": 14.6, \"x1\": 15.4, \"type\": \"rect\", \"line\": {\"width\": 0}}, {\"fillcolor\": \"rgb(0.946666666667,0.268235294118,0.196078431373)\", \"y1\": -17.6, \"y0\": -18.4, \"x0\": 15.6, \"x1\": 16.4, \"type\": \"rect\", \"line\": {\"width\": 0}}, {\"fillcolor\": \"rgb(0.946666666667,0.268235294118,0.196078431373)\", \"y1\": -17.6, \"y0\": -18.4, \"x0\": 16.6, \"x1\": 17.4, \"type\": \"rect\", \"line\": {\"width\": 0}}, {\"fillcolor\": \"rgb(0.946666666667,0.268235294118,0.196078431373)\", \"y1\": -17.6, \"y0\": -18.4, \"x0\": 17.6, \"x1\": 18.4, \"type\": \"rect\", \"line\": {\"width\": 0}}, {\"fillcolor\": \"rgb(0.946666666667,0.268235294118,0.196078431373)\", \"y1\": -17.6, \"y0\": -18.4, \"x0\": 18.6, \"x1\": 19.4, \"type\": \"rect\", \"line\": {\"width\": 0}}, {\"fillcolor\": \"rgb(0.946666666667,0.268235294118,0.196078431373)\", \"y1\": -18.6, \"y0\": -19.4, \"x0\": -0.4, \"x1\": 0.4, \"type\": \"rect\", \"line\": {\"width\": 0}}, {\"fillcolor\": \"rgb(0.946666666667,0.268235294118,0.196078431373)\", \"y1\": -18.6, \"y0\": -19.4, \"x0\": 0.6, \"x1\": 1.4, \"type\": \"rect\", \"line\": {\"width\": 0}}, {\"fillcolor\": \"rgb(0.946666666667,0.268235294118,0.196078431373)\", \"y1\": -18.6, \"y0\": -19.4, \"x0\": 1.6, \"x1\": 2.4, \"type\": \"rect\", \"line\": {\"width\": 0}}, {\"fillcolor\": \"rgb(0.946666666667,0.268235294118,0.196078431373)\", \"y1\": -18.6, \"y0\": -19.4, \"x0\": 2.6, \"x1\": 3.4, \"type\": \"rect\", \"line\": {\"width\": 0}}, {\"fillcolor\": \"rgb(0.946666666667,0.268235294118,0.196078431373)\", \"y1\": -18.6, \"y0\": -19.4, \"x0\": 3.6, \"x1\": 4.4, \"type\": \"rect\", \"line\": {\"width\": 0}}, {\"fillcolor\": \"rgb(0.946666666667,0.268235294118,0.196078431373)\", \"y1\": -18.6, \"y0\": -19.4, \"x0\": 4.6, \"x1\": 5.4, \"type\": \"rect\", \"line\": {\"width\": 0}}, {\"fillcolor\": \"rgb(0.946666666667,0.268235294118,0.196078431373)\", \"y1\": -18.6, \"y0\": -19.4, \"x0\": 5.6, \"x1\": 6.4, \"type\": \"rect\", \"line\": {\"width\": 0}}, {\"fillcolor\": \"rgb(0.946666666667,0.268235294118,0.196078431373)\", \"y1\": -18.6, \"y0\": -19.4, \"x0\": 6.6, \"x1\": 7.4, \"type\": \"rect\", \"line\": {\"width\": 0}}, {\"fillcolor\": \"rgb(0.946666666667,0.268235294118,0.196078431373)\", \"y1\": -18.6, \"y0\": -19.4, \"x0\": 7.6, \"x1\": 8.4, \"type\": \"rect\", \"line\": {\"width\": 0}}, {\"fillcolor\": \"rgb(0.946666666667,0.268235294118,0.196078431373)\", \"y1\": -18.6, \"y0\": -19.4, \"x0\": 8.6, \"x1\": 9.4, \"type\": \"rect\", \"line\": {\"width\": 0}}, {\"fillcolor\": \"rgb(0.946666666667,0.268235294118,0.196078431373)\", \"y1\": -18.6, \"y0\": -19.4, \"x0\": 9.6, \"x1\": 10.4, \"type\": \"rect\", \"line\": {\"width\": 0}}, {\"fillcolor\": \"rgb(0.946666666667,0.268235294118,0.196078431373)\", \"y1\": -18.6, \"y0\": -19.4, \"x0\": 10.6, \"x1\": 11.4, \"type\": \"rect\", \"line\": {\"width\": 0}}, {\"fillcolor\": \"rgb(0.946666666667,0.268235294118,0.196078431373)\", \"y1\": -18.6, \"y0\": -19.4, \"x0\": 11.6, \"x1\": 12.4, \"type\": \"rect\", \"line\": {\"width\": 0}}, {\"fillcolor\": \"rgb(0.946666666667,0.268235294118,0.196078431373)\", \"y1\": -18.6, \"y0\": -19.4, \"x0\": 12.6, \"x1\": 13.4, \"type\": \"rect\", \"line\": {\"width\": 0}}, {\"fillcolor\": \"rgb(0.946666666667,0.268235294118,0.196078431373)\", \"y1\": -18.6, \"y0\": -19.4, \"x0\": 13.6, \"x1\": 14.4, \"type\": \"rect\", \"line\": {\"width\": 0}}, {\"fillcolor\": \"rgb(0.946666666667,0.268235294118,0.196078431373)\", \"y1\": -18.6, \"y0\": -19.4, \"x0\": 14.6, \"x1\": 15.4, \"type\": \"rect\", \"line\": {\"width\": 0}}, {\"fillcolor\": \"rgb(0.946666666667,0.268235294118,0.196078431373)\", \"y1\": -18.6, \"y0\": -19.4, \"x0\": 15.6, \"x1\": 16.4, \"type\": \"rect\", \"line\": {\"width\": 0}}, {\"fillcolor\": \"rgb(0.946666666667,0.268235294118,0.196078431373)\", \"y1\": -18.6, \"y0\": -19.4, \"x0\": 16.6, \"x1\": 17.4, \"type\": \"rect\", \"line\": {\"width\": 0}}, {\"fillcolor\": \"rgb(0.946666666667,0.268235294118,0.196078431373)\", \"y1\": -18.6, \"y0\": -19.4, \"x0\": 17.6, \"x1\": 18.4, \"type\": \"rect\", \"line\": {\"width\": 0}}, {\"fillcolor\": \"rgb(0.946666666667,0.268235294118,0.196078431373)\", \"y1\": -18.6, \"y0\": -19.4, \"x0\": 18.6, \"x1\": 19.4, \"type\": \"rect\", \"line\": {\"width\": 0}}, {\"fillcolor\": \"rgb(0.946666666667,0.268235294118,0.196078431373)\", \"y1\": -19.6, \"y0\": -20.4, \"x0\": -0.4, \"x1\": 0.4, \"type\": \"rect\", \"line\": {\"width\": 0}}, {\"fillcolor\": \"rgb(0.290980392157,0.594509803922,0.789019607843)\", \"y1\": -19.6, \"y0\": -20.4, \"x0\": 0.6, \"x1\": 1.4, \"type\": \"rect\", \"line\": {\"width\": 0}}, {\"fillcolor\": \"rgb(0.946666666667,0.268235294118,0.196078431373)\", \"y1\": -19.6, \"y0\": -20.4, \"x0\": 1.6, \"x1\": 2.4, \"type\": \"rect\", \"line\": {\"width\": 0}}, {\"fillcolor\": \"rgb(0.946666666667,0.268235294118,0.196078431373)\", \"y1\": -19.6, \"y0\": -20.4, \"x0\": 2.6, \"x1\": 3.4, \"type\": \"rect\", \"line\": {\"width\": 0}}, {\"fillcolor\": \"rgb(0.946666666667,0.268235294118,0.196078431373)\", \"y1\": -19.6, \"y0\": -20.4, \"x0\": 3.6, \"x1\": 4.4, \"type\": \"rect\", \"line\": {\"width\": 0}}, {\"fillcolor\": \"rgb(0.946666666667,0.268235294118,0.196078431373)\", \"y1\": -19.6, \"y0\": -20.4, \"x0\": 4.6, \"x1\": 5.4, \"type\": \"rect\", \"line\": {\"width\": 0}}, {\"fillcolor\": \"rgb(0.946666666667,0.268235294118,0.196078431373)\", \"y1\": -19.6, \"y0\": -20.4, \"x0\": 5.6, \"x1\": 6.4, \"type\": \"rect\", \"line\": {\"width\": 0}}, {\"fillcolor\": \"rgb(0.946666666667,0.268235294118,0.196078431373)\", \"y1\": -19.6, \"y0\": -20.4, \"x0\": 6.6, \"x1\": 7.4, \"type\": \"rect\", \"line\": {\"width\": 0}}, {\"fillcolor\": \"rgb(0.946666666667,0.268235294118,0.196078431373)\", \"y1\": -19.6, \"y0\": -20.4, \"x0\": 7.6, \"x1\": 8.4, \"type\": \"rect\", \"line\": {\"width\": 0}}, {\"fillcolor\": \"rgb(0.290980392157,0.594509803922,0.789019607843)\", \"y1\": -19.6, \"y0\": -20.4, \"x0\": 8.6, \"x1\": 9.4, \"type\": \"rect\", \"line\": {\"width\": 0}}, {\"fillcolor\": \"rgb(0.946666666667,0.268235294118,0.196078431373)\", \"y1\": -19.6, \"y0\": -20.4, \"x0\": 9.6, \"x1\": 10.4, \"type\": \"rect\", \"line\": {\"width\": 0}}, {\"fillcolor\": \"rgb(0.946666666667,0.268235294118,0.196078431373)\", \"y1\": -19.6, \"y0\": -20.4, \"x0\": 10.6, \"x1\": 11.4, \"type\": \"rect\", \"line\": {\"width\": 0}}, {\"fillcolor\": \"rgb(0.946666666667,0.268235294118,0.196078431373)\", \"y1\": -19.6, \"y0\": -20.4, \"x0\": 11.6, \"x1\": 12.4, \"type\": \"rect\", \"line\": {\"width\": 0}}, {\"fillcolor\": \"rgb(0.946666666667,0.268235294118,0.196078431373)\", \"y1\": -19.6, \"y0\": -20.4, \"x0\": 12.6, \"x1\": 13.4, \"type\": \"rect\", \"line\": {\"width\": 0}}, {\"fillcolor\": \"rgb(0.946666666667,0.268235294118,0.196078431373)\", \"y1\": -19.6, \"y0\": -20.4, \"x0\": 13.6, \"x1\": 14.4, \"type\": \"rect\", \"line\": {\"width\": 0}}, {\"fillcolor\": \"rgb(0.946666666667,0.268235294118,0.196078431373)\", \"y1\": -19.6, \"y0\": -20.4, \"x0\": 14.6, \"x1\": 15.4, \"type\": \"rect\", \"line\": {\"width\": 0}}, {\"fillcolor\": \"rgb(0.946666666667,0.268235294118,0.196078431373)\", \"y1\": -19.6, \"y0\": -20.4, \"x0\": 15.6, \"x1\": 16.4, \"type\": \"rect\", \"line\": {\"width\": 0}}, {\"fillcolor\": \"rgb(0.946666666667,0.268235294118,0.196078431373)\", \"y1\": -19.6, \"y0\": -20.4, \"x0\": 16.6, \"x1\": 17.4, \"type\": \"rect\", \"line\": {\"width\": 0}}, {\"fillcolor\": \"rgb(0.290980392157,0.594509803922,0.789019607843)\", \"y1\": -19.6, \"y0\": -20.4, \"x0\": 17.6, \"x1\": 18.4, \"type\": \"rect\", \"line\": {\"width\": 0}}, {\"fillcolor\": \"rgb(0.946666666667,0.268235294118,0.196078431373)\", \"y1\": -19.6, \"y0\": -20.4, \"x0\": 18.6, \"x1\": 19.4, \"type\": \"rect\", \"line\": {\"width\": 0}}, {\"fillcolor\": \"rgb(0.946666666667,0.268235294118,0.196078431373)\", \"y1\": -20.6, \"y0\": -21.4, \"x0\": -0.4, \"x1\": 0.4, \"type\": \"rect\", \"line\": {\"width\": 0}}, {\"fillcolor\": \"rgb(0.946666666667,0.268235294118,0.196078431373)\", \"y1\": -20.6, \"y0\": -21.4, \"x0\": 0.6, \"x1\": 1.4, \"type\": \"rect\", \"line\": {\"width\": 0}}, {\"fillcolor\": \"rgb(0.946666666667,0.268235294118,0.196078431373)\", \"y1\": -20.6, \"y0\": -21.4, \"x0\": 1.6, \"x1\": 2.4, \"type\": \"rect\", \"line\": {\"width\": 0}}, {\"fillcolor\": \"rgb(0.946666666667,0.268235294118,0.196078431373)\", \"y1\": -20.6, \"y0\": -21.4, \"x0\": 2.6, \"x1\": 3.4, \"type\": \"rect\", \"line\": {\"width\": 0}}, {\"fillcolor\": \"rgb(0.946666666667,0.268235294118,0.196078431373)\", \"y1\": -20.6, \"y0\": -21.4, \"x0\": 3.6, \"x1\": 4.4, \"type\": \"rect\", \"line\": {\"width\": 0}}, {\"fillcolor\": \"rgb(0.946666666667,0.268235294118,0.196078431373)\", \"y1\": -20.6, \"y0\": -21.4, \"x0\": 4.6, \"x1\": 5.4, \"type\": \"rect\", \"line\": {\"width\": 0}}, {\"fillcolor\": \"rgb(0.946666666667,0.268235294118,0.196078431373)\", \"y1\": -20.6, \"y0\": -21.4, \"x0\": 5.6, \"x1\": 6.4, \"type\": \"rect\", \"line\": {\"width\": 0}}, {\"fillcolor\": \"rgb(0.946666666667,0.268235294118,0.196078431373)\", \"y1\": -20.6, \"y0\": -21.4, \"x0\": 6.6, \"x1\": 7.4, \"type\": \"rect\", \"line\": {\"width\": 0}}, {\"fillcolor\": \"rgb(0.946666666667,0.268235294118,0.196078431373)\", \"y1\": -20.6, \"y0\": -21.4, \"x0\": 7.6, \"x1\": 8.4, \"type\": \"rect\", \"line\": {\"width\": 0}}, {\"fillcolor\": \"rgb(0.946666666667,0.268235294118,0.196078431373)\", \"y1\": -20.6, \"y0\": -21.4, \"x0\": 8.6, \"x1\": 9.4, \"type\": \"rect\", \"line\": {\"width\": 0}}, {\"fillcolor\": \"rgb(0.946666666667,0.268235294118,0.196078431373)\", \"y1\": -20.6, \"y0\": -21.4, \"x0\": 9.6, \"x1\": 10.4, \"type\": \"rect\", \"line\": {\"width\": 0}}, {\"fillcolor\": \"rgb(0.946666666667,0.268235294118,0.196078431373)\", \"y1\": -20.6, \"y0\": -21.4, \"x0\": 10.6, \"x1\": 11.4, \"type\": \"rect\", \"line\": {\"width\": 0}}, {\"fillcolor\": \"rgb(0.946666666667,0.268235294118,0.196078431373)\", \"y1\": -20.6, \"y0\": -21.4, \"x0\": 11.6, \"x1\": 12.4, \"type\": \"rect\", \"line\": {\"width\": 0}}, {\"fillcolor\": \"rgb(0.946666666667,0.268235294118,0.196078431373)\", \"y1\": -20.6, \"y0\": -21.4, \"x0\": 12.6, \"x1\": 13.4, \"type\": \"rect\", \"line\": {\"width\": 0}}, {\"fillcolor\": \"rgb(0.946666666667,0.268235294118,0.196078431373)\", \"y1\": -20.6, \"y0\": -21.4, \"x0\": 13.6, \"x1\": 14.4, \"type\": \"rect\", \"line\": {\"width\": 0}}, {\"fillcolor\": \"rgb(0.946666666667,0.268235294118,0.196078431373)\", \"y1\": -20.6, \"y0\": -21.4, \"x0\": 14.6, \"x1\": 15.4, \"type\": \"rect\", \"line\": {\"width\": 0}}, {\"fillcolor\": \"rgb(0.946666666667,0.268235294118,0.196078431373)\", \"y1\": -20.6, \"y0\": -21.4, \"x0\": 15.6, \"x1\": 16.4, \"type\": \"rect\", \"line\": {\"width\": 0}}, {\"fillcolor\": \"rgb(0.946666666667,0.268235294118,0.196078431373)\", \"y1\": -20.6, \"y0\": -21.4, \"x0\": 16.6, \"x1\": 17.4, \"type\": \"rect\", \"line\": {\"width\": 0}}, {\"fillcolor\": \"rgb(0.946666666667,0.268235294118,0.196078431373)\", \"y1\": -20.6, \"y0\": -21.4, \"x0\": 17.6, \"x1\": 18.4, \"type\": \"rect\", \"line\": {\"width\": 0}}, {\"fillcolor\": \"rgb(0.290980392157,0.594509803922,0.789019607843)\", \"y1\": -20.6, \"y0\": -21.4, \"x0\": 18.6, \"x1\": 19.4, \"type\": \"rect\", \"line\": {\"width\": 0}}, {\"fillcolor\": \"rgb(0.946666666667,0.268235294118,0.196078431373)\", \"y1\": -21.6, \"y0\": -22.4, \"x0\": -0.4, \"x1\": 0.4, \"type\": \"rect\", \"line\": {\"width\": 0}}, {\"fillcolor\": \"rgb(0.946666666667,0.268235294118,0.196078431373)\", \"y1\": -21.6, \"y0\": -22.4, \"x0\": 0.6, \"x1\": 1.4, \"type\": \"rect\", \"line\": {\"width\": 0}}, {\"fillcolor\": \"rgb(0.946666666667,0.268235294118,0.196078431373)\", \"y1\": -21.6, \"y0\": -22.4, \"x0\": 1.6, \"x1\": 2.4, \"type\": \"rect\", \"line\": {\"width\": 0}}, {\"fillcolor\": \"rgb(0.946666666667,0.268235294118,0.196078431373)\", \"y1\": -21.6, \"y0\": -22.4, \"x0\": 2.6, \"x1\": 3.4, \"type\": \"rect\", \"line\": {\"width\": 0}}, {\"fillcolor\": \"rgb(0.946666666667,0.268235294118,0.196078431373)\", \"y1\": -21.6, \"y0\": -22.4, \"x0\": 3.6, \"x1\": 4.4, \"type\": \"rect\", \"line\": {\"width\": 0}}, {\"fillcolor\": \"rgb(0.946666666667,0.268235294118,0.196078431373)\", \"y1\": -21.6, \"y0\": -22.4, \"x0\": 4.6, \"x1\": 5.4, \"type\": \"rect\", \"line\": {\"width\": 0}}, {\"fillcolor\": \"rgb(0.946666666667,0.268235294118,0.196078431373)\", \"y1\": -21.6, \"y0\": -22.4, \"x0\": 5.6, \"x1\": 6.4, \"type\": \"rect\", \"line\": {\"width\": 0}}, {\"fillcolor\": \"rgb(0.946666666667,0.268235294118,0.196078431373)\", \"y1\": -21.6, \"y0\": -22.4, \"x0\": 6.6, \"x1\": 7.4, \"type\": \"rect\", \"line\": {\"width\": 0}}, {\"fillcolor\": \"rgb(0.946666666667,0.268235294118,0.196078431373)\", \"y1\": -21.6, \"y0\": -22.4, \"x0\": 7.6, \"x1\": 8.4, \"type\": \"rect\", \"line\": {\"width\": 0}}, {\"fillcolor\": \"rgb(0.290980392157,0.594509803922,0.789019607843)\", \"y1\": -21.6, \"y0\": -22.4, \"x0\": 8.6, \"x1\": 9.4, \"type\": \"rect\", \"line\": {\"width\": 0}}, {\"fillcolor\": \"rgb(0.946666666667,0.268235294118,0.196078431373)\", \"y1\": -21.6, \"y0\": -22.4, \"x0\": 9.6, \"x1\": 10.4, \"type\": \"rect\", \"line\": {\"width\": 0}}, {\"fillcolor\": \"rgb(0.290980392157,0.594509803922,0.789019607843)\", \"y1\": -21.6, \"y0\": -22.4, \"x0\": 10.6, \"x1\": 11.4, \"type\": \"rect\", \"line\": {\"width\": 0}}, {\"fillcolor\": \"rgb(0.946666666667,0.268235294118,0.196078431373)\", \"y1\": -21.6, \"y0\": -22.4, \"x0\": 11.6, \"x1\": 12.4, \"type\": \"rect\", \"line\": {\"width\": 0}}, {\"fillcolor\": \"rgb(0.946666666667,0.268235294118,0.196078431373)\", \"y1\": -21.6, \"y0\": -22.4, \"x0\": 12.6, \"x1\": 13.4, \"type\": \"rect\", \"line\": {\"width\": 0}}, {\"fillcolor\": \"rgb(0.946666666667,0.268235294118,0.196078431373)\", \"y1\": -21.6, \"y0\": -22.4, \"x0\": 13.6, \"x1\": 14.4, \"type\": \"rect\", \"line\": {\"width\": 0}}, {\"fillcolor\": \"rgb(0.946666666667,0.268235294118,0.196078431373)\", \"y1\": -21.6, \"y0\": -22.4, \"x0\": 14.6, \"x1\": 15.4, \"type\": \"rect\", \"line\": {\"width\": 0}}, {\"fillcolor\": \"rgb(0.946666666667,0.268235294118,0.196078431373)\", \"y1\": -21.6, \"y0\": -22.4, \"x0\": 15.6, \"x1\": 16.4, \"type\": \"rect\", \"line\": {\"width\": 0}}, {\"fillcolor\": \"rgb(0.946666666667,0.268235294118,0.196078431373)\", \"y1\": -21.6, \"y0\": -22.4, \"x0\": 16.6, \"x1\": 17.4, \"type\": \"rect\", \"line\": {\"width\": 0}}, {\"fillcolor\": \"rgb(0.946666666667,0.268235294118,0.196078431373)\", \"y1\": -21.6, \"y0\": -22.4, \"x0\": 17.6, \"x1\": 18.4, \"type\": \"rect\", \"line\": {\"width\": 0}}, {\"fillcolor\": \"rgb(0.946666666667,0.268235294118,0.196078431373)\", \"y1\": -21.6, \"y0\": -22.4, \"x0\": 18.6, \"x1\": 19.4, \"type\": \"rect\", \"line\": {\"width\": 0}}, {\"fillcolor\": \"rgb(0.946666666667,0.268235294118,0.196078431373)\", \"y1\": -22.6, \"y0\": -23.4, \"x0\": -0.4, \"x1\": 0.4, \"type\": \"rect\", \"line\": {\"width\": 0}}, {\"fillcolor\": \"rgb(0.946666666667,0.268235294118,0.196078431373)\", \"y1\": -22.6, \"y0\": -23.4, \"x0\": 0.6, \"x1\": 1.4, \"type\": \"rect\", \"line\": {\"width\": 0}}, {\"fillcolor\": \"rgb(0.946666666667,0.268235294118,0.196078431373)\", \"y1\": -22.6, \"y0\": -23.4, \"x0\": 1.6, \"x1\": 2.4, \"type\": \"rect\", \"line\": {\"width\": 0}}, {\"fillcolor\": \"rgb(0.946666666667,0.268235294118,0.196078431373)\", \"y1\": -22.6, \"y0\": -23.4, \"x0\": 2.6, \"x1\": 3.4, \"type\": \"rect\", \"line\": {\"width\": 0}}, {\"fillcolor\": \"rgb(0.946666666667,0.268235294118,0.196078431373)\", \"y1\": -22.6, \"y0\": -23.4, \"x0\": 3.6, \"x1\": 4.4, \"type\": \"rect\", \"line\": {\"width\": 0}}, {\"fillcolor\": \"rgb(0.946666666667,0.268235294118,0.196078431373)\", \"y1\": -22.6, \"y0\": -23.4, \"x0\": 4.6, \"x1\": 5.4, \"type\": \"rect\", \"line\": {\"width\": 0}}, {\"fillcolor\": \"rgb(0.946666666667,0.268235294118,0.196078431373)\", \"y1\": -22.6, \"y0\": -23.4, \"x0\": 5.6, \"x1\": 6.4, \"type\": \"rect\", \"line\": {\"width\": 0}}, {\"fillcolor\": \"rgb(0.946666666667,0.268235294118,0.196078431373)\", \"y1\": -22.6, \"y0\": -23.4, \"x0\": 6.6, \"x1\": 7.4, \"type\": \"rect\", \"line\": {\"width\": 0}}, {\"fillcolor\": \"rgb(0.290980392157,0.594509803922,0.789019607843)\", \"y1\": -22.6, \"y0\": -23.4, \"x0\": 7.6, \"x1\": 8.4, \"type\": \"rect\", \"line\": {\"width\": 0}}, {\"fillcolor\": \"rgb(0.946666666667,0.268235294118,0.196078431373)\", \"y1\": -22.6, \"y0\": -23.4, \"x0\": 8.6, \"x1\": 9.4, \"type\": \"rect\", \"line\": {\"width\": 0}}, {\"fillcolor\": \"rgb(0.946666666667,0.268235294118,0.196078431373)\", \"y1\": -22.6, \"y0\": -23.4, \"x0\": 9.6, \"x1\": 10.4, \"type\": \"rect\", \"line\": {\"width\": 0}}, {\"fillcolor\": \"rgb(0.946666666667,0.268235294118,0.196078431373)\", \"y1\": -22.6, \"y0\": -23.4, \"x0\": 10.6, \"x1\": 11.4, \"type\": \"rect\", \"line\": {\"width\": 0}}, {\"fillcolor\": \"rgb(0.946666666667,0.268235294118,0.196078431373)\", \"y1\": -22.6, \"y0\": -23.4, \"x0\": 11.6, \"x1\": 12.4, \"type\": \"rect\", \"line\": {\"width\": 0}}, {\"fillcolor\": \"rgb(255,165,0)\", \"y1\": -22.6, \"y0\": -23.4, \"x0\": 12.6, \"x1\": 13.4, \"type\": \"rect\", \"line\": {\"width\": 0}}, {\"fillcolor\": \"rgb(0.946666666667,0.268235294118,0.196078431373)\", \"y1\": -22.6, \"y0\": -23.4, \"x0\": 13.6, \"x1\": 14.4, \"type\": \"rect\", \"line\": {\"width\": 0}}, {\"fillcolor\": \"rgb(0.946666666667,0.268235294118,0.196078431373)\", \"y1\": -22.6, \"y0\": -23.4, \"x0\": 14.6, \"x1\": 15.4, \"type\": \"rect\", \"line\": {\"width\": 0}}, {\"fillcolor\": \"rgb(0.946666666667,0.268235294118,0.196078431373)\", \"y1\": -22.6, \"y0\": -23.4, \"x0\": 15.6, \"x1\": 16.4, \"type\": \"rect\", \"line\": {\"width\": 0}}, {\"fillcolor\": \"rgb(0.946666666667,0.268235294118,0.196078431373)\", \"y1\": -22.6, \"y0\": -23.4, \"x0\": 16.6, \"x1\": 17.4, \"type\": \"rect\", \"line\": {\"width\": 0}}, {\"fillcolor\": \"rgb(0.946666666667,0.268235294118,0.196078431373)\", \"y1\": -22.6, \"y0\": -23.4, \"x0\": 17.6, \"x1\": 18.4, \"type\": \"rect\", \"line\": {\"width\": 0}}, {\"fillcolor\": \"rgb(0.946666666667,0.268235294118,0.196078431373)\", \"y1\": -22.6, \"y0\": -23.4, \"x0\": 18.6, \"x1\": 19.4, \"type\": \"rect\", \"line\": {\"width\": 0}}, {\"fillcolor\": \"rgb(0.946666666667,0.268235294118,0.196078431373)\", \"y1\": -23.6, \"y0\": -24.4, \"x0\": -0.4, \"x1\": 0.4, \"type\": \"rect\", \"line\": {\"width\": 0}}, {\"fillcolor\": \"rgb(0.946666666667,0.268235294118,0.196078431373)\", \"y1\": -23.6, \"y0\": -24.4, \"x0\": 0.6, \"x1\": 1.4, \"type\": \"rect\", \"line\": {\"width\": 0}}, {\"fillcolor\": \"rgb(0.946666666667,0.268235294118,0.196078431373)\", \"y1\": -23.6, \"y0\": -24.4, \"x0\": 1.6, \"x1\": 2.4, \"type\": \"rect\", \"line\": {\"width\": 0}}, {\"fillcolor\": \"rgb(0.946666666667,0.268235294118,0.196078431373)\", \"y1\": -23.6, \"y0\": -24.4, \"x0\": 2.6, \"x1\": 3.4, \"type\": \"rect\", \"line\": {\"width\": 0}}, {\"fillcolor\": \"rgb(0.946666666667,0.268235294118,0.196078431373)\", \"y1\": -23.6, \"y0\": -24.4, \"x0\": 3.6, \"x1\": 4.4, \"type\": \"rect\", \"line\": {\"width\": 0}}, {\"fillcolor\": \"rgb(0.946666666667,0.268235294118,0.196078431373)\", \"y1\": -23.6, \"y0\": -24.4, \"x0\": 4.6, \"x1\": 5.4, \"type\": \"rect\", \"line\": {\"width\": 0}}, {\"fillcolor\": \"rgb(0.946666666667,0.268235294118,0.196078431373)\", \"y1\": -23.6, \"y0\": -24.4, \"x0\": 5.6, \"x1\": 6.4, \"type\": \"rect\", \"line\": {\"width\": 0}}, {\"fillcolor\": \"rgb(0.946666666667,0.268235294118,0.196078431373)\", \"y1\": -23.6, \"y0\": -24.4, \"x0\": 6.6, \"x1\": 7.4, \"type\": \"rect\", \"line\": {\"width\": 0}}, {\"fillcolor\": \"rgb(0.946666666667,0.268235294118,0.196078431373)\", \"y1\": -23.6, \"y0\": -24.4, \"x0\": 7.6, \"x1\": 8.4, \"type\": \"rect\", \"line\": {\"width\": 0}}, {\"fillcolor\": \"rgb(0.946666666667,0.268235294118,0.196078431373)\", \"y1\": -23.6, \"y0\": -24.4, \"x0\": 8.6, \"x1\": 9.4, \"type\": \"rect\", \"line\": {\"width\": 0}}, {\"fillcolor\": \"rgb(0.290980392157,0.594509803922,0.789019607843)\", \"y1\": -23.6, \"y0\": -24.4, \"x0\": 9.6, \"x1\": 10.4, \"type\": \"rect\", \"line\": {\"width\": 0}}, {\"fillcolor\": \"rgb(0.946666666667,0.268235294118,0.196078431373)\", \"y1\": -23.6, \"y0\": -24.4, \"x0\": 10.6, \"x1\": 11.4, \"type\": \"rect\", \"line\": {\"width\": 0}}, {\"fillcolor\": \"rgb(0.946666666667,0.268235294118,0.196078431373)\", \"y1\": -23.6, \"y0\": -24.4, \"x0\": 11.6, \"x1\": 12.4, \"type\": \"rect\", \"line\": {\"width\": 0}}, {\"fillcolor\": \"rgb(0.946666666667,0.268235294118,0.196078431373)\", \"y1\": -23.6, \"y0\": -24.4, \"x0\": 12.6, \"x1\": 13.4, \"type\": \"rect\", \"line\": {\"width\": 0}}, {\"fillcolor\": \"rgb(0.946666666667,0.268235294118,0.196078431373)\", \"y1\": -23.6, \"y0\": -24.4, \"x0\": 13.6, \"x1\": 14.4, \"type\": \"rect\", \"line\": {\"width\": 0}}, {\"fillcolor\": \"rgb(0.946666666667,0.268235294118,0.196078431373)\", \"y1\": -23.6, \"y0\": -24.4, \"x0\": 14.6, \"x1\": 15.4, \"type\": \"rect\", \"line\": {\"width\": 0}}, {\"fillcolor\": \"rgb(0.946666666667,0.268235294118,0.196078431373)\", \"y1\": -23.6, \"y0\": -24.4, \"x0\": 15.6, \"x1\": 16.4, \"type\": \"rect\", \"line\": {\"width\": 0}}, {\"fillcolor\": \"rgb(0.290980392157,0.594509803922,0.789019607843)\", \"y1\": -23.6, \"y0\": -24.4, \"x0\": 16.6, \"x1\": 17.4, \"type\": \"rect\", \"line\": {\"width\": 0}}, {\"fillcolor\": \"rgb(0.946666666667,0.268235294118,0.196078431373)\", \"y1\": -23.6, \"y0\": -24.4, \"x0\": 17.6, \"x1\": 18.4, \"type\": \"rect\", \"line\": {\"width\": 0}}, {\"fillcolor\": \"rgb(0.946666666667,0.268235294118,0.196078431373)\", \"y1\": -23.6, \"y0\": -24.4, \"x0\": 18.6, \"x1\": 19.4, \"type\": \"rect\", \"line\": {\"width\": 0}}, {\"fillcolor\": \"rgb(0.290980392157,0.594509803922,0.789019607843)\", \"y1\": -24.6, \"y0\": -25.4, \"x0\": -0.4, \"x1\": 0.4, \"type\": \"rect\", \"line\": {\"width\": 0}}, {\"fillcolor\": \"rgb(0.946666666667,0.268235294118,0.196078431373)\", \"y1\": -24.6, \"y0\": -25.4, \"x0\": 0.6, \"x1\": 1.4, \"type\": \"rect\", \"line\": {\"width\": 0}}, {\"fillcolor\": \"rgb(0.946666666667,0.268235294118,0.196078431373)\", \"y1\": -24.6, \"y0\": -25.4, \"x0\": 1.6, \"x1\": 2.4, \"type\": \"rect\", \"line\": {\"width\": 0}}, {\"fillcolor\": \"rgb(0.946666666667,0.268235294118,0.196078431373)\", \"y1\": -24.6, \"y0\": -25.4, \"x0\": 2.6, \"x1\": 3.4, \"type\": \"rect\", \"line\": {\"width\": 0}}, {\"fillcolor\": \"rgb(0.946666666667,0.268235294118,0.196078431373)\", \"y1\": -24.6, \"y0\": -25.4, \"x0\": 3.6, \"x1\": 4.4, \"type\": \"rect\", \"line\": {\"width\": 0}}, {\"fillcolor\": \"rgb(0.946666666667,0.268235294118,0.196078431373)\", \"y1\": -24.6, \"y0\": -25.4, \"x0\": 4.6, \"x1\": 5.4, \"type\": \"rect\", \"line\": {\"width\": 0}}, {\"fillcolor\": \"rgb(0.946666666667,0.268235294118,0.196078431373)\", \"y1\": -24.6, \"y0\": -25.4, \"x0\": 5.6, \"x1\": 6.4, \"type\": \"rect\", \"line\": {\"width\": 0}}, {\"fillcolor\": \"rgb(0.946666666667,0.268235294118,0.196078431373)\", \"y1\": -24.6, \"y0\": -25.4, \"x0\": 6.6, \"x1\": 7.4, \"type\": \"rect\", \"line\": {\"width\": 0}}, {\"fillcolor\": \"rgb(0.946666666667,0.268235294118,0.196078431373)\", \"y1\": -24.6, \"y0\": -25.4, \"x0\": 7.6, \"x1\": 8.4, \"type\": \"rect\", \"line\": {\"width\": 0}}, {\"fillcolor\": \"rgb(0.946666666667,0.268235294118,0.196078431373)\", \"y1\": -24.6, \"y0\": -25.4, \"x0\": 8.6, \"x1\": 9.4, \"type\": \"rect\", \"line\": {\"width\": 0}}, {\"fillcolor\": \"rgb(0.946666666667,0.268235294118,0.196078431373)\", \"y1\": -24.6, \"y0\": -25.4, \"x0\": 9.6, \"x1\": 10.4, \"type\": \"rect\", \"line\": {\"width\": 0}}, {\"fillcolor\": \"rgb(0.946666666667,0.268235294118,0.196078431373)\", \"y1\": -24.6, \"y0\": -25.4, \"x0\": 10.6, \"x1\": 11.4, \"type\": \"rect\", \"line\": {\"width\": 0}}, {\"fillcolor\": \"rgb(0.290980392157,0.594509803922,0.789019607843)\", \"y1\": -24.6, \"y0\": -25.4, \"x0\": 11.6, \"x1\": 12.4, \"type\": \"rect\", \"line\": {\"width\": 0}}, {\"fillcolor\": \"rgb(0.946666666667,0.268235294118,0.196078431373)\", \"y1\": -24.6, \"y0\": -25.4, \"x0\": 12.6, \"x1\": 13.4, \"type\": \"rect\", \"line\": {\"width\": 0}}, {\"fillcolor\": \"rgb(0.946666666667,0.268235294118,0.196078431373)\", \"y1\": -24.6, \"y0\": -25.4, \"x0\": 13.6, \"x1\": 14.4, \"type\": \"rect\", \"line\": {\"width\": 0}}, {\"fillcolor\": \"rgb(0.946666666667,0.268235294118,0.196078431373)\", \"y1\": -24.6, \"y0\": -25.4, \"x0\": 14.6, \"x1\": 15.4, \"type\": \"rect\", \"line\": {\"width\": 0}}, {\"fillcolor\": \"rgb(0.946666666667,0.268235294118,0.196078431373)\", \"y1\": -24.6, \"y0\": -25.4, \"x0\": 15.6, \"x1\": 16.4, \"type\": \"rect\", \"line\": {\"width\": 0}}, {\"fillcolor\": \"rgb(0.946666666667,0.268235294118,0.196078431373)\", \"y1\": -24.6, \"y0\": -25.4, \"x0\": 16.6, \"x1\": 17.4, \"type\": \"rect\", \"line\": {\"width\": 0}}, {\"fillcolor\": \"rgb(0.946666666667,0.268235294118,0.196078431373)\", \"y1\": -24.6, \"y0\": -25.4, \"x0\": 17.6, \"x1\": 18.4, \"type\": \"rect\", \"line\": {\"width\": 0}}, {\"fillcolor\": \"rgb(0.946666666667,0.268235294118,0.196078431373)\", \"y1\": -24.6, \"y0\": -25.4, \"x0\": 18.6, \"x1\": 19.4, \"type\": \"rect\", \"line\": {\"width\": 0}}, {\"fillcolor\": \"rgb(0.946666666667,0.268235294118,0.196078431373)\", \"y1\": -25.6, \"y0\": -26.4, \"x0\": -0.4, \"x1\": 0.4, \"type\": \"rect\", \"line\": {\"width\": 0}}, {\"fillcolor\": \"rgb(0.946666666667,0.268235294118,0.196078431373)\", \"y1\": -25.6, \"y0\": -26.4, \"x0\": 0.6, \"x1\": 1.4, \"type\": \"rect\", \"line\": {\"width\": 0}}, {\"fillcolor\": \"rgb(0.946666666667,0.268235294118,0.196078431373)\", \"y1\": -25.6, \"y0\": -26.4, \"x0\": 1.6, \"x1\": 2.4, \"type\": \"rect\", \"line\": {\"width\": 0}}], \"xaxis\": {\"zeroline\": false, \"showticklabels\": false, \"showgrid\": false}, \"hovermode\": \"closest\", \"annotations\": [{\"xref\": \"x\", \"yref\": \"y\", \"text\": \"<b>13</b>\", \"align\": \"center\", \"y\": 0, \"x\": 0, \"font\": {\"color\": \"rgb(255, 255, 255)\", \"family\": \"arial\"}, \"showarrow\": false}, {\"xref\": \"x\", \"yref\": \"y\", \"text\": \"<b>10</b>\", \"align\": \"center\", \"y\": 0, \"x\": 1, \"font\": {\"color\": \"rgb(255, 255, 255)\", \"family\": \"arial\"}, \"showarrow\": false}, {\"xref\": \"x\", \"yref\": \"y\", \"text\": \"<b>10</b>\", \"align\": \"center\", \"y\": 0, \"x\": 2, \"font\": {\"color\": \"rgb(255, 255, 255)\", \"family\": \"arial\"}, \"showarrow\": false}, {\"xref\": \"x\", \"yref\": \"y\", \"text\": \"<b>10</b>\", \"align\": \"center\", \"y\": 0, \"x\": 3, \"font\": {\"color\": \"rgb(255, 255, 255)\", \"family\": \"arial\"}, \"showarrow\": false}, {\"xref\": \"x\", \"yref\": \"y\", \"text\": \"<b>8</b>\", \"align\": \"center\", \"y\": 0, \"x\": 4, \"font\": {\"color\": \"rgb(255, 255, 255)\", \"family\": \"arial\"}, \"showarrow\": false}, {\"xref\": \"x\", \"yref\": \"y\", \"text\": \"<b>8</b>\", \"align\": \"center\", \"y\": 0, \"x\": 5, \"font\": {\"color\": \"rgb(255, 255, 255)\", \"family\": \"arial\"}, \"showarrow\": false}, {\"xref\": \"x\", \"yref\": \"y\", \"text\": \"<b>7</b>\", \"align\": \"center\", \"y\": 0, \"x\": 6, \"font\": {\"color\": \"rgb(255, 255, 255)\", \"family\": \"arial\"}, \"showarrow\": false}, {\"xref\": \"x\", \"yref\": \"y\", \"text\": \"<b>7</b>\", \"align\": \"center\", \"y\": 0, \"x\": 7, \"font\": {\"color\": \"rgb(255, 255, 255)\", \"family\": \"arial\"}, \"showarrow\": false}, {\"xref\": \"x\", \"yref\": \"y\", \"text\": \"<b>7</b>\", \"align\": \"center\", \"y\": 0, \"x\": 8, \"font\": {\"color\": \"rgb(255, 255, 255)\", \"family\": \"arial\"}, \"showarrow\": false}, {\"xref\": \"x\", \"yref\": \"y\", \"text\": \"<b>7</b>\", \"align\": \"center\", \"y\": 0, \"x\": 9, \"font\": {\"color\": \"rgb(255, 255, 255)\", \"family\": \"arial\"}, \"showarrow\": false}, {\"xref\": \"x\", \"yref\": \"y\", \"text\": \"<b>6</b>\", \"align\": \"center\", \"y\": 0, \"x\": 10, \"font\": {\"color\": \"rgb(255, 255, 255)\", \"family\": \"arial\"}, \"showarrow\": false}, {\"xref\": \"x\", \"yref\": \"y\", \"text\": \"<b>5</b>\", \"align\": \"center\", \"y\": 0, \"x\": 11, \"font\": {\"color\": \"rgb(255, 255, 255)\", \"family\": \"arial\"}, \"showarrow\": false}, {\"xref\": \"x\", \"yref\": \"y\", \"text\": \"<b>5</b>\", \"align\": \"center\", \"y\": 0, \"x\": 12, \"font\": {\"color\": \"rgb(255, 255, 255)\", \"family\": \"arial\"}, \"showarrow\": false}, {\"xref\": \"x\", \"yref\": \"y\", \"text\": \"<b>5</b>\", \"align\": \"center\", \"y\": 0, \"x\": 13, \"font\": {\"color\": \"rgb(255, 255, 255)\", \"family\": \"arial\"}, \"showarrow\": false}, {\"xref\": \"x\", \"yref\": \"y\", \"text\": \"<b>5</b>\", \"align\": \"center\", \"y\": 0, \"x\": 14, \"font\": {\"color\": \"rgb(255, 255, 255)\", \"family\": \"arial\"}, \"showarrow\": false}, {\"xref\": \"x\", \"yref\": \"y\", \"text\": \"<b>4</b>\", \"align\": \"center\", \"y\": 0, \"x\": 15, \"font\": {\"color\": \"rgb(255, 255, 255)\", \"family\": \"arial\"}, \"showarrow\": false}, {\"xref\": \"x\", \"yref\": \"y\", \"text\": \"<b>4</b>\", \"align\": \"center\", \"y\": 0, \"x\": 16, \"font\": {\"color\": \"rgb(255, 255, 255)\", \"family\": \"arial\"}, \"showarrow\": false}, {\"xref\": \"x\", \"yref\": \"y\", \"text\": \"<b>4</b>\", \"align\": \"center\", \"y\": 0, \"x\": 17, \"font\": {\"color\": \"rgb(255, 255, 255)\", \"family\": \"arial\"}, \"showarrow\": false}, {\"xref\": \"x\", \"yref\": \"y\", \"text\": \"<b>4</b>\", \"align\": \"center\", \"y\": 0, \"x\": 18, \"font\": {\"color\": \"rgb(255, 255, 255)\", \"family\": \"arial\"}, \"showarrow\": false}, {\"xref\": \"x\", \"yref\": \"y\", \"text\": \"<b>4</b>\", \"align\": \"center\", \"y\": 0, \"x\": 19, \"font\": {\"color\": \"rgb(255, 255, 255)\", \"family\": \"arial\"}, \"showarrow\": false}, {\"xref\": \"x\", \"yref\": \"y\", \"text\": \"<b>4</b>\", \"align\": \"center\", \"y\": -1, \"x\": 0, \"font\": {\"color\": \"rgb(255, 255, 255)\", \"family\": \"arial\"}, \"showarrow\": false}, {\"xref\": \"x\", \"yref\": \"y\", \"text\": \"<b>4</b>\", \"align\": \"center\", \"y\": -1, \"x\": 1, \"font\": {\"color\": \"rgb(255, 255, 255)\", \"family\": \"arial\"}, \"showarrow\": false}, {\"xref\": \"x\", \"yref\": \"y\", \"text\": \"<b>4</b>\", \"align\": \"center\", \"y\": -1, \"x\": 2, \"font\": {\"color\": \"rgb(255, 255, 255)\", \"family\": \"arial\"}, \"showarrow\": false}, {\"xref\": \"x\", \"yref\": \"y\", \"text\": \"<b>4</b>\", \"align\": \"center\", \"y\": -1, \"x\": 3, \"font\": {\"color\": \"rgb(255, 255, 255)\", \"family\": \"arial\"}, \"showarrow\": false}, {\"xref\": \"x\", \"yref\": \"y\", \"text\": \"<b>4</b>\", \"align\": \"center\", \"y\": -1, \"x\": 4, \"font\": {\"color\": \"rgb(255, 255, 255)\", \"family\": \"arial\"}, \"showarrow\": false}, {\"xref\": \"x\", \"yref\": \"y\", \"text\": \"<b>4</b>\", \"align\": \"center\", \"y\": -1, \"x\": 5, \"font\": {\"color\": \"rgb(255, 255, 255)\", \"family\": \"arial\"}, \"showarrow\": false}, {\"xref\": \"x\", \"yref\": \"y\", \"text\": \"<b>3</b>\", \"align\": \"center\", \"y\": -1, \"x\": 6, \"font\": {\"color\": \"rgb(255, 255, 255)\", \"family\": \"arial\"}, \"showarrow\": false}, {\"xref\": \"x\", \"yref\": \"y\", \"text\": \"<b>3</b>\", \"align\": \"center\", \"y\": -1, \"x\": 7, \"font\": {\"color\": \"rgb(255, 255, 255)\", \"family\": \"arial\"}, \"showarrow\": false}, {\"xref\": \"x\", \"yref\": \"y\", \"text\": \"<b>3</b>\", \"align\": \"center\", \"y\": -1, \"x\": 8, \"font\": {\"color\": \"rgb(255, 255, 255)\", \"family\": \"arial\"}, \"showarrow\": false}, {\"xref\": \"x\", \"yref\": \"y\", \"text\": \"<b>3</b>\", \"align\": \"center\", \"y\": -1, \"x\": 9, \"font\": {\"color\": \"rgb(255, 255, 255)\", \"family\": \"arial\"}, \"showarrow\": false}, {\"xref\": \"x\", \"yref\": \"y\", \"text\": \"<b>3</b>\", \"align\": \"center\", \"y\": -1, \"x\": 10, \"font\": {\"color\": \"rgb(255, 255, 255)\", \"family\": \"arial\"}, \"showarrow\": false}, {\"xref\": \"x\", \"yref\": \"y\", \"text\": \"<b>3</b>\", \"align\": \"center\", \"y\": -1, \"x\": 11, \"font\": {\"color\": \"rgb(255, 255, 255)\", \"family\": \"arial\"}, \"showarrow\": false}, {\"xref\": \"x\", \"yref\": \"y\", \"text\": \"<b>3</b>\", \"align\": \"center\", \"y\": -1, \"x\": 12, \"font\": {\"color\": \"rgb(255, 255, 255)\", \"family\": \"arial\"}, \"showarrow\": false}, {\"xref\": \"x\", \"yref\": \"y\", \"text\": \"<b>3</b>\", \"align\": \"center\", \"y\": -1, \"x\": 13, \"font\": {\"color\": \"rgb(255, 255, 255)\", \"family\": \"arial\"}, \"showarrow\": false}, {\"xref\": \"x\", \"yref\": \"y\", \"text\": \"<b>3</b>\", \"align\": \"center\", \"y\": -1, \"x\": 14, \"font\": {\"color\": \"rgb(255, 255, 255)\", \"family\": \"arial\"}, \"showarrow\": false}, {\"xref\": \"x\", \"yref\": \"y\", \"text\": \"<b>3</b>\", \"align\": \"center\", \"y\": -1, \"x\": 15, \"font\": {\"color\": \"rgb(255, 255, 255)\", \"family\": \"arial\"}, \"showarrow\": false}, {\"xref\": \"x\", \"yref\": \"y\", \"text\": \"<b>3</b>\", \"align\": \"center\", \"y\": -1, \"x\": 16, \"font\": {\"color\": \"rgb(255, 255, 255)\", \"family\": \"arial\"}, \"showarrow\": false}, {\"xref\": \"x\", \"yref\": \"y\", \"text\": \"<b>3</b>\", \"align\": \"center\", \"y\": -1, \"x\": 17, \"font\": {\"color\": \"rgb(255, 255, 255)\", \"family\": \"arial\"}, \"showarrow\": false}, {\"xref\": \"x\", \"yref\": \"y\", \"text\": \"<b>2</b>\", \"align\": \"center\", \"y\": -1, \"x\": 18, \"font\": {\"color\": \"rgb(255, 255, 255)\", \"family\": \"arial\"}, \"showarrow\": false}, {\"xref\": \"x\", \"yref\": \"y\", \"text\": \"<b>2</b>\", \"align\": \"center\", \"y\": -1, \"x\": 19, \"font\": {\"color\": \"rgb(255, 255, 255)\", \"family\": \"arial\"}, \"showarrow\": false}, {\"xref\": \"x\", \"yref\": \"y\", \"text\": \"<b>2</b>\", \"align\": \"center\", \"y\": -2, \"x\": 0, \"font\": {\"color\": \"rgb(255, 255, 255)\", \"family\": \"arial\"}, \"showarrow\": false}, {\"xref\": \"x\", \"yref\": \"y\", \"text\": \"<b>2</b>\", \"align\": \"center\", \"y\": -2, \"x\": 1, \"font\": {\"color\": \"rgb(255, 255, 255)\", \"family\": \"arial\"}, \"showarrow\": false}, {\"xref\": \"x\", \"yref\": \"y\", \"text\": \"<b>2</b>\", \"align\": \"center\", \"y\": -2, \"x\": 2, \"font\": {\"color\": \"rgb(255, 255, 255)\", \"family\": \"arial\"}, \"showarrow\": false}, {\"xref\": \"x\", \"yref\": \"y\", \"text\": \"<b>2</b>\", \"align\": \"center\", \"y\": -2, \"x\": 3, \"font\": {\"color\": \"rgb(255, 255, 255)\", \"family\": \"arial\"}, \"showarrow\": false}, {\"xref\": \"x\", \"yref\": \"y\", \"text\": \"<b>2</b>\", \"align\": \"center\", \"y\": -2, \"x\": 4, \"font\": {\"color\": \"rgb(255, 255, 255)\", \"family\": \"arial\"}, \"showarrow\": false}, {\"xref\": \"x\", \"yref\": \"y\", \"text\": \"<b>2</b>\", \"align\": \"center\", \"y\": -2, \"x\": 5, \"font\": {\"color\": \"rgb(255, 255, 255)\", \"family\": \"arial\"}, \"showarrow\": false}, {\"xref\": \"x\", \"yref\": \"y\", \"text\": \"<b>2</b>\", \"align\": \"center\", \"y\": -2, \"x\": 6, \"font\": {\"color\": \"rgb(255, 255, 255)\", \"family\": \"arial\"}, \"showarrow\": false}, {\"xref\": \"x\", \"yref\": \"y\", \"text\": \"<b>2</b>\", \"align\": \"center\", \"y\": -2, \"x\": 7, \"font\": {\"color\": \"rgb(255, 255, 255)\", \"family\": \"arial\"}, \"showarrow\": false}, {\"xref\": \"x\", \"yref\": \"y\", \"text\": \"<b>2</b>\", \"align\": \"center\", \"y\": -2, \"x\": 8, \"font\": {\"color\": \"rgb(255, 255, 255)\", \"family\": \"arial\"}, \"showarrow\": false}, {\"xref\": \"x\", \"yref\": \"y\", \"text\": \"<b>2</b>\", \"align\": \"center\", \"y\": -2, \"x\": 9, \"font\": {\"color\": \"rgb(255, 255, 255)\", \"family\": \"arial\"}, \"showarrow\": false}, {\"xref\": \"x\", \"yref\": \"y\", \"text\": \"<b>2</b>\", \"align\": \"center\", \"y\": -2, \"x\": 10, \"font\": {\"color\": \"rgb(255, 255, 255)\", \"family\": \"arial\"}, \"showarrow\": false}, {\"xref\": \"x\", \"yref\": \"y\", \"text\": \"<b>2</b>\", \"align\": \"center\", \"y\": -2, \"x\": 11, \"font\": {\"color\": \"rgb(255, 255, 255)\", \"family\": \"arial\"}, \"showarrow\": false}, {\"xref\": \"x\", \"yref\": \"y\", \"text\": \"<b>2</b>\", \"align\": \"center\", \"y\": -2, \"x\": 12, \"font\": {\"color\": \"rgb(255, 255, 255)\", \"family\": \"arial\"}, \"showarrow\": false}, {\"xref\": \"x\", \"yref\": \"y\", \"text\": \"<b>2</b>\", \"align\": \"center\", \"y\": -2, \"x\": 13, \"font\": {\"color\": \"rgb(255, 255, 255)\", \"family\": \"arial\"}, \"showarrow\": false}, {\"xref\": \"x\", \"yref\": \"y\", \"text\": \"<b>2</b>\", \"align\": \"center\", \"y\": -2, \"x\": 14, \"font\": {\"color\": \"rgb(255, 255, 255)\", \"family\": \"arial\"}, \"showarrow\": false}, {\"xref\": \"x\", \"yref\": \"y\", \"text\": \"<b>2</b>\", \"align\": \"center\", \"y\": -2, \"x\": 15, \"font\": {\"color\": \"rgb(255, 255, 255)\", \"family\": \"arial\"}, \"showarrow\": false}, {\"xref\": \"x\", \"yref\": \"y\", \"text\": \"<b>2</b>\", \"align\": \"center\", \"y\": -2, \"x\": 16, \"font\": {\"color\": \"rgb(255, 255, 255)\", \"family\": \"arial\"}, \"showarrow\": false}, {\"xref\": \"x\", \"yref\": \"y\", \"text\": \"<b>2</b>\", \"align\": \"center\", \"y\": -2, \"x\": 17, \"font\": {\"color\": \"rgb(255, 255, 255)\", \"family\": \"arial\"}, \"showarrow\": false}, {\"xref\": \"x\", \"yref\": \"y\", \"text\": \"<b>2</b>\", \"align\": \"center\", \"y\": -2, \"x\": 18, \"font\": {\"color\": \"rgb(255, 255, 255)\", \"family\": \"arial\"}, \"showarrow\": false}, {\"xref\": \"x\", \"yref\": \"y\", \"text\": \"<b>2</b>\", \"align\": \"center\", \"y\": -2, \"x\": 19, \"font\": {\"color\": \"rgb(255, 255, 255)\", \"family\": \"arial\"}, \"showarrow\": false}, {\"xref\": \"x\", \"yref\": \"y\", \"text\": \"<b>2</b>\", \"align\": \"center\", \"y\": -3, \"x\": 0, \"font\": {\"color\": \"rgb(255, 255, 255)\", \"family\": \"arial\"}, \"showarrow\": false}, {\"xref\": \"x\", \"yref\": \"y\", \"text\": \"<b>2</b>\", \"align\": \"center\", \"y\": -3, \"x\": 1, \"font\": {\"color\": \"rgb(255, 255, 255)\", \"family\": \"arial\"}, \"showarrow\": false}, {\"xref\": \"x\", \"yref\": \"y\", \"text\": \"<b>2</b>\", \"align\": \"center\", \"y\": -3, \"x\": 2, \"font\": {\"color\": \"rgb(255, 255, 255)\", \"family\": \"arial\"}, \"showarrow\": false}, {\"xref\": \"x\", \"yref\": \"y\", \"text\": \"<b>2</b>\", \"align\": \"center\", \"y\": -3, \"x\": 3, \"font\": {\"color\": \"rgb(255, 255, 255)\", \"family\": \"arial\"}, \"showarrow\": false}, {\"xref\": \"x\", \"yref\": \"y\", \"text\": \"<b>2</b>\", \"align\": \"center\", \"y\": -3, \"x\": 4, \"font\": {\"color\": \"rgb(255, 255, 255)\", \"family\": \"arial\"}, \"showarrow\": false}, {\"xref\": \"x\", \"yref\": \"y\", \"text\": \"<b>2</b>\", \"align\": \"center\", \"y\": -3, \"x\": 5, \"font\": {\"color\": \"rgb(255, 255, 255)\", \"family\": \"arial\"}, \"showarrow\": false}, {\"xref\": \"x\", \"yref\": \"y\", \"text\": \"<b>2</b>\", \"align\": \"center\", \"y\": -3, \"x\": 6, \"font\": {\"color\": \"rgb(255, 255, 255)\", \"family\": \"arial\"}, \"showarrow\": false}, {\"xref\": \"x\", \"yref\": \"y\", \"text\": \"<b>2</b>\", \"align\": \"center\", \"y\": -3, \"x\": 7, \"font\": {\"color\": \"rgb(255, 255, 255)\", \"family\": \"arial\"}, \"showarrow\": false}, {\"xref\": \"x\", \"yref\": \"y\", \"text\": \"<b>2</b>\", \"align\": \"center\", \"y\": -3, \"x\": 8, \"font\": {\"color\": \"rgb(255, 255, 255)\", \"family\": \"arial\"}, \"showarrow\": false}, {\"xref\": \"x\", \"yref\": \"y\", \"text\": \"<b>2</b>\", \"align\": \"center\", \"y\": -3, \"x\": 9, \"font\": {\"color\": \"rgb(255, 255, 255)\", \"family\": \"arial\"}, \"showarrow\": false}, {\"xref\": \"x\", \"yref\": \"y\", \"text\": \"<b>2</b>\", \"align\": \"center\", \"y\": -3, \"x\": 10, \"font\": {\"color\": \"rgb(255, 255, 255)\", \"family\": \"arial\"}, \"showarrow\": false}, {\"xref\": \"x\", \"yref\": \"y\", \"text\": \"<b>1</b>\", \"align\": \"center\", \"y\": -3, \"x\": 11, \"font\": {\"color\": \"rgb(255, 255, 255)\", \"family\": \"arial\"}, \"showarrow\": false}, {\"xref\": \"x\", \"yref\": \"y\", \"text\": \"<b>1</b>\", \"align\": \"center\", \"y\": -3, \"x\": 12, \"font\": {\"color\": \"rgb(255, 255, 255)\", \"family\": \"arial\"}, \"showarrow\": false}, {\"xref\": \"x\", \"yref\": \"y\", \"text\": \"<b>1</b>\", \"align\": \"center\", \"y\": -3, \"x\": 13, \"font\": {\"color\": \"rgb(255, 255, 255)\", \"family\": \"arial\"}, \"showarrow\": false}, {\"xref\": \"x\", \"yref\": \"y\", \"text\": \"<b>1</b>\", \"align\": \"center\", \"y\": -3, \"x\": 14, \"font\": {\"color\": \"rgb(255, 255, 255)\", \"family\": \"arial\"}, \"showarrow\": false}, {\"xref\": \"x\", \"yref\": \"y\", \"text\": \"<b>1</b>\", \"align\": \"center\", \"y\": -3, \"x\": 15, \"font\": {\"color\": \"rgb(255, 255, 255)\", \"family\": \"arial\"}, \"showarrow\": false}, {\"xref\": \"x\", \"yref\": \"y\", \"text\": \"<b>1</b>\", \"align\": \"center\", \"y\": -3, \"x\": 16, \"font\": {\"color\": \"rgb(255, 255, 255)\", \"family\": \"arial\"}, \"showarrow\": false}, {\"xref\": \"x\", \"yref\": \"y\", \"text\": \"<b>1</b>\", \"align\": \"center\", \"y\": -3, \"x\": 17, \"font\": {\"color\": \"rgb(255, 255, 255)\", \"family\": \"arial\"}, \"showarrow\": false}, {\"xref\": \"x\", \"yref\": \"y\", \"text\": \"<b>1</b>\", \"align\": \"center\", \"y\": -3, \"x\": 18, \"font\": {\"color\": \"rgb(255, 255, 255)\", \"family\": \"arial\"}, \"showarrow\": false}, {\"xref\": \"x\", \"yref\": \"y\", \"text\": \"<b>1</b>\", \"align\": \"center\", \"y\": -3, \"x\": 19, \"font\": {\"color\": \"rgb(255, 255, 255)\", \"family\": \"arial\"}, \"showarrow\": false}, {\"xref\": \"x\", \"yref\": \"y\", \"text\": \"<b>1</b>\", \"align\": \"center\", \"y\": -4, \"x\": 0, \"font\": {\"color\": \"rgb(255, 255, 255)\", \"family\": \"arial\"}, \"showarrow\": false}, {\"xref\": \"x\", \"yref\": \"y\", \"text\": \"<b>1</b>\", \"align\": \"center\", \"y\": -4, \"x\": 1, \"font\": {\"color\": \"rgb(255, 255, 255)\", \"family\": \"arial\"}, \"showarrow\": false}, {\"xref\": \"x\", \"yref\": \"y\", \"text\": \"<b>1</b>\", \"align\": \"center\", \"y\": -4, \"x\": 2, \"font\": {\"color\": \"rgb(255, 255, 255)\", \"family\": \"arial\"}, \"showarrow\": false}, {\"xref\": \"x\", \"yref\": \"y\", \"text\": \"<b>1</b>\", \"align\": \"center\", \"y\": -4, \"x\": 3, \"font\": {\"color\": \"rgb(255, 255, 255)\", \"family\": \"arial\"}, \"showarrow\": false}, {\"xref\": \"x\", \"yref\": \"y\", \"text\": \"<b>1</b>\", \"align\": \"center\", \"y\": -4, \"x\": 4, \"font\": {\"color\": \"rgb(255, 255, 255)\", \"family\": \"arial\"}, \"showarrow\": false}, {\"xref\": \"x\", \"yref\": \"y\", \"text\": \"<b>1</b>\", \"align\": \"center\", \"y\": -4, \"x\": 5, \"font\": {\"color\": \"rgb(255, 255, 255)\", \"family\": \"arial\"}, \"showarrow\": false}, {\"xref\": \"x\", \"yref\": \"y\", \"text\": \"<b>1</b>\", \"align\": \"center\", \"y\": -4, \"x\": 6, \"font\": {\"color\": \"rgb(255, 255, 255)\", \"family\": \"arial\"}, \"showarrow\": false}, {\"xref\": \"x\", \"yref\": \"y\", \"text\": \"<b>1</b>\", \"align\": \"center\", \"y\": -4, \"x\": 7, \"font\": {\"color\": \"rgb(255, 255, 255)\", \"family\": \"arial\"}, \"showarrow\": false}, {\"xref\": \"x\", \"yref\": \"y\", \"text\": \"<b>1</b>\", \"align\": \"center\", \"y\": -4, \"x\": 8, \"font\": {\"color\": \"rgb(255, 255, 255)\", \"family\": \"arial\"}, \"showarrow\": false}, {\"xref\": \"x\", \"yref\": \"y\", \"text\": \"<b>1</b>\", \"align\": \"center\", \"y\": -4, \"x\": 9, \"font\": {\"color\": \"rgb(255, 255, 255)\", \"family\": \"arial\"}, \"showarrow\": false}, {\"xref\": \"x\", \"yref\": \"y\", \"text\": \"<b>1</b>\", \"align\": \"center\", \"y\": -4, \"x\": 10, \"font\": {\"color\": \"rgb(255, 255, 255)\", \"family\": \"arial\"}, \"showarrow\": false}, {\"xref\": \"x\", \"yref\": \"y\", \"text\": \"<b>1</b>\", \"align\": \"center\", \"y\": -4, \"x\": 11, \"font\": {\"color\": \"rgb(255, 255, 255)\", \"family\": \"arial\"}, \"showarrow\": false}, {\"xref\": \"x\", \"yref\": \"y\", \"text\": \"<b>1</b>\", \"align\": \"center\", \"y\": -4, \"x\": 12, \"font\": {\"color\": \"rgb(255, 255, 255)\", \"family\": \"arial\"}, \"showarrow\": false}, {\"xref\": \"x\", \"yref\": \"y\", \"text\": \"<b>1</b>\", \"align\": \"center\", \"y\": -4, \"x\": 13, \"font\": {\"color\": \"rgb(255, 255, 255)\", \"family\": \"arial\"}, \"showarrow\": false}, {\"xref\": \"x\", \"yref\": \"y\", \"text\": \"<b>1</b>\", \"align\": \"center\", \"y\": -4, \"x\": 14, \"font\": {\"color\": \"rgb(255, 255, 255)\", \"family\": \"arial\"}, \"showarrow\": false}, {\"xref\": \"x\", \"yref\": \"y\", \"text\": \"<b>1</b>\", \"align\": \"center\", \"y\": -4, \"x\": 15, \"font\": {\"color\": \"rgb(255, 255, 255)\", \"family\": \"arial\"}, \"showarrow\": false}, {\"xref\": \"x\", \"yref\": \"y\", \"text\": \"<b>1</b>\", \"align\": \"center\", \"y\": -4, \"x\": 16, \"font\": {\"color\": \"rgb(255, 255, 255)\", \"family\": \"arial\"}, \"showarrow\": false}, {\"xref\": \"x\", \"yref\": \"y\", \"text\": \"<b>1</b>\", \"align\": \"center\", \"y\": -4, \"x\": 17, \"font\": {\"color\": \"rgb(255, 255, 255)\", \"family\": \"arial\"}, \"showarrow\": false}, {\"xref\": \"x\", \"yref\": \"y\", \"text\": \"<b>1</b>\", \"align\": \"center\", \"y\": -4, \"x\": 18, \"font\": {\"color\": \"rgb(255, 255, 255)\", \"family\": \"arial\"}, \"showarrow\": false}, {\"xref\": \"x\", \"yref\": \"y\", \"text\": \"<b>1</b>\", \"align\": \"center\", \"y\": -4, \"x\": 19, \"font\": {\"color\": \"rgb(255, 255, 255)\", \"family\": \"arial\"}, \"showarrow\": false}, {\"xref\": \"x\", \"yref\": \"y\", \"text\": \"<b>1</b>\", \"align\": \"center\", \"y\": -5, \"x\": 0, \"font\": {\"color\": \"rgb(255, 255, 255)\", \"family\": \"arial\"}, \"showarrow\": false}, {\"xref\": \"x\", \"yref\": \"y\", \"text\": \"<b>1</b>\", \"align\": \"center\", \"y\": -5, \"x\": 1, \"font\": {\"color\": \"rgb(255, 255, 255)\", \"family\": \"arial\"}, \"showarrow\": false}, {\"xref\": \"x\", \"yref\": \"y\", \"text\": \"<b>1</b>\", \"align\": \"center\", \"y\": -5, \"x\": 2, \"font\": {\"color\": \"rgb(255, 255, 255)\", \"family\": \"arial\"}, \"showarrow\": false}, {\"xref\": \"x\", \"yref\": \"y\", \"text\": \"<b>1</b>\", \"align\": \"center\", \"y\": -5, \"x\": 3, \"font\": {\"color\": \"rgb(255, 255, 255)\", \"family\": \"arial\"}, \"showarrow\": false}, {\"xref\": \"x\", \"yref\": \"y\", \"text\": \"<b>1</b>\", \"align\": \"center\", \"y\": -5, \"x\": 4, \"font\": {\"color\": \"rgb(255, 255, 255)\", \"family\": \"arial\"}, \"showarrow\": false}, {\"xref\": \"x\", \"yref\": \"y\", \"text\": \"<b>1</b>\", \"align\": \"center\", \"y\": -5, \"x\": 5, \"font\": {\"color\": \"rgb(255, 255, 255)\", \"family\": \"arial\"}, \"showarrow\": false}, {\"xref\": \"x\", \"yref\": \"y\", \"text\": \"<b>.9</b>\", \"align\": \"center\", \"y\": -5, \"x\": 6, \"font\": {\"color\": \"rgb(255, 255, 255)\", \"family\": \"arial\"}, \"showarrow\": false}, {\"xref\": \"x\", \"yref\": \"y\", \"text\": \"<b>.9</b>\", \"align\": \"center\", \"y\": -5, \"x\": 7, \"font\": {\"color\": \"rgb(255, 255, 255)\", \"family\": \"arial\"}, \"showarrow\": false}, {\"xref\": \"x\", \"yref\": \"y\", \"text\": \"<b>.9</b>\", \"align\": \"center\", \"y\": -5, \"x\": 8, \"font\": {\"color\": \"rgb(255, 255, 255)\", \"family\": \"arial\"}, \"showarrow\": false}, {\"xref\": \"x\", \"yref\": \"y\", \"text\": \"<b>.9</b>\", \"align\": \"center\", \"y\": -5, \"x\": 9, \"font\": {\"color\": \"rgb(255, 255, 255)\", \"family\": \"arial\"}, \"showarrow\": false}, {\"xref\": \"x\", \"yref\": \"y\", \"text\": \"<b>.9</b>\", \"align\": \"center\", \"y\": -5, \"x\": 10, \"font\": {\"color\": \"rgb(255, 255, 255)\", \"family\": \"arial\"}, \"showarrow\": false}, {\"xref\": \"x\", \"yref\": \"y\", \"text\": \"<b>.9</b>\", \"align\": \"center\", \"y\": -5, \"x\": 11, \"font\": {\"color\": \"rgb(255, 255, 255)\", \"family\": \"arial\"}, \"showarrow\": false}, {\"xref\": \"x\", \"yref\": \"y\", \"text\": \"<b>.9</b>\", \"align\": \"center\", \"y\": -5, \"x\": 12, \"font\": {\"color\": \"rgb(255, 255, 255)\", \"family\": \"arial\"}, \"showarrow\": false}, {\"xref\": \"x\", \"yref\": \"y\", \"text\": \"<b>.8</b>\", \"align\": \"center\", \"y\": -5, \"x\": 13, \"font\": {\"color\": \"rgb(255, 255, 255)\", \"family\": \"arial\"}, \"showarrow\": false}, {\"xref\": \"x\", \"yref\": \"y\", \"text\": \"<b>.8</b>\", \"align\": \"center\", \"y\": -5, \"x\": 14, \"font\": {\"color\": \"rgb(255, 255, 255)\", \"family\": \"arial\"}, \"showarrow\": false}, {\"xref\": \"x\", \"yref\": \"y\", \"text\": \"<b>.8</b>\", \"align\": \"center\", \"y\": -5, \"x\": 15, \"font\": {\"color\": \"rgb(255, 255, 255)\", \"family\": \"arial\"}, \"showarrow\": false}, {\"xref\": \"x\", \"yref\": \"y\", \"text\": \"<b>.8</b>\", \"align\": \"center\", \"y\": -5, \"x\": 16, \"font\": {\"color\": \"rgb(255, 255, 255)\", \"family\": \"arial\"}, \"showarrow\": false}, {\"xref\": \"x\", \"yref\": \"y\", \"text\": \"<b>.8</b>\", \"align\": \"center\", \"y\": -5, \"x\": 17, \"font\": {\"color\": \"rgb(255, 255, 255)\", \"family\": \"arial\"}, \"showarrow\": false}, {\"xref\": \"x\", \"yref\": \"y\", \"text\": \"<b>.8</b>\", \"align\": \"center\", \"y\": -5, \"x\": 18, \"font\": {\"color\": \"rgb(255, 255, 255)\", \"family\": \"arial\"}, \"showarrow\": false}, {\"xref\": \"x\", \"yref\": \"y\", \"text\": \"<b>.8</b>\", \"align\": \"center\", \"y\": -5, \"x\": 19, \"font\": {\"color\": \"rgb(255, 255, 255)\", \"family\": \"arial\"}, \"showarrow\": false}, {\"xref\": \"x\", \"yref\": \"y\", \"text\": \"<b>.8</b>\", \"align\": \"center\", \"y\": -6, \"x\": 0, \"font\": {\"color\": \"rgb(255, 255, 255)\", \"family\": \"arial\"}, \"showarrow\": false}, {\"xref\": \"x\", \"yref\": \"y\", \"text\": \"<b>.8</b>\", \"align\": \"center\", \"y\": -6, \"x\": 1, \"font\": {\"color\": \"rgb(255, 255, 255)\", \"family\": \"arial\"}, \"showarrow\": false}, {\"xref\": \"x\", \"yref\": \"y\", \"text\": \"<b>.8</b>\", \"align\": \"center\", \"y\": -6, \"x\": 2, \"font\": {\"color\": \"rgb(255, 255, 255)\", \"family\": \"arial\"}, \"showarrow\": false}, {\"xref\": \"x\", \"yref\": \"y\", \"text\": \"<b>.8</b>\", \"align\": \"center\", \"y\": -6, \"x\": 3, \"font\": {\"color\": \"rgb(255, 255, 255)\", \"family\": \"arial\"}, \"showarrow\": false}, {\"xref\": \"x\", \"yref\": \"y\", \"text\": \"<b>.8</b>\", \"align\": \"center\", \"y\": -6, \"x\": 4, \"font\": {\"color\": \"rgb(255, 255, 255)\", \"family\": \"arial\"}, \"showarrow\": false}, {\"xref\": \"x\", \"yref\": \"y\", \"text\": \"<b>.8</b>\", \"align\": \"center\", \"y\": -6, \"x\": 5, \"font\": {\"color\": \"rgb(255, 255, 255)\", \"family\": \"arial\"}, \"showarrow\": false}, {\"xref\": \"x\", \"yref\": \"y\", \"text\": \"<b>.8</b>\", \"align\": \"center\", \"y\": -6, \"x\": 6, \"font\": {\"color\": \"rgb(255, 255, 255)\", \"family\": \"arial\"}, \"showarrow\": false}, {\"xref\": \"x\", \"yref\": \"y\", \"text\": \"<b>.8</b>\", \"align\": \"center\", \"y\": -6, \"x\": 7, \"font\": {\"color\": \"rgb(255, 255, 255)\", \"family\": \"arial\"}, \"showarrow\": false}, {\"xref\": \"x\", \"yref\": \"y\", \"text\": \"<b>.7</b>\", \"align\": \"center\", \"y\": -6, \"x\": 8, \"font\": {\"color\": \"rgb(255, 255, 255)\", \"family\": \"arial\"}, \"showarrow\": false}, {\"xref\": \"x\", \"yref\": \"y\", \"text\": \"<b>.7</b>\", \"align\": \"center\", \"y\": -6, \"x\": 9, \"font\": {\"color\": \"rgb(255, 255, 255)\", \"family\": \"arial\"}, \"showarrow\": false}, {\"xref\": \"x\", \"yref\": \"y\", \"text\": \"<b>.7</b>\", \"align\": \"center\", \"y\": -6, \"x\": 10, \"font\": {\"color\": \"rgb(255, 255, 255)\", \"family\": \"arial\"}, \"showarrow\": false}, {\"xref\": \"x\", \"yref\": \"y\", \"text\": \"<b>.7</b>\", \"align\": \"center\", \"y\": -6, \"x\": 11, \"font\": {\"color\": \"rgb(255, 255, 255)\", \"family\": \"arial\"}, \"showarrow\": false}, {\"xref\": \"x\", \"yref\": \"y\", \"text\": \"<b>.7</b>\", \"align\": \"center\", \"y\": -6, \"x\": 12, \"font\": {\"color\": \"rgb(255, 255, 255)\", \"family\": \"arial\"}, \"showarrow\": false}, {\"xref\": \"x\", \"yref\": \"y\", \"text\": \"<b>.7</b>\", \"align\": \"center\", \"y\": -6, \"x\": 13, \"font\": {\"color\": \"rgb(255, 255, 255)\", \"family\": \"arial\"}, \"showarrow\": false}, {\"xref\": \"x\", \"yref\": \"y\", \"text\": \"<b>.7</b>\", \"align\": \"center\", \"y\": -6, \"x\": 14, \"font\": {\"color\": \"rgb(255, 255, 255)\", \"family\": \"arial\"}, \"showarrow\": false}, {\"xref\": \"x\", \"yref\": \"y\", \"text\": \"<b>.7</b>\", \"align\": \"center\", \"y\": -6, \"x\": 15, \"font\": {\"color\": \"rgb(255, 255, 255)\", \"family\": \"arial\"}, \"showarrow\": false}, {\"xref\": \"x\", \"yref\": \"y\", \"text\": \"<b>.7</b>\", \"align\": \"center\", \"y\": -6, \"x\": 16, \"font\": {\"color\": \"rgb(255, 255, 255)\", \"family\": \"arial\"}, \"showarrow\": false}, {\"xref\": \"x\", \"yref\": \"y\", \"text\": \"<b>.7</b>\", \"align\": \"center\", \"y\": -6, \"x\": 17, \"font\": {\"color\": \"rgb(255, 255, 255)\", \"family\": \"arial\"}, \"showarrow\": false}, {\"xref\": \"x\", \"yref\": \"y\", \"text\": \"<b>.7</b>\", \"align\": \"center\", \"y\": -6, \"x\": 18, \"font\": {\"color\": \"rgb(255, 255, 255)\", \"family\": \"arial\"}, \"showarrow\": false}, {\"xref\": \"x\", \"yref\": \"y\", \"text\": \"<b>.7</b>\", \"align\": \"center\", \"y\": -6, \"x\": 19, \"font\": {\"color\": \"rgb(255, 255, 255)\", \"family\": \"arial\"}, \"showarrow\": false}, {\"xref\": \"x\", \"yref\": \"y\", \"text\": \"<b>.7</b>\", \"align\": \"center\", \"y\": -7, \"x\": 0, \"font\": {\"color\": \"rgb(255, 255, 255)\", \"family\": \"arial\"}, \"showarrow\": false}, {\"xref\": \"x\", \"yref\": \"y\", \"text\": \"<b>.7</b>\", \"align\": \"center\", \"y\": -7, \"x\": 1, \"font\": {\"color\": \"rgb(255, 255, 255)\", \"family\": \"arial\"}, \"showarrow\": false}, {\"xref\": \"x\", \"yref\": \"y\", \"text\": \"<b>.7</b>\", \"align\": \"center\", \"y\": -7, \"x\": 2, \"font\": {\"color\": \"rgb(255, 255, 255)\", \"family\": \"arial\"}, \"showarrow\": false}, {\"xref\": \"x\", \"yref\": \"y\", \"text\": \"<b>.7</b>\", \"align\": \"center\", \"y\": -7, \"x\": 3, \"font\": {\"color\": \"rgb(255, 255, 255)\", \"family\": \"arial\"}, \"showarrow\": false}, {\"xref\": \"x\", \"yref\": \"y\", \"text\": \"<b>.7</b>\", \"align\": \"center\", \"y\": -7, \"x\": 4, \"font\": {\"color\": \"rgb(255, 255, 255)\", \"family\": \"arial\"}, \"showarrow\": false}, {\"xref\": \"x\", \"yref\": \"y\", \"text\": \"<b>.7</b>\", \"align\": \"center\", \"y\": -7, \"x\": 5, \"font\": {\"color\": \"rgb(255, 255, 255)\", \"family\": \"arial\"}, \"showarrow\": false}, {\"xref\": \"x\", \"yref\": \"y\", \"text\": \"<b>.6</b>\", \"align\": \"center\", \"y\": -7, \"x\": 6, \"font\": {\"color\": \"rgb(255, 255, 255)\", \"family\": \"arial\"}, \"showarrow\": false}, {\"xref\": \"x\", \"yref\": \"y\", \"text\": \"<b>.6</b>\", \"align\": \"center\", \"y\": -7, \"x\": 7, \"font\": {\"color\": \"rgb(255, 255, 255)\", \"family\": \"arial\"}, \"showarrow\": false}, {\"xref\": \"x\", \"yref\": \"y\", \"text\": \"<b>.6</b>\", \"align\": \"center\", \"y\": -7, \"x\": 8, \"font\": {\"color\": \"rgb(255, 255, 255)\", \"family\": \"arial\"}, \"showarrow\": false}, {\"xref\": \"x\", \"yref\": \"y\", \"text\": \"<b>.6</b>\", \"align\": \"center\", \"y\": -7, \"x\": 9, \"font\": {\"color\": \"rgb(255, 255, 255)\", \"family\": \"arial\"}, \"showarrow\": false}, {\"xref\": \"x\", \"yref\": \"y\", \"text\": \"<b>.6</b>\", \"align\": \"center\", \"y\": -7, \"x\": 10, \"font\": {\"color\": \"rgb(255, 255, 255)\", \"family\": \"arial\"}, \"showarrow\": false}, {\"xref\": \"x\", \"yref\": \"y\", \"text\": \"<b>.6</b>\", \"align\": \"center\", \"y\": -7, \"x\": 11, \"font\": {\"color\": \"rgb(255, 255, 255)\", \"family\": \"arial\"}, \"showarrow\": false}, {\"xref\": \"x\", \"yref\": \"y\", \"text\": \"<b>.6</b>\", \"align\": \"center\", \"y\": -7, \"x\": 12, \"font\": {\"color\": \"rgb(255, 255, 255)\", \"family\": \"arial\"}, \"showarrow\": false}, {\"xref\": \"x\", \"yref\": \"y\", \"text\": \"<b>.6</b>\", \"align\": \"center\", \"y\": -7, \"x\": 13, \"font\": {\"color\": \"rgb(255, 255, 255)\", \"family\": \"arial\"}, \"showarrow\": false}, {\"xref\": \"x\", \"yref\": \"y\", \"text\": \"<b>.6</b>\", \"align\": \"center\", \"y\": -7, \"x\": 14, \"font\": {\"color\": \"rgb(255, 255, 255)\", \"family\": \"arial\"}, \"showarrow\": false}, {\"xref\": \"x\", \"yref\": \"y\", \"text\": \"<b>.6</b>\", \"align\": \"center\", \"y\": -7, \"x\": 15, \"font\": {\"color\": \"rgb(255, 255, 255)\", \"family\": \"arial\"}, \"showarrow\": false}, {\"xref\": \"x\", \"yref\": \"y\", \"text\": \"<b>.6</b>\", \"align\": \"center\", \"y\": -7, \"x\": 16, \"font\": {\"color\": \"rgb(255, 255, 255)\", \"family\": \"arial\"}, \"showarrow\": false}, {\"xref\": \"x\", \"yref\": \"y\", \"text\": \"<b>.6</b>\", \"align\": \"center\", \"y\": -7, \"x\": 17, \"font\": {\"color\": \"rgb(255, 255, 255)\", \"family\": \"arial\"}, \"showarrow\": false}, {\"xref\": \"x\", \"yref\": \"y\", \"text\": \"<b>.6</b>\", \"align\": \"center\", \"y\": -7, \"x\": 18, \"font\": {\"color\": \"rgb(255, 255, 255)\", \"family\": \"arial\"}, \"showarrow\": false}, {\"xref\": \"x\", \"yref\": \"y\", \"text\": \"<b>.6</b>\", \"align\": \"center\", \"y\": -7, \"x\": 19, \"font\": {\"color\": \"rgb(255, 255, 255)\", \"family\": \"arial\"}, \"showarrow\": false}, {\"xref\": \"x\", \"yref\": \"y\", \"text\": \"<b>.6</b>\", \"align\": \"center\", \"y\": -8, \"x\": 0, \"font\": {\"color\": \"rgb(255, 255, 255)\", \"family\": \"arial\"}, \"showarrow\": false}, {\"xref\": \"x\", \"yref\": \"y\", \"text\": \"<b>.6</b>\", \"align\": \"center\", \"y\": -8, \"x\": 1, \"font\": {\"color\": \"rgb(255, 255, 255)\", \"family\": \"arial\"}, \"showarrow\": false}, {\"xref\": \"x\", \"yref\": \"y\", \"text\": \"<b>.6</b>\", \"align\": \"center\", \"y\": -8, \"x\": 2, \"font\": {\"color\": \"rgb(255, 255, 255)\", \"family\": \"arial\"}, \"showarrow\": false}, {\"xref\": \"x\", \"yref\": \"y\", \"text\": \"<b>.6</b>\", \"align\": \"center\", \"y\": -8, \"x\": 3, \"font\": {\"color\": \"rgb(255, 255, 255)\", \"family\": \"arial\"}, \"showarrow\": false}, {\"xref\": \"x\", \"yref\": \"y\", \"text\": \"<b>.6</b>\", \"align\": \"center\", \"y\": -8, \"x\": 4, \"font\": {\"color\": \"rgb(255, 255, 255)\", \"family\": \"arial\"}, \"showarrow\": false}, {\"xref\": \"x\", \"yref\": \"y\", \"text\": \"<b>.5</b>\", \"align\": \"center\", \"y\": -8, \"x\": 5, \"font\": {\"color\": \"rgb(255, 255, 255)\", \"family\": \"arial\"}, \"showarrow\": false}, {\"xref\": \"x\", \"yref\": \"y\", \"text\": \"<b>.5</b>\", \"align\": \"center\", \"y\": -8, \"x\": 6, \"font\": {\"color\": \"rgb(255, 255, 255)\", \"family\": \"arial\"}, \"showarrow\": false}, {\"xref\": \"x\", \"yref\": \"y\", \"text\": \"<b>.5</b>\", \"align\": \"center\", \"y\": -8, \"x\": 7, \"font\": {\"color\": \"rgb(255, 255, 255)\", \"family\": \"arial\"}, \"showarrow\": false}, {\"xref\": \"x\", \"yref\": \"y\", \"text\": \"<b>.5</b>\", \"align\": \"center\", \"y\": -8, \"x\": 8, \"font\": {\"color\": \"rgb(255, 255, 255)\", \"family\": \"arial\"}, \"showarrow\": false}, {\"xref\": \"x\", \"yref\": \"y\", \"text\": \"<b>.5</b>\", \"align\": \"center\", \"y\": -8, \"x\": 9, \"font\": {\"color\": \"rgb(255, 255, 255)\", \"family\": \"arial\"}, \"showarrow\": false}, {\"xref\": \"x\", \"yref\": \"y\", \"text\": \"<b>.5</b>\", \"align\": \"center\", \"y\": -8, \"x\": 10, \"font\": {\"color\": \"rgb(255, 255, 255)\", \"family\": \"arial\"}, \"showarrow\": false}, {\"xref\": \"x\", \"yref\": \"y\", \"text\": \"<b>.5</b>\", \"align\": \"center\", \"y\": -8, \"x\": 11, \"font\": {\"color\": \"rgb(255, 255, 255)\", \"family\": \"arial\"}, \"showarrow\": false}, {\"xref\": \"x\", \"yref\": \"y\", \"text\": \"<b>.5</b>\", \"align\": \"center\", \"y\": -8, \"x\": 12, \"font\": {\"color\": \"rgb(255, 255, 255)\", \"family\": \"arial\"}, \"showarrow\": false}, {\"xref\": \"x\", \"yref\": \"y\", \"text\": \"<b>.5</b>\", \"align\": \"center\", \"y\": -8, \"x\": 13, \"font\": {\"color\": \"rgb(255, 255, 255)\", \"family\": \"arial\"}, \"showarrow\": false}, {\"xref\": \"x\", \"yref\": \"y\", \"text\": \"<b>.5</b>\", \"align\": \"center\", \"y\": -8, \"x\": 14, \"font\": {\"color\": \"rgb(255, 255, 255)\", \"family\": \"arial\"}, \"showarrow\": false}, {\"xref\": \"x\", \"yref\": \"y\", \"text\": \"<b>.5</b>\", \"align\": \"center\", \"y\": -8, \"x\": 15, \"font\": {\"color\": \"rgb(255, 255, 255)\", \"family\": \"arial\"}, \"showarrow\": false}, {\"xref\": \"x\", \"yref\": \"y\", \"text\": \"<b>.5</b>\", \"align\": \"center\", \"y\": -8, \"x\": 16, \"font\": {\"color\": \"rgb(255, 255, 255)\", \"family\": \"arial\"}, \"showarrow\": false}, {\"xref\": \"x\", \"yref\": \"y\", \"text\": \"<b>.5</b>\", \"align\": \"center\", \"y\": -8, \"x\": 17, \"font\": {\"color\": \"rgb(255, 255, 255)\", \"family\": \"arial\"}, \"showarrow\": false}, {\"xref\": \"x\", \"yref\": \"y\", \"text\": \"<b>.5</b>\", \"align\": \"center\", \"y\": -8, \"x\": 18, \"font\": {\"color\": \"rgb(255, 255, 255)\", \"family\": \"arial\"}, \"showarrow\": false}, {\"xref\": \"x\", \"yref\": \"y\", \"text\": \"<b>.5</b>\", \"align\": \"center\", \"y\": -8, \"x\": 19, \"font\": {\"color\": \"rgb(255, 255, 255)\", \"family\": \"arial\"}, \"showarrow\": false}, {\"xref\": \"x\", \"yref\": \"y\", \"text\": \"<b>.5</b>\", \"align\": \"center\", \"y\": -9, \"x\": 0, \"font\": {\"color\": \"rgb(255, 255, 255)\", \"family\": \"arial\"}, \"showarrow\": false}, {\"xref\": \"x\", \"yref\": \"y\", \"text\": \"<b>.5</b>\", \"align\": \"center\", \"y\": -9, \"x\": 1, \"font\": {\"color\": \"rgb(255, 255, 255)\", \"family\": \"arial\"}, \"showarrow\": false}, {\"xref\": \"x\", \"yref\": \"y\", \"text\": \"<b>.5</b>\", \"align\": \"center\", \"y\": -9, \"x\": 2, \"font\": {\"color\": \"rgb(255, 255, 255)\", \"family\": \"arial\"}, \"showarrow\": false}, {\"xref\": \"x\", \"yref\": \"y\", \"text\": \"<b>.5</b>\", \"align\": \"center\", \"y\": -9, \"x\": 3, \"font\": {\"color\": \"rgb(255, 255, 255)\", \"family\": \"arial\"}, \"showarrow\": false}, {\"xref\": \"x\", \"yref\": \"y\", \"text\": \"<b>.5</b>\", \"align\": \"center\", \"y\": -9, \"x\": 4, \"font\": {\"color\": \"rgb(255, 255, 255)\", \"family\": \"arial\"}, \"showarrow\": false}, {\"xref\": \"x\", \"yref\": \"y\", \"text\": \"<b>.5</b>\", \"align\": \"center\", \"y\": -9, \"x\": 5, \"font\": {\"color\": \"rgb(255, 255, 255)\", \"family\": \"arial\"}, \"showarrow\": false}, {\"xref\": \"x\", \"yref\": \"y\", \"text\": \"<b>.5</b>\", \"align\": \"center\", \"y\": -9, \"x\": 6, \"font\": {\"color\": \"rgb(255, 255, 255)\", \"family\": \"arial\"}, \"showarrow\": false}, {\"xref\": \"x\", \"yref\": \"y\", \"text\": \"<b>.4</b>\", \"align\": \"center\", \"y\": -9, \"x\": 7, \"font\": {\"color\": \"rgb(255, 255, 255)\", \"family\": \"arial\"}, \"showarrow\": false}, {\"xref\": \"x\", \"yref\": \"y\", \"text\": \"<b>.4</b>\", \"align\": \"center\", \"y\": -9, \"x\": 8, \"font\": {\"color\": \"rgb(255, 255, 255)\", \"family\": \"arial\"}, \"showarrow\": false}, {\"xref\": \"x\", \"yref\": \"y\", \"text\": \"<b>.4</b>\", \"align\": \"center\", \"y\": -9, \"x\": 9, \"font\": {\"color\": \"rgb(255, 255, 255)\", \"family\": \"arial\"}, \"showarrow\": false}, {\"xref\": \"x\", \"yref\": \"y\", \"text\": \"<b>.4</b>\", \"align\": \"center\", \"y\": -9, \"x\": 10, \"font\": {\"color\": \"rgb(255, 255, 255)\", \"family\": \"arial\"}, \"showarrow\": false}, {\"xref\": \"x\", \"yref\": \"y\", \"text\": \"<b>.4</b>\", \"align\": \"center\", \"y\": -9, \"x\": 11, \"font\": {\"color\": \"rgb(255, 255, 255)\", \"family\": \"arial\"}, \"showarrow\": false}, {\"xref\": \"x\", \"yref\": \"y\", \"text\": \"<b>.4</b>\", \"align\": \"center\", \"y\": -9, \"x\": 12, \"font\": {\"color\": \"rgb(255, 255, 255)\", \"family\": \"arial\"}, \"showarrow\": false}, {\"xref\": \"x\", \"yref\": \"y\", \"text\": \"<b>.4</b>\", \"align\": \"center\", \"y\": -9, \"x\": 13, \"font\": {\"color\": \"rgb(255, 255, 255)\", \"family\": \"arial\"}, \"showarrow\": false}, {\"xref\": \"x\", \"yref\": \"y\", \"text\": \"<b>.4</b>\", \"align\": \"center\", \"y\": -9, \"x\": 14, \"font\": {\"color\": \"rgb(255, 255, 255)\", \"family\": \"arial\"}, \"showarrow\": false}, {\"xref\": \"x\", \"yref\": \"y\", \"text\": \"<b>.4</b>\", \"align\": \"center\", \"y\": -9, \"x\": 15, \"font\": {\"color\": \"rgb(255, 255, 255)\", \"family\": \"arial\"}, \"showarrow\": false}, {\"xref\": \"x\", \"yref\": \"y\", \"text\": \"<b>.4</b>\", \"align\": \"center\", \"y\": -9, \"x\": 16, \"font\": {\"color\": \"rgb(255, 255, 255)\", \"family\": \"arial\"}, \"showarrow\": false}, {\"xref\": \"x\", \"yref\": \"y\", \"text\": \"<b>.4</b>\", \"align\": \"center\", \"y\": -9, \"x\": 17, \"font\": {\"color\": \"rgb(255, 255, 255)\", \"family\": \"arial\"}, \"showarrow\": false}, {\"xref\": \"x\", \"yref\": \"y\", \"text\": \"<b>.4</b>\", \"align\": \"center\", \"y\": -9, \"x\": 18, \"font\": {\"color\": \"rgb(255, 255, 255)\", \"family\": \"arial\"}, \"showarrow\": false}, {\"xref\": \"x\", \"yref\": \"y\", \"text\": \"<b>.4</b>\", \"align\": \"center\", \"y\": -9, \"x\": 19, \"font\": {\"color\": \"rgb(255, 255, 255)\", \"family\": \"arial\"}, \"showarrow\": false}, {\"xref\": \"x\", \"yref\": \"y\", \"text\": \"<b>.4</b>\", \"align\": \"center\", \"y\": -10, \"x\": 0, \"font\": {\"color\": \"rgb(255, 255, 255)\", \"family\": \"arial\"}, \"showarrow\": false}, {\"xref\": \"x\", \"yref\": \"y\", \"text\": \"<b>.4</b>\", \"align\": \"center\", \"y\": -10, \"x\": 1, \"font\": {\"color\": \"rgb(255, 255, 255)\", \"family\": \"arial\"}, \"showarrow\": false}, {\"xref\": \"x\", \"yref\": \"y\", \"text\": \"<b>.4</b>\", \"align\": \"center\", \"y\": -10, \"x\": 2, \"font\": {\"color\": \"rgb(255, 255, 255)\", \"family\": \"arial\"}, \"showarrow\": false}, {\"xref\": \"x\", \"yref\": \"y\", \"text\": \"<b>.4</b>\", \"align\": \"center\", \"y\": -10, \"x\": 3, \"font\": {\"color\": \"rgb(255, 255, 255)\", \"family\": \"arial\"}, \"showarrow\": false}, {\"xref\": \"x\", \"yref\": \"y\", \"text\": \"<b>.4</b>\", \"align\": \"center\", \"y\": -10, \"x\": 4, \"font\": {\"color\": \"rgb(255, 255, 255)\", \"family\": \"arial\"}, \"showarrow\": false}, {\"xref\": \"x\", \"yref\": \"y\", \"text\": \"<b>.4</b>\", \"align\": \"center\", \"y\": -10, \"x\": 5, \"font\": {\"color\": \"rgb(255, 255, 255)\", \"family\": \"arial\"}, \"showarrow\": false}, {\"xref\": \"x\", \"yref\": \"y\", \"text\": \"<b>.3</b>\", \"align\": \"center\", \"y\": -10, \"x\": 6, \"font\": {\"color\": \"rgb(255, 255, 255)\", \"family\": \"arial\"}, \"showarrow\": false}, {\"xref\": \"x\", \"yref\": \"y\", \"text\": \"<b>.3</b>\", \"align\": \"center\", \"y\": -10, \"x\": 7, \"font\": {\"color\": \"rgb(255, 255, 255)\", \"family\": \"arial\"}, \"showarrow\": false}, {\"xref\": \"x\", \"yref\": \"y\", \"text\": \"<b>.3</b>\", \"align\": \"center\", \"y\": -10, \"x\": 8, \"font\": {\"color\": \"rgb(255, 255, 255)\", \"family\": \"arial\"}, \"showarrow\": false}, {\"xref\": \"x\", \"yref\": \"y\", \"text\": \"<b>.3</b>\", \"align\": \"center\", \"y\": -10, \"x\": 9, \"font\": {\"color\": \"rgb(255, 255, 255)\", \"family\": \"arial\"}, \"showarrow\": false}, {\"xref\": \"x\", \"yref\": \"y\", \"text\": \"<b>.3</b>\", \"align\": \"center\", \"y\": -10, \"x\": 10, \"font\": {\"color\": \"rgb(255, 255, 255)\", \"family\": \"arial\"}, \"showarrow\": false}, {\"xref\": \"x\", \"yref\": \"y\", \"text\": \"<b>.3</b>\", \"align\": \"center\", \"y\": -10, \"x\": 11, \"font\": {\"color\": \"rgb(255, 255, 255)\", \"family\": \"arial\"}, \"showarrow\": false}, {\"xref\": \"x\", \"yref\": \"y\", \"text\": \"<b>.3</b>\", \"align\": \"center\", \"y\": -10, \"x\": 12, \"font\": {\"color\": \"rgb(255, 255, 255)\", \"family\": \"arial\"}, \"showarrow\": false}, {\"xref\": \"x\", \"yref\": \"y\", \"text\": \"<b>.3</b>\", \"align\": \"center\", \"y\": -10, \"x\": 13, \"font\": {\"color\": \"rgb(255, 255, 255)\", \"family\": \"arial\"}, \"showarrow\": false}, {\"xref\": \"x\", \"yref\": \"y\", \"text\": \"<b>.3</b>\", \"align\": \"center\", \"y\": -10, \"x\": 14, \"font\": {\"color\": \"rgb(255, 255, 255)\", \"family\": \"arial\"}, \"showarrow\": false}, {\"xref\": \"x\", \"yref\": \"y\", \"text\": \"<b>.3</b>\", \"align\": \"center\", \"y\": -10, \"x\": 15, \"font\": {\"color\": \"rgb(255, 255, 255)\", \"family\": \"arial\"}, \"showarrow\": false}, {\"xref\": \"x\", \"yref\": \"y\", \"text\": \"<b>.3</b>\", \"align\": \"center\", \"y\": -10, \"x\": 16, \"font\": {\"color\": \"rgb(255, 255, 255)\", \"family\": \"arial\"}, \"showarrow\": false}, {\"xref\": \"x\", \"yref\": \"y\", \"text\": \"<b>.3</b>\", \"align\": \"center\", \"y\": -10, \"x\": 17, \"font\": {\"color\": \"rgb(255, 255, 255)\", \"family\": \"arial\"}, \"showarrow\": false}, {\"xref\": \"x\", \"yref\": \"y\", \"text\": \"<b>.3</b>\", \"align\": \"center\", \"y\": -10, \"x\": 18, \"font\": {\"color\": \"rgb(255, 255, 255)\", \"family\": \"arial\"}, \"showarrow\": false}, {\"xref\": \"x\", \"yref\": \"y\", \"text\": \"<b>.3</b>\", \"align\": \"center\", \"y\": -10, \"x\": 19, \"font\": {\"color\": \"rgb(255, 255, 255)\", \"family\": \"arial\"}, \"showarrow\": false}, {\"xref\": \"x\", \"yref\": \"y\", \"text\": \"<b>.3</b>\", \"align\": \"center\", \"y\": -11, \"x\": 0, \"font\": {\"color\": \"rgb(255, 255, 255)\", \"family\": \"arial\"}, \"showarrow\": false}, {\"xref\": \"x\", \"yref\": \"y\", \"text\": \"<b>.3</b>\", \"align\": \"center\", \"y\": -11, \"x\": 1, \"font\": {\"color\": \"rgb(255, 255, 255)\", \"family\": \"arial\"}, \"showarrow\": false}, {\"xref\": \"x\", \"yref\": \"y\", \"text\": \"<b>.3</b>\", \"align\": \"center\", \"y\": -11, \"x\": 2, \"font\": {\"color\": \"rgb(255, 255, 255)\", \"family\": \"arial\"}, \"showarrow\": false}, {\"xref\": \"x\", \"yref\": \"y\", \"text\": \"<b>.3</b>\", \"align\": \"center\", \"y\": -11, \"x\": 3, \"font\": {\"color\": \"rgb(255, 255, 255)\", \"family\": \"arial\"}, \"showarrow\": false}, {\"xref\": \"x\", \"yref\": \"y\", \"text\": \"<b>.3</b>\", \"align\": \"center\", \"y\": -11, \"x\": 4, \"font\": {\"color\": \"rgb(255, 255, 255)\", \"family\": \"arial\"}, \"showarrow\": false}, {\"xref\": \"x\", \"yref\": \"y\", \"text\": \"<b>.3</b>\", \"align\": \"center\", \"y\": -11, \"x\": 5, \"font\": {\"color\": \"rgb(255, 255, 255)\", \"family\": \"arial\"}, \"showarrow\": false}, {\"xref\": \"x\", \"yref\": \"y\", \"text\": \"<b>.3</b>\", \"align\": \"center\", \"y\": -11, \"x\": 6, \"font\": {\"color\": \"rgb(255, 255, 255)\", \"family\": \"arial\"}, \"showarrow\": false}, {\"xref\": \"x\", \"yref\": \"y\", \"text\": \"<b>.3</b>\", \"align\": \"center\", \"y\": -11, \"x\": 7, \"font\": {\"color\": \"rgb(255, 255, 255)\", \"family\": \"arial\"}, \"showarrow\": false}, {\"xref\": \"x\", \"yref\": \"y\", \"text\": \"<b>.3</b>\", \"align\": \"center\", \"y\": -11, \"x\": 8, \"font\": {\"color\": \"rgb(255, 255, 255)\", \"family\": \"arial\"}, \"showarrow\": false}, {\"xref\": \"x\", \"yref\": \"y\", \"text\": \"<b>.2</b>\", \"align\": \"center\", \"y\": -11, \"x\": 9, \"font\": {\"color\": \"rgb(255, 255, 255)\", \"family\": \"arial\"}, \"showarrow\": false}, {\"xref\": \"x\", \"yref\": \"y\", \"text\": \"<b>.2</b>\", \"align\": \"center\", \"y\": -11, \"x\": 10, \"font\": {\"color\": \"rgb(255, 255, 255)\", \"family\": \"arial\"}, \"showarrow\": false}, {\"xref\": \"x\", \"yref\": \"y\", \"text\": \"<b>.2</b>\", \"align\": \"center\", \"y\": -11, \"x\": 11, \"font\": {\"color\": \"rgb(255, 255, 255)\", \"family\": \"arial\"}, \"showarrow\": false}, {\"xref\": \"x\", \"yref\": \"y\", \"text\": \"<b>.2</b>\", \"align\": \"center\", \"y\": -11, \"x\": 12, \"font\": {\"color\": \"rgb(255, 255, 255)\", \"family\": \"arial\"}, \"showarrow\": false}, {\"xref\": \"x\", \"yref\": \"y\", \"text\": \"<b>.2</b>\", \"align\": \"center\", \"y\": -11, \"x\": 13, \"font\": {\"color\": \"rgb(255, 255, 255)\", \"family\": \"arial\"}, \"showarrow\": false}, {\"xref\": \"x\", \"yref\": \"y\", \"text\": \"<b>.2</b>\", \"align\": \"center\", \"y\": -11, \"x\": 14, \"font\": {\"color\": \"rgb(255, 255, 255)\", \"family\": \"arial\"}, \"showarrow\": false}, {\"xref\": \"x\", \"yref\": \"y\", \"text\": \"<b>.2</b>\", \"align\": \"center\", \"y\": -11, \"x\": 15, \"font\": {\"color\": \"rgb(255, 255, 255)\", \"family\": \"arial\"}, \"showarrow\": false}, {\"xref\": \"x\", \"yref\": \"y\", \"text\": \"<b>.2</b>\", \"align\": \"center\", \"y\": -11, \"x\": 16, \"font\": {\"color\": \"rgb(255, 255, 255)\", \"family\": \"arial\"}, \"showarrow\": false}, {\"xref\": \"x\", \"yref\": \"y\", \"text\": \"<b>.2</b>\", \"align\": \"center\", \"y\": -11, \"x\": 17, \"font\": {\"color\": \"rgb(255, 255, 255)\", \"family\": \"arial\"}, \"showarrow\": false}, {\"xref\": \"x\", \"yref\": \"y\", \"text\": \"<b>.2</b>\", \"align\": \"center\", \"y\": -11, \"x\": 18, \"font\": {\"color\": \"rgb(255, 255, 255)\", \"family\": \"arial\"}, \"showarrow\": false}, {\"xref\": \"x\", \"yref\": \"y\", \"text\": \"<b>.2</b>\", \"align\": \"center\", \"y\": -11, \"x\": 19, \"font\": {\"color\": \"rgb(255, 255, 255)\", \"family\": \"arial\"}, \"showarrow\": false}, {\"xref\": \"x\", \"yref\": \"y\", \"text\": \"<b>.2</b>\", \"align\": \"center\", \"y\": -12, \"x\": 0, \"font\": {\"color\": \"rgb(255, 255, 255)\", \"family\": \"arial\"}, \"showarrow\": false}, {\"xref\": \"x\", \"yref\": \"y\", \"text\": \"<b>.2</b>\", \"align\": \"center\", \"y\": -12, \"x\": 1, \"font\": {\"color\": \"rgb(255, 255, 255)\", \"family\": \"arial\"}, \"showarrow\": false}, {\"xref\": \"x\", \"yref\": \"y\", \"text\": \"<b>.2</b>\", \"align\": \"center\", \"y\": -12, \"x\": 2, \"font\": {\"color\": \"rgb(255, 255, 255)\", \"family\": \"arial\"}, \"showarrow\": false}, {\"xref\": \"x\", \"yref\": \"y\", \"text\": \"<b>.2</b>\", \"align\": \"center\", \"y\": -12, \"x\": 3, \"font\": {\"color\": \"rgb(255, 255, 255)\", \"family\": \"arial\"}, \"showarrow\": false}, {\"xref\": \"x\", \"yref\": \"y\", \"text\": \"<b>.2</b>\", \"align\": \"center\", \"y\": -12, \"x\": 4, \"font\": {\"color\": \"rgb(255, 255, 255)\", \"family\": \"arial\"}, \"showarrow\": false}, {\"xref\": \"x\", \"yref\": \"y\", \"text\": \"<b>.2</b>\", \"align\": \"center\", \"y\": -12, \"x\": 5, \"font\": {\"color\": \"rgb(255, 255, 255)\", \"family\": \"arial\"}, \"showarrow\": false}, {\"xref\": \"x\", \"yref\": \"y\", \"text\": \"<b>.2</b>\", \"align\": \"center\", \"y\": -12, \"x\": 6, \"font\": {\"color\": \"rgb(255, 255, 255)\", \"family\": \"arial\"}, \"showarrow\": false}, {\"xref\": \"x\", \"yref\": \"y\", \"text\": \"<b>.2</b>\", \"align\": \"center\", \"y\": -12, \"x\": 7, \"font\": {\"color\": \"rgb(255, 255, 255)\", \"family\": \"arial\"}, \"showarrow\": false}, {\"xref\": \"x\", \"yref\": \"y\", \"text\": \"<b>.2</b>\", \"align\": \"center\", \"y\": -12, \"x\": 8, \"font\": {\"color\": \"rgb(255, 255, 255)\", \"family\": \"arial\"}, \"showarrow\": false}, {\"xref\": \"x\", \"yref\": \"y\", \"text\": \"<b>.2</b>\", \"align\": \"center\", \"y\": -12, \"x\": 9, \"font\": {\"color\": \"rgb(255, 255, 255)\", \"family\": \"arial\"}, \"showarrow\": false}, {\"xref\": \"x\", \"yref\": \"y\", \"text\": \"<b>.2</b>\", \"align\": \"center\", \"y\": -12, \"x\": 10, \"font\": {\"color\": \"rgb(255, 255, 255)\", \"family\": \"arial\"}, \"showarrow\": false}, {\"xref\": \"x\", \"yref\": \"y\", \"text\": \"<b>.2</b>\", \"align\": \"center\", \"y\": -12, \"x\": 11, \"font\": {\"color\": \"rgb(255, 255, 255)\", \"family\": \"arial\"}, \"showarrow\": false}, {\"xref\": \"x\", \"yref\": \"y\", \"text\": \"<b>.2</b>\", \"align\": \"center\", \"y\": -12, \"x\": 12, \"font\": {\"color\": \"rgb(255, 255, 255)\", \"family\": \"arial\"}, \"showarrow\": false}, {\"xref\": \"x\", \"yref\": \"y\", \"text\": \"<b>.2</b>\", \"align\": \"center\", \"y\": -12, \"x\": 13, \"font\": {\"color\": \"rgb(255, 255, 255)\", \"family\": \"arial\"}, \"showarrow\": false}, {\"xref\": \"x\", \"yref\": \"y\", \"text\": \"<b>.2</b>\", \"align\": \"center\", \"y\": -12, \"x\": 14, \"font\": {\"color\": \"rgb(255, 255, 255)\", \"family\": \"arial\"}, \"showarrow\": false}, {\"xref\": \"x\", \"yref\": \"y\", \"text\": \"<b>.2</b>\", \"align\": \"center\", \"y\": -12, \"x\": 15, \"font\": {\"color\": \"rgb(255, 255, 255)\", \"family\": \"arial\"}, \"showarrow\": false}, {\"xref\": \"x\", \"yref\": \"y\", \"text\": \"<b>.2</b>\", \"align\": \"center\", \"y\": -12, \"x\": 16, \"font\": {\"color\": \"rgb(255, 255, 255)\", \"family\": \"arial\"}, \"showarrow\": false}, {\"xref\": \"x\", \"yref\": \"y\", \"text\": \"<b>.2</b>\", \"align\": \"center\", \"y\": -12, \"x\": 17, \"font\": {\"color\": \"rgb(255, 255, 255)\", \"family\": \"arial\"}, \"showarrow\": false}, {\"xref\": \"x\", \"yref\": \"y\", \"text\": \"<b>.2</b>\", \"align\": \"center\", \"y\": -12, \"x\": 18, \"font\": {\"color\": \"rgb(255, 255, 255)\", \"family\": \"arial\"}, \"showarrow\": false}, {\"xref\": \"x\", \"yref\": \"y\", \"text\": \"<b>.1</b>\", \"align\": \"center\", \"y\": -12, \"x\": 19, \"font\": {\"color\": \"rgb(255, 255, 255)\", \"family\": \"arial\"}, \"showarrow\": false}, {\"xref\": \"x\", \"yref\": \"y\", \"text\": \"<b>.1</b>\", \"align\": \"center\", \"y\": -13, \"x\": 0, \"font\": {\"color\": \"rgb(255, 255, 255)\", \"family\": \"arial\"}, \"showarrow\": false}, {\"xref\": \"x\", \"yref\": \"y\", \"text\": \"<b>.1</b>\", \"align\": \"center\", \"y\": -13, \"x\": 1, \"font\": {\"color\": \"rgb(255, 255, 255)\", \"family\": \"arial\"}, \"showarrow\": false}, {\"xref\": \"x\", \"yref\": \"y\", \"text\": \"<b>.1</b>\", \"align\": \"center\", \"y\": -13, \"x\": 2, \"font\": {\"color\": \"rgb(255, 255, 255)\", \"family\": \"arial\"}, \"showarrow\": false}, {\"xref\": \"x\", \"yref\": \"y\", \"text\": \"<b>.1</b>\", \"align\": \"center\", \"y\": -13, \"x\": 3, \"font\": {\"color\": \"rgb(255, 255, 255)\", \"family\": \"arial\"}, \"showarrow\": false}, {\"xref\": \"x\", \"yref\": \"y\", \"text\": \"<b>.1</b>\", \"align\": \"center\", \"y\": -13, \"x\": 4, \"font\": {\"color\": \"rgb(255, 255, 255)\", \"family\": \"arial\"}, \"showarrow\": false}, {\"xref\": \"x\", \"yref\": \"y\", \"text\": \"<b>.1</b>\", \"align\": \"center\", \"y\": -13, \"x\": 5, \"font\": {\"color\": \"rgb(255, 255, 255)\", \"family\": \"arial\"}, \"showarrow\": false}, {\"xref\": \"x\", \"yref\": \"y\", \"text\": \"<b>.1</b>\", \"align\": \"center\", \"y\": -13, \"x\": 6, \"font\": {\"color\": \"rgb(255, 255, 255)\", \"family\": \"arial\"}, \"showarrow\": false}, {\"xref\": \"x\", \"yref\": \"y\", \"text\": \"<b>.1</b>\", \"align\": \"center\", \"y\": -13, \"x\": 7, \"font\": {\"color\": \"rgb(255, 255, 255)\", \"family\": \"arial\"}, \"showarrow\": false}, {\"xref\": \"x\", \"yref\": \"y\", \"text\": \"<b>.1</b>\", \"align\": \"center\", \"y\": -13, \"x\": 8, \"font\": {\"color\": \"rgb(255, 255, 255)\", \"family\": \"arial\"}, \"showarrow\": false}, {\"xref\": \"x\", \"yref\": \"y\", \"text\": \"<b>.1</b>\", \"align\": \"center\", \"y\": -13, \"x\": 9, \"font\": {\"color\": \"rgb(255, 255, 255)\", \"family\": \"arial\"}, \"showarrow\": false}, {\"xref\": \"x\", \"yref\": \"y\", \"text\": \"<b>.1</b>\", \"align\": \"center\", \"y\": -13, \"x\": 10, \"font\": {\"color\": \"rgb(255, 255, 255)\", \"family\": \"arial\"}, \"showarrow\": false}, {\"xref\": \"x\", \"yref\": \"y\", \"text\": \"<b>.1</b>\", \"align\": \"center\", \"y\": -13, \"x\": 11, \"font\": {\"color\": \"rgb(255, 255, 255)\", \"family\": \"arial\"}, \"showarrow\": false}, {\"xref\": \"x\", \"yref\": \"y\", \"text\": \"<b>.1</b>\", \"align\": \"center\", \"y\": -13, \"x\": 12, \"font\": {\"color\": \"rgb(255, 255, 255)\", \"family\": \"arial\"}, \"showarrow\": false}, {\"xref\": \"x\", \"yref\": \"y\", \"text\": \"<b>.1</b>\", \"align\": \"center\", \"y\": -13, \"x\": 13, \"font\": {\"color\": \"rgb(255, 255, 255)\", \"family\": \"arial\"}, \"showarrow\": false}, {\"xref\": \"x\", \"yref\": \"y\", \"text\": \"<b>.1</b>\", \"align\": \"center\", \"y\": -13, \"x\": 14, \"font\": {\"color\": \"rgb(255, 255, 255)\", \"family\": \"arial\"}, \"showarrow\": false}, {\"xref\": \"x\", \"yref\": \"y\", \"text\": \"<b>.1</b>\", \"align\": \"center\", \"y\": -13, \"x\": 15, \"font\": {\"color\": \"rgb(255, 255, 255)\", \"family\": \"arial\"}, \"showarrow\": false}, {\"xref\": \"x\", \"yref\": \"y\", \"text\": \"<b>.1</b>\", \"align\": \"center\", \"y\": -13, \"x\": 16, \"font\": {\"color\": \"rgb(255, 255, 255)\", \"family\": \"arial\"}, \"showarrow\": false}, {\"xref\": \"x\", \"yref\": \"y\", \"text\": \"<b>.1</b>\", \"align\": \"center\", \"y\": -13, \"x\": 17, \"font\": {\"color\": \"rgb(255, 255, 255)\", \"family\": \"arial\"}, \"showarrow\": false}, {\"xref\": \"x\", \"yref\": \"y\", \"text\": \"<b>.1</b>\", \"align\": \"center\", \"y\": -13, \"x\": 18, \"font\": {\"color\": \"rgb(255, 255, 255)\", \"family\": \"arial\"}, \"showarrow\": false}, {\"xref\": \"x\", \"yref\": \"y\", \"text\": \"<b>.1</b>\", \"align\": \"center\", \"y\": -13, \"x\": 19, \"font\": {\"color\": \"rgb(255, 255, 255)\", \"family\": \"arial\"}, \"showarrow\": false}, {\"xref\": \"x\", \"yref\": \"y\", \"text\": \"<b>.1</b>\", \"align\": \"center\", \"y\": -14, \"x\": 0, \"font\": {\"color\": \"rgb(255, 255, 255)\", \"family\": \"arial\"}, \"showarrow\": false}, {\"xref\": \"x\", \"yref\": \"y\", \"text\": \"<b>.1</b>\", \"align\": \"center\", \"y\": -14, \"x\": 1, \"font\": {\"color\": \"rgb(255, 255, 255)\", \"family\": \"arial\"}, \"showarrow\": false}, {\"xref\": \"x\", \"yref\": \"y\", \"text\": \"<b>.1</b>\", \"align\": \"center\", \"y\": -14, \"x\": 2, \"font\": {\"color\": \"rgb(255, 255, 255)\", \"family\": \"arial\"}, \"showarrow\": false}, {\"xref\": \"x\", \"yref\": \"y\", \"text\": \"<b>.1</b>\", \"align\": \"center\", \"y\": -14, \"x\": 3, \"font\": {\"color\": \"rgb(255, 255, 255)\", \"family\": \"arial\"}, \"showarrow\": false}, {\"xref\": \"x\", \"yref\": \"y\", \"text\": \"<b>.1</b>\", \"align\": \"center\", \"y\": -14, \"x\": 4, \"font\": {\"color\": \"rgb(255, 255, 255)\", \"family\": \"arial\"}, \"showarrow\": false}, {\"xref\": \"x\", \"yref\": \"y\", \"text\": \"<b>.1</b>\", \"align\": \"center\", \"y\": -14, \"x\": 5, \"font\": {\"color\": \"rgb(255, 255, 255)\", \"family\": \"arial\"}, \"showarrow\": false}, {\"xref\": \"x\", \"yref\": \"y\", \"text\": \"<b>.1</b>\", \"align\": \"center\", \"y\": -14, \"x\": 6, \"font\": {\"color\": \"rgb(255, 255, 255)\", \"family\": \"arial\"}, \"showarrow\": false}, {\"xref\": \"x\", \"yref\": \"y\", \"text\": \"<b>.1</b>\", \"align\": \"center\", \"y\": -14, \"x\": 7, \"font\": {\"color\": \"rgb(255, 255, 255)\", \"family\": \"arial\"}, \"showarrow\": false}, {\"xref\": \"x\", \"yref\": \"y\", \"text\": \"<b>.1</b>\", \"align\": \"center\", \"y\": -14, \"x\": 8, \"font\": {\"color\": \"rgb(255, 255, 255)\", \"family\": \"arial\"}, \"showarrow\": false}, {\"xref\": \"x\", \"yref\": \"y\", \"text\": \"<b>.1</b>\", \"align\": \"center\", \"y\": -14, \"x\": 9, \"font\": {\"color\": \"rgb(255, 255, 255)\", \"family\": \"arial\"}, \"showarrow\": false}, {\"xref\": \"x\", \"yref\": \"y\", \"text\": \"<b>.1</b>\", \"align\": \"center\", \"y\": -14, \"x\": 10, \"font\": {\"color\": \"rgb(255, 255, 255)\", \"family\": \"arial\"}, \"showarrow\": false}, {\"xref\": \"x\", \"yref\": \"y\", \"text\": \"<b>.1</b>\", \"align\": \"center\", \"y\": -14, \"x\": 11, \"font\": {\"color\": \"rgb(255, 255, 255)\", \"family\": \"arial\"}, \"showarrow\": false}, {\"xref\": \"x\", \"yref\": \"y\", \"text\": \"<b>.1</b>\", \"align\": \"center\", \"y\": -14, \"x\": 12, \"font\": {\"color\": \"rgb(255, 255, 255)\", \"family\": \"arial\"}, \"showarrow\": false}, {\"xref\": \"x\", \"yref\": \"y\", \"text\": \"<b>.1</b>\", \"align\": \"center\", \"y\": -14, \"x\": 13, \"font\": {\"color\": \"rgb(255, 255, 255)\", \"family\": \"arial\"}, \"showarrow\": false}, {\"xref\": \"x\", \"yref\": \"y\", \"text\": \"<b>.1</b>\", \"align\": \"center\", \"y\": -14, \"x\": 14, \"font\": {\"color\": \"rgb(255, 255, 255)\", \"family\": \"arial\"}, \"showarrow\": false}, {\"xref\": \"x\", \"yref\": \"y\", \"text\": \"<b>.1</b>\", \"align\": \"center\", \"y\": -14, \"x\": 15, \"font\": {\"color\": \"rgb(255, 255, 255)\", \"family\": \"arial\"}, \"showarrow\": false}, {\"xref\": \"x\", \"yref\": \"y\", \"text\": \"<b>.1</b>\", \"align\": \"center\", \"y\": -14, \"x\": 16, \"font\": {\"color\": \"rgb(255, 255, 255)\", \"family\": \"arial\"}, \"showarrow\": false}, {\"xref\": \"x\", \"yref\": \"y\", \"text\": \"<b>.1</b>\", \"align\": \"center\", \"y\": -14, \"x\": 17, \"font\": {\"color\": \"rgb(255, 255, 255)\", \"family\": \"arial\"}, \"showarrow\": false}, {\"xref\": \"x\", \"yref\": \"y\", \"text\": \"<b>.1</b>\", \"align\": \"center\", \"y\": -14, \"x\": 18, \"font\": {\"color\": \"rgb(255, 255, 255)\", \"family\": \"arial\"}, \"showarrow\": false}, {\"xref\": \"x\", \"yref\": \"y\", \"text\": \"<b>.1</b>\", \"align\": \"center\", \"y\": -14, \"x\": 19, \"font\": {\"color\": \"rgb(255, 255, 255)\", \"family\": \"arial\"}, \"showarrow\": false}, {\"xref\": \"x\", \"yref\": \"y\", \"text\": \"<b>.1</b>\", \"align\": \"center\", \"y\": -15, \"x\": 0, \"font\": {\"color\": \"rgb(255, 255, 255)\", \"family\": \"arial\"}, \"showarrow\": false}, {\"xref\": \"x\", \"yref\": \"y\", \"text\": \"<b>.1</b>\", \"align\": \"center\", \"y\": -15, \"x\": 1, \"font\": {\"color\": \"rgb(255, 255, 255)\", \"family\": \"arial\"}, \"showarrow\": false}, {\"xref\": \"x\", \"yref\": \"y\", \"text\": \"<b>.1</b>\", \"align\": \"center\", \"y\": -15, \"x\": 2, \"font\": {\"color\": \"rgb(255, 255, 255)\", \"family\": \"arial\"}, \"showarrow\": false}, {\"xref\": \"x\", \"yref\": \"y\", \"text\": \"<b>.1</b>\", \"align\": \"center\", \"y\": -15, \"x\": 3, \"font\": {\"color\": \"rgb(255, 255, 255)\", \"family\": \"arial\"}, \"showarrow\": false}, {\"xref\": \"x\", \"yref\": \"y\", \"text\": \"<b>.1</b>\", \"align\": \"center\", \"y\": -15, \"x\": 4, \"font\": {\"color\": \"rgb(255, 255, 255)\", \"family\": \"arial\"}, \"showarrow\": false}, {\"xref\": \"x\", \"yref\": \"y\", \"text\": \"<b>.1</b>\", \"align\": \"center\", \"y\": -15, \"x\": 5, \"font\": {\"color\": \"rgb(255, 255, 255)\", \"family\": \"arial\"}, \"showarrow\": false}, {\"xref\": \"x\", \"yref\": \"y\", \"text\": \"<b>.1</b>\", \"align\": \"center\", \"y\": -15, \"x\": 6, \"font\": {\"color\": \"rgb(255, 255, 255)\", \"family\": \"arial\"}, \"showarrow\": false}, {\"xref\": \"x\", \"yref\": \"y\", \"text\": \"<b>.1</b>\", \"align\": \"center\", \"y\": -15, \"x\": 7, \"font\": {\"color\": \"rgb(255, 255, 255)\", \"family\": \"arial\"}, \"showarrow\": false}, {\"xref\": \"x\", \"yref\": \"y\", \"text\": \"<b>.1</b>\", \"align\": \"center\", \"y\": -15, \"x\": 8, \"font\": {\"color\": \"rgb(255, 255, 255)\", \"family\": \"arial\"}, \"showarrow\": false}, {\"xref\": \"x\", \"yref\": \"y\", \"text\": \"<b>.1</b>\", \"align\": \"center\", \"y\": -15, \"x\": 9, \"font\": {\"color\": \"rgb(255, 255, 255)\", \"family\": \"arial\"}, \"showarrow\": false}, {\"xref\": \"x\", \"yref\": \"y\", \"text\": \"<b>.1</b>\", \"align\": \"center\", \"y\": -15, \"x\": 10, \"font\": {\"color\": \"rgb(255, 255, 255)\", \"family\": \"arial\"}, \"showarrow\": false}, {\"xref\": \"x\", \"yref\": \"y\", \"text\": \"<b>.1</b>\", \"align\": \"center\", \"y\": -15, \"x\": 11, \"font\": {\"color\": \"rgb(255, 255, 255)\", \"family\": \"arial\"}, \"showarrow\": false}, {\"xref\": \"x\", \"yref\": \"y\", \"text\": \"<b>.1</b>\", \"align\": \"center\", \"y\": -15, \"x\": 12, \"font\": {\"color\": \"rgb(255, 255, 255)\", \"family\": \"arial\"}, \"showarrow\": false}, {\"xref\": \"x\", \"yref\": \"y\", \"text\": \"<b>.1</b>\", \"align\": \"center\", \"y\": -15, \"x\": 13, \"font\": {\"color\": \"rgb(255, 255, 255)\", \"family\": \"arial\"}, \"showarrow\": false}, {\"xref\": \"x\", \"yref\": \"y\", \"text\": \"<b>.1</b>\", \"align\": \"center\", \"y\": -15, \"x\": 14, \"font\": {\"color\": \"rgb(255, 255, 255)\", \"family\": \"arial\"}, \"showarrow\": false}, {\"xref\": \"x\", \"yref\": \"y\", \"text\": \"<b>.1</b>\", \"align\": \"center\", \"y\": -15, \"x\": 15, \"font\": {\"color\": \"rgb(255, 255, 255)\", \"family\": \"arial\"}, \"showarrow\": false}, {\"xref\": \"x\", \"yref\": \"y\", \"text\": \"<b>.1</b>\", \"align\": \"center\", \"y\": -15, \"x\": 16, \"font\": {\"color\": \"rgb(255, 255, 255)\", \"family\": \"arial\"}, \"showarrow\": false}, {\"xref\": \"x\", \"yref\": \"y\", \"text\": \"<b>.1</b>\", \"align\": \"center\", \"y\": -15, \"x\": 17, \"font\": {\"color\": \"rgb(255, 255, 255)\", \"family\": \"arial\"}, \"showarrow\": false}, {\"xref\": \"x\", \"yref\": \"y\", \"text\": \"<b>.1</b>\", \"align\": \"center\", \"y\": -15, \"x\": 18, \"font\": {\"color\": \"rgb(255, 255, 255)\", \"family\": \"arial\"}, \"showarrow\": false}, {\"xref\": \"x\", \"yref\": \"y\", \"text\": \"<b>.1</b>\", \"align\": \"center\", \"y\": -15, \"x\": 19, \"font\": {\"color\": \"rgb(255, 255, 255)\", \"family\": \"arial\"}, \"showarrow\": false}, {\"xref\": \"x\", \"yref\": \"y\", \"text\": \"<b>.1</b>\", \"align\": \"center\", \"y\": -16, \"x\": 0, \"font\": {\"color\": \"rgb(255, 255, 255)\", \"family\": \"arial\"}, \"showarrow\": false}, {\"xref\": \"x\", \"yref\": \"y\", \"text\": \"<b>.1</b>\", \"align\": \"center\", \"y\": -16, \"x\": 1, \"font\": {\"color\": \"rgb(255, 255, 255)\", \"family\": \"arial\"}, \"showarrow\": false}, {\"xref\": \"x\", \"yref\": \"y\", \"text\": \"<b>.1</b>\", \"align\": \"center\", \"y\": -16, \"x\": 2, \"font\": {\"color\": \"rgb(255, 255, 255)\", \"family\": \"arial\"}, \"showarrow\": false}, {\"xref\": \"x\", \"yref\": \"y\", \"text\": \"<b>.1</b>\", \"align\": \"center\", \"y\": -16, \"x\": 3, \"font\": {\"color\": \"rgb(255, 255, 255)\", \"family\": \"arial\"}, \"showarrow\": false}, {\"xref\": \"x\", \"yref\": \"y\", \"text\": \"<b>.1</b>\", \"align\": \"center\", \"y\": -16, \"x\": 4, \"font\": {\"color\": \"rgb(255, 255, 255)\", \"family\": \"arial\"}, \"showarrow\": false}, {\"xref\": \"x\", \"yref\": \"y\", \"text\": \"<b>.1</b>\", \"align\": \"center\", \"y\": -16, \"x\": 5, \"font\": {\"color\": \"rgb(255, 255, 255)\", \"family\": \"arial\"}, \"showarrow\": false}, {\"xref\": \"x\", \"yref\": \"y\", \"text\": \"<b>.1</b>\", \"align\": \"center\", \"y\": -16, \"x\": 6, \"font\": {\"color\": \"rgb(255, 255, 255)\", \"family\": \"arial\"}, \"showarrow\": false}, {\"xref\": \"x\", \"yref\": \"y\", \"text\": \"<b>.1</b>\", \"align\": \"center\", \"y\": -16, \"x\": 7, \"font\": {\"color\": \"rgb(255, 255, 255)\", \"family\": \"arial\"}, \"showarrow\": false}, {\"xref\": \"x\", \"yref\": \"y\", \"text\": \"<b>.1</b>\", \"align\": \"center\", \"y\": -16, \"x\": 8, \"font\": {\"color\": \"rgb(255, 255, 255)\", \"family\": \"arial\"}, \"showarrow\": false}, {\"xref\": \"x\", \"yref\": \"y\", \"text\": \"<b>.1</b>\", \"align\": \"center\", \"y\": -16, \"x\": 9, \"font\": {\"color\": \"rgb(255, 255, 255)\", \"family\": \"arial\"}, \"showarrow\": false}, {\"xref\": \"x\", \"yref\": \"y\", \"text\": \"<b>.1</b>\", \"align\": \"center\", \"y\": -16, \"x\": 10, \"font\": {\"color\": \"rgb(255, 255, 255)\", \"family\": \"arial\"}, \"showarrow\": false}, {\"xref\": \"x\", \"yref\": \"y\", \"text\": \"<b>.1</b>\", \"align\": \"center\", \"y\": -16, \"x\": 11, \"font\": {\"color\": \"rgb(255, 255, 255)\", \"family\": \"arial\"}, \"showarrow\": false}, {\"xref\": \"x\", \"yref\": \"y\", \"text\": \"<b>.1</b>\", \"align\": \"center\", \"y\": -16, \"x\": 12, \"font\": {\"color\": \"rgb(255, 255, 255)\", \"family\": \"arial\"}, \"showarrow\": false}, {\"xref\": \"x\", \"yref\": \"y\", \"text\": \"<b>.1</b>\", \"align\": \"center\", \"y\": -16, \"x\": 13, \"font\": {\"color\": \"rgb(255, 255, 255)\", \"family\": \"arial\"}, \"showarrow\": false}, {\"xref\": \"x\", \"yref\": \"y\", \"text\": \"<b>.1</b>\", \"align\": \"center\", \"y\": -16, \"x\": 14, \"font\": {\"color\": \"rgb(255, 255, 255)\", \"family\": \"arial\"}, \"showarrow\": false}, {\"xref\": \"x\", \"yref\": \"y\", \"text\": \"<b>.1</b>\", \"align\": \"center\", \"y\": -16, \"x\": 15, \"font\": {\"color\": \"rgb(255, 255, 255)\", \"family\": \"arial\"}, \"showarrow\": false}, {\"xref\": \"x\", \"yref\": \"y\", \"text\": \"<b>.1</b>\", \"align\": \"center\", \"y\": -16, \"x\": 16, \"font\": {\"color\": \"rgb(255, 255, 255)\", \"family\": \"arial\"}, \"showarrow\": false}, {\"xref\": \"x\", \"yref\": \"y\", \"text\": \"<b>.1</b>\", \"align\": \"center\", \"y\": -16, \"x\": 17, \"font\": {\"color\": \"rgb(255, 255, 255)\", \"family\": \"arial\"}, \"showarrow\": false}, {\"xref\": \"x\", \"yref\": \"y\", \"text\": \"<b>.1</b>\", \"align\": \"center\", \"y\": -16, \"x\": 18, \"font\": {\"color\": \"rgb(255, 255, 255)\", \"family\": \"arial\"}, \"showarrow\": false}, {\"xref\": \"x\", \"yref\": \"y\", \"text\": \"<b>.1</b>\", \"align\": \"center\", \"y\": -16, \"x\": 19, \"font\": {\"color\": \"rgb(255, 255, 255)\", \"family\": \"arial\"}, \"showarrow\": false}, {\"xref\": \"x\", \"yref\": \"y\", \"text\": \"<b>.1</b>\", \"align\": \"center\", \"y\": -17, \"x\": 0, \"font\": {\"color\": \"rgb(255, 255, 255)\", \"family\": \"arial\"}, \"showarrow\": false}, {\"xref\": \"x\", \"yref\": \"y\", \"text\": \"<b>.1</b>\", \"align\": \"center\", \"y\": -17, \"x\": 1, \"font\": {\"color\": \"rgb(255, 255, 255)\", \"family\": \"arial\"}, \"showarrow\": false}, {\"xref\": \"x\", \"yref\": \"y\", \"text\": \"<b>.1</b>\", \"align\": \"center\", \"y\": -17, \"x\": 2, \"font\": {\"color\": \"rgb(255, 255, 255)\", \"family\": \"arial\"}, \"showarrow\": false}, {\"xref\": \"x\", \"yref\": \"y\", \"text\": \"<b>.1</b>\", \"align\": \"center\", \"y\": -17, \"x\": 3, \"font\": {\"color\": \"rgb(255, 255, 255)\", \"family\": \"arial\"}, \"showarrow\": false}, {\"xref\": \"x\", \"yref\": \"y\", \"text\": \"<b>.1</b>\", \"align\": \"center\", \"y\": -17, \"x\": 4, \"font\": {\"color\": \"rgb(255, 255, 255)\", \"family\": \"arial\"}, \"showarrow\": false}, {\"xref\": \"x\", \"yref\": \"y\", \"text\": \"<b>.0</b>\", \"align\": \"center\", \"y\": -17, \"x\": 5, \"font\": {\"color\": \"rgb(255, 255, 255)\", \"family\": \"arial\"}, \"showarrow\": false}, {\"xref\": \"x\", \"yref\": \"y\", \"text\": \"<b>.0</b>\", \"align\": \"center\", \"y\": -17, \"x\": 6, \"font\": {\"color\": \"rgb(255, 255, 255)\", \"family\": \"arial\"}, \"showarrow\": false}, {\"xref\": \"x\", \"yref\": \"y\", \"text\": \"<b>.0</b>\", \"align\": \"center\", \"y\": -17, \"x\": 7, \"font\": {\"color\": \"rgb(255, 255, 255)\", \"family\": \"arial\"}, \"showarrow\": false}, {\"xref\": \"x\", \"yref\": \"y\", \"text\": \"<b>.0</b>\", \"align\": \"center\", \"y\": -17, \"x\": 8, \"font\": {\"color\": \"rgb(255, 255, 255)\", \"family\": \"arial\"}, \"showarrow\": false}, {\"xref\": \"x\", \"yref\": \"y\", \"text\": \"<b>.0</b>\", \"align\": \"center\", \"y\": -17, \"x\": 9, \"font\": {\"color\": \"rgb(255, 255, 255)\", \"family\": \"arial\"}, \"showarrow\": false}, {\"xref\": \"x\", \"yref\": \"y\", \"text\": \"<b>.0</b>\", \"align\": \"center\", \"y\": -17, \"x\": 10, \"font\": {\"color\": \"rgb(255, 255, 255)\", \"family\": \"arial\"}, \"showarrow\": false}, {\"xref\": \"x\", \"yref\": \"y\", \"text\": \"<b>.0</b>\", \"align\": \"center\", \"y\": -17, \"x\": 11, \"font\": {\"color\": \"rgb(255, 255, 255)\", \"family\": \"arial\"}, \"showarrow\": false}, {\"xref\": \"x\", \"yref\": \"y\", \"text\": \"<b>.0</b>\", \"align\": \"center\", \"y\": -17, \"x\": 12, \"font\": {\"color\": \"rgb(255, 255, 255)\", \"family\": \"arial\"}, \"showarrow\": false}, {\"xref\": \"x\", \"yref\": \"y\", \"text\": \"<b>.0</b>\", \"align\": \"center\", \"y\": -17, \"x\": 13, \"font\": {\"color\": \"rgb(255, 255, 255)\", \"family\": \"arial\"}, \"showarrow\": false}, {\"xref\": \"x\", \"yref\": \"y\", \"text\": \"<b>.0</b>\", \"align\": \"center\", \"y\": -17, \"x\": 14, \"font\": {\"color\": \"rgb(255, 255, 255)\", \"family\": \"arial\"}, \"showarrow\": false}, {\"xref\": \"x\", \"yref\": \"y\", \"text\": \"<b>.0</b>\", \"align\": \"center\", \"y\": -17, \"x\": 15, \"font\": {\"color\": \"rgb(255, 255, 255)\", \"family\": \"arial\"}, \"showarrow\": false}, {\"xref\": \"x\", \"yref\": \"y\", \"text\": \"<b>.0</b>\", \"align\": \"center\", \"y\": -17, \"x\": 16, \"font\": {\"color\": \"rgb(255, 255, 255)\", \"family\": \"arial\"}, \"showarrow\": false}, {\"xref\": \"x\", \"yref\": \"y\", \"text\": \"<b>.0</b>\", \"align\": \"center\", \"y\": -17, \"x\": 17, \"font\": {\"color\": \"rgb(255, 255, 255)\", \"family\": \"arial\"}, \"showarrow\": false}, {\"xref\": \"x\", \"yref\": \"y\", \"text\": \"<b>.0</b>\", \"align\": \"center\", \"y\": -17, \"x\": 18, \"font\": {\"color\": \"rgb(255, 255, 255)\", \"family\": \"arial\"}, \"showarrow\": false}, {\"xref\": \"x\", \"yref\": \"y\", \"text\": \"<b>.0</b>\", \"align\": \"center\", \"y\": -17, \"x\": 19, \"font\": {\"color\": \"rgb(255, 255, 255)\", \"family\": \"arial\"}, \"showarrow\": false}, {\"xref\": \"x\", \"yref\": \"y\", \"text\": \"<b>.0</b>\", \"align\": \"center\", \"y\": -18, \"x\": 0, \"font\": {\"color\": \"rgb(255, 255, 255)\", \"family\": \"arial\"}, \"showarrow\": false}, {\"xref\": \"x\", \"yref\": \"y\", \"text\": \"<b>.0</b>\", \"align\": \"center\", \"y\": -18, \"x\": 1, \"font\": {\"color\": \"rgb(255, 255, 255)\", \"family\": \"arial\"}, \"showarrow\": false}, {\"xref\": \"x\", \"yref\": \"y\", \"text\": \"<b>.0</b>\", \"align\": \"center\", \"y\": -18, \"x\": 2, \"font\": {\"color\": \"rgb(255, 255, 255)\", \"family\": \"arial\"}, \"showarrow\": false}, {\"xref\": \"x\", \"yref\": \"y\", \"text\": \"<b>.0</b>\", \"align\": \"center\", \"y\": -18, \"x\": 3, \"font\": {\"color\": \"rgb(255, 255, 255)\", \"family\": \"arial\"}, \"showarrow\": false}, {\"xref\": \"x\", \"yref\": \"y\", \"text\": \"<b>.0</b>\", \"align\": \"center\", \"y\": -18, \"x\": 4, \"font\": {\"color\": \"rgb(255, 255, 255)\", \"family\": \"arial\"}, \"showarrow\": false}, {\"xref\": \"x\", \"yref\": \"y\", \"text\": \"<b>.0</b>\", \"align\": \"center\", \"y\": -18, \"x\": 5, \"font\": {\"color\": \"rgb(255, 255, 255)\", \"family\": \"arial\"}, \"showarrow\": false}, {\"xref\": \"x\", \"yref\": \"y\", \"text\": \"<b>.0</b>\", \"align\": \"center\", \"y\": -18, \"x\": 6, \"font\": {\"color\": \"rgb(255, 255, 255)\", \"family\": \"arial\"}, \"showarrow\": false}, {\"xref\": \"x\", \"yref\": \"y\", \"text\": \"<b>.0</b>\", \"align\": \"center\", \"y\": -18, \"x\": 7, \"font\": {\"color\": \"rgb(255, 255, 255)\", \"family\": \"arial\"}, \"showarrow\": false}, {\"xref\": \"x\", \"yref\": \"y\", \"text\": \"<b>.0</b>\", \"align\": \"center\", \"y\": -18, \"x\": 8, \"font\": {\"color\": \"rgb(255, 255, 255)\", \"family\": \"arial\"}, \"showarrow\": false}, {\"xref\": \"x\", \"yref\": \"y\", \"text\": \"<b>.0</b>\", \"align\": \"center\", \"y\": -18, \"x\": 9, \"font\": {\"color\": \"rgb(255, 255, 255)\", \"family\": \"arial\"}, \"showarrow\": false}, {\"xref\": \"x\", \"yref\": \"y\", \"text\": \"<b>.0</b>\", \"align\": \"center\", \"y\": -18, \"x\": 10, \"font\": {\"color\": \"rgb(255, 255, 255)\", \"family\": \"arial\"}, \"showarrow\": false}, {\"xref\": \"x\", \"yref\": \"y\", \"text\": \"<b>.0</b>\", \"align\": \"center\", \"y\": -18, \"x\": 11, \"font\": {\"color\": \"rgb(255, 255, 255)\", \"family\": \"arial\"}, \"showarrow\": false}, {\"xref\": \"x\", \"yref\": \"y\", \"text\": \"<b>.0</b>\", \"align\": \"center\", \"y\": -18, \"x\": 12, \"font\": {\"color\": \"rgb(255, 255, 255)\", \"family\": \"arial\"}, \"showarrow\": false}, {\"xref\": \"x\", \"yref\": \"y\", \"text\": \"<b>.0</b>\", \"align\": \"center\", \"y\": -18, \"x\": 13, \"font\": {\"color\": \"rgb(255, 255, 255)\", \"family\": \"arial\"}, \"showarrow\": false}, {\"xref\": \"x\", \"yref\": \"y\", \"text\": \"<b>.0</b>\", \"align\": \"center\", \"y\": -18, \"x\": 14, \"font\": {\"color\": \"rgb(255, 255, 255)\", \"family\": \"arial\"}, \"showarrow\": false}, {\"xref\": \"x\", \"yref\": \"y\", \"text\": \"<b>.0</b>\", \"align\": \"center\", \"y\": -18, \"x\": 15, \"font\": {\"color\": \"rgb(255, 255, 255)\", \"family\": \"arial\"}, \"showarrow\": false}, {\"xref\": \"x\", \"yref\": \"y\", \"text\": \"<b>.0</b>\", \"align\": \"center\", \"y\": -18, \"x\": 16, \"font\": {\"color\": \"rgb(255, 255, 255)\", \"family\": \"arial\"}, \"showarrow\": false}, {\"xref\": \"x\", \"yref\": \"y\", \"text\": \"<b>.0</b>\", \"align\": \"center\", \"y\": -18, \"x\": 17, \"font\": {\"color\": \"rgb(255, 255, 255)\", \"family\": \"arial\"}, \"showarrow\": false}, {\"xref\": \"x\", \"yref\": \"y\", \"text\": \"<b>.0</b>\", \"align\": \"center\", \"y\": -18, \"x\": 18, \"font\": {\"color\": \"rgb(255, 255, 255)\", \"family\": \"arial\"}, \"showarrow\": false}, {\"xref\": \"x\", \"yref\": \"y\", \"text\": \"<b>.0</b>\", \"align\": \"center\", \"y\": -18, \"x\": 19, \"font\": {\"color\": \"rgb(255, 255, 255)\", \"family\": \"arial\"}, \"showarrow\": false}, {\"xref\": \"x\", \"yref\": \"y\", \"text\": \"<b>.0</b>\", \"align\": \"center\", \"y\": -19, \"x\": 0, \"font\": {\"color\": \"rgb(255, 255, 255)\", \"family\": \"arial\"}, \"showarrow\": false}, {\"xref\": \"x\", \"yref\": \"y\", \"text\": \"<b>.0</b>\", \"align\": \"center\", \"y\": -19, \"x\": 1, \"font\": {\"color\": \"rgb(255, 255, 255)\", \"family\": \"arial\"}, \"showarrow\": false}, {\"xref\": \"x\", \"yref\": \"y\", \"text\": \"<b>.0</b>\", \"align\": \"center\", \"y\": -19, \"x\": 2, \"font\": {\"color\": \"rgb(255, 255, 255)\", \"family\": \"arial\"}, \"showarrow\": false}, {\"xref\": \"x\", \"yref\": \"y\", \"text\": \"<b>.0</b>\", \"align\": \"center\", \"y\": -19, \"x\": 3, \"font\": {\"color\": \"rgb(255, 255, 255)\", \"family\": \"arial\"}, \"showarrow\": false}, {\"xref\": \"x\", \"yref\": \"y\", \"text\": \"<b>.0</b>\", \"align\": \"center\", \"y\": -19, \"x\": 4, \"font\": {\"color\": \"rgb(255, 255, 255)\", \"family\": \"arial\"}, \"showarrow\": false}, {\"xref\": \"x\", \"yref\": \"y\", \"text\": \"<b>.0</b>\", \"align\": \"center\", \"y\": -19, \"x\": 5, \"font\": {\"color\": \"rgb(255, 255, 255)\", \"family\": \"arial\"}, \"showarrow\": false}, {\"xref\": \"x\", \"yref\": \"y\", \"text\": \"<b>.0</b>\", \"align\": \"center\", \"y\": -19, \"x\": 6, \"font\": {\"color\": \"rgb(255, 255, 255)\", \"family\": \"arial\"}, \"showarrow\": false}, {\"xref\": \"x\", \"yref\": \"y\", \"text\": \"<b>0</b>\", \"align\": \"center\", \"y\": -19, \"x\": 7, \"font\": {\"color\": \"rgb(255, 255, 255)\", \"family\": \"arial\"}, \"showarrow\": false}, {\"xref\": \"x\", \"yref\": \"y\", \"text\": \"<b>0</b>\", \"align\": \"center\", \"y\": -19, \"x\": 8, \"font\": {\"color\": \"rgb(255, 255, 255)\", \"family\": \"arial\"}, \"showarrow\": false}, {\"xref\": \"x\", \"yref\": \"y\", \"text\": \"<b>0</b>\", \"align\": \"center\", \"y\": -19, \"x\": 9, \"font\": {\"color\": \"rgb(255, 255, 255)\", \"family\": \"arial\"}, \"showarrow\": false}, {\"xref\": \"x\", \"yref\": \"y\", \"text\": \"<b>0</b>\", \"align\": \"center\", \"y\": -19, \"x\": 10, \"font\": {\"color\": \"rgb(255, 255, 255)\", \"family\": \"arial\"}, \"showarrow\": false}, {\"xref\": \"x\", \"yref\": \"y\", \"text\": \"<b>0</b>\", \"align\": \"center\", \"y\": -19, \"x\": 11, \"font\": {\"color\": \"rgb(255, 255, 255)\", \"family\": \"arial\"}, \"showarrow\": false}, {\"xref\": \"x\", \"yref\": \"y\", \"text\": \"<b>0</b>\", \"align\": \"center\", \"y\": -19, \"x\": 12, \"font\": {\"color\": \"rgb(255, 255, 255)\", \"family\": \"arial\"}, \"showarrow\": false}, {\"xref\": \"x\", \"yref\": \"y\", \"text\": \"<b>0</b>\", \"align\": \"center\", \"y\": -19, \"x\": 13, \"font\": {\"color\": \"rgb(255, 255, 255)\", \"family\": \"arial\"}, \"showarrow\": false}, {\"xref\": \"x\", \"yref\": \"y\", \"text\": \"<b>0</b>\", \"align\": \"center\", \"y\": -19, \"x\": 14, \"font\": {\"color\": \"rgb(255, 255, 255)\", \"family\": \"arial\"}, \"showarrow\": false}, {\"xref\": \"x\", \"yref\": \"y\", \"text\": \"<b>0</b>\", \"align\": \"center\", \"y\": -19, \"x\": 15, \"font\": {\"color\": \"rgb(255, 255, 255)\", \"family\": \"arial\"}, \"showarrow\": false}, {\"xref\": \"x\", \"yref\": \"y\", \"text\": \"<b>0</b>\", \"align\": \"center\", \"y\": -19, \"x\": 16, \"font\": {\"color\": \"rgb(255, 255, 255)\", \"family\": \"arial\"}, \"showarrow\": false}, {\"xref\": \"x\", \"yref\": \"y\", \"text\": \"<b>0</b>\", \"align\": \"center\", \"y\": -19, \"x\": 17, \"font\": {\"color\": \"rgb(255, 255, 255)\", \"family\": \"arial\"}, \"showarrow\": false}, {\"xref\": \"x\", \"yref\": \"y\", \"text\": \"<b>0</b>\", \"align\": \"center\", \"y\": -19, \"x\": 18, \"font\": {\"color\": \"rgb(255, 255, 255)\", \"family\": \"arial\"}, \"showarrow\": false}, {\"xref\": \"x\", \"yref\": \"y\", \"text\": \"<b>0</b>\", \"align\": \"center\", \"y\": -19, \"x\": 19, \"font\": {\"color\": \"rgb(255, 255, 255)\", \"family\": \"arial\"}, \"showarrow\": false}, {\"xref\": \"x\", \"yref\": \"y\", \"text\": \"<b>0</b>\", \"align\": \"center\", \"y\": -20, \"x\": 0, \"font\": {\"color\": \"rgb(255, 255, 255)\", \"family\": \"arial\"}, \"showarrow\": false}, {\"xref\": \"x\", \"yref\": \"y\", \"text\": \"<b>0</b>\", \"align\": \"center\", \"y\": -20, \"x\": 1, \"font\": {\"color\": \"rgb(255, 255, 255)\", \"family\": \"arial\"}, \"showarrow\": false}, {\"xref\": \"x\", \"yref\": \"y\", \"text\": \"<b>0</b>\", \"align\": \"center\", \"y\": -20, \"x\": 2, \"font\": {\"color\": \"rgb(255, 255, 255)\", \"family\": \"arial\"}, \"showarrow\": false}, {\"xref\": \"x\", \"yref\": \"y\", \"text\": \"<b>0</b>\", \"align\": \"center\", \"y\": -20, \"x\": 3, \"font\": {\"color\": \"rgb(255, 255, 255)\", \"family\": \"arial\"}, \"showarrow\": false}, {\"xref\": \"x\", \"yref\": \"y\", \"text\": \"<b>0</b>\", \"align\": \"center\", \"y\": -20, \"x\": 4, \"font\": {\"color\": \"rgb(255, 255, 255)\", \"family\": \"arial\"}, \"showarrow\": false}, {\"xref\": \"x\", \"yref\": \"y\", \"text\": \"<b>0</b>\", \"align\": \"center\", \"y\": -20, \"x\": 5, \"font\": {\"color\": \"rgb(255, 255, 255)\", \"family\": \"arial\"}, \"showarrow\": false}, {\"xref\": \"x\", \"yref\": \"y\", \"text\": \"<b>0</b>\", \"align\": \"center\", \"y\": -20, \"x\": 6, \"font\": {\"color\": \"rgb(255, 255, 255)\", \"family\": \"arial\"}, \"showarrow\": false}, {\"xref\": \"x\", \"yref\": \"y\", \"text\": \"<b>0</b>\", \"align\": \"center\", \"y\": -20, \"x\": 7, \"font\": {\"color\": \"rgb(255, 255, 255)\", \"family\": \"arial\"}, \"showarrow\": false}, {\"xref\": \"x\", \"yref\": \"y\", \"text\": \"<b>0</b>\", \"align\": \"center\", \"y\": -20, \"x\": 8, \"font\": {\"color\": \"rgb(255, 255, 255)\", \"family\": \"arial\"}, \"showarrow\": false}, {\"xref\": \"x\", \"yref\": \"y\", \"text\": \"<b>0</b>\", \"align\": \"center\", \"y\": -20, \"x\": 9, \"font\": {\"color\": \"rgb(255, 255, 255)\", \"family\": \"arial\"}, \"showarrow\": false}, {\"xref\": \"x\", \"yref\": \"y\", \"text\": \"<b>0</b>\", \"align\": \"center\", \"y\": -20, \"x\": 10, \"font\": {\"color\": \"rgb(255, 255, 255)\", \"family\": \"arial\"}, \"showarrow\": false}, {\"xref\": \"x\", \"yref\": \"y\", \"text\": \"<b>0</b>\", \"align\": \"center\", \"y\": -20, \"x\": 11, \"font\": {\"color\": \"rgb(255, 255, 255)\", \"family\": \"arial\"}, \"showarrow\": false}, {\"xref\": \"x\", \"yref\": \"y\", \"text\": \"<b>0</b>\", \"align\": \"center\", \"y\": -20, \"x\": 12, \"font\": {\"color\": \"rgb(255, 255, 255)\", \"family\": \"arial\"}, \"showarrow\": false}, {\"xref\": \"x\", \"yref\": \"y\", \"text\": \"<b>0</b>\", \"align\": \"center\", \"y\": -20, \"x\": 13, \"font\": {\"color\": \"rgb(255, 255, 255)\", \"family\": \"arial\"}, \"showarrow\": false}, {\"xref\": \"x\", \"yref\": \"y\", \"text\": \"<b>0</b>\", \"align\": \"center\", \"y\": -20, \"x\": 14, \"font\": {\"color\": \"rgb(255, 255, 255)\", \"family\": \"arial\"}, \"showarrow\": false}, {\"xref\": \"x\", \"yref\": \"y\", \"text\": \"<b>0</b>\", \"align\": \"center\", \"y\": -20, \"x\": 15, \"font\": {\"color\": \"rgb(255, 255, 255)\", \"family\": \"arial\"}, \"showarrow\": false}, {\"xref\": \"x\", \"yref\": \"y\", \"text\": \"<b>0</b>\", \"align\": \"center\", \"y\": -20, \"x\": 16, \"font\": {\"color\": \"rgb(255, 255, 255)\", \"family\": \"arial\"}, \"showarrow\": false}, {\"xref\": \"x\", \"yref\": \"y\", \"text\": \"<b>0</b>\", \"align\": \"center\", \"y\": -20, \"x\": 17, \"font\": {\"color\": \"rgb(255, 255, 255)\", \"family\": \"arial\"}, \"showarrow\": false}, {\"xref\": \"x\", \"yref\": \"y\", \"text\": \"<b>0</b>\", \"align\": \"center\", \"y\": -20, \"x\": 18, \"font\": {\"color\": \"rgb(255, 255, 255)\", \"family\": \"arial\"}, \"showarrow\": false}, {\"xref\": \"x\", \"yref\": \"y\", \"text\": \"<b>0</b>\", \"align\": \"center\", \"y\": -20, \"x\": 19, \"font\": {\"color\": \"rgb(255, 255, 255)\", \"family\": \"arial\"}, \"showarrow\": false}, {\"xref\": \"x\", \"yref\": \"y\", \"text\": \"<b>0</b>\", \"align\": \"center\", \"y\": -21, \"x\": 0, \"font\": {\"color\": \"rgb(255, 255, 255)\", \"family\": \"arial\"}, \"showarrow\": false}, {\"xref\": \"x\", \"yref\": \"y\", \"text\": \"<b>0</b>\", \"align\": \"center\", \"y\": -21, \"x\": 1, \"font\": {\"color\": \"rgb(255, 255, 255)\", \"family\": \"arial\"}, \"showarrow\": false}, {\"xref\": \"x\", \"yref\": \"y\", \"text\": \"<b>0</b>\", \"align\": \"center\", \"y\": -21, \"x\": 2, \"font\": {\"color\": \"rgb(255, 255, 255)\", \"family\": \"arial\"}, \"showarrow\": false}, {\"xref\": \"x\", \"yref\": \"y\", \"text\": \"<b>0</b>\", \"align\": \"center\", \"y\": -21, \"x\": 3, \"font\": {\"color\": \"rgb(255, 255, 255)\", \"family\": \"arial\"}, \"showarrow\": false}, {\"xref\": \"x\", \"yref\": \"y\", \"text\": \"<b>0</b>\", \"align\": \"center\", \"y\": -21, \"x\": 4, \"font\": {\"color\": \"rgb(255, 255, 255)\", \"family\": \"arial\"}, \"showarrow\": false}, {\"xref\": \"x\", \"yref\": \"y\", \"text\": \"<b>0</b>\", \"align\": \"center\", \"y\": -21, \"x\": 5, \"font\": {\"color\": \"rgb(255, 255, 255)\", \"family\": \"arial\"}, \"showarrow\": false}, {\"xref\": \"x\", \"yref\": \"y\", \"text\": \"<b>0</b>\", \"align\": \"center\", \"y\": -21, \"x\": 6, \"font\": {\"color\": \"rgb(255, 255, 255)\", \"family\": \"arial\"}, \"showarrow\": false}, {\"xref\": \"x\", \"yref\": \"y\", \"text\": \"<b>0</b>\", \"align\": \"center\", \"y\": -21, \"x\": 7, \"font\": {\"color\": \"rgb(255, 255, 255)\", \"family\": \"arial\"}, \"showarrow\": false}, {\"xref\": \"x\", \"yref\": \"y\", \"text\": \"<b>0</b>\", \"align\": \"center\", \"y\": -21, \"x\": 8, \"font\": {\"color\": \"rgb(255, 255, 255)\", \"family\": \"arial\"}, \"showarrow\": false}, {\"xref\": \"x\", \"yref\": \"y\", \"text\": \"<b>0</b>\", \"align\": \"center\", \"y\": -21, \"x\": 9, \"font\": {\"color\": \"rgb(255, 255, 255)\", \"family\": \"arial\"}, \"showarrow\": false}, {\"xref\": \"x\", \"yref\": \"y\", \"text\": \"<b>0</b>\", \"align\": \"center\", \"y\": -21, \"x\": 10, \"font\": {\"color\": \"rgb(255, 255, 255)\", \"family\": \"arial\"}, \"showarrow\": false}, {\"xref\": \"x\", \"yref\": \"y\", \"text\": \"<b>0</b>\", \"align\": \"center\", \"y\": -21, \"x\": 11, \"font\": {\"color\": \"rgb(255, 255, 255)\", \"family\": \"arial\"}, \"showarrow\": false}, {\"xref\": \"x\", \"yref\": \"y\", \"text\": \"<b>0</b>\", \"align\": \"center\", \"y\": -21, \"x\": 12, \"font\": {\"color\": \"rgb(255, 255, 255)\", \"family\": \"arial\"}, \"showarrow\": false}, {\"xref\": \"x\", \"yref\": \"y\", \"text\": \"<b>0</b>\", \"align\": \"center\", \"y\": -21, \"x\": 13, \"font\": {\"color\": \"rgb(255, 255, 255)\", \"family\": \"arial\"}, \"showarrow\": false}, {\"xref\": \"x\", \"yref\": \"y\", \"text\": \"<b>0</b>\", \"align\": \"center\", \"y\": -21, \"x\": 14, \"font\": {\"color\": \"rgb(255, 255, 255)\", \"family\": \"arial\"}, \"showarrow\": false}, {\"xref\": \"x\", \"yref\": \"y\", \"text\": \"<b>0</b>\", \"align\": \"center\", \"y\": -21, \"x\": 15, \"font\": {\"color\": \"rgb(255, 255, 255)\", \"family\": \"arial\"}, \"showarrow\": false}, {\"xref\": \"x\", \"yref\": \"y\", \"text\": \"<b>0</b>\", \"align\": \"center\", \"y\": -21, \"x\": 16, \"font\": {\"color\": \"rgb(255, 255, 255)\", \"family\": \"arial\"}, \"showarrow\": false}, {\"xref\": \"x\", \"yref\": \"y\", \"text\": \"<b>0</b>\", \"align\": \"center\", \"y\": -21, \"x\": 17, \"font\": {\"color\": \"rgb(255, 255, 255)\", \"family\": \"arial\"}, \"showarrow\": false}, {\"xref\": \"x\", \"yref\": \"y\", \"text\": \"<b>0</b>\", \"align\": \"center\", \"y\": -21, \"x\": 18, \"font\": {\"color\": \"rgb(255, 255, 255)\", \"family\": \"arial\"}, \"showarrow\": false}, {\"xref\": \"x\", \"yref\": \"y\", \"text\": \"<b>0</b>\", \"align\": \"center\", \"y\": -21, \"x\": 19, \"font\": {\"color\": \"rgb(255, 255, 255)\", \"family\": \"arial\"}, \"showarrow\": false}, {\"xref\": \"x\", \"yref\": \"y\", \"text\": \"<b>0</b>\", \"align\": \"center\", \"y\": -22, \"x\": 0, \"font\": {\"color\": \"rgb(255, 255, 255)\", \"family\": \"arial\"}, \"showarrow\": false}, {\"xref\": \"x\", \"yref\": \"y\", \"text\": \"<b>0</b>\", \"align\": \"center\", \"y\": -22, \"x\": 1, \"font\": {\"color\": \"rgb(255, 255, 255)\", \"family\": \"arial\"}, \"showarrow\": false}, {\"xref\": \"x\", \"yref\": \"y\", \"text\": \"<b>0</b>\", \"align\": \"center\", \"y\": -22, \"x\": 2, \"font\": {\"color\": \"rgb(255, 255, 255)\", \"family\": \"arial\"}, \"showarrow\": false}, {\"xref\": \"x\", \"yref\": \"y\", \"text\": \"<b>0</b>\", \"align\": \"center\", \"y\": -22, \"x\": 3, \"font\": {\"color\": \"rgb(255, 255, 255)\", \"family\": \"arial\"}, \"showarrow\": false}, {\"xref\": \"x\", \"yref\": \"y\", \"text\": \"<b>0</b>\", \"align\": \"center\", \"y\": -22, \"x\": 4, \"font\": {\"color\": \"rgb(255, 255, 255)\", \"family\": \"arial\"}, \"showarrow\": false}, {\"xref\": \"x\", \"yref\": \"y\", \"text\": \"<b>0</b>\", \"align\": \"center\", \"y\": -22, \"x\": 5, \"font\": {\"color\": \"rgb(255, 255, 255)\", \"family\": \"arial\"}, \"showarrow\": false}, {\"xref\": \"x\", \"yref\": \"y\", \"text\": \"<b>0</b>\", \"align\": \"center\", \"y\": -22, \"x\": 6, \"font\": {\"color\": \"rgb(255, 255, 255)\", \"family\": \"arial\"}, \"showarrow\": false}, {\"xref\": \"x\", \"yref\": \"y\", \"text\": \"<b>0</b>\", \"align\": \"center\", \"y\": -22, \"x\": 7, \"font\": {\"color\": \"rgb(255, 255, 255)\", \"family\": \"arial\"}, \"showarrow\": false}, {\"xref\": \"x\", \"yref\": \"y\", \"text\": \"<b>0</b>\", \"align\": \"center\", \"y\": -22, \"x\": 8, \"font\": {\"color\": \"rgb(255, 255, 255)\", \"family\": \"arial\"}, \"showarrow\": false}, {\"xref\": \"x\", \"yref\": \"y\", \"text\": \"<b>0</b>\", \"align\": \"center\", \"y\": -22, \"x\": 9, \"font\": {\"color\": \"rgb(255, 255, 255)\", \"family\": \"arial\"}, \"showarrow\": false}, {\"xref\": \"x\", \"yref\": \"y\", \"text\": \"<b>0</b>\", \"align\": \"center\", \"y\": -22, \"x\": 10, \"font\": {\"color\": \"rgb(255, 255, 255)\", \"family\": \"arial\"}, \"showarrow\": false}, {\"xref\": \"x\", \"yref\": \"y\", \"text\": \"<b>0</b>\", \"align\": \"center\", \"y\": -22, \"x\": 11, \"font\": {\"color\": \"rgb(255, 255, 255)\", \"family\": \"arial\"}, \"showarrow\": false}, {\"xref\": \"x\", \"yref\": \"y\", \"text\": \"<b>0</b>\", \"align\": \"center\", \"y\": -22, \"x\": 12, \"font\": {\"color\": \"rgb(255, 255, 255)\", \"family\": \"arial\"}, \"showarrow\": false}, {\"xref\": \"x\", \"yref\": \"y\", \"text\": \"<b>0</b>\", \"align\": \"center\", \"y\": -22, \"x\": 13, \"font\": {\"color\": \"rgb(255, 255, 255)\", \"family\": \"arial\"}, \"showarrow\": false}, {\"xref\": \"x\", \"yref\": \"y\", \"text\": \"<b>0</b>\", \"align\": \"center\", \"y\": -22, \"x\": 14, \"font\": {\"color\": \"rgb(255, 255, 255)\", \"family\": \"arial\"}, \"showarrow\": false}, {\"xref\": \"x\", \"yref\": \"y\", \"text\": \"<b>0</b>\", \"align\": \"center\", \"y\": -22, \"x\": 15, \"font\": {\"color\": \"rgb(255, 255, 255)\", \"family\": \"arial\"}, \"showarrow\": false}, {\"xref\": \"x\", \"yref\": \"y\", \"text\": \"<b>0</b>\", \"align\": \"center\", \"y\": -22, \"x\": 16, \"font\": {\"color\": \"rgb(255, 255, 255)\", \"family\": \"arial\"}, \"showarrow\": false}, {\"xref\": \"x\", \"yref\": \"y\", \"text\": \"<b>0</b>\", \"align\": \"center\", \"y\": -22, \"x\": 17, \"font\": {\"color\": \"rgb(255, 255, 255)\", \"family\": \"arial\"}, \"showarrow\": false}, {\"xref\": \"x\", \"yref\": \"y\", \"text\": \"<b>0</b>\", \"align\": \"center\", \"y\": -22, \"x\": 18, \"font\": {\"color\": \"rgb(255, 255, 255)\", \"family\": \"arial\"}, \"showarrow\": false}, {\"xref\": \"x\", \"yref\": \"y\", \"text\": \"<b>0</b>\", \"align\": \"center\", \"y\": -22, \"x\": 19, \"font\": {\"color\": \"rgb(255, 255, 255)\", \"family\": \"arial\"}, \"showarrow\": false}, {\"xref\": \"x\", \"yref\": \"y\", \"text\": \"<b>0</b>\", \"align\": \"center\", \"y\": -23, \"x\": 0, \"font\": {\"color\": \"rgb(255, 255, 255)\", \"family\": \"arial\"}, \"showarrow\": false}, {\"xref\": \"x\", \"yref\": \"y\", \"text\": \"<b>0</b>\", \"align\": \"center\", \"y\": -23, \"x\": 1, \"font\": {\"color\": \"rgb(255, 255, 255)\", \"family\": \"arial\"}, \"showarrow\": false}, {\"xref\": \"x\", \"yref\": \"y\", \"text\": \"<b>0</b>\", \"align\": \"center\", \"y\": -23, \"x\": 2, \"font\": {\"color\": \"rgb(255, 255, 255)\", \"family\": \"arial\"}, \"showarrow\": false}, {\"xref\": \"x\", \"yref\": \"y\", \"text\": \"<b>0</b>\", \"align\": \"center\", \"y\": -23, \"x\": 3, \"font\": {\"color\": \"rgb(255, 255, 255)\", \"family\": \"arial\"}, \"showarrow\": false}, {\"xref\": \"x\", \"yref\": \"y\", \"text\": \"<b>0</b>\", \"align\": \"center\", \"y\": -23, \"x\": 4, \"font\": {\"color\": \"rgb(255, 255, 255)\", \"family\": \"arial\"}, \"showarrow\": false}, {\"xref\": \"x\", \"yref\": \"y\", \"text\": \"<b>0</b>\", \"align\": \"center\", \"y\": -23, \"x\": 5, \"font\": {\"color\": \"rgb(255, 255, 255)\", \"family\": \"arial\"}, \"showarrow\": false}, {\"xref\": \"x\", \"yref\": \"y\", \"text\": \"<b>0</b>\", \"align\": \"center\", \"y\": -23, \"x\": 6, \"font\": {\"color\": \"rgb(255, 255, 255)\", \"family\": \"arial\"}, \"showarrow\": false}, {\"xref\": \"x\", \"yref\": \"y\", \"text\": \"<b>0</b>\", \"align\": \"center\", \"y\": -23, \"x\": 7, \"font\": {\"color\": \"rgb(255, 255, 255)\", \"family\": \"arial\"}, \"showarrow\": false}, {\"xref\": \"x\", \"yref\": \"y\", \"text\": \"<b>0</b>\", \"align\": \"center\", \"y\": -23, \"x\": 8, \"font\": {\"color\": \"rgb(255, 255, 255)\", \"family\": \"arial\"}, \"showarrow\": false}, {\"xref\": \"x\", \"yref\": \"y\", \"text\": \"<b>0</b>\", \"align\": \"center\", \"y\": -23, \"x\": 9, \"font\": {\"color\": \"rgb(255, 255, 255)\", \"family\": \"arial\"}, \"showarrow\": false}, {\"xref\": \"x\", \"yref\": \"y\", \"text\": \"<b>0</b>\", \"align\": \"center\", \"y\": -23, \"x\": 10, \"font\": {\"color\": \"rgb(255, 255, 255)\", \"family\": \"arial\"}, \"showarrow\": false}, {\"xref\": \"x\", \"yref\": \"y\", \"text\": \"<b>0</b>\", \"align\": \"center\", \"y\": -23, \"x\": 11, \"font\": {\"color\": \"rgb(255, 255, 255)\", \"family\": \"arial\"}, \"showarrow\": false}, {\"xref\": \"x\", \"yref\": \"y\", \"text\": \"<b>0</b>\", \"align\": \"center\", \"y\": -23, \"x\": 12, \"font\": {\"color\": \"rgb(255, 255, 255)\", \"family\": \"arial\"}, \"showarrow\": false}, {\"xref\": \"x\", \"yref\": \"y\", \"text\": \"<b>0</b>\", \"align\": \"center\", \"y\": -23, \"x\": 13, \"font\": {\"color\": \"rgb(255, 255, 255)\", \"family\": \"arial\"}, \"showarrow\": false}, {\"xref\": \"x\", \"yref\": \"y\", \"text\": \"<b>0</b>\", \"align\": \"center\", \"y\": -23, \"x\": 14, \"font\": {\"color\": \"rgb(255, 255, 255)\", \"family\": \"arial\"}, \"showarrow\": false}, {\"xref\": \"x\", \"yref\": \"y\", \"text\": \"<b>0</b>\", \"align\": \"center\", \"y\": -23, \"x\": 15, \"font\": {\"color\": \"rgb(255, 255, 255)\", \"family\": \"arial\"}, \"showarrow\": false}, {\"xref\": \"x\", \"yref\": \"y\", \"text\": \"<b>0</b>\", \"align\": \"center\", \"y\": -23, \"x\": 16, \"font\": {\"color\": \"rgb(255, 255, 255)\", \"family\": \"arial\"}, \"showarrow\": false}, {\"xref\": \"x\", \"yref\": \"y\", \"text\": \"<b>0</b>\", \"align\": \"center\", \"y\": -23, \"x\": 17, \"font\": {\"color\": \"rgb(255, 255, 255)\", \"family\": \"arial\"}, \"showarrow\": false}, {\"xref\": \"x\", \"yref\": \"y\", \"text\": \"<b>0</b>\", \"align\": \"center\", \"y\": -23, \"x\": 18, \"font\": {\"color\": \"rgb(255, 255, 255)\", \"family\": \"arial\"}, \"showarrow\": false}, {\"xref\": \"x\", \"yref\": \"y\", \"text\": \"<b>0</b>\", \"align\": \"center\", \"y\": -23, \"x\": 19, \"font\": {\"color\": \"rgb(255, 255, 255)\", \"family\": \"arial\"}, \"showarrow\": false}, {\"xref\": \"x\", \"yref\": \"y\", \"text\": \"<b>0</b>\", \"align\": \"center\", \"y\": -24, \"x\": 0, \"font\": {\"color\": \"rgb(255, 255, 255)\", \"family\": \"arial\"}, \"showarrow\": false}, {\"xref\": \"x\", \"yref\": \"y\", \"text\": \"<b>0</b>\", \"align\": \"center\", \"y\": -24, \"x\": 1, \"font\": {\"color\": \"rgb(255, 255, 255)\", \"family\": \"arial\"}, \"showarrow\": false}, {\"xref\": \"x\", \"yref\": \"y\", \"text\": \"<b>0</b>\", \"align\": \"center\", \"y\": -24, \"x\": 2, \"font\": {\"color\": \"rgb(255, 255, 255)\", \"family\": \"arial\"}, \"showarrow\": false}, {\"xref\": \"x\", \"yref\": \"y\", \"text\": \"<b>0</b>\", \"align\": \"center\", \"y\": -24, \"x\": 3, \"font\": {\"color\": \"rgb(255, 255, 255)\", \"family\": \"arial\"}, \"showarrow\": false}, {\"xref\": \"x\", \"yref\": \"y\", \"text\": \"<b>0</b>\", \"align\": \"center\", \"y\": -24, \"x\": 4, \"font\": {\"color\": \"rgb(255, 255, 255)\", \"family\": \"arial\"}, \"showarrow\": false}, {\"xref\": \"x\", \"yref\": \"y\", \"text\": \"<b>0</b>\", \"align\": \"center\", \"y\": -24, \"x\": 5, \"font\": {\"color\": \"rgb(255, 255, 255)\", \"family\": \"arial\"}, \"showarrow\": false}, {\"xref\": \"x\", \"yref\": \"y\", \"text\": \"<b>0</b>\", \"align\": \"center\", \"y\": -24, \"x\": 6, \"font\": {\"color\": \"rgb(255, 255, 255)\", \"family\": \"arial\"}, \"showarrow\": false}, {\"xref\": \"x\", \"yref\": \"y\", \"text\": \"<b>0</b>\", \"align\": \"center\", \"y\": -24, \"x\": 7, \"font\": {\"color\": \"rgb(255, 255, 255)\", \"family\": \"arial\"}, \"showarrow\": false}, {\"xref\": \"x\", \"yref\": \"y\", \"text\": \"<b>0</b>\", \"align\": \"center\", \"y\": -24, \"x\": 8, \"font\": {\"color\": \"rgb(255, 255, 255)\", \"family\": \"arial\"}, \"showarrow\": false}, {\"xref\": \"x\", \"yref\": \"y\", \"text\": \"<b>0</b>\", \"align\": \"center\", \"y\": -24, \"x\": 9, \"font\": {\"color\": \"rgb(255, 255, 255)\", \"family\": \"arial\"}, \"showarrow\": false}, {\"xref\": \"x\", \"yref\": \"y\", \"text\": \"<b>0</b>\", \"align\": \"center\", \"y\": -24, \"x\": 10, \"font\": {\"color\": \"rgb(255, 255, 255)\", \"family\": \"arial\"}, \"showarrow\": false}, {\"xref\": \"x\", \"yref\": \"y\", \"text\": \"<b>0</b>\", \"align\": \"center\", \"y\": -24, \"x\": 11, \"font\": {\"color\": \"rgb(255, 255, 255)\", \"family\": \"arial\"}, \"showarrow\": false}, {\"xref\": \"x\", \"yref\": \"y\", \"text\": \"<b>0</b>\", \"align\": \"center\", \"y\": -24, \"x\": 12, \"font\": {\"color\": \"rgb(255, 255, 255)\", \"family\": \"arial\"}, \"showarrow\": false}, {\"xref\": \"x\", \"yref\": \"y\", \"text\": \"<b>0</b>\", \"align\": \"center\", \"y\": -24, \"x\": 13, \"font\": {\"color\": \"rgb(255, 255, 255)\", \"family\": \"arial\"}, \"showarrow\": false}, {\"xref\": \"x\", \"yref\": \"y\", \"text\": \"<b>0</b>\", \"align\": \"center\", \"y\": -24, \"x\": 14, \"font\": {\"color\": \"rgb(255, 255, 255)\", \"family\": \"arial\"}, \"showarrow\": false}, {\"xref\": \"x\", \"yref\": \"y\", \"text\": \"<b>0</b>\", \"align\": \"center\", \"y\": -24, \"x\": 15, \"font\": {\"color\": \"rgb(255, 255, 255)\", \"family\": \"arial\"}, \"showarrow\": false}, {\"xref\": \"x\", \"yref\": \"y\", \"text\": \"<b>0</b>\", \"align\": \"center\", \"y\": -24, \"x\": 16, \"font\": {\"color\": \"rgb(255, 255, 255)\", \"family\": \"arial\"}, \"showarrow\": false}, {\"xref\": \"x\", \"yref\": \"y\", \"text\": \"<b>0</b>\", \"align\": \"center\", \"y\": -24, \"x\": 17, \"font\": {\"color\": \"rgb(255, 255, 255)\", \"family\": \"arial\"}, \"showarrow\": false}, {\"xref\": \"x\", \"yref\": \"y\", \"text\": \"<b>0</b>\", \"align\": \"center\", \"y\": -24, \"x\": 18, \"font\": {\"color\": \"rgb(255, 255, 255)\", \"family\": \"arial\"}, \"showarrow\": false}, {\"xref\": \"x\", \"yref\": \"y\", \"text\": \"<b>0</b>\", \"align\": \"center\", \"y\": -24, \"x\": 19, \"font\": {\"color\": \"rgb(255, 255, 255)\", \"family\": \"arial\"}, \"showarrow\": false}, {\"xref\": \"x\", \"yref\": \"y\", \"text\": \"<b>0</b>\", \"align\": \"center\", \"y\": -25, \"x\": 0, \"font\": {\"color\": \"rgb(255, 255, 255)\", \"family\": \"arial\"}, \"showarrow\": false}, {\"xref\": \"x\", \"yref\": \"y\", \"text\": \"<b>0</b>\", \"align\": \"center\", \"y\": -25, \"x\": 1, \"font\": {\"color\": \"rgb(255, 255, 255)\", \"family\": \"arial\"}, \"showarrow\": false}, {\"xref\": \"x\", \"yref\": \"y\", \"text\": \"<b>0</b>\", \"align\": \"center\", \"y\": -25, \"x\": 2, \"font\": {\"color\": \"rgb(255, 255, 255)\", \"family\": \"arial\"}, \"showarrow\": false}, {\"xref\": \"x\", \"yref\": \"y\", \"text\": \"<b>0</b>\", \"align\": \"center\", \"y\": -25, \"x\": 3, \"font\": {\"color\": \"rgb(255, 255, 255)\", \"family\": \"arial\"}, \"showarrow\": false}, {\"xref\": \"x\", \"yref\": \"y\", \"text\": \"<b>0</b>\", \"align\": \"center\", \"y\": -25, \"x\": 4, \"font\": {\"color\": \"rgb(255, 255, 255)\", \"family\": \"arial\"}, \"showarrow\": false}, {\"xref\": \"x\", \"yref\": \"y\", \"text\": \"<b>0</b>\", \"align\": \"center\", \"y\": -25, \"x\": 5, \"font\": {\"color\": \"rgb(255, 255, 255)\", \"family\": \"arial\"}, \"showarrow\": false}, {\"xref\": \"x\", \"yref\": \"y\", \"text\": \"<b>0</b>\", \"align\": \"center\", \"y\": -25, \"x\": 6, \"font\": {\"color\": \"rgb(255, 255, 255)\", \"family\": \"arial\"}, \"showarrow\": false}, {\"xref\": \"x\", \"yref\": \"y\", \"text\": \"<b>0</b>\", \"align\": \"center\", \"y\": -25, \"x\": 7, \"font\": {\"color\": \"rgb(255, 255, 255)\", \"family\": \"arial\"}, \"showarrow\": false}, {\"xref\": \"x\", \"yref\": \"y\", \"text\": \"<b>0</b>\", \"align\": \"center\", \"y\": -25, \"x\": 8, \"font\": {\"color\": \"rgb(255, 255, 255)\", \"family\": \"arial\"}, \"showarrow\": false}, {\"xref\": \"x\", \"yref\": \"y\", \"text\": \"<b>0</b>\", \"align\": \"center\", \"y\": -25, \"x\": 9, \"font\": {\"color\": \"rgb(255, 255, 255)\", \"family\": \"arial\"}, \"showarrow\": false}, {\"xref\": \"x\", \"yref\": \"y\", \"text\": \"<b>0</b>\", \"align\": \"center\", \"y\": -25, \"x\": 10, \"font\": {\"color\": \"rgb(255, 255, 255)\", \"family\": \"arial\"}, \"showarrow\": false}, {\"xref\": \"x\", \"yref\": \"y\", \"text\": \"<b>0</b>\", \"align\": \"center\", \"y\": -25, \"x\": 11, \"font\": {\"color\": \"rgb(255, 255, 255)\", \"family\": \"arial\"}, \"showarrow\": false}, {\"xref\": \"x\", \"yref\": \"y\", \"text\": \"<b>0</b>\", \"align\": \"center\", \"y\": -25, \"x\": 12, \"font\": {\"color\": \"rgb(255, 255, 255)\", \"family\": \"arial\"}, \"showarrow\": false}, {\"xref\": \"x\", \"yref\": \"y\", \"text\": \"<b>0</b>\", \"align\": \"center\", \"y\": -25, \"x\": 13, \"font\": {\"color\": \"rgb(255, 255, 255)\", \"family\": \"arial\"}, \"showarrow\": false}, {\"xref\": \"x\", \"yref\": \"y\", \"text\": \"<b>0</b>\", \"align\": \"center\", \"y\": -25, \"x\": 14, \"font\": {\"color\": \"rgb(255, 255, 255)\", \"family\": \"arial\"}, \"showarrow\": false}, {\"xref\": \"x\", \"yref\": \"y\", \"text\": \"<b>0</b>\", \"align\": \"center\", \"y\": -25, \"x\": 15, \"font\": {\"color\": \"rgb(255, 255, 255)\", \"family\": \"arial\"}, \"showarrow\": false}, {\"xref\": \"x\", \"yref\": \"y\", \"text\": \"<b>0</b>\", \"align\": \"center\", \"y\": -25, \"x\": 16, \"font\": {\"color\": \"rgb(255, 255, 255)\", \"family\": \"arial\"}, \"showarrow\": false}, {\"xref\": \"x\", \"yref\": \"y\", \"text\": \"<b>0</b>\", \"align\": \"center\", \"y\": -25, \"x\": 17, \"font\": {\"color\": \"rgb(255, 255, 255)\", \"family\": \"arial\"}, \"showarrow\": false}, {\"xref\": \"x\", \"yref\": \"y\", \"text\": \"<b>0</b>\", \"align\": \"center\", \"y\": -25, \"x\": 18, \"font\": {\"color\": \"rgb(255, 255, 255)\", \"family\": \"arial\"}, \"showarrow\": false}, {\"xref\": \"x\", \"yref\": \"y\", \"text\": \"<b>0</b>\", \"align\": \"center\", \"y\": -25, \"x\": 19, \"font\": {\"color\": \"rgb(255, 255, 255)\", \"family\": \"arial\"}, \"showarrow\": false}, {\"xref\": \"x\", \"yref\": \"y\", \"text\": \"<b>0</b>\", \"align\": \"center\", \"y\": -26, \"x\": 0, \"font\": {\"color\": \"rgb(255, 255, 255)\", \"family\": \"arial\"}, \"showarrow\": false}, {\"xref\": \"x\", \"yref\": \"y\", \"text\": \"<b>0</b>\", \"align\": \"center\", \"y\": -26, \"x\": 1, \"font\": {\"color\": \"rgb(255, 255, 255)\", \"family\": \"arial\"}, \"showarrow\": false}, {\"xref\": \"x\", \"yref\": \"y\", \"text\": \"<b>0</b>\", \"align\": \"center\", \"y\": -26, \"x\": 2, \"font\": {\"color\": \"rgb(255, 255, 255)\", \"family\": \"arial\"}, \"showarrow\": false}, {\"xref\": \"x\", \"yref\": \"y\", \"text\": \"<i>\\u2190 Lower</i>\", \"textangle\": -90, \"y\": -25.5, \"x\": -0.75, \"font\": {\"color\": \"rgb(160, 160, 160)\", \"family\": \"arial\", \"size\": 14}, \"showarrow\": false}, {\"xref\": \"x\", \"yref\": \"y\", \"text\": \"<i>Higher \\u2192</i>\", \"textangle\": -90, \"y\": -0.5, \"x\": -0.75, \"font\": {\"color\": \"rgb(160, 160, 160)\", \"family\": \"arial\", \"size\": 14}, \"showarrow\": false}, {\"xref\": \"x\", \"yref\": \"y\", \"text\": \"<b>Percent of Congress Members'<br>Tweets That Relate to DACA</b>\", \"y\": 2.5, \"x\": 9.5, \"font\": {\"color\": \"rgb(102, 102, 102)\", \"family\": \"arial\", \"size\": 32}, \"showarrow\": false}, {\"yanchor\": \"center\", \"xref\": \"x\", \"xanchor\": \"right\", \"yref\": \"y\", \"text\": \"<i>Tweets collected alphabetically by username on 2018/01/15 - 2018/01/17.<br>Tweets relate to DACA if they include 'daca' or 'dreamers'.</i>\", \"align\": \"right\", \"y\": -26, \"x\": 19.5, \"font\": {\"color\": \"rgb(160, 160, 160)\", \"family\": \"arial\", \"size\": 12}, \"showarrow\": false}]}, {\"linkText\": \"Export to plot.ly\", \"showLink\": true})});</script>"
      ]
     },
     "metadata": {},
     "output_type": "display_data"
    }
   ],
   "source": [
    "# -- Constants.\n",
    "size = 1\n",
    "data = []\n",
    "shapes = []\n",
    "annotations = []\n",
    "# -- For each party create trace.\n",
    "for party in [\"D\", \"R\", \"NA\", \"I\"]:\n",
    "    trace = go.Scatter(\n",
    "        x=df[df.party == party].xx,\n",
    "        y=df[df.party == party].yy,\n",
    "        mode=\"markers\",\n",
    "        marker=dict(size=size, color=df[df.party == party].colors),\n",
    "        text=df[df.party == party].text,\n",
    "        hoverinfo=\"text\",\n",
    "    )\n",
    "    data.append(trace)\n",
    "# -- Create shapes and annotations.\n",
    "for idx, rep in df.iterrows():\n",
    "    shape = {\"type\": \"rect\",\n",
    "             \"x0\": rep.xx - 0.4,\n",
    "             \"y0\": rep.yy - 0.4,\n",
    "             \"x1\": rep.xx + 0.4,\n",
    "             \"y1\": rep.yy + 0.4,\n",
    "             \"line\": {\"width\": 0},\n",
    "             \"fillcolor\": rep.colors}\n",
    "    if rep.ndaca_percent == 0:\n",
    "        anno = \"0\"\n",
    "    elif rep.ndaca_percent < 0.95:\n",
    "        anno = \"{:.1f}\".format(rep.ndaca_percent)[1:]\n",
    "        \n",
    "    else:\n",
    "        anno = \"{:.0f}\".format(rep.ndaca_percent)\n",
    "    annotation = {\"x\": rep.xx,\n",
    "                  \"y\": rep.yy,\n",
    "                  \"xref\": \"x\",\n",
    "                  \"yref\": \"y\",\n",
    "                  \"text\": \"<b>{}</b>\".format(anno),\n",
    "                  \"showarrow\": False,\n",
    "                  \"align\": \"center\",\n",
    "                  \"font\": dict(color=\"rgb(255, 255, 255)\",\n",
    "                               family=\"arial\")}\n",
    "    shapes.append(shape)\n",
    "    annotations.append(annotation)\n",
    "less = {\"x\": -.75,\n",
    "        \"y\": df.yy.min() + 0.5,\n",
    "        \"textangle\": -90,\n",
    "        \"xref\": \"x\",\n",
    "        \"yref\": \"y\",\n",
    "        \"text\": \"<i>← Lower</i>\",\n",
    "        \"showarrow\": False,\n",
    "        \"font\": dict(color=\"rgb(160, 160, 160)\", family=\"arial\", size=14)}\n",
    "more = {\"x\": -.75,\n",
    "        \"y\": df.yy.max() - 0.5,\n",
    "        \"textangle\": -90,\n",
    "        \"xref\": \"x\",\n",
    "        \"yref\": \"y\",\n",
    "        \"text\": \"<i>Higher →</i>\",\n",
    "        \"showarrow\": False,\n",
    "        \"font\": dict(color=\"rgb(160, 160, 160)\", family=\"arial\", size=14)}\n",
    "title = {\"x\": df.xx.max() / 2.,\n",
    "         \"y\": df.yy.max() + 2.5,\n",
    "         \"xref\": \"x\",\n",
    "         \"yref\": \"y\",\n",
    "         \"text\": \"<b>Percent of Congress Members'<br>Tweets That Relate to DACA</b>\",\n",
    "         \"showarrow\": False,\n",
    "         \"font\": dict(color=\"rgb(102, 102, 102)\", \n",
    "                      family=\"arial\", size=32)}\n",
    "note = {\"x\": df.xx.max() + 0.5,\n",
    "        \"y\": df.yy.min(),\n",
    "        \"xanchor\": \"right\",\n",
    "        \"yanchor\": \"center\",\n",
    "        \"xref\": \"x\",\n",
    "        \"yref\": \"y\",\n",
    "        \"align\": \"right\",\n",
    "        \"text\": \"<i>Tweets collected alphabetically by username on 2018/01/15 - 2018/01/17.<br>Tweets relate to DACA if they include 'daca' or 'dreamers'.</i>\",\n",
    "        \"showarrow\": False,\n",
    "        \"font\": dict(color=\"rgb(160, 160, 160)\", family=\"arial\", size=12)}\n",
    "for annotation in [less, more, title, note]:\n",
    "    annotations.append(annotation)\n",
    "# -- Create plot layout.\n",
    "layout= go.Layout(\n",
    "    hovermode=\"closest\",\n",
    "    height=1300,\n",
    "    xaxis= dict(\n",
    "        zeroline= False,\n",
    "        showgrid=False,\n",
    "        showticklabels=False\n",
    "    ),\n",
    "    yaxis=dict(\n",
    "        zeroline= False,\n",
    "        showgrid=False,\n",
    "        showticklabels=False\n",
    "    ),\n",
    "    showlegend= False,\n",
    "    shapes=shapes,\n",
    "    annotations=annotations\n",
    ")\n",
    "# --\n",
    "fig = go.Figure(data=data, layout=layout)\n",
    "iplot(fig)"
   ]
  },
  {
   "cell_type": "code",
   "execution_count": null,
   "metadata": {
    "collapsed": true
   },
   "outputs": [],
   "source": []
  }
 ],
 "metadata": {
  "kernelspec": {
   "display_name": "Python 2",
   "language": "python",
   "name": "python2"
  },
  "language_info": {
   "codemirror_mode": {
    "name": "ipython",
    "version": 2
   },
   "file_extension": ".py",
   "mimetype": "text/x-python",
   "name": "python",
   "nbconvert_exporter": "python",
   "pygments_lexer": "ipython2",
   "version": "2.7.12"
  }
 },
 "nbformat": 4,
 "nbformat_minor": 2
}
